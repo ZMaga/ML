{
 "cells": [
  {
   "cell_type": "markdown",
   "metadata": {},
   "source": [
    "# Исследование объявлений о продаже квартир\n",
    "\n",
    "Данные сервиса Яндекс.Недвижимость — архив объявлений о продаже квартир в Санкт-Петербурге и соседних населённых пунктов за несколько лет. Нужно определить рыночную стоимость объектов недвижимости. Задача — установить параметры. Это позволит построить автоматизированную систему: отследить аномалии и мошенническую деятельность. \n",
    "\n",
    "По каждой квартире на продажу доступны два вида данных:\n",
    "1. Вписаны пользователем.\n",
    "2. Получены автоматически на основе картографических данных. Например, расстояние до центра, аэропорта, ближайшего парка и водоёма. "
   ]
  },
  {
   "cell_type": "markdown",
   "metadata": {},
   "source": [
    "## 1. Описание данных\n",
    "\n",
    "\n",
    "* _airports_nearest_ — расстояние до ближайшего аэропорта в метрах (м)\n",
    "* _balcony_ — число балконов\n",
    "* _ceiling_height_ — высота потолков (м)\n",
    "* _cityCenters_nearest_ — расстояние до центра города (м)\n",
    "* _days_exposition_ — сколько дней было размещено объявление (от публикации до снятия)\n",
    "* _first_day_exposition_ — дата публикации\n",
    "* _floor_ — этаж\n",
    "* _floors_total_ — всего этажей в доме\n",
    "* _is_apartment_ — апартаменты (булев тип)\n",
    "* _kitchen_area_ — площадь кухни в квадратных метрах (м²)\n",
    "* _last_price_ — цена на момент снятия с публикации\n",
    "* _living_area_ — жилая площадь в квадратных метрах(м²)\n",
    "* _locality_name_ — название населённого пункта\n",
    "* _open_plan_ — свободная планировка (булев тип)\n",
    "* _parks_around3000_ — число парков в радиусе 3 км\n",
    "* _parks_nearest_ — расстояние до ближайшего парка (м)\n",
    "* _ponds_around3000_ — число водоёмов в радиусе 3 км\n",
    "* _ponds_nearest_ — расстояние до ближайшего водоёма (м)\n",
    "* _rooms_ — число комнат\n",
    "* _studio_ — квартира-студия (булев тип)\n",
    "* _total_area_ — площадь квартиры в квадратных метрах (м²)\n",
    "* _total_images_ — число фотографий квартиры в объявлении"
   ]
  },
  {
   "cell_type": "markdown",
   "metadata": {},
   "source": [
    "## 2. Импорт модулей"
   ]
  },
  {
   "cell_type": "code",
   "execution_count": null,
   "metadata": {
    "ExecuteTime": {
     "end_time": "2020-09-20T21:52:22.615113Z",
     "start_time": "2020-09-20T21:52:13.786302Z"
    }
   },
   "outputs": [],
   "source": [
    "import re\n",
    "import pandas as pd\n",
    "import seaborn as sns; sns.set()\n",
    "import matplotlib.pyplot as plt"
   ]
  },
  {
   "cell_type": "markdown",
   "metadata": {},
   "source": [
    "## 3. Функции"
   ]
  },
  {
   "cell_type": "code",
   "execution_count": null,
   "metadata": {
    "ExecuteTime": {
     "end_time": "2020-09-20T21:52:22.629163Z",
     "start_time": "2020-09-20T21:52:22.619703Z"
    }
   },
   "outputs": [],
   "source": [
    "def check_df_nan(data):\n",
    "    \"\"\"\n",
    "    Получение количества пропусков в процентном соотношении (и типы данных \n",
    "    для каждого столбца с пропусками)\n",
    "    data - таблица с данными\n",
    "    \"\"\"\n",
    "    \n",
    "    df_length = data.shape[0]\n",
    "    null_stat = {}\n",
    "\n",
    "    for col in data.columns:\n",
    "        col_nan = data[data[col].isnull()].shape[0]\n",
    "        pct = col_nan / df_length * 100\n",
    "\n",
    "        if pct > 0:\n",
    "            null_stat[col] = [round(pct, 1), data[col].dtype]\n",
    "    \n",
    "    info = (pd.DataFrame\n",
    "     .from_dict(null_stat, orient='index', columns=['percentage', 'data_type'])\n",
    "     .sort_values(by='percentage', ascending=False)\n",
    "    )\n",
    "    \n",
    "    return info"
   ]
  },
  {
   "cell_type": "code",
   "execution_count": null,
   "metadata": {
    "ExecuteTime": {
     "end_time": "2020-09-20T21:52:22.763944Z",
     "start_time": "2020-09-20T21:52:22.632930Z"
    }
   },
   "outputs": [],
   "source": [
    "# добавим категории типа населенного пункта\n",
    "def get_locality_category(name):\n",
    "    options = ['деревня', 'снт', 'коттеджный посёлок', 'посёлок', 'село']\n",
    "    \n",
    "    for option in options:\n",
    "        temp = r'^{}'.format(option)\n",
    "        \n",
    "        if re.findall(temp, name):\n",
    "            return option\n",
    "    \n",
    "    if name == 'санкт-петербург':\n",
    "        return 'мегаполис'\n",
    "    \n",
    "    return 'город'"
   ]
  },
  {
   "cell_type": "code",
   "execution_count": null,
   "metadata": {
    "ExecuteTime": {
     "end_time": "2020-09-20T21:52:22.843466Z",
     "start_time": "2020-09-20T21:52:22.766622Z"
    }
   },
   "outputs": [],
   "source": [
    "def check_center_nearest_nan(data, group, full=False):\n",
    "    for gr, dt in df.groupby(group):\n",
    "        nan_count = len(dt[dt['center_nearest'].isna()])\n",
    "        total_count = len(dt)\n",
    "        info = '{}\\t{}/{}'.format(gr, nan_count, total_count)\n",
    "        \n",
    "        if full and nan_count == total_count:\n",
    "            print(info)\n",
    "            continue\n",
    "            \n",
    "        if nan_count:\n",
    "            print(info)"
   ]
  },
  {
   "cell_type": "code",
   "execution_count": null,
   "metadata": {
    "ExecuteTime": {
     "end_time": "2020-09-20T21:52:22.932138Z",
     "start_time": "2020-09-20T21:52:22.846242Z"
    }
   },
   "outputs": [],
   "source": [
    "# функция определения категории этажа\n",
    "def set_floor_category(floor, total):\n",
    "    if floor == 1:\n",
    "        return 'первый'\n",
    "    \n",
    "    if floor == total:\n",
    "        return 'последний'\n",
    "    else:\n",
    "        return 'другой'"
   ]
  },
  {
   "cell_type": "code",
   "execution_count": null,
   "metadata": {
    "ExecuteTime": {
     "end_time": "2020-09-20T21:52:23.032354Z",
     "start_time": "2020-09-20T21:52:22.935298Z"
    }
   },
   "outputs": [],
   "source": [
    "# функция определения категории этажа в числовом обозначении\n",
    "def set_floor_category_num(floor, total):\n",
    "    if floor == 1:\n",
    "        return 0\n",
    "    \n",
    "    if floor == total:\n",
    "        return 1\n",
    "    else:\n",
    "        return 2"
   ]
  },
  {
   "cell_type": "code",
   "execution_count": null,
   "metadata": {
    "ExecuteTime": {
     "end_time": "2020-09-20T21:52:23.156515Z",
     "start_time": "2020-09-20T21:52:23.038306Z"
    }
   },
   "outputs": [],
   "source": [
    "# функция получения:\n",
    "#   - описания указанных данных\n",
    "#   - ущика с усами\n",
    "#   - гистограммы указанных значений \n",
    "\n",
    "def get_data_info(data, column, dsc=True, boxplot=False, hist=False):\n",
    "    cnt = 0\n",
    "    print(\"Информация о данных столбца '{}'\".format(column))\n",
    "    \n",
    "    short_data = data[[column]]\n",
    "    \n",
    "    if dsc:\n",
    "        cnt += 1\n",
    "        print(\"\\n{}. Описание\".format(cnt))\n",
    "        print(short_data.describe())\n",
    "        \n",
    "    if boxplot:\n",
    "        cnt += 1\n",
    "        print(\"\\n{}. Диаграмма размаха\".format(cnt))\n",
    "        short_data.plot.box(grid=True)\n",
    "        plt.show()\n",
    "        \n",
    "    if hist:\n",
    "        cnt += 1\n",
    "        bins = len(short_data[column].unique())\n",
    "        \n",
    "        ylim = short_data.max() + short_data.std()\n",
    "        Q1 = data[column].quantile(0.25)\n",
    "        Q3 = data[column].quantile(0.75)\n",
    "        IQR = Q3 - Q1\n",
    "    \n",
    "        p = Q1 - 1.5 * IQR\n",
    "        llim = 0 if p < 0 else p\n",
    "        rlim = Q3 + 1.5 * IQR\n",
    "        \n",
    "        print(\"\\n{}. Гистограмма\".format(cnt))\n",
    "        short_data.plot.hist(bins=bins,\n",
    "                             xlim=(llim,rlim),\n",
    "                             grid=True,\n",
    "                             legend=True,\n",
    "                             title=\"Распределение '{}'\".format(column)\n",
    "                            )\n",
    "        plt.show()"
   ]
  },
  {
   "cell_type": "code",
   "execution_count": null,
   "metadata": {
    "ExecuteTime": {
     "end_time": "2020-09-20T21:52:23.243433Z",
     "start_time": "2020-09-20T21:52:23.160109Z"
    }
   },
   "outputs": [],
   "source": [
    "# функция для построения графиков для списка параметров keys\n",
    "def get_price_depend(data, keys, ylabel='last_price', title=None):\n",
    "    if not title:\n",
    "        title = \"Зависимость цены {} от параметра '{}'\"\n",
    "        \n",
    "    for key in keys:\n",
    "        print(title.format(ylabel, key))\n",
    "        data.plot.scatter(x=key, y=ylabel, c='c')\n",
    "        plt.show()"
   ]
  },
  {
   "cell_type": "code",
   "execution_count": null,
   "metadata": {
    "ExecuteTime": {
     "end_time": "2020-09-20T21:52:23.367415Z",
     "start_time": "2020-09-20T21:52:23.246130Z"
    }
   },
   "outputs": [],
   "source": [
    "# функция для визуализации матрицы корреляции\n",
    "def corr_visual(corr_df):\n",
    "    return sns.heatmap(corr_df, linewidths=.5, cmap=\"coolwarm\", annot=True)"
   ]
  },
  {
   "cell_type": "code",
   "execution_count": null,
   "metadata": {},
   "outputs": [],
   "source": []
  },
  {
   "cell_type": "markdown",
   "metadata": {},
   "source": [
    "## 4. Загрузка данных"
   ]
  },
  {
   "cell_type": "code",
   "execution_count": null,
   "metadata": {
    "ExecuteTime": {
     "end_time": "2020-09-20T21:52:23.716525Z",
     "start_time": "2020-09-20T21:52:23.371011Z"
    }
   },
   "outputs": [],
   "source": [
    "df = pd.read_csv('/datasets/real_estate_data.csv', sep='\\t')\n",
    "df.info()"
   ]
  },
  {
   "cell_type": "code",
   "execution_count": null,
   "metadata": {
    "ExecuteTime": {
     "end_time": "2020-09-20T21:52:23.823547Z",
     "start_time": "2020-09-20T21:52:23.719930Z"
    }
   },
   "outputs": [],
   "source": [
    "df.head()"
   ]
  },
  {
   "cell_type": "code",
   "execution_count": null,
   "metadata": {
    "ExecuteTime": {
     "end_time": "2020-09-20T21:52:23.896759Z",
     "start_time": "2020-09-20T21:52:23.827014Z"
    }
   },
   "outputs": [],
   "source": [
    "df['locality_name'].value_counts().sort_index()[160:170]"
   ]
  },
  {
   "cell_type": "markdown",
   "metadata": {},
   "source": [
    "В данных выявлено:\n",
    "* количество объектов - 23699\n",
    "* имеются пропуски значений в 14 столбцах:\n",
    "    - ceiling_height\n",
    "    - floors_total\n",
    "    - living_area\n",
    "    - is_apartment\n",
    "    - kitchen_area\n",
    "    - balcony\n",
    "    - locality_name\n",
    "    - airports_nearest\n",
    "    - cityCenters_nearest\n",
    "    - parks_around3000\n",
    "    - parks_nearest\n",
    "    - ponds_around3000\n",
    "    - ponds_nearest\n",
    "    - days_exposition\n",
    "* данные представлены для разных населенных пукнтов: города, посёлки, деревни, сёла\n",
    "* значения представлены числами с плавающей точкой, строками,  целочисленными и булевыми значениями\n",
    "* встречаются названия одинаковых населенных пунктов, написанных по-разному (_\"поселок\", \"посёлок\", \"поселок городского типа\"_ )"
   ]
  },
  {
   "cell_type": "markdown",
   "metadata": {},
   "source": [
    "## 5. Предобработка данных"
   ]
  },
  {
   "cell_type": "markdown",
   "metadata": {},
   "source": [
    "### 5.1 Анализ количества пропусков в данных"
   ]
  },
  {
   "cell_type": "code",
   "execution_count": null,
   "metadata": {
    "ExecuteTime": {
     "end_time": "2020-09-20T21:52:24.083966Z",
     "start_time": "2020-09-20T21:52:23.900176Z"
    }
   },
   "outputs": [],
   "source": [
    "check_df_nan(df)"
   ]
  },
  {
   "cell_type": "markdown",
   "metadata": {},
   "source": [
    "### 5.2 Заполнение данных и изменение типов"
   ]
  },
  {
   "cell_type": "markdown",
   "metadata": {},
   "source": [
    "**Признак _\"last_price\"_**\n",
    "\n",
    "Пропусков нет. Переведем значения к целочисленному типу, как принято указывать цены на недвижимость."
   ]
  },
  {
   "cell_type": "code",
   "execution_count": null,
   "metadata": {
    "ExecuteTime": {
     "end_time": "2020-09-20T21:52:24.105386Z",
     "start_time": "2020-09-20T21:52:24.087297Z"
    }
   },
   "outputs": [],
   "source": [
    "df['last_price'] = df['last_price'].astype('int')\n",
    "\n",
    "# проверка\n",
    "df['last_price'].dtypes"
   ]
  },
  {
   "cell_type": "markdown",
   "metadata": {},
   "source": [
    "**Признак _\"is_apartment\"_**\n",
    "\n",
    "Пропуски в признаке \"is_apartment\" скорее всего говорит о том, что  объект - не апартаменты."
   ]
  },
  {
   "cell_type": "code",
   "execution_count": null,
   "metadata": {
    "ExecuteTime": {
     "end_time": "2020-09-20T21:52:24.213964Z",
     "start_time": "2020-09-20T21:52:24.108713Z"
    }
   },
   "outputs": [],
   "source": [
    "df['is_apartment'].fillna(False, inplace=True)\n",
    "\n",
    "# проверка\n",
    "df['is_apartment'].value_counts(dropna=False)"
   ]
  },
  {
   "cell_type": "code",
   "execution_count": null,
   "metadata": {
    "ExecuteTime": {
     "end_time": "2020-09-20T21:52:24.308103Z",
     "start_time": "2020-09-20T21:52:24.217582Z"
    }
   },
   "outputs": [],
   "source": [
    "# проверяем тип данных\n",
    "df[['is_apartment']].dtypes"
   ]
  },
  {
   "cell_type": "markdown",
   "metadata": {},
   "source": [
    "**Признак _\"balcony\"_**\n",
    "\n",
    "Пропуски в признаке \"balcony\" скорее всего говорит о том, что балкона нет."
   ]
  },
  {
   "cell_type": "code",
   "execution_count": null,
   "metadata": {
    "ExecuteTime": {
     "end_time": "2020-09-20T21:52:24.405199Z",
     "start_time": "2020-09-20T21:52:24.312044Z"
    }
   },
   "outputs": [],
   "source": [
    "df['balcony'].fillna(0, inplace=True)\n",
    "\n",
    "# проверка\n",
    "df['balcony'].value_counts(dropna=False)"
   ]
  },
  {
   "cell_type": "code",
   "execution_count": null,
   "metadata": {
    "ExecuteTime": {
     "end_time": "2020-09-20T21:52:24.511532Z",
     "start_time": "2020-09-20T21:52:24.408576Z"
    }
   },
   "outputs": [],
   "source": [
    "# переведем тип в целочисленный, так как для данного признака это более подходящий\n",
    "df['balcony'] = df['balcony'].astype('int')\n",
    "\n",
    "# проверяем тип данных\n",
    "df[['balcony']].dtypes"
   ]
  },
  {
   "cell_type": "markdown",
   "metadata": {},
   "source": [
    "**Признак _\"locality_name\"_**\n",
    "\n",
    "Пропуски в признаке \"locality_name\" составляют всего 0.02%. В то же время, это независимый признак и непонятно, на что его заменить. Поэтому удалим записи с подобными пропусками."
   ]
  },
  {
   "cell_type": "code",
   "execution_count": null,
   "metadata": {
    "ExecuteTime": {
     "end_time": "2020-09-20T21:52:24.708668Z",
     "start_time": "2020-09-20T21:52:24.514791Z"
    }
   },
   "outputs": [],
   "source": [
    "# получаем индексы с пропущенными названиями населенного пункта и удаляем по индексам записи\n",
    "locality_missing_idx = df[df['locality_name'].isnull()].index\n",
    "df = df.drop(locality_missing_idx, axis=0)\n",
    "\n",
    "# проверка\n",
    "df[df['locality_name'].isnull()].shape[0]"
   ]
  },
  {
   "cell_type": "code",
   "execution_count": null,
   "metadata": {
    "ExecuteTime": {
     "end_time": "2020-09-20T21:52:24.993264Z",
     "start_time": "2020-09-20T21:52:24.711144Z"
    }
   },
   "outputs": [],
   "source": [
    "# убираем неcогласованность данных в 'locality_name'\n",
    "df['locality_name'] = df['locality_name'].str.lower()\n",
    "df['locality_name'] = df['locality_name'].str.strip()\n",
    "\n",
    "# заменяем вариации посёлка на \"посёлок\"\n",
    "temp = r'поселок|посёлок городского типа|городской посёлок|посёлок станции'\n",
    "df['locality_name'] = df['locality_name'].str.replace(temp, 'посёлок')\n",
    "df['locality_name'] = df['locality_name'].str.replace('при железнодорожной станции ', '')\n",
    "\n",
    "# заменяем вариации СНТ на \"снт\"\n",
    "temp = r'садоводческое некоммерческое товарищество|садовое товарищество'\n",
    "df['locality_name'] = df['locality_name'].str.replace(temp, 'снт')\n",
    "\n",
    "# проверка\n",
    "temp = r'деревня|^посёлок|снт|коттеджный посёлок|село'\n",
    "df[~(df['locality_name'].str.contains(temp))]['locality_name'].sort_values().unique()"
   ]
  },
  {
   "cell_type": "code",
   "execution_count": null,
   "metadata": {
    "ExecuteTime": {
     "end_time": "2020-09-20T21:52:25.363910Z",
     "start_time": "2020-09-20T21:52:24.996020Z"
    }
   },
   "outputs": [],
   "source": [
    "df['locality_category'] = df['locality_name'].apply(get_locality_category)\n",
    "df['locality_category'].value_counts()"
   ]
  },
  {
   "cell_type": "markdown",
   "metadata": {},
   "source": [
    "**Признак _\"floors_total\"_**\n",
    "\n",
    "Пропуски в признаке \"floors_total\" заполним на медианные значения для каждого города, так как группировка по _типу_ населенного пункта будет слишком крупной."
   ]
  },
  {
   "cell_type": "code",
   "execution_count": null,
   "metadata": {
    "ExecuteTime": {
     "end_time": "2020-09-20T21:52:25.394149Z",
     "start_time": "2020-09-20T21:52:25.371029Z"
    }
   },
   "outputs": [],
   "source": [
    "locality_floors_stat = df.groupby('locality_name')['floors_total'].median()\n",
    "locality_floors_stat.head(10)"
   ]
  },
  {
   "cell_type": "code",
   "execution_count": null,
   "metadata": {
    "ExecuteTime": {
     "end_time": "2020-09-20T21:52:27.526074Z",
     "start_time": "2020-09-20T21:52:25.398669Z"
    }
   },
   "outputs": [],
   "source": [
    "for col in locality_floors_stat.index:\n",
    "    med = locality_floors_stat[col]\n",
    "    mask = df['locality_name'] == col \n",
    "    df.loc[mask,'floors_total'] = df.loc[mask,'floors_total'].fillna(med)\n",
    "\n",
    "# проверка\n",
    "df[df['floors_total'].isna()].shape[0]"
   ]
  },
  {
   "cell_type": "code",
   "execution_count": null,
   "metadata": {
    "ExecuteTime": {
     "end_time": "2020-09-20T21:52:27.538913Z",
     "start_time": "2020-09-20T21:52:27.530339Z"
    }
   },
   "outputs": [],
   "source": [
    "# количество этажей должно быть целочисленным значением\n",
    "df['floors_total'] = df['floors_total'].astype('int')\n",
    "df['floors_total'].dtypes"
   ]
  },
  {
   "cell_type": "markdown",
   "metadata": {},
   "source": [
    "**Признак _\"rooms\"_**\n",
    "\n",
    "Если комнат 0, значит это или пропуск,  или открытая планировка."
   ]
  },
  {
   "cell_type": "code",
   "execution_count": null,
   "metadata": {
    "ExecuteTime": {
     "end_time": "2020-09-20T21:52:27.626731Z",
     "start_time": "2020-09-20T21:52:27.541588Z"
    }
   },
   "outputs": [],
   "source": [
    "# общее количество пропусков\n",
    "zero_rooms = df[df['rooms'] == 0]['rooms'].count()\n",
    "zero_rooms"
   ]
  },
  {
   "cell_type": "code",
   "execution_count": null,
   "metadata": {
    "ExecuteTime": {
     "end_time": "2020-09-20T21:52:27.717360Z",
     "start_time": "2020-09-20T21:52:27.629373Z"
    }
   },
   "outputs": [],
   "source": [
    "# сколько из 0-комнатных - с открытой планировкой\n",
    "zero_rooms_open = df[(df['rooms'] == 0) & (df['open_plan'] == True)]['open_plan'].value_counts()\n",
    "zero_rooms_open"
   ]
  },
  {
   "cell_type": "code",
   "execution_count": null,
   "metadata": {
    "ExecuteTime": {
     "end_time": "2020-09-20T21:52:27.843538Z",
     "start_time": "2020-09-20T21:52:27.719781Z"
    }
   },
   "outputs": [],
   "source": [
    "# являются ли студией 0-комнатные квартиры без открытой планировки\n",
    "zero_rooms_studio = df[(df['rooms'] == 0) & (df['open_plan'] == False)]['studio'].value_counts()\n",
    "zero_rooms_studio"
   ]
  },
  {
   "cell_type": "code",
   "execution_count": null,
   "metadata": {
    "ExecuteTime": {
     "end_time": "2020-09-20T21:52:28.226388Z",
     "start_time": "2020-09-20T21:52:27.846144Z"
    }
   },
   "outputs": [],
   "source": [
    "zero_rooms_open + zero_rooms_studio "
   ]
  },
  {
   "cell_type": "markdown",
   "metadata": {},
   "source": [
    "Если 0-комнатные квартиры без открытой планировки, то это студия и заодно - неявный пропуск. Заменим 0 значения комнат для студий на 1."
   ]
  },
  {
   "cell_type": "code",
   "execution_count": null,
   "metadata": {
    "ExecuteTime": {
     "end_time": "2020-09-20T21:52:28.253400Z",
     "start_time": "2020-09-20T21:52:28.229568Z"
    }
   },
   "outputs": [],
   "source": [
    "mask = ((df['rooms'] == 0) & (df['studio'] == True))\n",
    "df.loc[mask, 'rooms'] = df.loc[mask, 'rooms'].replace(to_replace=0, value=1)\n",
    "\n",
    "# проверка\n",
    "print(df[(df['rooms'] == 0) & (df['studio'] == True)].shape[0])"
   ]
  },
  {
   "cell_type": "markdown",
   "metadata": {},
   "source": [
    "**Признаки _\"kitchen_area\"_ и  _\"living_area\"_**"
   ]
  },
  {
   "cell_type": "code",
   "execution_count": null,
   "metadata": {
    "ExecuteTime": {
     "end_time": "2020-09-20T21:52:28.349582Z",
     "start_time": "2020-09-20T21:52:28.256691Z"
    }
   },
   "outputs": [],
   "source": [
    "# количество пропусков\n",
    "print('kitchen_area:', df[df['kitchen_area'].isna()].shape[0])\n",
    "print('living_area: ', df[df['living_area'].isna()].shape[0])"
   ]
  },
  {
   "cell_type": "code",
   "execution_count": null,
   "metadata": {
    "ExecuteTime": {
     "end_time": "2020-09-20T21:52:28.460894Z",
     "start_time": "2020-09-20T21:52:28.352450Z"
    }
   },
   "outputs": [],
   "source": [
    "# если открытая планировка или студия, то кухня будет 0\n",
    "col_list = ['kitchen_area', 'living_area']\n",
    "mask = ((df['open_plan'] == True) | (df['studio'] == True))\n",
    "df.loc[mask, col_list] = df.loc[mask, col_list].fillna(0)\n",
    "\n",
    "# остальное\n",
    "print('Осталось пропусков')\n",
    "print('kitchen_area - ', df[df['kitchen_area'].isna()].shape[0])\n",
    "print('living_area  - ', df[df['living_area'].isna()].shape[0])"
   ]
  },
  {
   "cell_type": "code",
   "execution_count": null,
   "metadata": {
    "ExecuteTime": {
     "end_time": "2020-09-20T21:52:28.550595Z",
     "start_time": "2020-09-20T21:52:28.464199Z"
    }
   },
   "outputs": [],
   "source": [
    "# пропуски kitchen_area, сгруппированные по количеству комнат\n",
    "df[df['kitchen_area'].isna()]['rooms'].value_counts().sort_index()"
   ]
  },
  {
   "cell_type": "code",
   "execution_count": null,
   "metadata": {
    "ExecuteTime": {
     "end_time": "2020-09-20T21:52:28.650761Z",
     "start_time": "2020-09-20T21:52:28.553059Z"
    }
   },
   "outputs": [],
   "source": [
    "# пропуски living_area, сгруппированные по количеству комнат\n",
    "df[df['living_area'].isna()]['rooms'].value_counts().sort_index()"
   ]
  },
  {
   "cell_type": "code",
   "execution_count": null,
   "metadata": {
    "ExecuteTime": {
     "end_time": "2020-09-20T21:52:28.747432Z",
     "start_time": "2020-09-20T21:52:28.654078Z"
    }
   },
   "outputs": [],
   "source": [
    "# в отличие от living_area, kitchen_area имеет пропуски и для 8-комнатных квартир\n",
    "# создадим общий список для последующего заполнения пропусков, возьмем его от kitchen_area\n",
    "\n",
    "room_groups = df[df['kitchen_area'].isna()]['rooms'].value_counts().index"
   ]
  },
  {
   "cell_type": "code",
   "execution_count": null,
   "metadata": {
    "ExecuteTime": {
     "end_time": "2020-09-20T21:52:28.915227Z",
     "start_time": "2020-09-20T21:52:28.753261Z"
    }
   },
   "outputs": [],
   "source": [
    "# Найдем медиану площади кухни для квартир с разным количеством комнат\n",
    "def get_area_stat(data, group, column):\n",
    "#     stat = df[~(df[column].isna()) & (df[group] != 0)].groupby(group).agg({column:['median', 'mean']})\n",
    "    stat = df[~(df[column].isna())].groupby(group).agg({column:['median', 'mean']})\n",
    "    stat.columns = ['area_median', 'area_mean']\n",
    "    return stat\n",
    "    \n",
    "kitchen_area_stat = get_area_stat(df, 'rooms', 'kitchen_area')\n",
    "living_area_stat = get_area_stat(df, 'rooms', 'living_area')\n",
    "\n",
    "kitchen_area_stat"
   ]
  },
  {
   "cell_type": "code",
   "execution_count": null,
   "metadata": {
    "ExecuteTime": {
     "end_time": "2020-09-20T21:52:28.975409Z",
     "start_time": "2020-09-20T21:52:28.918806Z"
    }
   },
   "outputs": [],
   "source": [
    "living_area_stat"
   ]
  },
  {
   "cell_type": "code",
   "execution_count": null,
   "metadata": {
    "ExecuteTime": {
     "end_time": "2020-09-20T21:52:29.125694Z",
     "start_time": "2020-09-20T21:52:28.979169Z"
    }
   },
   "outputs": [],
   "source": [
    "for group in room_groups:\n",
    "    med_living = living_area_stat.loc[group, 'area_median']\n",
    "    med_kitchen = kitchen_area_stat.loc[group, 'area_median']\n",
    "    mask = (df['rooms'] == group)\n",
    "    \n",
    "    df.loc[mask, 'kitchen_area'] = df.loc[mask, 'kitchen_area'].fillna(med)\n",
    "    df.loc[mask, 'living_area']  = df.loc[mask, 'living_area'].fillna(med)\n",
    "    \n",
    "print('Осталось пропусков')\n",
    "print('kitchen_area - ', df[df['kitchen_area'].isna()].shape[0])\n",
    "print('living_area  - ', df[df['living_area'].isna()].shape[0])"
   ]
  },
  {
   "cell_type": "markdown",
   "metadata": {},
   "source": [
    "**Признак _\"ceiling_height\"_**"
   ]
  },
  {
   "cell_type": "code",
   "execution_count": null,
   "metadata": {
    "ExecuteTime": {
     "end_time": "2020-09-20T21:52:29.148724Z",
     "start_time": "2020-09-20T21:52:29.129004Z"
    }
   },
   "outputs": [],
   "source": [
    "# количество пропусков\n",
    "df[df['ceiling_height'].isna()].shape[0]"
   ]
  },
  {
   "cell_type": "code",
   "execution_count": null,
   "metadata": {
    "ExecuteTime": {
     "end_time": "2020-09-20T21:52:29.318374Z",
     "start_time": "2020-09-20T21:52:29.151857Z"
    }
   },
   "outputs": [],
   "source": [
    "ceiling_height_stat = df[~(df['ceiling_height'].isna())]\n",
    "ceiling_height_stat[['ceiling_height']].describe()"
   ]
  },
  {
   "cell_type": "code",
   "execution_count": null,
   "metadata": {
    "ExecuteTime": {
     "end_time": "2020-09-20T21:52:30.069940Z",
     "start_time": "2020-09-20T21:52:29.321822Z"
    }
   },
   "outputs": [],
   "source": [
    "ceiling_height_stat[['ceiling_height']].boxplot(figsize=(10,12))"
   ]
  },
  {
   "cell_type": "code",
   "execution_count": null,
   "metadata": {
    "ExecuteTime": {
     "end_time": "2020-09-20T21:52:30.113265Z",
     "start_time": "2020-09-20T21:52:30.073303Z"
    }
   },
   "outputs": [],
   "source": [
    "# посмотрим на данные с высотой потолка > 5\n",
    "\n",
    "columns = ['ceiling_height', 'total_area', 'open_plan', 'studio', 'locality_category']\n",
    "df.query('ceiling_height > 5')[columns].sort_values(by='ceiling_height')"
   ]
  },
  {
   "cell_type": "markdown",
   "metadata": {},
   "source": [
    "Видно много одинаковых значений 24, 25, 26, 27, 32 что говорит о том, что скорее всего произошла ошибка на порядок, что можно исправить."
   ]
  },
  {
   "cell_type": "code",
   "execution_count": null,
   "metadata": {
    "ExecuteTime": {
     "end_time": "2020-09-20T21:52:30.230289Z",
     "start_time": "2020-09-20T21:52:30.116411Z"
    }
   },
   "outputs": [],
   "source": [
    "mask = ((df['ceiling_height'] >= 24.0) & (df['ceiling_height'] <= 32.0))\n",
    "df.loc[mask, 'ceiling_height'] = df.loc[mask, 'ceiling_height'] / 10\n",
    "\n",
    "df.query('ceiling_height > 5')[columns].sort_values(by='ceiling_height')"
   ]
  },
  {
   "cell_type": "markdown",
   "metadata": {},
   "source": [
    "Квартиры с площадью больше 100 кв.м. могут быть двухуровневыми, оставим их без изменений."
   ]
  },
  {
   "cell_type": "code",
   "execution_count": null,
   "metadata": {
    "ExecuteTime": {
     "end_time": "2020-09-20T21:52:30.338269Z",
     "start_time": "2020-09-20T21:52:30.233533Z"
    }
   },
   "outputs": [],
   "source": [
    "df.query('ceiling_height > 5 and total_area < 100')[columns].sort_values(by='ceiling_height')"
   ]
  },
  {
   "cell_type": "markdown",
   "metadata": {},
   "source": [
    "Значение потолка 100 - выброс, удалим эту запись (возможно, было перепутано значение при заполнении объявления)."
   ]
  },
  {
   "cell_type": "code",
   "execution_count": null,
   "metadata": {
    "ExecuteTime": {
     "end_time": "2020-09-20T21:52:30.400192Z",
     "start_time": "2020-09-20T21:52:30.341613Z"
    }
   },
   "outputs": [],
   "source": [
    "df.drop(index=df[df['ceiling_height'] == 100.0].index,inplace=True)\n",
    "\n",
    "# проверка\n",
    "df[df['ceiling_height'] == 100.0].shape[0]"
   ]
  },
  {
   "cell_type": "code",
   "execution_count": null,
   "metadata": {
    "ExecuteTime": {
     "end_time": "2020-09-20T21:52:30.687285Z",
     "start_time": "2020-09-20T21:52:30.403054Z"
    }
   },
   "outputs": [],
   "source": [
    "# обновленная табица\n",
    "ceiling_height_stat = df[~(df['ceiling_height'].isna())]\n",
    "ceiling_height_stat[['ceiling_height']].boxplot()"
   ]
  },
  {
   "cell_type": "markdown",
   "metadata": {},
   "source": [
    "Из диаграмы видно, что есть выбросы как в меньшую, так и в большую стороны - квартиры с высотой 1 м или выше 5 метров выглядят неправдоподобно."
   ]
  },
  {
   "cell_type": "code",
   "execution_count": null,
   "metadata": {
    "ExecuteTime": {
     "end_time": "2020-09-20T21:52:30.719114Z",
     "start_time": "2020-09-20T21:52:30.689807Z"
    }
   },
   "outputs": [],
   "source": [
    "ceiling_height_stat[['ceiling_height']].describe()"
   ]
  },
  {
   "cell_type": "code",
   "execution_count": null,
   "metadata": {
    "ExecuteTime": {
     "end_time": "2020-09-20T21:52:30.834307Z",
     "start_time": "2020-09-20T21:52:30.723198Z"
    }
   },
   "outputs": [],
   "source": [
    "# Посмотрим на медианные значения высоты потолка для каждой этажности\n",
    "ceiling_pivot = pd.pivot_table(ceiling_height_stat, values='ceiling_height', index='floors_total',\n",
    "                               aggfunc=['mean', 'median'])\n",
    "ceiling_pivot.columns = ['ceiling_mean', 'ceiling_median']\n",
    "ceiling_pivot"
   ]
  },
  {
   "cell_type": "code",
   "execution_count": null,
   "metadata": {
    "ExecuteTime": {
     "end_time": "2020-09-20T21:52:31.052153Z",
     "start_time": "2020-09-20T21:52:30.837060Z"
    }
   },
   "outputs": [],
   "source": [
    "# заполним медианой для каждой этажности, так как этот параметр, как правило обозначает тип застройки\n",
    "for floor in ceiling_pivot.index:\n",
    "    mask = (df['floors_total'] == floor)\n",
    "    value = ceiling_pivot.loc[floor, 'ceiling_median']\n",
    "    \n",
    "    df.loc[mask, 'ceiling_height'] = df.loc[mask, 'ceiling_height'].fillna(value)\n",
    "\n",
    "# проверка\n",
    "print(df[df['ceiling_height'].isna()].shape[0])\n",
    "df[df['floors_total'] == 33][['ceiling_height', 'floors_total']]"
   ]
  },
  {
   "cell_type": "markdown",
   "metadata": {},
   "source": [
    "Остался один пропуск для 33-этажного дома в Санкт-Петербурге. Заменим его медианой по высоте потолка (одно значение, на анализ это не повлияет)"
   ]
  },
  {
   "cell_type": "code",
   "execution_count": null,
   "metadata": {
    "ExecuteTime": {
     "end_time": "2020-09-20T21:52:31.072555Z",
     "start_time": "2020-09-20T21:52:31.055641Z"
    }
   },
   "outputs": [],
   "source": [
    "m = (df['floors_total'] == 33)\n",
    "med = df['ceiling_height'].median()\n",
    "df.loc[m, 'ceiling_height'] = df.loc[m, 'ceiling_height'].fillna(med)\n",
    "\n",
    "# проверка\n",
    "df[df['ceiling_height'].isna()].shape[0]"
   ]
  },
  {
   "cell_type": "markdown",
   "metadata": {},
   "source": [
    "<div class=\"alert alert-warning\">\n",
    "<h2> Комментарий наставника</h2>\n",
    "\n",
    "Заполнение такого числа пропусков в высоте потолков одним значением может исказить структуру данного столбца. Слишком много пропусков у нас в данном параметре. Подумай, на основании какого параметра лучше будет обработать данный столбец. Строительство, в основном, типовое, поэтому одинаковые дома обладают схожими характеристиками. \n",
    "\n",
    "</div>"
   ]
  },
  {
   "cell_type": "code",
   "execution_count": null,
   "metadata": {
    "ExecuteTime": {
     "end_time": "2020-09-20T21:52:31.184261Z",
     "start_time": "2020-09-20T21:52:31.075050Z"
    }
   },
   "outputs": [],
   "source": [
    "df.info()"
   ]
  },
  {
   "cell_type": "markdown",
   "metadata": {},
   "source": [
    "**Признак _\"first_day_exposition\"_**"
   ]
  },
  {
   "cell_type": "code",
   "execution_count": null,
   "metadata": {
    "ExecuteTime": {
     "end_time": "2020-09-20T21:52:31.294787Z",
     "start_time": "2020-09-20T21:52:31.186912Z"
    }
   },
   "outputs": [],
   "source": [
    "# в признаке нет пропусков, изменим тип object -> datetime\n",
    "df['first_day_exposition'] = pd.to_datetime(df['first_day_exposition'],format='%Y-%m-%dT%H:%M:%S')\n",
    "\n",
    "print(df['first_day_exposition'].dtypes)"
   ]
  },
  {
   "cell_type": "markdown",
   "metadata": {},
   "source": [
    "**Признак _\"days_exposition\"_**"
   ]
  },
  {
   "cell_type": "code",
   "execution_count": null,
   "metadata": {
    "ExecuteTime": {
     "end_time": "2020-09-20T21:52:31.405266Z",
     "start_time": "2020-09-20T21:52:31.298521Z"
    }
   },
   "outputs": [],
   "source": [
    "# количество пропусков\n",
    "df[df['days_exposition'].isna()].shape[0]"
   ]
  },
  {
   "cell_type": "code",
   "execution_count": null,
   "metadata": {
    "ExecuteTime": {
     "end_time": "2020-09-20T21:52:31.553163Z",
     "start_time": "2020-09-20T21:52:31.407749Z"
    }
   },
   "outputs": [],
   "source": [
    "keys= ['total_images', 'last_price', 'total_area',\n",
    "       'locality_name','days_exposition', 'locality_category']\n",
    "\n",
    "df[df['days_exposition'].isnull()][keys].sort_values('days_exposition')[:15]"
   ]
  },
  {
   "cell_type": "markdown",
   "metadata": {},
   "source": [
    "1. Пропуски признака составляют 13.5% от общего числа записей.\n",
    "2. Согласно правилам размещения объявления о продаже (https://yandex.ru/support/realty/paid.html), существует 2 вида объявлений: бесплатные и платные.\n",
    "3. Для платных объявлений включается автопродление. Для бесплатных - срок аренды объявления для продажи в Санкт-Петербурге и Ленинградской области составляет 90 дней.\n",
    "\n",
    "Посмотрим, сколько объявлений с таким сроком."
   ]
  },
  {
   "cell_type": "code",
   "execution_count": null,
   "metadata": {
    "ExecuteTime": {
     "end_time": "2020-09-20T21:52:31.652027Z",
     "start_time": "2020-09-20T21:52:31.555545Z"
    }
   },
   "outputs": [],
   "source": [
    "len(df[df['days_exposition'] == 90][['days_exposition']].sort_values('days_exposition', ascending=False))"
   ]
  },
  {
   "cell_type": "markdown",
   "metadata": {},
   "source": [
    "Нисколько.\n",
    "\n",
    "Так как признак того, что квартира была продана, отсутствует, можно предположить, что для объектов, у которых закончился бесплатный период размещения, существует отдельный признак, обозначающий этот момент и не попавший в исследуемый датасет.\n",
    "\n",
    "Если заполнить пропущенные значения максимальным значением срока аренды для Санкт-Петербуга и области (90 дней), будет аномально большое количество с таким сроком. Заполним эти данные 0."
   ]
  },
  {
   "cell_type": "code",
   "execution_count": null,
   "metadata": {
    "ExecuteTime": {
     "end_time": "2020-09-20T21:52:32.230365Z",
     "start_time": "2020-09-20T21:52:31.665313Z"
    }
   },
   "outputs": [],
   "source": [
    "#  посмотрим на количество объявлений по годам\n",
    "\n",
    "df['first_day_exposition'].dt.year.plot.hist(bins=6, legend=True)"
   ]
  },
  {
   "cell_type": "code",
   "execution_count": null,
   "metadata": {
    "ExecuteTime": {
     "end_time": "2020-09-20T21:52:33.808244Z",
     "start_time": "2020-09-20T21:52:32.233576Z"
    }
   },
   "outputs": [],
   "source": [
    "# ДОПОЛНЕНИЕ\n",
    "\n",
    "# посмотрим на распределение пропусков в столбце 'days_exposition' во времени:\n",
    "# относительно дняб месяца и года выставления квартиры на продажу.\n",
    "\n",
    "days_exposition_null = df[df['days_exposition'].isnull()]\n",
    "days_exposition_null['year'] = days_exposition_null['first_day_exposition'].dt.year\n",
    "days_exposition_null['month'] = days_exposition_null['first_day_exposition'].dt.month\n",
    "days_exposition_null['day'] = days_exposition_null['first_day_exposition'].dt.weekday + 1\n",
    "\n",
    "for val in ('year', 'month', 'day'):\n",
    "    bins = len(days_exposition_null[val].unique())\n",
    "    lim = days_exposition_null[val].value_counts().max() + 200\n",
    "    days_exposition_null[val].plot.hist(bins=bins,\n",
    "                                        ylim=(0,lim),\n",
    "                                        legend=True,\n",
    "                                        title='Распределение пропусков по \\'{}\\''.format(val)\n",
    "                                       )\n",
    "    plt.show()\n",
    "    "
   ]
  },
  {
   "cell_type": "markdown",
   "metadata": {},
   "source": [
    "Из графиков видно, что с каждым годом количество пропусков увеличивается, что говорит связано скорее всего с увеличением количества объявлений. При распределении по месяцам закономерностей нет. По дням недели видно, что в первые 3 дня больше всего пропусков, меньше в 4 и 5 дни и минимальное количество - 6 и 7 дни (выходные). Заполним пропуски медианным значением 'days_exposition' для каждой группы дня недели."
   ]
  },
  {
   "cell_type": "code",
   "execution_count": null,
   "metadata": {
    "ExecuteTime": {
     "end_time": "2020-09-20T21:52:33.837683Z",
     "start_time": "2020-09-20T21:52:33.811367Z"
    }
   },
   "outputs": [],
   "source": [
    "df['day'] = df['first_day_exposition'].dt.weekday + 1\n",
    "\n",
    "df.groupby('day')[['days_exposition']].median()"
   ]
  },
  {
   "cell_type": "code",
   "execution_count": null,
   "metadata": {
    "ExecuteTime": {
     "end_time": "2020-09-20T21:52:33.956898Z",
     "start_time": "2020-09-20T21:52:33.840754Z"
    }
   },
   "outputs": [],
   "source": [
    "# # df['days_exposition'] = df['days_exposition'].fillna(90)\n",
    "# df['days_exposition'] = df['days_exposition'].fillna(0)\n",
    "\n",
    "# ----------------------------\n",
    "# ДОПОЛНЕНИЕ\n",
    "\n",
    "\n",
    "for day, data in df.groupby('day'):\n",
    "    mask = (df['day'] == day)\n",
    "    value = data['days_exposition'].median()\n",
    "    \n",
    "    df.loc[mask, 'days_exposition'] = df.loc[mask, 'days_exposition'].fillna(value)\n",
    "\n",
    "\n",
    "# проверка\n",
    "df[df['days_exposition'].isna()].shape[0]"
   ]
  },
  {
   "cell_type": "code",
   "execution_count": null,
   "metadata": {
    "ExecuteTime": {
     "end_time": "2020-09-20T21:52:34.038764Z",
     "start_time": "2020-09-20T21:52:33.959632Z"
    }
   },
   "outputs": [],
   "source": [
    "# # изменим тип данных float64 -> int64\n",
    "# df['days_exposition'] = df['days_exposition'].astype('int')\n",
    "\n",
    "# проверка\n",
    "print(df['days_exposition'].dtypes)"
   ]
  },
  {
   "cell_type": "markdown",
   "metadata": {},
   "source": [
    "<div class=\"alert alert-danger\">\n",
    "<h2> Комментарий наставника</h2>\n",
    "\n",
    "Заполнять пропуски в данных отвлеченными значениями - это не очень правильное решение. Во-первых, ты можешь просто забыть их отфильтровать. Заполнять нужно в том случае, когда алгоритм, для которого готовятся данные, чувствителен к пропускам. Например, регрессии чувствительны, а корреляция  нет. Для них заполнение может даже навредить, если заполнять маркерными значениями и забыть о фильтрации.\n",
    "\n",
    "Заполнять мы, строго говоря, имеем право только когда данные пропущены совершенно случайно (MCAR) - тогда заполнение не повлияет на характер связи между заполняемой переменной и остальными. Относятся ли пропуски в данном столбце к данному типу пропусков? Посмотри внимательнее на распределение пропусков в данном столбце во времени, т.е. относительно дня выставления квартиры на продажу. \n",
    "\n",
    "\n",
    "</div>"
   ]
  },
  {
   "cell_type": "markdown",
   "metadata": {},
   "source": [
    "<font color=orange>Обоснование своих действий ты привела. Однако графики нам показывают, что пропуски не являются случайными. Данные квартиры еще находятся на этапе продажи. Если ты хочешь предсказать эти значения, то стоит использовать самые коррелярующие параметры, а не дни недели. Заполнение по дням недели не учитывает специфику продаваемой квартиры, а значит слабым образом влияет на срок продажи. \n",
    "    \n",
    "---"
   ]
  },
  {
   "cell_type": "markdown",
   "metadata": {},
   "source": [
    "**Признак _\"airports_nearest\"_**"
   ]
  },
  {
   "cell_type": "markdown",
   "metadata": {},
   "source": [
    "В Ленинградской области только 2 аэропорта (пассажирских) - Пулково-1 и Пулково-2. Посмотрим на пропуски для областного центра и других городов."
   ]
  },
  {
   "cell_type": "code",
   "execution_count": null,
   "metadata": {
    "ExecuteTime": {
     "end_time": "2020-09-20T21:52:34.161250Z",
     "start_time": "2020-09-20T21:52:34.041608Z"
    }
   },
   "outputs": [],
   "source": [
    "df.airports_nearest.isna()"
   ]
  },
  {
   "cell_type": "code",
   "execution_count": null,
   "metadata": {
    "ExecuteTime": {
     "end_time": "2020-09-20T21:52:34.274702Z",
     "start_time": "2020-09-20T21:52:34.164926Z"
    }
   },
   "outputs": [],
   "source": [
    "piter = df[(df.locality_name == \"Санкт-Петербург\") & (df.airports_nearest.isna())].shape[0]\n",
    "other = df[(df.locality_name != \"Санкт-Петербург\") & (df.airports_nearest.isna())].shape[0]\n",
    "max_distance = df['airports_nearest'].sort_values(ascending=False).max()\n",
    "\n",
    "print('Пропуски airports_nearest для Санкт-Петербурга:', piter)\n",
    "print('Пропуски airports_nearest для других н.с.:     ', other)\n",
    "print('Максимальное расстояние до аэропорта в данных: ', max_distance)"
   ]
  },
  {
   "cell_type": "markdown",
   "metadata": {},
   "source": [
    "Отсутсвие данных для признака говорит о том, что аэропорт далеко. Судя по максимальному значению, можно предположить, что согласно алгоритму сбора картографических данных, поиск ближайшего аэропорта осуществляется в радиусе 100 км. Заполним пропуски в признаке большим числом - 110000."
   ]
  },
  {
   "cell_type": "code",
   "execution_count": null,
   "metadata": {
    "ExecuteTime": {
     "end_time": "2020-09-20T21:52:34.365920Z",
     "start_time": "2020-09-20T21:52:34.277552Z"
    }
   },
   "outputs": [],
   "source": [
    "fill_value = 110000\n",
    "df.loc[df['airports_nearest'].isna(), 'airports_nearest'] = \\\n",
    "    df.loc[df['airports_nearest'].isna(), 'airports_nearest'].fillna(fill_value)\n",
    "\n",
    "# проверка\n",
    "df[df['airports_nearest'].isna()].shape[0]"
   ]
  },
  {
   "cell_type": "markdown",
   "metadata": {},
   "source": [
    "**Признаки _\"parks_around3000\", \"ponds_around3000\"_**"
   ]
  },
  {
   "cell_type": "code",
   "execution_count": null,
   "metadata": {
    "ExecuteTime": {
     "end_time": "2020-09-20T21:52:34.462011Z",
     "start_time": "2020-09-20T21:52:34.369171Z"
    }
   },
   "outputs": [],
   "source": [
    "# посмотрим на объединение и пересечение пропусков в этих признаках\n",
    "print(df[(df['parks_around3000'].isna()) | (df['ponds_around3000'].isna())].shape[0])\n",
    "print(df[(df['parks_around3000'].isna()) & (df['ponds_around3000'].isna())].shape[0])"
   ]
  },
  {
   "cell_type": "markdown",
   "metadata": {},
   "source": [
    "Вывод - пропуски для одних и тех же объектов.\n",
    "Посмотрим на населенные пункты с отсутствующими парками и водоемами в радиусе 3 км."
   ]
  },
  {
   "cell_type": "code",
   "execution_count": null,
   "metadata": {
    "ExecuteTime": {
     "end_time": "2020-09-20T21:52:34.557055Z",
     "start_time": "2020-09-20T21:52:34.466124Z"
    }
   },
   "outputs": [],
   "source": [
    "parks_ponds_null = df[(df['parks_around3000'].isna()) | (df['ponds_around3000'].isna())]\n",
    "\n",
    "print(\"Пропуски для Санкт-Петербурга:\",\n",
    "      parks_ponds_null.query('locality_name == \"Санкт-Петербург\"').shape[0])"
   ]
  },
  {
   "cell_type": "code",
   "execution_count": null,
   "metadata": {
    "ExecuteTime": {
     "end_time": "2020-09-20T21:52:34.647038Z",
     "start_time": "2020-09-20T21:52:34.559589Z"
    }
   },
   "outputs": [],
   "source": [
    "print('Категории н.с. с пропусками')\n",
    "\n",
    "parks_ponds_null['locality_category'].value_counts()"
   ]
  },
  {
   "cell_type": "markdown",
   "metadata": {},
   "source": [
    "Если не указаны водоемы и парки в радиусе 3 км, то скорее всего этих объектов поблизости нет. Также объекты могут находиться в таких населенных пунктах, где таких объектов вообще нет: СНТ, сёла, коттеджные посёлки. Заполним пропуски 0."
   ]
  },
  {
   "cell_type": "code",
   "execution_count": null,
   "metadata": {
    "ExecuteTime": {
     "end_time": "2020-09-20T21:52:34.784684Z",
     "start_time": "2020-09-20T21:52:34.650387Z"
    }
   },
   "outputs": [],
   "source": [
    "for obj in ['parks_around3000', 'ponds_around3000']:\n",
    "    df[obj] = df[obj].fillna(0)\n",
    "    \n",
    "# проверка\n",
    "print(len(df[df['parks_around3000'].isna()]), len(df[df['ponds_around3000'].isna()]))"
   ]
  },
  {
   "cell_type": "markdown",
   "metadata": {},
   "source": [
    "**Признаки _\"parks_nearest\", \"ponds_nearest\"_**"
   ]
  },
  {
   "cell_type": "code",
   "execution_count": null,
   "metadata": {
    "ExecuteTime": {
     "end_time": "2020-09-20T21:52:34.893678Z",
     "start_time": "2020-09-20T21:52:34.801943Z"
    }
   },
   "outputs": [],
   "source": [
    "parks_nearest = df[['parks_nearest']].sort_values(by='parks_nearest', ascending=False)\n",
    "ponds_nearest = df[['ponds_nearest']].sort_values(by='ponds_nearest', ascending=False)\n",
    "\n",
    "print(\"Наиболее удаленные:\")\n",
    "print(\"Парки:   {} м\".format(parks_nearest['parks_nearest'].max()))\n",
    "print(\"Водоемы: {} м\".format(ponds_nearest['ponds_nearest'].max()))"
   ]
  },
  {
   "cell_type": "code",
   "execution_count": null,
   "metadata": {
    "ExecuteTime": {
     "end_time": "2020-09-20T21:52:34.990252Z",
     "start_time": "2020-09-20T21:52:34.899631Z"
    }
   },
   "outputs": [],
   "source": [
    "parks_nearest.describe()"
   ]
  },
  {
   "cell_type": "code",
   "execution_count": null,
   "metadata": {
    "ExecuteTime": {
     "end_time": "2020-09-20T21:52:35.077065Z",
     "start_time": "2020-09-20T21:52:34.992842Z"
    }
   },
   "outputs": [],
   "source": [
    "ponds_nearest.describe()"
   ]
  },
  {
   "cell_type": "markdown",
   "metadata": {},
   "source": [
    "Для парков минимальное значение - 1 метр от парка, максимальное - 3190, стандартное отклонение - почти равно медиане. Это допустимо, учитывая, что в данных разные типы населенных пунктов. Заполним пропуски в признаках большим значением 10000 м, которое будет означать, что ближайшие парки и водоемы далеко."
   ]
  },
  {
   "cell_type": "code",
   "execution_count": null,
   "metadata": {
    "ExecuteTime": {
     "end_time": "2020-09-20T21:52:35.157401Z",
     "start_time": "2020-09-20T21:52:35.079590Z"
    }
   },
   "outputs": [],
   "source": [
    "df[['parks_nearest', 'ponds_nearest']] = df[['parks_nearest', 'ponds_nearest']].fillna(10000)\n",
    "  \n",
    "# проверка\n",
    "print(df[df['parks_nearest'].isna()].shape[0])\n",
    "print(df[df['ponds_nearest'].isna()].shape[0])"
   ]
  },
  {
   "cell_type": "markdown",
   "metadata": {},
   "source": [
    "**Признак _\"cityCenters_nearest\"_**"
   ]
  },
  {
   "cell_type": "code",
   "execution_count": null,
   "metadata": {
    "ExecuteTime": {
     "end_time": "2020-09-20T21:52:35.253844Z",
     "start_time": "2020-09-20T21:52:35.160009Z"
    }
   },
   "outputs": [],
   "source": [
    "# переименуем столбец\n",
    "df.rename(columns={\"cityCenters_nearest\": \"center_nearest\"}, inplace=True)\n",
    "\n",
    "# проверка\n",
    "print([col for col in df.columns if 'nearest' in col])"
   ]
  },
  {
   "cell_type": "code",
   "execution_count": null,
   "metadata": {
    "ExecuteTime": {
     "end_time": "2020-09-20T21:52:35.347957Z",
     "start_time": "2020-09-20T21:52:35.256614Z"
    }
   },
   "outputs": [],
   "source": [
    "df[df['locality_name'] == \"санкт-петербург\"]['center_nearest'].min()"
   ]
  },
  {
   "cell_type": "code",
   "execution_count": null,
   "metadata": {
    "ExecuteTime": {
     "end_time": "2020-09-20T21:52:35.436762Z",
     "start_time": "2020-09-20T21:52:35.350478Z"
    }
   },
   "outputs": [],
   "source": [
    "df[df['locality_name'] == \"санкт-петербург\"]['center_nearest'].max()"
   ]
  },
  {
   "cell_type": "code",
   "execution_count": null,
   "metadata": {
    "ExecuteTime": {
     "end_time": "2020-09-20T21:52:35.531967Z",
     "start_time": "2020-09-20T21:52:35.439403Z"
    }
   },
   "outputs": [],
   "source": [
    "# Посмотрим на категории нас. пункта с пропусками\n",
    "df[df.center_nearest.isna()]['locality_category'].value_counts()"
   ]
  },
  {
   "cell_type": "code",
   "execution_count": null,
   "metadata": {
    "ExecuteTime": {
     "end_time": "2020-09-20T21:52:35.649484Z",
     "start_time": "2020-09-20T21:52:35.534487Z"
    }
   },
   "outputs": [],
   "source": [
    "# соотношение количества пропусков к числу записей для каждой категории н.п.\n",
    "check_center_nearest_nan(df, 'locality_category')"
   ]
  },
  {
   "cell_type": "markdown",
   "metadata": {},
   "source": [
    "Расстояние до центра польностью отсутствует для __категорий__ населенных пунктов:\n",
    "* деревня\n",
    "* коттеджный посёлок\n",
    "* село\n",
    "* снт\n",
    "\n",
    "Для таких категорий заполним пустые значения 0, так как это малые населенные пункты."
   ]
  },
  {
   "cell_type": "code",
   "execution_count": null,
   "metadata": {
    "ExecuteTime": {
     "end_time": "2020-09-20T21:52:35.769541Z",
     "start_time": "2020-09-20T21:52:35.653223Z"
    }
   },
   "outputs": [],
   "source": [
    "keys = ['деревня', 'коттеджный посёлок', 'село', 'снт']\n",
    "mask = (df['locality_category'].isin(keys))\n",
    "\n",
    "df.loc[mask, 'center_nearest'] = df.loc[mask, 'center_nearest'].fillna(0)\n",
    "\n",
    "# проверка оставшихся пропусков\n",
    "check_center_nearest_nan(df, 'locality_category')"
   ]
  },
  {
   "cell_type": "markdown",
   "metadata": {},
   "source": [
    "Посмотрим, есть ли __населенные пункты__ , для которых полностью отсутствуют данные о расстоянии до центра."
   ]
  },
  {
   "cell_type": "code",
   "execution_count": null,
   "metadata": {
    "ExecuteTime": {
     "end_time": "2020-09-20T21:52:36.545242Z",
     "start_time": "2020-09-20T21:52:35.772875Z"
    }
   },
   "outputs": [],
   "source": [
    "check_center_nearest_nan(df, 'locality_name', full=True)"
   ]
  },
  {
   "cell_type": "markdown",
   "metadata": {},
   "source": [
    "Для многих населенных пунктов полностью отсутствуют значения. Заполним медианой по категориям населенных пунктов."
   ]
  },
  {
   "cell_type": "code",
   "execution_count": null,
   "metadata": {
    "ExecuteTime": {
     "end_time": "2020-09-20T21:52:36.938983Z",
     "start_time": "2020-09-20T21:52:36.548319Z"
    }
   },
   "outputs": [],
   "source": [
    "for gr in df['locality_category'].unique():\n",
    "    median = df[df['locality_category'] == gr]['center_nearest'].median()\n",
    "    df.loc[df['locality_category'] == gr] = df.loc[df['locality_category'] == gr].fillna(median)\n",
    "    \n",
    "# переведем расстояние до центра в целочисленный тип\n",
    "df['center_nearest'] = df['center_nearest'].astype('int')\n",
    "# полная проверка пропусков\n",
    "df.info()"
   ]
  },
  {
   "cell_type": "markdown",
   "metadata": {},
   "source": [
    "**Выводы**. Выполнено:\n",
    "1. Заполнение пропусков (столбцы _last_price, is_apartment, balcony, locality_name, floors_total, rooms, kitchen_area, living_area, ceiling_height, days_exposition, airports_nearest, parks_around3000, ponds_around3000, parks_nearest, ponds_nearest_ )\n",
    "2. Приведение типов (столбцы _last_price, is_apartment, balcony, floors_total, days_exposition, parks_around3000, ponds_around3000,first_day_exposition_ )\n",
    "3. Удаление выбросов (столбцы _ceiling_height_ )\n",
    "4. Переименование столбца _\"cityCenters_nearest\"_\n",
    "5. Устранение несограсованности данных (_locality_name_ )"
   ]
  },
  {
   "cell_type": "markdown",
   "metadata": {},
   "source": [
    "## 6. Посчитайте и добавьте в таблицу"
   ]
  },
  {
   "cell_type": "markdown",
   "metadata": {},
   "source": [
    "### 6.1 Добавление в таблицу цены за квадратный метр"
   ]
  },
  {
   "cell_type": "code",
   "execution_count": null,
   "metadata": {
    "ExecuteTime": {
     "end_time": "2020-09-20T21:52:36.966331Z",
     "start_time": "2020-09-20T21:52:36.942261Z"
    }
   },
   "outputs": [],
   "source": [
    "df['meter_price'] = (df['last_price'] / df['total_area']).astype('int')\n",
    "\n",
    "df[['last_price', 'total_area', 'meter_price']].head()"
   ]
  },
  {
   "cell_type": "markdown",
   "metadata": {},
   "source": [
    "### 6.2 Добавление в таблицу: день недели, месяц и год публикации объявления"
   ]
  },
  {
   "cell_type": "code",
   "execution_count": null,
   "metadata": {
    "ExecuteTime": {
     "end_time": "2020-09-20T21:52:37.081879Z",
     "start_time": "2020-09-20T21:52:36.969387Z"
    }
   },
   "outputs": [],
   "source": [
    "df['first_year'] = df['first_day_exposition'].dt.year\n",
    "df['first_month'] = df['first_day_exposition'].dt.month\n",
    "\n",
    "# прибавим 1 для более понятного представления дня недели\n",
    "df['first_weekday'] = df['first_day_exposition'].dt.weekday + 1\n",
    "\n",
    "# проверка\n",
    "df[['first_day_exposition', 'first_year', 'first_month', 'first_weekday']].sort_values(by='first_year', ascending=False).head(10)"
   ]
  },
  {
   "cell_type": "markdown",
   "metadata": {},
   "source": [
    "### 6.3 Добавление в таблицу: этаж квартиры"
   ]
  },
  {
   "cell_type": "code",
   "execution_count": null,
   "metadata": {
    "ExecuteTime": {
     "end_time": "2020-09-20T21:52:40.627569Z",
     "start_time": "2020-09-20T21:52:37.084557Z"
    }
   },
   "outputs": [],
   "source": [
    "df['floors_category'] = df.apply(lambda x: set_floor_category(x.floor, x.floors_total), axis=1)\n",
    "df['floors_category_num'] = df.apply(lambda x: set_floor_category_num(x.floor, x.floors_total), axis=1)\n",
    "\n",
    "# проверка\n",
    "df['floors_category'].value_counts()"
   ]
  },
  {
   "cell_type": "code",
   "execution_count": null,
   "metadata": {
    "ExecuteTime": {
     "end_time": "2020-09-20T21:52:40.642402Z",
     "start_time": "2020-09-20T21:52:40.631187Z"
    }
   },
   "outputs": [],
   "source": [
    "# проверка\n",
    "df['floors_category_num'].value_counts()"
   ]
  },
  {
   "cell_type": "markdown",
   "metadata": {},
   "source": [
    "### 6.4 Добавление в таблицу: соотношение жилой и общей площади"
   ]
  },
  {
   "cell_type": "code",
   "execution_count": null,
   "metadata": {
    "ExecuteTime": {
     "end_time": "2020-09-20T21:52:40.762796Z",
     "start_time": "2020-09-20T21:52:40.644772Z"
    }
   },
   "outputs": [],
   "source": [
    "df['living_area_part'] = (df['living_area'] / df['total_area']).round(2)\n",
    "\n",
    "# проверка\n",
    "df[['living_area', 'total_area', 'living_area_part']].head()"
   ]
  },
  {
   "cell_type": "markdown",
   "metadata": {},
   "source": [
    "### 6.5 Добавление в таблицу: соотношение площади кухни к общей"
   ]
  },
  {
   "cell_type": "code",
   "execution_count": null,
   "metadata": {
    "ExecuteTime": {
     "end_time": "2020-09-20T21:52:40.870457Z",
     "start_time": "2020-09-20T21:52:40.765476Z"
    }
   },
   "outputs": [],
   "source": [
    "df['kitchen_area_part'] = (df['kitchen_area'] / df['total_area']).round(2)\n",
    "\n",
    "# проверка\n",
    "df[['kitchen_area', 'total_area', 'kitchen_area_part']].head()\n"
   ]
  },
  {
   "cell_type": "markdown",
   "metadata": {},
   "source": [
    "### Вывод"
   ]
  },
  {
   "cell_type": "markdown",
   "metadata": {},
   "source": [
    "Выполнено насыщение данных. Добавлено:\n",
    "* Цена за квадратный метр\n",
    "* День недели, месяц и год публикации объявления\n",
    "* Категория этажа квартиры\n",
    "* Соотношение общей и жилой площади\n",
    "* Соотношение общей площади и кухни"
   ]
  },
  {
   "cell_type": "markdown",
   "metadata": {},
   "source": [
    "## 7. Исследовательский анализ данных"
   ]
  },
  {
   "cell_type": "markdown",
   "metadata": {},
   "source": [
    "### 7.1 Изучение параметров: площадь, цена, число комнат, высота потолков"
   ]
  },
  {
   "cell_type": "markdown",
   "metadata": {},
   "source": [
    "**Площадь**"
   ]
  },
  {
   "cell_type": "code",
   "execution_count": null,
   "metadata": {
    "ExecuteTime": {
     "end_time": "2020-09-20T21:52:48.231652Z",
     "start_time": "2020-09-20T21:52:40.872822Z"
    }
   },
   "outputs": [],
   "source": [
    "get_data_info(df, 'total_area', dsc=True, boxplot=True, hist=True)"
   ]
  },
  {
   "cell_type": "markdown",
   "metadata": {},
   "source": [
    "<font color=green> Автоматизация процесса построения графиков осуществлена круто, молодец. Число bins следует уменьшить. Иначе появляются такие вот лишние пики на графике. \n",
    "    \n",
    "---"
   ]
  },
  {
   "cell_type": "code",
   "execution_count": null,
   "metadata": {
    "ExecuteTime": {
     "end_time": "2020-09-20T21:52:48.245776Z",
     "start_time": "2020-09-20T21:52:48.234722Z"
    }
   },
   "outputs": [],
   "source": [
    "# смотрим на выбросы\n",
    "df[(df['total_area'] >= 500)]['total_area'].count()"
   ]
  },
  {
   "cell_type": "code",
   "execution_count": null,
   "metadata": {
    "ExecuteTime": {
     "end_time": "2020-09-20T21:52:55.701719Z",
     "start_time": "2020-09-20T21:52:48.248469Z"
    }
   },
   "outputs": [],
   "source": [
    "# Удалим выбросы - 9 объектов с площадью >= 500 м\n",
    "df = df.drop(df[df['total_area'] >= 500 ].index, axis=0)\n",
    "\n",
    "# проверка\n",
    "get_data_info(df, 'total_area', dsc=True, boxplot=True, hist=True)"
   ]
  },
  {
   "cell_type": "markdown",
   "metadata": {},
   "source": [
    "Медиана отличается от среднего значения на 8 кв. метров. Стандартное отклонение большое - 34. Это объясняется тем, что в данных есть несколько объектов с большой площадью. График демонстрирует выбросы в данных со значением площади >= 500 м, который был удалён. "
   ]
  },
  {
   "cell_type": "markdown",
   "metadata": {},
   "source": [
    "**Цена**"
   ]
  },
  {
   "cell_type": "code",
   "execution_count": null,
   "metadata": {
    "ExecuteTime": {
     "end_time": "2020-09-20T21:53:05.336327Z",
     "start_time": "2020-09-20T21:52:55.704263Z"
    }
   },
   "outputs": [],
   "source": [
    "get_data_info(df, 'last_price', dsc=True, boxplot=True, hist=True)"
   ]
  },
  {
   "cell_type": "code",
   "execution_count": null,
   "metadata": {
    "ExecuteTime": {
     "end_time": "2020-09-20T21:53:05.352120Z",
     "start_time": "2020-09-20T21:53:05.340859Z"
    }
   },
   "outputs": [],
   "source": [
    "# количество объектов с ценой > 150 000 000\n",
    "df[df['last_price'] > 150000000]['last_price'].count()"
   ]
  },
  {
   "cell_type": "code",
   "execution_count": null,
   "metadata": {
    "ExecuteTime": {
     "end_time": "2020-09-20T21:53:15.446610Z",
     "start_time": "2020-09-20T21:53:05.354973Z"
    }
   },
   "outputs": [],
   "source": [
    "df = df.drop(df[df['last_price'] > 150000000].index, axis=0)\n",
    "\n",
    "get_data_info(df, 'last_price', dsc=True, boxplot=True, hist=True)"
   ]
  },
  {
   "cell_type": "markdown",
   "metadata": {},
   "source": [
    "Медиана отличается от среднего значения на 2 миллиона. Стандартное отклонение большое - больше медианы. Это объясняется тем, что в данных есть несколько объектов с высокой ценой. Удалены выбросы - объекты дороже 150 000 000 у.е."
   ]
  },
  {
   "cell_type": "markdown",
   "metadata": {},
   "source": [
    "**Число комнат**"
   ]
  },
  {
   "cell_type": "code",
   "execution_count": null,
   "metadata": {
    "ExecuteTime": {
     "end_time": "2020-09-20T21:53:16.396128Z",
     "start_time": "2020-09-20T21:53:15.449766Z"
    }
   },
   "outputs": [],
   "source": [
    "get_data_info(df, 'rooms', dsc=True, boxplot=True, hist=True)"
   ]
  },
  {
   "cell_type": "code",
   "execution_count": null,
   "metadata": {
    "ExecuteTime": {
     "end_time": "2020-09-20T21:53:16.407211Z",
     "start_time": "2020-09-20T21:53:16.398938Z"
    }
   },
   "outputs": [],
   "source": [
    "# количество объектов, у которых число комнат > 10\n",
    "df[df['rooms'] > 10]['rooms'].count()"
   ]
  },
  {
   "cell_type": "code",
   "execution_count": null,
   "metadata": {
    "ExecuteTime": {
     "end_time": "2020-09-20T21:53:17.284769Z",
     "start_time": "2020-09-20T21:53:16.409792Z"
    }
   },
   "outputs": [],
   "source": [
    "# удаляем объекты, у которых число комнат > 10\n",
    "df = df.drop(df[df['rooms'] > 10.].index, axis=0)\n",
    "\n",
    "get_data_info(df, 'rooms', dsc=True, boxplot=True, hist=True)"
   ]
  },
  {
   "cell_type": "markdown",
   "metadata": {},
   "source": [
    "Согласно описанию, медиана и среднее почти равны - 2-комнатные квартиры. Наиболее популярные представители квартир в объявлениях - 1-комнатные и 2-комнатные. В данных несколько объектов с количеством комнат больше 10 - выбросы, удалёны."
   ]
  },
  {
   "cell_type": "markdown",
   "metadata": {},
   "source": [
    "**Высота потолков**"
   ]
  },
  {
   "cell_type": "code",
   "execution_count": null,
   "metadata": {
    "ExecuteTime": {
     "end_time": "2020-09-20T21:53:18.591353Z",
     "start_time": "2020-09-20T21:53:17.288088Z"
    }
   },
   "outputs": [],
   "source": [
    "get_data_info(df, 'ceiling_height', dsc=True, boxplot=True, hist=True)"
   ]
  },
  {
   "cell_type": "code",
   "execution_count": null,
   "metadata": {
    "ExecuteTime": {
     "end_time": "2020-09-20T21:53:18.605357Z",
     "start_time": "2020-09-20T21:53:18.594859Z"
    }
   },
   "outputs": [],
   "source": [
    "# количество объектов с высотой потолка 2 < x < 6\n",
    "df[(df['ceiling_height'] > 6) | (df['ceiling_height'] < 2)]['ceiling_height'].count()"
   ]
  },
  {
   "cell_type": "code",
   "execution_count": null,
   "metadata": {
    "ExecuteTime": {
     "end_time": "2020-09-20T21:53:19.943128Z",
     "start_time": "2020-09-20T21:53:18.608081Z"
    }
   },
   "outputs": [],
   "source": [
    "# удалим выбросы\n",
    "df = df.drop(df.query('ceiling_height > 6 or ceiling_height < 2').index, axis=0)\n",
    "\n",
    "# гистограмма после изменений\n",
    "# df[['ceiling_height']].hist(bins=30)\n",
    "get_data_info(df, 'ceiling_height', dsc=True, boxplot=True, hist=True)"
   ]
  },
  {
   "cell_type": "markdown",
   "metadata": {},
   "source": [
    "По графику видно, что в данных о высоте потолка есть выбросы - значения больше 6 метров, которые удалены."
   ]
  },
  {
   "cell_type": "markdown",
   "metadata": {},
   "source": [
    "**Выводы**\n",
    "\n",
    "Удалены выбросы в столбцах:\n",
    "* total_area\n",
    "* last_price\n",
    "* rooms\n",
    "* ceiling_height\n"
   ]
  },
  {
   "cell_type": "markdown",
   "metadata": {},
   "source": [
    "<div class=\"alert alert-success\">\n",
    "<h2> Комментарий наставника</h2>\n",
    "\n",
    "Выбросы из данных удалены. Ты выбрала очегь мягкие условия удаления выбросов. Лучше их ужесточить. Все же представить себе квартиру с 15 комнатами довольно сложно. \n",
    "</div>"
   ]
  },
  {
   "cell_type": "markdown",
   "metadata": {},
   "source": [
    "<font color=green>Данный раздел работы заметно улучшен. Ты привела все необходимые графики, а также сделала условия отбора значений более жесткими. Так ты откинем больше выбросов, а результаты анализа будут качественнее. \n",
    "    \n",
    "---"
   ]
  },
  {
   "cell_type": "markdown",
   "metadata": {},
   "source": [
    "### 7.2 Изучение параметров: время продажи квартиры"
   ]
  },
  {
   "cell_type": "markdown",
   "metadata": {},
   "source": [
    "Для изучения времени продажи квартиры добавим в таблицу столбец с датой продажи."
   ]
  },
  {
   "cell_type": "code",
   "execution_count": null,
   "metadata": {
    "ExecuteTime": {
     "end_time": "2020-09-20T21:53:23.454628Z",
     "start_time": "2020-09-20T21:53:19.945935Z"
    }
   },
   "outputs": [],
   "source": [
    "df['last_day_exposition'] = df.apply(\n",
    "    lambda x: x.first_day_exposition + pd.Timedelta(days=x.days_exposition), axis=1)\n",
    "\n",
    "# проверка\n",
    "df[['first_day_exposition', 'last_day_exposition', 'days_exposition']].head()"
   ]
  },
  {
   "cell_type": "code",
   "execution_count": null,
   "metadata": {
    "ExecuteTime": {
     "end_time": "2020-09-20T21:53:23.500868Z",
     "start_time": "2020-09-20T21:53:23.458027Z"
    }
   },
   "outputs": [],
   "source": [
    "df['last_year'] = df['last_day_exposition'].dt.year\n",
    "df['last_month'] = df['last_day_exposition'].dt.month\n",
    "\n",
    "# прибавим 1 для более понятного представления дня недели\n",
    "df['last_weekday'] = df['last_day_exposition'].dt.weekday + 1\n",
    "\n",
    "# проверка\n",
    "df[['last_day_exposition', 'last_year', 'last_month', 'last_weekday']].sort_values(by='last_year', ascending=False).head(10)"
   ]
  },
  {
   "cell_type": "code",
   "execution_count": null,
   "metadata": {
    "ExecuteTime": {
     "end_time": "2020-09-20T21:53:27.892285Z",
     "start_time": "2020-09-20T21:53:23.503808Z"
    }
   },
   "outputs": [],
   "source": [
    "# посмотрим на значения, где указан срок объявления\n",
    "days_exposition = df[df['days_exposition']>0]\n",
    "\n",
    "# days_exposition[['days_exposition']].describe()\n",
    "get_data_info(days_exposition, 'days_exposition', dsc=True, boxplot=True, hist=True)"
   ]
  },
  {
   "cell_type": "code",
   "execution_count": null,
   "metadata": {
    "ExecuteTime": {
     "end_time": "2020-09-20T21:53:28.166720Z",
     "start_time": "2020-09-20T21:53:27.895201Z"
    }
   },
   "outputs": [],
   "source": [
    "days_exposition_stat = days_exposition[days_exposition['days_exposition'] < 285]\n",
    "\n",
    "# days_exposition_stat[['days_exposition']].boxplot()\n",
    "get_data_info(days_exposition_stat, 'days_exposition', dsc=False, boxplot=True, hist=False)"
   ]
  },
  {
   "cell_type": "code",
   "execution_count": null,
   "metadata": {
    "ExecuteTime": {
     "end_time": "2020-09-20T21:53:28.711546Z",
     "start_time": "2020-09-20T21:53:28.169199Z"
    }
   },
   "outputs": [],
   "source": [
    "# посмотрим на количество аномально малых значений - меньше 20 дней\n",
    "get_data_info(days_exposition_stat[days_exposition_stat['days_exposition'] < 20], \n",
    "              'days_exposition', dsc=False, boxplot=False, hist=True)"
   ]
  },
  {
   "cell_type": "markdown",
   "metadata": {},
   "source": [
    "***Вывод*\n",
    "\n",
    "Были рассморены данные о сроке продажи квартиры, за исключением 0. Выявлено, что в данных есть квартиры, которые были проданы быстро, и квартиры, которые не продавались в течение долгого времени:\n",
    "* быстро - меньше 3 дней\n",
    "* долго - больше 285 дней"
   ]
  },
  {
   "cell_type": "markdown",
   "metadata": {},
   "source": [
    "### 7.3 Факторы, влияющие на стоимость квартиры"
   ]
  },
  {
   "cell_type": "code",
   "execution_count": null,
   "metadata": {
    "ExecuteTime": {
     "end_time": "2020-09-20T21:53:28.748203Z",
     "start_time": "2020-09-20T21:53:28.715054Z"
    }
   },
   "outputs": [],
   "source": [
    "first_last_floor = df[df.floors_category.isin([\"первый\", \"последний\"])]\n",
    "\n",
    "# матрица корреляции\n",
    "price_corr = first_last_floor[['last_price', 'meter_price', 'total_area', 'rooms', 'floors_category_num', \n",
    "                                'center_nearest', 'first_weekday', 'first_month', 'first_year']].corr()\n",
    "\n",
    "price_corr"
   ]
  },
  {
   "cell_type": "code",
   "execution_count": null,
   "metadata": {
    "ExecuteTime": {
     "end_time": "2020-09-20T21:53:29.651689Z",
     "start_time": "2020-09-20T21:53:28.752298Z"
    }
   },
   "outputs": [],
   "source": [
    "# визуализация матрицы корреляции\n",
    "corr_visual(price_corr)"
   ]
  },
  {
   "cell_type": "code",
   "execution_count": null,
   "metadata": {
    "ExecuteTime": {
     "end_time": "2020-09-20T21:53:33.220125Z",
     "start_time": "2020-09-20T21:53:29.654067Z"
    }
   },
   "outputs": [],
   "source": [
    "# посмотрим на зависимость общей цены от требуемых параметров\n",
    "\n",
    "keys = ['total_area', 'rooms', 'floors_category_num', 'center_nearest', \n",
    "        'first_weekday', 'first_month', 'first_year']\n",
    "  \n",
    "get_price_depend(first_last_floor, keys)"
   ]
  },
  {
   "cell_type": "code",
   "execution_count": null,
   "metadata": {
    "ExecuteTime": {
     "end_time": "2020-09-20T21:53:36.606550Z",
     "start_time": "2020-09-20T21:53:33.224859Z"
    }
   },
   "outputs": [],
   "source": [
    "# посмотрим на зависимость цены за метр от требуемых параметров\n",
    "\n",
    "keys = ['total_area', 'rooms', 'floors_category_num', 'center_nearest', \n",
    "        'first_weekday', 'first_month', 'first_year']\n",
    "\n",
    "get_price_depend(first_last_floor, keys, ylabel='meter_price')"
   ]
  },
  {
   "cell_type": "code",
   "execution_count": null,
   "metadata": {
    "ExecuteTime": {
     "end_time": "2020-09-20T21:53:36.661003Z",
     "start_time": "2020-09-20T21:53:36.610594Z"
    }
   },
   "outputs": [],
   "source": [
    "# \"Выберите 10 населённых пунктов с наибольшим числом объявлений. \n",
    "# Посчитайте среднюю цену квадратного метра в этих населённых пунктах.\n",
    "\n",
    "locality_list = df.groupby('locality_name')['locality_name'].count().sort_values(ascending=False)[:10].index\n",
    "locality_list_stat = df[df.locality_name.isin(locality_list)]\n",
    "\n",
    "locality_stat_mean = locality_list_stat.groupby('locality_name')['meter_price'].mean().round(2).sort_values(ascending=False)\n",
    "locality_stat_mean"
   ]
  },
  {
   "cell_type": "code",
   "execution_count": null,
   "metadata": {
    "ExecuteTime": {
     "end_time": "2020-09-20T21:53:37.096595Z",
     "start_time": "2020-09-20T21:53:36.664538Z"
    }
   },
   "outputs": [],
   "source": [
    "# график зависимости цены от местоположения\n",
    "p = locality_stat_mean.plot(x='locality_name', y='meter_price')\n",
    "p.set_xticklabels(p.get_xticklabels(), rotation=45)"
   ]
  },
  {
   "cell_type": "markdown",
   "metadata": {},
   "source": [
    "Выявлена зависимость цены за квартиру от параметров:\n",
    "* общая площадь (сильная зависимостьб r=0.71)\n",
    "* число комнат (0.40)\n",
    "* этаж (первый или последний)(0.10)\n",
    "* удалённость от центра (-0.23)\n",
    "\n",
    "Цена не зависит от параметров:\n",
    "* день недели размещения объявления\n",
    "* месяц размещения объявления\n",
    "* год размещения объявления\n",
    "\n",
    "Корреляция между ценой и этими параметрами представлена на графике."
   ]
  },
  {
   "cell_type": "code",
   "execution_count": null,
   "metadata": {
    "ExecuteTime": {
     "end_time": "2020-09-20T21:53:37.482679Z",
     "start_time": "2020-09-20T21:53:37.099198Z"
    }
   },
   "outputs": [],
   "source": [
    "price_corr['last_price'].sort_values().plot(kind='bar', grid=True)"
   ]
  },
  {
   "cell_type": "markdown",
   "metadata": {},
   "source": [
    "Среди выделенного списка 10 населенных пунктов с наибольшим количеством объявлений максимальная средняя цена за квадратный метр в Санкт-Петербурге, минимальная - в Выборге."
   ]
  },
  {
   "cell_type": "markdown",
   "metadata": {},
   "source": [
    "### 7.4 Нахождение области центра Санкт-Петербурга"
   ]
  },
  {
   "cell_type": "code",
   "execution_count": null,
   "metadata": {
    "ExecuteTime": {
     "end_time": "2020-09-20T21:53:37.550343Z",
     "start_time": "2020-09-20T21:53:37.485665Z"
    }
   },
   "outputs": [],
   "source": [
    "# Изучите предложения квартир: для каждой квартиры есть информация о расстоянии до центра\n",
    "\n",
    "center_nearest_stat = df.query('center_nearest != 0')\n",
    "center_nearest_stat.head()"
   ]
  },
  {
   "cell_type": "code",
   "execution_count": null,
   "metadata": {
    "ExecuteTime": {
     "end_time": "2020-09-20T21:53:39.210009Z",
     "start_time": "2020-09-20T21:53:37.552401Z"
    }
   },
   "outputs": [],
   "source": [
    "for group, data in center_nearest_stat.groupby('locality_category'):\n",
    "    print('Гистограмма {}-{}'.format(group, 'center_nearest'))\n",
    "    data[['center_nearest']].plot.hist(bins=30)\n",
    "    plt.show()\n",
    "#     center_nearest_stat = df.query('center_nearest != 0')['center_nearest'].hist(bins=50)"
   ]
  },
  {
   "cell_type": "code",
   "execution_count": null,
   "metadata": {
    "ExecuteTime": {
     "end_time": "2020-09-20T21:53:39.271808Z",
     "start_time": "2020-09-20T21:53:39.213141Z"
    }
   },
   "outputs": [],
   "source": [
    "# Выделите квартиры в Санкт-Петербурге ('locality_name').\n",
    "piter_stat = center_nearest_stat.query('locality_name == \"санкт-петербург\"')\n",
    "piter_stat.head()"
   ]
  },
  {
   "cell_type": "code",
   "execution_count": null,
   "metadata": {
    "ExecuteTime": {
     "end_time": "2020-09-20T21:53:39.316715Z",
     "start_time": "2020-09-20T21:53:39.275353Z"
    }
   },
   "outputs": [],
   "source": [
    "# столбец с расстоянием до центра в километрах\n",
    "piter_stat['center_nearest_km'] = (piter_stat['center_nearest'] / 1000).astype('int')\n",
    "\n",
    "# среднюю цену для каждого километра\n",
    "piter_stat['price_km'] = (piter_stat['last_price'] / piter_stat['center_nearest_km']).round(0)\n",
    "piter_stat['price_km'].head()"
   ]
  },
  {
   "cell_type": "code",
   "execution_count": null,
   "metadata": {
    "ExecuteTime": {
     "end_time": "2020-09-20T21:53:40.080285Z",
     "start_time": "2020-09-20T21:53:39.319523Z"
    }
   },
   "outputs": [],
   "source": [
    "# Постройте график: он должен показывать, как цена зависит от удалённости от центра. \n",
    "# Определите границу, где график сильно меняется — это и будет центральная зона. \"\n",
    "piter_stat.sort_values(by='center_nearest').plot(x='center_nearest_km', \n",
    "                                                        y='price_km',\n",
    "                                                        ylim=0.5,\n",
    "                                                        grid=True, \n",
    "                                                        figsize=(12,10),\n",
    "                                                        kind='line')"
   ]
  },
  {
   "cell_type": "markdown",
   "metadata": {},
   "source": [
    "Центр в Санкт Петербурге - в радиусе 7 км."
   ]
  },
  {
   "cell_type": "markdown",
   "metadata": {},
   "source": [
    "### 7.5 Анализ сегмента квартир в центре города"
   ]
  },
  {
   "cell_type": "code",
   "execution_count": null,
   "metadata": {
    "ExecuteTime": {
     "end_time": "2020-09-20T21:53:40.143730Z",
     "start_time": "2020-09-20T21:53:40.084271Z"
    }
   },
   "outputs": [],
   "source": [
    "# сегмент квартир в центре\n",
    "piter_center_stat = piter_stat.query('center_nearest_km <= 7')\n",
    "piter_center_stat.head()"
   ]
  },
  {
   "cell_type": "code",
   "execution_count": null,
   "metadata": {
    "ExecuteTime": {
     "end_time": "2020-09-20T21:53:40.222745Z",
     "start_time": "2020-09-20T21:53:40.152754Z"
    }
   },
   "outputs": [],
   "source": [
    "# анализ территории по параметрам:\n",
    "# \n",
    "# площадь, цена, число комнат, высота потолков, \n",
    "# этаж, удалённость от центра, дата размещения объявления\n",
    "\n",
    "piter_center_details = piter_center_stat[['last_price', 'ceiling_height', 'rooms', 'total_area',\n",
    "                                          'floor','center_nearest','first_year']]\n",
    "\n",
    "# матрица корреляции\n",
    "piter_center_details_corr = piter_center_details.corr()\n",
    "piter_center_details_corr"
   ]
  },
  {
   "cell_type": "code",
   "execution_count": null,
   "metadata": {
    "ExecuteTime": {
     "end_time": "2020-09-20T21:53:41.046171Z",
     "start_time": "2020-09-20T21:53:40.225000Z"
    }
   },
   "outputs": [],
   "source": [
    "# визуализация матрицы корреляции\n",
    "corr_visual(piter_center_details_corr)"
   ]
  },
  {
   "cell_type": "code",
   "execution_count": null,
   "metadata": {
    "ExecuteTime": {
     "end_time": "2020-09-20T21:53:43.903293Z",
     "start_time": "2020-09-20T21:53:41.048934Z"
    }
   },
   "outputs": [],
   "source": [
    "keys = ['ceiling_height', 'rooms', 'total_area', 'floor','center_nearest','first_year']\n",
    "\n",
    "get_price_depend(piter_center_stat, keys)"
   ]
  },
  {
   "cell_type": "code",
   "execution_count": null,
   "metadata": {
    "ExecuteTime": {
     "end_time": "2020-09-20T21:53:43.959562Z",
     "start_time": "2020-09-20T21:53:43.906095Z"
    }
   },
   "outputs": [],
   "source": [
    "# для всего города\n",
    "# анализ территории по параметрам: площадь, цена, число комнат, высота потолков\n",
    "\n",
    "piter_details = (df.query('locality_name == \"санкт-петербург\"')[[\n",
    "    'last_price', 'meter_price', 'ceiling_height', 'rooms', 'total_area', 'floor','center_nearest','first_year']])\n",
    "\n",
    "# матрица корреляции\n",
    "piter_details_corr = piter_details.corr()\n",
    "piter_details_corr"
   ]
  },
  {
   "cell_type": "code",
   "execution_count": null,
   "metadata": {
    "ExecuteTime": {
     "end_time": "2020-09-20T21:53:44.742220Z",
     "start_time": "2020-09-20T21:53:43.963044Z"
    }
   },
   "outputs": [],
   "source": [
    "# визуализация матрицы корреляции\n",
    "corr_visual(piter_details_corr)"
   ]
  },
  {
   "cell_type": "code",
   "execution_count": null,
   "metadata": {
    "ExecuteTime": {
     "end_time": "2020-09-20T21:53:47.994943Z",
     "start_time": "2020-09-20T21:53:44.744878Z"
    }
   },
   "outputs": [],
   "source": [
    "# графики зависимости общей цены во всем городе от указанных параметров\n",
    "get_price_depend(piter_details,\n",
    "                 ['ceiling_height','rooms','total_area','floor','center_nearest','first_year'])"
   ]
  },
  {
   "cell_type": "code",
   "execution_count": null,
   "metadata": {
    "ExecuteTime": {
     "end_time": "2020-09-20T21:53:52.075918Z",
     "start_time": "2020-09-20T21:53:47.998289Z"
    }
   },
   "outputs": [],
   "source": [
    "# графики зависимости цены за метр во всем городе от указанных параметров\n",
    "get_price_depend(piter_details,\n",
    "                 ['ceiling_height','rooms','total_area','floor','center_nearest','first_year'],\n",
    "                 ylabel='meter_price')"
   ]
  },
  {
   "cell_type": "markdown",
   "metadata": {},
   "source": [
    "### Вывод"
   ]
  },
  {
   "cell_type": "markdown",
   "metadata": {},
   "source": [
    "<!-- # Сделайте выводы. Отличаются ли они от общих выводов по всему городу?\" -->\n",
    "\n",
    "Для центра Санкт-Петербурга матрица корреляции демонстрирует, что цена зависит от параметров:\n",
    "* общая площадь - __r=0.70__\n",
    "* количество комнат - __r=0.40__\n",
    "* высота потолков - __r=0.27__\n",
    "* расстяние до центра - __r=-0.22__ (чем дальше от центра, тем дешевле квартиры)\n",
    "\n",
    "Цена слабо зависит от этажа и года размещения объявления. Ниже представлен график, где для каждого параметра отражен коэффициент корреляции."
   ]
  },
  {
   "cell_type": "code",
   "execution_count": null,
   "metadata": {
    "ExecuteTime": {
     "end_time": "2020-09-20T21:53:52.357061Z",
     "start_time": "2020-09-20T21:53:52.078601Z"
    }
   },
   "outputs": [],
   "source": [
    "piter_center_details_corr['last_price'].sort_values().plot(kind='bar', grid=True)"
   ]
  },
  {
   "cell_type": "markdown",
   "metadata": {},
   "source": [
    "Для всего города Санкт-Петербург матрица корреляции демонстрирует, что цена зависит от параметров:\n",
    "* общая площадь - __r=0.71__\n",
    "* количество комнат - __r=0.41__\n",
    "* высота потолков - __r=0.34__\n",
    "* расстяние до центра - __r=-0.30__ (чем дальше от центра, тем дешевле квартиры)\n",
    "\n",
    "Цена слабо зависит от этажа (-0.02) и года размещения объявления (-0.05). Ниже представлен график, где для каждого параметра отражен коэффициент корреляции."
   ]
  },
  {
   "cell_type": "code",
   "execution_count": null,
   "metadata": {
    "ExecuteTime": {
     "end_time": "2020-09-20T21:53:52.762797Z",
     "start_time": "2020-09-20T21:53:52.361644Z"
    }
   },
   "outputs": [],
   "source": [
    "piter_details_corr['last_price'].sort_values().plot(kind='bar', grid=True)"
   ]
  },
  {
   "cell_type": "markdown",
   "metadata": {},
   "source": [
    "При сравнении зависимости цена квартиры в центре города и во всем городе было выявлено, что вне центра более выражена зависимость цены от растояния до центра. Также чуть заметнее зависимость от количества комнат и общей площади."
   ]
  },
  {
   "cell_type": "markdown",
   "metadata": {},
   "source": [
    "## 8. Общий вывод"
   ]
  },
  {
   "cell_type": "markdown",
   "metadata": {},
   "source": [
    "Выполнены 4 этапа работы:\n",
    "\n",
    "1. Ознакомление с данными\n",
    "\n",
    "\n",
    "2. Предобработка данных. Выполнено заполнение пропусков, приведение типов, удаление выбросов, переименование столбцов, устранение несограсованности данных.\n",
    "\n",
    "\n",
    "3. Добавление данных:\n",
    "    * цена за квадратный метр\n",
    "    * день недели, месяц и год публикации объявления\n",
    "    * Категория этажа квартиры\n",
    "    * Соотношение общей и жилой площади\n",
    "    * Соотношение общей площади и кухни\n",
    "\n",
    "\n",
    "4. Исследовательский анализ данных\n",
    "\n",
    "    Выяснено, что для всего города Санкт-Петербург что цена зависит от:\n",
    "    * общей площади\n",
    "    * количества комнат\n",
    "    * высоты потолков\n",
    "    * расстяния до центра (чем дальше от центра, тем дешевле квартиры)\n",
    "    \n",
    "    Цена слабо зависит от этажа и года размещения объявления.\n",
    "\n",
    "    При сравнении зависимости цена квартиры в центре города и во всем городе было выявлено, что вне центра более выражена зависимость цены от растояния до центра. Также чуть заметнее зависимость от количества комнат и общей площади."
   ]
  }
 ],
 "metadata": {
  "kernelspec": {
   "display_name": "Python 3",
   "language": "python",
   "name": "python3"
  },
  "language_info": {
   "codemirror_mode": {
    "name": "ipython",
    "version": 3
   },
   "file_extension": ".py",
   "mimetype": "text/x-python",
   "name": "python",
   "nbconvert_exporter": "python",
   "pygments_lexer": "ipython3",
   "version": "3.7.6"
  },
  "toc": {
   "base_numbering": 1,
   "nav_menu": {},
   "number_sections": false,
   "sideBar": true,
   "skip_h1_title": true,
   "title_cell": "Table of Contents",
   "title_sidebar": "Contents",
   "toc_cell": false,
   "toc_position": {
    "height": "calc(100% - 180px)",
    "left": "10px",
    "top": "150px",
    "width": "384px"
   },
   "toc_section_display": true,
   "toc_window_display": true
  }
 },
 "nbformat": 4,
 "nbformat_minor": 2
}
