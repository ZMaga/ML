{
 "cells": [
  {
   "cell_type": "code",
   "execution_count": 1,
   "metadata": {
    "ExecuteTime": {
     "end_time": "2020-10-24T12:03:33.909516Z",
     "start_time": "2020-10-24T12:03:33.905430Z"
    }
   },
   "outputs": [],
   "source": [
    "import warnings\n",
    "warnings.filterwarnings('ignore')"
   ]
  },
  {
   "cell_type": "code",
   "execution_count": 2,
   "metadata": {
    "ExecuteTime": {
     "end_time": "2020-10-24T12:03:42.069223Z",
     "start_time": "2020-10-24T12:03:33.912814Z"
    }
   },
   "outputs": [
    {
     "name": "stdout",
     "output_type": "stream",
     "text": [
      "Requirement already satisfied: pymystem3 in /opt/anaconda3/lib/python3.7/site-packages (0.2.0)\n",
      "Requirement already satisfied: pymorphy2 in /opt/anaconda3/lib/python3.7/site-packages (0.8)\n",
      "Requirement already satisfied: pymorphy2-dicts-ru in /opt/anaconda3/lib/python3.7/site-packages (2.4.404381.4453942)\n",
      "Requirement already satisfied: requests in /opt/anaconda3/lib/python3.7/site-packages (from pymystem3) (2.22.0)\n",
      "Requirement already satisfied: docopt>=0.6 in /opt/anaconda3/lib/python3.7/site-packages (from pymorphy2) (0.6.2)\n",
      "Requirement already satisfied: pymorphy2-dicts<3.0,>=2.4 in /opt/anaconda3/lib/python3.7/site-packages (from pymorphy2) (2.4.393442.3710985)\n",
      "Requirement already satisfied: dawg-python>=0.7 in /opt/anaconda3/lib/python3.7/site-packages (from pymorphy2) (0.7.2)\n",
      "Requirement already satisfied: chardet<3.1.0,>=3.0.2 in /opt/anaconda3/lib/python3.7/site-packages (from requests->pymystem3) (3.0.4)\n",
      "Requirement already satisfied: idna<2.9,>=2.5 in /opt/anaconda3/lib/python3.7/site-packages (from requests->pymystem3) (2.8)\n",
      "Requirement already satisfied: certifi>=2017.4.17 in /opt/anaconda3/lib/python3.7/site-packages (from requests->pymystem3) (2019.11.28)\n",
      "Requirement already satisfied: urllib3!=1.25.0,!=1.25.1,<1.26,>=1.21.1 in /opt/anaconda3/lib/python3.7/site-packages (from requests->pymystem3) (1.25.8)\n",
      "\u001b[33mWARNING: You are using pip version 20.2.1; however, version 20.2.4 is available.\n",
      "You should consider upgrading via the '/opt/anaconda3/bin/python3 -m pip install --upgrade pip' command.\u001b[0m\n"
     ]
    }
   ],
   "source": [
    "!pip install pymystem3 pymorphy2 pymorphy2-dicts-ru"
   ]
  },
  {
   "cell_type": "code",
   "execution_count": 3,
   "metadata": {
    "ExecuteTime": {
     "end_time": "2020-10-24T12:03:46.565382Z",
     "start_time": "2020-10-24T12:03:42.079086Z"
    }
   },
   "outputs": [],
   "source": [
    "import requests\n",
    "import pymorphy2                      # для определения частей речи\n",
    "import pandas as pd\n",
    "from pymystem3 import Mystem\n",
    "from collections import Counter\n",
    "from urllib.parse import urlencode\n",
    "from nltk.stem import SnowballStemmer # для стемминга"
   ]
  },
  {
   "cell_type": "code",
   "execution_count": 4,
   "metadata": {
    "ExecuteTime": {
     "end_time": "2020-10-24T12:03:46.573229Z",
     "start_time": "2020-10-24T12:03:46.568123Z"
    }
   },
   "outputs": [],
   "source": [
    "LINKS = [\"https://yadi.sk/d/asLAt64H9tBe0A\"]\n",
    "PATHS = ['/datasets/data.csv']"
   ]
  },
  {
   "cell_type": "code",
   "execution_count": 5,
   "metadata": {
    "ExecuteTime": {
     "end_time": "2020-10-24T12:03:46.690680Z",
     "start_time": "2020-10-24T12:03:46.576854Z"
    }
   },
   "outputs": [],
   "source": [
    "def load_data(paths, links=None):\n",
    "    \"\"\"\n",
    "    Функция принимает пути до локальных файлов с данными и (опционально) ссылки\n",
    "    для их скачивания.\n",
    "    \n",
    "    paths - локальные пути до файлов с данными\n",
    "    links - ссылки для скачивания (Яндекс.Диск)\n",
    "    \"\"\"\n",
    "    \n",
    "    data_list = []\n",
    "    base_url = 'https://cloud-api.yandex.net/v1/disk/public/resources/download?'\n",
    "    \n",
    "    if links != None and not links:\n",
    "        raise Exception(\"Error: wrong 'links' value (nmust be not empty list)\")\n",
    "    \n",
    "    if links:\n",
    "        if len(paths) != len(links):\n",
    "            raise Exception(\"Error: length of 'links' must be equal to length of 'paths'\")\n",
    "\n",
    "        if type(paths).__name__ != 'list' or type(links).__name__ != 'list':\n",
    "            raise Exception(\"Error: variables 'links' and 'paths' must be 'list' type\")\n",
    "\n",
    "    for i in range(len(paths)):\n",
    "        \n",
    "        try:\n",
    "            path = paths[i]\n",
    "            data_list.append(pd.read_csv(path))\n",
    "            \n",
    "        except FileNotFoundError:\n",
    "            # download from yandex disk\n",
    "            public_key = links[i]\n",
    "            print(\"Run load\", public_key)\n",
    "            \n",
    "            # get download link\n",
    "            final_url = base_url + urlencode(dict(public_key=public_key))\n",
    "            response = requests.get(final_url)\n",
    "            download_url = response.json()['href']\n",
    "            data = pd.read_csv(download_url)\n",
    "            data_list.append(pd.DataFrame(data))\n",
    "            print('Done.')\n",
    "            \n",
    "    return data_list"
   ]
  },
  {
   "cell_type": "code",
   "execution_count": 6,
   "metadata": {
    "ExecuteTime": {
     "end_time": "2020-10-24T12:03:46.782212Z",
     "start_time": "2020-10-24T12:03:46.695384Z"
    }
   },
   "outputs": [],
   "source": [
    "def clean_lemmas_rating(rating_dict):\n",
    "    '''\n",
    "    Функция для удаления предлогов, пробелов, символа конца строки.\n",
    "    На вход принимаем список кортежей (<count>, <word>):\n",
    "    count - частота встречаемости слова во тестовой выборке\n",
    "    word - слово из целей кредита\n",
    "    '''\n",
    "    \n",
    "    result = []\n",
    "    \n",
    "    for item in rating_dict.items():\n",
    "        count, word = item\n",
    "        ps = morph.parse(word)[0].tag.POS\n",
    "        \n",
    "        try:\n",
    "            # часть речи (part of speech)\n",
    "            ps = morph.parse(word)[0].tag.POS\n",
    "        except:\n",
    "            # проблемы с кодировкой или внезапно другой язык в данных\n",
    "            # оставляем результат без изменений, не смогли обработать\n",
    "            print('Error - processing: {} ->'.format(word), rating)\n",
    "            \n",
    "        # оставляем только существительные\n",
    "        if ps == 'NOUN':\n",
    "            result.append((word, count))\n",
    "            \n",
    "    return dict(result)"
   ]
  },
  {
   "cell_type": "code",
   "execution_count": 7,
   "metadata": {
    "ExecuteTime": {
     "end_time": "2020-10-24T12:03:46.904613Z",
     "start_time": "2020-10-24T12:03:46.786203Z"
    }
   },
   "outputs": [],
   "source": [
    "def purpose_category(purpose, rating):\n",
    "    '''\n",
    "    Функция для определения категорий целей кредита.\n",
    "    Проходим от наиболее популярного слова в rating до наименее популярного.\n",
    "    При первом совпадениии возвращаем категорию.\n",
    "    rating - аргумент по умолчанию\n",
    "    '''\n",
    "    \n",
    "    for category in rating:\n",
    "        # получаем основу слова категории, так как в целях используются разные падежи\n",
    "        stemmed_category = russian_stemmer.stem(category)\n",
    "        \n",
    "        if stemmed_category in purpose:\n",
    "            return category\n",
    "\n",
    "    return 'NaN'"
   ]
  },
  {
   "cell_type": "code",
   "execution_count": 8,
   "metadata": {
    "ExecuteTime": {
     "end_time": "2020-10-24T12:03:46.991424Z",
     "start_time": "2020-10-24T12:03:46.907282Z"
    }
   },
   "outputs": [],
   "source": [
    "def get_debt_probability(df, idx, col='gender', val='debt'):\n",
    "    \"\"\"\n",
    "    Функция для создания совдных таблиц по разным параметрам\n",
    "    \"\"\"\n",
    "\n",
    "    df_debt = person_data.groupby(idx)[val].sum().to_frame().reset_index()\n",
    "    df_all = person_data.groupby(idx)[col].count().to_frame().reset_index()\n",
    "    df_data = df_debt.merge(df_all,\n",
    "                            on=idx,\n",
    "                            how='inner')\n",
    "    df_data.rename(columns={col:\"all\"}, inplace=True)\n",
    "\n",
    "    # создаем столбец с вероятностью долга\n",
    "    probability = val+'_probability'\n",
    "    df_data[probability] = (df_data[val] / df_data['all'] * 100).round(1)\n",
    "    df_data.sort_values(probability, ascending=False, inplace=True)\n",
    "    \n",
    "    return df_data"
   ]
  },
  {
   "cell_type": "code",
   "execution_count": 9,
   "metadata": {
    "ExecuteTime": {
     "end_time": "2020-10-24T12:03:47.116847Z",
     "start_time": "2020-10-24T12:03:46.994229Z"
    }
   },
   "outputs": [],
   "source": [
    "def income_category(income, val_25, val_50, val_75):\n",
    "    \"\"\"\n",
    "    Функция для разбиения на категории уровню дохода\n",
    "    income - значения дохода\n",
    "    \"\"\"\n",
    "    \n",
    "    if income < val_25:\n",
    "        return 'низкий'\n",
    "    \n",
    "    if val_25 <= income <= val_50:\n",
    "        return 'ниже среднего'\n",
    "    \n",
    "    if val_50 < income <= val_75:\n",
    "        return 'средний'\n",
    "    \n",
    "    else:\n",
    "        return 'высокий'"
   ]
  },
  {
   "cell_type": "markdown",
   "metadata": {},
   "source": [
    "<a id='4'></a>\n",
    "## 1. Загрузка данных"
   ]
  },
  {
   "cell_type": "code",
   "execution_count": 10,
   "metadata": {
    "ExecuteTime": {
     "end_time": "2020-10-24T12:04:00.395406Z",
     "start_time": "2020-10-24T12:03:47.120095Z"
    }
   },
   "outputs": [
    {
     "name": "stdout",
     "output_type": "stream",
     "text": [
      "Run load https://yadi.sk/d/asLAt64H9tBe0A\n",
      "Done.\n",
      "<class 'pandas.core.frame.DataFrame'>\n",
      "RangeIndex: 21525 entries, 0 to 21524\n",
      "Data columns (total 12 columns):\n",
      " #   Column            Non-Null Count  Dtype  \n",
      "---  ------            --------------  -----  \n",
      " 0   children          21525 non-null  int64  \n",
      " 1   days_employed     19351 non-null  float64\n",
      " 2   dob_years         21525 non-null  int64  \n",
      " 3   education         21525 non-null  object \n",
      " 4   education_id      21525 non-null  int64  \n",
      " 5   family_status     21525 non-null  object \n",
      " 6   family_status_id  21525 non-null  int64  \n",
      " 7   gender            21525 non-null  object \n",
      " 8   income_type       21525 non-null  object \n",
      " 9   debt              21525 non-null  int64  \n",
      " 10  total_income      19351 non-null  float64\n",
      " 11  purpose           21525 non-null  object \n",
      "dtypes: float64(2), int64(5), object(5)\n",
      "memory usage: 2.0+ MB\n"
     ]
    }
   ],
   "source": [
    "data = load_data(PATHS, links=LINKS)[0]\n",
    "data.info()"
   ]
  },
  {
   "cell_type": "code",
   "execution_count": 11,
   "metadata": {
    "ExecuteTime": {
     "end_time": "2020-10-24T12:04:00.461947Z",
     "start_time": "2020-10-24T12:04:00.398658Z"
    }
   },
   "outputs": [
    {
     "data": {
      "text/html": [
       "<div>\n",
       "<style scoped>\n",
       "    .dataframe tbody tr th:only-of-type {\n",
       "        vertical-align: middle;\n",
       "    }\n",
       "\n",
       "    .dataframe tbody tr th {\n",
       "        vertical-align: top;\n",
       "    }\n",
       "\n",
       "    .dataframe thead th {\n",
       "        text-align: right;\n",
       "    }\n",
       "</style>\n",
       "<table border=\"1\" class=\"dataframe\">\n",
       "  <thead>\n",
       "    <tr style=\"text-align: right;\">\n",
       "      <th></th>\n",
       "      <th>children</th>\n",
       "      <th>days_employed</th>\n",
       "      <th>age</th>\n",
       "      <th>education</th>\n",
       "      <th>education_id</th>\n",
       "      <th>family_status</th>\n",
       "      <th>family_status_id</th>\n",
       "      <th>gender</th>\n",
       "      <th>income_type</th>\n",
       "      <th>debt</th>\n",
       "      <th>total_income</th>\n",
       "      <th>purpose</th>\n",
       "    </tr>\n",
       "  </thead>\n",
       "  <tbody>\n",
       "    <tr>\n",
       "      <th>5443</th>\n",
       "      <td>0</td>\n",
       "      <td>-1485.878046</td>\n",
       "      <td>50</td>\n",
       "      <td>среднее</td>\n",
       "      <td>1</td>\n",
       "      <td>женат / замужем</td>\n",
       "      <td>0</td>\n",
       "      <td>F</td>\n",
       "      <td>сотрудник</td>\n",
       "      <td>0</td>\n",
       "      <td>211725.715659</td>\n",
       "      <td>недвижимость</td>\n",
       "    </tr>\n",
       "    <tr>\n",
       "      <th>1343</th>\n",
       "      <td>2</td>\n",
       "      <td>-8379.701788</td>\n",
       "      <td>40</td>\n",
       "      <td>среднее</td>\n",
       "      <td>1</td>\n",
       "      <td>женат / замужем</td>\n",
       "      <td>0</td>\n",
       "      <td>F</td>\n",
       "      <td>сотрудник</td>\n",
       "      <td>0</td>\n",
       "      <td>287397.185795</td>\n",
       "      <td>покупка недвижимости</td>\n",
       "    </tr>\n",
       "    <tr>\n",
       "      <th>14228</th>\n",
       "      <td>0</td>\n",
       "      <td>-772.635273</td>\n",
       "      <td>42</td>\n",
       "      <td>начальное</td>\n",
       "      <td>3</td>\n",
       "      <td>в разводе</td>\n",
       "      <td>3</td>\n",
       "      <td>F</td>\n",
       "      <td>сотрудник</td>\n",
       "      <td>0</td>\n",
       "      <td>192722.144551</td>\n",
       "      <td>строительство собственной недвижимости</td>\n",
       "    </tr>\n",
       "    <tr>\n",
       "      <th>7796</th>\n",
       "      <td>1</td>\n",
       "      <td>-532.675392</td>\n",
       "      <td>37</td>\n",
       "      <td>среднее</td>\n",
       "      <td>1</td>\n",
       "      <td>женат / замужем</td>\n",
       "      <td>0</td>\n",
       "      <td>F</td>\n",
       "      <td>сотрудник</td>\n",
       "      <td>0</td>\n",
       "      <td>102319.693356</td>\n",
       "      <td>строительство собственной недвижимости</td>\n",
       "    </tr>\n",
       "    <tr>\n",
       "      <th>19483</th>\n",
       "      <td>2</td>\n",
       "      <td>-474.573753</td>\n",
       "      <td>33</td>\n",
       "      <td>среднее</td>\n",
       "      <td>1</td>\n",
       "      <td>женат / замужем</td>\n",
       "      <td>0</td>\n",
       "      <td>M</td>\n",
       "      <td>сотрудник</td>\n",
       "      <td>0</td>\n",
       "      <td>126863.599317</td>\n",
       "      <td>получение дополнительного образования</td>\n",
       "    </tr>\n",
       "    <tr>\n",
       "      <th>10413</th>\n",
       "      <td>1</td>\n",
       "      <td>NaN</td>\n",
       "      <td>51</td>\n",
       "      <td>среднее</td>\n",
       "      <td>1</td>\n",
       "      <td>женат / замужем</td>\n",
       "      <td>0</td>\n",
       "      <td>F</td>\n",
       "      <td>компаньон</td>\n",
       "      <td>0</td>\n",
       "      <td>NaN</td>\n",
       "      <td>покупка жилой недвижимости</td>\n",
       "    </tr>\n",
       "    <tr>\n",
       "      <th>9713</th>\n",
       "      <td>0</td>\n",
       "      <td>-526.643538</td>\n",
       "      <td>28</td>\n",
       "      <td>среднее</td>\n",
       "      <td>1</td>\n",
       "      <td>Не женат / не замужем</td>\n",
       "      <td>4</td>\n",
       "      <td>M</td>\n",
       "      <td>сотрудник</td>\n",
       "      <td>1</td>\n",
       "      <td>168882.474048</td>\n",
       "      <td>заняться высшим образованием</td>\n",
       "    </tr>\n",
       "    <tr>\n",
       "      <th>6777</th>\n",
       "      <td>0</td>\n",
       "      <td>NaN</td>\n",
       "      <td>46</td>\n",
       "      <td>среднее</td>\n",
       "      <td>1</td>\n",
       "      <td>Не женат / не замужем</td>\n",
       "      <td>4</td>\n",
       "      <td>F</td>\n",
       "      <td>сотрудник</td>\n",
       "      <td>0</td>\n",
       "      <td>NaN</td>\n",
       "      <td>сделка с подержанным автомобилем</td>\n",
       "    </tr>\n",
       "    <tr>\n",
       "      <th>4500</th>\n",
       "      <td>1</td>\n",
       "      <td>-886.057351</td>\n",
       "      <td>44</td>\n",
       "      <td>высшее</td>\n",
       "      <td>0</td>\n",
       "      <td>женат / замужем</td>\n",
       "      <td>0</td>\n",
       "      <td>F</td>\n",
       "      <td>сотрудник</td>\n",
       "      <td>0</td>\n",
       "      <td>91440.862789</td>\n",
       "      <td>покупка жилой недвижимости</td>\n",
       "    </tr>\n",
       "    <tr>\n",
       "      <th>19516</th>\n",
       "      <td>2</td>\n",
       "      <td>-227.897742</td>\n",
       "      <td>38</td>\n",
       "      <td>среднее</td>\n",
       "      <td>1</td>\n",
       "      <td>женат / замужем</td>\n",
       "      <td>0</td>\n",
       "      <td>F</td>\n",
       "      <td>сотрудник</td>\n",
       "      <td>0</td>\n",
       "      <td>54303.467532</td>\n",
       "      <td>высшее образование</td>\n",
       "    </tr>\n",
       "  </tbody>\n",
       "</table>\n",
       "</div>"
      ],
      "text/plain": [
       "       children  days_employed  age  education  education_id  \\\n",
       "5443          0   -1485.878046   50    среднее             1   \n",
       "1343          2   -8379.701788   40    среднее             1   \n",
       "14228         0    -772.635273   42  начальное             3   \n",
       "7796          1    -532.675392   37    среднее             1   \n",
       "19483         2    -474.573753   33    среднее             1   \n",
       "10413         1            NaN   51    среднее             1   \n",
       "9713          0    -526.643538   28    среднее             1   \n",
       "6777          0            NaN   46    среднее             1   \n",
       "4500          1    -886.057351   44     высшее             0   \n",
       "19516         2    -227.897742   38    среднее             1   \n",
       "\n",
       "               family_status  family_status_id gender income_type  debt  \\\n",
       "5443         женат / замужем                 0      F   сотрудник     0   \n",
       "1343         женат / замужем                 0      F   сотрудник     0   \n",
       "14228              в разводе                 3      F   сотрудник     0   \n",
       "7796         женат / замужем                 0      F   сотрудник     0   \n",
       "19483        женат / замужем                 0      M   сотрудник     0   \n",
       "10413        женат / замужем                 0      F   компаньон     0   \n",
       "9713   Не женат / не замужем                 4      M   сотрудник     1   \n",
       "6777   Не женат / не замужем                 4      F   сотрудник     0   \n",
       "4500         женат / замужем                 0      F   сотрудник     0   \n",
       "19516        женат / замужем                 0      F   сотрудник     0   \n",
       "\n",
       "        total_income                                 purpose  \n",
       "5443   211725.715659                            недвижимость  \n",
       "1343   287397.185795                    покупка недвижимости  \n",
       "14228  192722.144551  строительство собственной недвижимости  \n",
       "7796   102319.693356  строительство собственной недвижимости  \n",
       "19483  126863.599317   получение дополнительного образования  \n",
       "10413            NaN              покупка жилой недвижимости  \n",
       "9713   168882.474048            заняться высшим образованием  \n",
       "6777             NaN        сделка с подержанным автомобилем  \n",
       "4500    91440.862789              покупка жилой недвижимости  \n",
       "19516   54303.467532                      высшее образование  "
      ]
     },
     "execution_count": 11,
     "metadata": {},
     "output_type": "execute_result"
    }
   ],
   "source": [
    "# переименуем столбцы\n",
    "data.rename(columns={\"dob_years\": \"age\"}, inplace=True)\n",
    "\n",
    "data.sample(10)"
   ]
  },
  {
   "cell_type": "code",
   "execution_count": 12,
   "metadata": {
    "ExecuteTime": {
     "end_time": "2020-10-24T12:04:00.538368Z",
     "start_time": "2020-10-24T12:04:00.465055Z"
    }
   },
   "outputs": [
    {
     "name": "stdout",
     "output_type": "stream",
     "text": [
      "2174 2174\n"
     ]
    }
   ],
   "source": [
    "null_days_employed = data[ data['days_employed'].isnull()].shape[0]\n",
    "null_total_income = data[ data['total_income'].isnull()].shape[0]\n",
    "\n",
    "print(null_days_employed, null_total_income)"
   ]
  },
  {
   "cell_type": "code",
   "execution_count": 13,
   "metadata": {
    "ExecuteTime": {
     "end_time": "2020-10-24T12:04:00.635811Z",
     "start_time": "2020-10-24T12:04:00.541552Z"
    }
   },
   "outputs": [
    {
     "data": {
      "text/plain": [
       "сотрудник          1105\n",
       "компаньон           508\n",
       "пенсионер           413\n",
       "госслужащий         147\n",
       "предприниматель       1\n",
       "Name: income_type, dtype: int64"
      ]
     },
     "execution_count": 13,
     "metadata": {},
     "output_type": "execute_result"
    }
   ],
   "source": [
    "data_no_days_employed = data[data['days_employed'].isnull()]\n",
    "data_no_days_employed['income_type'].value_counts()"
   ]
  },
  {
   "cell_type": "markdown",
   "metadata": {},
   "source": [
    "Данные представляют включают признаки 21525 объектов. Выявлены следующие особенности:\n",
    "1. Пропуски в столбцах _days_employed,  total_income_ в одинаковом количестве - 2174.\n",
    "2. Разнородность описания:\n",
    "   * столбец _gender_ неинформативно описывает пол заемщика;\n",
    "   * встречаются одинаковые значения, написанные в разном регистре.\n",
    "3. Отрицательные значения столбца _days_employed_ .\n",
    "4. Типы данных столбцов: числовые (целочисленные и дробные), строковые.\n",
    "4. Столбцы _family_status, purpose_ - категориальные признаки.\n",
    "5. Столбец _purpose_ содержит значения, часто отличающиеся падежами (с включениями предлогов), но имеющие одинаковый смысл: \"на покупку автомобиля\", \"на покупку своего автомобиля\", \"приобретение автомобиля\"."
   ]
  },
  {
   "cell_type": "markdown",
   "metadata": {},
   "source": [
    "<a id='5'></a>\n",
    "## 2. Предобработка данных"
   ]
  },
  {
   "cell_type": "markdown",
   "metadata": {},
   "source": [
    "### 2.1. Обработка пропусков"
   ]
  },
  {
   "cell_type": "code",
   "execution_count": 14,
   "metadata": {
    "ExecuteTime": {
     "end_time": "2020-10-24T12:04:00.721007Z",
     "start_time": "2020-10-24T12:04:00.642390Z"
    }
   },
   "outputs": [
    {
     "name": "stdout",
     "output_type": "stream",
     "text": [
      "Пропуски для total_income и days_employed совпадают: 2174\n"
     ]
    }
   ],
   "source": [
    "# взаимосвязь пропусков в 'days_employed' и 'total_income' с значением 'income_type'\n",
    "null_data = data[data.days_employed.isnull() | data.total_income.isnull()][\n",
    "    ['days_employed','income_type', 'total_income']]\n",
    "\n",
    "if null_days_employed == null_data.shape[0] and null_total_income == null_data.shape[0]:\n",
    "    print('Пропуски для total_income и days_employed совпадают:', null_data.shape[0])"
   ]
  },
  {
   "cell_type": "code",
   "execution_count": 15,
   "metadata": {
    "ExecuteTime": {
     "end_time": "2020-10-24T12:04:00.829965Z",
     "start_time": "2020-10-24T12:04:00.724985Z"
    }
   },
   "outputs": [
    {
     "data": {
      "text/plain": [
       "сотрудник          1105\n",
       "компаньон           508\n",
       "пенсионер           413\n",
       "госслужащий         147\n",
       "предприниматель       1\n",
       "Name: income_type, dtype: int64"
      ]
     },
     "execution_count": 15,
     "metadata": {},
     "output_type": "execute_result"
    }
   ],
   "source": [
    "# Количество пропусков 'total_income' для каждого типа занятости\n",
    "data[data['total_income'].isnull()]['income_type'].value_counts()"
   ]
  },
  {
   "cell_type": "code",
   "execution_count": 16,
   "metadata": {
    "ExecuteTime": {
     "end_time": "2020-10-24T12:04:00.918322Z",
     "start_time": "2020-10-24T12:04:00.833288Z"
    }
   },
   "outputs": [
    {
     "data": {
      "text/plain": [
       "сотрудник          1105\n",
       "компаньон           508\n",
       "пенсионер           413\n",
       "госслужащий         147\n",
       "предприниматель       1\n",
       "Name: income_type, dtype: int64"
      ]
     },
     "execution_count": 16,
     "metadata": {},
     "output_type": "execute_result"
    }
   ],
   "source": [
    "# Количество пропусков 'days_employed' для каждого типа занятости\n",
    "data[data['days_employed'].isnull()]['income_type'].value_counts()"
   ]
  },
  {
   "cell_type": "code",
   "execution_count": 17,
   "metadata": {
    "ExecuteTime": {
     "end_time": "2020-10-24T12:04:00.999560Z",
     "start_time": "2020-10-24T12:04:00.927531Z"
    }
   },
   "outputs": [
    {
     "data": {
      "text/plain": [
       "age\n",
       "0     101\n",
       "19     14\n",
       "20     51\n",
       "21    111\n",
       "22    183\n",
       "Name: education, dtype: int64"
      ]
     },
     "execution_count": 17,
     "metadata": {},
     "output_type": "execute_result"
    }
   ],
   "source": [
    "# Посмотрим на значения возраста\n",
    "data.groupby('age')['education'].count().head()"
   ]
  },
  {
   "cell_type": "markdown",
   "metadata": {},
   "source": [
    "Во многих заявках возраст не указан, поэтому посмотрим, для каких типов занятости встречается нулевой возраст."
   ]
  },
  {
   "cell_type": "code",
   "execution_count": 18,
   "metadata": {
    "ExecuteTime": {
     "end_time": "2020-10-24T12:04:01.087600Z",
     "start_time": "2020-10-24T12:04:01.003756Z"
    }
   },
   "outputs": [
    {
     "data": {
      "text/plain": [
       "сотрудник      55\n",
       "компаньон      20\n",
       "пенсионер      20\n",
       "госслужащий     6\n",
       "Name: income_type, dtype: int64"
      ]
     },
     "execution_count": 18,
     "metadata": {},
     "output_type": "execute_result"
    }
   ],
   "source": [
    "data[data['age'] == 0]['income_type'].value_counts()"
   ]
  },
  {
   "cell_type": "markdown",
   "metadata": {},
   "source": [
    "Для столбцов **income_type, days_employed, age** встречаются пропуски. Составим отдельную таблицу со средними и медианными значениями по каждому проблемному столбцу."
   ]
  },
  {
   "cell_type": "code",
   "execution_count": 19,
   "metadata": {
    "ExecuteTime": {
     "end_time": "2020-10-24T12:04:01.258116Z",
     "start_time": "2020-10-24T12:04:01.090666Z"
    }
   },
   "outputs": [
    {
     "data": {
      "text/html": [
       "<div>\n",
       "<style scoped>\n",
       "    .dataframe tbody tr th:only-of-type {\n",
       "        vertical-align: middle;\n",
       "    }\n",
       "\n",
       "    .dataframe tbody tr th {\n",
       "        vertical-align: top;\n",
       "    }\n",
       "\n",
       "    .dataframe thead tr th {\n",
       "        text-align: left;\n",
       "    }\n",
       "\n",
       "    .dataframe thead tr:last-of-type th {\n",
       "        text-align: right;\n",
       "    }\n",
       "</style>\n",
       "<table border=\"1\" class=\"dataframe\">\n",
       "  <thead>\n",
       "    <tr>\n",
       "      <th></th>\n",
       "      <th colspan=\"2\" halign=\"left\">age</th>\n",
       "      <th colspan=\"2\" halign=\"left\">days_employed</th>\n",
       "      <th colspan=\"2\" halign=\"left\">total_income</th>\n",
       "    </tr>\n",
       "    <tr>\n",
       "      <th></th>\n",
       "      <th>median</th>\n",
       "      <th>mean</th>\n",
       "      <th>median</th>\n",
       "      <th>mean</th>\n",
       "      <th>median</th>\n",
       "      <th>mean</th>\n",
       "    </tr>\n",
       "    <tr>\n",
       "      <th>income_type</th>\n",
       "      <th></th>\n",
       "      <th></th>\n",
       "      <th></th>\n",
       "      <th></th>\n",
       "      <th></th>\n",
       "      <th></th>\n",
       "    </tr>\n",
       "  </thead>\n",
       "  <tbody>\n",
       "    <tr>\n",
       "      <th>безработный</th>\n",
       "      <td>38.0</td>\n",
       "      <td>38.000000</td>\n",
       "      <td>366413.652744</td>\n",
       "      <td>366413.652744</td>\n",
       "      <td>131339.751676</td>\n",
       "      <td>131339.751676</td>\n",
       "    </tr>\n",
       "    <tr>\n",
       "      <th>в декрете</th>\n",
       "      <td>39.0</td>\n",
       "      <td>39.000000</td>\n",
       "      <td>-3296.759962</td>\n",
       "      <td>-3296.759962</td>\n",
       "      <td>53829.130729</td>\n",
       "      <td>53829.130729</td>\n",
       "    </tr>\n",
       "    <tr>\n",
       "      <th>госслужащий</th>\n",
       "      <td>40.0</td>\n",
       "      <td>40.636737</td>\n",
       "      <td>-2689.368353</td>\n",
       "      <td>-3399.896902</td>\n",
       "      <td>150447.935283</td>\n",
       "      <td>170898.309923</td>\n",
       "    </tr>\n",
       "    <tr>\n",
       "      <th>компаньон</th>\n",
       "      <td>39.0</td>\n",
       "      <td>39.697542</td>\n",
       "      <td>-1547.382223</td>\n",
       "      <td>-2111.524398</td>\n",
       "      <td>172357.950966</td>\n",
       "      <td>202417.461462</td>\n",
       "    </tr>\n",
       "    <tr>\n",
       "      <th>пенсионер</th>\n",
       "      <td>60.0</td>\n",
       "      <td>59.063019</td>\n",
       "      <td>365213.306266</td>\n",
       "      <td>365003.491245</td>\n",
       "      <td>118514.486412</td>\n",
       "      <td>137127.465690</td>\n",
       "    </tr>\n",
       "    <tr>\n",
       "      <th>предприниматель</th>\n",
       "      <td>42.5</td>\n",
       "      <td>42.500000</td>\n",
       "      <td>-520.848083</td>\n",
       "      <td>-520.848083</td>\n",
       "      <td>499163.144947</td>\n",
       "      <td>499163.144947</td>\n",
       "    </tr>\n",
       "    <tr>\n",
       "      <th>сотрудник</th>\n",
       "      <td>39.0</td>\n",
       "      <td>39.821027</td>\n",
       "      <td>-1574.202821</td>\n",
       "      <td>-2326.499216</td>\n",
       "      <td>142594.396847</td>\n",
       "      <td>161380.260488</td>\n",
       "    </tr>\n",
       "    <tr>\n",
       "      <th>студент</th>\n",
       "      <td>22.0</td>\n",
       "      <td>22.000000</td>\n",
       "      <td>-578.751554</td>\n",
       "      <td>-578.751554</td>\n",
       "      <td>98201.625314</td>\n",
       "      <td>98201.625314</td>\n",
       "    </tr>\n",
       "  </tbody>\n",
       "</table>\n",
       "</div>"
      ],
      "text/plain": [
       "                   age             days_employed                 \\\n",
       "                median       mean         median           mean   \n",
       "income_type                                                       \n",
       "безработный       38.0  38.000000  366413.652744  366413.652744   \n",
       "в декрете         39.0  39.000000   -3296.759962   -3296.759962   \n",
       "госслужащий       40.0  40.636737   -2689.368353   -3399.896902   \n",
       "компаньон         39.0  39.697542   -1547.382223   -2111.524398   \n",
       "пенсионер         60.0  59.063019  365213.306266  365003.491245   \n",
       "предприниматель   42.5  42.500000    -520.848083    -520.848083   \n",
       "сотрудник         39.0  39.821027   -1574.202821   -2326.499216   \n",
       "студент           22.0  22.000000    -578.751554    -578.751554   \n",
       "\n",
       "                  total_income                 \n",
       "                        median           mean  \n",
       "income_type                                    \n",
       "безработный      131339.751676  131339.751676  \n",
       "в декрете         53829.130729   53829.130729  \n",
       "госслужащий      150447.935283  170898.309923  \n",
       "компаньон        172357.950966  202417.461462  \n",
       "пенсионер        118514.486412  137127.465690  \n",
       "предприниматель  499163.144947  499163.144947  \n",
       "сотрудник        142594.396847  161380.260488  \n",
       "студент           98201.625314   98201.625314  "
      ]
     },
     "execution_count": 19,
     "metadata": {},
     "output_type": "execute_result"
    }
   ],
   "source": [
    "# считаем для age\n",
    "income_type_stat = data.groupby('income_type').agg({'age':['median','mean']})\n",
    "\n",
    "# считаем для days_employed\n",
    "income_type_stat = income_type_stat.merge(data.groupby('income_type').agg({'days_employed':['median','mean']}),\n",
    "                                          on='income_type',\n",
    "                                          how='inner')\n",
    "\n",
    "# считаем для total_income\n",
    "income_type_stat = income_type_stat.merge(data.groupby('income_type').agg({'total_income':['median','mean']}),\n",
    "                                          on='income_type',\n",
    "                                          how='inner')\n",
    "\n",
    "income_type_stat"
   ]
  },
  {
   "cell_type": "markdown",
   "metadata": {},
   "source": [
    "Заполним пропуски для столбцов **age, days_employed, total_income** медианой по отдельным типам занятости, так как среднее арифметическое расходится с медианным значением."
   ]
  },
  {
   "cell_type": "code",
   "execution_count": 20,
   "metadata": {
    "ExecuteTime": {
     "end_time": "2020-10-24T12:04:01.341845Z",
     "start_time": "2020-10-24T12:04:01.261044Z"
    }
   },
   "outputs": [
    {
     "name": "stdout",
     "output_type": "stream",
     "text": [
      "<class 'pandas.core.frame.DataFrame'>\n",
      "RangeIndex: 21525 entries, 0 to 21524\n",
      "Data columns (total 12 columns):\n",
      " #   Column            Non-Null Count  Dtype  \n",
      "---  ------            --------------  -----  \n",
      " 0   children          21525 non-null  int64  \n",
      " 1   days_employed     19351 non-null  float64\n",
      " 2   age               21525 non-null  int64  \n",
      " 3   education         21525 non-null  object \n",
      " 4   education_id      21525 non-null  int64  \n",
      " 5   family_status     21525 non-null  object \n",
      " 6   family_status_id  21525 non-null  int64  \n",
      " 7   gender            21525 non-null  object \n",
      " 8   income_type       21525 non-null  object \n",
      " 9   debt              21525 non-null  int64  \n",
      " 10  total_income      19351 non-null  float64\n",
      " 11  purpose           21525 non-null  object \n",
      "dtypes: float64(2), int64(5), object(5)\n",
      "memory usage: 2.0+ MB\n"
     ]
    }
   ],
   "source": [
    "data.info()"
   ]
  },
  {
   "cell_type": "code",
   "execution_count": 21,
   "metadata": {
    "ExecuteTime": {
     "end_time": "2020-10-24T12:04:01.528122Z",
     "start_time": "2020-10-24T12:04:01.344940Z"
    }
   },
   "outputs": [
    {
     "name": "stdout",
     "output_type": "stream",
     "text": [
      "Минимальный возраст в данных: 19\n",
      "Количество пропущенных значений days_employed: 0\n",
      "Количество пропущенных значений total_income: 0\n"
     ]
    }
   ],
   "source": [
    "for group in ['total_income', 'days_employed']:\n",
    "    data[group] = (data\n",
    "                   .groupby('income_type')[group]\n",
    "                   .transform(lambda x: x.fillna(x.median()))\n",
    "                  )\n",
    "\n",
    "data['age'] = (data\n",
    "               .groupby('income_type')['age']\n",
    "               .transform(lambda x: x.replace({0: x.median()}))\n",
    "              )\n",
    "\n",
    "print('Минимальный возраст в данных:', data['age'].min())\n",
    "print('Количество пропущенных значений days_employed:', data.days_employed.isnull().sum())\n",
    "print('Количество пропущенных значений total_income:', data.total_income.isnull().sum())\n"
   ]
  },
  {
   "cell_type": "code",
   "execution_count": 22,
   "metadata": {
    "ExecuteTime": {
     "end_time": "2020-10-24T12:04:01.617662Z",
     "start_time": "2020-10-24T12:04:01.530539Z"
    }
   },
   "outputs": [
    {
     "name": "stdout",
     "output_type": "stream",
     "text": [
      "женский    14236\n",
      "мужской     7288\n",
      "XNA            1\n",
      "Name: gender, dtype: int64\n"
     ]
    }
   ],
   "source": [
    "# посмотрим на значения данных о поле заемщиков\n",
    "data['gender'] = data['gender'].replace('M', 'мужской')\n",
    "data['gender'] = data['gender'].replace('F', 'женский')\n",
    "print(data['gender'].value_counts())"
   ]
  },
  {
   "cell_type": "code",
   "execution_count": 23,
   "metadata": {
    "ExecuteTime": {
     "end_time": "2020-10-24T12:04:01.713472Z",
     "start_time": "2020-10-24T12:04:01.620323Z"
    }
   },
   "outputs": [
    {
     "name": "stdout",
     "output_type": "stream",
     "text": [
      "Самый популярный пол: женский\n"
     ]
    }
   ],
   "source": [
    "popular_gender = data['gender'].value_counts().idxmax()\n",
    "print('Самый популярный пол:', popular_gender)"
   ]
  },
  {
   "cell_type": "markdown",
   "metadata": {},
   "source": [
    "Заменим пропуск на значение самого популярного пола заемщиков."
   ]
  },
  {
   "cell_type": "code",
   "execution_count": 24,
   "metadata": {
    "ExecuteTime": {
     "end_time": "2020-10-24T12:04:01.825984Z",
     "start_time": "2020-10-24T12:04:01.716455Z"
    }
   },
   "outputs": [
    {
     "name": "stdout",
     "output_type": "stream",
     "text": [
      "\n",
      "\n",
      "Данные 'gender' после обработки:\n",
      "\n",
      "<class 'pandas.core.frame.DataFrame'>\n",
      "RangeIndex: 21525 entries, 0 to 21524\n",
      "Data columns (total 12 columns):\n",
      " #   Column            Non-Null Count  Dtype  \n",
      "---  ------            --------------  -----  \n",
      " 0   children          21525 non-null  int64  \n",
      " 1   days_employed     21525 non-null  float64\n",
      " 2   age               21525 non-null  int64  \n",
      " 3   education         21525 non-null  object \n",
      " 4   education_id      21525 non-null  int64  \n",
      " 5   family_status     21525 non-null  object \n",
      " 6   family_status_id  21525 non-null  int64  \n",
      " 7   gender            21525 non-null  object \n",
      " 8   income_type       21525 non-null  object \n",
      " 9   debt              21525 non-null  int64  \n",
      " 10  total_income      21525 non-null  float64\n",
      " 11  purpose           21525 non-null  object \n",
      "dtypes: float64(2), int64(5), object(5)\n",
      "memory usage: 2.0+ MB\n"
     ]
    }
   ],
   "source": [
    "data.loc[data['gender'] == 'XNA', 'gender'] = popular_gender\n",
    "print(\"\\n\\nДанные 'gender' после обработки:\\n\")\n",
    "\n",
    "# print(data['gender'].value_counts())\n",
    "data.info()"
   ]
  },
  {
   "cell_type": "markdown",
   "metadata": {},
   "source": [
    "Проверка пропущенных данных о днях занятости __days_employed__ и доходе заемщика __total_income__ показала, что пропуски характерны для одних и тех же объектов. Однако, это не значит, что лица, у которых пропущены значения в этих стобцах, не работают на момент заявки: данные по ошибке могли быть не заполнены или потеряться. Также было обнаружено, что в данных о возрасте в столбце __age__ много нулевых значений (101), что может повлиять на результат в дальнейшем анализе. Поэтому было принято решение заменить пропуски на медианные значения в зависимости от типа занятости.\n",
    "Также обнаружен неявный (типа Str) единичный пропуск в данных о поле заемщиков и заменен на самый часто втречаемый пол в данных - _женский_."
   ]
  },
  {
   "cell_type": "markdown",
   "metadata": {},
   "source": [
    "### 2.2. Замена типа данных"
   ]
  },
  {
   "cell_type": "code",
   "execution_count": 25,
   "metadata": {
    "ExecuteTime": {
     "end_time": "2020-10-24T12:04:01.922530Z",
     "start_time": "2020-10-24T12:04:01.829337Z"
    }
   },
   "outputs": [
    {
     "name": "stdout",
     "output_type": "stream",
     "text": [
      "<class 'pandas.core.frame.DataFrame'>\n",
      "RangeIndex: 21525 entries, 0 to 21524\n",
      "Data columns (total 12 columns):\n",
      " #   Column            Non-Null Count  Dtype \n",
      "---  ------            --------------  ----- \n",
      " 0   children          21525 non-null  int64 \n",
      " 1   days_employed     21525 non-null  int64 \n",
      " 2   age               21525 non-null  int64 \n",
      " 3   education         21525 non-null  object\n",
      " 4   education_id      21525 non-null  int64 \n",
      " 5   family_status     21525 non-null  object\n",
      " 6   family_status_id  21525 non-null  int64 \n",
      " 7   gender            21525 non-null  object\n",
      " 8   income_type       21525 non-null  object\n",
      " 9   debt              21525 non-null  int64 \n",
      " 10  total_income      21525 non-null  int64 \n",
      " 11  purpose           21525 non-null  object\n",
      "dtypes: int64(7), object(5)\n",
      "memory usage: 2.0+ MB\n"
     ]
    }
   ],
   "source": [
    "# преобразование типа данных в столбцах типа float64\n",
    "\n",
    "for column in ['days_employed', 'age', 'total_income']:\n",
    "    data[column] = data[column].astype('int')\n",
    "\n",
    "data.info()"
   ]
  },
  {
   "cell_type": "markdown",
   "metadata": {},
   "source": [
    "Столбцы __days_employed__, __age__, __total_income__ в выборке были типа _float64_ без округления. Во избежание проблем при поиске дубликатов данных, значения этих столбцов были переведены в целочисленный тип данных."
   ]
  },
  {
   "cell_type": "markdown",
   "metadata": {},
   "source": [
    "### 2.3. Обработка дубликатов"
   ]
  },
  {
   "cell_type": "code",
   "execution_count": 26,
   "metadata": {
    "ExecuteTime": {
     "end_time": "2020-10-24T12:04:02.003325Z",
     "start_time": "2020-10-24T12:04:01.925300Z"
    }
   },
   "outputs": [
    {
     "data": {
      "text/plain": [
       "среднее                13750\n",
       "высшее                  4718\n",
       "СРЕДНЕЕ                  772\n",
       "Среднее                  711\n",
       "неоконченное высшее      668\n",
       "ВЫСШЕЕ                   274\n",
       "Высшее                   268\n",
       "начальное                250\n",
       "Неоконченное высшее       47\n",
       "НЕОКОНЧЕННОЕ ВЫСШЕЕ       29\n",
       "НАЧАЛЬНОЕ                 17\n",
       "Начальное                 15\n",
       "ученая степень             4\n",
       "Ученая степень             1\n",
       "УЧЕНАЯ СТЕПЕНЬ             1\n",
       "Name: education, dtype: int64"
      ]
     },
     "execution_count": 26,
     "metadata": {},
     "output_type": "execute_result"
    }
   ],
   "source": [
    "data['education'].value_counts()"
   ]
  },
  {
   "cell_type": "code",
   "execution_count": 27,
   "metadata": {
    "ExecuteTime": {
     "end_time": "2020-10-24T12:04:02.099710Z",
     "start_time": "2020-10-24T12:04:02.006123Z"
    }
   },
   "outputs": [
    {
     "data": {
      "text/plain": [
       "женат / замужем          12380\n",
       "гражданский брак          4177\n",
       "Не женат / не замужем     2813\n",
       "в разводе                 1195\n",
       "вдовец / вдова             960\n",
       "Name: family_status, dtype: int64"
      ]
     },
     "execution_count": 27,
     "metadata": {},
     "output_type": "execute_result"
    }
   ],
   "source": [
    "data['family_status'].value_counts()"
   ]
  },
  {
   "cell_type": "code",
   "execution_count": 28,
   "metadata": {
    "ExecuteTime": {
     "end_time": "2020-10-24T12:04:02.192125Z",
     "start_time": "2020-10-24T12:04:02.102638Z"
    }
   },
   "outputs": [
    {
     "data": {
      "text/plain": [
       "сотрудник          11119\n",
       "компаньон           5085\n",
       "пенсионер           3856\n",
       "госслужащий         1459\n",
       "предприниматель        2\n",
       "безработный            2\n",
       "студент                1\n",
       "в декрете              1\n",
       "Name: income_type, dtype: int64"
      ]
     },
     "execution_count": 28,
     "metadata": {},
     "output_type": "execute_result"
    }
   ],
   "source": [
    "data['income_type'].value_counts()"
   ]
  },
  {
   "cell_type": "code",
   "execution_count": 29,
   "metadata": {
    "ExecuteTime": {
     "end_time": "2020-10-24T12:04:02.284786Z",
     "start_time": "2020-10-24T12:04:02.194555Z"
    }
   },
   "outputs": [
    {
     "data": {
      "text/plain": [
       "свадьба                                   797\n",
       "на проведение свадьбы                     777\n",
       "сыграть свадьбу                           774\n",
       "операции с недвижимостью                  676\n",
       "покупка коммерческой недвижимости         664\n",
       "покупка жилья для сдачи                   653\n",
       "операции с жильем                         653\n",
       "операции с коммерческой недвижимостью     651\n",
       "жилье                                     647\n",
       "покупка жилья                             647\n",
       "покупка жилья для семьи                   641\n",
       "строительство собственной недвижимости    635\n",
       "недвижимость                              634\n",
       "операции со своей недвижимостью           630\n",
       "строительство жилой недвижимости          626\n",
       "покупка недвижимости                      624\n",
       "строительство недвижимости                620\n",
       "покупка своего жилья                      620\n",
       "ремонт жилью                              612\n",
       "покупка жилой недвижимости                607\n",
       "на покупку своего автомобиля              505\n",
       "заняться высшим образованием              496\n",
       "автомобиль                                495\n",
       "сделка с подержанным автомобилем          489\n",
       "свой автомобиль                           480\n",
       "на покупку подержанного автомобиля        479\n",
       "автомобили                                478\n",
       "на покупку автомобиля                     472\n",
       "приобретение автомобиля                   462\n",
       "дополнительное образование                462\n",
       "сделка с автомобилем                      455\n",
       "высшее образование                        453\n",
       "получение дополнительного образования     447\n",
       "образование                               447\n",
       "получение образования                     443\n",
       "профильное образование                    436\n",
       "получение высшего образования             426\n",
       "заняться образованием                     412\n",
       "Name: purpose, dtype: int64"
      ]
     },
     "execution_count": 29,
     "metadata": {},
     "output_type": "execute_result"
    }
   ],
   "source": [
    "data['purpose'].value_counts()"
   ]
  },
  {
   "cell_type": "markdown",
   "metadata": {},
   "source": [
    "Переведем значения категориальных перевенных к нижнему регистру."
   ]
  },
  {
   "cell_type": "code",
   "execution_count": 30,
   "metadata": {
    "ExecuteTime": {
     "end_time": "2020-10-24T12:04:02.441454Z",
     "start_time": "2020-10-24T12:04:02.287504Z"
    }
   },
   "outputs": [
    {
     "name": "stdout",
     "output_type": "stream",
     "text": [
      "['среднее', 'высшее', 'неоконченное высшее', 'начальное', 'ученая степень']\n",
      "['женат / замужем', 'гражданский брак', 'не женат / не замужем', 'в разводе', 'вдовец / вдова']\n",
      "['женский', 'мужской']\n",
      "['сотрудник', 'компаньон', 'пенсионер', 'госслужащий', 'предприниматель', 'безработный', 'студент', 'в декрете']\n",
      "['свадьба', 'на проведение свадьбы', 'сыграть свадьбу', 'операции с недвижимостью', 'покупка коммерческой недвижимости', 'покупка жилья для сдачи', 'операции с жильем', 'операции с коммерческой недвижимостью', 'жилье', 'покупка жилья', 'покупка жилья для семьи', 'строительство собственной недвижимости', 'недвижимость', 'операции со своей недвижимостью', 'строительство жилой недвижимости', 'покупка недвижимости', 'строительство недвижимости', 'покупка своего жилья', 'ремонт жилью', 'покупка жилой недвижимости', 'на покупку своего автомобиля', 'заняться высшим образованием', 'автомобиль', 'сделка с подержанным автомобилем', 'свой автомобиль', 'на покупку подержанного автомобиля', 'автомобили', 'на покупку автомобиля', 'приобретение автомобиля', 'дополнительное образование', 'сделка с автомобилем', 'высшее образование', 'получение дополнительного образования', 'образование', 'получение образования', 'профильное образование', 'получение высшего образования', 'заняться образованием']\n"
     ]
    }
   ],
   "source": [
    "for column in ['education', 'family_status']:\n",
    "    data[column] = data[column].str.lower()\n",
    "\n",
    "for column in [ 'education', 'family_status', 'gender', 'income_type', 'purpose']:\n",
    "    print(data[column].value_counts().index.to_list())"
   ]
  },
  {
   "cell_type": "code",
   "execution_count": 31,
   "metadata": {
    "ExecuteTime": {
     "end_time": "2020-10-24T12:04:02.527678Z",
     "start_time": "2020-10-24T12:04:02.445301Z"
    }
   },
   "outputs": [
    {
     "data": {
      "text/plain": [
       "children            71\n",
       "days_employed       71\n",
       "age                 71\n",
       "education           71\n",
       "education_id        71\n",
       "family_status       71\n",
       "family_status_id    71\n",
       "gender              71\n",
       "income_type         71\n",
       "debt                71\n",
       "total_income        71\n",
       "purpose             71\n",
       "dtype: int64"
      ]
     },
     "execution_count": 31,
     "metadata": {},
     "output_type": "execute_result"
    }
   ],
   "source": [
    "# сколько дубликатов\n",
    "data[data.duplicated()].count()"
   ]
  },
  {
   "cell_type": "code",
   "execution_count": 32,
   "metadata": {
    "ExecuteTime": {
     "end_time": "2020-10-24T12:04:02.647544Z",
     "start_time": "2020-10-24T12:04:02.530456Z"
    }
   },
   "outputs": [
    {
     "data": {
      "text/plain": [
       "0"
      ]
     },
     "execution_count": 32,
     "metadata": {},
     "output_type": "execute_result"
    }
   ],
   "source": [
    "# Удаляем полностью совпадающие строки и упорядочиваем индексы\n",
    "\n",
    "data = data.drop_duplicates().reset_index(drop=True)\n",
    "data[data.duplicated()].count().sum()"
   ]
  },
  {
   "cell_type": "markdown",
   "metadata": {},
   "source": [
    "В исходной таблице обнаружено 71 полностью идентичных строк, которые могли появиться в силу разных причин:\n",
    "* несколько заявлений от одного человека\n",
    "* ошибка оператора\n",
    "* техническая неисправность\n",
    "\n",
    "Все дубликаты удалены."
   ]
  },
  {
   "cell_type": "markdown",
   "metadata": {},
   "source": [
    "### 2.4. Лемматизация"
   ]
  },
  {
   "cell_type": "code",
   "execution_count": 33,
   "metadata": {
    "ExecuteTime": {
     "end_time": "2020-10-24T12:04:02.718303Z",
     "start_time": "2020-10-24T12:04:02.650787Z"
    }
   },
   "outputs": [],
   "source": [
    "m = Mystem()"
   ]
  },
  {
   "cell_type": "code",
   "execution_count": 34,
   "metadata": {
    "ExecuteTime": {
     "end_time": "2020-10-24T12:04:05.665409Z",
     "start_time": "2020-10-24T12:04:02.721609Z"
    }
   },
   "outputs": [
    {
     "data": {
      "text/plain": [
       "{6351: 'недвижимость',\n",
       " 5897: 'покупка',\n",
       " 4460: 'жилье',\n",
       " 4306: 'автомобиль',\n",
       " 4013: 'образование',\n",
       " 2604: 'операция',\n",
       " 2324: 'свадьба',\n",
       " 2230: 'свой',\n",
       " 1878: 'строительство',\n",
       " 1374: 'высокий',\n",
       " 1314: 'получение',\n",
       " 1311: 'коммерческий',\n",
       " 1230: 'жилой',\n",
       " 941: 'сделка',\n",
       " 906: 'дополнительный',\n",
       " 904: 'заниматься',\n",
       " 853: 'подержать',\n",
       " 768: 'проведение',\n",
       " 765: 'сыграть',\n",
       " 651: 'сдача',\n",
       " 638: 'семья',\n",
       " 635: 'собственный',\n",
       " 607: 'ремонт',\n",
       " 461: 'приобретение',\n",
       " 436: 'профильный',\n",
       " 111: 'подержанный'}"
      ]
     },
     "execution_count": 34,
     "metadata": {},
     "output_type": "execute_result"
    }
   ],
   "source": [
    "# объединяем все цели покупки в один текст для удобства лемматизации\n",
    "purpose_text = ' '.join(data['purpose'].to_list())\n",
    "\n",
    "# находим леммы\n",
    "purpose_lemmas = m.lemmatize(purpose_text)\n",
    "\n",
    "# считаем количество каждой\n",
    "lemmas_dict = dict(Counter(purpose_lemmas))\n",
    "\n",
    "# удаляем пробелы, символ конца строки, некоторые предлоги\n",
    "for sym in [' ', 'с', 'на', 'для', 'со', '\\n']:\n",
    "    del lemmas_dict[sym]\n",
    "\n",
    "# и сортируем по убыванию\n",
    "lemmas_dict_sort = dict(sorted([(value, key) for (key,value) in lemmas_dict.items()], reverse=True))\n",
    "\n",
    "# 10 самых популярных лемм\n",
    "lemmas_dict_sort"
   ]
  },
  {
   "cell_type": "markdown",
   "metadata": {},
   "source": [
    "В десятке популярных такие цели кредита, как _недвижимость, жилье, автомобиль, образование, свадьба, строительство_."
   ]
  },
  {
   "cell_type": "markdown",
   "metadata": {},
   "source": [
    "### 2.5. Категоризация данных"
   ]
  },
  {
   "cell_type": "code",
   "execution_count": 35,
   "metadata": {
    "ExecuteTime": {
     "end_time": "2020-10-24T12:04:05.707899Z",
     "start_time": "2020-10-24T12:04:05.669169Z"
    }
   },
   "outputs": [],
   "source": [
    "# добавление стажа работы в годах\n",
    "data['years_employed'] = (data['days_employed']/365).astype('int')"
   ]
  },
  {
   "cell_type": "code",
   "execution_count": 36,
   "metadata": {
    "ExecuteTime": {
     "end_time": "2020-10-24T12:04:05.801381Z",
     "start_time": "2020-10-24T12:04:05.712122Z"
    }
   },
   "outputs": [
    {
     "data": {
      "text/html": [
       "<div>\n",
       "<style scoped>\n",
       "    .dataframe tbody tr th:only-of-type {\n",
       "        vertical-align: middle;\n",
       "    }\n",
       "\n",
       "    .dataframe tbody tr th {\n",
       "        vertical-align: top;\n",
       "    }\n",
       "\n",
       "    .dataframe thead th {\n",
       "        text-align: right;\n",
       "    }\n",
       "</style>\n",
       "<table border=\"1\" class=\"dataframe\">\n",
       "  <thead>\n",
       "    <tr style=\"text-align: right;\">\n",
       "      <th></th>\n",
       "      <th>income_type</th>\n",
       "      <th>years_employed</th>\n",
       "      <th>age</th>\n",
       "      <th>total_income</th>\n",
       "      <th>purpose</th>\n",
       "      <th>gender</th>\n",
       "      <th>debt</th>\n",
       "      <th>children</th>\n",
       "      <th>family_status_id</th>\n",
       "      <th>education_id</th>\n",
       "    </tr>\n",
       "  </thead>\n",
       "  <tbody>\n",
       "    <tr>\n",
       "      <th>0</th>\n",
       "      <td>сотрудник</td>\n",
       "      <td>-23</td>\n",
       "      <td>42</td>\n",
       "      <td>253875</td>\n",
       "      <td>покупка жилья</td>\n",
       "      <td>женский</td>\n",
       "      <td>0</td>\n",
       "      <td>1</td>\n",
       "      <td>0</td>\n",
       "      <td>0</td>\n",
       "    </tr>\n",
       "    <tr>\n",
       "      <th>1</th>\n",
       "      <td>сотрудник</td>\n",
       "      <td>-11</td>\n",
       "      <td>36</td>\n",
       "      <td>112080</td>\n",
       "      <td>приобретение автомобиля</td>\n",
       "      <td>женский</td>\n",
       "      <td>0</td>\n",
       "      <td>1</td>\n",
       "      <td>0</td>\n",
       "      <td>1</td>\n",
       "    </tr>\n",
       "    <tr>\n",
       "      <th>2</th>\n",
       "      <td>сотрудник</td>\n",
       "      <td>-15</td>\n",
       "      <td>33</td>\n",
       "      <td>145885</td>\n",
       "      <td>покупка жилья</td>\n",
       "      <td>мужской</td>\n",
       "      <td>0</td>\n",
       "      <td>0</td>\n",
       "      <td>0</td>\n",
       "      <td>1</td>\n",
       "    </tr>\n",
       "    <tr>\n",
       "      <th>3</th>\n",
       "      <td>сотрудник</td>\n",
       "      <td>-11</td>\n",
       "      <td>32</td>\n",
       "      <td>267628</td>\n",
       "      <td>дополнительное образование</td>\n",
       "      <td>мужской</td>\n",
       "      <td>0</td>\n",
       "      <td>3</td>\n",
       "      <td>0</td>\n",
       "      <td>1</td>\n",
       "    </tr>\n",
       "    <tr>\n",
       "      <th>4</th>\n",
       "      <td>пенсионер</td>\n",
       "      <td>932</td>\n",
       "      <td>53</td>\n",
       "      <td>158616</td>\n",
       "      <td>сыграть свадьбу</td>\n",
       "      <td>женский</td>\n",
       "      <td>0</td>\n",
       "      <td>0</td>\n",
       "      <td>1</td>\n",
       "      <td>1</td>\n",
       "    </tr>\n",
       "  </tbody>\n",
       "</table>\n",
       "</div>"
      ],
      "text/plain": [
       "  income_type  years_employed  age  total_income                     purpose  \\\n",
       "0   сотрудник             -23   42        253875               покупка жилья   \n",
       "1   сотрудник             -11   36        112080     приобретение автомобиля   \n",
       "2   сотрудник             -15   33        145885               покупка жилья   \n",
       "3   сотрудник             -11   32        267628  дополнительное образование   \n",
       "4   пенсионер             932   53        158616             сыграть свадьбу   \n",
       "\n",
       "    gender  debt  children  family_status_id  education_id  \n",
       "0  женский     0         1                 0             0  \n",
       "1  женский     0         1                 0             1  \n",
       "2  мужской     0         0                 0             1  \n",
       "3  мужской     0         3                 0             1  \n",
       "4  женский     0         0                 1             1  "
      ]
     },
     "execution_count": 36,
     "metadata": {},
     "output_type": "execute_result"
    }
   ],
   "source": [
    "# разделим данные на 3 таблицы\n",
    "\n",
    "# 1 - person_data - основные данные\n",
    "person_data = data[['income_type', 'years_employed', 'age', 'total_income','purpose', \\\n",
    "                    'gender', 'debt', 'children', 'family_status_id', 'education_id']]\n",
    "\n",
    "# 2 - family_dict - соответствие 'тип семейного положения' - 'идентификатор'\n",
    "education_dict = data[['education_id', 'education']].drop_duplicates().reset_index(drop=True)\n",
    "\n",
    "# 3 - education_dict - соответствие 'тип образования' - 'идентификатор'\n",
    "family_dict = data[['family_status_id', 'family_status']].drop_duplicates().reset_index(drop=True)\n",
    "\n",
    "# данные таблицы person_data\n",
    "person_data.head(5)"
   ]
  },
  {
   "cell_type": "code",
   "execution_count": 37,
   "metadata": {
    "ExecuteTime": {
     "end_time": "2020-10-24T12:04:05.854517Z",
     "start_time": "2020-10-24T12:04:05.803941Z"
    }
   },
   "outputs": [
    {
     "data": {
      "text/html": [
       "<div>\n",
       "<style scoped>\n",
       "    .dataframe tbody tr th:only-of-type {\n",
       "        vertical-align: middle;\n",
       "    }\n",
       "\n",
       "    .dataframe tbody tr th {\n",
       "        vertical-align: top;\n",
       "    }\n",
       "\n",
       "    .dataframe thead th {\n",
       "        text-align: right;\n",
       "    }\n",
       "</style>\n",
       "<table border=\"1\" class=\"dataframe\">\n",
       "  <thead>\n",
       "    <tr style=\"text-align: right;\">\n",
       "      <th></th>\n",
       "      <th>education_id</th>\n",
       "      <th>education</th>\n",
       "    </tr>\n",
       "  </thead>\n",
       "  <tbody>\n",
       "    <tr>\n",
       "      <th>0</th>\n",
       "      <td>0</td>\n",
       "      <td>высшее</td>\n",
       "    </tr>\n",
       "    <tr>\n",
       "      <th>1</th>\n",
       "      <td>1</td>\n",
       "      <td>среднее</td>\n",
       "    </tr>\n",
       "    <tr>\n",
       "      <th>2</th>\n",
       "      <td>2</td>\n",
       "      <td>неоконченное высшее</td>\n",
       "    </tr>\n",
       "    <tr>\n",
       "      <th>3</th>\n",
       "      <td>3</td>\n",
       "      <td>начальное</td>\n",
       "    </tr>\n",
       "    <tr>\n",
       "      <th>4</th>\n",
       "      <td>4</td>\n",
       "      <td>ученая степень</td>\n",
       "    </tr>\n",
       "  </tbody>\n",
       "</table>\n",
       "</div>"
      ],
      "text/plain": [
       "   education_id            education\n",
       "0             0               высшее\n",
       "1             1              среднее\n",
       "2             2  неоконченное высшее\n",
       "3             3            начальное\n",
       "4             4       ученая степень"
      ]
     },
     "execution_count": 37,
     "metadata": {},
     "output_type": "execute_result"
    }
   ],
   "source": [
    "# данные таблицы education_dict\n",
    "education_dict"
   ]
  },
  {
   "cell_type": "code",
   "execution_count": 38,
   "metadata": {
    "ExecuteTime": {
     "end_time": "2020-10-24T12:04:05.973571Z",
     "start_time": "2020-10-24T12:04:05.859029Z"
    }
   },
   "outputs": [
    {
     "data": {
      "text/html": [
       "<div>\n",
       "<style scoped>\n",
       "    .dataframe tbody tr th:only-of-type {\n",
       "        vertical-align: middle;\n",
       "    }\n",
       "\n",
       "    .dataframe tbody tr th {\n",
       "        vertical-align: top;\n",
       "    }\n",
       "\n",
       "    .dataframe thead th {\n",
       "        text-align: right;\n",
       "    }\n",
       "</style>\n",
       "<table border=\"1\" class=\"dataframe\">\n",
       "  <thead>\n",
       "    <tr style=\"text-align: right;\">\n",
       "      <th></th>\n",
       "      <th>family_status_id</th>\n",
       "      <th>family_status</th>\n",
       "    </tr>\n",
       "  </thead>\n",
       "  <tbody>\n",
       "    <tr>\n",
       "      <th>0</th>\n",
       "      <td>0</td>\n",
       "      <td>женат / замужем</td>\n",
       "    </tr>\n",
       "    <tr>\n",
       "      <th>1</th>\n",
       "      <td>1</td>\n",
       "      <td>гражданский брак</td>\n",
       "    </tr>\n",
       "    <tr>\n",
       "      <th>2</th>\n",
       "      <td>2</td>\n",
       "      <td>вдовец / вдова</td>\n",
       "    </tr>\n",
       "    <tr>\n",
       "      <th>3</th>\n",
       "      <td>3</td>\n",
       "      <td>в разводе</td>\n",
       "    </tr>\n",
       "    <tr>\n",
       "      <th>4</th>\n",
       "      <td>4</td>\n",
       "      <td>не женат / не замужем</td>\n",
       "    </tr>\n",
       "  </tbody>\n",
       "</table>\n",
       "</div>"
      ],
      "text/plain": [
       "   family_status_id          family_status\n",
       "0                 0        женат / замужем\n",
       "1                 1       гражданский брак\n",
       "2                 2         вдовец / вдова\n",
       "3                 3              в разводе\n",
       "4                 4  не женат / не замужем"
      ]
     },
     "execution_count": 38,
     "metadata": {},
     "output_type": "execute_result"
    }
   ],
   "source": [
    "# данные таблицы family_dict\n",
    "family_dict"
   ]
  },
  {
   "cell_type": "code",
   "execution_count": 39,
   "metadata": {
    "ExecuteTime": {
     "end_time": "2020-10-24T12:04:06.095181Z",
     "start_time": "2020-10-24T12:04:05.976751Z"
    }
   },
   "outputs": [
    {
     "data": {
      "text/plain": [
       "array([  20667.  ,  107623.  ,  142594.  ,  195820.25, 2265604.  ])"
      ]
     },
     "execution_count": 39,
     "metadata": {},
     "output_type": "execute_result"
    }
   ],
   "source": [
    "# доп. проверка\n",
    "data2, bins = pd.qcut(person_data['total_income'], 4, retbins=True)\n",
    "bins"
   ]
  },
  {
   "cell_type": "code",
   "execution_count": 40,
   "metadata": {
    "ExecuteTime": {
     "end_time": "2020-10-24T12:04:06.249287Z",
     "start_time": "2020-10-24T12:04:06.097560Z"
    }
   },
   "outputs": [
    {
     "data": {
      "text/plain": [
       "ниже среднего    5479\n",
       "низкий           5364\n",
       "высокий          5364\n",
       "средний          5247\n",
       "Name: income_category, dtype: int64"
      ]
     },
     "execution_count": 40,
     "metadata": {},
     "output_type": "execute_result"
    }
   ],
   "source": [
    "# значения квантилей\n",
    "q_25, q_50, q_75 = tuple(\n",
    "    person_data['total_income'].describe()[['25%','50%', '75%']].to_list())\n",
    "    \n",
    "# добавление нового столбца - категория заемщика по уровню дохода\n",
    "person_data['income_category'] = (\n",
    "    person_data['total_income']\n",
    "    .apply(income_category, args=(q_25, q_50, q_75))\n",
    ")\n",
    "\n",
    "person_data['income_category'].value_counts()"
   ]
  },
  {
   "cell_type": "code",
   "execution_count": 41,
   "metadata": {
    "ExecuteTime": {
     "end_time": "2020-10-24T12:04:06.390547Z",
     "start_time": "2020-10-24T12:04:06.252478Z"
    }
   },
   "outputs": [
    {
     "data": {
      "text/plain": [
       "{'недвижимость': 6351,\n",
       " 'покупка': 5897,\n",
       " 'жилье': 4460,\n",
       " 'автомобиль': 4306,\n",
       " 'образование': 4013,\n",
       " 'операция': 2604,\n",
       " 'свадьба': 2324,\n",
       " 'строительство': 1878,\n",
       " 'получение': 1314,\n",
       " 'жилой': 1230,\n",
       " 'сделка': 941,\n",
       " 'проведение': 768,\n",
       " 'сдача': 651,\n",
       " 'семья': 638,\n",
       " 'ремонт': 607,\n",
       " 'приобретение': 461}"
      ]
     },
     "execution_count": 41,
     "metadata": {},
     "output_type": "execute_result"
    }
   ],
   "source": [
    "morph = pymorphy2.MorphAnalyzer()\n",
    "\n",
    "lemmas_rating = clean_lemmas_rating(lemmas_dict_sort)\n",
    "lemmas_rating"
   ]
  },
  {
   "cell_type": "markdown",
   "metadata": {},
   "source": [
    "Удалим из рейтинга слова, означающие действие, а не цель."
   ]
  },
  {
   "cell_type": "code",
   "execution_count": 42,
   "metadata": {
    "ExecuteTime": {
     "end_time": "2020-10-24T12:04:06.403083Z",
     "start_time": "2020-10-24T12:04:06.393101Z"
    }
   },
   "outputs": [
    {
     "data": {
      "text/plain": [
       "{'недвижимость': 6351,\n",
       " 'жилье': 4460,\n",
       " 'автомобиль': 4306,\n",
       " 'образование': 4013,\n",
       " 'операция': 2604,\n",
       " 'свадьба': 2324,\n",
       " 'строительство': 1878,\n",
       " 'ремонт': 607}"
      ]
     },
     "execution_count": 42,
     "metadata": {},
     "output_type": "execute_result"
    }
   ],
   "source": [
    "rm_words = ['покупка', 'получение', 'сделка', 'проведение', \n",
    "            'приобретение', 'сдача', 'семья', 'жилой']\n",
    "for w in rm_words:\n",
    "    del lemmas_rating[w]\n",
    "    \n",
    "lemmas_rating"
   ]
  },
  {
   "cell_type": "code",
   "execution_count": 43,
   "metadata": {
    "ExecuteTime": {
     "end_time": "2020-10-24T12:04:11.045657Z",
     "start_time": "2020-10-24T12:04:06.405328Z"
    }
   },
   "outputs": [
    {
     "data": {
      "text/plain": [
       "недвижимость    10811\n",
       "автомобиль       4306\n",
       "образование      4013\n",
       "свадьба          2324\n",
       "Name: purpose_category, dtype: int64"
      ]
     },
     "execution_count": 43,
     "metadata": {},
     "output_type": "execute_result"
    }
   ],
   "source": [
    "russian_stemmer = SnowballStemmer('russian')\n",
    "\n",
    "# добавление категории заемщика по цели кредита\n",
    "person_data['purpose_category'] = person_data['purpose'].apply(\n",
    "    purpose_category, args=(lemmas_rating,))\n",
    "\n",
    "# заменим 'жилье' -> 'недвижимость'\n",
    "person_data['purpose_category'] = person_data['purpose_category'].replace('жилье', 'недвижимость')\n",
    "\n",
    "# посмотрим количество клиентов для каждой категории - если нет NaN, то \n",
    "# все прошло успешно\n",
    "person_data['purpose_category'].value_counts()"
   ]
  },
  {
   "cell_type": "markdown",
   "metadata": {},
   "source": [
    "Данные были разделены на 3 таблицы:\n",
    "1. __person_data__    - основные данные заемщика\n",
    "* __family_dict__    - таблица-словарь для соответствия _'тип семейного положения' - 'идентификатор'_\n",
    "* __education_dict__ - таблица-словарь _'тип образования' - 'идентификатор'_\n",
    "\n",
    "Согласно поставленной задаче было решено разбить данные на категории по следующим признакам:\n",
    "  \n",
    "* категории __семейного положения__\n",
    "\n",
    "    В зависимости от семейного положения при заёме учитывается совместный доход супругов. Соответственно, добавлены две категории _\"в браке\"_ и _\"свободные\"_.\n",
    "\n",
    "\n",
    "* категории __уровня дохода__\n",
    "\n",
    "    Доход в данных был разделен на _\"низкий\" (< 30000 у.е.), \"средний\" (30000 - 799999 у.е.), \"высокий\" (>= 80000 у.е.)_. Пороговые значения выбраны приблизительно, так как неизвестно, какому географическому и экономическому объекту соответствует тестовая выборка.\n",
    "\n",
    "\n",
    "* категории __целей кредита__\n",
    "\n",
    "    Процесс определения категорий определялся исходя из результата лемматизации - был получен рейтинг самых часто встречаемых слов в целях, затем проводилась автоматизированная очистка данных фнукцией clean_lemmas_rating() от непрезентабельных для дальнейшего анализа частей речи - всех, кроме существительных. Дополнительно из рейтинга были удалены те существительные, которые не несут смысловой нагрузки категоризации. В результате работы функции purpose_category(), примененной к таблице, данные были разбиты на 4 категории\n",
    "    \n",
    "    1. Недвижимость\n",
    "    * Автомобиль\n",
    "    * Образование\n",
    "    * Свадьба"
   ]
  },
  {
   "cell_type": "markdown",
   "metadata": {},
   "source": [
    "## 3. Выводы"
   ]
  },
  {
   "cell_type": "markdown",
   "metadata": {},
   "source": [
    "### 3.1. Зависимость между наличием детей и возвратом кредита в срок"
   ]
  },
  {
   "cell_type": "code",
   "execution_count": 44,
   "metadata": {
    "ExecuteTime": {
     "end_time": "2020-10-24T12:04:11.094096Z",
     "start_time": "2020-10-24T12:04:11.052077Z"
    }
   },
   "outputs": [
    {
     "data": {
      "text/html": [
       "<div>\n",
       "<style scoped>\n",
       "    .dataframe tbody tr th:only-of-type {\n",
       "        vertical-align: middle;\n",
       "    }\n",
       "\n",
       "    .dataframe tbody tr th {\n",
       "        vertical-align: top;\n",
       "    }\n",
       "\n",
       "    .dataframe thead th {\n",
       "        text-align: right;\n",
       "    }\n",
       "</style>\n",
       "<table border=\"1\" class=\"dataframe\">\n",
       "  <thead>\n",
       "    <tr style=\"text-align: right;\">\n",
       "      <th></th>\n",
       "      <th>children</th>\n",
       "      <th>debt_probability</th>\n",
       "    </tr>\n",
       "  </thead>\n",
       "  <tbody>\n",
       "    <tr>\n",
       "      <th>3</th>\n",
       "      <td>2</td>\n",
       "      <td>9.5</td>\n",
       "    </tr>\n",
       "    <tr>\n",
       "      <th>2</th>\n",
       "      <td>1</td>\n",
       "      <td>9.2</td>\n",
       "    </tr>\n",
       "    <tr>\n",
       "      <th>4</th>\n",
       "      <td>3</td>\n",
       "      <td>8.2</td>\n",
       "    </tr>\n",
       "    <tr>\n",
       "      <th>1</th>\n",
       "      <td>0</td>\n",
       "      <td>7.5</td>\n",
       "    </tr>\n",
       "  </tbody>\n",
       "</table>\n",
       "</div>"
      ],
      "text/plain": [
       "   children  debt_probability\n",
       "3         2               9.5\n",
       "2         1               9.2\n",
       "4         3               8.2\n",
       "1         0               7.5"
      ]
     },
     "execution_count": 44,
     "metadata": {},
     "output_type": "execute_result"
    }
   ],
   "source": [
    "# так как группы с количеством заемщиков <100 составляют малую часть от других групп (где счет идет на сотни и\n",
    "# тысячи) и в процентном соотношении дают вбросы, не будем учитывать эти группы при ответе на поставленный вопрос\n",
    "\n",
    "# считаем вероятность задолжности (debt_probability)\n",
    "debt_children_data = get_debt_probability(person_data, 'children', col='gender', val='debt')\n",
    "debt_children_data[debt_children_data[\"all\"] > 100][['children', 'debt_probability']]"
   ]
  },
  {
   "cell_type": "markdown",
   "metadata": {},
   "source": [
    "Выделен показатель в виде вероятности задолженности:\n",
    "- у бездетнных людей показатель меньше всего - 7,5%;\n",
    "- люди с 3 детьми вероятность выше,но не намного - 8,2%;\n",
    "- заемщики с 1-2 детьми характеризуются близкой вероятностью задолжности - 9,2% и 9,5% соответственно.\n",
    "\n",
    "При сравнении групп \"бездетные\", \"с одним ребенком\" и \"с двумя детьми\", где группы сравнимы по количеству человек, видно зависимость, что при увеличении количества детей вероятность задолжности увеличивается (нелинейно).\n",
    "\n",
    "Однако, при рассмотрении дополнительно группы \"с 3 детьми\" заметно отклонение от сделанного вывода - вероятность снижается с 9,5% до 8,2%. В данном случае группа значительно отличается по численности от остальных - 330 человек против тысячных групп. Соответственно, для более основательного вывода нужно больше данных о людях с количеством детей 3 и более."
   ]
  },
  {
   "cell_type": "markdown",
   "metadata": {},
   "source": [
    "### 3.2. Зависимость между семейным положением и возвратом кредита в срок"
   ]
  },
  {
   "cell_type": "code",
   "execution_count": 45,
   "metadata": {
    "ExecuteTime": {
     "end_time": "2020-10-24T12:04:11.250312Z",
     "start_time": "2020-10-24T12:04:11.099320Z"
    }
   },
   "outputs": [
    {
     "data": {
      "text/html": [
       "<div>\n",
       "<style scoped>\n",
       "    .dataframe tbody tr th:only-of-type {\n",
       "        vertical-align: middle;\n",
       "    }\n",
       "\n",
       "    .dataframe tbody tr th {\n",
       "        vertical-align: top;\n",
       "    }\n",
       "\n",
       "    .dataframe thead th {\n",
       "        text-align: right;\n",
       "    }\n",
       "</style>\n",
       "<table border=\"1\" class=\"dataframe\">\n",
       "  <thead>\n",
       "    <tr style=\"text-align: right;\">\n",
       "      <th></th>\n",
       "      <th>family_status</th>\n",
       "      <th>debt_probability</th>\n",
       "    </tr>\n",
       "  </thead>\n",
       "  <tbody>\n",
       "    <tr>\n",
       "      <th>0</th>\n",
       "      <td>не женат / не замужем</td>\n",
       "      <td>9.8</td>\n",
       "    </tr>\n",
       "    <tr>\n",
       "      <th>1</th>\n",
       "      <td>гражданский брак</td>\n",
       "      <td>9.3</td>\n",
       "    </tr>\n",
       "    <tr>\n",
       "      <th>2</th>\n",
       "      <td>женат / замужем</td>\n",
       "      <td>7.5</td>\n",
       "    </tr>\n",
       "    <tr>\n",
       "      <th>3</th>\n",
       "      <td>в разводе</td>\n",
       "      <td>7.1</td>\n",
       "    </tr>\n",
       "    <tr>\n",
       "      <th>4</th>\n",
       "      <td>вдовец / вдова</td>\n",
       "      <td>6.6</td>\n",
       "    </tr>\n",
       "  </tbody>\n",
       "</table>\n",
       "</div>"
      ],
      "text/plain": [
       "           family_status  debt_probability\n",
       "0  не женат / не замужем               9.8\n",
       "1       гражданский брак               9.3\n",
       "2        женат / замужем               7.5\n",
       "3              в разводе               7.1\n",
       "4         вдовец / вдова               6.6"
      ]
     },
     "execution_count": 45,
     "metadata": {},
     "output_type": "execute_result"
    }
   ],
   "source": [
    "# зависимость долгов от семейного положения\n",
    "debt_family_data = get_debt_probability(person_data, 'family_status_id', col='gender', val='debt')\n",
    "\n",
    "# добавим расшифровку статуса семейного положения\n",
    "debt_family_data = debt_family_data.merge(family_dict,\n",
    "                                         on='family_status_id',\n",
    "                                         how='inner')\n",
    "debt_family_data[['family_status', 'debt_probability']]"
   ]
  },
  {
   "cell_type": "markdown",
   "metadata": {},
   "source": [
    "Выявлена зависимость между семейным положением и возвратом кредита в срок:\n",
    "* Наименьшая вероятность задолжности у вдовцов/вдов (самая немногочисленная группа) - 6.6%.\n",
    "* Для людей в разводе и браке вероятность больше - 7.1% и 7.5% соотвественно.\n",
    "* В гражданском браке вероятность возрастает - 9.3%.\n",
    "* 9.8% долгов соотвествует категории людей, которые не состоят в отношениях."
   ]
  },
  {
   "cell_type": "markdown",
   "metadata": {},
   "source": [
    "### 3.3. Зависимость между уровнем дохода и возвратом кредита в срок"
   ]
  },
  {
   "cell_type": "code",
   "execution_count": 46,
   "metadata": {
    "ExecuteTime": {
     "end_time": "2020-10-24T12:04:11.342057Z",
     "start_time": "2020-10-24T12:04:11.252837Z"
    }
   },
   "outputs": [
    {
     "data": {
      "text/html": [
       "<div>\n",
       "<style scoped>\n",
       "    .dataframe tbody tr th:only-of-type {\n",
       "        vertical-align: middle;\n",
       "    }\n",
       "\n",
       "    .dataframe tbody tr th {\n",
       "        vertical-align: top;\n",
       "    }\n",
       "\n",
       "    .dataframe thead th {\n",
       "        text-align: right;\n",
       "    }\n",
       "</style>\n",
       "<table border=\"1\" class=\"dataframe\">\n",
       "  <thead>\n",
       "    <tr style=\"text-align: right;\">\n",
       "      <th></th>\n",
       "      <th>income_category</th>\n",
       "      <th>debt_probability</th>\n",
       "    </tr>\n",
       "  </thead>\n",
       "  <tbody>\n",
       "    <tr>\n",
       "      <th>1</th>\n",
       "      <td>ниже среднего</td>\n",
       "      <td>8.8</td>\n",
       "    </tr>\n",
       "    <tr>\n",
       "      <th>3</th>\n",
       "      <td>средний</td>\n",
       "      <td>8.5</td>\n",
       "    </tr>\n",
       "    <tr>\n",
       "      <th>2</th>\n",
       "      <td>низкий</td>\n",
       "      <td>8.0</td>\n",
       "    </tr>\n",
       "    <tr>\n",
       "      <th>0</th>\n",
       "      <td>высокий</td>\n",
       "      <td>7.1</td>\n",
       "    </tr>\n",
       "  </tbody>\n",
       "</table>\n",
       "</div>"
      ],
      "text/plain": [
       "  income_category  debt_probability\n",
       "1   ниже среднего               8.8\n",
       "3         средний               8.5\n",
       "2          низкий               8.0\n",
       "0         высокий               7.1"
      ]
     },
     "execution_count": 46,
     "metadata": {},
     "output_type": "execute_result"
    }
   ],
   "source": [
    "# считаем вероятность задолжности (debt_probability)\n",
    "debt_income_data = get_debt_probability(person_data, 'income_category', col='gender', val='debt')\n",
    "debt_income_data[['income_category', 'debt_probability']]"
   ]
  },
  {
   "cell_type": "markdown",
   "metadata": {},
   "source": [
    "Выявлена зависимость между уровнем дохода и возвратом кредита в срок:\n",
    "* наименьшая вероятность задолжности у категорий людей с высоким и низким уровнем дохода - 7.1% и 8%;\n",
    "* большая вероятность долга у людей со средним уровнем дохода и ниже среднего - 8.5% и 8.8%."
   ]
  },
  {
   "cell_type": "markdown",
   "metadata": {},
   "source": [
    "### 3.4. Влияние разных целей кредита на его возврат в срок"
   ]
  },
  {
   "cell_type": "code",
   "execution_count": 47,
   "metadata": {
    "ExecuteTime": {
     "end_time": "2020-10-24T12:04:11.446460Z",
     "start_time": "2020-10-24T12:04:11.345524Z"
    }
   },
   "outputs": [
    {
     "data": {
      "text/html": [
       "<div>\n",
       "<style scoped>\n",
       "    .dataframe tbody tr th:only-of-type {\n",
       "        vertical-align: middle;\n",
       "    }\n",
       "\n",
       "    .dataframe tbody tr th {\n",
       "        vertical-align: top;\n",
       "    }\n",
       "\n",
       "    .dataframe thead th {\n",
       "        text-align: right;\n",
       "    }\n",
       "</style>\n",
       "<table border=\"1\" class=\"dataframe\">\n",
       "  <thead>\n",
       "    <tr style=\"text-align: right;\">\n",
       "      <th></th>\n",
       "      <th>purpose_category</th>\n",
       "      <th>debt_probability</th>\n",
       "    </tr>\n",
       "  </thead>\n",
       "  <tbody>\n",
       "    <tr>\n",
       "      <th>0</th>\n",
       "      <td>автомобиль</td>\n",
       "      <td>9.4</td>\n",
       "    </tr>\n",
       "    <tr>\n",
       "      <th>2</th>\n",
       "      <td>образование</td>\n",
       "      <td>9.2</td>\n",
       "    </tr>\n",
       "    <tr>\n",
       "      <th>3</th>\n",
       "      <td>свадьба</td>\n",
       "      <td>8.0</td>\n",
       "    </tr>\n",
       "    <tr>\n",
       "      <th>1</th>\n",
       "      <td>недвижимость</td>\n",
       "      <td>7.2</td>\n",
       "    </tr>\n",
       "  </tbody>\n",
       "</table>\n",
       "</div>"
      ],
      "text/plain": [
       "  purpose_category  debt_probability\n",
       "0       автомобиль               9.4\n",
       "2      образование               9.2\n",
       "3          свадьба               8.0\n",
       "1     недвижимость               7.2"
      ]
     },
     "execution_count": 47,
     "metadata": {},
     "output_type": "execute_result"
    }
   ],
   "source": [
    "# считаем вероятность задолжности (debt_probability)\n",
    "debt_purpose_data = get_debt_probability(person_data, 'purpose_category', col='gender', val='debt')\n",
    "debt_purpose_data[['purpose_category', 'debt_probability']]"
   ]
  },
  {
   "cell_type": "markdown",
   "metadata": {},
   "source": [
    "Выявлена зависимость между целями кредита и возвратом кредита в срок. Согласно полученным результатам, выявлены следующие вероятности для категорий целей кредита:\n",
    "* \"автомобиль\" и \"образованиее\" имеют наибольший показатель - 9.4% и 9.2% соответственно;\n",
    "* \"свадьба\" - 8%;\n",
    "* \"недвижимость\" - категория с наименьшей вероятностью  долга - 7.2%."
   ]
  },
  {
   "cell_type": "markdown",
   "metadata": {},
   "source": [
    "## 4. Итог"
   ]
  },
  {
   "cell_type": "markdown",
   "metadata": {},
   "source": [
    "Данные о заемщиках представлены несколькими признаками, представляющие собой коллчественные и категориальные значения. Значение целей кредита представлены разнородными категориальными переменными, так как при одинаковых смысловых значениях указаны в разных падежах.\n",
    "\n",
    "При исследовании в данных были обнаружены проблемы:\n",
    "\n",
    "* __Неинформативные названия столбцов__. Столбец __dob_years__ был переименован на __age__.\n",
    "\n",
    "\n",
    "* __Пропуски__. В данных найдены явные пропуски, которые могут свидетельствовать о технической проблеме выгрузки или сбора данных. Пропущенные значения о _стаже, общем доходе, возрасте_ заменены на медианные значения в зависимости от типа занятости, а единичный пропуск о _поле_ заемщика был заменен на самый часто встречаемый - _женский_.\n",
    "\n",
    "\n",
    "* __Разнородность описания данных__. В данных пол заемщиков указан неинформативно - одной латинской буквой. Значения были заменены на значения _\"женский\"_ и _\"мужской\"_. Также в данных были указаны идентичные значения в разном регистре. Как результат, все значения приведены к нижнему регистру.\n",
    "\n",
    "\n",
    "* __Некорректные значения__. В столбцах о стаже и доходе встречаются отрицательные значения. Помимо этого, у некоторых заемщиков указан завышенный стаж работы - более 100 лет. Так как данные о стаже в поставленной задаче не будут учитываться при анализе, значания оставлены без изменений. В доходе отрицательные значения не в большом количестве относительно количества данных, поэтому отрицательные значения дохода также оставлены.\n",
    "\n",
    "\n",
    "* __Типы данных__. Значения с типом с плавающей запятой (указанные без округления) переведены в целочисленный во избежание ошибок при сравнении количественных переменных и поиске дубликатов.\n",
    "\n",
    "\n",
    "* __Дубликаты__. В исходной таблице обнаружена совокупность полностью идентичных строк, которые могли появиться в следствие технической проблемы или наличии повторных заемщиков. Так как не поставлена задача исследования повторных заемщиков, полностью совпадающие строки были удалены.\n",
    "\n",
    "\n",
    "В результате лемматизации были выделены самые популярные цели кредита:\n",
    "* недвижимость\n",
    "* жилье\n",
    "* автомобиль\n",
    "* образование\n",
    "* свадьба\n",
    "* строительство\n",
    "\n",
    "\n",
    "Для упрощения работы с данными выполнено разделение на 3 таблицы:\n",
    "1. __person_data__    - основные данные заемщика\n",
    "* __family_dict__    - таблица-словарь для соответствия _'тип семейного положения' - 'идентификатор'_\n",
    "* __education_dict__ - таблица-словарь _'тип образования' - 'идентификатор'_\n",
    "\n",
    "\n",
    "Согласно поставленной задаче было решено разбить данные на категории по следующим признакам:\n",
    "\n",
    "* категории __уровня дохода__ (низкий, средний, высокий) - пороговые значения выбраны приблизительно, так как\n",
    "    неизвестно, какому географическому и экономическому объекту соответствуют данные.\n",
    "* категории __целей кредита__ (недвижимость, жилье, автомобиль, образование, свадьба)\n",
    "\n",
    "\n",
    "Выявлены следующие зависимости в данных:\n",
    "\n",
    "* между наличием детей и возвратом кредита в срок - \"бездетные\", \"с одним ребенком\" и \"с двумя детьми\", где группы сравнимы по количеству человек, видно зависимость, что при увеличении количества детей вероятность задолжности нелинейно увеличивается - __7.5%__, __9.2%__, __9.5__% соответственно. Для основательного вывода о зависимости нужно больше данных о людях с количеством детей 3 и более.\n",
    "\n",
    "* между семейным положением и возвратом кредита в срок. Наименьшая вероятность задолжности у вдовцов/вдов (самая немногочисленная группа) - 6.6%, для людей в разводе и браке вероятность больше - __7.1__% и __7.5__%, а для людей в гражданском браке и свободных вероятность возрастает - __9.3%__ и  __9.8%__.\n",
    "    \n",
    "* между уровнем дохода и возвратом кредита в срок. Наименьшая вероятность задолжности у категорий людей с высоким и низким уровнем дохода - __7.1%__ и __8%__. Большая вероятность долга у людей со средним уровнем дохода и ниже среднего - __8.5%__ и __8.8%__.\n",
    "\n",
    "* между целями кредита и возвратом кредита в срок. Категории \"автомобиль\" и \"образованиее\" имеют наибольший показатель - __9.4%__ и __9.2%__, \"свадьба\" - __8%__, \"недвижимость\" - категория с наименьшей вероятностью  долга - __7.2%__."
   ]
  }
 ],
 "metadata": {
  "kernelspec": {
   "display_name": "Python 3",
   "language": "python",
   "name": "python3"
  },
  "language_info": {
   "codemirror_mode": {
    "name": "ipython",
    "version": 3
   },
   "file_extension": ".py",
   "mimetype": "text/x-python",
   "name": "python",
   "nbconvert_exporter": "python",
   "pygments_lexer": "ipython3",
   "version": "3.7.6"
  },
  "toc": {
   "base_numbering": 1,
   "nav_menu": {},
   "number_sections": false,
   "sideBar": true,
   "skip_h1_title": false,
   "title_cell": "Table of Contents",
   "title_sidebar": "Contents",
   "toc_cell": false,
   "toc_position": {
    "height": "calc(100% - 180px)",
    "left": "10px",
    "top": "150px",
    "width": "531px"
   },
   "toc_section_display": true,
   "toc_window_display": false
  }
 },
 "nbformat": 4,
 "nbformat_minor": 2
}
