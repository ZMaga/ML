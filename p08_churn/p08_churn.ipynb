{
 "cells": [
  {
   "cell_type": "markdown",
   "metadata": {},
   "source": [
    "# Отток клиентов"
   ]
  },
  {
   "cell_type": "markdown",
   "metadata": {},
   "source": [
    "# 1. Подготовка данных"
   ]
  },
  {
   "cell_type": "markdown",
   "metadata": {},
   "source": [
    "## 1.1. Функции"
   ]
  },
  {
   "cell_type": "code",
   "execution_count": 1,
   "metadata": {
    "ExecuteTime": {
     "end_time": "2020-08-13T22:00:58.938905Z",
     "start_time": "2020-08-13T22:00:57.503192Z"
    }
   },
   "outputs": [],
   "source": [
    "# импорт необходимых модулей\n",
    "import warnings\n",
    "warnings.filterwarnings('ignore')\n",
    "\n",
    "import sys\n",
    "import requests\n",
    "import numpy as np\n",
    "import pandas as pd\n",
    "import seaborn as sns\n",
    "import scipy.stats as st\n",
    "import matplotlib.pyplot as plt\n",
    "\n",
    "from sklearn.utils import shuffle\n",
    "from urllib.parse import urlencode\n",
    "from sklearn.model_selection import KFold\n",
    "from sklearn.model_selection import GridSearchCV\n",
    "from sklearn.ensemble import RandomForestClassifier\n",
    "from sklearn.model_selection import train_test_split\n",
    "from sklearn.metrics import precision_score, recall_score\n",
    "from sklearn.preprocessing import OrdinalEncoder, StandardScaler\n",
    "from sklearn.linear_model import LogisticRegression, LogisticRegressionCV\n",
    "from sklearn.metrics import accuracy_score, f1_score, roc_auc_score, roc_curve"
   ]
  },
  {
   "cell_type": "code",
   "execution_count": 2,
   "metadata": {
    "ExecuteTime": {
     "end_time": "2020-08-13T22:00:58.946151Z",
     "start_time": "2020-08-13T22:00:58.942211Z"
    }
   },
   "outputs": [],
   "source": [
    "LINK = \"https://yadi.sk/d/XayfW9lDkYbsjg\"\n",
    "RANDOM=12345"
   ]
  },
  {
   "cell_type": "code",
   "execution_count": 3,
   "metadata": {},
   "outputs": [],
   "source": [
    "def get_url(link):\n",
    "    \"\"\"\n",
    "    Получение адреса для скачивания с Яндекс.Диск\n",
    "    link - ссылка на Яндекс.Диск\n",
    "    \"\"\"\n",
    "    print(\"Run\", link)\n",
    "    base_url = 'https://cloud-api.yandex.net/v1/disk/public/resources/download?'\n",
    "    final_url = base_url + urlencode(dict(public_key=link))\n",
    "    response = requests.get(final_url)\n",
    "    url = response.json()['href']\n",
    "    return url"
   ]
  },
  {
   "cell_type": "code",
   "execution_count": 4,
   "metadata": {
    "ExecuteTime": {
     "end_time": "2020-08-13T22:00:59.042345Z",
     "start_time": "2020-08-13T22:00:58.949492Z"
    }
   },
   "outputs": [],
   "source": [
    "def split_data(features, target):\n",
    "    \"\"\"\n",
    "    Функция разбивает данные на 3 выборки: обучающую, валидационную и тестовую\n",
    "    \"\"\"\n",
    "    \n",
    "    features_train, features_valid, target_train, target_valid = train_test_split(\n",
    "        features, target, test_size=0.4, random_state=RANDOM\n",
    "    )\n",
    "\n",
    "    features_valid, features_test, target_valid, target_test = train_test_split(\n",
    "        features_valid, target_valid, test_size=0.5, random_state=RANDOM\n",
    "    )\n",
    "\n",
    "    print('Done.')\n",
    "    print(features_train.shape)\n",
    "    print(features_valid.shape)\n",
    "    print(features_test.shape)\n",
    "\n",
    "    return {'features': (features_train, features_valid, features_test),\n",
    "            'target': (target_train, target_valid, target_test)}"
   ]
  },
  {
   "cell_type": "code",
   "execution_count": 5,
   "metadata": {
    "ExecuteTime": {
     "end_time": "2020-08-13T22:00:59.120953Z",
     "start_time": "2020-08-13T22:00:59.044857Z"
    }
   },
   "outputs": [],
   "source": [
    "def fit_LG(X_train, y_train, class_weight=None):\n",
    "    \"\"\"\n",
    "    Функция для нахождения подходящих гиперпараметров для LogisticRegression\n",
    "    X_train - признаки обучающей выборки\n",
    "    y_train - целевой признак обучающей выборки\n",
    "    class_weight - взвешивание классов (по-умолчанию None)\n",
    "    \"\"\"\n",
    "    skf = KFold(n_splits=5, shuffle=True, random_state=RANDOM)\n",
    "    c_values = np.logspace(-5, 5, 500)\n",
    "\n",
    "    logit_searcher = LogisticRegressionCV(Cs=c_values,\n",
    "                                          solver='lbfgs',\n",
    "                                          refit=True,\n",
    "                                          penalty='l2',\n",
    "                                          scoring='f1',\n",
    "                                          max_iter=1000,\n",
    "                                          class_weight=class_weight,\n",
    "                                          cv=skf, verbose=1, n_jobs=-1)\n",
    "    \n",
    "    logit_searcher.fit(X_train, y_train)\n",
    "    \n",
    "    return logit_searcher"
   ]
  },
  {
   "cell_type": "code",
   "execution_count": 6,
   "metadata": {
    "ExecuteTime": {
     "end_time": "2020-08-13T22:00:59.239948Z",
     "start_time": "2020-08-13T22:00:59.124370Z"
    }
   },
   "outputs": [],
   "source": [
    "def fit_RF(X_train, y_train):\n",
    "    \"\"\"\n",
    "    Функция для нахождения подходящих гиперпараметров для RandomForestClassifier\n",
    "    X_train - признаки обучающей выборки\n",
    "    y_train - целевой признак обучающей выборки\n",
    "    \"\"\"\n",
    "    \n",
    "    # исследуемые параметры\n",
    "    param_grid = {\n",
    "        'random_state': [RANDOM,],\n",
    "        'criterion': ['gini'],\n",
    "        'max_depth': range(5, 21, 5),\n",
    "        'max_features': [2, 3],\n",
    "        'n_estimators': range(90, 120, 10),\n",
    "        'min_samples_leaf': [5],\n",
    "        'class_weight': [None, {0:1,1:2}]\n",
    "    }\n",
    "    \n",
    "    rf = RandomForestClassifier()\n",
    "    grid_search = GridSearchCV(estimator = rf, param_grid = param_grid, cv = 5, \n",
    "                               n_jobs = -1, verbose = 2, scoring='f1')\n",
    "    grid_search.fit(X_train, y_train)\n",
    "    best_grid = grid_search.best_estimator_\n",
    "    \n",
    "    return best_grid"
   ]
  },
  {
   "cell_type": "code",
   "execution_count": 7,
   "metadata": {
    "ExecuteTime": {
     "end_time": "2020-08-13T22:00:59.385776Z",
     "start_time": "2020-08-13T22:00:59.243587Z"
    }
   },
   "outputs": [],
   "source": [
    "def get_scores(y_true, y_pred, y_prob):\n",
    "    \"\"\"\n",
    "    Получение значений необходимых метрик качества\n",
    "    y_true - истиные значения целевого признака\n",
    "    y_pred - предсказания\n",
    "    \"\"\"\n",
    "    recall = recall_score(y_true, y_pred).round(2)\n",
    "    precision = precision_score(y_true, y_pred).round(2)\n",
    "    f1 = f1_score(y_true, y_pred).round(2)\n",
    "    roc = roc_auc_score(y_true, y_prob).round(2)\n",
    "    \n",
    "    return (recall, precision, f1, roc)"
   ]
  },
  {
   "cell_type": "code",
   "execution_count": 8,
   "metadata": {
    "ExecuteTime": {
     "end_time": "2020-08-13T22:00:59.476852Z",
     "start_time": "2020-08-13T22:00:59.397766Z"
    }
   },
   "outputs": [],
   "source": [
    "def sample_scores(model, label, X, y, plot=False, ax=None):\n",
    "    \"\"\"\n",
    "    Получение метрий для конкретной выборки\n",
    "    \"\"\"\n",
    "    predictions = model.predict(X)\n",
    "    probabilities = model.predict_proba(X)[:,1]\n",
    "    \n",
    "    recall, precision, f1, roc = get_scores(y, predictions, probabilities)\n",
    "    \n",
    "    get_roc_curve(y, probabilities, name=label, ax=ax)\n",
    "    \n",
    "    return [recall, precision, f1, roc]"
   ]
  },
  {
   "cell_type": "code",
   "execution_count": 9,
   "metadata": {
    "ExecuteTime": {
     "end_time": "2020-08-13T22:00:59.576297Z",
     "start_time": "2020-08-13T22:00:59.482590Z"
    }
   },
   "outputs": [],
   "source": [
    "def evaluate(model, X_train, y_train, X_valid, y_valid, suffix='', plot=False):\n",
    "    \"\"\"\n",
    "    Получение значений метрик для модели\n",
    "    \"\"\"\n",
    "    metric_values = {'Score': ['Recall', 'Precision', 'F1', 'AUC ROC']}\n",
    "    label = '{} {}'.format(type(model).__name__, suffix)\n",
    "    fig, axes = plt.subplots(1, 2, figsize=(15,6))\n",
    "    \n",
    "    # Train sample iteration\n",
    "    model_label = '{} ({})'.format(label, 'Train')\n",
    "    metric_values['train'] = sample_scores(model, model_label, X_train, y_train, \n",
    "                                           plot=plot, ax=axes[0])\n",
    "    # Valid sample iteration\n",
    "    model_label = '{} ({})'.format(label, 'Valid')\n",
    "    metric_values['valid'] = sample_scores(model, model_label, X_valid, y_valid, \n",
    "                                           plot=plot, ax=axes[1])\n",
    "    plt.show()\n",
    "    \n",
    "    metrics_data = pd.DataFrame(metric_values)\n",
    "    metrics_data.name = model_label\n",
    "    \n",
    "    return metrics_data"
   ]
  },
  {
   "cell_type": "code",
   "execution_count": 10,
   "metadata": {
    "ExecuteTime": {
     "end_time": "2020-08-13T22:00:59.708382Z",
     "start_time": "2020-08-13T22:00:59.579343Z"
    }
   },
   "outputs": [],
   "source": [
    "def get_roc_curve(y_true, y_probs, name='default', ax=None):\n",
    "    \"\"\"\n",
    "    Получение ROC\n",
    "    \"\"\"\n",
    "    check = ax\n",
    "    title = 'ROC '+name\n",
    "    \n",
    "    fpr, tpr, thresholds = roc_curve(y_true, y_probs)\n",
    "    \n",
    "    if not check:\n",
    "        fig, ax = plt.subplots(figsize=(10,5))\n",
    "    \n",
    "    ax.plot(fpr, tpr, color='darkorange', label='ROC curve')\n",
    "    ax.plot([0, 1], [0, 1], color='navy', linestyle='--')\n",
    "    \n",
    "    ax.set_xlabel('FPR')\n",
    "    ax.set_ylabel('TPR')\n",
    "    ax.title.set_text(title)\n",
    "    ax.legend(loc=\"lower right\")\n",
    "    \n",
    "    if not check:\n",
    "        plt.show()"
   ]
  },
  {
   "cell_type": "code",
   "execution_count": 11,
   "metadata": {
    "ExecuteTime": {
     "end_time": "2020-08-13T22:00:59.798458Z",
     "start_time": "2020-08-13T22:00:59.711091Z"
    }
   },
   "outputs": [],
   "source": [
    "def research_models(X_train, y_train, X_valid, y_valid, balanced=False, \n",
    "                    plot=False, forest=True):\n",
    "    \"\"\"\n",
    "    Исследование моделей\n",
    "    \"\"\"\n",
    "    class_weight = None\n",
    "    suffix = ''\n",
    "    \n",
    "    if balanced:\n",
    "        class_weight = 'balanced'\n",
    "        suffix = 'balanced'\n",
    "        \n",
    "    print('\\nResearch LG ...\\n')\n",
    "    lg = fit_LG(X_train, y_train, class_weight=class_weight)\n",
    "    lg_metrics = evaluate(lg, X_train, y_train, X_valid, y_valid, suffix=suffix, plot=plot)\n",
    "    print(lg_metrics)\n",
    "    \n",
    "    if forest:\n",
    "        print('\\nResearch RF ...\\n')\n",
    "        rf = fit_RF(X_train, y_train)\n",
    "        rf_metrics = evaluate(rf, X_train, y_train, X_valid, y_valid, plot=plot)\n",
    "        print(rf_metrics)\n",
    "        \n",
    "        return (lg, rf)\n",
    "    \n",
    "    return lg"
   ]
  },
  {
   "cell_type": "code",
   "execution_count": 12,
   "metadata": {
    "ExecuteTime": {
     "end_time": "2020-08-13T22:00:59.922815Z",
     "start_time": "2020-08-13T22:00:59.801106Z"
    }
   },
   "outputs": [],
   "source": [
    "def upsample(features, target, repeat):\n",
    "    \"\"\"\n",
    "    Функция увеличения числа выборки.\n",
    "    features - признаки\n",
    "    target   - целевая переменная\n",
    "    repeat   - во сколько раз увеличить\n",
    "    \"\"\"\n",
    "    tname = target.columns[0]\n",
    "    \n",
    "    # UPDATE\n",
    "    # df = features_train.reset_index(drop=True).join(target_train.reset_index(drop=True))\n",
    "    df = features.reset_index(drop=True).join(target.reset_index(drop=True))\n",
    "    \n",
    "    features_zeros = df[df[tname] == 0].drop(columns=[tname])\n",
    "    features_ones = df[df[tname] == 1].drop(columns=[tname])\n",
    "\n",
    "    target_zeros = df[df[tname] == 0][[tname]]\n",
    "    target_ones = df[df[tname] == 1][[tname]]\n",
    "    \n",
    "    features_upsampled = pd.concat([features_zeros] + [features_ones] * repeat)\n",
    "    target_upsampled = pd.concat([target_zeros] + [target_ones] * repeat)\n",
    "\n",
    "    features_upsampled, target_upsampled = shuffle(\n",
    "        features_upsampled, target_upsampled, random_state=RANDOM)\n",
    "    \n",
    "    return features_upsampled, target_upsampled"
   ]
  },
  {
   "cell_type": "code",
   "execution_count": 13,
   "metadata": {
    "ExecuteTime": {
     "end_time": "2020-08-13T22:01:00.068675Z",
     "start_time": "2020-08-13T22:00:59.927619Z"
    }
   },
   "outputs": [],
   "source": [
    "def downsample(features, target, fraction):\n",
    "    \"\"\"\n",
    "    Функция уменьшения числа выборки.\n",
    "    features - признаки\n",
    "    target   - целевая переменная\n",
    "    repeat   - какую долю класса оставить\n",
    "    \"\"\"\n",
    "    tname = target.columns[0]\n",
    "    df = features.reset_index(drop=True).join(target.reset_index(drop=True))\n",
    "\n",
    "    features_zeros = df[df[tname] == 0].drop(columns=[tname])\n",
    "    features_ones = df[df[tname] == 1].drop(columns=[tname])\n",
    "\n",
    "    target_zeros = df[df[tname] == 0][[tname]]\n",
    "    target_ones = df[df[tname] == 1][[tname]]\n",
    "    \n",
    "    features_downsampled = pd.concat(\n",
    "        [features_zeros.sample(frac=fraction, random_state=RANDOM)] + [features_ones])\n",
    "    \n",
    "    target_downsampled = pd.concat(\n",
    "        [target_zeros.sample(frac=fraction, random_state=RANDOM)] + [target_ones])\n",
    "    \n",
    "    features_downsampled, target_downsampled = shuffle(\n",
    "        features_downsampled, target_downsampled, random_state=RANDOM)\n",
    "    \n",
    "    return features_downsampled, target_downsampled"
   ]
  },
  {
   "cell_type": "markdown",
   "metadata": {},
   "source": [
    "## 1.2. Ознакомление с данными"
   ]
  },
  {
   "cell_type": "code",
   "execution_count": 14,
   "metadata": {
    "ExecuteTime": {
     "end_time": "2020-08-13T22:01:00.166554Z",
     "start_time": "2020-08-13T22:01:00.072146Z"
    }
   },
   "outputs": [
    {
     "name": "stdout",
     "output_type": "stream",
     "text": [
      "Run https://yadi.sk/d/XayfW9lDkYbsjg\n"
     ]
    }
   ],
   "source": [
    "data_orig = pd.read_csv(get_url(LINK))"
   ]
  },
  {
   "cell_type": "code",
   "execution_count": 15,
   "metadata": {
    "ExecuteTime": {
     "end_time": "2020-08-13T22:01:00.306605Z",
     "start_time": "2020-08-13T22:01:00.171015Z"
    }
   },
   "outputs": [
    {
     "data": {
      "text/html": [
       "<div>\n",
       "<style scoped>\n",
       "    .dataframe tbody tr th:only-of-type {\n",
       "        vertical-align: middle;\n",
       "    }\n",
       "\n",
       "    .dataframe tbody tr th {\n",
       "        vertical-align: top;\n",
       "    }\n",
       "\n",
       "    .dataframe thead th {\n",
       "        text-align: right;\n",
       "    }\n",
       "</style>\n",
       "<table border=\"1\" class=\"dataframe\">\n",
       "  <thead>\n",
       "    <tr style=\"text-align: right;\">\n",
       "      <th></th>\n",
       "      <th>RowNumber</th>\n",
       "      <th>CustomerId</th>\n",
       "      <th>Surname</th>\n",
       "      <th>CreditScore</th>\n",
       "      <th>Geography</th>\n",
       "      <th>Gender</th>\n",
       "      <th>Age</th>\n",
       "      <th>Tenure</th>\n",
       "      <th>Balance</th>\n",
       "      <th>NumOfProducts</th>\n",
       "      <th>HasCrCard</th>\n",
       "      <th>IsActiveMember</th>\n",
       "      <th>EstimatedSalary</th>\n",
       "      <th>Exited</th>\n",
       "    </tr>\n",
       "  </thead>\n",
       "  <tbody>\n",
       "    <tr>\n",
       "      <th>0</th>\n",
       "      <td>1</td>\n",
       "      <td>15634602</td>\n",
       "      <td>Hargrave</td>\n",
       "      <td>619</td>\n",
       "      <td>France</td>\n",
       "      <td>Female</td>\n",
       "      <td>42</td>\n",
       "      <td>2.0</td>\n",
       "      <td>0.00</td>\n",
       "      <td>1</td>\n",
       "      <td>1</td>\n",
       "      <td>1</td>\n",
       "      <td>101348.88</td>\n",
       "      <td>1</td>\n",
       "    </tr>\n",
       "    <tr>\n",
       "      <th>1</th>\n",
       "      <td>2</td>\n",
       "      <td>15647311</td>\n",
       "      <td>Hill</td>\n",
       "      <td>608</td>\n",
       "      <td>Spain</td>\n",
       "      <td>Female</td>\n",
       "      <td>41</td>\n",
       "      <td>1.0</td>\n",
       "      <td>83807.86</td>\n",
       "      <td>1</td>\n",
       "      <td>0</td>\n",
       "      <td>1</td>\n",
       "      <td>112542.58</td>\n",
       "      <td>0</td>\n",
       "    </tr>\n",
       "    <tr>\n",
       "      <th>2</th>\n",
       "      <td>3</td>\n",
       "      <td>15619304</td>\n",
       "      <td>Onio</td>\n",
       "      <td>502</td>\n",
       "      <td>France</td>\n",
       "      <td>Female</td>\n",
       "      <td>42</td>\n",
       "      <td>8.0</td>\n",
       "      <td>159660.80</td>\n",
       "      <td>3</td>\n",
       "      <td>1</td>\n",
       "      <td>0</td>\n",
       "      <td>113931.57</td>\n",
       "      <td>1</td>\n",
       "    </tr>\n",
       "    <tr>\n",
       "      <th>3</th>\n",
       "      <td>4</td>\n",
       "      <td>15701354</td>\n",
       "      <td>Boni</td>\n",
       "      <td>699</td>\n",
       "      <td>France</td>\n",
       "      <td>Female</td>\n",
       "      <td>39</td>\n",
       "      <td>1.0</td>\n",
       "      <td>0.00</td>\n",
       "      <td>2</td>\n",
       "      <td>0</td>\n",
       "      <td>0</td>\n",
       "      <td>93826.63</td>\n",
       "      <td>0</td>\n",
       "    </tr>\n",
       "    <tr>\n",
       "      <th>4</th>\n",
       "      <td>5</td>\n",
       "      <td>15737888</td>\n",
       "      <td>Mitchell</td>\n",
       "      <td>850</td>\n",
       "      <td>Spain</td>\n",
       "      <td>Female</td>\n",
       "      <td>43</td>\n",
       "      <td>2.0</td>\n",
       "      <td>125510.82</td>\n",
       "      <td>1</td>\n",
       "      <td>1</td>\n",
       "      <td>1</td>\n",
       "      <td>79084.10</td>\n",
       "      <td>0</td>\n",
       "    </tr>\n",
       "    <tr>\n",
       "      <th>5</th>\n",
       "      <td>6</td>\n",
       "      <td>15574012</td>\n",
       "      <td>Chu</td>\n",
       "      <td>645</td>\n",
       "      <td>Spain</td>\n",
       "      <td>Male</td>\n",
       "      <td>44</td>\n",
       "      <td>8.0</td>\n",
       "      <td>113755.78</td>\n",
       "      <td>2</td>\n",
       "      <td>1</td>\n",
       "      <td>0</td>\n",
       "      <td>149756.71</td>\n",
       "      <td>1</td>\n",
       "    </tr>\n",
       "    <tr>\n",
       "      <th>6</th>\n",
       "      <td>7</td>\n",
       "      <td>15592531</td>\n",
       "      <td>Bartlett</td>\n",
       "      <td>822</td>\n",
       "      <td>France</td>\n",
       "      <td>Male</td>\n",
       "      <td>50</td>\n",
       "      <td>7.0</td>\n",
       "      <td>0.00</td>\n",
       "      <td>2</td>\n",
       "      <td>1</td>\n",
       "      <td>1</td>\n",
       "      <td>10062.80</td>\n",
       "      <td>0</td>\n",
       "    </tr>\n",
       "    <tr>\n",
       "      <th>7</th>\n",
       "      <td>8</td>\n",
       "      <td>15656148</td>\n",
       "      <td>Obinna</td>\n",
       "      <td>376</td>\n",
       "      <td>Germany</td>\n",
       "      <td>Female</td>\n",
       "      <td>29</td>\n",
       "      <td>4.0</td>\n",
       "      <td>115046.74</td>\n",
       "      <td>4</td>\n",
       "      <td>1</td>\n",
       "      <td>0</td>\n",
       "      <td>119346.88</td>\n",
       "      <td>1</td>\n",
       "    </tr>\n",
       "    <tr>\n",
       "      <th>8</th>\n",
       "      <td>9</td>\n",
       "      <td>15792365</td>\n",
       "      <td>He</td>\n",
       "      <td>501</td>\n",
       "      <td>France</td>\n",
       "      <td>Male</td>\n",
       "      <td>44</td>\n",
       "      <td>4.0</td>\n",
       "      <td>142051.07</td>\n",
       "      <td>2</td>\n",
       "      <td>0</td>\n",
       "      <td>1</td>\n",
       "      <td>74940.50</td>\n",
       "      <td>0</td>\n",
       "    </tr>\n",
       "    <tr>\n",
       "      <th>9</th>\n",
       "      <td>10</td>\n",
       "      <td>15592389</td>\n",
       "      <td>H?</td>\n",
       "      <td>684</td>\n",
       "      <td>France</td>\n",
       "      <td>Male</td>\n",
       "      <td>27</td>\n",
       "      <td>2.0</td>\n",
       "      <td>134603.88</td>\n",
       "      <td>1</td>\n",
       "      <td>1</td>\n",
       "      <td>1</td>\n",
       "      <td>71725.73</td>\n",
       "      <td>0</td>\n",
       "    </tr>\n",
       "  </tbody>\n",
       "</table>\n",
       "</div>"
      ],
      "text/plain": [
       "   RowNumber  CustomerId   Surname  CreditScore Geography  Gender  Age  \\\n",
       "0          1    15634602  Hargrave          619    France  Female   42   \n",
       "1          2    15647311      Hill          608     Spain  Female   41   \n",
       "2          3    15619304      Onio          502    France  Female   42   \n",
       "3          4    15701354      Boni          699    France  Female   39   \n",
       "4          5    15737888  Mitchell          850     Spain  Female   43   \n",
       "5          6    15574012       Chu          645     Spain    Male   44   \n",
       "6          7    15592531  Bartlett          822    France    Male   50   \n",
       "7          8    15656148    Obinna          376   Germany  Female   29   \n",
       "8          9    15792365        He          501    France    Male   44   \n",
       "9         10    15592389        H?          684    France    Male   27   \n",
       "\n",
       "   Tenure    Balance  NumOfProducts  HasCrCard  IsActiveMember  \\\n",
       "0     2.0       0.00              1          1               1   \n",
       "1     1.0   83807.86              1          0               1   \n",
       "2     8.0  159660.80              3          1               0   \n",
       "3     1.0       0.00              2          0               0   \n",
       "4     2.0  125510.82              1          1               1   \n",
       "5     8.0  113755.78              2          1               0   \n",
       "6     7.0       0.00              2          1               1   \n",
       "7     4.0  115046.74              4          1               0   \n",
       "8     4.0  142051.07              2          0               1   \n",
       "9     2.0  134603.88              1          1               1   \n",
       "\n",
       "   EstimatedSalary  Exited  \n",
       "0        101348.88       1  \n",
       "1        112542.58       0  \n",
       "2        113931.57       1  \n",
       "3         93826.63       0  \n",
       "4         79084.10       0  \n",
       "5        149756.71       1  \n",
       "6         10062.80       0  \n",
       "7        119346.88       1  \n",
       "8         74940.50       0  \n",
       "9         71725.73       0  "
      ]
     },
     "execution_count": 15,
     "metadata": {},
     "output_type": "execute_result"
    }
   ],
   "source": [
    "data_orig.head(10)"
   ]
  },
  {
   "cell_type": "code",
   "execution_count": 16,
   "metadata": {
    "ExecuteTime": {
     "end_time": "2020-08-13T22:01:00.384942Z",
     "start_time": "2020-08-13T22:01:00.310979Z"
    }
   },
   "outputs": [
    {
     "name": "stdout",
     "output_type": "stream",
     "text": [
      "<class 'pandas.core.frame.DataFrame'>\n",
      "RangeIndex: 10000 entries, 0 to 9999\n",
      "Data columns (total 14 columns):\n",
      " #   Column           Non-Null Count  Dtype  \n",
      "---  ------           --------------  -----  \n",
      " 0   RowNumber        10000 non-null  int64  \n",
      " 1   CustomerId       10000 non-null  int64  \n",
      " 2   Surname          10000 non-null  object \n",
      " 3   CreditScore      10000 non-null  int64  \n",
      " 4   Geography        10000 non-null  object \n",
      " 5   Gender           10000 non-null  object \n",
      " 6   Age              10000 non-null  int64  \n",
      " 7   Tenure           9091 non-null   float64\n",
      " 8   Balance          10000 non-null  float64\n",
      " 9   NumOfProducts    10000 non-null  int64  \n",
      " 10  HasCrCard        10000 non-null  int64  \n",
      " 11  IsActiveMember   10000 non-null  int64  \n",
      " 12  EstimatedSalary  10000 non-null  float64\n",
      " 13  Exited           10000 non-null  int64  \n",
      "dtypes: float64(3), int64(8), object(3)\n",
      "memory usage: 1.1+ MB\n"
     ]
    }
   ],
   "source": [
    "data_orig.info()"
   ]
  },
  {
   "cell_type": "markdown",
   "metadata": {},
   "source": [
    "<span style=\"float:left\">\n",
    "\n",
    "\n",
    "|        Признак       |                  Описание                         |         Действия      |\n",
    "|:---------------------|:--------------------------------------------------|:----------------------|\n",
    "| _RowNumber_          | индекс строки в данных                            | Удалить               |\n",
    "| _CustomerId_         | уникальный идентификатор клиента                  | Удалить               |\n",
    "| _Surname_            | фамилия                                           | Удалить               |\n",
    "| _Geography_          | страна проживания                                 | Закодировать          |\n",
    "| _Gender_             | пол                                               | Закодировать          |\n",
    "| _CreditScore_        | кредитный рейтинг                                 | Исследовать           |\n",
    "| _Age_                | возраст                                           | Исследовать           |\n",
    "| _Tenure_             | количество недвижимости у клиента                 | Исследовать           |\n",
    "| _NumOfProducts_      | количество продуктов банка, используемых клиентом | Исследовать           |\n",
    "| _HasCrCard_          | наличие кредитной карты                           | Исследовать           |\n",
    "| _IsActiveMember_     | активность клиента                                | Исследовать           |\n",
    "| _Balance_            | баланс на счёте                                   | Масштабировать        |\n",
    "| _EstimatedSalary_    | предполагаемая зарплата                           | Масштабировать        |\n",
    "\n",
    "</span>"
   ]
  },
  {
   "cell_type": "markdown",
   "metadata": {},
   "source": [
    "## 1.3. Подготовка данных"
   ]
  },
  {
   "cell_type": "markdown",
   "metadata": {},
   "source": [
    "Признаки _CustomerId_ , _Surname_ и _RowNumber_ не пригодятся в дальнейшей работе, так как не несут смысловой нагрузки в данной задаче. Удалим их."
   ]
  },
  {
   "cell_type": "code",
   "execution_count": 17,
   "metadata": {
    "ExecuteTime": {
     "end_time": "2020-08-13T22:01:00.466170Z",
     "start_time": "2020-08-13T22:01:00.388890Z"
    }
   },
   "outputs": [],
   "source": [
    "data = data_orig.copy()"
   ]
  },
  {
   "cell_type": "code",
   "execution_count": 18,
   "metadata": {
    "ExecuteTime": {
     "end_time": "2020-08-13T22:01:00.562379Z",
     "start_time": "2020-08-13T22:01:00.469254Z"
    }
   },
   "outputs": [
    {
     "data": {
      "text/html": [
       "<div>\n",
       "<style scoped>\n",
       "    .dataframe tbody tr th:only-of-type {\n",
       "        vertical-align: middle;\n",
       "    }\n",
       "\n",
       "    .dataframe tbody tr th {\n",
       "        vertical-align: top;\n",
       "    }\n",
       "\n",
       "    .dataframe thead th {\n",
       "        text-align: right;\n",
       "    }\n",
       "</style>\n",
       "<table border=\"1\" class=\"dataframe\">\n",
       "  <thead>\n",
       "    <tr style=\"text-align: right;\">\n",
       "      <th></th>\n",
       "      <th>CreditScore</th>\n",
       "      <th>Geography</th>\n",
       "      <th>Gender</th>\n",
       "      <th>Age</th>\n",
       "      <th>Tenure</th>\n",
       "      <th>Balance</th>\n",
       "      <th>NumOfProducts</th>\n",
       "      <th>HasCrCard</th>\n",
       "      <th>IsActiveMember</th>\n",
       "      <th>EstimatedSalary</th>\n",
       "      <th>Exited</th>\n",
       "    </tr>\n",
       "  </thead>\n",
       "  <tbody>\n",
       "    <tr>\n",
       "      <th>9315</th>\n",
       "      <td>694</td>\n",
       "      <td>France</td>\n",
       "      <td>Male</td>\n",
       "      <td>42</td>\n",
       "      <td>8.0</td>\n",
       "      <td>133767.19</td>\n",
       "      <td>1</td>\n",
       "      <td>1</td>\n",
       "      <td>0</td>\n",
       "      <td>36405.21</td>\n",
       "      <td>0</td>\n",
       "    </tr>\n",
       "    <tr>\n",
       "      <th>8209</th>\n",
       "      <td>706</td>\n",
       "      <td>Germany</td>\n",
       "      <td>Male</td>\n",
       "      <td>32</td>\n",
       "      <td>5.0</td>\n",
       "      <td>88348.43</td>\n",
       "      <td>2</td>\n",
       "      <td>1</td>\n",
       "      <td>1</td>\n",
       "      <td>104181.78</td>\n",
       "      <td>0</td>\n",
       "    </tr>\n",
       "  </tbody>\n",
       "</table>\n",
       "</div>"
      ],
      "text/plain": [
       "      CreditScore Geography Gender  Age  Tenure    Balance  NumOfProducts  \\\n",
       "9315          694    France   Male   42     8.0  133767.19              1   \n",
       "8209          706   Germany   Male   32     5.0   88348.43              2   \n",
       "\n",
       "      HasCrCard  IsActiveMember  EstimatedSalary  Exited  \n",
       "9315          1               0         36405.21       0  \n",
       "8209          1               1        104181.78       0  "
      ]
     },
     "execution_count": 18,
     "metadata": {},
     "output_type": "execute_result"
    }
   ],
   "source": [
    "data = data.drop(['Surname','CustomerId', 'RowNumber'], axis=1)\n",
    "data.sample(2)"
   ]
  },
  {
   "cell_type": "markdown",
   "metadata": {},
   "source": [
    "Удалим данные с пропусками в _Tenure_ , так как это помешает в дальнейшей работе."
   ]
  },
  {
   "cell_type": "code",
   "execution_count": 19,
   "metadata": {
    "ExecuteTime": {
     "end_time": "2020-08-13T22:01:00.647838Z",
     "start_time": "2020-08-13T22:01:00.564851Z"
    }
   },
   "outputs": [
    {
     "data": {
      "text/plain": [
       "0.0     1291\n",
       "1.0      952\n",
       "2.0      950\n",
       "8.0      933\n",
       "3.0      928\n",
       "5.0      927\n",
       "7.0      925\n",
       "4.0      885\n",
       "9.0      882\n",
       "6.0      881\n",
       "10.0     446\n",
       "Name: Tenure, dtype: int64"
      ]
     },
     "execution_count": 19,
     "metadata": {},
     "output_type": "execute_result"
    }
   ],
   "source": [
    "data['Tenure'] = data['Tenure'].fillna(0)\n",
    "data.Tenure.value_counts()"
   ]
  },
  {
   "cell_type": "markdown",
   "metadata": {},
   "source": [
    "Подготовим признаки. Заменим признак пола на числовое значение (прямое кодирование)."
   ]
  },
  {
   "cell_type": "code",
   "execution_count": 20,
   "metadata": {
    "ExecuteTime": {
     "end_time": "2020-08-13T22:01:00.810572Z",
     "start_time": "2020-08-13T22:01:00.650545Z"
    }
   },
   "outputs": [],
   "source": [
    "data = pd.get_dummies(data, columns=['Gender'], drop_first=True)"
   ]
  },
  {
   "cell_type": "code",
   "execution_count": 21,
   "metadata": {
    "ExecuteTime": {
     "end_time": "2020-08-13T22:01:00.921310Z",
     "start_time": "2020-08-13T22:01:00.813617Z"
    }
   },
   "outputs": [
    {
     "data": {
      "text/html": [
       "<div>\n",
       "<style scoped>\n",
       "    .dataframe tbody tr th:only-of-type {\n",
       "        vertical-align: middle;\n",
       "    }\n",
       "\n",
       "    .dataframe tbody tr th {\n",
       "        vertical-align: top;\n",
       "    }\n",
       "\n",
       "    .dataframe thead th {\n",
       "        text-align: right;\n",
       "    }\n",
       "</style>\n",
       "<table border=\"1\" class=\"dataframe\">\n",
       "  <thead>\n",
       "    <tr style=\"text-align: right;\">\n",
       "      <th></th>\n",
       "      <th>CreditScore</th>\n",
       "      <th>Geography</th>\n",
       "      <th>Age</th>\n",
       "      <th>Tenure</th>\n",
       "      <th>Balance</th>\n",
       "      <th>NumOfProducts</th>\n",
       "      <th>HasCrCard</th>\n",
       "      <th>IsActiveMember</th>\n",
       "      <th>EstimatedSalary</th>\n",
       "      <th>Exited</th>\n",
       "      <th>Gender_Male</th>\n",
       "    </tr>\n",
       "  </thead>\n",
       "  <tbody>\n",
       "    <tr>\n",
       "      <th>5929</th>\n",
       "      <td>699</td>\n",
       "      <td>France</td>\n",
       "      <td>32</td>\n",
       "      <td>3.0</td>\n",
       "      <td>0.00</td>\n",
       "      <td>2</td>\n",
       "      <td>1</td>\n",
       "      <td>1</td>\n",
       "      <td>170770.44</td>\n",
       "      <td>0</td>\n",
       "      <td>1</td>\n",
       "    </tr>\n",
       "    <tr>\n",
       "      <th>5391</th>\n",
       "      <td>639</td>\n",
       "      <td>Spain</td>\n",
       "      <td>27</td>\n",
       "      <td>8.0</td>\n",
       "      <td>133806.54</td>\n",
       "      <td>2</td>\n",
       "      <td>1</td>\n",
       "      <td>0</td>\n",
       "      <td>6251.30</td>\n",
       "      <td>0</td>\n",
       "      <td>0</td>\n",
       "    </tr>\n",
       "    <tr>\n",
       "      <th>4385</th>\n",
       "      <td>651</td>\n",
       "      <td>France</td>\n",
       "      <td>35</td>\n",
       "      <td>2.0</td>\n",
       "      <td>86911.80</td>\n",
       "      <td>1</td>\n",
       "      <td>1</td>\n",
       "      <td>0</td>\n",
       "      <td>174094.24</td>\n",
       "      <td>0</td>\n",
       "      <td>1</td>\n",
       "    </tr>\n",
       "  </tbody>\n",
       "</table>\n",
       "</div>"
      ],
      "text/plain": [
       "      CreditScore Geography  Age  Tenure    Balance  NumOfProducts  HasCrCard  \\\n",
       "5929          699    France   32     3.0       0.00              2          1   \n",
       "5391          639     Spain   27     8.0  133806.54              2          1   \n",
       "4385          651    France   35     2.0   86911.80              1          1   \n",
       "\n",
       "      IsActiveMember  EstimatedSalary  Exited  Gender_Male  \n",
       "5929               1        170770.44       0            1  \n",
       "5391               0          6251.30       0            0  \n",
       "4385               0        174094.24       0            1  "
      ]
     },
     "execution_count": 21,
     "metadata": {},
     "output_type": "execute_result"
    }
   ],
   "source": [
    "data.sample(3)"
   ]
  },
  {
   "cell_type": "markdown",
   "metadata": {},
   "source": [
    "Обработаем признак _Geography_ порядковым кодированием.\n",
    "\n",
    "Применяем прямое кодирование."
   ]
  },
  {
   "cell_type": "code",
   "execution_count": 22,
   "metadata": {
    "ExecuteTime": {
     "end_time": "2020-08-13T22:01:01.017767Z",
     "start_time": "2020-08-13T22:01:00.924771Z"
    }
   },
   "outputs": [
    {
     "data": {
      "text/html": [
       "<div>\n",
       "<style scoped>\n",
       "    .dataframe tbody tr th:only-of-type {\n",
       "        vertical-align: middle;\n",
       "    }\n",
       "\n",
       "    .dataframe tbody tr th {\n",
       "        vertical-align: top;\n",
       "    }\n",
       "\n",
       "    .dataframe thead th {\n",
       "        text-align: right;\n",
       "    }\n",
       "</style>\n",
       "<table border=\"1\" class=\"dataframe\">\n",
       "  <thead>\n",
       "    <tr style=\"text-align: right;\">\n",
       "      <th></th>\n",
       "      <th>CreditScore</th>\n",
       "      <th>Age</th>\n",
       "      <th>Tenure</th>\n",
       "      <th>Balance</th>\n",
       "      <th>NumOfProducts</th>\n",
       "      <th>HasCrCard</th>\n",
       "      <th>IsActiveMember</th>\n",
       "      <th>EstimatedSalary</th>\n",
       "      <th>Exited</th>\n",
       "      <th>Gender_Male</th>\n",
       "      <th>Geography_Germany</th>\n",
       "      <th>Geography_Spain</th>\n",
       "    </tr>\n",
       "  </thead>\n",
       "  <tbody>\n",
       "    <tr>\n",
       "      <th>0</th>\n",
       "      <td>619</td>\n",
       "      <td>42</td>\n",
       "      <td>2.0</td>\n",
       "      <td>0.00</td>\n",
       "      <td>1</td>\n",
       "      <td>1</td>\n",
       "      <td>1</td>\n",
       "      <td>101348.88</td>\n",
       "      <td>1</td>\n",
       "      <td>0</td>\n",
       "      <td>0</td>\n",
       "      <td>0</td>\n",
       "    </tr>\n",
       "    <tr>\n",
       "      <th>1</th>\n",
       "      <td>608</td>\n",
       "      <td>41</td>\n",
       "      <td>1.0</td>\n",
       "      <td>83807.86</td>\n",
       "      <td>1</td>\n",
       "      <td>0</td>\n",
       "      <td>1</td>\n",
       "      <td>112542.58</td>\n",
       "      <td>0</td>\n",
       "      <td>0</td>\n",
       "      <td>0</td>\n",
       "      <td>1</td>\n",
       "    </tr>\n",
       "    <tr>\n",
       "      <th>2</th>\n",
       "      <td>502</td>\n",
       "      <td>42</td>\n",
       "      <td>8.0</td>\n",
       "      <td>159660.80</td>\n",
       "      <td>3</td>\n",
       "      <td>1</td>\n",
       "      <td>0</td>\n",
       "      <td>113931.57</td>\n",
       "      <td>1</td>\n",
       "      <td>0</td>\n",
       "      <td>0</td>\n",
       "      <td>0</td>\n",
       "    </tr>\n",
       "    <tr>\n",
       "      <th>3</th>\n",
       "      <td>699</td>\n",
       "      <td>39</td>\n",
       "      <td>1.0</td>\n",
       "      <td>0.00</td>\n",
       "      <td>2</td>\n",
       "      <td>0</td>\n",
       "      <td>0</td>\n",
       "      <td>93826.63</td>\n",
       "      <td>0</td>\n",
       "      <td>0</td>\n",
       "      <td>0</td>\n",
       "      <td>0</td>\n",
       "    </tr>\n",
       "    <tr>\n",
       "      <th>4</th>\n",
       "      <td>850</td>\n",
       "      <td>43</td>\n",
       "      <td>2.0</td>\n",
       "      <td>125510.82</td>\n",
       "      <td>1</td>\n",
       "      <td>1</td>\n",
       "      <td>1</td>\n",
       "      <td>79084.10</td>\n",
       "      <td>0</td>\n",
       "      <td>0</td>\n",
       "      <td>0</td>\n",
       "      <td>1</td>\n",
       "    </tr>\n",
       "  </tbody>\n",
       "</table>\n",
       "</div>"
      ],
      "text/plain": [
       "   CreditScore  Age  Tenure    Balance  NumOfProducts  HasCrCard  \\\n",
       "0          619   42     2.0       0.00              1          1   \n",
       "1          608   41     1.0   83807.86              1          0   \n",
       "2          502   42     8.0  159660.80              3          1   \n",
       "3          699   39     1.0       0.00              2          0   \n",
       "4          850   43     2.0  125510.82              1          1   \n",
       "\n",
       "   IsActiveMember  EstimatedSalary  Exited  Gender_Male  Geography_Germany  \\\n",
       "0               1        101348.88       1            0                  0   \n",
       "1               1        112542.58       0            0                  0   \n",
       "2               0        113931.57       1            0                  0   \n",
       "3               0         93826.63       0            0                  0   \n",
       "4               1         79084.10       0            0                  0   \n",
       "\n",
       "   Geography_Spain  \n",
       "0                0  \n",
       "1                1  \n",
       "2                0  \n",
       "3                0  \n",
       "4                1  "
      ]
     },
     "execution_count": 22,
     "metadata": {},
     "output_type": "execute_result"
    }
   ],
   "source": [
    "data = pd.get_dummies(data, columns=['Geography'], drop_first=True)\n",
    "data.head()"
   ]
  },
  {
   "cell_type": "markdown",
   "metadata": {},
   "source": [
    "## Комментарий наставника\n",
    "<span style=\"color:red\">Порядковое кодирование — это замечательно, но линейные модели (включая логистическую регрессию) не умеют обрабатывать признаки, закодированные таким образом. Для логистической регрессии тебе нужно будет добавить прямое кодирование признака со страной. Для всех остальных моделей порядковое кодирование подойдет (для случайного леса оно действительно лучше), либо можешь только прямым методом всё закодировать.</span> \\\n",
    "<span style=\"color:orange\">UPD 14.08.2020 Теперь лучше. Зря вызов с **drop_first=True** закомментировала, лучше избавляться от лишнего признака (у нас было бы 2 признака со страной и если в каждом из них в записи стоял бы ноль, это автоматически означало бы, что клиент из  третьей страны, то есть нужды в отдельном третьем признаке нет).</span>"
   ]
  },
  {
   "cell_type": "markdown",
   "metadata": {},
   "source": [
    "Так как присутствуют признаки, которые значительно отличаются масштабом, проведем Z-преобразование признаков (стандартизацию данных)."
   ]
  },
  {
   "cell_type": "code",
   "execution_count": 23,
   "metadata": {
    "ExecuteTime": {
     "end_time": "2020-08-13T22:01:01.209337Z",
     "start_time": "2020-08-13T22:01:01.133217Z"
    }
   },
   "outputs": [],
   "source": [
    "features_for_scaling = ['Balance', 'EstimatedSalary', 'CreditScore', 'Age']"
   ]
  },
  {
   "cell_type": "code",
   "execution_count": 24,
   "metadata": {
    "ExecuteTime": {
     "end_time": "2020-08-13T22:01:01.325426Z",
     "start_time": "2020-08-13T22:01:01.212493Z"
    }
   },
   "outputs": [
    {
     "data": {
      "text/plain": [
       "StandardScaler()"
      ]
     },
     "execution_count": 24,
     "metadata": {},
     "output_type": "execute_result"
    }
   ],
   "source": [
    "data_scaled = data.copy()\n",
    "scaler = StandardScaler()\n",
    "scaler.fit(data[features_for_scaling])\n",
    "\n",
    "# остальное отмасштабируем после разбиения"
   ]
  },
  {
   "cell_type": "markdown",
   "metadata": {},
   "source": [
    "Признаки _Geography_ , _Tenure_ приведем к целочисленному типу."
   ]
  },
  {
   "cell_type": "code",
   "execution_count": 25,
   "metadata": {
    "ExecuteTime": {
     "end_time": "2020-08-13T22:01:01.472522Z",
     "start_time": "2020-08-13T22:01:01.328730Z"
    }
   },
   "outputs": [
    {
     "data": {
      "text/html": [
       "<div>\n",
       "<style scoped>\n",
       "    .dataframe tbody tr th:only-of-type {\n",
       "        vertical-align: middle;\n",
       "    }\n",
       "\n",
       "    .dataframe tbody tr th {\n",
       "        vertical-align: top;\n",
       "    }\n",
       "\n",
       "    .dataframe thead th {\n",
       "        text-align: right;\n",
       "    }\n",
       "</style>\n",
       "<table border=\"1\" class=\"dataframe\">\n",
       "  <thead>\n",
       "    <tr style=\"text-align: right;\">\n",
       "      <th></th>\n",
       "      <th>CreditScore</th>\n",
       "      <th>Age</th>\n",
       "      <th>Tenure</th>\n",
       "      <th>Balance</th>\n",
       "      <th>NumOfProducts</th>\n",
       "      <th>HasCrCard</th>\n",
       "      <th>IsActiveMember</th>\n",
       "      <th>EstimatedSalary</th>\n",
       "      <th>Exited</th>\n",
       "      <th>Gender_Male</th>\n",
       "      <th>Geography_Germany</th>\n",
       "      <th>Geography_Spain</th>\n",
       "    </tr>\n",
       "  </thead>\n",
       "  <tbody>\n",
       "    <tr>\n",
       "      <th>0</th>\n",
       "      <td>619</td>\n",
       "      <td>42</td>\n",
       "      <td>2</td>\n",
       "      <td>0.00</td>\n",
       "      <td>1</td>\n",
       "      <td>1</td>\n",
       "      <td>1</td>\n",
       "      <td>101348.88</td>\n",
       "      <td>1</td>\n",
       "      <td>0</td>\n",
       "      <td>0</td>\n",
       "      <td>0</td>\n",
       "    </tr>\n",
       "    <tr>\n",
       "      <th>1</th>\n",
       "      <td>608</td>\n",
       "      <td>41</td>\n",
       "      <td>1</td>\n",
       "      <td>83807.86</td>\n",
       "      <td>1</td>\n",
       "      <td>0</td>\n",
       "      <td>1</td>\n",
       "      <td>112542.58</td>\n",
       "      <td>0</td>\n",
       "      <td>0</td>\n",
       "      <td>0</td>\n",
       "      <td>1</td>\n",
       "    </tr>\n",
       "    <tr>\n",
       "      <th>2</th>\n",
       "      <td>502</td>\n",
       "      <td>42</td>\n",
       "      <td>8</td>\n",
       "      <td>159660.80</td>\n",
       "      <td>3</td>\n",
       "      <td>1</td>\n",
       "      <td>0</td>\n",
       "      <td>113931.57</td>\n",
       "      <td>1</td>\n",
       "      <td>0</td>\n",
       "      <td>0</td>\n",
       "      <td>0</td>\n",
       "    </tr>\n",
       "    <tr>\n",
       "      <th>3</th>\n",
       "      <td>699</td>\n",
       "      <td>39</td>\n",
       "      <td>1</td>\n",
       "      <td>0.00</td>\n",
       "      <td>2</td>\n",
       "      <td>0</td>\n",
       "      <td>0</td>\n",
       "      <td>93826.63</td>\n",
       "      <td>0</td>\n",
       "      <td>0</td>\n",
       "      <td>0</td>\n",
       "      <td>0</td>\n",
       "    </tr>\n",
       "    <tr>\n",
       "      <th>4</th>\n",
       "      <td>850</td>\n",
       "      <td>43</td>\n",
       "      <td>2</td>\n",
       "      <td>125510.82</td>\n",
       "      <td>1</td>\n",
       "      <td>1</td>\n",
       "      <td>1</td>\n",
       "      <td>79084.10</td>\n",
       "      <td>0</td>\n",
       "      <td>0</td>\n",
       "      <td>0</td>\n",
       "      <td>1</td>\n",
       "    </tr>\n",
       "  </tbody>\n",
       "</table>\n",
       "</div>"
      ],
      "text/plain": [
       "   CreditScore  Age  Tenure    Balance  NumOfProducts  HasCrCard  \\\n",
       "0          619   42       2       0.00              1          1   \n",
       "1          608   41       1   83807.86              1          0   \n",
       "2          502   42       8  159660.80              3          1   \n",
       "3          699   39       1       0.00              2          0   \n",
       "4          850   43       2  125510.82              1          1   \n",
       "\n",
       "   IsActiveMember  EstimatedSalary  Exited  Gender_Male  Geography_Germany  \\\n",
       "0               1        101348.88       1            0                  0   \n",
       "1               1        112542.58       0            0                  0   \n",
       "2               0        113931.57       1            0                  0   \n",
       "3               0         93826.63       0            0                  0   \n",
       "4               1         79084.10       0            0                  0   \n",
       "\n",
       "   Geography_Spain  \n",
       "0                0  \n",
       "1                1  \n",
       "2                0  \n",
       "3                0  \n",
       "4                1  "
      ]
     },
     "execution_count": 25,
     "metadata": {},
     "output_type": "execute_result"
    }
   ],
   "source": [
    "# data_scaled[['Geography' , 'Tenure']] = data_scaled[['Geography' , 'Tenure']].astype('int')\n",
    "data_scaled[['Tenure']] = data_scaled[['Tenure']].astype('int')\n",
    "data_scaled.head(5)"
   ]
  },
  {
   "cell_type": "markdown",
   "metadata": {},
   "source": [
    "Количественные признаки преобразовали,категориальные - закодировали или оставили как есть.\n",
    "\n",
    "Определим список признаков и целевую переменную."
   ]
  },
  {
   "cell_type": "code",
   "execution_count": 26,
   "metadata": {
    "ExecuteTime": {
     "end_time": "2020-08-13T22:01:01.557330Z",
     "start_time": "2020-08-13T22:01:01.476004Z"
    }
   },
   "outputs": [
    {
     "data": {
      "text/plain": [
       "Index(['CreditScore', 'Age', 'Tenure', 'Balance', 'NumOfProducts', 'HasCrCard',\n",
       "       'IsActiveMember', 'EstimatedSalary', 'Exited', 'Gender_Male',\n",
       "       'Geography_Germany', 'Geography_Spain'],\n",
       "      dtype='object')"
      ]
     },
     "execution_count": 26,
     "metadata": {},
     "output_type": "execute_result"
    }
   ],
   "source": [
    "data.columns"
   ]
  },
  {
   "cell_type": "code",
   "execution_count": 27,
   "metadata": {
    "ExecuteTime": {
     "end_time": "2020-08-13T22:01:01.643680Z",
     "start_time": "2020-08-13T22:01:01.559961Z"
    }
   },
   "outputs": [],
   "source": [
    "features_names = ['CreditScore', 'Age', 'Tenure', 'Balance', 'NumOfProducts', \n",
    "                  'HasCrCard', 'IsActiveMember', 'EstimatedSalary', 'Gender_Male',\n",
    "                  'Geography_Germany', 'Geography_Spain']\n",
    "\n",
    "target_name = ['Exited']"
   ]
  },
  {
   "cell_type": "markdown",
   "metadata": {},
   "source": [
    "Разделим данные на обучающую, валидационную и тестовую выборки."
   ]
  },
  {
   "cell_type": "code",
   "execution_count": 28,
   "metadata": {
    "ExecuteTime": {
     "end_time": "2020-08-13T22:01:01.736216Z",
     "start_time": "2020-08-13T22:01:01.648442Z"
    }
   },
   "outputs": [
    {
     "name": "stdout",
     "output_type": "stream",
     "text": [
      "Done.\n",
      "(6000, 11)\n",
      "(2000, 11)\n",
      "(2000, 11)\n"
     ]
    }
   ],
   "source": [
    "split_result = split_data(data_scaled[features_names], data_scaled[target_name])\n",
    "\n",
    "features_train, features_valid, features_test = split_result['features']\n",
    "\n",
    "target_train, target_valid, target_test = split_result['target']"
   ]
  },
  {
   "cell_type": "code",
   "execution_count": 29,
   "metadata": {
    "ExecuteTime": {
     "end_time": "2020-08-13T22:01:01.819332Z",
     "start_time": "2020-08-13T22:01:01.738995Z"
    }
   },
   "outputs": [],
   "source": [
    "# отмасштабируем выборки\n",
    "features_train[features_for_scaling] = scaler.transform(features_train[features_for_scaling])\n",
    "features_valid[features_for_scaling] = scaler.transform(features_valid[features_for_scaling])\n",
    "features_test[features_for_scaling] = scaler.transform(features_test[features_for_scaling])"
   ]
  },
  {
   "cell_type": "markdown",
   "metadata": {},
   "source": [
    "## 1.4. Вывод"
   ]
  },
  {
   "cell_type": "markdown",
   "metadata": {},
   "source": [
    "1. В данных присутствуют числовые и категориальные данные. Лишние категориальные убрали, остальные закодировали в числовых значениях.\n",
    "*  В признаке _Tenure_ есть пропуски (~10%) - удалили.\n",
    "*  Разделили данные на 3 выборки.\n",
    "\n",
    "В работе будем исследовать _Логистическую регрессию_ и _Случайный лес_ ."
   ]
  },
  {
   "cell_type": "markdown",
   "metadata": {},
   "source": [
    "# 2. Исследование задачи"
   ]
  },
  {
   "cell_type": "markdown",
   "metadata": {},
   "source": [
    "## 2.1. Исследование баланса классов"
   ]
  },
  {
   "cell_type": "markdown",
   "metadata": {},
   "source": [
    "Посмотрим на балланс классов в целевой переменной."
   ]
  },
  {
   "cell_type": "code",
   "execution_count": 30,
   "metadata": {
    "ExecuteTime": {
     "end_time": "2020-08-13T22:01:01.930526Z",
     "start_time": "2020-08-13T22:01:01.821936Z"
    }
   },
   "outputs": [
    {
     "data": {
      "text/html": [
       "<div>\n",
       "<style scoped>\n",
       "    .dataframe tbody tr th:only-of-type {\n",
       "        vertical-align: middle;\n",
       "    }\n",
       "\n",
       "    .dataframe tbody tr th {\n",
       "        vertical-align: top;\n",
       "    }\n",
       "\n",
       "    .dataframe thead th {\n",
       "        text-align: right;\n",
       "    }\n",
       "</style>\n",
       "<table border=\"1\" class=\"dataframe\">\n",
       "  <thead>\n",
       "    <tr style=\"text-align: right;\">\n",
       "      <th></th>\n",
       "      <th>0</th>\n",
       "      <th>1</th>\n",
       "      <th>0_frac</th>\n",
       "      <th>1_frac</th>\n",
       "    </tr>\n",
       "  </thead>\n",
       "  <tbody>\n",
       "    <tr>\n",
       "      <th>Exited</th>\n",
       "      <td>7963</td>\n",
       "      <td>2037</td>\n",
       "      <td>0.8</td>\n",
       "      <td>0.2</td>\n",
       "    </tr>\n",
       "  </tbody>\n",
       "</table>\n",
       "</div>"
      ],
      "text/plain": [
       "           0     1  0_frac  1_frac\n",
       "Exited  7963  2037     0.8     0.2"
      ]
     },
     "execution_count": 30,
     "metadata": {},
     "output_type": "execute_result"
    }
   ],
   "source": [
    "exited_data = data_scaled.Exited.value_counts().to_frame().transpose()\n",
    "exited_sum = exited_data[1] + exited_data[0]\n",
    "exited_data['0_frac'] = round(exited_data[0] / exited_sum, 2)\n",
    "exited_data['1_frac'] = round(exited_data[1] / exited_sum, 2)\n",
    "exited_data"
   ]
  },
  {
   "cell_type": "code",
   "execution_count": 31,
   "metadata": {
    "ExecuteTime": {
     "end_time": "2020-08-13T22:01:02.004800Z",
     "start_time": "2020-08-13T22:01:01.933586Z"
    }
   },
   "outputs": [
    {
     "data": {
      "text/plain": [
       "0    0.7963\n",
       "1    0.2037\n",
       "Name: Exited, dtype: float64"
      ]
     },
     "execution_count": 31,
     "metadata": {},
     "output_type": "execute_result"
    }
   ],
   "source": [
    "exited_data = data_scaled.Exited.value_counts(normalize=True)\n",
    "exited_data"
   ]
  },
  {
   "cell_type": "markdown",
   "metadata": {},
   "source": [
    "Присутствует дисбаланс классов:\n",
    "* класс 1 - 20% от общего количества\n",
    "* класс 0 - 80%\n",
    "\n",
    "Посмотрим на решение задачи без учета дисбаланса."
   ]
  },
  {
   "cell_type": "markdown",
   "metadata": {
    "ExecuteTime": {
     "end_time": "2020-08-11T05:22:01.873989Z",
     "start_time": "2020-08-11T05:22:01.866772Z"
    }
   },
   "source": [
    "## 2.2. Изучение модели без учёта дисбаланса"
   ]
  },
  {
   "cell_type": "code",
   "execution_count": 32,
   "metadata": {
    "ExecuteTime": {
     "end_time": "2020-08-13T22:02:19.635556Z",
     "start_time": "2020-08-13T22:01:02.007467Z"
    }
   },
   "outputs": [
    {
     "name": "stdout",
     "output_type": "stream",
     "text": [
      "\n",
      "Research LG ...\n",
      "\n"
     ]
    },
    {
     "name": "stderr",
     "output_type": "stream",
     "text": [
      "[Parallel(n_jobs=-1)]: Using backend LokyBackend with 4 concurrent workers.\n",
      "[Parallel(n_jobs=-1)]: Done   5 out of   5 | elapsed:   18.1s finished\n"
     ]
    },
    {
     "data": {
      "image/png": "[encoded data removed]",
      "text/plain": [
       "<Figure size 1080x432 with 2 Axes>"
      ]
     },
     "metadata": {
      "needs_background": "light"
     },
     "output_type": "display_data"
    },
    {
     "name": "stdout",
     "output_type": "stream",
     "text": [
      "       Score  train  valid\n",
      "0     Recall   0.24   0.24\n",
      "1  Precision   0.62   0.57\n",
      "2         F1   0.35   0.33\n",
      "3    AUC ROC   0.78   0.76\n",
      "\n",
      "Research RF ...\n",
      "\n",
      "Fitting 5 folds for each of 48 candidates, totalling 240 fits\n"
     ]
    },
    {
     "name": "stderr",
     "output_type": "stream",
     "text": [
      "[Parallel(n_jobs=-1)]: Using backend LokyBackend with 4 concurrent workers.\n",
      "[Parallel(n_jobs=-1)]: Done  33 tasks      | elapsed:    8.1s\n",
      "[Parallel(n_jobs=-1)]: Done 154 tasks      | elapsed:   37.4s\n",
      "[Parallel(n_jobs=-1)]: Done 240 out of 240 | elapsed:  1.0min finished\n"
     ]
    },
    {
     "data": {
      "image/png": "[encoded data removed]",
      "text/plain": [
       "<Figure size 1080x432 with 2 Axes>"
      ]
     },
     "metadata": {
      "needs_background": "light"
     },
     "output_type": "display_data"
    },
    {
     "name": "stdout",
     "output_type": "stream",
     "text": [
      "       Score  train  valid\n",
      "0     Recall   0.65   0.53\n",
      "1  Precision   0.82   0.72\n",
      "2         F1   0.73   0.61\n",
      "3    AUC ROC   0.95   0.86\n"
     ]
    }
   ],
   "source": [
    "lg, rf = research_models(features_train, target_train, features_valid, target_valid, plot=False)"
   ]
  },
  {
   "cell_type": "code",
   "execution_count": 33,
   "metadata": {
    "ExecuteTime": {
     "end_time": "2020-08-13T22:02:36.214420Z",
     "start_time": "2020-08-13T22:02:19.638756Z"
    }
   },
   "outputs": [
    {
     "name": "stdout",
     "output_type": "stream",
     "text": [
      "\n",
      "Research LG ...\n",
      "\n"
     ]
    },
    {
     "name": "stderr",
     "output_type": "stream",
     "text": [
      "[Parallel(n_jobs=-1)]: Using backend LokyBackend with 4 concurrent workers.\n",
      "[Parallel(n_jobs=-1)]: Done   5 out of   5 | elapsed:   15.6s finished\n"
     ]
    },
    {
     "data": {
      "image/png": "[encoded data removed]",
      "text/plain": [
       "<Figure size 1080x432 with 2 Axes>"
      ]
     },
     "metadata": {
      "needs_background": "light"
     },
     "output_type": "display_data"
    },
    {
     "name": "stdout",
     "output_type": "stream",
     "text": [
      "       Score  train  valid\n",
      "0     Recall   0.70   0.68\n",
      "1  Precision   0.39   0.40\n",
      "2         F1   0.50   0.50\n",
      "3    AUC ROC   0.78   0.77\n"
     ]
    }
   ],
   "source": [
    "lg_balanced = research_models(features_train, target_train, features_valid, \n",
    "                              target_valid, balanced=True, plot=False,\n",
    "                              forest=False)"
   ]
  },
  {
   "cell_type": "markdown",
   "metadata": {},
   "source": [
    "## 2.3. Вывод"
   ]
  },
  {
   "cell_type": "markdown",
   "metadata": {},
   "source": [
    "Из проведенных экспериментов видно, что положительный класс (т. е. уход клиента из банка) прогнозируются плохо, несмотря на заметное улучшение метрики F1 при взвешивании классов на логистической регрессии. Таким образом имеем значения F1-меры:\n",
    "\n",
    "<span style=\"float:left\">\n",
    "\n",
    "| Модель      |   F1   |\n",
    "|:------------|:------:|\n",
    "| LG          | 0.33   |\n",
    "| LG balanced | 0.50   |\n",
    "| RF          | 0.61   |\n",
    "</span>"
   ]
  },
  {
   "cell_type": "markdown",
   "metadata": {
    "ExecuteTime": {
     "end_time": "2020-08-13T09:24:16.002603Z",
     "start_time": "2020-08-13T09:24:15.997441Z"
    }
   },
   "source": [
    "Значения метрики F1 не удовлетворяют требованиям поставленной задачи. Избавимся от дисбаланса классов."
   ]
  },
  {
   "cell_type": "markdown",
   "metadata": {},
   "source": [
    "# 3. Борьба с дисбалансом"
   ]
  },
  {
   "cell_type": "markdown",
   "metadata": {},
   "source": [
    "## 3.1. Увеличение выборки"
   ]
  },
  {
   "cell_type": "markdown",
   "metadata": {},
   "source": [
    "Получим разницу (во сколько раз по количеству отличаются классы в целевой переменной) и увеличим количество наблюдений для меньшего класса."
   ]
  },
  {
   "cell_type": "code",
   "execution_count": 34,
   "metadata": {
    "ExecuteTime": {
     "end_time": "2020-08-13T22:02:36.263831Z",
     "start_time": "2020-08-13T22:02:36.217206Z"
    }
   },
   "outputs": [
    {
     "name": "stdout",
     "output_type": "stream",
     "text": [
      "4\n"
     ]
    },
    {
     "data": {
      "text/plain": [
       "0    4804\n",
       "1    4784\n",
       "Name: Exited, dtype: int64"
      ]
     },
     "execution_count": 34,
     "metadata": {},
     "output_type": "execute_result"
    }
   ],
   "source": [
    "repeat = int(round(exited_data[0]/exited_data[1]))\n",
    "print(repeat)\n",
    "\n",
    "features_upsampled, target_upsampled = upsample(features_train, target_train, repeat)\n",
    "target_upsampled.Exited.value_counts()"
   ]
  },
  {
   "cell_type": "code",
   "execution_count": 35,
   "metadata": {
    "ExecuteTime": {
     "end_time": "2020-08-13T22:04:20.903077Z",
     "start_time": "2020-08-13T22:02:36.266077Z"
    }
   },
   "outputs": [
    {
     "name": "stdout",
     "output_type": "stream",
     "text": [
      "\n",
      "Research LG ...\n",
      "\n"
     ]
    },
    {
     "name": "stderr",
     "output_type": "stream",
     "text": [
      "[Parallel(n_jobs=-1)]: Using backend LokyBackend with 4 concurrent workers.\n",
      "[Parallel(n_jobs=-1)]: Done   5 out of   5 | elapsed:   20.5s finished\n"
     ]
    },
    {
     "data": {
      "image/png": "[encoded data removed]",
      "text/plain": [
       "<Figure size 1080x432 with 2 Axes>"
      ]
     },
     "metadata": {
      "needs_background": "light"
     },
     "output_type": "display_data"
    },
    {
     "name": "stdout",
     "output_type": "stream",
     "text": [
      "       Score  train  valid\n",
      "0     Recall   0.71   0.68\n",
      "1  Precision   0.72   0.38\n",
      "2         F1   0.71   0.49\n",
      "3    AUC ROC   0.78   0.76\n",
      "\n",
      "Research RF ...\n",
      "\n",
      "Fitting 5 folds for each of 48 candidates, totalling 240 fits\n"
     ]
    },
    {
     "name": "stderr",
     "output_type": "stream",
     "text": [
      "[Parallel(n_jobs=-1)]: Using backend LokyBackend with 4 concurrent workers.\n",
      "[Parallel(n_jobs=-1)]: Done  33 tasks      | elapsed:    9.1s\n",
      "[Parallel(n_jobs=-1)]: Done 154 tasks      | elapsed:  1.0min\n",
      "[Parallel(n_jobs=-1)]: Done 240 out of 240 | elapsed:  1.8min finished\n"
     ]
    },
    {
     "data": {
      "image/png": "[encoded data removed]",
      "text/plain": [
       "<Figure size 1080x432 with 2 Axes>"
      ]
     },
     "metadata": {
      "needs_background": "light"
     },
     "output_type": "display_data"
    },
    {
     "name": "stdout",
     "output_type": "stream",
     "text": [
      "       Score  train  valid\n",
      "0     Recall   1.00   0.72\n",
      "1  Precision   0.91   0.52\n",
      "2         F1   0.95   0.61\n",
      "3    AUC ROC   1.00   0.85\n"
     ]
    }
   ],
   "source": [
    "lg_upsearch, rf_upsearch = research_models(features_upsampled, target_upsampled, \n",
    "                                           features_valid, target_valid, plot=True)"
   ]
  },
  {
   "cell_type": "markdown",
   "metadata": {},
   "source": [
    "## 3.2. Уменьшение  выборки"
   ]
  },
  {
   "cell_type": "code",
   "execution_count": 36,
   "metadata": {
    "ExecuteTime": {
     "end_time": "2020-08-13T22:04:20.914949Z",
     "start_time": "2020-08-13T22:04:20.905833Z"
    }
   },
   "outputs": [
    {
     "data": {
      "text/plain": [
       "0.25580811252040686"
      ]
     },
     "execution_count": 36,
     "metadata": {},
     "output_type": "execute_result"
    }
   ],
   "source": [
    "frac = exited_data[1] / exited_data[0]\n",
    "frac"
   ]
  },
  {
   "cell_type": "code",
   "execution_count": 37,
   "metadata": {
    "ExecuteTime": {
     "end_time": "2020-08-13T22:04:21.064094Z",
     "start_time": "2020-08-13T22:04:20.918201Z"
    }
   },
   "outputs": [
    {
     "data": {
      "text/plain": [
       "(2425, 11)"
      ]
     },
     "execution_count": 37,
     "metadata": {},
     "output_type": "execute_result"
    }
   ],
   "source": [
    "features_downsampled, target_downsampled = downsample(features_train, target_train, frac)\n",
    "features_downsampled.shape"
   ]
  },
  {
   "cell_type": "code",
   "execution_count": 38,
   "metadata": {
    "ExecuteTime": {
     "end_time": "2020-08-13T22:04:21.128573Z",
     "start_time": "2020-08-13T22:04:21.066605Z"
    }
   },
   "outputs": [
    {
     "data": {
      "text/plain": [
       "0    1229\n",
       "1    1196\n",
       "Name: Exited, dtype: int64"
      ]
     },
     "execution_count": 38,
     "metadata": {},
     "output_type": "execute_result"
    }
   ],
   "source": [
    "target_downsampled.Exited.value_counts()"
   ]
  },
  {
   "cell_type": "code",
   "execution_count": 39,
   "metadata": {
    "ExecuteTime": {
     "end_time": "2020-08-13T22:05:10.584719Z",
     "start_time": "2020-08-13T22:04:21.132795Z"
    }
   },
   "outputs": [
    {
     "name": "stdout",
     "output_type": "stream",
     "text": [
      "\n",
      "Research LG ...\n",
      "\n"
     ]
    },
    {
     "name": "stderr",
     "output_type": "stream",
     "text": [
      "[Parallel(n_jobs=-1)]: Using backend LokyBackend with 4 concurrent workers.\n",
      "[Parallel(n_jobs=-1)]: Done   5 out of   5 | elapsed:   11.8s finished\n"
     ]
    },
    {
     "data": {
      "image/png": "[encoded data removed]",
      "text/plain": [
       "<Figure size 1080x432 with 2 Axes>"
      ]
     },
     "metadata": {
      "needs_background": "light"
     },
     "output_type": "display_data"
    },
    {
     "name": "stdout",
     "output_type": "stream",
     "text": [
      "       Score  train  valid\n",
      "0     Recall   0.69   0.68\n",
      "1  Precision   0.72   0.40\n",
      "2         F1   0.71   0.50\n",
      "3    AUC ROC   0.78   0.77\n",
      "\n",
      "Research RF ...\n",
      "\n",
      "Fitting 5 folds for each of 48 candidates, totalling 240 fits\n"
     ]
    },
    {
     "name": "stderr",
     "output_type": "stream",
     "text": [
      "[Parallel(n_jobs=-1)]: Using backend LokyBackend with 4 concurrent workers.\n",
      "[Parallel(n_jobs=-1)]: Done  33 tasks      | elapsed:    5.9s\n",
      "[Parallel(n_jobs=-1)]: Done 154 tasks      | elapsed:   28.2s\n",
      "[Parallel(n_jobs=-1)]: Done 240 out of 240 | elapsed:   49.5s finished\n"
     ]
    },
    {
     "data": {
      "image/png": "[encoded data removed]",
      "text/plain": [
       "<Figure size 1080x432 with 2 Axes>"
      ]
     },
     "metadata": {
      "needs_background": "light"
     },
     "output_type": "display_data"
    },
    {
     "name": "stdout",
     "output_type": "stream",
     "text": [
      "       Score  train  valid\n",
      "0     Recall   0.95   0.84\n",
      "1  Precision   0.81   0.39\n",
      "2         F1   0.87   0.54\n",
      "3    AUC ROC   0.96   0.85\n"
     ]
    }
   ],
   "source": [
    "lg_downsearch, rf_downsearch = research_models(features_downsampled, target_downsampled, \n",
    "                                               features_valid, target_valid, plot=True)"
   ]
  },
  {
   "cell_type": "markdown",
   "metadata": {},
   "source": [
    "## 3.3. Вывод"
   ]
  },
  {
   "cell_type": "markdown",
   "metadata": {},
   "source": [
    "При увеличении и уменьшении обучающей выборки наблюдается изменение метрики F1:\n",
    "\n",
    "<span style=\"float:left\">\n",
    "\n",
    "| Модель          |   F1   |\n",
    "|:----------------|--------|\n",
    "| LG upsampled    | 0.45   |\n",
    "| LG downsampled  | 0.49   |\n",
    "| RF upsampled    | 0.63   |\n",
    "| RF downsampled  | 0.59   |\n",
    "</span>"
   ]
  },
  {
   "cell_type": "markdown",
   "metadata": {},
   "source": [
    "Проведенное исследование позволяет сделать выбор в пользу модели _Случайный лес_ , обученной на выборке с увеличнием редкого (положительного) класса. Будем использовать для тестирования _rf_upsearch_ ."
   ]
  },
  {
   "cell_type": "markdown",
   "metadata": {},
   "source": [
    "# 4. Тестирование модели"
   ]
  },
  {
   "cell_type": "markdown",
   "metadata": {},
   "source": [
    "## 4.1. Тестирование"
   ]
  },
  {
   "cell_type": "code",
   "execution_count": 40,
   "metadata": {
    "ExecuteTime": {
     "end_time": "2020-08-13T22:05:10.987021Z",
     "start_time": "2020-08-13T22:05:10.587398Z"
    }
   },
   "outputs": [
    {
     "data": {
      "image/png": "[encoded data removed]",
      "text/plain": [
       "<Figure size 720x360 with 1 Axes>"
      ]
     },
     "metadata": {
      "needs_background": "light"
     },
     "output_type": "display_data"
    },
    {
     "name": "stdout",
     "output_type": "stream",
     "text": [
      "       Score  Test\n",
      "0     Recall  0.73\n",
      "1  Precision  0.52\n",
      "2         F1  0.61\n",
      "3    AUC ROC  0.86\n"
     ]
    }
   ],
   "source": [
    "metric_values = {'Score': ['Recall', 'Precision', 'F1', 'AUC ROC']}\n",
    "label = type(rf_upsearch).__name__\n",
    "\n",
    "# Test sample iteration\n",
    "model_label = '{} ({})'.format(label, 'Test')\n",
    "metric_values['Test'] = sample_scores(rf_upsearch, model_label,\n",
    "                                      features_test, target_test,\n",
    "                                      plot=True)\n",
    "metrics_data = pd.DataFrame(metric_values)\n",
    "metrics_data.name = model_label\n",
    "print(metrics_data)"
   ]
  },
  {
   "cell_type": "code",
   "execution_count": 41,
   "metadata": {
    "ExecuteTime": {
     "end_time": "2020-08-13T22:05:10.995754Z",
     "start_time": "2020-08-13T22:05:10.989420Z"
    }
   },
   "outputs": [
    {
     "data": {
      "text/plain": [
       "<bound method BaseEstimator.get_params of RandomForestClassifier(class_weight={0: 1, 1: 2}, max_depth=20, max_features=3,\n",
       "                       min_samples_leaf=5, n_estimators=110,\n",
       "                       random_state=12345)>"
      ]
     },
     "execution_count": 41,
     "metadata": {},
     "output_type": "execute_result"
    }
   ],
   "source": [
    "rf_upsearch.get_params"
   ]
  },
  {
   "cell_type": "markdown",
   "metadata": {},
   "source": [
    "## 4.2. Вывод"
   ]
  },
  {
   "cell_type": "markdown",
   "metadata": {},
   "source": [
    "В результате работы настроена модель, которая позволяет определить уход клиента из банка с точностью > 65%."
   ]
  }
 ],
 "metadata": {
  "kernelspec": {
   "display_name": "Python 3",
   "language": "python",
   "name": "python3"
  },
  "language_info": {
   "codemirror_mode": {
    "name": "ipython",
    "version": 3
   },
   "file_extension": ".py",
   "mimetype": "text/x-python",
   "name": "python",
   "nbconvert_exporter": "python",
   "pygments_lexer": "ipython3",
   "version": "3.7.6"
  },
  "toc": {
   "base_numbering": 1,
   "nav_menu": {},
   "number_sections": false,
   "sideBar": true,
   "skip_h1_title": false,
   "title_cell": "Table of Contents",
   "title_sidebar": "Contents",
   "toc_cell": false,
   "toc_position": {
    "height": "calc(100% - 180px)",
    "left": "10px",
    "top": "150px",
    "width": "220px"
   },
   "toc_section_display": true,
   "toc_window_display": true
  }
 },
 "nbformat": 4,
 "nbformat_minor": 2
}
