{
 "cells": [
  {
   "cell_type": "markdown",
   "metadata": {},
   "source": [
    "# Исследование надёжности заёмщиков\n",
    "\n",
    "Заказчик — кредитный отдел банка. Нужно разобраться, влияет ли семейное положение и количество детей клиента на факт погашения кредита в срок. Входные данные от банка — статистика о платёжеспособности клиентов.\n",
    "\n",
    "Результаты исследования будут учтены при построении модели **кредитного скоринга** — специальной системы, которая оценивает способность потенциального заёмщика вернуть кредит банку."
   ]
  },
  {
   "cell_type": "markdown",
   "metadata": {},
   "source": [
    "## Оглавление\n",
    "\n",
    "1. [Описание данных](#1)\n",
    "* [Импорт модулей](#2) \n",
    "* [Функции](#3)\n",
    "* [Загрузка данных](#4)\n",
    "* [Предобработка данных](#5)\n",
    "    * [Обработка пропусков](#)\n",
    "    * [Замена типа данных](#)\n",
    "    * [Обработка дубликатов](#)\n",
    "    * [Лемматизация](#)\n",
    "    * [Категоризация](#)\n",
    "* [](#)\n",
    "* [](#)\n",
    "* [Общий вывод](#conclusion)"
   ]
  },
  {
   "cell_type": "markdown",
   "metadata": {},
   "source": [
    "<a id='1'></a>\n",
    "## 1. Описание данных\n",
    "\n",
    "* *children* — количество детей в семье\n",
    "* *days_employed* — общий трудовой стаж в днях\n",
    "* *dob_years* — возраст клиента в годах\n",
    "* *education* — уровень образования клиента\n",
    "* *education_id* — идентификатор уровня образования\n",
    "* *family_status* — семейное положение\n",
    "* *family_status_id* — идентификатор семейного положения\n",
    "* *gender* — пол клиента\n",
    "* *income_type* — тип занятости\n",
    "* *debt* — имел ли задолженность по возврату кредитов\n",
    "* *total_income* — ежемесячный доход\n",
    "* *purpose* — цель получения кредита"
   ]
  },
  {
   "cell_type": "markdown",
   "metadata": {},
   "source": [
    "<a id='2'></a>\n",
    "## 2. Импорт модулей"
   ]
  },
  {
   "cell_type": "code",
   "execution_count": 1,
   "metadata": {
    "ExecuteTime": {
     "end_time": "2020-09-13T13:50:01.599154Z",
     "start_time": "2020-09-13T13:49:57.598637Z"
    }
   },
   "outputs": [
    {
     "name": "stdout",
     "output_type": "stream",
     "text": [
      "Requirement already satisfied: pymystem3 in /opt/anaconda3/lib/python3.7/site-packages (0.2.0)\n",
      "Requirement already satisfied: pymorphy2 in /opt/anaconda3/lib/python3.7/site-packages (0.8)\n",
      "Requirement already satisfied: pymorphy2-dicts-ru in /opt/anaconda3/lib/python3.7/site-packages (2.4.404381.4453942)\n",
      "Requirement already satisfied: requests in /opt/anaconda3/lib/python3.7/site-packages (from pymystem3) (2.22.0)\n",
      "Requirement already satisfied: pymorphy2-dicts<3.0,>=2.4 in /opt/anaconda3/lib/python3.7/site-packages (from pymorphy2) (2.4.393442.3710985)\n",
      "Requirement already satisfied: docopt>=0.6 in /opt/anaconda3/lib/python3.7/site-packages (from pymorphy2) (0.6.2)\n",
      "Requirement already satisfied: dawg-python>=0.7 in /opt/anaconda3/lib/python3.7/site-packages (from pymorphy2) (0.7.2)\n",
      "Requirement already satisfied: urllib3!=1.25.0,!=1.25.1,<1.26,>=1.21.1 in /opt/anaconda3/lib/python3.7/site-packages (from requests->pymystem3) (1.25.8)\n",
      "Requirement already satisfied: chardet<3.1.0,>=3.0.2 in /opt/anaconda3/lib/python3.7/site-packages (from requests->pymystem3) (3.0.4)\n",
      "Requirement already satisfied: idna<2.9,>=2.5 in /opt/anaconda3/lib/python3.7/site-packages (from requests->pymystem3) (2.8)\n",
      "Requirement already satisfied: certifi>=2017.4.17 in /opt/anaconda3/lib/python3.7/site-packages (from requests->pymystem3) (2019.11.28)\n",
      "\u001b[33mWARNING: You are using pip version 20.2.1; however, version 20.2.3 is available.\n",
      "You should consider upgrading via the '/opt/anaconda3/bin/python3 -m pip install --upgrade pip' command.\u001b[0m\n"
     ]
    }
   ],
   "source": [
    "!pip install pymystem3 pymorphy2 pymorphy2-dicts-ru"
   ]
  },
  {
   "cell_type": "code",
   "execution_count": 2,
   "metadata": {
    "ExecuteTime": {
     "end_time": "2020-09-13T13:50:02.769297Z",
     "start_time": "2020-09-13T13:50:01.605846Z"
    }
   },
   "outputs": [],
   "source": [
    "import pymorphy2                      # для определения частей речи\n",
    "import pandas as pd\n",
    "from pymystem3 import Mystem\n",
    "from collections import Counter\n",
    "from nltk.stem import SnowballStemmer # для стемминга"
   ]
  },
  {
   "cell_type": "markdown",
   "metadata": {},
   "source": [
    "<a id='3'></a>\n",
    "## Функции"
   ]
  },
  {
   "cell_type": "code",
   "execution_count": 3,
   "metadata": {
    "ExecuteTime": {
     "end_time": "2020-09-13T13:50:02.792647Z",
     "start_time": "2020-09-13T13:50:02.775115Z"
    }
   },
   "outputs": [],
   "source": [
    "def clean_lemmas_rating(rating_dict):\n",
    "    '''\n",
    "    Функция для удаления предлогов, пробелов, символа конца строки.\n",
    "    На вход принимаем список кортежей (<count>, <word>):\n",
    "    count - частота встречаемости слова во тестовой выборке\n",
    "    word - слово из целей кредита\n",
    "    '''\n",
    "    \n",
    "    result = []\n",
    "    \n",
    "    for item in rating_dict.items():\n",
    "        count, word = item\n",
    "        ps = morph.parse(word)[0].tag.POS\n",
    "        \n",
    "        try:\n",
    "            # часть речи (part of speech)\n",
    "            ps = morph.parse(word)[0].tag.POS\n",
    "        except:\n",
    "            # проблемы с кодировкой или внезапно другой язык в данных\n",
    "            # оставляем результат без изменений, не смогли обработать\n",
    "            print('Error - processing: {} ->'.format(word), rating)\n",
    "            \n",
    "        # оставляем только существительные\n",
    "        if ps == 'NOUN':\n",
    "            result.append((word, count))\n",
    "            \n",
    "    return dict(result)"
   ]
  },
  {
   "cell_type": "code",
   "execution_count": 4,
   "metadata": {
    "ExecuteTime": {
     "end_time": "2020-09-13T13:50:03.029895Z",
     "start_time": "2020-09-13T13:50:02.798716Z"
    }
   },
   "outputs": [],
   "source": [
    "def purpose_category(purpose, rating):\n",
    "    '''\n",
    "    Функция для определения категорий целей кредита.\n",
    "    Проходим от наиболее популярного слова в rating до наименее популярного.\n",
    "    При первом совпадениии возвращаем категорию.\n",
    "    rating - аргумент по умолчанию\n",
    "    '''\n",
    "    \n",
    "    for category in rating:\n",
    "        # получаем основу слова категории, так как в целях используются разные падежи\n",
    "        stemmed_category = russian_stemmer.stem(category)\n",
    "        \n",
    "        if stemmed_category in purpose:\n",
    "            return category\n",
    "\n",
    "    return 'NaN'"
   ]
  },
  {
   "cell_type": "code",
   "execution_count": 5,
   "metadata": {
    "ExecuteTime": {
     "end_time": "2020-09-13T13:50:03.138221Z",
     "start_time": "2020-09-13T13:50:03.032561Z"
    }
   },
   "outputs": [],
   "source": [
    "def get_debt_probability(df, idx, col='gender', val='debt'):\n",
    "    \"\"\"\n",
    "    Функция для создания совдных таблиц по разным параметрам\n",
    "    \"\"\"\n",
    "\n",
    "    df_debt = person_data.groupby(idx)[val].sum().to_frame().reset_index()\n",
    "    df_all = person_data.groupby(idx)[col].count().to_frame().reset_index()\n",
    "    df_data = df_debt.merge(df_all,\n",
    "                            on=idx,\n",
    "                            how='inner')\n",
    "    df_data.rename(columns={col:\"all\"}, inplace=True)\n",
    "\n",
    "    # создаем столбец с вероятностью долга\n",
    "    probability = val+'_probability'\n",
    "    df_data[probability] = (df_data[val] / df_data['all'] * 100).round(1)\n",
    "    df_data.sort_values(probability, ascending=False, inplace=True)\n",
    "    \n",
    "    return df_data"
   ]
  },
  {
   "cell_type": "markdown",
   "metadata": {},
   "source": [
    "<a id='4'></a>\n",
    "## Загрузка данных"
   ]
  },
  {
   "cell_type": "code",
   "execution_count": 6,
   "metadata": {
    "ExecuteTime": {
     "end_time": "2020-09-13T13:50:03.609762Z",
     "start_time": "2020-09-13T13:50:03.142631Z"
    }
   },
   "outputs": [
    {
     "name": "stdout",
     "output_type": "stream",
     "text": [
      "<class 'pandas.core.frame.DataFrame'>\n",
      "RangeIndex: 21525 entries, 0 to 21524\n",
      "Data columns (total 12 columns):\n",
      " #   Column            Non-Null Count  Dtype  \n",
      "---  ------            --------------  -----  \n",
      " 0   children          21525 non-null  int64  \n",
      " 1   days_employed     19351 non-null  float64\n",
      " 2   dob_years         21525 non-null  int64  \n",
      " 3   education         21525 non-null  object \n",
      " 4   education_id      21525 non-null  int64  \n",
      " 5   family_status     21525 non-null  object \n",
      " 6   family_status_id  21525 non-null  int64  \n",
      " 7   gender            21525 non-null  object \n",
      " 8   income_type       21525 non-null  object \n",
      " 9   debt              21525 non-null  int64  \n",
      " 10  total_income      19351 non-null  float64\n",
      " 11  purpose           21525 non-null  object \n",
      "dtypes: float64(2), int64(5), object(5)\n",
      "memory usage: 2.0+ MB\n"
     ]
    }
   ],
   "source": [
    "data = pd.read_csv('/datasets/data.csv')\n",
    "data.info()"
   ]
  },
  {
   "cell_type": "code",
   "execution_count": 7,
   "metadata": {
    "ExecuteTime": {
     "end_time": "2020-09-13T13:50:03.789502Z",
     "start_time": "2020-09-13T13:50:03.616641Z"
    }
   },
   "outputs": [
    {
     "data": {
      "text/html": [
       "<div>\n",
       "<style scoped>\n",
       "    .dataframe tbody tr th:only-of-type {\n",
       "        vertical-align: middle;\n",
       "    }\n",
       "\n",
       "    .dataframe tbody tr th {\n",
       "        vertical-align: top;\n",
       "    }\n",
       "\n",
       "    .dataframe thead th {\n",
       "        text-align: right;\n",
       "    }\n",
       "</style>\n",
       "<table border=\"1\" class=\"dataframe\">\n",
       "  <thead>\n",
       "    <tr style=\"text-align: right;\">\n",
       "      <th></th>\n",
       "      <th>children</th>\n",
       "      <th>days_employed</th>\n",
       "      <th>age</th>\n",
       "      <th>education</th>\n",
       "      <th>education_id</th>\n",
       "      <th>family_status</th>\n",
       "      <th>family_status_id</th>\n",
       "      <th>gender</th>\n",
       "      <th>income_type</th>\n",
       "      <th>debt</th>\n",
       "      <th>total_income</th>\n",
       "      <th>purpose</th>\n",
       "    </tr>\n",
       "  </thead>\n",
       "  <tbody>\n",
       "    <tr>\n",
       "      <th>14568</th>\n",
       "      <td>0</td>\n",
       "      <td>-3423.447872</td>\n",
       "      <td>47</td>\n",
       "      <td>среднее</td>\n",
       "      <td>1</td>\n",
       "      <td>женат / замужем</td>\n",
       "      <td>0</td>\n",
       "      <td>M</td>\n",
       "      <td>компаньон</td>\n",
       "      <td>0</td>\n",
       "      <td>102151.269558</td>\n",
       "      <td>недвижимость</td>\n",
       "    </tr>\n",
       "    <tr>\n",
       "      <th>11787</th>\n",
       "      <td>0</td>\n",
       "      <td>-772.740198</td>\n",
       "      <td>45</td>\n",
       "      <td>среднее</td>\n",
       "      <td>1</td>\n",
       "      <td>гражданский брак</td>\n",
       "      <td>1</td>\n",
       "      <td>M</td>\n",
       "      <td>сотрудник</td>\n",
       "      <td>0</td>\n",
       "      <td>402526.010628</td>\n",
       "      <td>операции с недвижимостью</td>\n",
       "    </tr>\n",
       "    <tr>\n",
       "      <th>4836</th>\n",
       "      <td>0</td>\n",
       "      <td>-842.077429</td>\n",
       "      <td>63</td>\n",
       "      <td>среднее</td>\n",
       "      <td>1</td>\n",
       "      <td>женат / замужем</td>\n",
       "      <td>0</td>\n",
       "      <td>M</td>\n",
       "      <td>компаньон</td>\n",
       "      <td>0</td>\n",
       "      <td>68159.059436</td>\n",
       "      <td>свой автомобиль</td>\n",
       "    </tr>\n",
       "    <tr>\n",
       "      <th>18036</th>\n",
       "      <td>1</td>\n",
       "      <td>-2666.711710</td>\n",
       "      <td>28</td>\n",
       "      <td>среднее</td>\n",
       "      <td>1</td>\n",
       "      <td>в разводе</td>\n",
       "      <td>3</td>\n",
       "      <td>F</td>\n",
       "      <td>сотрудник</td>\n",
       "      <td>0</td>\n",
       "      <td>82051.948696</td>\n",
       "      <td>дополнительное образование</td>\n",
       "    </tr>\n",
       "    <tr>\n",
       "      <th>8342</th>\n",
       "      <td>1</td>\n",
       "      <td>-1862.044118</td>\n",
       "      <td>28</td>\n",
       "      <td>высшее</td>\n",
       "      <td>0</td>\n",
       "      <td>женат / замужем</td>\n",
       "      <td>0</td>\n",
       "      <td>F</td>\n",
       "      <td>госслужащий</td>\n",
       "      <td>0</td>\n",
       "      <td>89489.878446</td>\n",
       "      <td>профильное образование</td>\n",
       "    </tr>\n",
       "    <tr>\n",
       "      <th>10703</th>\n",
       "      <td>0</td>\n",
       "      <td>-3619.862152</td>\n",
       "      <td>35</td>\n",
       "      <td>среднее</td>\n",
       "      <td>1</td>\n",
       "      <td>женат / замужем</td>\n",
       "      <td>0</td>\n",
       "      <td>F</td>\n",
       "      <td>сотрудник</td>\n",
       "      <td>0</td>\n",
       "      <td>89817.943638</td>\n",
       "      <td>получение образования</td>\n",
       "    </tr>\n",
       "    <tr>\n",
       "      <th>9115</th>\n",
       "      <td>0</td>\n",
       "      <td>-5729.555296</td>\n",
       "      <td>56</td>\n",
       "      <td>среднее</td>\n",
       "      <td>1</td>\n",
       "      <td>женат / замужем</td>\n",
       "      <td>0</td>\n",
       "      <td>F</td>\n",
       "      <td>сотрудник</td>\n",
       "      <td>0</td>\n",
       "      <td>97751.771461</td>\n",
       "      <td>жилье</td>\n",
       "    </tr>\n",
       "    <tr>\n",
       "      <th>20414</th>\n",
       "      <td>1</td>\n",
       "      <td>-4982.874406</td>\n",
       "      <td>58</td>\n",
       "      <td>среднее</td>\n",
       "      <td>1</td>\n",
       "      <td>женат / замужем</td>\n",
       "      <td>0</td>\n",
       "      <td>F</td>\n",
       "      <td>компаньон</td>\n",
       "      <td>0</td>\n",
       "      <td>78037.175217</td>\n",
       "      <td>операции со своей недвижимостью</td>\n",
       "    </tr>\n",
       "    <tr>\n",
       "      <th>14656</th>\n",
       "      <td>0</td>\n",
       "      <td>-882.068337</td>\n",
       "      <td>27</td>\n",
       "      <td>среднее</td>\n",
       "      <td>1</td>\n",
       "      <td>женат / замужем</td>\n",
       "      <td>0</td>\n",
       "      <td>M</td>\n",
       "      <td>сотрудник</td>\n",
       "      <td>0</td>\n",
       "      <td>87279.982150</td>\n",
       "      <td>заняться образованием</td>\n",
       "    </tr>\n",
       "    <tr>\n",
       "      <th>2140</th>\n",
       "      <td>0</td>\n",
       "      <td>-11121.098517</td>\n",
       "      <td>53</td>\n",
       "      <td>среднее</td>\n",
       "      <td>1</td>\n",
       "      <td>гражданский брак</td>\n",
       "      <td>1</td>\n",
       "      <td>F</td>\n",
       "      <td>компаньон</td>\n",
       "      <td>0</td>\n",
       "      <td>79344.761601</td>\n",
       "      <td>покупка коммерческой недвижимости</td>\n",
       "    </tr>\n",
       "  </tbody>\n",
       "</table>\n",
       "</div>"
      ],
      "text/plain": [
       "       children  days_employed  age education  education_id     family_status  \\\n",
       "14568         0   -3423.447872   47   среднее             1   женат / замужем   \n",
       "11787         0    -772.740198   45   среднее             1  гражданский брак   \n",
       "4836          0    -842.077429   63   среднее             1   женат / замужем   \n",
       "18036         1   -2666.711710   28   среднее             1         в разводе   \n",
       "8342          1   -1862.044118   28    высшее             0   женат / замужем   \n",
       "10703         0   -3619.862152   35   среднее             1   женат / замужем   \n",
       "9115          0   -5729.555296   56   среднее             1   женат / замужем   \n",
       "20414         1   -4982.874406   58   среднее             1   женат / замужем   \n",
       "14656         0    -882.068337   27   среднее             1   женат / замужем   \n",
       "2140          0  -11121.098517   53   среднее             1  гражданский брак   \n",
       "\n",
       "       family_status_id gender  income_type  debt   total_income  \\\n",
       "14568                 0      M    компаньон     0  102151.269558   \n",
       "11787                 1      M    сотрудник     0  402526.010628   \n",
       "4836                  0      M    компаньон     0   68159.059436   \n",
       "18036                 3      F    сотрудник     0   82051.948696   \n",
       "8342                  0      F  госслужащий     0   89489.878446   \n",
       "10703                 0      F    сотрудник     0   89817.943638   \n",
       "9115                  0      F    сотрудник     0   97751.771461   \n",
       "20414                 0      F    компаньон     0   78037.175217   \n",
       "14656                 0      M    сотрудник     0   87279.982150   \n",
       "2140                  1      F    компаньон     0   79344.761601   \n",
       "\n",
       "                                 purpose  \n",
       "14568                       недвижимость  \n",
       "11787           операции с недвижимостью  \n",
       "4836                     свой автомобиль  \n",
       "18036         дополнительное образование  \n",
       "8342              профильное образование  \n",
       "10703              получение образования  \n",
       "9115                               жилье  \n",
       "20414    операции со своей недвижимостью  \n",
       "14656              заняться образованием  \n",
       "2140   покупка коммерческой недвижимости  "
      ]
     },
     "execution_count": 7,
     "metadata": {},
     "output_type": "execute_result"
    }
   ],
   "source": [
    "# переименуем столбцы\n",
    "data.rename(columns={\"dob_years\": \"age\"}, inplace=True)\n",
    "\n",
    "data.sample(10)"
   ]
  },
  {
   "cell_type": "code",
   "execution_count": 8,
   "metadata": {
    "ExecuteTime": {
     "end_time": "2020-09-13T13:50:03.882224Z",
     "start_time": "2020-09-13T13:50:03.794076Z"
    }
   },
   "outputs": [
    {
     "name": "stdout",
     "output_type": "stream",
     "text": [
      "2174 2174\n"
     ]
    }
   ],
   "source": [
    "null_days_employed = data[ data['days_employed'].isnull()].shape[0]\n",
    "null_total_income = data[ data['total_income'].isnull()].shape[0]\n",
    "\n",
    "print(null_days_employed, null_total_income)"
   ]
  },
  {
   "cell_type": "code",
   "execution_count": 9,
   "metadata": {
    "ExecuteTime": {
     "end_time": "2020-09-13T13:50:03.981775Z",
     "start_time": "2020-09-13T13:50:03.884850Z"
    }
   },
   "outputs": [
    {
     "data": {
      "text/plain": [
       "сотрудник          1105\n",
       "компаньон           508\n",
       "пенсионер           413\n",
       "госслужащий         147\n",
       "предприниматель       1\n",
       "Name: income_type, dtype: int64"
      ]
     },
     "execution_count": 9,
     "metadata": {},
     "output_type": "execute_result"
    }
   ],
   "source": [
    "data_no_days_employed = data[data['days_employed'].isnull()]\n",
    "data_no_days_employed['income_type'].value_counts()"
   ]
  },
  {
   "cell_type": "markdown",
   "metadata": {},
   "source": [
    "Данные представляют включают признаки 21525 объектов. Выявлены следующие особенности:\n",
    "1. Пропуски в столбцах _days_employed,  total_income_ в одинаковом количестве - 2174.\n",
    "2. Разнородность описания:\n",
    "   * столбец _gender_ неинформативно описывает пол заемщика;\n",
    "   * встречаются одинаковые значения, написанные в разном регистре.\n",
    "3. Отрицательные значения столбца _days_employed_ .\n",
    "4. Типы данных столбцов: числовые (целочисленные и дробные), строковые.\n",
    "4. Столбцы _family_status, purpose_ - категориальные признаки.\n",
    "5. Столбец _purpose_ содержит значения, часто отличающиеся падежами (с включениями предлогов), но имеющие одинаковый смысл: \"на покупку автомобиля\", \"на покупку своего автомобиля\", \"приобретение автомобиля\"."
   ]
  },
  {
   "cell_type": "markdown",
   "metadata": {},
   "source": [
    "<a id='5'></a>\n",
    "## Предобработка данных"
   ]
  },
  {
   "cell_type": "markdown",
   "metadata": {},
   "source": [
    "<a id='gaps'></a>\n",
    "### Обработка пропусков"
   ]
  },
  {
   "cell_type": "code",
   "execution_count": 10,
   "metadata": {
    "ExecuteTime": {
     "end_time": "2020-09-13T13:50:04.191218Z",
     "start_time": "2020-09-13T13:50:03.985307Z"
    }
   },
   "outputs": [
    {
     "name": "stdout",
     "output_type": "stream",
     "text": [
      "Пропуски для total_income и days_employed совпадают: 2174\n"
     ]
    }
   ],
   "source": [
    "# взаимосвязь пропусков в 'days_employed' и 'total_income' с значением 'income_type'\n",
    "null_data = data[data.days_employed.isnull() | data.total_income.isnull()][\n",
    "    ['days_employed','income_type', 'total_income']]\n",
    "\n",
    "if null_days_employed == null_data.shape[0] and null_total_income == null_data.shape[0]:\n",
    "    print('Пропуски для total_income и days_employed совпадают:', null_data.shape[0])"
   ]
  },
  {
   "cell_type": "code",
   "execution_count": 11,
   "metadata": {
    "ExecuteTime": {
     "end_time": "2020-09-13T13:50:04.257912Z",
     "start_time": "2020-09-13T13:50:04.197484Z"
    }
   },
   "outputs": [
    {
     "data": {
      "text/plain": [
       "сотрудник          1105\n",
       "компаньон           508\n",
       "пенсионер           413\n",
       "госслужащий         147\n",
       "предприниматель       1\n",
       "Name: income_type, dtype: int64"
      ]
     },
     "execution_count": 11,
     "metadata": {},
     "output_type": "execute_result"
    }
   ],
   "source": [
    "# Количество пропусков 'total_income' для каждого типа занятости\n",
    "data[data['total_income'].isnull()]['income_type'].value_counts()"
   ]
  },
  {
   "cell_type": "code",
   "execution_count": 12,
   "metadata": {
    "ExecuteTime": {
     "end_time": "2020-09-13T13:50:04.358037Z",
     "start_time": "2020-09-13T13:50:04.262878Z"
    }
   },
   "outputs": [
    {
     "data": {
      "text/plain": [
       "сотрудник          1105\n",
       "компаньон           508\n",
       "пенсионер           413\n",
       "госслужащий         147\n",
       "предприниматель       1\n",
       "Name: income_type, dtype: int64"
      ]
     },
     "execution_count": 12,
     "metadata": {},
     "output_type": "execute_result"
    }
   ],
   "source": [
    "# Количество пропусков 'days_employed' для каждого типа занятости\n",
    "data[data['days_employed'].isnull()]['income_type'].value_counts()"
   ]
  },
  {
   "cell_type": "code",
   "execution_count": 13,
   "metadata": {
    "ExecuteTime": {
     "end_time": "2020-09-13T13:50:04.512878Z",
     "start_time": "2020-09-13T13:50:04.361629Z"
    }
   },
   "outputs": [
    {
     "data": {
      "text/plain": [
       "age\n",
       "0     101\n",
       "19     14\n",
       "20     51\n",
       "21    111\n",
       "22    183\n",
       "Name: education, dtype: int64"
      ]
     },
     "execution_count": 13,
     "metadata": {},
     "output_type": "execute_result"
    }
   ],
   "source": [
    "# Посмотрим на значения возраста\n",
    "data.groupby('age')['education'].count().head()"
   ]
  },
  {
   "cell_type": "markdown",
   "metadata": {},
   "source": [
    "Во многих заявках возраст не указан, поэтому посмотрим, для каких типов занятости встречается нулевой возраст."
   ]
  },
  {
   "cell_type": "code",
   "execution_count": 14,
   "metadata": {
    "ExecuteTime": {
     "end_time": "2020-09-13T13:50:04.615506Z",
     "start_time": "2020-09-13T13:50:04.515942Z"
    }
   },
   "outputs": [
    {
     "data": {
      "text/plain": [
       "сотрудник      55\n",
       "компаньон      20\n",
       "пенсионер      20\n",
       "госслужащий     6\n",
       "Name: income_type, dtype: int64"
      ]
     },
     "execution_count": 14,
     "metadata": {},
     "output_type": "execute_result"
    }
   ],
   "source": [
    "data[data['age'] == 0]['income_type'].value_counts()"
   ]
  },
  {
   "cell_type": "markdown",
   "metadata": {},
   "source": [
    "Для столбцов **income_type, days_employed, age** встречаются пропуски. Составим отдельную таблицу со средними и медианными значениями по каждому проблемному столбцу."
   ]
  },
  {
   "cell_type": "code",
   "execution_count": 15,
   "metadata": {
    "ExecuteTime": {
     "end_time": "2020-09-13T13:50:04.938951Z",
     "start_time": "2020-09-13T13:50:04.618769Z"
    }
   },
   "outputs": [
    {
     "data": {
      "text/html": [
       "<div>\n",
       "<style scoped>\n",
       "    .dataframe tbody tr th:only-of-type {\n",
       "        vertical-align: middle;\n",
       "    }\n",
       "\n",
       "    .dataframe tbody tr th {\n",
       "        vertical-align: top;\n",
       "    }\n",
       "\n",
       "    .dataframe thead tr th {\n",
       "        text-align: left;\n",
       "    }\n",
       "\n",
       "    .dataframe thead tr:last-of-type th {\n",
       "        text-align: right;\n",
       "    }\n",
       "</style>\n",
       "<table border=\"1\" class=\"dataframe\">\n",
       "  <thead>\n",
       "    <tr>\n",
       "      <th></th>\n",
       "      <th colspan=\"2\" halign=\"left\">age</th>\n",
       "      <th colspan=\"2\" halign=\"left\">days_employed</th>\n",
       "      <th colspan=\"2\" halign=\"left\">total_income</th>\n",
       "    </tr>\n",
       "    <tr>\n",
       "      <th></th>\n",
       "      <th>median</th>\n",
       "      <th>mean</th>\n",
       "      <th>median</th>\n",
       "      <th>mean</th>\n",
       "      <th>median</th>\n",
       "      <th>mean</th>\n",
       "    </tr>\n",
       "    <tr>\n",
       "      <th>income_type</th>\n",
       "      <th></th>\n",
       "      <th></th>\n",
       "      <th></th>\n",
       "      <th></th>\n",
       "      <th></th>\n",
       "      <th></th>\n",
       "    </tr>\n",
       "  </thead>\n",
       "  <tbody>\n",
       "    <tr>\n",
       "      <th>безработный</th>\n",
       "      <td>38.0</td>\n",
       "      <td>38.000000</td>\n",
       "      <td>366413.652744</td>\n",
       "      <td>366413.652744</td>\n",
       "      <td>131339.751676</td>\n",
       "      <td>131339.751676</td>\n",
       "    </tr>\n",
       "    <tr>\n",
       "      <th>в декрете</th>\n",
       "      <td>39.0</td>\n",
       "      <td>39.000000</td>\n",
       "      <td>-3296.759962</td>\n",
       "      <td>-3296.759962</td>\n",
       "      <td>53829.130729</td>\n",
       "      <td>53829.130729</td>\n",
       "    </tr>\n",
       "    <tr>\n",
       "      <th>госслужащий</th>\n",
       "      <td>40.0</td>\n",
       "      <td>40.636737</td>\n",
       "      <td>-2689.368353</td>\n",
       "      <td>-3399.896902</td>\n",
       "      <td>150447.935283</td>\n",
       "      <td>170898.309923</td>\n",
       "    </tr>\n",
       "    <tr>\n",
       "      <th>компаньон</th>\n",
       "      <td>39.0</td>\n",
       "      <td>39.697542</td>\n",
       "      <td>-1547.382223</td>\n",
       "      <td>-2111.524398</td>\n",
       "      <td>172357.950966</td>\n",
       "      <td>202417.461462</td>\n",
       "    </tr>\n",
       "    <tr>\n",
       "      <th>пенсионер</th>\n",
       "      <td>60.0</td>\n",
       "      <td>59.063019</td>\n",
       "      <td>365213.306266</td>\n",
       "      <td>365003.491245</td>\n",
       "      <td>118514.486412</td>\n",
       "      <td>137127.465690</td>\n",
       "    </tr>\n",
       "    <tr>\n",
       "      <th>предприниматель</th>\n",
       "      <td>42.5</td>\n",
       "      <td>42.500000</td>\n",
       "      <td>-520.848083</td>\n",
       "      <td>-520.848083</td>\n",
       "      <td>499163.144947</td>\n",
       "      <td>499163.144947</td>\n",
       "    </tr>\n",
       "    <tr>\n",
       "      <th>сотрудник</th>\n",
       "      <td>39.0</td>\n",
       "      <td>39.821027</td>\n",
       "      <td>-1574.202821</td>\n",
       "      <td>-2326.499216</td>\n",
       "      <td>142594.396847</td>\n",
       "      <td>161380.260488</td>\n",
       "    </tr>\n",
       "    <tr>\n",
       "      <th>студент</th>\n",
       "      <td>22.0</td>\n",
       "      <td>22.000000</td>\n",
       "      <td>-578.751554</td>\n",
       "      <td>-578.751554</td>\n",
       "      <td>98201.625314</td>\n",
       "      <td>98201.625314</td>\n",
       "    </tr>\n",
       "  </tbody>\n",
       "</table>\n",
       "</div>"
      ],
      "text/plain": [
       "                   age             days_employed                 \\\n",
       "                median       mean         median           mean   \n",
       "income_type                                                       \n",
       "безработный       38.0  38.000000  366413.652744  366413.652744   \n",
       "в декрете         39.0  39.000000   -3296.759962   -3296.759962   \n",
       "госслужащий       40.0  40.636737   -2689.368353   -3399.896902   \n",
       "компаньон         39.0  39.697542   -1547.382223   -2111.524398   \n",
       "пенсионер         60.0  59.063019  365213.306266  365003.491245   \n",
       "предприниматель   42.5  42.500000    -520.848083    -520.848083   \n",
       "сотрудник         39.0  39.821027   -1574.202821   -2326.499216   \n",
       "студент           22.0  22.000000    -578.751554    -578.751554   \n",
       "\n",
       "                  total_income                 \n",
       "                        median           mean  \n",
       "income_type                                    \n",
       "безработный      131339.751676  131339.751676  \n",
       "в декрете         53829.130729   53829.130729  \n",
       "госслужащий      150447.935283  170898.309923  \n",
       "компаньон        172357.950966  202417.461462  \n",
       "пенсионер        118514.486412  137127.465690  \n",
       "предприниматель  499163.144947  499163.144947  \n",
       "сотрудник        142594.396847  161380.260488  \n",
       "студент           98201.625314   98201.625314  "
      ]
     },
     "execution_count": 15,
     "metadata": {},
     "output_type": "execute_result"
    }
   ],
   "source": [
    "# считаем для age\n",
    "income_type_stat = data.groupby('income_type').agg({'age':['median','mean']})\n",
    "\n",
    "# считаем для days_employed\n",
    "income_type_stat = income_type_stat.merge(data.groupby('income_type').agg({'days_employed':['median','mean']}),\n",
    "                                          on='income_type',\n",
    "                                          how='inner')\n",
    "\n",
    "# считаем для total_income\n",
    "income_type_stat = income_type_stat.merge(data.groupby('income_type').agg({'total_income':['median','mean']}),\n",
    "                                          on='income_type',\n",
    "                                          how='inner')\n",
    "\n",
    "income_type_stat"
   ]
  },
  {
   "cell_type": "markdown",
   "metadata": {},
   "source": [
    "Заполним пропуски для столбцов **age, days_employed, total_income** медианой по отдельным типам занятости, так как среднее арифметическое расходится с медианным значением."
   ]
  },
  {
   "cell_type": "code",
   "execution_count": 16,
   "metadata": {
    "ExecuteTime": {
     "end_time": "2020-09-13T13:50:05.475012Z",
     "start_time": "2020-09-13T13:50:04.941862Z"
    }
   },
   "outputs": [
    {
     "name": "stdout",
     "output_type": "stream",
     "text": [
      "Минимальный возраст в данных: 19.0\n",
      "Количество пропущенных значений days_employed: 0\n",
      "Количество пропущенных значений total_income: 0\n"
     ]
    }
   ],
   "source": [
    "# по столбцам, где будем заполнять пропуски\n",
    "for column in set([ i[0] for i in income_type_stat.columns ]):\n",
    "    # по типам занятости\n",
    "    for group in income_type_stat.index.to_list():\n",
    "        fill_value = income_type_stat[column]['median'].loc[group]\n",
    "        \n",
    "        if column == 'age':\n",
    "            data[data['income_type'] == group] = data[data['income_type'] == group].replace({column: {0: fill_value}})\n",
    "# \n",
    "        else:\n",
    "            data[data['income_type'] == group] = data[data['income_type'] == group].fillna(fill_value)\n",
    "\n",
    "\n",
    "print('Минимальный возраст в данных:', data['age'].value_counts().sort_index().head(1).idxmax())\n",
    "print('Количество пропущенных значений days_employed:', data[data['days_employed'].isnull()].shape[0])\n",
    "print('Количество пропущенных значений total_income:', data[data['total_income'].isnull()].shape[0])\n"
   ]
  },
  {
   "cell_type": "markdown",
   "metadata": {},
   "source": [
    "<div style=\"border:solid gold 2px; padding: 20px\"> <h1 style=\"color:gold; margin-bottom:20px\">Комментарий наставника</h1>\n",
    "\n",
    "Здесь не стоило делать через for - это медленно, лучше было сделать вот так \n",
    "    \n",
    "data['total_income'] = data.groupby('income_type')['total_income'].transform(lambda x: x.fillna(x.median()))"
   ]
  },
  {
   "cell_type": "code",
   "execution_count": 17,
   "metadata": {
    "ExecuteTime": {
     "end_time": "2020-09-13T13:50:05.496629Z",
     "start_time": "2020-09-13T13:50:05.479702Z"
    }
   },
   "outputs": [
    {
     "name": "stdout",
     "output_type": "stream",
     "text": [
      "женский    14236\n",
      "мужской     7288\n",
      "XNA            1\n",
      "Name: gender, dtype: int64\n"
     ]
    }
   ],
   "source": [
    "# посмотрим на значения данных о поле заемщиков\n",
    "data['gender'] = data['gender'].replace('M', 'мужской')\n",
    "data['gender'] = data['gender'].replace('F', 'женский')\n",
    "print(data['gender'].value_counts())"
   ]
  },
  {
   "cell_type": "code",
   "execution_count": 18,
   "metadata": {
    "ExecuteTime": {
     "end_time": "2020-09-13T13:50:05.647466Z",
     "start_time": "2020-09-13T13:50:05.499877Z"
    }
   },
   "outputs": [
    {
     "name": "stdout",
     "output_type": "stream",
     "text": [
      "Самый популярный пол: женский\n"
     ]
    }
   ],
   "source": [
    "popular_gender = data['gender'].value_counts().idxmax()\n",
    "print('Самый популярный пол:', popular_gender)"
   ]
  },
  {
   "cell_type": "markdown",
   "metadata": {},
   "source": [
    "Заменим пропуск на значение самого популярного пола заемщиков."
   ]
  },
  {
   "cell_type": "code",
   "execution_count": 19,
   "metadata": {
    "ExecuteTime": {
     "end_time": "2020-09-13T13:50:05.763407Z",
     "start_time": "2020-09-13T13:50:05.651360Z"
    }
   },
   "outputs": [
    {
     "name": "stdout",
     "output_type": "stream",
     "text": [
      "\n",
      "\n",
      "Данные 'gender' после обработки:\n",
      "\n",
      "<class 'pandas.core.frame.DataFrame'>\n",
      "RangeIndex: 21525 entries, 0 to 21524\n",
      "Data columns (total 12 columns):\n",
      " #   Column            Non-Null Count  Dtype  \n",
      "---  ------            --------------  -----  \n",
      " 0   children          21525 non-null  int64  \n",
      " 1   days_employed     21525 non-null  float64\n",
      " 2   age               21525 non-null  float64\n",
      " 3   education         21525 non-null  object \n",
      " 4   education_id      21525 non-null  int64  \n",
      " 5   family_status     21525 non-null  object \n",
      " 6   family_status_id  21525 non-null  int64  \n",
      " 7   gender            21525 non-null  object \n",
      " 8   income_type       21525 non-null  object \n",
      " 9   debt              21525 non-null  int64  \n",
      " 10  total_income      21525 non-null  float64\n",
      " 11  purpose           21525 non-null  object \n",
      "dtypes: float64(3), int64(4), object(5)\n",
      "memory usage: 2.0+ MB\n"
     ]
    }
   ],
   "source": [
    "data.loc[data['gender'] == 'XNA', 'gender'] = popular_gender\n",
    "print(\"\\n\\nДанные 'gender' после обработки:\\n\")\n",
    "\n",
    "# print(data['gender'].value_counts())\n",
    "data.info()"
   ]
  },
  {
   "cell_type": "markdown",
   "metadata": {},
   "source": [
    "Проверка пропущенных данных о днях занятости __days_employed__ и доходе заемщика __total_income__ показала, что пропуски характерны для одних и тех же объектов. Однако, это не значит, что лица, у которых пропущены значения в этих стобцах, не работают на момент заявки: данные по ошибке могли быть не заполнены или потеряться. Также было обнаружено, что в данных о возрасте в столбце __age__ много нулевых значений (101), что может повлиять на результат в дальнейшем анализе. Поэтому было принято решение заменить пропуски на медианные значения в зависимости от типа занятости.\n",
    "Также обнаружен неявный (типа Str) единичный пропуск в данных о поле заемщиков и заменен на самый часто втречаемый пол в данных - _женский_."
   ]
  },
  {
   "cell_type": "markdown",
   "metadata": {},
   "source": [
    "<a id='types'></a>\n",
    "### Замена типа данных"
   ]
  },
  {
   "cell_type": "code",
   "execution_count": 20,
   "metadata": {
    "ExecuteTime": {
     "end_time": "2020-09-13T13:50:05.874715Z",
     "start_time": "2020-09-13T13:50:05.766327Z"
    }
   },
   "outputs": [
    {
     "name": "stdout",
     "output_type": "stream",
     "text": [
      "<class 'pandas.core.frame.DataFrame'>\n",
      "RangeIndex: 21525 entries, 0 to 21524\n",
      "Data columns (total 12 columns):\n",
      " #   Column            Non-Null Count  Dtype \n",
      "---  ------            --------------  ----- \n",
      " 0   children          21525 non-null  int64 \n",
      " 1   days_employed     21525 non-null  int64 \n",
      " 2   age               21525 non-null  int64 \n",
      " 3   education         21525 non-null  object\n",
      " 4   education_id      21525 non-null  int64 \n",
      " 5   family_status     21525 non-null  object\n",
      " 6   family_status_id  21525 non-null  int64 \n",
      " 7   gender            21525 non-null  object\n",
      " 8   income_type       21525 non-null  object\n",
      " 9   debt              21525 non-null  int64 \n",
      " 10  total_income      21525 non-null  int64 \n",
      " 11  purpose           21525 non-null  object\n",
      "dtypes: int64(7), object(5)\n",
      "memory usage: 2.0+ MB\n"
     ]
    }
   ],
   "source": [
    "# преобразование типа данных в столбцах типа float64\n",
    "\n",
    "for column in ['days_employed', 'age', 'total_income']:\n",
    "    data[column] = data[column].astype('int')\n",
    "\n",
    "data.info()"
   ]
  },
  {
   "cell_type": "markdown",
   "metadata": {},
   "source": [
    "Столбцы __days_employed__, __age__, __total_income__ в выборке были типа _float64_ без округления. Во избежание проблем при поиске дубликатов данных, значения этих столбцов были переведены в целочисленный тип данных."
   ]
  },
  {
   "cell_type": "markdown",
   "metadata": {},
   "source": [
    "<a id='duplicates'></a>\n",
    "### Обработка дубликатов"
   ]
  },
  {
   "cell_type": "code",
   "execution_count": 21,
   "metadata": {
    "ExecuteTime": {
     "end_time": "2020-09-13T13:50:05.956453Z",
     "start_time": "2020-09-13T13:50:05.877133Z"
    }
   },
   "outputs": [
    {
     "data": {
      "text/plain": [
       "среднее                13750\n",
       "высшее                  4718\n",
       "СРЕДНЕЕ                  772\n",
       "Среднее                  711\n",
       "неоконченное высшее      668\n",
       "ВЫСШЕЕ                   274\n",
       "Высшее                   268\n",
       "начальное                250\n",
       "Неоконченное высшее       47\n",
       "НЕОКОНЧЕННОЕ ВЫСШЕЕ       29\n",
       "НАЧАЛЬНОЕ                 17\n",
       "Начальное                 15\n",
       "ученая степень             4\n",
       "Ученая степень             1\n",
       "УЧЕНАЯ СТЕПЕНЬ             1\n",
       "Name: education, dtype: int64"
      ]
     },
     "execution_count": 21,
     "metadata": {},
     "output_type": "execute_result"
    }
   ],
   "source": [
    "data['education'].value_counts()"
   ]
  },
  {
   "cell_type": "code",
   "execution_count": 22,
   "metadata": {
    "ExecuteTime": {
     "end_time": "2020-09-13T13:50:06.085874Z",
     "start_time": "2020-09-13T13:50:05.965243Z"
    }
   },
   "outputs": [
    {
     "data": {
      "text/plain": [
       "женат / замужем          12380\n",
       "гражданский брак          4177\n",
       "Не женат / не замужем     2813\n",
       "в разводе                 1195\n",
       "вдовец / вдова             960\n",
       "Name: family_status, dtype: int64"
      ]
     },
     "execution_count": 22,
     "metadata": {},
     "output_type": "execute_result"
    }
   ],
   "source": [
    "data['family_status'].value_counts()"
   ]
  },
  {
   "cell_type": "code",
   "execution_count": 23,
   "metadata": {
    "ExecuteTime": {
     "end_time": "2020-09-13T13:50:06.197595Z",
     "start_time": "2020-09-13T13:50:06.089444Z"
    }
   },
   "outputs": [
    {
     "data": {
      "text/plain": [
       "сотрудник          11119\n",
       "компаньон           5085\n",
       "пенсионер           3856\n",
       "госслужащий         1459\n",
       "предприниматель        2\n",
       "безработный            2\n",
       "в декрете              1\n",
       "студент                1\n",
       "Name: income_type, dtype: int64"
      ]
     },
     "execution_count": 23,
     "metadata": {},
     "output_type": "execute_result"
    }
   ],
   "source": [
    "data['income_type'].value_counts()"
   ]
  },
  {
   "cell_type": "code",
   "execution_count": 24,
   "metadata": {
    "ExecuteTime": {
     "end_time": "2020-09-13T13:50:06.294277Z",
     "start_time": "2020-09-13T13:50:06.202714Z"
    }
   },
   "outputs": [
    {
     "data": {
      "text/plain": [
       "свадьба                                   797\n",
       "на проведение свадьбы                     777\n",
       "сыграть свадьбу                           774\n",
       "операции с недвижимостью                  676\n",
       "покупка коммерческой недвижимости         664\n",
       "операции с жильем                         653\n",
       "покупка жилья для сдачи                   653\n",
       "операции с коммерческой недвижимостью     651\n",
       "покупка жилья                             647\n",
       "жилье                                     647\n",
       "покупка жилья для семьи                   641\n",
       "строительство собственной недвижимости    635\n",
       "недвижимость                              634\n",
       "операции со своей недвижимостью           630\n",
       "строительство жилой недвижимости          626\n",
       "покупка недвижимости                      624\n",
       "покупка своего жилья                      620\n",
       "строительство недвижимости                620\n",
       "ремонт жилью                              612\n",
       "покупка жилой недвижимости                607\n",
       "на покупку своего автомобиля              505\n",
       "заняться высшим образованием              496\n",
       "автомобиль                                495\n",
       "сделка с подержанным автомобилем          489\n",
       "свой автомобиль                           480\n",
       "на покупку подержанного автомобиля        479\n",
       "автомобили                                478\n",
       "на покупку автомобиля                     472\n",
       "дополнительное образование                462\n",
       "приобретение автомобиля                   462\n",
       "сделка с автомобилем                      455\n",
       "высшее образование                        453\n",
       "образование                               447\n",
       "получение дополнительного образования     447\n",
       "получение образования                     443\n",
       "профильное образование                    436\n",
       "получение высшего образования             426\n",
       "заняться образованием                     412\n",
       "Name: purpose, dtype: int64"
      ]
     },
     "execution_count": 24,
     "metadata": {},
     "output_type": "execute_result"
    }
   ],
   "source": [
    "data['purpose'].value_counts()"
   ]
  },
  {
   "cell_type": "markdown",
   "metadata": {},
   "source": [
    "Переведем значения категориальных перевенных к нижнему регистру."
   ]
  },
  {
   "cell_type": "code",
   "execution_count": 25,
   "metadata": {
    "ExecuteTime": {
     "end_time": "2020-09-13T13:50:06.473974Z",
     "start_time": "2020-09-13T13:50:06.297228Z"
    }
   },
   "outputs": [
    {
     "name": "stdout",
     "output_type": "stream",
     "text": [
      "['среднее', 'высшее', 'неоконченное высшее', 'начальное', 'ученая степень']\n",
      "['женат / замужем', 'гражданский брак', 'не женат / не замужем', 'в разводе', 'вдовец / вдова']\n",
      "['женский', 'мужской']\n",
      "['сотрудник', 'компаньон', 'пенсионер', 'госслужащий', 'предприниматель', 'безработный', 'в декрете', 'студент']\n",
      "['свадьба', 'на проведение свадьбы', 'сыграть свадьбу', 'операции с недвижимостью', 'покупка коммерческой недвижимости', 'операции с жильем', 'покупка жилья для сдачи', 'операции с коммерческой недвижимостью', 'покупка жилья', 'жилье', 'покупка жилья для семьи', 'строительство собственной недвижимости', 'недвижимость', 'операции со своей недвижимостью', 'строительство жилой недвижимости', 'покупка недвижимости', 'покупка своего жилья', 'строительство недвижимости', 'ремонт жилью', 'покупка жилой недвижимости', 'на покупку своего автомобиля', 'заняться высшим образованием', 'автомобиль', 'сделка с подержанным автомобилем', 'свой автомобиль', 'на покупку подержанного автомобиля', 'автомобили', 'на покупку автомобиля', 'дополнительное образование', 'приобретение автомобиля', 'сделка с автомобилем', 'высшее образование', 'образование', 'получение дополнительного образования', 'получение образования', 'профильное образование', 'получение высшего образования', 'заняться образованием']\n"
     ]
    }
   ],
   "source": [
    "for column in ['education', 'family_status']:\n",
    "    data[column] = data[column].str.lower()\n",
    "\n",
    "for column in [ 'education', 'family_status', 'gender', 'income_type', 'purpose']:\n",
    "    print(data[column].value_counts().index.to_list())"
   ]
  },
  {
   "cell_type": "code",
   "execution_count": 26,
   "metadata": {
    "ExecuteTime": {
     "end_time": "2020-09-13T13:50:06.581627Z",
     "start_time": "2020-09-13T13:50:06.477211Z"
    }
   },
   "outputs": [
    {
     "data": {
      "text/plain": [
       "children            71\n",
       "days_employed       71\n",
       "age                 71\n",
       "education           71\n",
       "education_id        71\n",
       "family_status       71\n",
       "family_status_id    71\n",
       "gender              71\n",
       "income_type         71\n",
       "debt                71\n",
       "total_income        71\n",
       "purpose             71\n",
       "dtype: int64"
      ]
     },
     "execution_count": 26,
     "metadata": {},
     "output_type": "execute_result"
    }
   ],
   "source": [
    "# сколько дубликатов\n",
    "data[data.duplicated()].count()"
   ]
  },
  {
   "cell_type": "code",
   "execution_count": 27,
   "metadata": {
    "ExecuteTime": {
     "end_time": "2020-09-13T13:50:06.732783Z",
     "start_time": "2020-09-13T13:50:06.585234Z"
    }
   },
   "outputs": [
    {
     "data": {
      "text/plain": [
       "0"
      ]
     },
     "execution_count": 27,
     "metadata": {},
     "output_type": "execute_result"
    }
   ],
   "source": [
    "# Удаляем полностью совпадающие строки и упорядочиваем индексы\n",
    "\n",
    "data = data.drop_duplicates().reset_index(drop=True)\n",
    "data[data.duplicated()].count().sum()"
   ]
  },
  {
   "cell_type": "markdown",
   "metadata": {},
   "source": [
    "В исходной таблице обнаружено 71 полностью идентичных строк, которые могли появиться в силу разных причин:\n",
    "* несколько заявлений от одного человека\n",
    "* ошибка оператора\n",
    "* техническая неисправность\n",
    "\n",
    "Все дубликаты удалены."
   ]
  },
  {
   "cell_type": "markdown",
   "metadata": {},
   "source": [
    "<a id='lemmas'></a>\n",
    "### Лемматизация"
   ]
  },
  {
   "cell_type": "code",
   "execution_count": 28,
   "metadata": {
    "ExecuteTime": {
     "end_time": "2020-09-13T13:50:06.759904Z",
     "start_time": "2020-09-13T13:50:06.735278Z"
    }
   },
   "outputs": [],
   "source": [
    "m = Mystem()"
   ]
  },
  {
   "cell_type": "code",
   "execution_count": 29,
   "metadata": {
    "ExecuteTime": {
     "end_time": "2020-09-13T13:50:11.563257Z",
     "start_time": "2020-09-13T13:50:06.762181Z"
    }
   },
   "outputs": [
    {
     "data": {
      "text/plain": [
       "{6351: 'недвижимость',\n",
       " 5897: 'покупка',\n",
       " 4460: 'жилье',\n",
       " 4306: 'автомобиль',\n",
       " 4013: 'образование',\n",
       " 2604: 'операция',\n",
       " 2324: 'свадьба',\n",
       " 2230: 'свой',\n",
       " 1878: 'строительство',\n",
       " 1374: 'высокий',\n",
       " 1314: 'получение',\n",
       " 1311: 'коммерческий',\n",
       " 1230: 'жилой',\n",
       " 941: 'сделка',\n",
       " 906: 'дополнительный',\n",
       " 904: 'заниматься',\n",
       " 853: 'подержать',\n",
       " 768: 'проведение',\n",
       " 765: 'сыграть',\n",
       " 651: 'сдача',\n",
       " 638: 'семья',\n",
       " 635: 'собственный',\n",
       " 607: 'ремонт',\n",
       " 461: 'приобретение',\n",
       " 436: 'профильный',\n",
       " 111: 'подержанный'}"
      ]
     },
     "execution_count": 29,
     "metadata": {},
     "output_type": "execute_result"
    }
   ],
   "source": [
    "# объединяем все цели покупки в один текст для удобства лемматизации\n",
    "purpose_text = ' '.join(data['purpose'].to_list())\n",
    "\n",
    "# находим леммы\n",
    "purpose_lemmas = m.lemmatize(purpose_text)\n",
    "\n",
    "# считаем количество каждой\n",
    "lemmas_dict = dict(Counter(purpose_lemmas))\n",
    "\n",
    "# удаляем пробелы, символ конца строки, некоторые предлоги\n",
    "for sym in [' ', 'с', 'на', 'для', 'со', '\\n']:\n",
    "    del lemmas_dict[sym]\n",
    "\n",
    "# и сортируем по убыванию\n",
    "lemmas_dict_sort = dict(sorted([(value, key) for (key,value) in lemmas_dict.items()], reverse=True))\n",
    "\n",
    "# 10 самых популярных лемм\n",
    "lemmas_dict_sort"
   ]
  },
  {
   "cell_type": "markdown",
   "metadata": {},
   "source": [
    "В десятке популярных такие цели кредита, как _недвижимость, жилье, автомобиль, образование, свадьба, строительство_."
   ]
  },
  {
   "cell_type": "markdown",
   "metadata": {},
   "source": [
    "<a id='categories'></a>\n",
    "### Категоризация данных"
   ]
  },
  {
   "cell_type": "code",
   "execution_count": 30,
   "metadata": {
    "ExecuteTime": {
     "end_time": "2020-09-13T13:50:12.142821Z",
     "start_time": "2020-09-13T13:50:11.569346Z"
    }
   },
   "outputs": [],
   "source": [
    "# добавление стажа работы в годах\n",
    "data['years_employed'] = (data['days_employed']/365).astype('int')"
   ]
  },
  {
   "cell_type": "code",
   "execution_count": 31,
   "metadata": {
    "ExecuteTime": {
     "end_time": "2020-09-13T13:50:12.271750Z",
     "start_time": "2020-09-13T13:50:12.147803Z"
    }
   },
   "outputs": [
    {
     "data": {
      "text/html": [
       "<div>\n",
       "<style scoped>\n",
       "    .dataframe tbody tr th:only-of-type {\n",
       "        vertical-align: middle;\n",
       "    }\n",
       "\n",
       "    .dataframe tbody tr th {\n",
       "        vertical-align: top;\n",
       "    }\n",
       "\n",
       "    .dataframe thead th {\n",
       "        text-align: right;\n",
       "    }\n",
       "</style>\n",
       "<table border=\"1\" class=\"dataframe\">\n",
       "  <thead>\n",
       "    <tr style=\"text-align: right;\">\n",
       "      <th></th>\n",
       "      <th>income_type</th>\n",
       "      <th>years_employed</th>\n",
       "      <th>age</th>\n",
       "      <th>total_income</th>\n",
       "      <th>purpose</th>\n",
       "      <th>gender</th>\n",
       "      <th>debt</th>\n",
       "      <th>children</th>\n",
       "      <th>family_status_id</th>\n",
       "      <th>education_id</th>\n",
       "    </tr>\n",
       "  </thead>\n",
       "  <tbody>\n",
       "    <tr>\n",
       "      <th>0</th>\n",
       "      <td>сотрудник</td>\n",
       "      <td>-23</td>\n",
       "      <td>42</td>\n",
       "      <td>253875</td>\n",
       "      <td>покупка жилья</td>\n",
       "      <td>женский</td>\n",
       "      <td>0</td>\n",
       "      <td>1</td>\n",
       "      <td>0</td>\n",
       "      <td>0</td>\n",
       "    </tr>\n",
       "    <tr>\n",
       "      <th>1</th>\n",
       "      <td>сотрудник</td>\n",
       "      <td>-11</td>\n",
       "      <td>36</td>\n",
       "      <td>112080</td>\n",
       "      <td>приобретение автомобиля</td>\n",
       "      <td>женский</td>\n",
       "      <td>0</td>\n",
       "      <td>1</td>\n",
       "      <td>0</td>\n",
       "      <td>1</td>\n",
       "    </tr>\n",
       "    <tr>\n",
       "      <th>2</th>\n",
       "      <td>сотрудник</td>\n",
       "      <td>-15</td>\n",
       "      <td>33</td>\n",
       "      <td>145885</td>\n",
       "      <td>покупка жилья</td>\n",
       "      <td>мужской</td>\n",
       "      <td>0</td>\n",
       "      <td>0</td>\n",
       "      <td>0</td>\n",
       "      <td>1</td>\n",
       "    </tr>\n",
       "    <tr>\n",
       "      <th>3</th>\n",
       "      <td>сотрудник</td>\n",
       "      <td>-11</td>\n",
       "      <td>32</td>\n",
       "      <td>267628</td>\n",
       "      <td>дополнительное образование</td>\n",
       "      <td>мужской</td>\n",
       "      <td>0</td>\n",
       "      <td>3</td>\n",
       "      <td>0</td>\n",
       "      <td>1</td>\n",
       "    </tr>\n",
       "    <tr>\n",
       "      <th>4</th>\n",
       "      <td>пенсионер</td>\n",
       "      <td>932</td>\n",
       "      <td>53</td>\n",
       "      <td>158616</td>\n",
       "      <td>сыграть свадьбу</td>\n",
       "      <td>женский</td>\n",
       "      <td>0</td>\n",
       "      <td>0</td>\n",
       "      <td>1</td>\n",
       "      <td>1</td>\n",
       "    </tr>\n",
       "  </tbody>\n",
       "</table>\n",
       "</div>"
      ],
      "text/plain": [
       "  income_type  years_employed  age  total_income                     purpose  \\\n",
       "0   сотрудник             -23   42        253875               покупка жилья   \n",
       "1   сотрудник             -11   36        112080     приобретение автомобиля   \n",
       "2   сотрудник             -15   33        145885               покупка жилья   \n",
       "3   сотрудник             -11   32        267628  дополнительное образование   \n",
       "4   пенсионер             932   53        158616             сыграть свадьбу   \n",
       "\n",
       "    gender  debt  children  family_status_id  education_id  \n",
       "0  женский     0         1                 0             0  \n",
       "1  женский     0         1                 0             1  \n",
       "2  мужской     0         0                 0             1  \n",
       "3  мужской     0         3                 0             1  \n",
       "4  женский     0         0                 1             1  "
      ]
     },
     "execution_count": 31,
     "metadata": {},
     "output_type": "execute_result"
    }
   ],
   "source": [
    "# разделим данные на 3 таблицы\n",
    "\n",
    "# 1 - person_data - основные данные\n",
    "person_data = data[['income_type', 'years_employed', 'age', 'total_income','purpose', \\\n",
    "                    'gender', 'debt', 'children', 'family_status_id', 'education_id']]\n",
    "\n",
    "# 2 - family_dict - соответствие 'тип семейного положения' - 'идентификатор'\n",
    "education_dict = data[['education_id', 'education']].drop_duplicates().reset_index(drop=True)\n",
    "\n",
    "# 3 - education_dict - соответствие 'тип образования' - 'идентификатор'\n",
    "family_dict = data[['family_status_id', 'family_status']].drop_duplicates().reset_index(drop=True)\n",
    "\n",
    "# данные таблицы person_data\n",
    "person_data.head(5)"
   ]
  },
  {
   "cell_type": "code",
   "execution_count": 32,
   "metadata": {
    "ExecuteTime": {
     "end_time": "2020-09-13T13:50:12.313450Z",
     "start_time": "2020-09-13T13:50:12.276267Z"
    }
   },
   "outputs": [
    {
     "data": {
      "text/html": [
       "<div>\n",
       "<style scoped>\n",
       "    .dataframe tbody tr th:only-of-type {\n",
       "        vertical-align: middle;\n",
       "    }\n",
       "\n",
       "    .dataframe tbody tr th {\n",
       "        vertical-align: top;\n",
       "    }\n",
       "\n",
       "    .dataframe thead th {\n",
       "        text-align: right;\n",
       "    }\n",
       "</style>\n",
       "<table border=\"1\" class=\"dataframe\">\n",
       "  <thead>\n",
       "    <tr style=\"text-align: right;\">\n",
       "      <th></th>\n",
       "      <th>education_id</th>\n",
       "      <th>education</th>\n",
       "    </tr>\n",
       "  </thead>\n",
       "  <tbody>\n",
       "    <tr>\n",
       "      <th>0</th>\n",
       "      <td>0</td>\n",
       "      <td>высшее</td>\n",
       "    </tr>\n",
       "    <tr>\n",
       "      <th>1</th>\n",
       "      <td>1</td>\n",
       "      <td>среднее</td>\n",
       "    </tr>\n",
       "    <tr>\n",
       "      <th>2</th>\n",
       "      <td>2</td>\n",
       "      <td>неоконченное высшее</td>\n",
       "    </tr>\n",
       "    <tr>\n",
       "      <th>3</th>\n",
       "      <td>3</td>\n",
       "      <td>начальное</td>\n",
       "    </tr>\n",
       "    <tr>\n",
       "      <th>4</th>\n",
       "      <td>4</td>\n",
       "      <td>ученая степень</td>\n",
       "    </tr>\n",
       "  </tbody>\n",
       "</table>\n",
       "</div>"
      ],
      "text/plain": [
       "   education_id            education\n",
       "0             0               высшее\n",
       "1             1              среднее\n",
       "2             2  неоконченное высшее\n",
       "3             3            начальное\n",
       "4             4       ученая степень"
      ]
     },
     "execution_count": 32,
     "metadata": {},
     "output_type": "execute_result"
    }
   ],
   "source": [
    "# данные таблицы education_dict\n",
    "education_dict"
   ]
  },
  {
   "cell_type": "code",
   "execution_count": 33,
   "metadata": {
    "ExecuteTime": {
     "end_time": "2020-09-13T13:50:12.449495Z",
     "start_time": "2020-09-13T13:50:12.315819Z"
    }
   },
   "outputs": [
    {
     "data": {
      "text/html": [
       "<div>\n",
       "<style scoped>\n",
       "    .dataframe tbody tr th:only-of-type {\n",
       "        vertical-align: middle;\n",
       "    }\n",
       "\n",
       "    .dataframe tbody tr th {\n",
       "        vertical-align: top;\n",
       "    }\n",
       "\n",
       "    .dataframe thead th {\n",
       "        text-align: right;\n",
       "    }\n",
       "</style>\n",
       "<table border=\"1\" class=\"dataframe\">\n",
       "  <thead>\n",
       "    <tr style=\"text-align: right;\">\n",
       "      <th></th>\n",
       "      <th>family_status_id</th>\n",
       "      <th>family_status</th>\n",
       "    </tr>\n",
       "  </thead>\n",
       "  <tbody>\n",
       "    <tr>\n",
       "      <th>0</th>\n",
       "      <td>0</td>\n",
       "      <td>женат / замужем</td>\n",
       "    </tr>\n",
       "    <tr>\n",
       "      <th>1</th>\n",
       "      <td>1</td>\n",
       "      <td>гражданский брак</td>\n",
       "    </tr>\n",
       "    <tr>\n",
       "      <th>2</th>\n",
       "      <td>2</td>\n",
       "      <td>вдовец / вдова</td>\n",
       "    </tr>\n",
       "    <tr>\n",
       "      <th>3</th>\n",
       "      <td>3</td>\n",
       "      <td>в разводе</td>\n",
       "    </tr>\n",
       "    <tr>\n",
       "      <th>4</th>\n",
       "      <td>4</td>\n",
       "      <td>не женат / не замужем</td>\n",
       "    </tr>\n",
       "  </tbody>\n",
       "</table>\n",
       "</div>"
      ],
      "text/plain": [
       "   family_status_id          family_status\n",
       "0                 0        женат / замужем\n",
       "1                 1       гражданский брак\n",
       "2                 2         вдовец / вдова\n",
       "3                 3              в разводе\n",
       "4                 4  не женат / не замужем"
      ]
     },
     "execution_count": 33,
     "metadata": {},
     "output_type": "execute_result"
    }
   ],
   "source": [
    "# данные таблицы family_dict\n",
    "family_dict"
   ]
  },
  {
   "cell_type": "code",
   "execution_count": 34,
   "metadata": {
    "ExecuteTime": {
     "end_time": "2020-09-13T13:50:12.539388Z",
     "start_time": "2020-09-13T13:50:12.452582Z"
    }
   },
   "outputs": [],
   "source": [
    "# Посмотрим значения квантилей дохода\n",
    "# val_25, val_50, val_75 = tuple(\n",
    "#     person_data['total_income'].describe().loc[['25%','50%', '75%']].values)\n",
    "# print(val_25, val_50, val_75)"
   ]
  },
  {
   "cell_type": "code",
   "execution_count": 35,
   "metadata": {
    "ExecuteTime": {
     "end_time": "2020-09-13T13:50:12.764699Z",
     "start_time": "2020-09-13T13:50:12.544540Z"
    }
   },
   "outputs": [
    {
     "data": {
      "text/plain": [
       "array([  -2689.  ,   92839.  ,  138975.  ,  201340.25, 2265604.  ])"
      ]
     },
     "execution_count": 35,
     "metadata": {},
     "output_type": "execute_result"
    }
   ],
   "source": [
    "# доп. проверка\n",
    "data2, bins = pd.qcut(person_data['total_income'], 4, retbins=True)\n",
    "bins"
   ]
  },
  {
   "cell_type": "code",
   "execution_count": 36,
   "metadata": {
    "ExecuteTime": {
     "end_time": "2020-09-13T13:50:12.849043Z",
     "start_time": "2020-09-13T13:50:12.769880Z"
    }
   },
   "outputs": [],
   "source": [
    "def income_category(income, val_25, val_50, val_75):\n",
    "    \"\"\"\n",
    "    Функция для разбиения на категории уровню дохода\n",
    "    income - значения дохода\n",
    "    \"\"\"\n",
    "    \n",
    "    if income < val_25:\n",
    "        return 'низкий'\n",
    "    \n",
    "    if val_25 <= income <= val_50:\n",
    "        return 'ниже среднего'\n",
    "    \n",
    "    if val_50 < income <= val_75:\n",
    "        return 'средний'\n",
    "    \n",
    "    else:\n",
    "        return 'высокий'"
   ]
  },
  {
   "cell_type": "code",
   "execution_count": 37,
   "metadata": {
    "ExecuteTime": {
     "end_time": "2020-09-13T13:50:13.017454Z",
     "start_time": "2020-09-13T13:50:12.853378Z"
    }
   },
   "outputs": [
    {
     "name": "stderr",
     "output_type": "stream",
     "text": [
      "/opt/anaconda3/lib/python3.7/site-packages/ipykernel_launcher.py:8: SettingWithCopyWarning: \n",
      "A value is trying to be set on a copy of a slice from a DataFrame.\n",
      "Try using .loc[row_indexer,col_indexer] = value instead\n",
      "\n",
      "See the caveats in the documentation: https://pandas.pydata.org/pandas-docs/stable/user_guide/indexing.html#returning-a-view-versus-a-copy\n",
      "  \n"
     ]
    },
    {
     "data": {
      "text/plain": [
       "высокий          5364\n",
       "низкий           5364\n",
       "средний          5363\n",
       "ниже среднего    5363\n",
       "Name: income_category, dtype: int64"
      ]
     },
     "execution_count": 37,
     "metadata": {},
     "output_type": "execute_result"
    }
   ],
   "source": [
    "# значения квантилей\n",
    "q_25, q_50, q_75 = tuple(\n",
    "    person_data['total_income'].describe()[['25%','50%', '75%']].to_list())\n",
    "    \n",
    "# добавление нового столбца - категория заемщика по уровню дохода\n",
    "person_data['income_category'] = (\n",
    "    person_data['total_income']\n",
    "    .apply(income_category, args=(q_25, q_50, q_75))\n",
    ")\n",
    "\n",
    "person_data['income_category'].value_counts()"
   ]
  },
  {
   "cell_type": "code",
   "execution_count": 38,
   "metadata": {
    "ExecuteTime": {
     "end_time": "2020-09-13T13:50:13.744446Z",
     "start_time": "2020-09-13T13:50:13.021055Z"
    }
   },
   "outputs": [
    {
     "data": {
      "text/plain": [
       "{'недвижимость': 6351,\n",
       " 'покупка': 5897,\n",
       " 'жилье': 4460,\n",
       " 'автомобиль': 4306,\n",
       " 'образование': 4013,\n",
       " 'операция': 2604,\n",
       " 'свадьба': 2324,\n",
       " 'строительство': 1878,\n",
       " 'получение': 1314,\n",
       " 'жилой': 1230,\n",
       " 'сделка': 941,\n",
       " 'проведение': 768,\n",
       " 'сдача': 651,\n",
       " 'семья': 638,\n",
       " 'ремонт': 607,\n",
       " 'приобретение': 461}"
      ]
     },
     "execution_count": 38,
     "metadata": {},
     "output_type": "execute_result"
    }
   ],
   "source": [
    "morph = pymorphy2.MorphAnalyzer()\n",
    "\n",
    "lemmas_rating = clean_lemmas_rating(lemmas_dict_sort)\n",
    "lemmas_rating"
   ]
  },
  {
   "cell_type": "markdown",
   "metadata": {},
   "source": [
    "Удалим из рейтинга слова, означающие действие, а не цель."
   ]
  },
  {
   "cell_type": "code",
   "execution_count": 39,
   "metadata": {
    "ExecuteTime": {
     "end_time": "2020-09-13T13:50:13.761797Z",
     "start_time": "2020-09-13T13:50:13.748861Z"
    }
   },
   "outputs": [
    {
     "data": {
      "text/plain": [
       "{'недвижимость': 6351,\n",
       " 'жилье': 4460,\n",
       " 'автомобиль': 4306,\n",
       " 'образование': 4013,\n",
       " 'операция': 2604,\n",
       " 'свадьба': 2324,\n",
       " 'строительство': 1878,\n",
       " 'ремонт': 607}"
      ]
     },
     "execution_count": 39,
     "metadata": {},
     "output_type": "execute_result"
    }
   ],
   "source": [
    "rm_words = ['покупка', 'получение', 'сделка', 'проведение', \n",
    "            'приобретение', 'сдача', 'семья', 'жилой']\n",
    "for w in rm_words:\n",
    "    del lemmas_rating[w]\n",
    "    \n",
    "lemmas_rating"
   ]
  },
  {
   "cell_type": "code",
   "execution_count": 42,
   "metadata": {
    "ExecuteTime": {
     "end_time": "2020-09-13T13:52:42.930224Z",
     "start_time": "2020-09-13T13:52:38.504920Z"
    }
   },
   "outputs": [
    {
     "name": "stderr",
     "output_type": "stream",
     "text": [
      "/opt/anaconda3/lib/python3.7/site-packages/ipykernel_launcher.py:5: SettingWithCopyWarning: \n",
      "A value is trying to be set on a copy of a slice from a DataFrame.\n",
      "Try using .loc[row_indexer,col_indexer] = value instead\n",
      "\n",
      "See the caveats in the documentation: https://pandas.pydata.org/pandas-docs/stable/user_guide/indexing.html#returning-a-view-versus-a-copy\n",
      "  \"\"\"\n",
      "/opt/anaconda3/lib/python3.7/site-packages/ipykernel_launcher.py:8: SettingWithCopyWarning: \n",
      "A value is trying to be set on a copy of a slice from a DataFrame.\n",
      "Try using .loc[row_indexer,col_indexer] = value instead\n",
      "\n",
      "See the caveats in the documentation: https://pandas.pydata.org/pandas-docs/stable/user_guide/indexing.html#returning-a-view-versus-a-copy\n",
      "  \n"
     ]
    },
    {
     "data": {
      "text/plain": [
       "недвижимость    10811\n",
       "автомобиль       4306\n",
       "образование      4013\n",
       "свадьба          2324\n",
       "Name: purpose_category, dtype: int64"
      ]
     },
     "execution_count": 42,
     "metadata": {},
     "output_type": "execute_result"
    }
   ],
   "source": [
    "russian_stemmer = SnowballStemmer('russian')\n",
    "\n",
    "# добавление категории заемщика по цели кредита\n",
    "person_data['purpose_category'] = person_data['purpose'].apply(\n",
    "    purpose_category, args=(lemmas_rating,))\n",
    "\n",
    "# заменим 'жилье' -> 'недвижимость'\n",
    "person_data['purpose_category'] = person_data['purpose_category'].replace('жилье', 'недвижимость')\n",
    "\n",
    "# посмотрим количество клиентов для каждой категории - если нет NaN, то \n",
    "# все прошло успешно\n",
    "person_data['purpose_category'].value_counts()"
   ]
  },
  {
   "cell_type": "markdown",
   "metadata": {},
   "source": [
    "Данные были разделены на 3 таблицы:\n",
    "1. __person_data__    - основные данные заемщика\n",
    "* __family_dict__    - таблица-словарь для соответствия _'тип семейного положения' - 'идентификатор'_\n",
    "* __education_dict__ - таблица-словарь _'тип образования' - 'идентификатор'_\n",
    "\n",
    "Согласно поставленной задаче было решено разбить данные на категории по следующим признакам:\n",
    "\n",
    "* категории __количества детей__\n",
    "\n",
    "    В зависимости от количества детей заемщик может быть в категории _\"бездетные\", \"с детьми\" (1 или 2), \"многодетные\"_. Заемщики с отрицательным значением в данных о количестве детей считаем бездетными (либо ошибка оператора/системы, либо таким образом указываются совершеннолетние дети)\n",
    "    \n",
    "    \n",
    "* категории __семейного положения__\n",
    "\n",
    "    В зависимости от семейного положения при заёме учитывается совместный доход супругов. Соответственно, добавлены две категории _\"в браке\"_ и _\"свободные\"_.\n",
    "\n",
    "\n",
    "* категории __уровня дохода__\n",
    "\n",
    "    Доход в данных был разделен на _\"низкий\" (< 30000 у.е.), \"средний\" (30000 - 799999 у.е.), \"высокий\" (>= 80000 у.е.)_. Пороговые значения выбраны приблизительно, так как неизвестно, какому географическому и экономическому объекту соответствует тестовая выборка.\n",
    "\n",
    "\n",
    "\n",
    "\n",
    "* категории __целей кредита__\n",
    "\n",
    "    Процесс определения категорий определялся исходя из результата лемматизации - был получен рейтинг самых часто встречаемых слов в целях, затем проводилась автоматизированная очистка данных фнукцией clean_lemmas_rating() от непрезентабельных для дальнейшего анализа частей речи - всех, кроме существительных. Дополнительно из рейтинга были удалены те существительные, которые не несут смысловой нагрузки категоризации. В результате работы функции purpose_category(), примененной к таблице, данные были разбиты на 4 категории\n",
    "    \n",
    "    1. Недвижимость\n",
    "    * Автомобиль\n",
    "    * Образование\n",
    "    * Свадьба\n",
    "    \n",
    "    Возможная неточность в определении категорий - слово _недвижимость_ употребляется в данных в качестве _жилой_ и _коммерческой_ (не жилой)."
   ]
  },
  {
   "cell_type": "markdown",
   "metadata": {},
   "source": [
    "### Шаг 3. Ответьте на вопросы"
   ]
  },
  {
   "cell_type": "markdown",
   "metadata": {},
   "source": [
    "- Есть ли зависимость между наличием детей и возвратом кредита в срок?"
   ]
  },
  {
   "cell_type": "code",
   "execution_count": 43,
   "metadata": {
    "ExecuteTime": {
     "end_time": "2020-09-13T13:52:43.116819Z",
     "start_time": "2020-09-13T13:52:42.935184Z"
    }
   },
   "outputs": [
    {
     "data": {
      "text/html": [
       "<div>\n",
       "<style scoped>\n",
       "    .dataframe tbody tr th:only-of-type {\n",
       "        vertical-align: middle;\n",
       "    }\n",
       "\n",
       "    .dataframe tbody tr th {\n",
       "        vertical-align: top;\n",
       "    }\n",
       "\n",
       "    .dataframe thead th {\n",
       "        text-align: right;\n",
       "    }\n",
       "</style>\n",
       "<table border=\"1\" class=\"dataframe\">\n",
       "  <thead>\n",
       "    <tr style=\"text-align: right;\">\n",
       "      <th></th>\n",
       "      <th>children</th>\n",
       "      <th>debt_probability</th>\n",
       "    </tr>\n",
       "  </thead>\n",
       "  <tbody>\n",
       "    <tr>\n",
       "      <th>3</th>\n",
       "      <td>2</td>\n",
       "      <td>9.5</td>\n",
       "    </tr>\n",
       "    <tr>\n",
       "      <th>2</th>\n",
       "      <td>1</td>\n",
       "      <td>9.2</td>\n",
       "    </tr>\n",
       "    <tr>\n",
       "      <th>4</th>\n",
       "      <td>3</td>\n",
       "      <td>8.2</td>\n",
       "    </tr>\n",
       "    <tr>\n",
       "      <th>1</th>\n",
       "      <td>0</td>\n",
       "      <td>7.5</td>\n",
       "    </tr>\n",
       "  </tbody>\n",
       "</table>\n",
       "</div>"
      ],
      "text/plain": [
       "   children  debt_probability\n",
       "3         2               9.5\n",
       "2         1               9.2\n",
       "4         3               8.2\n",
       "1         0               7.5"
      ]
     },
     "execution_count": 43,
     "metadata": {},
     "output_type": "execute_result"
    }
   ],
   "source": [
    "# так как группы с количеством заемщиков <100 составляют малую часть от других групп (где счет идет на сотни и\n",
    "# тысячи) и в процентном соотношении дают вбросы, не будем учитывать эти группы при ответе на поставленный вопрос\n",
    "\n",
    "# считаем вероятность задолжности (debt_probability)\n",
    "debt_children_data = get_debt_probability(person_data, 'children', col='gender', val='debt')\n",
    "debt_children_data[debt_children_data[\"all\"] > 100][['children', 'debt_probability']]"
   ]
  },
  {
   "cell_type": "markdown",
   "metadata": {},
   "source": [
    "### Вывод"
   ]
  },
  {
   "cell_type": "markdown",
   "metadata": {},
   "source": [
    "Выделен показатель в виде вероятности задолженности:\n",
    "- у бездетнных людей показатель меньше всего - 7,5%;\n",
    "- люди с 3 детьми вероятность выше,но не намного - 8,2%;\n",
    "- заемщики с 1-2 детьми характеризуются близкой вероятностью задолжности - 9,2% и 9,5% соответственно.\n",
    "\n",
    "При сравнении групп \"бездетные\", \"с одним ребенком\" и \"с двумя детьми\", где группы сравнимы по количеству человек, видно зависимость, что при увеличении количества детей вероятность задолжности увеличивается (нелинейно).\n",
    "\n",
    "Однако, при рассмотрении дополнительно группы \"с 3 детьми\" заметно отклонение от сделанного вывода - вероятность снижается с 9,5% до 8,2%. В данном случае группа значительно отличается по численности от остальных - 330 человек против тысячных групп. Соответственно, для более основательного вывода нужно больше данных о людях с количеством детей 3 и более."
   ]
  },
  {
   "cell_type": "markdown",
   "metadata": {},
   "source": [
    "- Есть ли зависимость между семейным положением и возвратом кредита в срок?"
   ]
  },
  {
   "cell_type": "code",
   "execution_count": 44,
   "metadata": {
    "ExecuteTime": {
     "end_time": "2020-09-13T13:52:43.171780Z",
     "start_time": "2020-09-13T13:52:43.120289Z"
    }
   },
   "outputs": [
    {
     "data": {
      "text/html": [
       "<div>\n",
       "<style scoped>\n",
       "    .dataframe tbody tr th:only-of-type {\n",
       "        vertical-align: middle;\n",
       "    }\n",
       "\n",
       "    .dataframe tbody tr th {\n",
       "        vertical-align: top;\n",
       "    }\n",
       "\n",
       "    .dataframe thead th {\n",
       "        text-align: right;\n",
       "    }\n",
       "</style>\n",
       "<table border=\"1\" class=\"dataframe\">\n",
       "  <thead>\n",
       "    <tr style=\"text-align: right;\">\n",
       "      <th></th>\n",
       "      <th>family_status</th>\n",
       "      <th>debt_probability</th>\n",
       "    </tr>\n",
       "  </thead>\n",
       "  <tbody>\n",
       "    <tr>\n",
       "      <th>0</th>\n",
       "      <td>не женат / не замужем</td>\n",
       "      <td>9.8</td>\n",
       "    </tr>\n",
       "    <tr>\n",
       "      <th>1</th>\n",
       "      <td>гражданский брак</td>\n",
       "      <td>9.3</td>\n",
       "    </tr>\n",
       "    <tr>\n",
       "      <th>2</th>\n",
       "      <td>женат / замужем</td>\n",
       "      <td>7.5</td>\n",
       "    </tr>\n",
       "    <tr>\n",
       "      <th>3</th>\n",
       "      <td>в разводе</td>\n",
       "      <td>7.1</td>\n",
       "    </tr>\n",
       "    <tr>\n",
       "      <th>4</th>\n",
       "      <td>вдовец / вдова</td>\n",
       "      <td>6.6</td>\n",
       "    </tr>\n",
       "  </tbody>\n",
       "</table>\n",
       "</div>"
      ],
      "text/plain": [
       "           family_status  debt_probability\n",
       "0  не женат / не замужем               9.8\n",
       "1       гражданский брак               9.3\n",
       "2        женат / замужем               7.5\n",
       "3              в разводе               7.1\n",
       "4         вдовец / вдова               6.6"
      ]
     },
     "execution_count": 44,
     "metadata": {},
     "output_type": "execute_result"
    }
   ],
   "source": [
    "# зависимость долгов от семейного положения\n",
    "debt_family_data = get_debt_probability(person_data, 'family_status_id', col='gender', val='debt')\n",
    "\n",
    "# добавим расшифровку статуса семейного положения\n",
    "debt_family_data = debt_family_data.merge(family_dict,\n",
    "                                         on='family_status_id',\n",
    "                                         how='inner')\n",
    "debt_family_data[['family_status', 'debt_probability']]"
   ]
  },
  {
   "cell_type": "markdown",
   "metadata": {},
   "source": [
    "### Вывод"
   ]
  },
  {
   "cell_type": "markdown",
   "metadata": {},
   "source": [
    "Выявлена зависимость между семейным положением и возвратом кредита в срок:\n",
    "* Наименьшая вероятность задолжности у вдовцов/вдов (самая немногочисленная группа) - 6.6%.\n",
    "* Для людей в разводе и браке вероятность больше - 7.1% и 7.5% соотвественно.\n",
    "* В гражданском браке вероятность возрастает - 9.3%.\n",
    "* 9.8% долгов соотвествует категории людей, которые не состоят в отношениях."
   ]
  },
  {
   "cell_type": "markdown",
   "metadata": {},
   "source": [
    "- Есть ли зависимость между уровнем дохода и возвратом кредита в срок?"
   ]
  },
  {
   "cell_type": "code",
   "execution_count": 45,
   "metadata": {
    "ExecuteTime": {
     "end_time": "2020-09-13T13:52:43.300169Z",
     "start_time": "2020-09-13T13:52:43.175628Z"
    }
   },
   "outputs": [
    {
     "data": {
      "text/html": [
       "<div>\n",
       "<style scoped>\n",
       "    .dataframe tbody tr th:only-of-type {\n",
       "        vertical-align: middle;\n",
       "    }\n",
       "\n",
       "    .dataframe tbody tr th {\n",
       "        vertical-align: top;\n",
       "    }\n",
       "\n",
       "    .dataframe thead th {\n",
       "        text-align: right;\n",
       "    }\n",
       "</style>\n",
       "<table border=\"1\" class=\"dataframe\">\n",
       "  <thead>\n",
       "    <tr style=\"text-align: right;\">\n",
       "      <th></th>\n",
       "      <th>income_category</th>\n",
       "      <th>debt_probability</th>\n",
       "    </tr>\n",
       "  </thead>\n",
       "  <tbody>\n",
       "    <tr>\n",
       "      <th>3</th>\n",
       "      <td>средний</td>\n",
       "      <td>9.0</td>\n",
       "    </tr>\n",
       "    <tr>\n",
       "      <th>1</th>\n",
       "      <td>ниже среднего</td>\n",
       "      <td>8.4</td>\n",
       "    </tr>\n",
       "    <tr>\n",
       "      <th>2</th>\n",
       "      <td>низкий</td>\n",
       "      <td>7.9</td>\n",
       "    </tr>\n",
       "    <tr>\n",
       "      <th>0</th>\n",
       "      <td>высокий</td>\n",
       "      <td>7.2</td>\n",
       "    </tr>\n",
       "  </tbody>\n",
       "</table>\n",
       "</div>"
      ],
      "text/plain": [
       "  income_category  debt_probability\n",
       "3         средний               9.0\n",
       "1   ниже среднего               8.4\n",
       "2          низкий               7.9\n",
       "0         высокий               7.2"
      ]
     },
     "execution_count": 45,
     "metadata": {},
     "output_type": "execute_result"
    }
   ],
   "source": [
    "# # создаем сводную таблицу, чтобы увидеть зависимость долгов от уровня доходов\n",
    "# income_debt_pivot = create_pivot_table(person_data, 'income_category')\n",
    "# income_debt_pivot\n",
    "\n",
    "# считаем вероятность задолжности (debt_probability)\n",
    "debt_income_data = get_debt_probability(person_data, 'income_category', col='gender', val='debt')\n",
    "debt_income_data[['income_category', 'debt_probability']]"
   ]
  },
  {
   "cell_type": "markdown",
   "metadata": {},
   "source": [
    "### Вывод"
   ]
  },
  {
   "cell_type": "markdown",
   "metadata": {},
   "source": [
    "Выявлена зависимость между уровнем дохода и возвратом кредита в срок:\n",
    "* наименьшая вероятность задолжности у категорий людей с высоким и низким уровнем дохода - 7.1% и 8%;\n",
    "* большая вероятность долга у людей со средним уровнем дохода и ниже среднего - 8.5% и 8.8%."
   ]
  },
  {
   "cell_type": "markdown",
   "metadata": {},
   "source": [
    "- Как разные цели кредита влияют на его возврат в срок?"
   ]
  },
  {
   "cell_type": "code",
   "execution_count": 46,
   "metadata": {
    "ExecuteTime": {
     "end_time": "2020-09-13T13:52:43.397095Z",
     "start_time": "2020-09-13T13:52:43.304242Z"
    }
   },
   "outputs": [
    {
     "data": {
      "text/html": [
       "<div>\n",
       "<style scoped>\n",
       "    .dataframe tbody tr th:only-of-type {\n",
       "        vertical-align: middle;\n",
       "    }\n",
       "\n",
       "    .dataframe tbody tr th {\n",
       "        vertical-align: top;\n",
       "    }\n",
       "\n",
       "    .dataframe thead th {\n",
       "        text-align: right;\n",
       "    }\n",
       "</style>\n",
       "<table border=\"1\" class=\"dataframe\">\n",
       "  <thead>\n",
       "    <tr style=\"text-align: right;\">\n",
       "      <th></th>\n",
       "      <th>purpose_category</th>\n",
       "      <th>debt_probability</th>\n",
       "    </tr>\n",
       "  </thead>\n",
       "  <tbody>\n",
       "    <tr>\n",
       "      <th>0</th>\n",
       "      <td>автомобиль</td>\n",
       "      <td>9.4</td>\n",
       "    </tr>\n",
       "    <tr>\n",
       "      <th>2</th>\n",
       "      <td>образование</td>\n",
       "      <td>9.2</td>\n",
       "    </tr>\n",
       "    <tr>\n",
       "      <th>3</th>\n",
       "      <td>свадьба</td>\n",
       "      <td>8.0</td>\n",
       "    </tr>\n",
       "    <tr>\n",
       "      <th>1</th>\n",
       "      <td>недвижимость</td>\n",
       "      <td>7.2</td>\n",
       "    </tr>\n",
       "  </tbody>\n",
       "</table>\n",
       "</div>"
      ],
      "text/plain": [
       "  purpose_category  debt_probability\n",
       "0       автомобиль               9.4\n",
       "2      образование               9.2\n",
       "3          свадьба               8.0\n",
       "1     недвижимость               7.2"
      ]
     },
     "execution_count": 46,
     "metadata": {},
     "output_type": "execute_result"
    }
   ],
   "source": [
    "# считаем вероятность задолжности (debt_probability)\n",
    "debt_purpose_data = get_debt_probability(person_data, 'purpose_category', col='gender', val='debt')\n",
    "debt_purpose_data[['purpose_category', 'debt_probability']]"
   ]
  },
  {
   "cell_type": "markdown",
   "metadata": {},
   "source": [
    "### Вывод"
   ]
  },
  {
   "cell_type": "markdown",
   "metadata": {},
   "source": [
    "Выявлена зависимость между целями кредита и возвратом кредита в срок. Согласно полученным результатам, выявлены следующие вероятности для категорий целей кредита:\n",
    "* \"автомобиль\" и \"образованиее\" имеют наибольший показатель - 9.4% и 9.2% соответственно;\n",
    "* \"свадьба\" - 8%;\n",
    "* \"недвижимость\" - категория с наименьшей вероятностью  долга - 7.2%."
   ]
  },
  {
   "cell_type": "markdown",
   "metadata": {},
   "source": [
    "<div style=\"border:solid red 2px; padding: 20px\"> <h1 style=\"color: red; margin-bottom:20px\">Комментарий наставника</h1>\n",
    "\n",
    "Ответы на вопросы сделаны не верно. Для каждой группы надо посчитать вероятность невозврата кредита, т.е. количество должников / размер группы. Т.е если у нас 100 человек без детей и  из них 10 с долгом, то вероятность невозврата 10%. И так для каждого вопроса и для каждой группы.\n",
    "    \n",
    "Да, ты верно использовала здесь pivot_table, но группировка должна быть другой"
   ]
  },
  {
   "cell_type": "markdown",
   "metadata": {},
   "source": [
    "<div style=\"border:solid green 2px; padding: 20px\"> <h1 style=\"color:green; margin-bottom:20px\">Комментарий наставника</h1>\n",
    "\n",
    "Хорошо, теперь все верно."
   ]
  },
  {
   "cell_type": "markdown",
   "metadata": {},
   "source": [
    "<a id='conclusion'></a>\n",
    "### Общий вывод"
   ]
  },
  {
   "cell_type": "markdown",
   "metadata": {},
   "source": [
    "Данные о заемщиках представлены несколькими признаками, представляющие собой коллчественные и категориальные значения. Значение целей кредита представлены разнородными категориальными переменными, так как при одинаковых смысловых значениях указаны в разных падежах.\n",
    "\n",
    "При исследовании в данных были обнаружены проблемы:\n",
    "\n",
    "* __Неинформативные названия столбцов__. Столбец __dob_years__ был переименован на __age__.\n",
    "\n",
    "\n",
    "* __Пропуски__. В данных найдены явные пропуски, которые могут свидетельствовать о технической проблеме выгрузки или сбора данных. Пропущенные значения о _стаже, общем доходе, возрасте_ заменены на медианные значения в зависимости от типа занятости, а единичный пропуск о _поле_ заемщика был заменен на самый часто встречаемый - _женский_.\n",
    "\n",
    "\n",
    "* __Разнородность описания данных__. В данных пол заемщиков указан неинформативно - одной латинской буквой. Значения были заменены на значения _\"женский\"_ и _\"мужской\"_. Также в данных были указаны идентичные значения в разном регистре. Как результат, все значения приведены к нижнему регистру.\n",
    "\n",
    "\n",
    "* __Некорректные значения__. В столбцах о стаже и доходе встречаются отрицательные значения. Помимо этого, у некоторых заемщиков указан завышенный стаж работы - более 100 лет. Так как данные о стаже в поставленной задаче не будут учитываться при анализе, значания оставлены без изменений. В доходе отрицательные значения не в большом количестве относительно количества данных, поэтому отрицательные значения дохода также оставлены.\n",
    "\n",
    "\n",
    "* __Типы данных__. Значения с типом с плавающей запятой (указанные без округления) переведены в целочисленный во избежание ошибок при сравнении количественных переменных и поиске дубликатов.\n",
    "\n",
    "\n",
    "* __Дубликаты__. В исходной таблице обнаружена совокупность полностью идентичных строк, которые могли появиться в следствие технической проблемы или наличии повторных заемщиков. Так как не поставлена задача исследования повторных заемщиков, полностью совпадающие строки были удалены.\n",
    "\n",
    "\n",
    "В результате лемматизации были выделены самые популярные цели кредита:\n",
    "* недвижимость\n",
    "* жилье\n",
    "* автомобиль\n",
    "* образование\n",
    "* свадьба\n",
    "* строительство\n",
    "\n",
    "\n",
    "Для упрощения работы с данными выполнено разделение на 3 таблицы:\n",
    "1. __person_data__    - основные данные заемщика\n",
    "* __family_dict__    - таблица-словарь для соответствия _'тип семейного положения' - 'идентификатор'_\n",
    "* __education_dict__ - таблица-словарь _'тип образования' - 'идентификатор'_\n",
    "\n",
    "\n",
    "Согласно поставленной задаче было решено разбить данные на категории по следующим признакам:\n",
    "\n",
    "* категории __уровня дохода__ (низкий, средний, высокий) - пороговые значения выбраны приблизительно, так как\n",
    "    неизвестно, какому географическому и экономическому объекту соответствуют данные.\n",
    "* категории __целей кредита__ (недвижимость, жилье, автомобиль, образование, свадьба)\n",
    "\n",
    "\n",
    "Выявлены следующие зависимости в данных:\n",
    "\n",
    "* между наличием детей и возвратом кредита в срок - \"бездетные\", \"с одним ребенком\" и \"с двумя детьми\", где группы сравнимы по количеству человек, видно зависимость, что при увеличении количества детей вероятность задолжности нелинейно увеличивается - __7.5%__, __9.2%__, __9.5__% соответственно. Для основательного вывода о зависимости нужно больше данных о людях с количеством детей 3 и более.\n",
    "\n",
    "* между семейным положением и возвратом кредита в срок. Наименьшая вероятность задолжности у вдовцов/вдов (самая немногочисленная группа) - 6.6%, для людей в разводе и браке вероятность больше - __7.1__% и __7.5__%, а для людей в гражданском браке и свободных вероятность возрастает - __9.3%__ и  __9.8%__.\n",
    "    \n",
    "* между уровнем дохода и возвратом кредита в срок. Наименьшая вероятность задолжности у категорий людей с высоким и низким уровнем дохода - __7.1%__ и __8%__. Большая вероятность долга у людей со средним уровнем дохода и ниже среднего - __8.5%__ и __8.8%__.\n",
    "\n",
    "* между целями кредита и возвратом кредита в срок. Категории \"автомобиль\" и \"образованиее\" имеют наибольший показатель - __9.4%__ и __9.2%__, \"свадьба\" - __8%__, \"недвижимость\" - категория с наименьшей вероятностью  долга - __7.2%__."
   ]
  },
  {
   "cell_type": "markdown",
   "metadata": {},
   "source": [
    "### Чек-лист готовности проекта\n",
    "\n",
    "Поставьте 'x' в выполненных пунктах. Далее нажмите Shift+Enter."
   ]
  },
  {
   "cell_type": "markdown",
   "metadata": {},
   "source": [
    "- [x]  открыт файл;\n",
    "- [x]  файл изучен;\n",
    "- [x]  определены пропущенные значения;\n",
    "- [x]  заполнены пропущенные значения;\n",
    "- [x]  есть пояснение, какие пропущенные значения обнаружены;\n",
    "- [x]  описаны возможные причины появления пропусков в данных;\n",
    "- [x]  объяснено, по какому принципу заполнены пропуски;\n",
    "- [x]  заменен вещественный тип данных на целочисленный;\n",
    "- [x]  есть пояснение, какой метод используется для изменения типа данных и почему;\n",
    "- [x]  удалены дубликаты;\n",
    "- [x]  есть пояснение, какой метод используется для поиска и удаления дубликатов;\n",
    "- [x]  описаны возможные причины появления дубликатов в данных;\n",
    "- [x]  выделены леммы в значениях столбца с целями получения кредита;\n",
    "- [x]  описан процесс лемматизации;\n",
    "- [x]  данные категоризированы;\n",
    "- [x]  есть объяснение принципа категоризации данных;\n",
    "- [x]  есть ответ на вопрос: \"Есть ли зависимость между наличием детей и возвратом кредита в срок?\";\n",
    "- [x]  есть ответ на вопрос: \"Есть ли зависимость между семейным положением и возвратом кредита в срок?\";\n",
    "- [x]  есть ответ на вопрос: \"Есть ли зависимость между уровнем дохода и возвратом кредита в срок?\";\n",
    "- [x]  есть ответ на вопрос: \"Как разные цели кредита влияют на его возврат в срок?\";\n",
    "- [x]  в каждом этапе есть выводы;\n",
    "- [x]  есть общий вывод."
   ]
  }
 ],
 "metadata": {
  "kernelspec": {
   "display_name": "Python 3",
   "language": "python",
   "name": "python3"
  },
  "language_info": {
   "codemirror_mode": {
    "name": "ipython",
    "version": 3
   },
   "file_extension": ".py",
   "mimetype": "text/x-python",
   "name": "python",
   "nbconvert_exporter": "python",
   "pygments_lexer": "ipython3",
   "version": "3.7.6"
  },
  "toc": {
   "base_numbering": 1,
   "nav_menu": {},
   "number_sections": false,
   "sideBar": true,
   "skip_h1_title": false,
   "title_cell": "Table of Contents",
   "title_sidebar": "Contents",
   "toc_cell": false,
   "toc_position": {
    "height": "calc(100% - 180px)",
    "left": "10px",
    "top": "150px",
    "width": "272px"
   },
   "toc_section_display": true,
   "toc_window_display": true
  }
 },
 "nbformat": 4,
 "nbformat_minor": 2
}
