{
 "cells": [
  {
   "cell_type": "markdown",
   "metadata": {},
   "source": [
    "# Исследование надёжности заёмщиков\n",
    "\n",
    "Заказчик — кредитный отдел банка. Нужно разобраться, влияет ли семейное положение и количество детей клиента на факт погашения кредита в срок. Входные данные от банка — статистика о платёжеспособности клиентов.\n",
    "\n",
    "Результаты исследования будут учтены при построении модели **кредитного скоринга** — специальной системы, которая оценивает способность потенциального заёмщика вернуть кредит банку."
   ]
  },
  {
   "cell_type": "markdown",
   "metadata": {},
   "source": [
    "## Оглавление\n",
    "\n",
    "[1. Описание данных](#1)\\\n",
    "[2. Импорт модулей](#2)\\\n",
    "[3. Функции](#3)\\\n",
    "[4. Загрузка данных](#4)\\\n",
    "[5. Предобработка данных](#5)\\\n",
    "&emsp;[5.1. Обработка пропусков](#5-1)\\\n",
    "&emsp;[5.2. Замена типа данных](#5-2)\\\n",
    "&emsp;[5.3. Обработка дубликатов](#5-3)\\\n",
    "&emsp;[5.4. Лемматизация](#5-4)\\\n",
    "&emsp;[5.5. Категоризация](#5-5)\\\n",
    "[6. Выводы](#6)\\\n",
    "&emsp;[6.1. Зависимость между наличием детей и возвратом кредита в срок](#6-1)\\\n",
    "&emsp;[6.2. Зависимость между семейным положением и возвратом кредита в срок](#6-2)\\\n",
    "&emsp;[6.3. Зависимость между уровнем дохода и возвратом кредита в срок](#6-3)\\\n",
    "&emsp;[6.4. Влияние разных целей кредита на его возврат в срок](#6-4)\\\n",
    "[7. Итог](#7)"
   ]
  },
  {
   "cell_type": "markdown",
   "metadata": {},
   "source": [
    "<a id='1'></a>\n",
    "## 1. Описание данных\n",
    "\n",
    "* *children* — количество детей в семье\n",
    "* *days_employed* — общий трудовой стаж в днях\n",
    "* *dob_years* — возраст клиента в годах\n",
    "* *education* — уровень образования клиента\n",
    "* *education_id* — идентификатор уровня образования\n",
    "* *family_status* — семейное положение\n",
    "* *family_status_id* — идентификатор семейного положения\n",
    "* *gender* — пол клиента\n",
    "* *income_type* — тип занятости\n",
    "* *debt* — имел ли задолженность по возврату кредитов\n",
    "* *total_income* — ежемесячный доход\n",
    "* *purpose* — цель получения кредита"
   ]
  },
  {
   "cell_type": "markdown",
   "metadata": {},
   "source": [
    "<a id='2'></a>\n",
    "## 2. Импорт модулей"
   ]
  },
  {
   "cell_type": "code",
   "execution_count": null,
   "metadata": {
    "ExecuteTime": {
     "end_time": "2020-09-20T20:39:11.823884Z",
     "start_time": "2020-09-20T20:39:02.192837Z"
    }
   },
   "outputs": [],
   "source": [
    "!pip install pymystem3 pymorphy2 pymorphy2-dicts-ru"
   ]
  },
  {
   "cell_type": "code",
   "execution_count": null,
   "metadata": {
    "ExecuteTime": {
     "end_time": "2020-09-20T20:39:25.855252Z",
     "start_time": "2020-09-20T20:39:11.832463Z"
    }
   },
   "outputs": [],
   "source": [
    "import requests\n",
    "import pymorphy2                      # для определения частей речи\n",
    "import pandas as pd\n",
    "from pymystem3 import Mystem\n",
    "from collections import Counter\n",
    "from urllib.parse import urlencode\n",
    "from nltk.stem import SnowballStemmer # для стемминга"
   ]
  },
  {
   "cell_type": "markdown",
   "metadata": {},
   "source": [
    "<a id='3'></a>\n",
    "## 3. Функции"
   ]
  },
  {
   "cell_type": "code",
   "execution_count": null,
   "metadata": {
    "ExecuteTime": {
     "end_time": "2020-09-20T20:39:25.866277Z",
     "start_time": "2020-09-20T20:39:25.860537Z"
    }
   },
   "outputs": [],
   "source": [
    "LINKS = [\"https://yadi.sk/d/asLAt64H9tBe0A\"]\n",
    "PATHS = ['/datasets/data.csv']"
   ]
  },
  {
   "cell_type": "code",
   "execution_count": null,
   "metadata": {
    "ExecuteTime": {
     "end_time": "2020-09-20T20:39:26.007237Z",
     "start_time": "2020-09-20T20:39:25.869680Z"
    }
   },
   "outputs": [],
   "source": [
    "def load_data(paths, links=None):\n",
    "    \"\"\"\n",
    "    Функция принимает пути до локальных файлов с данными и (опционально) ссылки\n",
    "    для их скачивания.\n",
    "    \n",
    "    paths - локальные пути до файлов с данными\n",
    "    links - ссылки для скачивания (Яндекс.Диск)\n",
    "    \"\"\"\n",
    "    \n",
    "    data_list = []\n",
    "    base_url = 'https://cloud-api.yandex.net/v1/disk/public/resources/download?'\n",
    "    \n",
    "    if links != None and not links:\n",
    "        raise Exception(\"Error: wrong 'links' value (nmust be not empty list)\")\n",
    "    \n",
    "    if links:\n",
    "        if len(paths) != len(links):\n",
    "            raise Exception(\"Error: length of 'links' must be equal to length of 'paths'\")\n",
    "\n",
    "        if type(paths).__name__ != 'list' or type(links).__name__ != 'list':\n",
    "            raise Exception(\"Error: variables 'links' and 'paths' must be 'list' type\")\n",
    "\n",
    "    for i in range(len(paths)):\n",
    "        \n",
    "        try:\n",
    "            path = paths[i]\n",
    "            data_list.append(pd.read_csv(path))\n",
    "            \n",
    "        except FileNotFoundError:\n",
    "            # download from yandex disk\n",
    "            public_key = links[i]\n",
    "            print(\"Run load\", public_key)\n",
    "            \n",
    "            # get download link\n",
    "            final_url = base_url + urlencode(dict(public_key=public_key))\n",
    "            response = requests.get(final_url)\n",
    "            download_url = response.json()['href']\n",
    "            data = pd.read_csv(download_url)\n",
    "            data_list.append(pd.DataFrame(data))\n",
    "            print('Done.')\n",
    "            \n",
    "    return data_list"
   ]
  },
  {
   "cell_type": "code",
   "execution_count": null,
   "metadata": {
    "ExecuteTime": {
     "end_time": "2020-09-20T20:39:26.126337Z",
     "start_time": "2020-09-20T20:39:26.010383Z"
    }
   },
   "outputs": [],
   "source": [
    "def clean_lemmas_rating(rating_dict):\n",
    "    '''\n",
    "    Функция для удаления предлогов, пробелов, символа конца строки.\n",
    "    На вход принимаем список кортежей (<count>, <word>):\n",
    "    count - частота встречаемости слова во тестовой выборке\n",
    "    word - слово из целей кредита\n",
    "    '''\n",
    "    \n",
    "    result = []\n",
    "    \n",
    "    for item in rating_dict.items():\n",
    "        count, word = item\n",
    "        ps = morph.parse(word)[0].tag.POS\n",
    "        \n",
    "        try:\n",
    "            # часть речи (part of speech)\n",
    "            ps = morph.parse(word)[0].tag.POS\n",
    "        except:\n",
    "            # проблемы с кодировкой или внезапно другой язык в данных\n",
    "            # оставляем результат без изменений, не смогли обработать\n",
    "            print('Error - processing: {} ->'.format(word), rating)\n",
    "            \n",
    "        # оставляем только существительные\n",
    "        if ps == 'NOUN':\n",
    "            result.append((word, count))\n",
    "            \n",
    "    return dict(result)"
   ]
  },
  {
   "cell_type": "code",
   "execution_count": null,
   "metadata": {
    "ExecuteTime": {
     "end_time": "2020-09-20T20:39:26.258765Z",
     "start_time": "2020-09-20T20:39:26.128685Z"
    }
   },
   "outputs": [],
   "source": [
    "def purpose_category(purpose, rating):\n",
    "    '''\n",
    "    Функция для определения категорий целей кредита.\n",
    "    Проходим от наиболее популярного слова в rating до наименее популярного.\n",
    "    При первом совпадениии возвращаем категорию.\n",
    "    rating - аргумент по умолчанию\n",
    "    '''\n",
    "    \n",
    "    for category in rating:\n",
    "        # получаем основу слова категории, так как в целях используются разные падежи\n",
    "        stemmed_category = russian_stemmer.stem(category)\n",
    "        \n",
    "        if stemmed_category in purpose:\n",
    "            return category\n",
    "\n",
    "    return 'NaN'"
   ]
  },
  {
   "cell_type": "code",
   "execution_count": null,
   "metadata": {
    "ExecuteTime": {
     "end_time": "2020-09-20T20:39:26.338080Z",
     "start_time": "2020-09-20T20:39:26.264147Z"
    }
   },
   "outputs": [],
   "source": [
    "def get_debt_probability(df, idx, col='gender', val='debt'):\n",
    "    \"\"\"\n",
    "    Функция для создания совдных таблиц по разным параметрам\n",
    "    \"\"\"\n",
    "\n",
    "    df_debt = person_data.groupby(idx)[val].sum().to_frame().reset_index()\n",
    "    df_all = person_data.groupby(idx)[col].count().to_frame().reset_index()\n",
    "    df_data = df_debt.merge(df_all,\n",
    "                            on=idx,\n",
    "                            how='inner')\n",
    "    df_data.rename(columns={col:\"all\"}, inplace=True)\n",
    "\n",
    "    # создаем столбец с вероятностью долга\n",
    "    probability = val+'_probability'\n",
    "    df_data[probability] = (df_data[val] / df_data['all'] * 100).round(1)\n",
    "    df_data.sort_values(probability, ascending=False, inplace=True)\n",
    "    \n",
    "    return df_data"
   ]
  },
  {
   "cell_type": "code",
   "execution_count": null,
   "metadata": {
    "ExecuteTime": {
     "end_time": "2020-09-20T20:39:26.450724Z",
     "start_time": "2020-09-20T20:39:26.340850Z"
    }
   },
   "outputs": [],
   "source": [
    "def income_category(income, val_25, val_50, val_75):\n",
    "    \"\"\"\n",
    "    Функция для разбиения на категории уровню дохода\n",
    "    income - значения дохода\n",
    "    \"\"\"\n",
    "    \n",
    "    if income < val_25:\n",
    "        return 'низкий'\n",
    "    \n",
    "    if val_25 <= income <= val_50:\n",
    "        return 'ниже среднего'\n",
    "    \n",
    "    if val_50 < income <= val_75:\n",
    "        return 'средний'\n",
    "    \n",
    "    else:\n",
    "        return 'высокий'"
   ]
  },
  {
   "cell_type": "markdown",
   "metadata": {},
   "source": [
    "<a id='4'></a>\n",
    "## 4. Загрузка данных"
   ]
  },
  {
   "cell_type": "code",
   "execution_count": null,
   "metadata": {
    "ExecuteTime": {
     "end_time": "2020-09-20T20:39:28.657183Z",
     "start_time": "2020-09-20T20:39:26.453748Z"
    }
   },
   "outputs": [],
   "source": [
    "data = load_data(PATHS, links=LINKS)[0]\n",
    "data.info()"
   ]
  },
  {
   "cell_type": "code",
   "execution_count": null,
   "metadata": {
    "ExecuteTime": {
     "end_time": "2020-09-20T20:39:28.762879Z",
     "start_time": "2020-09-20T20:39:28.660880Z"
    }
   },
   "outputs": [],
   "source": [
    "# переименуем столбцы\n",
    "data.rename(columns={\"dob_years\": \"age\"}, inplace=True)\n",
    "\n",
    "data.sample(10)"
   ]
  },
  {
   "cell_type": "code",
   "execution_count": null,
   "metadata": {
    "ExecuteTime": {
     "end_time": "2020-09-20T20:39:28.799967Z",
     "start_time": "2020-09-20T20:39:28.766188Z"
    }
   },
   "outputs": [],
   "source": [
    "null_days_employed = data[ data['days_employed'].isnull()].shape[0]\n",
    "null_total_income = data[ data['total_income'].isnull()].shape[0]\n",
    "\n",
    "print(null_days_employed, null_total_income)"
   ]
  },
  {
   "cell_type": "code",
   "execution_count": null,
   "metadata": {
    "ExecuteTime": {
     "end_time": "2020-09-20T20:39:28.903749Z",
     "start_time": "2020-09-20T20:39:28.803209Z"
    }
   },
   "outputs": [],
   "source": [
    "data_no_days_employed = data[data['days_employed'].isnull()]\n",
    "data_no_days_employed['income_type'].value_counts()"
   ]
  },
  {
   "cell_type": "markdown",
   "metadata": {},
   "source": [
    "Данные представляют включают признаки 21525 объектов. Выявлены следующие особенности:\n",
    "1. Пропуски в столбцах _days_employed,  total_income_ в одинаковом количестве - 2174.\n",
    "2. Разнородность описания:\n",
    "   * столбец _gender_ неинформативно описывает пол заемщика;\n",
    "   * встречаются одинаковые значения, написанные в разном регистре.\n",
    "3. Отрицательные значения столбца _days_employed_ .\n",
    "4. Типы данных столбцов: числовые (целочисленные и дробные), строковые.\n",
    "4. Столбцы _family_status, purpose_ - категориальные признаки.\n",
    "5. Столбец _purpose_ содержит значения, часто отличающиеся падежами (с включениями предлогов), но имеющие одинаковый смысл: \"на покупку автомобиля\", \"на покупку своего автомобиля\", \"приобретение автомобиля\"."
   ]
  },
  {
   "cell_type": "markdown",
   "metadata": {},
   "source": [
    "<a id='5'></a>\n",
    "## 5. Предобработка данных"
   ]
  },
  {
   "cell_type": "markdown",
   "metadata": {},
   "source": [
    "<a id='5-1'></a>\n",
    "### 5.1. Обработка пропусков"
   ]
  },
  {
   "cell_type": "code",
   "execution_count": null,
   "metadata": {
    "ExecuteTime": {
     "end_time": "2020-09-20T20:39:28.987801Z",
     "start_time": "2020-09-20T20:39:28.909770Z"
    }
   },
   "outputs": [],
   "source": [
    "# взаимосвязь пропусков в 'days_employed' и 'total_income' с значением 'income_type'\n",
    "null_data = data[data.days_employed.isnull() | data.total_income.isnull()][\n",
    "    ['days_employed','income_type', 'total_income']]\n",
    "\n",
    "if null_days_employed == null_data.shape[0] and null_total_income == null_data.shape[0]:\n",
    "    print('Пропуски для total_income и days_employed совпадают:', null_data.shape[0])"
   ]
  },
  {
   "cell_type": "code",
   "execution_count": null,
   "metadata": {
    "ExecuteTime": {
     "end_time": "2020-09-20T20:39:29.114388Z",
     "start_time": "2020-09-20T20:39:28.990848Z"
    }
   },
   "outputs": [],
   "source": [
    "# Количество пропусков 'total_income' для каждого типа занятости\n",
    "data[data['total_income'].isnull()]['income_type'].value_counts()"
   ]
  },
  {
   "cell_type": "code",
   "execution_count": null,
   "metadata": {
    "ExecuteTime": {
     "end_time": "2020-09-20T20:39:29.181065Z",
     "start_time": "2020-09-20T20:39:29.120853Z"
    }
   },
   "outputs": [],
   "source": [
    "# Количество пропусков 'days_employed' для каждого типа занятости\n",
    "data[data['days_employed'].isnull()]['income_type'].value_counts()"
   ]
  },
  {
   "cell_type": "code",
   "execution_count": null,
   "metadata": {
    "ExecuteTime": {
     "end_time": "2020-09-20T20:39:29.281666Z",
     "start_time": "2020-09-20T20:39:29.184349Z"
    }
   },
   "outputs": [],
   "source": [
    "# Посмотрим на значения возраста\n",
    "data.groupby('age')['education'].count().head()"
   ]
  },
  {
   "cell_type": "markdown",
   "metadata": {},
   "source": [
    "Во многих заявках возраст не указан, поэтому посмотрим, для каких типов занятости встречается нулевой возраст."
   ]
  },
  {
   "cell_type": "code",
   "execution_count": null,
   "metadata": {
    "ExecuteTime": {
     "end_time": "2020-09-20T20:39:29.379694Z",
     "start_time": "2020-09-20T20:39:29.288104Z"
    }
   },
   "outputs": [],
   "source": [
    "data[data['age'] == 0]['income_type'].value_counts()"
   ]
  },
  {
   "cell_type": "markdown",
   "metadata": {},
   "source": [
    "Для столбцов **income_type, days_employed, age** встречаются пропуски. Составим отдельную таблицу со средними и медианными значениями по каждому проблемному столбцу."
   ]
  },
  {
   "cell_type": "code",
   "execution_count": null,
   "metadata": {
    "ExecuteTime": {
     "end_time": "2020-09-20T20:39:29.562353Z",
     "start_time": "2020-09-20T20:39:29.387036Z"
    }
   },
   "outputs": [],
   "source": [
    "# считаем для age\n",
    "income_type_stat = data.groupby('income_type').agg({'age':['median','mean']})\n",
    "\n",
    "# считаем для days_employed\n",
    "income_type_stat = income_type_stat.merge(data.groupby('income_type').agg({'days_employed':['median','mean']}),\n",
    "                                          on='income_type',\n",
    "                                          how='inner')\n",
    "\n",
    "# считаем для total_income\n",
    "income_type_stat = income_type_stat.merge(data.groupby('income_type').agg({'total_income':['median','mean']}),\n",
    "                                          on='income_type',\n",
    "                                          how='inner')\n",
    "\n",
    "income_type_stat"
   ]
  },
  {
   "cell_type": "markdown",
   "metadata": {},
   "source": [
    "Заполним пропуски для столбцов **age, days_employed, total_income** медианой по отдельным типам занятости, так как среднее арифметическое расходится с медианным значением."
   ]
  },
  {
   "cell_type": "code",
   "execution_count": null,
   "metadata": {
    "ExecuteTime": {
     "end_time": "2020-09-20T20:39:29.593528Z",
     "start_time": "2020-09-20T20:39:29.566035Z"
    }
   },
   "outputs": [],
   "source": [
    "data.info()"
   ]
  },
  {
   "cell_type": "code",
   "execution_count": null,
   "metadata": {
    "ExecuteTime": {
     "end_time": "2020-09-20T20:39:29.729701Z",
     "start_time": "2020-09-20T20:39:29.595857Z"
    }
   },
   "outputs": [],
   "source": [
    "for group in ['total_income', 'days_employed']:\n",
    "    data[group] = (data\n",
    "                   .groupby('income_type')[group]\n",
    "                   .transform(lambda x: x.fillna(x.median()))\n",
    "                  )\n",
    "\n",
    "data['age'] = (data\n",
    "               .groupby('income_type')['age']\n",
    "               .transform(lambda x: x.replace({0: x.median()}))\n",
    "              )\n",
    "\n",
    "print('Минимальный возраст в данных:', data['age'].min())\n",
    "print('Количество пропущенных значений days_employed:', data.days_employed.isnull().sum())\n",
    "print('Количество пропущенных значений total_income:', data.total_income.isnull().sum())\n"
   ]
  },
  {
   "cell_type": "code",
   "execution_count": null,
   "metadata": {
    "ExecuteTime": {
     "end_time": "2020-09-20T20:39:29.810352Z",
     "start_time": "2020-09-20T20:39:29.734625Z"
    }
   },
   "outputs": [],
   "source": [
    "# посмотрим на значения данных о поле заемщиков\n",
    "data['gender'] = data['gender'].replace('M', 'мужской')\n",
    "data['gender'] = data['gender'].replace('F', 'женский')\n",
    "print(data['gender'].value_counts())"
   ]
  },
  {
   "cell_type": "code",
   "execution_count": null,
   "metadata": {
    "ExecuteTime": {
     "end_time": "2020-09-20T20:39:29.901009Z",
     "start_time": "2020-09-20T20:39:29.820293Z"
    }
   },
   "outputs": [],
   "source": [
    "popular_gender = data['gender'].value_counts().idxmax()\n",
    "print('Самый популярный пол:', popular_gender)"
   ]
  },
  {
   "cell_type": "markdown",
   "metadata": {},
   "source": [
    "Заменим пропуск на значение самого популярного пола заемщиков."
   ]
  },
  {
   "cell_type": "code",
   "execution_count": null,
   "metadata": {
    "ExecuteTime": {
     "end_time": "2020-09-20T20:39:30.045636Z",
     "start_time": "2020-09-20T20:39:29.917111Z"
    }
   },
   "outputs": [],
   "source": [
    "data.loc[data['gender'] == 'XNA', 'gender'] = popular_gender\n",
    "print(\"\\n\\nДанные 'gender' после обработки:\\n\")\n",
    "\n",
    "# print(data['gender'].value_counts())\n",
    "data.info()"
   ]
  },
  {
   "cell_type": "markdown",
   "metadata": {},
   "source": [
    "Проверка пропущенных данных о днях занятости __days_employed__ и доходе заемщика __total_income__ показала, что пропуски характерны для одних и тех же объектов. Однако, это не значит, что лица, у которых пропущены значения в этих стобцах, не работают на момент заявки: данные по ошибке могли быть не заполнены или потеряться. Также было обнаружено, что в данных о возрасте в столбце __age__ много нулевых значений (101), что может повлиять на результат в дальнейшем анализе. Поэтому было принято решение заменить пропуски на медианные значения в зависимости от типа занятости.\n",
    "Также обнаружен неявный (типа Str) единичный пропуск в данных о поле заемщиков и заменен на самый часто втречаемый пол в данных - _женский_."
   ]
  },
  {
   "cell_type": "markdown",
   "metadata": {},
   "source": [
    "<a id='5-2'></a>\n",
    "### 5.2. Замена типа данных"
   ]
  },
  {
   "cell_type": "code",
   "execution_count": null,
   "metadata": {
    "ExecuteTime": {
     "end_time": "2020-09-20T20:39:30.129794Z",
     "start_time": "2020-09-20T20:39:30.049292Z"
    }
   },
   "outputs": [],
   "source": [
    "# преобразование типа данных в столбцах типа float64\n",
    "\n",
    "for column in ['days_employed', 'age', 'total_income']:\n",
    "    data[column] = data[column].astype('int')\n",
    "\n",
    "data.info()"
   ]
  },
  {
   "cell_type": "markdown",
   "metadata": {},
   "source": [
    "Столбцы __days_employed__, __age__, __total_income__ в выборке были типа _float64_ без округления. Во избежание проблем при поиске дубликатов данных, значения этих столбцов были переведены в целочисленный тип данных."
   ]
  },
  {
   "cell_type": "markdown",
   "metadata": {},
   "source": [
    "<a id='5-3'></a>\n",
    "### 5.3. Обработка дубликатов"
   ]
  },
  {
   "cell_type": "code",
   "execution_count": null,
   "metadata": {
    "ExecuteTime": {
     "end_time": "2020-09-20T20:39:30.195003Z",
     "start_time": "2020-09-20T20:39:30.133190Z"
    }
   },
   "outputs": [],
   "source": [
    "data['education'].value_counts()"
   ]
  },
  {
   "cell_type": "code",
   "execution_count": null,
   "metadata": {
    "ExecuteTime": {
     "end_time": "2020-09-20T20:39:30.289413Z",
     "start_time": "2020-09-20T20:39:30.198178Z"
    }
   },
   "outputs": [],
   "source": [
    "data['family_status'].value_counts()"
   ]
  },
  {
   "cell_type": "code",
   "execution_count": null,
   "metadata": {
    "ExecuteTime": {
     "end_time": "2020-09-20T20:39:30.385910Z",
     "start_time": "2020-09-20T20:39:30.292340Z"
    }
   },
   "outputs": [],
   "source": [
    "data['income_type'].value_counts()"
   ]
  },
  {
   "cell_type": "code",
   "execution_count": null,
   "metadata": {
    "ExecuteTime": {
     "end_time": "2020-09-20T20:39:30.496342Z",
     "start_time": "2020-09-20T20:39:30.389040Z"
    }
   },
   "outputs": [],
   "source": [
    "data['purpose'].value_counts()"
   ]
  },
  {
   "cell_type": "markdown",
   "metadata": {},
   "source": [
    "Переведем значения категориальных перевенных к нижнему регистру."
   ]
  },
  {
   "cell_type": "code",
   "execution_count": null,
   "metadata": {
    "ExecuteTime": {
     "end_time": "2020-09-20T20:39:30.668080Z",
     "start_time": "2020-09-20T20:39:30.504083Z"
    }
   },
   "outputs": [],
   "source": [
    "for column in ['education', 'family_status']:\n",
    "    data[column] = data[column].str.lower()\n",
    "\n",
    "for column in [ 'education', 'family_status', 'gender', 'income_type', 'purpose']:\n",
    "    print(data[column].value_counts().index.to_list())"
   ]
  },
  {
   "cell_type": "code",
   "execution_count": null,
   "metadata": {
    "ExecuteTime": {
     "end_time": "2020-09-20T20:39:30.730272Z",
     "start_time": "2020-09-20T20:39:30.671303Z"
    }
   },
   "outputs": [],
   "source": [
    "# сколько дубликатов\n",
    "data[data.duplicated()].count()"
   ]
  },
  {
   "cell_type": "code",
   "execution_count": null,
   "metadata": {
    "ExecuteTime": {
     "end_time": "2020-09-20T20:39:30.874311Z",
     "start_time": "2020-09-20T20:39:30.739116Z"
    }
   },
   "outputs": [],
   "source": [
    "# Удаляем полностью совпадающие строки и упорядочиваем индексы\n",
    "\n",
    "data = data.drop_duplicates().reset_index(drop=True)\n",
    "data[data.duplicated()].count().sum()"
   ]
  },
  {
   "cell_type": "markdown",
   "metadata": {},
   "source": [
    "В исходной таблице обнаружено 71 полностью идентичных строк, которые могли появиться в силу разных причин:\n",
    "* несколько заявлений от одного человека\n",
    "* ошибка оператора\n",
    "* техническая неисправность\n",
    "\n",
    "Все дубликаты удалены."
   ]
  },
  {
   "cell_type": "markdown",
   "metadata": {},
   "source": [
    "<a id='5-4'></a>\n",
    "### 5.4. Лемматизация"
   ]
  },
  {
   "cell_type": "code",
   "execution_count": null,
   "metadata": {
    "ExecuteTime": {
     "end_time": "2020-09-20T20:39:30.912536Z",
     "start_time": "2020-09-20T20:39:30.880299Z"
    }
   },
   "outputs": [],
   "source": [
    "m = Mystem()"
   ]
  },
  {
   "cell_type": "code",
   "execution_count": null,
   "metadata": {
    "ExecuteTime": {
     "end_time": "2020-09-20T20:39:33.984442Z",
     "start_time": "2020-09-20T20:39:30.915562Z"
    }
   },
   "outputs": [],
   "source": [
    "# объединяем все цели покупки в один текст для удобства лемматизации\n",
    "purpose_text = ' '.join(data['purpose'].to_list())\n",
    "\n",
    "# находим леммы\n",
    "purpose_lemmas = m.lemmatize(purpose_text)\n",
    "\n",
    "# считаем количество каждой\n",
    "lemmas_dict = dict(Counter(purpose_lemmas))\n",
    "\n",
    "# удаляем пробелы, символ конца строки, некоторые предлоги\n",
    "for sym in [' ', 'с', 'на', 'для', 'со', '\\n']:\n",
    "    del lemmas_dict[sym]\n",
    "\n",
    "# и сортируем по убыванию\n",
    "lemmas_dict_sort = dict(sorted([(value, key) for (key,value) in lemmas_dict.items()], reverse=True))\n",
    "\n",
    "# 10 самых популярных лемм\n",
    "lemmas_dict_sort"
   ]
  },
  {
   "cell_type": "markdown",
   "metadata": {},
   "source": [
    "В десятке популярных такие цели кредита, как _недвижимость, жилье, автомобиль, образование, свадьба, строительство_."
   ]
  },
  {
   "cell_type": "markdown",
   "metadata": {},
   "source": [
    "<a id='5-5'></a>\n",
    "### 5.5. Категоризация данных"
   ]
  },
  {
   "cell_type": "code",
   "execution_count": null,
   "metadata": {
    "ExecuteTime": {
     "end_time": "2020-09-20T20:39:34.293399Z",
     "start_time": "2020-09-20T20:39:33.988186Z"
    }
   },
   "outputs": [],
   "source": [
    "# добавление стажа работы в годах\n",
    "data['years_employed'] = (data['days_employed']/365).astype('int')"
   ]
  },
  {
   "cell_type": "code",
   "execution_count": null,
   "metadata": {
    "ExecuteTime": {
     "end_time": "2020-09-20T20:39:34.364764Z",
     "start_time": "2020-09-20T20:39:34.297443Z"
    }
   },
   "outputs": [],
   "source": [
    "# разделим данные на 3 таблицы\n",
    "\n",
    "# 1 - person_data - основные данные\n",
    "person_data = data[['income_type', 'years_employed', 'age', 'total_income','purpose', \\\n",
    "                    'gender', 'debt', 'children', 'family_status_id', 'education_id']]\n",
    "\n",
    "# 2 - family_dict - соответствие 'тип семейного положения' - 'идентификатор'\n",
    "education_dict = data[['education_id', 'education']].drop_duplicates().reset_index(drop=True)\n",
    "\n",
    "# 3 - education_dict - соответствие 'тип образования' - 'идентификатор'\n",
    "family_dict = data[['family_status_id', 'family_status']].drop_duplicates().reset_index(drop=True)\n",
    "\n",
    "# данные таблицы person_data\n",
    "person_data.head(5)"
   ]
  },
  {
   "cell_type": "code",
   "execution_count": null,
   "metadata": {
    "ExecuteTime": {
     "end_time": "2020-09-20T20:39:34.411065Z",
     "start_time": "2020-09-20T20:39:34.368102Z"
    }
   },
   "outputs": [],
   "source": [
    "# данные таблицы education_dict\n",
    "education_dict"
   ]
  },
  {
   "cell_type": "code",
   "execution_count": null,
   "metadata": {
    "ExecuteTime": {
     "end_time": "2020-09-20T20:39:34.524987Z",
     "start_time": "2020-09-20T20:39:34.414373Z"
    }
   },
   "outputs": [],
   "source": [
    "# данные таблицы family_dict\n",
    "family_dict"
   ]
  },
  {
   "cell_type": "code",
   "execution_count": null,
   "metadata": {
    "ExecuteTime": {
     "end_time": "2020-09-20T20:39:34.625267Z",
     "start_time": "2020-09-20T20:39:34.528837Z"
    }
   },
   "outputs": [],
   "source": [
    "# доп. проверка\n",
    "data2, bins = pd.qcut(person_data['total_income'], 4, retbins=True)\n",
    "bins"
   ]
  },
  {
   "cell_type": "code",
   "execution_count": null,
   "metadata": {
    "ExecuteTime": {
     "end_time": "2020-09-20T20:39:34.795703Z",
     "start_time": "2020-09-20T20:39:34.628224Z"
    }
   },
   "outputs": [],
   "source": [
    "# значения квантилей\n",
    "q_25, q_50, q_75 = tuple(\n",
    "    person_data['total_income'].describe()[['25%','50%', '75%']].to_list())\n",
    "    \n",
    "# добавление нового столбца - категория заемщика по уровню дохода\n",
    "person_data['income_category'] = (\n",
    "    person_data['total_income']\n",
    "    .apply(income_category, args=(q_25, q_50, q_75))\n",
    ")\n",
    "\n",
    "person_data['income_category'].value_counts()"
   ]
  },
  {
   "cell_type": "code",
   "execution_count": null,
   "metadata": {
    "ExecuteTime": {
     "end_time": "2020-09-20T20:39:35.312673Z",
     "start_time": "2020-09-20T20:39:34.799401Z"
    }
   },
   "outputs": [],
   "source": [
    "morph = pymorphy2.MorphAnalyzer()\n",
    "\n",
    "lemmas_rating = clean_lemmas_rating(lemmas_dict_sort)\n",
    "lemmas_rating"
   ]
  },
  {
   "cell_type": "markdown",
   "metadata": {},
   "source": [
    "Удалим из рейтинга слова, означающие действие, а не цель."
   ]
  },
  {
   "cell_type": "code",
   "execution_count": null,
   "metadata": {
    "ExecuteTime": {
     "end_time": "2020-09-20T20:39:35.327042Z",
     "start_time": "2020-09-20T20:39:35.316289Z"
    }
   },
   "outputs": [],
   "source": [
    "rm_words = ['покупка', 'получение', 'сделка', 'проведение', \n",
    "            'приобретение', 'сдача', 'семья', 'жилой']\n",
    "for w in rm_words:\n",
    "    del lemmas_rating[w]\n",
    "    \n",
    "lemmas_rating"
   ]
  },
  {
   "cell_type": "code",
   "execution_count": null,
   "metadata": {
    "ExecuteTime": {
     "end_time": "2020-09-20T20:39:40.054812Z",
     "start_time": "2020-09-20T20:39:35.330186Z"
    }
   },
   "outputs": [],
   "source": [
    "russian_stemmer = SnowballStemmer('russian')\n",
    "\n",
    "# добавление категории заемщика по цели кредита\n",
    "person_data['purpose_category'] = person_data['purpose'].apply(\n",
    "    purpose_category, args=(lemmas_rating,))\n",
    "\n",
    "# заменим 'жилье' -> 'недвижимость'\n",
    "person_data['purpose_category'] = person_data['purpose_category'].replace('жилье', 'недвижимость')\n",
    "\n",
    "# посмотрим количество клиентов для каждой категории - если нет NaN, то \n",
    "# все прошло успешно\n",
    "person_data['purpose_category'].value_counts()"
   ]
  },
  {
   "cell_type": "markdown",
   "metadata": {},
   "source": [
    "Данные были разделены на 3 таблицы:\n",
    "1. __person_data__    - основные данные заемщика\n",
    "* __family_dict__    - таблица-словарь для соответствия _'тип семейного положения' - 'идентификатор'_\n",
    "* __education_dict__ - таблица-словарь _'тип образования' - 'идентификатор'_\n",
    "\n",
    "Согласно поставленной задаче было решено разбить данные на категории по следующим признакам:\n",
    "  \n",
    "* категории __семейного положения__\n",
    "\n",
    "    В зависимости от семейного положения при заёме учитывается совместный доход супругов. Соответственно, добавлены две категории _\"в браке\"_ и _\"свободные\"_.\n",
    "\n",
    "\n",
    "* категории __уровня дохода__\n",
    "\n",
    "    Доход в данных был разделен на _\"низкий\" (< 30000 у.е.), \"средний\" (30000 - 799999 у.е.), \"высокий\" (>= 80000 у.е.)_. Пороговые значения выбраны приблизительно, так как неизвестно, какому географическому и экономическому объекту соответствует тестовая выборка.\n",
    "\n",
    "\n",
    "* категории __целей кредита__\n",
    "\n",
    "    Процесс определения категорий определялся исходя из результата лемматизации - был получен рейтинг самых часто встречаемых слов в целях, затем проводилась автоматизированная очистка данных фнукцией clean_lemmas_rating() от непрезентабельных для дальнейшего анализа частей речи - всех, кроме существительных. Дополнительно из рейтинга были удалены те существительные, которые не несут смысловой нагрузки категоризации. В результате работы функции purpose_category(), примененной к таблице, данные были разбиты на 4 категории\n",
    "    \n",
    "    1. Недвижимость\n",
    "    * Автомобиль\n",
    "    * Образование\n",
    "    * Свадьба"
   ]
  },
  {
   "cell_type": "markdown",
   "metadata": {},
   "source": [
    "<a id='6'></a>\n",
    "## 6. Выводы"
   ]
  },
  {
   "cell_type": "markdown",
   "metadata": {},
   "source": [
    "<a id='6-1'></a>\n",
    "### 6.1. Зависимость между наличием детей и возвратом кредита в срок"
   ]
  },
  {
   "cell_type": "code",
   "execution_count": null,
   "metadata": {
    "ExecuteTime": {
     "end_time": "2020-09-20T20:39:40.096640Z",
     "start_time": "2020-09-20T20:39:40.057469Z"
    }
   },
   "outputs": [],
   "source": [
    "# так как группы с количеством заемщиков <100 составляют малую часть от других групп (где счет идет на сотни и\n",
    "# тысячи) и в процентном соотношении дают вбросы, не будем учитывать эти группы при ответе на поставленный вопрос\n",
    "\n",
    "# считаем вероятность задолжности (debt_probability)\n",
    "debt_children_data = get_debt_probability(person_data, 'children', col='gender', val='debt')\n",
    "debt_children_data[debt_children_data[\"all\"] > 100][['children', 'debt_probability']]"
   ]
  },
  {
   "cell_type": "markdown",
   "metadata": {},
   "source": [
    "Выделен показатель в виде вероятности задолженности:\n",
    "- у бездетнных людей показатель меньше всего - 7,5%;\n",
    "- люди с 3 детьми вероятность выше,но не намного - 8,2%;\n",
    "- заемщики с 1-2 детьми характеризуются близкой вероятностью задолжности - 9,2% и 9,5% соответственно.\n",
    "\n",
    "При сравнении групп \"бездетные\", \"с одним ребенком\" и \"с двумя детьми\", где группы сравнимы по количеству человек, видно зависимость, что при увеличении количества детей вероятность задолжности увеличивается (нелинейно).\n",
    "\n",
    "Однако, при рассмотрении дополнительно группы \"с 3 детьми\" заметно отклонение от сделанного вывода - вероятность снижается с 9,5% до 8,2%. В данном случае группа значительно отличается по численности от остальных - 330 человек против тысячных групп. Соответственно, для более основательного вывода нужно больше данных о людях с количеством детей 3 и более."
   ]
  },
  {
   "cell_type": "markdown",
   "metadata": {},
   "source": [
    "<a id='6-2'></a>\n",
    "### 6.2. Зависимость между семейным положением и возвратом кредита в срок"
   ]
  },
  {
   "cell_type": "code",
   "execution_count": null,
   "metadata": {
    "ExecuteTime": {
     "end_time": "2020-09-20T20:39:40.234263Z",
     "start_time": "2020-09-20T20:39:40.100701Z"
    }
   },
   "outputs": [],
   "source": [
    "# зависимость долгов от семейного положения\n",
    "debt_family_data = get_debt_probability(person_data, 'family_status_id', col='gender', val='debt')\n",
    "\n",
    "# добавим расшифровку статуса семейного положения\n",
    "debt_family_data = debt_family_data.merge(family_dict,\n",
    "                                         on='family_status_id',\n",
    "                                         how='inner')\n",
    "debt_family_data[['family_status', 'debt_probability']]"
   ]
  },
  {
   "cell_type": "markdown",
   "metadata": {},
   "source": [
    "Выявлена зависимость между семейным положением и возвратом кредита в срок:\n",
    "* Наименьшая вероятность задолжности у вдовцов/вдов (самая немногочисленная группа) - 6.6%.\n",
    "* Для людей в разводе и браке вероятность больше - 7.1% и 7.5% соотвественно.\n",
    "* В гражданском браке вероятность возрастает - 9.3%.\n",
    "* 9.8% долгов соотвествует категории людей, которые не состоят в отношениях."
   ]
  },
  {
   "cell_type": "markdown",
   "metadata": {},
   "source": [
    "<a id='6-3'></a>\n",
    "### 6.3. Зависимость между уровнем дохода и возвратом кредита в срок"
   ]
  },
  {
   "cell_type": "code",
   "execution_count": null,
   "metadata": {
    "ExecuteTime": {
     "end_time": "2020-09-20T20:39:40.312752Z",
     "start_time": "2020-09-20T20:39:40.237633Z"
    }
   },
   "outputs": [],
   "source": [
    "# считаем вероятность задолжности (debt_probability)\n",
    "debt_income_data = get_debt_probability(person_data, 'income_category', col='gender', val='debt')\n",
    "debt_income_data[['income_category', 'debt_probability']]"
   ]
  },
  {
   "cell_type": "markdown",
   "metadata": {},
   "source": [
    "Выявлена зависимость между уровнем дохода и возвратом кредита в срок:\n",
    "* наименьшая вероятность задолжности у категорий людей с высоким и низким уровнем дохода - 7.1% и 8%;\n",
    "* большая вероятность долга у людей со средним уровнем дохода и ниже среднего - 8.5% и 8.8%."
   ]
  },
  {
   "cell_type": "markdown",
   "metadata": {},
   "source": [
    "<a id='6-4'></a>\n",
    "### 6.4. Влияние разных целей кредита на его возврат в срок"
   ]
  },
  {
   "cell_type": "code",
   "execution_count": null,
   "metadata": {
    "ExecuteTime": {
     "end_time": "2020-09-20T20:39:40.429239Z",
     "start_time": "2020-09-20T20:39:40.321597Z"
    }
   },
   "outputs": [],
   "source": [
    "# считаем вероятность задолжности (debt_probability)\n",
    "debt_purpose_data = get_debt_probability(person_data, 'purpose_category', col='gender', val='debt')\n",
    "debt_purpose_data[['purpose_category', 'debt_probability']]"
   ]
  },
  {
   "cell_type": "markdown",
   "metadata": {},
   "source": [
    "Выявлена зависимость между целями кредита и возвратом кредита в срок. Согласно полученным результатам, выявлены следующие вероятности для категорий целей кредита:\n",
    "* \"автомобиль\" и \"образованиее\" имеют наибольший показатель - 9.4% и 9.2% соответственно;\n",
    "* \"свадьба\" - 8%;\n",
    "* \"недвижимость\" - категория с наименьшей вероятностью  долга - 7.2%."
   ]
  },
  {
   "cell_type": "markdown",
   "metadata": {},
   "source": [
    "<a id='7'></a>\n",
    "## 7. Итог"
   ]
  },
  {
   "cell_type": "markdown",
   "metadata": {},
   "source": [
    "Данные о заемщиках представлены несколькими признаками, представляющие собой коллчественные и категориальные значения. Значение целей кредита представлены разнородными категориальными переменными, так как при одинаковых смысловых значениях указаны в разных падежах.\n",
    "\n",
    "При исследовании в данных были обнаружены проблемы:\n",
    "\n",
    "* __Неинформативные названия столбцов__. Столбец __dob_years__ был переименован на __age__.\n",
    "\n",
    "\n",
    "* __Пропуски__. В данных найдены явные пропуски, которые могут свидетельствовать о технической проблеме выгрузки или сбора данных. Пропущенные значения о _стаже, общем доходе, возрасте_ заменены на медианные значения в зависимости от типа занятости, а единичный пропуск о _поле_ заемщика был заменен на самый часто встречаемый - _женский_.\n",
    "\n",
    "\n",
    "* __Разнородность описания данных__. В данных пол заемщиков указан неинформативно - одной латинской буквой. Значения были заменены на значения _\"женский\"_ и _\"мужской\"_. Также в данных были указаны идентичные значения в разном регистре. Как результат, все значения приведены к нижнему регистру.\n",
    "\n",
    "\n",
    "* __Некорректные значения__. В столбцах о стаже и доходе встречаются отрицательные значения. Помимо этого, у некоторых заемщиков указан завышенный стаж работы - более 100 лет. Так как данные о стаже в поставленной задаче не будут учитываться при анализе, значания оставлены без изменений. В доходе отрицательные значения не в большом количестве относительно количества данных, поэтому отрицательные значения дохода также оставлены.\n",
    "\n",
    "\n",
    "* __Типы данных__. Значения с типом с плавающей запятой (указанные без округления) переведены в целочисленный во избежание ошибок при сравнении количественных переменных и поиске дубликатов.\n",
    "\n",
    "\n",
    "* __Дубликаты__. В исходной таблице обнаружена совокупность полностью идентичных строк, которые могли появиться в следствие технической проблемы или наличии повторных заемщиков. Так как не поставлена задача исследования повторных заемщиков, полностью совпадающие строки были удалены.\n",
    "\n",
    "\n",
    "В результате лемматизации были выделены самые популярные цели кредита:\n",
    "* недвижимость\n",
    "* жилье\n",
    "* автомобиль\n",
    "* образование\n",
    "* свадьба\n",
    "* строительство\n",
    "\n",
    "\n",
    "Для упрощения работы с данными выполнено разделение на 3 таблицы:\n",
    "1. __person_data__    - основные данные заемщика\n",
    "* __family_dict__    - таблица-словарь для соответствия _'тип семейного положения' - 'идентификатор'_\n",
    "* __education_dict__ - таблица-словарь _'тип образования' - 'идентификатор'_\n",
    "\n",
    "\n",
    "Согласно поставленной задаче было решено разбить данные на категории по следующим признакам:\n",
    "\n",
    "* категории __уровня дохода__ (низкий, средний, высокий) - пороговые значения выбраны приблизительно, так как\n",
    "    неизвестно, какому географическому и экономическому объекту соответствуют данные.\n",
    "* категории __целей кредита__ (недвижимость, жилье, автомобиль, образование, свадьба)\n",
    "\n",
    "\n",
    "Выявлены следующие зависимости в данных:\n",
    "\n",
    "* между наличием детей и возвратом кредита в срок - \"бездетные\", \"с одним ребенком\" и \"с двумя детьми\", где группы сравнимы по количеству человек, видно зависимость, что при увеличении количества детей вероятность задолжности нелинейно увеличивается - __7.5%__, __9.2%__, __9.5__% соответственно. Для основательного вывода о зависимости нужно больше данных о людях с количеством детей 3 и более.\n",
    "\n",
    "* между семейным положением и возвратом кредита в срок. Наименьшая вероятность задолжности у вдовцов/вдов (самая немногочисленная группа) - 6.6%, для людей в разводе и браке вероятность больше - __7.1__% и __7.5__%, а для людей в гражданском браке и свободных вероятность возрастает - __9.3%__ и  __9.8%__.\n",
    "    \n",
    "* между уровнем дохода и возвратом кредита в срок. Наименьшая вероятность задолжности у категорий людей с высоким и низким уровнем дохода - __7.1%__ и __8%__. Большая вероятность долга у людей со средним уровнем дохода и ниже среднего - __8.5%__ и __8.8%__.\n",
    "\n",
    "* между целями кредита и возвратом кредита в срок. Категории \"автомобиль\" и \"образованиее\" имеют наибольший показатель - __9.4%__ и __9.2%__, \"свадьба\" - __8%__, \"недвижимость\" - категория с наименьшей вероятностью  долга - __7.2%__."
   ]
  }
 ],
 "metadata": {
  "kernelspec": {
   "display_name": "Python 3",
   "language": "python",
   "name": "python3"
  },
  "language_info": {
   "codemirror_mode": {
    "name": "ipython",
    "version": 3
   },
   "file_extension": ".py",
   "mimetype": "text/x-python",
   "name": "python",
   "nbconvert_exporter": "python",
   "pygments_lexer": "ipython3",
   "version": "3.7.6"
  },
  "toc": {
   "base_numbering": 1,
   "nav_menu": {},
   "number_sections": false,
   "sideBar": true,
   "skip_h1_title": false,
   "title_cell": "Table of Contents",
   "title_sidebar": "Contents",
   "toc_cell": false,
   "toc_position": {
    "height": "calc(100% - 180px)",
    "left": "10px",
    "top": "150px",
    "width": "531px"
   },
   "toc_section_display": true,
   "toc_window_display": true
  }
 },
 "nbformat": 4,
 "nbformat_minor": 2
}
