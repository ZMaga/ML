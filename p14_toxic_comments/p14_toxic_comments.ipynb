{
 "cells": [
  {
   "cell_type": "markdown",
   "metadata": {
    "id": "3Zg8ed8Jks2D"
   },
   "source": [
    "# Определение токсичности комментария\n",
    "\n",
    "## Описание данных\n",
    "* *text* - текст комментария\n",
    "* *toxic* - целевой признак"
   ]
  },
  {
   "cell_type": "markdown",
   "metadata": {
    "id": "bo5IOOPFks2H"
   },
   "source": [
    "## 1. Функции"
   ]
  },
  {
   "cell_type": "code",
   "execution_count": 1,
   "metadata": {
    "id": "DPzRzaCaGRf4"
   },
   "outputs": [],
   "source": [
    "!pip install -U seaborn pandas 1>/dev/null"
   ]
  },
  {
   "cell_type": "code",
   "execution_count": 2,
   "metadata": {},
   "outputs": [],
   "source": [
    "!pip freeze > requirements.txt"
   ]
  },
  {
   "cell_type": "code",
   "execution_count": 3,
   "metadata": {
    "id": "E_WF7vtUks2K"
   },
   "outputs": [],
   "source": [
    "import warnings\n",
    "warnings.filterwarnings('ignore')\n",
    "\n",
    "# загрузка/сохранение данных\n",
    "import requests\n",
    "from urllib.parse import urlencode\n",
    "\n",
    "# обработка данных\n",
    "import re\n",
    "import nltk\n",
    "import numpy as np\n",
    "import pandas as pd\n",
    "import seaborn as sns\n",
    "from nltk import word_tokenize\n",
    "import matplotlib.pyplot as plt\n",
    "from nltk.corpus import stopwords\n",
    "\n",
    "# подготовка признаков\n",
    "from sklearn.preprocessing import StandardScaler\n",
    "from sklearn.model_selection import train_test_split\n",
    "from sklearn.feature_extraction.text import TfidfVectorizer\n",
    "\n",
    "# обучение\n",
    "from sklearn.pipeline import make_pipeline\n",
    "from sklearn.ensemble import RandomForestClassifier\n",
    "from sklearn.model_selection import cross_val_score, GridSearchCV\n",
    "from sklearn.linear_model import LogisticRegression, SGDClassifier\n",
    "from sklearn.metrics import precision_score, recall_score, f1_score, roc_auc_score, make_scorer"
   ]
  },
  {
   "cell_type": "code",
   "execution_count": 4,
   "metadata": {
    "colab": {
     "base_uri": "https://localhost:8080/"
    },
    "id": "6uWmnkkGqBlt",
    "outputId": "3b1a1ba8-ad0b-469f-c370-fe99c45239eb"
   },
   "outputs": [
    {
     "name": "stderr",
     "output_type": "stream",
     "text": [
      "[nltk_data] Downloading package wordnet to /home/mary/nltk_data...\n",
      "[nltk_data]   Package wordnet is already up-to-date!\n",
      "[nltk_data] Downloading package punkt to /home/mary/nltk_data...\n",
      "[nltk_data]   Package punkt is already up-to-date!\n",
      "[nltk_data] Downloading package stopwords to /home/mary/nltk_data...\n",
      "[nltk_data]   Package stopwords is already up-to-date!\n"
     ]
    },
    {
     "data": {
      "text/plain": [
       "True"
      ]
     },
     "execution_count": 4,
     "metadata": {},
     "output_type": "execute_result"
    }
   ],
   "source": [
    "nltk.download('wordnet')\n",
    "nltk.download('punkt')\n",
    "nltk.download('stopwords')"
   ]
  },
  {
   "cell_type": "code",
   "execution_count": 5,
   "metadata": {
    "id": "2d8wJc3Uks2c"
   },
   "outputs": [],
   "source": [
    "def get_url(link):\n",
    "    \"\"\"\n",
    "    Получение адреса для скачивания с Яндекс.Диск\n",
    "    link - ссылка на Яндекс.Диск\n",
    "    \"\"\"\n",
    "    print(\"Run\", link)\n",
    "    base_url = 'https://cloud-api.yandex.net/v1/disk/public/resources/download?'\n",
    "    final_url = base_url + urlencode(dict(public_key=link))\n",
    "    response = requests.get(final_url)\n",
    "    url = response.json()['href']\n",
    "    return url"
   ]
  },
  {
   "cell_type": "code",
   "execution_count": 6,
   "metadata": {
    "id": "RmuAa9VgqY_N"
   },
   "outputs": [],
   "source": [
    "def split(X, y, test_size=0.3):\n",
    "  X_train, X_test, y_train, y_test = train_test_split(\n",
    "      X, y, test_size=0.3, random_state=42)\n",
    "  return (X_train, X_test, y_train, y_test)"
   ]
  },
  {
   "cell_type": "code",
   "execution_count": 7,
   "metadata": {
    "id": "Ny-GRXEaZBJt"
   },
   "outputs": [],
   "source": [
    "def grid_search(model, X, y, params, scoring=make_scorer(f1_score), cv=3, verbose=True):\n",
    "  grid = GridSearchCV(model, params, scoring=scoring, cv=cv, verbose=verbose, n_jobs=-1)\n",
    "  grid.fit(X, y)\n",
    "  if verbose:\n",
    "    print(\"The best grid: \", grid.best_params_)\n",
    "  return grid.best_estimator_"
   ]
  },
  {
   "cell_type": "code",
   "execution_count": 8,
   "metadata": {
    "id": "U3wVEMCugJZ9"
   },
   "outputs": [],
   "source": [
    "def score_stat(model, X_train, y_train, X_test, y_test, model_name=None):\n",
    "  if not model_name:\n",
    "    model_name = type(model).__name__\n",
    "  rows = []\n",
    "  columns = ['model', 'metric', 'train', 'test']\n",
    "  metrics = ['precision', 'recall', 'f1', 'roc_auc']\n",
    "  funcs = [precision_score, recall_score, f1_score, roc_auc_score]\n",
    "\n",
    "  for name, func in zip(metrics, funcs):\n",
    "    rows.append([model_name,\n",
    "                name,\n",
    "                func(y_train, model.predict(X_train)),\n",
    "                func(y_test, model.predict(X_test))])\n",
    "  return pd.DataFrame(rows, columns=columns)\n",
    "  "
   ]
  },
  {
   "cell_type": "code",
   "execution_count": 9,
   "metadata": {
    "id": "YoDBM4zgZYNM"
   },
   "outputs": [],
   "source": [
    "def lemmas(text):\n",
    "  replace_map = [('n t', ' not'), \n",
    "                 (' m ', ' am '), \n",
    "                 (' s ', ' is '),\n",
    "                 (' ve ', ' have ')]\n",
    "  res = text.lower()\n",
    "  # 1 - убираем лишние символы и цифры\n",
    "  res = re.sub(r'[^\\w\\s\\t]+|\\d+', ' ', res)\n",
    "  # 2 - заменим обрубленные слова\n",
    "  for old, new in replace_map:\n",
    "    res = re.sub(old, new, res)\n",
    "  # 3 - токензация\n",
    "  res = ' '.join(word_tokenize(res))\n",
    "  # 4 - уберем лишние пробелы\n",
    "  res = re.sub(r'[ ]+', ' ', res)\n",
    "  return res"
   ]
  },
  {
   "cell_type": "code",
   "execution_count": 10,
   "metadata": {
    "id": "7odZDDD4EOcA"
   },
   "outputs": [],
   "source": [
    "def get_tfidf(text, stopwords=stopwords, lang='english'):\n",
    "  stop_words = set(stopwords.words(lang))\n",
    "  count_tfidf = TfidfVectorizer(stop_words=stop_words, ngram_range=(1, 1))\n",
    "  tfidf = count_tfidf.fit_transform(text.values)\n",
    "  print('TF IDF:', tfidf.shape)\n",
    "  return tfidf"
   ]
  },
  {
   "cell_type": "code",
   "execution_count": 11,
   "metadata": {
    "id": "hjh0k18_FWYI"
   },
   "outputs": [],
   "source": [
    "def cross_valid(model, X, y, scoring=f1_score, cv=3):\n",
    "  scores = cross_val_score(model, X, y, cv=cv, scoring=make_scorer(scoring))\n",
    "  print('Train (validation) F1:', scores)"
   ]
  },
  {
   "cell_type": "code",
   "execution_count": 12,
   "metadata": {
    "id": "UrBWs_R9ks2j"
   },
   "outputs": [],
   "source": [
    "LINK = \"https://yadi.sk/d/OgJ85lY55fu-Lw\"                     # данные\n",
    "BERT_FEATURES_LINK = \"https://yadi.sk/d/7N7W-uHDGAXC0w\"       # заранее полученные эмбеддинги на предоставленном датасете\n",
    "BERT_TARGET_LINK = \"https://yadi.sk/d/VhF5PCwGVBHGAQ\"         # заранее полученный таргер, соответсвующий эмбедингам"
   ]
  },
  {
   "cell_type": "markdown",
   "metadata": {
    "id": "zzyH89GFks2s"
   },
   "source": [
    "## 2. Загрузка данных"
   ]
  },
  {
   "cell_type": "code",
   "execution_count": 13,
   "metadata": {
    "colab": {
     "base_uri": "https://localhost:8080/"
    },
    "id": "TrjaATuyks2t",
    "outputId": "cedfa0f4-bfd3-4cd6-eccb-ff55cc8361e3"
   },
   "outputs": [
    {
     "name": "stdout",
     "output_type": "stream",
     "text": [
      "Run https://yadi.sk/d/OgJ85lY55fu-Lw\n"
     ]
    }
   ],
   "source": [
    "comments = pd.read_csv(get_url(LINK))\n",
    "# comments = pd.read_csv(\"/datasets/toxic_comments.csv\")"
   ]
  },
  {
   "cell_type": "code",
   "execution_count": 14,
   "metadata": {
    "colab": {
     "base_uri": "https://localhost:8080/"
    },
    "id": "JeM-QxDNks21",
    "outputId": "f8ffe1da-e486-4a1e-de95-25f4c08f2a8e"
   },
   "outputs": [
    {
     "name": "stdout",
     "output_type": "stream",
     "text": [
      "<class 'pandas.core.frame.DataFrame'>\n",
      "RangeIndex: 159571 entries, 0 to 159570\n",
      "Data columns (total 2 columns):\n",
      " #   Column  Non-Null Count   Dtype \n",
      "---  ------  --------------   ----- \n",
      " 0   text    159571 non-null  object\n",
      " 1   toxic   159571 non-null  int64 \n",
      "dtypes: int64(1), object(1)\n",
      "memory usage: 2.4+ MB\n"
     ]
    }
   ],
   "source": [
    "comments.info()"
   ]
  },
  {
   "cell_type": "code",
   "execution_count": 15,
   "metadata": {
    "colab": {
     "base_uri": "https://localhost:8080/",
     "height": 204
    },
    "id": "HL4D2vH4ks3A",
    "outputId": "e739d369-68f5-4731-b55f-b907c981dadf"
   },
   "outputs": [
    {
     "data": {
      "text/html": [
       "<div>\n",
       "<style scoped>\n",
       "    .dataframe tbody tr th:only-of-type {\n",
       "        vertical-align: middle;\n",
       "    }\n",
       "\n",
       "    .dataframe tbody tr th {\n",
       "        vertical-align: top;\n",
       "    }\n",
       "\n",
       "    .dataframe thead th {\n",
       "        text-align: right;\n",
       "    }\n",
       "</style>\n",
       "<table border=\"1\" class=\"dataframe\">\n",
       "  <thead>\n",
       "    <tr style=\"text-align: right;\">\n",
       "      <th></th>\n",
       "      <th>text</th>\n",
       "      <th>toxic</th>\n",
       "    </tr>\n",
       "  </thead>\n",
       "  <tbody>\n",
       "    <tr>\n",
       "      <th>0</th>\n",
       "      <td>Explanation\\nWhy the edits made under my usern...</td>\n",
       "      <td>0</td>\n",
       "    </tr>\n",
       "    <tr>\n",
       "      <th>1</th>\n",
       "      <td>D'aww! He matches this background colour I'm s...</td>\n",
       "      <td>0</td>\n",
       "    </tr>\n",
       "    <tr>\n",
       "      <th>2</th>\n",
       "      <td>Hey man, I'm really not trying to edit war. It...</td>\n",
       "      <td>0</td>\n",
       "    </tr>\n",
       "    <tr>\n",
       "      <th>3</th>\n",
       "      <td>\"\\nMore\\nI can't make any real suggestions on ...</td>\n",
       "      <td>0</td>\n",
       "    </tr>\n",
       "    <tr>\n",
       "      <th>4</th>\n",
       "      <td>You, sir, are my hero. Any chance you remember...</td>\n",
       "      <td>0</td>\n",
       "    </tr>\n",
       "  </tbody>\n",
       "</table>\n",
       "</div>"
      ],
      "text/plain": [
       "                                                text  toxic\n",
       "0  Explanation\\nWhy the edits made under my usern...      0\n",
       "1  D'aww! He matches this background colour I'm s...      0\n",
       "2  Hey man, I'm really not trying to edit war. It...      0\n",
       "3  \"\\nMore\\nI can't make any real suggestions on ...      0\n",
       "4  You, sir, are my hero. Any chance you remember...      0"
      ]
     },
     "execution_count": 15,
     "metadata": {},
     "output_type": "execute_result"
    }
   ],
   "source": [
    "comments.head()"
   ]
  },
  {
   "cell_type": "markdown",
   "metadata": {
    "id": "rEio_u3bHOG2"
   },
   "source": [
    "## Подготовка признаков"
   ]
  },
  {
   "cell_type": "code",
   "execution_count": 16,
   "metadata": {
    "colab": {
     "base_uri": "https://localhost:8080/"
    },
    "id": "HO86saZnrAit",
    "outputId": "e0223d7f-9daf-48f6-a5d9-683536689e05"
   },
   "outputs": [
    {
     "name": "stdout",
     "output_type": "stream",
     "text": [
      "CPU times: user 1min 26s, sys: 39.9 ms, total: 1min 26s\n",
      "Wall time: 1min 26s\n"
     ]
    }
   ],
   "source": [
    "%%time\n",
    "comments['lemm_text'] = comments.text.apply(lemmas)"
   ]
  },
  {
   "cell_type": "code",
   "execution_count": 17,
   "metadata": {
    "colab": {
     "base_uri": "https://localhost:8080/"
    },
    "id": "Wflb1S-seaGb",
    "outputId": "20140303-8aed-4e95-a1b3-b354f8d29726"
   },
   "outputs": [
    {
     "data": {
      "text/plain": [
       "{'[]'}"
      ]
     },
     "execution_count": 17,
     "metadata": {},
     "output_type": "execute_result"
    }
   ],
   "source": [
    "# проверка на ненужные символы\n",
    "other_symbols = comments.lemm_text.apply(lambda x: str(re.findall(r'[^\\w\\s\\t]+|\\d+', x)))\n",
    "set(other_symbols.to_list())"
   ]
  },
  {
   "cell_type": "code",
   "execution_count": 18,
   "metadata": {
    "colab": {
     "base_uri": "https://localhost:8080/",
     "height": 204
    },
    "id": "B_zIO1XvPSnq",
    "outputId": "39e8283b-1f3c-45c9-e71d-d8cc6bf15526"
   },
   "outputs": [
    {
     "data": {
      "text/html": [
       "<div>\n",
       "<style scoped>\n",
       "    .dataframe tbody tr th:only-of-type {\n",
       "        vertical-align: middle;\n",
       "    }\n",
       "\n",
       "    .dataframe tbody tr th {\n",
       "        vertical-align: top;\n",
       "    }\n",
       "\n",
       "    .dataframe thead th {\n",
       "        text-align: right;\n",
       "    }\n",
       "</style>\n",
       "<table border=\"1\" class=\"dataframe\">\n",
       "  <thead>\n",
       "    <tr style=\"text-align: right;\">\n",
       "      <th></th>\n",
       "      <th>text</th>\n",
       "      <th>toxic</th>\n",
       "      <th>lemm_text</th>\n",
       "      <th>words</th>\n",
       "      <th>symbols</th>\n",
       "      <th>unique_words</th>\n",
       "      <th>relation</th>\n",
       "    </tr>\n",
       "  </thead>\n",
       "  <tbody>\n",
       "    <tr>\n",
       "      <th>0</th>\n",
       "      <td>Explanation\\nWhy the edits made under my usern...</td>\n",
       "      <td>0</td>\n",
       "      <td>explanation why the edits made under my userna...</td>\n",
       "      <td>46</td>\n",
       "      <td>251</td>\n",
       "      <td>41</td>\n",
       "      <td>0.891304</td>\n",
       "    </tr>\n",
       "    <tr>\n",
       "      <th>1</th>\n",
       "      <td>D'aww! He matches this background colour I'm s...</td>\n",
       "      <td>0</td>\n",
       "      <td>d aww he matches this background colour i am s...</td>\n",
       "      <td>16</td>\n",
       "      <td>89</td>\n",
       "      <td>16</td>\n",
       "      <td>1.000000</td>\n",
       "    </tr>\n",
       "    <tr>\n",
       "      <th>2</th>\n",
       "      <td>Hey man, I'm really not trying to edit war. It...</td>\n",
       "      <td>0</td>\n",
       "      <td>hey man i am really not trying to edit war it ...</td>\n",
       "      <td>44</td>\n",
       "      <td>232</td>\n",
       "      <td>41</td>\n",
       "      <td>0.931818</td>\n",
       "    </tr>\n",
       "    <tr>\n",
       "      <th>3</th>\n",
       "      <td>\"\\nMore\\nI can't make any real suggestions on ...</td>\n",
       "      <td>0</td>\n",
       "      <td>more i ca not make any real suggestions on imp...</td>\n",
       "      <td>114</td>\n",
       "      <td>605</td>\n",
       "      <td>81</td>\n",
       "      <td>0.710526</td>\n",
       "    </tr>\n",
       "    <tr>\n",
       "      <th>4</th>\n",
       "      <td>You, sir, are my hero. Any chance you remember...</td>\n",
       "      <td>0</td>\n",
       "      <td>you sir are my hero any chance you remember wh...</td>\n",
       "      <td>14</td>\n",
       "      <td>64</td>\n",
       "      <td>13</td>\n",
       "      <td>0.928571</td>\n",
       "    </tr>\n",
       "  </tbody>\n",
       "</table>\n",
       "</div>"
      ],
      "text/plain": [
       "                                                text  toxic  \\\n",
       "0  Explanation\\nWhy the edits made under my usern...      0   \n",
       "1  D'aww! He matches this background colour I'm s...      0   \n",
       "2  Hey man, I'm really not trying to edit war. It...      0   \n",
       "3  \"\\nMore\\nI can't make any real suggestions on ...      0   \n",
       "4  You, sir, are my hero. Any chance you remember...      0   \n",
       "\n",
       "                                           lemm_text  words  symbols  \\\n",
       "0  explanation why the edits made under my userna...     46      251   \n",
       "1  d aww he matches this background colour i am s...     16       89   \n",
       "2  hey man i am really not trying to edit war it ...     44      232   \n",
       "3  more i ca not make any real suggestions on imp...    114      605   \n",
       "4  you sir are my hero any chance you remember wh...     14       64   \n",
       "\n",
       "   unique_words  relation  \n",
       "0            41  0.891304  \n",
       "1            16  1.000000  \n",
       "2            41  0.931818  \n",
       "3            81  0.710526  \n",
       "4            13  0.928571  "
      ]
     },
     "execution_count": 18,
     "metadata": {},
     "output_type": "execute_result"
    }
   ],
   "source": [
    "# количество слов\n",
    "comments['words'] = comments.lemm_text.apply(lambda x: len(x.split()))\n",
    "# количество символов\n",
    "comments['symbols'] = comments.lemm_text.apply(lambda x: len(x))\n",
    "# количество уникальных слов\n",
    "comments['unique_words'] = comments.lemm_text.apply(lambda x: len(set(x.split())))\n",
    "# доля уникальных слов\n",
    "comments['relation'] = comments[['words', 'unique_words']].apply(\n",
    "    (lambda x: x['unique_words']/x['words']), axis=1)\n",
    "comments.head()"
   ]
  },
  {
   "cell_type": "markdown",
   "metadata": {
    "id": "YtLzuV_zc9jb"
   },
   "source": [
    "Посмотрим на распределения количества симвлов, слов и доли уникальных слов в тексте."
   ]
  },
  {
   "cell_type": "code",
   "execution_count": 19,
   "metadata": {
    "colab": {
     "base_uri": "https://localhost:8080/",
     "height": 338
    },
    "id": "KIBjYX-iPhtU",
    "outputId": "15589b8f-79fd-487f-8d5a-310aafc297a7"
   },
   "outputs": [
    {
     "data": {
      "image/png": "[encoded data removed]",
      "text/plain": [
       "<Figure size 1440x360 with 4 Axes>"
      ]
     },
     "metadata": {
      "needs_background": "light"
     },
     "output_type": "display_data"
    }
   ],
   "source": [
    "toxic = comments[comments.toxic == 1]\n",
    "not_toxic = comments[comments.toxic == 0]\n",
    "\n",
    "_, axes = plt.subplots(1, 4 , figsize=(20,5))\n",
    "for i, column in enumerate(['words', 'symbols', 'unique_words', 'relation']):\n",
    "  sns.distplot(toxic[column], ax=axes[i]);\n",
    "  sns.distplot(not_toxic[column], ax=axes[i]);\n",
    "  axes[i].legend(['toxic','not toxic'])"
   ]
  },
  {
   "cell_type": "code",
   "execution_count": 20,
   "metadata": {
    "colab": {
     "base_uri": "https://localhost:8080/",
     "height": 297
    },
    "id": "HtBv3Curu7FP",
    "outputId": "0fc83c79-2ff0-487a-9445-bfa45a206785"
   },
   "outputs": [
    {
     "data": {
      "text/html": [
       "<div>\n",
       "<style scoped>\n",
       "    .dataframe tbody tr th:only-of-type {\n",
       "        vertical-align: middle;\n",
       "    }\n",
       "\n",
       "    .dataframe tbody tr th {\n",
       "        vertical-align: top;\n",
       "    }\n",
       "\n",
       "    .dataframe thead th {\n",
       "        text-align: right;\n",
       "    }\n",
       "</style>\n",
       "<table border=\"1\" class=\"dataframe\">\n",
       "  <thead>\n",
       "    <tr style=\"text-align: right;\">\n",
       "      <th></th>\n",
       "      <th>words</th>\n",
       "      <th>symbols</th>\n",
       "      <th>unique_words</th>\n",
       "      <th>relation</th>\n",
       "    </tr>\n",
       "  </thead>\n",
       "  <tbody>\n",
       "    <tr>\n",
       "      <th>count</th>\n",
       "      <td>16225.000000</td>\n",
       "      <td>16225.000000</td>\n",
       "      <td>16225.000000</td>\n",
       "      <td>16225.000000</td>\n",
       "    </tr>\n",
       "    <tr>\n",
       "      <th>mean</th>\n",
       "      <td>54.102866</td>\n",
       "      <td>286.137565</td>\n",
       "      <td>31.318213</td>\n",
       "      <td>0.841095</td>\n",
       "    </tr>\n",
       "    <tr>\n",
       "      <th>std</th>\n",
       "      <td>109.991565</td>\n",
       "      <td>588.226221</td>\n",
       "      <td>36.232816</td>\n",
       "      <td>0.176216</td>\n",
       "    </tr>\n",
       "    <tr>\n",
       "      <th>min</th>\n",
       "      <td>2.000000</td>\n",
       "      <td>7.000000</td>\n",
       "      <td>1.000000</td>\n",
       "      <td>0.000800</td>\n",
       "    </tr>\n",
       "    <tr>\n",
       "      <th>25%</th>\n",
       "      <td>11.000000</td>\n",
       "      <td>56.000000</td>\n",
       "      <td>10.000000</td>\n",
       "      <td>0.768116</td>\n",
       "    </tr>\n",
       "    <tr>\n",
       "      <th>50%</th>\n",
       "      <td>23.000000</td>\n",
       "      <td>120.000000</td>\n",
       "      <td>20.000000</td>\n",
       "      <td>0.875000</td>\n",
       "    </tr>\n",
       "    <tr>\n",
       "      <th>75%</th>\n",
       "      <td>51.000000</td>\n",
       "      <td>268.000000</td>\n",
       "      <td>39.000000</td>\n",
       "      <td>1.000000</td>\n",
       "    </tr>\n",
       "    <tr>\n",
       "      <th>max</th>\n",
       "      <td>1403.000000</td>\n",
       "      <td>5417.000000</td>\n",
       "      <td>469.000000</td>\n",
       "      <td>1.000000</td>\n",
       "    </tr>\n",
       "  </tbody>\n",
       "</table>\n",
       "</div>"
      ],
      "text/plain": [
       "              words       symbols  unique_words      relation\n",
       "count  16225.000000  16225.000000  16225.000000  16225.000000\n",
       "mean      54.102866    286.137565     31.318213      0.841095\n",
       "std      109.991565    588.226221     36.232816      0.176216\n",
       "min        2.000000      7.000000      1.000000      0.000800\n",
       "25%       11.000000     56.000000     10.000000      0.768116\n",
       "50%       23.000000    120.000000     20.000000      0.875000\n",
       "75%       51.000000    268.000000     39.000000      1.000000\n",
       "max     1403.000000   5417.000000    469.000000      1.000000"
      ]
     },
     "execution_count": 20,
     "metadata": {},
     "output_type": "execute_result"
    }
   ],
   "source": [
    "comments[comments.toxic == 1][['words', 'symbols', 'unique_words', 'relation']].describe()"
   ]
  },
  {
   "cell_type": "code",
   "execution_count": 21,
   "metadata": {},
   "outputs": [
    {
     "data": {
      "text/html": [
       "<div>\n",
       "<style scoped>\n",
       "    .dataframe tbody tr th:only-of-type {\n",
       "        vertical-align: middle;\n",
       "    }\n",
       "\n",
       "    .dataframe tbody tr th {\n",
       "        vertical-align: top;\n",
       "    }\n",
       "\n",
       "    .dataframe thead th {\n",
       "        text-align: right;\n",
       "    }\n",
       "</style>\n",
       "<table border=\"1\" class=\"dataframe\">\n",
       "  <thead>\n",
       "    <tr style=\"text-align: right;\">\n",
       "      <th></th>\n",
       "      <th>words</th>\n",
       "      <th>symbols</th>\n",
       "      <th>unique_words</th>\n",
       "      <th>relation</th>\n",
       "    </tr>\n",
       "  </thead>\n",
       "  <tbody>\n",
       "    <tr>\n",
       "      <th>count</th>\n",
       "      <td>143346.000000</td>\n",
       "      <td>143346.000000</td>\n",
       "      <td>143346.000000</td>\n",
       "      <td>143339.000000</td>\n",
       "    </tr>\n",
       "    <tr>\n",
       "      <th>mean</th>\n",
       "      <td>69.679893</td>\n",
       "      <td>384.419907</td>\n",
       "      <td>46.240865</td>\n",
       "      <td>0.817241</td>\n",
       "    </tr>\n",
       "    <tr>\n",
       "      <th>std</th>\n",
       "      <td>99.704957</td>\n",
       "      <td>560.532295</td>\n",
       "      <td>48.601422</td>\n",
       "      <td>0.145436</td>\n",
       "    </tr>\n",
       "    <tr>\n",
       "      <th>min</th>\n",
       "      <td>0.000000</td>\n",
       "      <td>0.000000</td>\n",
       "      <td>0.000000</td>\n",
       "      <td>0.000800</td>\n",
       "    </tr>\n",
       "    <tr>\n",
       "      <th>25%</th>\n",
       "      <td>18.000000</td>\n",
       "      <td>94.000000</td>\n",
       "      <td>16.000000</td>\n",
       "      <td>0.720000</td>\n",
       "    </tr>\n",
       "    <tr>\n",
       "      <th>50%</th>\n",
       "      <td>38.000000</td>\n",
       "      <td>204.000000</td>\n",
       "      <td>32.000000</td>\n",
       "      <td>0.833333</td>\n",
       "    </tr>\n",
       "    <tr>\n",
       "      <th>75%</th>\n",
       "      <td>79.000000</td>\n",
       "      <td>432.000000</td>\n",
       "      <td>58.000000</td>\n",
       "      <td>0.935484</td>\n",
       "    </tr>\n",
       "    <tr>\n",
       "      <th>max</th>\n",
       "      <td>1250.000000</td>\n",
       "      <td>5238.000000</td>\n",
       "      <td>544.000000</td>\n",
       "      <td>1.000000</td>\n",
       "    </tr>\n",
       "  </tbody>\n",
       "</table>\n",
       "</div>"
      ],
      "text/plain": [
       "               words        symbols   unique_words       relation\n",
       "count  143346.000000  143346.000000  143346.000000  143339.000000\n",
       "mean       69.679893     384.419907      46.240865       0.817241\n",
       "std        99.704957     560.532295      48.601422       0.145436\n",
       "min         0.000000       0.000000       0.000000       0.000800\n",
       "25%        18.000000      94.000000      16.000000       0.720000\n",
       "50%        38.000000     204.000000      32.000000       0.833333\n",
       "75%        79.000000     432.000000      58.000000       0.935484\n",
       "max      1250.000000    5238.000000     544.000000       1.000000"
      ]
     },
     "execution_count": 21,
     "metadata": {},
     "output_type": "execute_result"
    }
   ],
   "source": [
    "comments[comments.toxic == 0][['words', 'symbols', 'unique_words', 'relation']].describe()"
   ]
  },
  {
   "cell_type": "markdown",
   "metadata": {},
   "source": [
    "В токсичных комментариях среднее значение количества слов - выше. В распределении количества символов у токсичных и нетоксичных комментариев дисперсия примерно одинаковая, но среднее значение у токсичных комментариев выше (возможно, используется много восклицательных знаков)."
   ]
  },
  {
   "cell_type": "code",
   "execution_count": 22,
   "metadata": {
    "colab": {
     "base_uri": "https://localhost:8080/",
     "height": 329
    },
    "id": "AdUs7KDWnUR9",
    "outputId": "41d07a5f-6648-4291-c207-d8e81cc538b6"
   },
   "outputs": [
    {
     "data": {
      "image/png": "[encoded data removed]",
      "text/plain": [
       "<Figure size 432x288 with 2 Axes>"
      ]
     },
     "metadata": {
      "needs_background": "light"
     },
     "output_type": "display_data"
    }
   ],
   "source": [
    "sns.heatmap(comments[['words', 'symbols', 'unique_words', 'relation', 'toxic']].corr(), annot=True);"
   ]
  },
  {
   "cell_type": "markdown",
   "metadata": {},
   "source": [
    "Из таблицы корреляции следует, что связь между токсичностью и количеством слов/символов очень слабая, но корреляция между количеством уникальных слов и токсичностью - сильнее."
   ]
  },
  {
   "cell_type": "code",
   "execution_count": 23,
   "metadata": {
    "colab": {
     "base_uri": "https://localhost:8080/"
    },
    "id": "atc-57sP7aJz",
    "outputId": "1bdebee8-8734-49a3-89ad-371c62789d42"
   },
   "outputs": [
    {
     "data": {
      "text/plain": [
       "0    143346\n",
       "1     16225\n",
       "Name: toxic, dtype: int64"
      ]
     },
     "execution_count": 23,
     "metadata": {},
     "output_type": "execute_result"
    }
   ],
   "source": [
    "# посмотрим на баланс классов\n",
    "comments.toxic.value_counts()"
   ]
  },
  {
   "cell_type": "code",
   "execution_count": 24,
   "metadata": {
    "colab": {
     "base_uri": "https://localhost:8080/",
     "height": 295
    },
    "id": "kBN8956Sd61E",
    "outputId": "ac174361-4f4a-4f24-baf3-d6e040a02245"
   },
   "outputs": [
    {
     "data": {
      "image/png": "[encoded data removed]",
      "text/plain": [
       "<Figure size 432x288 with 1 Axes>"
      ]
     },
     "metadata": {
      "needs_background": "light"
     },
     "output_type": "display_data"
    }
   ],
   "source": [
    "sns.histplot(comments.toxic, bins=2);\n",
    "plt.title('Disbalance of classes');"
   ]
  },
  {
   "cell_type": "markdown",
   "metadata": {
    "id": "dfgmZ-OdfA1o"
   },
   "source": [
    "Видим значительный дисбаланс классов. Устраним его, увеличив количество токсичных комментариев."
   ]
  },
  {
   "cell_type": "code",
   "execution_count": 25,
   "metadata": {},
   "outputs": [
    {
     "name": "stdout",
     "output_type": "stream",
     "text": [
      "(111699, 7) (47872, 7)\n"
     ]
    }
   ],
   "source": [
    "# разделим выборку на тестовую и обучающую\n",
    "train, test = train_test_split(comments, random_state=42, test_size=0.3)\n",
    "print(train.shape, test.shape)"
   ]
  },
  {
   "cell_type": "markdown",
   "metadata": {},
   "source": [
    "Сбалансируем обучающую выборку."
   ]
  },
  {
   "cell_type": "code",
   "execution_count": 26,
   "metadata": {},
   "outputs": [
    {
     "name": "stdout",
     "output_type": "stream",
     "text": [
      "Train sample: (111699, 7) -> (191205, 7)\n"
     ]
    },
    {
     "data": {
      "image/png": "[encoded data removed]",
      "text/plain": [
       "<Figure size 432x288 with 1 Axes>"
      ]
     },
     "metadata": {
      "needs_background": "light"
     },
     "output_type": "display_data"
    }
   ],
   "source": [
    "# получим индексы\n",
    "toxic_index = train[train.toxic == 1].index\n",
    "not_toxic_index = train[train.toxic == 0].index\n",
    "\n",
    "train_balanced = train.loc[not_toxic_index]\n",
    "# во сколько раз увеличить\n",
    "N = int(len(not_toxic_index)/len(toxic_index))\n",
    "\n",
    "toxic = pd.concat([train.loc[toxic_index]]*N)\n",
    "train_balanced = pd.concat([train_balanced, toxic]).sample(frac=1).reset_index(drop=True)\n",
    "\n",
    "print('Train sample:', train.shape, '->', train_balanced.shape)\n",
    "\n",
    "# получили сбалансированную выборку\n",
    "sns.histplot(train_balanced.toxic, bins=2);\n",
    "plt.title('Disbalance of classes');"
   ]
  },
  {
   "cell_type": "code",
   "execution_count": 27,
   "metadata": {},
   "outputs": [
    {
     "name": "stdout",
     "output_type": "stream",
     "text": [
      "(111699,) (111699,) (47872,) (47872,)\n"
     ]
    }
   ],
   "source": [
    "# разделим признаки и целевую переменную\n",
    "\n",
    "X_train = train['lemm_text']\n",
    "y_train_tf = train['toxic']\n",
    "X_test = test['lemm_text']\n",
    "y_test_tf = test['toxic']\n",
    "\n",
    "print(X_train.shape, y_train_tf.shape, X_test.shape, y_test_tf.shape)"
   ]
  },
  {
   "cell_type": "code",
   "execution_count": 28,
   "metadata": {},
   "outputs": [],
   "source": [
    "# обучим TF IDF на обучающей выборке\n",
    "stop_words = set(stopwords.words('english'))\n",
    "count_tfidf = TfidfVectorizer(stop_words=stop_words, ngram_range=(1, 1))\n",
    "tfidf = count_tfidf.fit(X_train.values)"
   ]
  },
  {
   "cell_type": "code",
   "execution_count": 29,
   "metadata": {},
   "outputs": [
    {
     "name": "stdout",
     "output_type": "stream",
     "text": [
      "(111699, 145275) (47872, 145275)\n"
     ]
    }
   ],
   "source": [
    "# преобразуем обучающую и тестовую выборки в TF-IDF\n",
    "X_train_tf = tfidf.transform(X_train.values)\n",
    "X_test_tf = tfidf.transform(X_test.values)\n",
    "print(X_train_tf.shape, X_test_tf.shape)"
   ]
  },
  {
   "cell_type": "markdown",
   "metadata": {
    "id": "uEVEKSOYks3K"
   },
   "source": [
    "## 2. Обучение"
   ]
  },
  {
   "cell_type": "markdown",
   "metadata": {
    "id": "ogDvuLDF2yae"
   },
   "source": [
    "Обучим модели на основе алгоритмов:\n",
    "* логистическая регрессия *LogisticRegression()* с использованием *эмбеддингов* в качестве признаков\n",
    "* логистическая регрессия *LogisticRegression()* с использованием признаков в виде *TF-IDF*\n",
    "* стохастический градиентный спуск *SGDClassifier() (признаки TF-IDF)*\n",
    "* случайный лес *RandomForestClassifier() (признаки TF-IDF)*"
   ]
  },
  {
   "cell_type": "code",
   "execution_count": 30,
   "metadata": {
    "id": "JDsEQ35DXRbF"
   },
   "outputs": [],
   "source": [
    "scores_data = pd.DataFrame()"
   ]
  },
  {
   "cell_type": "markdown",
   "metadata": {
    "id": "YFkVAYitIrTc"
   },
   "source": [
    "### LogisticRegression"
   ]
  },
  {
   "cell_type": "code",
   "execution_count": 31,
   "metadata": {
    "colab": {
     "base_uri": "https://localhost:8080/"
    },
    "id": "Ax52HTDM23xD",
    "outputId": "9b7c54f9-3cfb-42ba-a4e6-88cded966aea"
   },
   "outputs": [
    {
     "name": "stdout",
     "output_type": "stream",
     "text": [
      "CPU times: user 84.4 ms, sys: 161 ms, total: 245 ms\n",
      "Wall time: 8.52 s\n"
     ]
    },
    {
     "data": {
      "text/plain": [
       "LogisticRegression(class_weight='balanced', n_jobs=-1, random_state=42)"
      ]
     },
     "execution_count": 31,
     "metadata": {},
     "output_type": "execute_result"
    }
   ],
   "source": [
    "%%time\n",
    "\n",
    "log_tf = LogisticRegression(class_weight='balanced', penalty='l2', random_state=42, n_jobs=-1)\n",
    "log_tf.fit(X_train_tf, y_train_tf)"
   ]
  },
  {
   "cell_type": "code",
   "execution_count": 32,
   "metadata": {
    "colab": {
     "base_uri": "https://localhost:8080/"
    },
    "id": "XpraUVKXYE8p",
    "outputId": "c75309a3-5566-4333-80cd-6effa33b19db"
   },
   "outputs": [
    {
     "name": "stdout",
     "output_type": "stream",
     "text": [
      "Train (validation) F1: [0.74451675 0.7434555  0.74616858]\n"
     ]
    }
   ],
   "source": [
    "cross_valid(log_tf, X_train_tf, y_train_tf)"
   ]
  },
  {
   "cell_type": "code",
   "execution_count": 33,
   "metadata": {
    "colab": {
     "base_uri": "https://localhost:8080/",
     "height": 173
    },
    "id": "L78rlQ2sZQgY",
    "outputId": "eb01b220-9f49-4301-f735-43cc3db39128"
   },
   "outputs": [
    {
     "data": {
      "text/html": [
       "<div>\n",
       "<style scoped>\n",
       "    .dataframe tbody tr th:only-of-type {\n",
       "        vertical-align: middle;\n",
       "    }\n",
       "\n",
       "    .dataframe tbody tr th {\n",
       "        vertical-align: top;\n",
       "    }\n",
       "\n",
       "    .dataframe thead th {\n",
       "        text-align: right;\n",
       "    }\n",
       "</style>\n",
       "<table border=\"1\" class=\"dataframe\">\n",
       "  <thead>\n",
       "    <tr style=\"text-align: right;\">\n",
       "      <th></th>\n",
       "      <th>model</th>\n",
       "      <th>metric</th>\n",
       "      <th>train</th>\n",
       "      <th>test</th>\n",
       "    </tr>\n",
       "  </thead>\n",
       "  <tbody>\n",
       "    <tr>\n",
       "      <th>0</th>\n",
       "      <td>LogisticRegression_TFIDF</td>\n",
       "      <td>precision</td>\n",
       "      <td>0.744697</td>\n",
       "      <td>0.676234</td>\n",
       "    </tr>\n",
       "    <tr>\n",
       "      <th>1</th>\n",
       "      <td>LogisticRegression_TFIDF</td>\n",
       "      <td>recall</td>\n",
       "      <td>0.970505</td>\n",
       "      <td>0.847134</td>\n",
       "    </tr>\n",
       "    <tr>\n",
       "      <th>2</th>\n",
       "      <td>LogisticRegression_TFIDF</td>\n",
       "      <td>f1</td>\n",
       "      <td>0.842737</td>\n",
       "      <td>0.752098</td>\n",
       "    </tr>\n",
       "    <tr>\n",
       "      <th>3</th>\n",
       "      <td>LogisticRegression_TFIDF</td>\n",
       "      <td>roc_auc</td>\n",
       "      <td>0.966422</td>\n",
       "      <td>0.900616</td>\n",
       "    </tr>\n",
       "  </tbody>\n",
       "</table>\n",
       "</div>"
      ],
      "text/plain": [
       "                      model     metric     train      test\n",
       "0  LogisticRegression_TFIDF  precision  0.744697  0.676234\n",
       "1  LogisticRegression_TFIDF     recall  0.970505  0.847134\n",
       "2  LogisticRegression_TFIDF         f1  0.842737  0.752098\n",
       "3  LogisticRegression_TFIDF    roc_auc  0.966422  0.900616"
      ]
     },
     "execution_count": 33,
     "metadata": {},
     "output_type": "execute_result"
    }
   ],
   "source": [
    "log_tf_score = score_stat(log_tf, X_train_tf, y_train_tf, X_test_tf, y_test_tf, model_name='LogisticRegression_TFIDF')\n",
    "log_tf_score"
   ]
  },
  {
   "cell_type": "code",
   "execution_count": 34,
   "metadata": {
    "id": "iQVN0GZsX_1W"
   },
   "outputs": [],
   "source": [
    "scores_data = pd.concat([scores_data,log_tf_score])"
   ]
  },
  {
   "cell_type": "markdown",
   "metadata": {
    "id": "RfZ2xeMFEpG3"
   },
   "source": [
    "### SGDClassifier"
   ]
  },
  {
   "cell_type": "code",
   "execution_count": 35,
   "metadata": {
    "colab": {
     "base_uri": "https://localhost:8080/"
    },
    "id": "A9TAqPBNw_3u",
    "outputId": "f92f6c6f-248f-4b8d-fd9b-47bda8b7bfcb"
   },
   "outputs": [
    {
     "name": "stdout",
     "output_type": "stream",
     "text": [
      "CPU times: user 8.17 s, sys: 103 ms, total: 8.27 s\n",
      "Wall time: 8.19 s\n"
     ]
    },
    {
     "data": {
      "text/plain": [
       "Pipeline(steps=[('standardscaler', StandardScaler(with_mean=False)),\n",
       "                ('sgdclassifier',\n",
       "                 SGDClassifier(alpha=0.01, l1_ratio=0.19, max_iter=80000,\n",
       "                               penalty='elasticnet', random_state=42,\n",
       "                               tol=0.0001, verbose=False))])"
      ]
     },
     "execution_count": 35,
     "metadata": {},
     "output_type": "execute_result"
    }
   ],
   "source": [
    "%%time\n",
    "\n",
    "clf = SGDClassifier(max_iter=80000, tol=1e-4, penalty='elasticnet', alpha=0.01, verbose=False, \n",
    "                    l1_ratio=0.19, loss='hinge', random_state=42, learning_rate='optimal')\n",
    "\n",
    "sdg = make_pipeline(StandardScaler(with_mean=False), clf)\n",
    "sdg.fit(X_train_tf, y_train_tf)"
   ]
  },
  {
   "cell_type": "code",
   "execution_count": 36,
   "metadata": {
    "colab": {
     "base_uri": "https://localhost:8080/"
    },
    "id": "5avouxel6Jxz",
    "outputId": "776e1321-47c0-42d2-c445-7d8ba6427226"
   },
   "outputs": [
    {
     "name": "stdout",
     "output_type": "stream",
     "text": [
      "Train (validation) F1: [0.73630033 0.74556575 0.74141104]\n"
     ]
    }
   ],
   "source": [
    "cross_valid(sdg, X_train_tf, y_train_tf)"
   ]
  },
  {
   "cell_type": "code",
   "execution_count": 37,
   "metadata": {
    "colab": {
     "base_uri": "https://localhost:8080/",
     "height": 173
    },
    "id": "ybPCMplGxbtp",
    "outputId": "74c55560-e810-4796-b968-ba3992710afa"
   },
   "outputs": [
    {
     "data": {
      "text/html": [
       "<div>\n",
       "<style scoped>\n",
       "    .dataframe tbody tr th:only-of-type {\n",
       "        vertical-align: middle;\n",
       "    }\n",
       "\n",
       "    .dataframe tbody tr th {\n",
       "        vertical-align: top;\n",
       "    }\n",
       "\n",
       "    .dataframe thead th {\n",
       "        text-align: right;\n",
       "    }\n",
       "</style>\n",
       "<table border=\"1\" class=\"dataframe\">\n",
       "  <thead>\n",
       "    <tr style=\"text-align: right;\">\n",
       "      <th></th>\n",
       "      <th>model</th>\n",
       "      <th>metric</th>\n",
       "      <th>train</th>\n",
       "      <th>test</th>\n",
       "    </tr>\n",
       "  </thead>\n",
       "  <tbody>\n",
       "    <tr>\n",
       "      <th>0</th>\n",
       "      <td>SGDClassifier_TFIDF</td>\n",
       "      <td>precision</td>\n",
       "      <td>0.937167</td>\n",
       "      <td>0.901588</td>\n",
       "    </tr>\n",
       "    <tr>\n",
       "      <th>1</th>\n",
       "      <td>SGDClassifier_TFIDF</td>\n",
       "      <td>recall</td>\n",
       "      <td>0.697306</td>\n",
       "      <td>0.653174</td>\n",
       "    </tr>\n",
       "    <tr>\n",
       "      <th>2</th>\n",
       "      <td>SGDClassifier_TFIDF</td>\n",
       "      <td>f1</td>\n",
       "      <td>0.799637</td>\n",
       "      <td>0.757536</td>\n",
       "    </tr>\n",
       "    <tr>\n",
       "      <th>3</th>\n",
       "      <td>SGDClassifier_TFIDF</td>\n",
       "      <td>roc_auc</td>\n",
       "      <td>0.846007</td>\n",
       "      <td>0.822553</td>\n",
       "    </tr>\n",
       "  </tbody>\n",
       "</table>\n",
       "</div>"
      ],
      "text/plain": [
       "                 model     metric     train      test\n",
       "0  SGDClassifier_TFIDF  precision  0.937167  0.901588\n",
       "1  SGDClassifier_TFIDF     recall  0.697306  0.653174\n",
       "2  SGDClassifier_TFIDF         f1  0.799637  0.757536\n",
       "3  SGDClassifier_TFIDF    roc_auc  0.846007  0.822553"
      ]
     },
     "execution_count": 37,
     "metadata": {},
     "output_type": "execute_result"
    }
   ],
   "source": [
    "sdg_score = score_stat(sdg, X_train_tf, y_train_tf, X_test_tf, y_test_tf, model_name='SGDClassifier_TFIDF')\n",
    "sdg_score"
   ]
  },
  {
   "cell_type": "code",
   "execution_count": 38,
   "metadata": {
    "id": "Nk6FguHgYkG_"
   },
   "outputs": [],
   "source": [
    "scores_data = pd.concat([scores_data, sdg_score])"
   ]
  },
  {
   "cell_type": "markdown",
   "metadata": {
    "id": "TyGKl8EfE70i"
   },
   "source": [
    "### RandomForestClassifier"
   ]
  },
  {
   "cell_type": "code",
   "execution_count": 39,
   "metadata": {
    "colab": {
     "base_uri": "https://localhost:8080/"
    },
    "id": "CXsPEOmIYUEk",
    "outputId": "dbf2217e-b2b1-4f6b-e7c1-03f94aee26a4"
   },
   "outputs": [
    {
     "name": "stdout",
     "output_type": "stream",
     "text": [
      "CPU times: user 7min 46s, sys: 1.31 s, total: 7min 47s\n",
      "Wall time: 2min 22s\n"
     ]
    },
    {
     "data": {
      "text/plain": [
       "RandomForestClassifier(class_weight='balanced', max_depth=50,\n",
       "                       min_samples_leaf=5, n_estimators=1000, n_jobs=-1,\n",
       "                       oob_score=True, random_state=42)"
      ]
     },
     "execution_count": 39,
     "metadata": {},
     "output_type": "execute_result"
    }
   ],
   "source": [
    "%%time\n",
    "\n",
    "rf = RandomForestClassifier(n_estimators=1000, max_depth=50, oob_score=True, \n",
    "                            random_state=42, class_weight='balanced', n_jobs=-1, \n",
    "                            criterion='gini', min_samples_leaf=5)\n",
    "rf.fit(X_train_tf, y_train_tf)"
   ]
  },
  {
   "cell_type": "code",
   "execution_count": 40,
   "metadata": {
    "colab": {
     "base_uri": "https://localhost:8080/"
    },
    "id": "gjgphCKS6XwG",
    "outputId": "3100da4e-5da7-4fd4-c4cc-85648e828d1a"
   },
   "outputs": [
    {
     "name": "stdout",
     "output_type": "stream",
     "text": [
      "Train (validation) F1: [0.46148202 0.46004807 0.46371915]\n"
     ]
    }
   ],
   "source": [
    "cross_valid(rf, X_train_tf, y_train_tf)"
   ]
  },
  {
   "cell_type": "code",
   "execution_count": 41,
   "metadata": {
    "colab": {
     "base_uri": "https://localhost:8080/",
     "height": 173
    },
    "id": "pEdgdbW3cODR",
    "outputId": "248cc0a4-b6d7-465e-f8f5-de46a4cf8227"
   },
   "outputs": [
    {
     "data": {
      "text/html": [
       "<div>\n",
       "<style scoped>\n",
       "    .dataframe tbody tr th:only-of-type {\n",
       "        vertical-align: middle;\n",
       "    }\n",
       "\n",
       "    .dataframe tbody tr th {\n",
       "        vertical-align: top;\n",
       "    }\n",
       "\n",
       "    .dataframe thead th {\n",
       "        text-align: right;\n",
       "    }\n",
       "</style>\n",
       "<table border=\"1\" class=\"dataframe\">\n",
       "  <thead>\n",
       "    <tr style=\"text-align: right;\">\n",
       "      <th></th>\n",
       "      <th>model</th>\n",
       "      <th>metric</th>\n",
       "      <th>train</th>\n",
       "      <th>test</th>\n",
       "    </tr>\n",
       "  </thead>\n",
       "  <tbody>\n",
       "    <tr>\n",
       "      <th>0</th>\n",
       "      <td>RandomForestClassifier_TFIDF</td>\n",
       "      <td>precision</td>\n",
       "      <td>0.337829</td>\n",
       "      <td>0.314969</td>\n",
       "    </tr>\n",
       "    <tr>\n",
       "      <th>1</th>\n",
       "      <td>RandomForestClassifier_TFIDF</td>\n",
       "      <td>recall</td>\n",
       "      <td>0.906410</td>\n",
       "      <td>0.838710</td>\n",
       "    </tr>\n",
       "    <tr>\n",
       "      <th>2</th>\n",
       "      <td>RandomForestClassifier_TFIDF</td>\n",
       "      <td>f1</td>\n",
       "      <td>0.492207</td>\n",
       "      <td>0.457957</td>\n",
       "    </tr>\n",
       "    <tr>\n",
       "      <th>3</th>\n",
       "      <td>RandomForestClassifier_TFIDF</td>\n",
       "      <td>roc_auc</td>\n",
       "      <td>0.852653</td>\n",
       "      <td>0.816134</td>\n",
       "    </tr>\n",
       "  </tbody>\n",
       "</table>\n",
       "</div>"
      ],
      "text/plain": [
       "                          model     metric     train      test\n",
       "0  RandomForestClassifier_TFIDF  precision  0.337829  0.314969\n",
       "1  RandomForestClassifier_TFIDF     recall  0.906410  0.838710\n",
       "2  RandomForestClassifier_TFIDF         f1  0.492207  0.457957\n",
       "3  RandomForestClassifier_TFIDF    roc_auc  0.852653  0.816134"
      ]
     },
     "execution_count": 41,
     "metadata": {},
     "output_type": "execute_result"
    }
   ],
   "source": [
    "rf_score = score_stat(rf, X_train_tf, y_train_tf, X_test_tf, y_test_tf, \n",
    "                      model_name='RandomForestClassifier_TFIDF')\n",
    "rf_score"
   ]
  },
  {
   "cell_type": "code",
   "execution_count": 42,
   "metadata": {
    "id": "Q10BKXqjZXz2"
   },
   "outputs": [],
   "source": [
    "scores_data = pd.concat([scores_data, rf_score])"
   ]
  },
  {
   "cell_type": "markdown",
   "metadata": {
    "id": "10spHv8oks3V"
   },
   "source": [
    "## 3. Выводы"
   ]
  },
  {
   "cell_type": "code",
   "execution_count": 43,
   "metadata": {
    "colab": {
     "base_uri": "https://localhost:8080/",
     "height": 669
    },
    "id": "eDUknZFcks3X",
    "outputId": "633138fa-c2e1-4648-e901-3b6ac3191f3b"
   },
   "outputs": [
    {
     "data": {
      "text/html": [
       "<div>\n",
       "<style scoped>\n",
       "    .dataframe tbody tr th:only-of-type {\n",
       "        vertical-align: middle;\n",
       "    }\n",
       "\n",
       "    .dataframe tbody tr th {\n",
       "        vertical-align: top;\n",
       "    }\n",
       "\n",
       "    .dataframe thead th {\n",
       "        text-align: right;\n",
       "    }\n",
       "</style>\n",
       "<table border=\"1\" class=\"dataframe\">\n",
       "  <thead>\n",
       "    <tr style=\"text-align: right;\">\n",
       "      <th></th>\n",
       "      <th>model</th>\n",
       "      <th>metric</th>\n",
       "      <th>train</th>\n",
       "      <th>test</th>\n",
       "    </tr>\n",
       "  </thead>\n",
       "  <tbody>\n",
       "    <tr>\n",
       "      <th>0</th>\n",
       "      <td>LogisticRegression_TFIDF</td>\n",
       "      <td>precision</td>\n",
       "      <td>0.744697</td>\n",
       "      <td>0.676234</td>\n",
       "    </tr>\n",
       "    <tr>\n",
       "      <th>1</th>\n",
       "      <td>LogisticRegression_TFIDF</td>\n",
       "      <td>recall</td>\n",
       "      <td>0.970505</td>\n",
       "      <td>0.847134</td>\n",
       "    </tr>\n",
       "    <tr>\n",
       "      <th>2</th>\n",
       "      <td>LogisticRegression_TFIDF</td>\n",
       "      <td>f1</td>\n",
       "      <td>0.842737</td>\n",
       "      <td>0.752098</td>\n",
       "    </tr>\n",
       "    <tr>\n",
       "      <th>3</th>\n",
       "      <td>LogisticRegression_TFIDF</td>\n",
       "      <td>roc_auc</td>\n",
       "      <td>0.966422</td>\n",
       "      <td>0.900616</td>\n",
       "    </tr>\n",
       "    <tr>\n",
       "      <th>0</th>\n",
       "      <td>SGDClassifier_TFIDF</td>\n",
       "      <td>precision</td>\n",
       "      <td>0.937167</td>\n",
       "      <td>0.901588</td>\n",
       "    </tr>\n",
       "    <tr>\n",
       "      <th>1</th>\n",
       "      <td>SGDClassifier_TFIDF</td>\n",
       "      <td>recall</td>\n",
       "      <td>0.697306</td>\n",
       "      <td>0.653174</td>\n",
       "    </tr>\n",
       "    <tr>\n",
       "      <th>2</th>\n",
       "      <td>SGDClassifier_TFIDF</td>\n",
       "      <td>f1</td>\n",
       "      <td>0.799637</td>\n",
       "      <td>0.757536</td>\n",
       "    </tr>\n",
       "    <tr>\n",
       "      <th>3</th>\n",
       "      <td>SGDClassifier_TFIDF</td>\n",
       "      <td>roc_auc</td>\n",
       "      <td>0.846007</td>\n",
       "      <td>0.822553</td>\n",
       "    </tr>\n",
       "    <tr>\n",
       "      <th>0</th>\n",
       "      <td>RandomForestClassifier_TFIDF</td>\n",
       "      <td>precision</td>\n",
       "      <td>0.337829</td>\n",
       "      <td>0.314969</td>\n",
       "    </tr>\n",
       "    <tr>\n",
       "      <th>1</th>\n",
       "      <td>RandomForestClassifier_TFIDF</td>\n",
       "      <td>recall</td>\n",
       "      <td>0.906410</td>\n",
       "      <td>0.838710</td>\n",
       "    </tr>\n",
       "    <tr>\n",
       "      <th>2</th>\n",
       "      <td>RandomForestClassifier_TFIDF</td>\n",
       "      <td>f1</td>\n",
       "      <td>0.492207</td>\n",
       "      <td>0.457957</td>\n",
       "    </tr>\n",
       "    <tr>\n",
       "      <th>3</th>\n",
       "      <td>RandomForestClassifier_TFIDF</td>\n",
       "      <td>roc_auc</td>\n",
       "      <td>0.852653</td>\n",
       "      <td>0.816134</td>\n",
       "    </tr>\n",
       "  </tbody>\n",
       "</table>\n",
       "</div>"
      ],
      "text/plain": [
       "                          model     metric     train      test\n",
       "0      LogisticRegression_TFIDF  precision  0.744697  0.676234\n",
       "1      LogisticRegression_TFIDF     recall  0.970505  0.847134\n",
       "2      LogisticRegression_TFIDF         f1  0.842737  0.752098\n",
       "3      LogisticRegression_TFIDF    roc_auc  0.966422  0.900616\n",
       "0           SGDClassifier_TFIDF  precision  0.937167  0.901588\n",
       "1           SGDClassifier_TFIDF     recall  0.697306  0.653174\n",
       "2           SGDClassifier_TFIDF         f1  0.799637  0.757536\n",
       "3           SGDClassifier_TFIDF    roc_auc  0.846007  0.822553\n",
       "0  RandomForestClassifier_TFIDF  precision  0.337829  0.314969\n",
       "1  RandomForestClassifier_TFIDF     recall  0.906410  0.838710\n",
       "2  RandomForestClassifier_TFIDF         f1  0.492207  0.457957\n",
       "3  RandomForestClassifier_TFIDF    roc_auc  0.852653  0.816134"
      ]
     },
     "execution_count": 43,
     "metadata": {},
     "output_type": "execute_result"
    }
   ],
   "source": [
    "# посмотрим на собранную статистику\n",
    "scores_data"
   ]
  },
  {
   "cell_type": "code",
   "execution_count": 44,
   "metadata": {
    "colab": {
     "base_uri": "https://localhost:8080/",
     "height": 399
    },
    "id": "eHeBRBQAeQD6",
    "outputId": "a7e889f1-8f44-4d09-8c24-bcae4bd13f51"
   },
   "outputs": [
    {
     "data": {
      "image/png": "[encoded data removed]",
      "text/plain": [
       "<Figure size 547.625x360 with 1 Axes>"
      ]
     },
     "metadata": {
      "needs_background": "light"
     },
     "output_type": "display_data"
    }
   ],
   "source": [
    "sns.catplot(x=\"metric\", y=\"train\", hue='model', kind=\"bar\", data=scores_data);\n",
    "plt.title(\"Metric's values for train sample\");"
   ]
  },
  {
   "cell_type": "code",
   "execution_count": 45,
   "metadata": {
    "colab": {
     "base_uri": "https://localhost:8080/",
     "height": 399
    },
    "id": "6VsV-Fq_wfwi",
    "outputId": "5f472531-9c5f-4676-82d2-68dea623f490"
   },
   "outputs": [
    {
     "data": {
      "image/png": "[encoded data removed]",
      "text/plain": [
       "<Figure size 547.625x360 with 1 Axes>"
      ]
     },
     "metadata": {
      "needs_background": "light"
     },
     "output_type": "display_data"
    }
   ],
   "source": [
    "sns.catplot(x=\"metric\", y=\"test\", hue='model', kind=\"bar\", data=scores_data);\n",
    "plt.title(\"Metric's values for test sample\");"
   ]
  },
  {
   "cell_type": "markdown",
   "metadata": {
    "id": "GEQDaiXIxmtb"
   },
   "source": [
    "## Вывод\n",
    "\n",
    "В результате исследования задачи выявлено, что сильное влияние на качество моделей оказывает дисбаланс классов. В реузльтате обучения и тестирования собрана статистика значений разных метрик:\n",
    "* быстрее всего обучается алгоритм *LogisticRegression* на эмбеддингах, однако получение таких признаков занимает большое количество времени;\n",
    "* среди моделей, обученных на признаках TF-IDF, самые быстрые *LogisticRegression* и *SGDClassifier*;\n",
    "* долго обучается алгоритм RandomForestClassifier, качество ниже требуемого.\n",
    "\n",
    "Наиболее подходящим алгоритмом по качеству и времени обучения выбрана логистическая регрессия LogisticRegression() - F1=0.75."
   ]
  }
 ],
 "metadata": {
  "colab": {
   "collapsed_sections": [],
   "name": "p14_toxic_comments.ipynb",
   "provenance": [],
   "toc_visible": true
  },
  "kernelspec": {
   "display_name": "Python 3",
   "language": "python",
   "name": "python3"
  },
  "language_info": {
   "codemirror_mode": {
    "name": "ipython",
    "version": 3
   },
   "file_extension": ".py",
   "mimetype": "text/x-python",
   "name": "python",
   "nbconvert_exporter": "python",
   "pygments_lexer": "ipython3",
   "version": "3.7.6"
  },
  "toc": {
   "base_numbering": 1,
   "nav_menu": {},
   "number_sections": false,
   "sideBar": true,
   "skip_h1_title": false,
   "title_cell": "Table of Contents",
   "title_sidebar": "Contents",
   "toc_cell": false,
   "toc_position": {
    "height": "calc(100% - 180px)",
    "left": "10px",
    "top": "150px",
    "width": "273.188px"
   },
   "toc_section_display": true,
   "toc_window_display": true
  }
 },
 "nbformat": 4,
 "nbformat_minor": 1
}
