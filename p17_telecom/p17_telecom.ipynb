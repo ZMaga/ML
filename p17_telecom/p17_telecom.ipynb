{
 "cells": [
  {
   "cell_type": "markdown",
   "metadata": {
    "id": "Ro4yNPuorCY4"
   },
   "source": [
    "# Отток клиентов"
   ]
  },
  {
   "cell_type": "markdown",
   "metadata": {
    "id": "qyCvsqTuGLPu"
   },
   "source": [
    "## Описание данных\n",
    "\n",
    "Предоставляется два основных типа услуг: \n",
    "1. Стационарная телефонная связь. Возможно подключение телефонного аппарата к нескольким линиям одновременно.\n",
    "2. Интернет. Подключение может быть двух типов: через телефонную линию (*DSL*), оптоволоконный кабель (*Fiber optic*).  \n",
    "\n",
    "Также доступны такие услуги:\n",
    "- Антивирус (*DeviceProtection*);\n",
    "- Блокировка небезопасных сайтов (*OnlineSecurity*);\n",
    "- Выделенная линия технической поддержки (*TechSupport*);\n",
    "- Облачное хранилище файлов для резервного копирования данных (*OnlineBackup*);\n",
    "- Стриминговое телевидение (*StreamingTV*);\n",
    "- Каталог фильмов (*StreamingMovies*).\n",
    "\n",
    "Варианты договора:\n",
    "- Ежемесячная оплата;\n",
    "- Договор на 1 год;\n",
    "- Договор на 2 года.\n",
    "\n",
    "Доступны различные способы расчёта и возможность получения электронного чека.\n",
    "\n",
    "\n",
    "**Файлы с данными:**\n",
    "\n",
    "- `contract.csv` — информация о договоре;\n",
    "- `personal.csv` — персональные данные клиента;\n",
    "- `internet.csv` — информация об интернет-услугах;\n",
    "- `phone.csv` — информация об услугах телефонии.\n",
    "\n",
    "\n",
    "Информация о договорах актуальна на 1 февраля 2020. Признак `customerID` - содержит код клиента."
   ]
  },
  {
   "cell_type": "markdown",
   "metadata": {
    "id": "bPlS-OFXGLQJ"
   },
   "source": [
    "## Импорт библиотек"
   ]
  },
  {
   "cell_type": "code",
   "execution_count": 1,
   "metadata": {
    "id": "g1aSmfSg6Mq5"
   },
   "outputs": [],
   "source": [
    "!pip install -U  numpy pandas seaborn lightgbm catboost 1>/dev/null"
   ]
  },
  {
   "cell_type": "code",
   "execution_count": 2,
   "metadata": {
    "id": "OHnskc7qGLQK"
   },
   "outputs": [],
   "source": [
    "import warnings\n",
    "warnings.filterwarnings('ignore')\n",
    "\n",
    "# загрузка/сохранение данных\n",
    "import requests\n",
    "from urllib.parse import urlencode\n",
    "\n",
    "import re\n",
    "import os\n",
    "import numpy as np\n",
    "import pandas as pd\n",
    "import seaborn as sns\n",
    "import lightgbm as lgb\n",
    "import scipy.stats as st\n",
    "import matplotlib.pyplot as plt\n",
    "\n",
    "from pprint import pprint\n",
    "from sklearn.utils import shuffle\n",
    "from sklearn.metrics import f1_score, make_scorer, precision_score\n",
    "from sklearn.metrics import accuracy_score, roc_auc_score, recall_score\n",
    "from sklearn.model_selection import train_test_split, RandomizedSearchCV, GridSearchCV\n",
    "\n",
    "from xgboost import XGBClassifier\n",
    "from lightgbm import LGBMClassifier\n",
    "from catboost import CatBoostClassifier\n",
    "from sklearn.ensemble import RandomForestClassifier\n",
    "from sklearn.linear_model import LogisticRegression"
   ]
  },
  {
   "cell_type": "markdown",
   "metadata": {
    "id": "rf-U8R6-GLQL"
   },
   "source": [
    "## Функции"
   ]
  },
  {
   "cell_type": "code",
   "execution_count": 3,
   "metadata": {
    "id": "kSJy33Y8GLQL"
   },
   "outputs": [],
   "source": [
    "RANDOM = 12345\n",
    "\n",
    "\n",
    "def get_url(link):\n",
    "    \"\"\"\n",
    "    Получение адреса для скачивания с Яндекс.Диск\n",
    "    link - ссылка на Яндекс.Диск\n",
    "    \"\"\"\n",
    "    print(\"Run\", link)\n",
    "    base_url = 'https://cloud-api.yandex.net/v1/disk/public/resources/download?'\n",
    "    final_url = base_url + urlencode(dict(public_key=link))\n",
    "    response = requests.get(final_url)\n",
    "    url = response.json()['href']\n",
    "    return url\n",
    "\n",
    "\n",
    "def get_data_info(df):\n",
    "  \"\"\"\n",
    "  Получение информации о датафрейме\n",
    "  df - датафрейм\n",
    "  \"\"\"\n",
    "  line = \"\\n\" + \"=\"*100 +\"\\n\"\n",
    "  print(\"Количество данных:\", df.shape)\n",
    "  print(\"Дубликаты:        \", df.duplicated().sum(), line)\n",
    "  print(df.info(), line)\n",
    "  print(df.describe())\n",
    "\n",
    "\n",
    "def build_axes(count, cols=3, y_delta=1, x_delta=1):\n",
    "  \"\"\"\n",
    "  Получение объектов координат группы графиков\n",
    "  count   - количество графиков\n",
    "  cols    - количество столбцов\n",
    "  y_delta - - во сколько наз увеличить график по оси Y\n",
    "  x_delta - - во сколько наз увеличить график по оси X\n",
    "  \"\"\"\n",
    "  ost = 1 if count % cols else 0\n",
    "  rows = count // cols + ost\n",
    "  cnt = 0\n",
    "  _, axes = plt.subplots(rows, cols, figsize=(cols*5*x_delta, rows*5*y_delta))\n",
    "  if rows == 1: axes = np.array([axes])\n",
    "  return axes\n",
    "\n",
    "\n",
    "def features_info(df, features, cols=3, rot=0, kind='dist', y_delta=1, x_delta=1):\n",
    "  \"\"\"\n",
    "  Построение группы гравиков\n",
    "  df - датафрейм\n",
    "  features - признаки\n",
    "  cols     - количество столбцов\n",
    "  rot      - поворот подписей оси X\n",
    "  kind     - вид графика\n",
    "  y_delta  - во сколько наз увеличить график по оси Y\n",
    "  x_delta  - во сколько наз увеличить график по оси X\n",
    "  \"\"\"\n",
    "\n",
    "  cnt = 0\n",
    "  n = len(features)\n",
    "  axes = build_axes(n, cols=cols, y_delta=y_delta, x_delta=x_delta)\n",
    "  rows, cols = axes.shape\n",
    "\n",
    "  for i in range(rows):\n",
    "      for j in range(cols):\n",
    "          if cnt == n: break\n",
    "          feature = features[cnt]\n",
    "          ax = axes[i][j]\n",
    "\n",
    "          if kind == 'hist':\n",
    "            sns.histplot(df[feature], ax=ax)\n",
    "            title = feature + \" histogram\"\n",
    "          elif kind == 'dist':\n",
    "            sns.distplot(df[feature], ax=ax)\n",
    "            title = feature + \" distribution\"\n",
    "          else:\n",
    "            sns.boxplot(df[feature], ax=ax);\n",
    "            title = feature + \" boxplot\"\n",
    "\n",
    "          ax.set_title(title)\n",
    "          ax.tick_params(axis='x', labelrotation=rot)\n",
    "          cnt += 1\n",
    "  plt.tight_layout()\n",
    "\n",
    "\n",
    "def check_df_nan(data):\n",
    "    \"\"\"\n",
    "    Получение количества пропусков в процентном соотношении (и типы данных \n",
    "    для каждого столбца с пропусками)\n",
    "    data - таблица с данными\n",
    "    \"\"\"\n",
    "    \n",
    "    df_length = data.shape[0]\n",
    "    null_stat = {}\n",
    "\n",
    "    for col in data.columns:\n",
    "        col_nan = data[data[col].isnull()].shape[0]\n",
    "        pct = col_nan / df_length * 100\n",
    "\n",
    "        if pct > 0:\n",
    "            null_stat[col] = [round(pct, 1), data[col].dtype]\n",
    "    \n",
    "    info = (pd.DataFrame\n",
    "     .from_dict(null_stat, orient='index', columns=['percentage', 'data_type'])\n",
    "     .sort_values(by='percentage', ascending=False)\n",
    "    )\n",
    "    \n",
    "    return info\n",
    "\n",
    "\n",
    "def churn_stat(df, group):\n",
    "  \"\"\"\n",
    "  Получение статистики в группировке по целевому признаку Churn\n",
    "  \"\"\"\n",
    "\n",
    "  N = len(df)\n",
    "  group_df = df.groupby([group])['Churn'].agg(['count','sum'])\n",
    "  group_df.columns = ['Total', 'Churn']\n",
    "  group_df['Part'] =round((group_df.Churn / group_df.Total), 2)\n",
    "  group_df['Total part'] =round((group_df.Churn / N), 2)\n",
    "  return group_df\n",
    "\n",
    "\n",
    "def get_importance(X, y):\n",
    "  \"\"\"\n",
    "  Получение важности признаков\n",
    "  X - признаки\n",
    "  y - целевой признак\n",
    "  \"\"\"\n",
    "\n",
    "  importance = []\n",
    "  for _ in range(10):\n",
    "    model = RandomForestClassifier(\n",
    "        n_estimators=100, max_depth=30,\n",
    "    )\n",
    "    model.fit(X, y)\n",
    "    importance.append(model.feature_importances_)\n",
    "\n",
    "  df = pd.DataFrame(importance).transpose()\n",
    "  df.index = X.columns\n",
    "  df['avg'] = df[df.columns].apply('mean', axis=1)\n",
    "  return df[['avg']].sort_values(by='avg', ascending=False)\n",
    "\n",
    "\n",
    "def score_stat(clf, X, y, X_t, y_t):\n",
    "  \"\"\"\n",
    "  Вывод статистики значений метрик заданной модели\n",
    "  clf - обученная модель\n",
    "  X   - признаки обучающей выборки\n",
    "  y   - целевой признак обучающей выборки\n",
    "  X_t - признаки тестовой выборки\n",
    "  y_t - целевой признак тестовой выборки\n",
    "  \"\"\"\n",
    "  pred_train = clf.predict(X)\n",
    "  pred_test  = clf.predict(X_t)\n",
    "  score_dict = {'Accuracy': [accuracy_score(y, pred_train), accuracy_score(y_t, pred_test)],\n",
    "                'ROC-AUC': [roc_auc_score(y, pred_train), roc_auc_score(y_t, pred_test)],\n",
    "                'Precision': [precision_score(y, pred_train), precision_score(y_t, pred_test)],\n",
    "                'Recall': [recall_score(y, pred_train), recall_score(y_t, pred_test)],\n",
    "                'F1': [f1_score(y, pred_train), f1_score(y_t, pred_test)]\n",
    "                }\n",
    "  return pd.DataFrame(score_dict, index=['train', 'test']).transpose()\n",
    "\n",
    "\n",
    "def random_search(estimator, params, X, y, iter=100, scoring='roc_auc', cv=5, v=1):\n",
    "  \"\"\"\n",
    "  Поиск параментров по сетке с помощью RandomizedSearchCV()\n",
    "  estimator - заданный алгоритм\n",
    "  params    - сетка параметров\n",
    "  iter      - количество итераций\n",
    "  X         - признаки\n",
    "  y         - целевой признак\n",
    "  scoring   - метрика для оценки\n",
    "  cv        - количество фолдов\n",
    "  v         - значение verbose\n",
    "  \"\"\"\n",
    "  clf = RandomizedSearchCV(estimator, params, n_iter=iter, scoring=scoring, \n",
    "                    n_jobs=-1, cv=cv, verbose=v, random_state=RANDOM)\n",
    "  clf.fit(X, y)\n",
    "  print('The best params:', clf.best_params_)\n",
    "  return clf.best_estimator_\n",
    "\n",
    "\n",
    "def grid_search(estimator, params, X, y, scoring='roc_auc', cv=5, v=1):\n",
    "  \"\"\"\n",
    "  Поиск параментров по сетке с помощью GridSearchCV()\n",
    "  estimator - заданный алгоритм\n",
    "  params    - сетка параметров\n",
    "  X         - признаки\n",
    "  y         - целевой признак\n",
    "  scoring   - метрика для оценки\n",
    "  cv        - количество фолдов\n",
    "  v         - значение verbose\n",
    "  \"\"\"\n",
    "  clf = GridSearchCV(estimator, params, scoring=scoring, \n",
    "                    n_jobs=-1, cv=cv, verbose=v).fit(X, y)\n",
    "  print('\\nThe best score: ', clf.best_score_)\n",
    "  print('\\nThe best params:', clf.best_params_) \n",
    "  # return clf.best_estimator_\n",
    "  return clf\n",
    "\n",
    "\n",
    "def get_balanced(df, y, n=2, c=1):\n",
    "  \"\"\"\n",
    "  Балансировка заданного класса\n",
    "  df - датафрейм \n",
    "  y  - имя целевого признака\n",
    "  n  - во сколько раз увеличить требуемый класс\n",
    "  c  - класс, который нужно увеличить\n",
    "  \"\"\"\n",
    "  print('\\nBefore:')\n",
    "  print(df[y].value_counts())\n",
    "\n",
    "  ones  = df[df[y] == c]\n",
    "  other = df[df[y] != c]\n",
    "  df_list = [other]\n",
    "  df_list.extend([ones]*n)\n",
    "  balanced_df = shuffle(pd.concat(df_list), random_state=RANDOM)\n",
    "\n",
    "  print('\\nAfter:')\n",
    "  print(balanced_df[y].value_counts())\n",
    "  return balanced_df\n",
    "\n",
    "\n",
    "def split_data(df, y):\n",
    "  \"\"\"\n",
    "  Разделение признаков и целевой переменной\n",
    "  df - датафрейм \n",
    "  y  - имя целевого признака\n",
    "  \"\"\"\n",
    "  return df.drop(y, axis=1), df[y]"
   ]
  },
  {
   "cell_type": "code",
   "execution_count": 4,
   "metadata": {
    "id": "g634LPkQGLQM"
   },
   "outputs": [],
   "source": [
    "DATA_CONTRACT = \"https://yadi.sk/d/J0ACBWNzDaeGew\"\n",
    "DATA_INTERNET = \"https://yadi.sk/d/_seiIhzeBbcoDQ\"\n",
    "DATA_PERSONAL = \"https://yadi.sk/d/wbi8YswJZm64WA\"\n",
    "DATA_PHONE    = \"https://yadi.sk/d/DxUji4OeUyAtwg\""
   ]
  },
  {
   "cell_type": "markdown",
   "metadata": {
    "id": "dwn43JKqGLQM"
   },
   "source": [
    "## Исследовательский анализ данных"
   ]
  },
  {
   "cell_type": "markdown",
   "metadata": {
    "id": "yADtnK_nGLQN"
   },
   "source": [
    "### contract"
   ]
  },
  {
   "cell_type": "code",
   "execution_count": 5,
   "metadata": {
    "colab": {
     "base_uri": "https://localhost:8080/",
     "height": 204
    },
    "id": "4PK7riBbGLQN",
    "outputId": "6a71a386-2e73-42e5-aae2-379b65aa53b7"
   },
   "outputs": [
    {
     "name": "stdout",
     "output_type": "stream",
     "text": [
      "Run https://yadi.sk/d/J0ACBWNzDaeGew\n"
     ]
    },
    {
     "data": {
      "text/html": [
       "<div>\n",
       "<style scoped>\n",
       "    .dataframe tbody tr th:only-of-type {\n",
       "        vertical-align: middle;\n",
       "    }\n",
       "\n",
       "    .dataframe tbody tr th {\n",
       "        vertical-align: top;\n",
       "    }\n",
       "\n",
       "    .dataframe thead th {\n",
       "        text-align: right;\n",
       "    }\n",
       "</style>\n",
       "<table border=\"1\" class=\"dataframe\">\n",
       "  <thead>\n",
       "    <tr style=\"text-align: right;\">\n",
       "      <th></th>\n",
       "      <th>customerID</th>\n",
       "      <th>BeginDate</th>\n",
       "      <th>EndDate</th>\n",
       "      <th>Type</th>\n",
       "      <th>PaperlessBilling</th>\n",
       "      <th>PaymentMethod</th>\n",
       "      <th>MonthlyCharges</th>\n",
       "      <th>TotalCharges</th>\n",
       "    </tr>\n",
       "  </thead>\n",
       "  <tbody>\n",
       "    <tr>\n",
       "      <th>0</th>\n",
       "      <td>7590-VHVEG</td>\n",
       "      <td>2020-01-01</td>\n",
       "      <td>No</td>\n",
       "      <td>Month-to-month</td>\n",
       "      <td>Yes</td>\n",
       "      <td>Electronic check</td>\n",
       "      <td>29.85</td>\n",
       "      <td>29.85</td>\n",
       "    </tr>\n",
       "    <tr>\n",
       "      <th>1</th>\n",
       "      <td>5575-GNVDE</td>\n",
       "      <td>2017-04-01</td>\n",
       "      <td>No</td>\n",
       "      <td>One year</td>\n",
       "      <td>No</td>\n",
       "      <td>Mailed check</td>\n",
       "      <td>56.95</td>\n",
       "      <td>1889.5</td>\n",
       "    </tr>\n",
       "    <tr>\n",
       "      <th>2</th>\n",
       "      <td>3668-QPYBK</td>\n",
       "      <td>2019-10-01</td>\n",
       "      <td>2019-12-01 00:00:00</td>\n",
       "      <td>Month-to-month</td>\n",
       "      <td>Yes</td>\n",
       "      <td>Mailed check</td>\n",
       "      <td>53.85</td>\n",
       "      <td>108.15</td>\n",
       "    </tr>\n",
       "    <tr>\n",
       "      <th>3</th>\n",
       "      <td>7795-CFOCW</td>\n",
       "      <td>2016-05-01</td>\n",
       "      <td>No</td>\n",
       "      <td>One year</td>\n",
       "      <td>No</td>\n",
       "      <td>Bank transfer (automatic)</td>\n",
       "      <td>42.30</td>\n",
       "      <td>1840.75</td>\n",
       "    </tr>\n",
       "    <tr>\n",
       "      <th>4</th>\n",
       "      <td>9237-HQITU</td>\n",
       "      <td>2019-09-01</td>\n",
       "      <td>2019-11-01 00:00:00</td>\n",
       "      <td>Month-to-month</td>\n",
       "      <td>Yes</td>\n",
       "      <td>Electronic check</td>\n",
       "      <td>70.70</td>\n",
       "      <td>151.65</td>\n",
       "    </tr>\n",
       "  </tbody>\n",
       "</table>\n",
       "</div>"
      ],
      "text/plain": [
       "   customerID   BeginDate              EndDate            Type  \\\n",
       "0  7590-VHVEG  2020-01-01                   No  Month-to-month   \n",
       "1  5575-GNVDE  2017-04-01                   No        One year   \n",
       "2  3668-QPYBK  2019-10-01  2019-12-01 00:00:00  Month-to-month   \n",
       "3  7795-CFOCW  2016-05-01                   No        One year   \n",
       "4  9237-HQITU  2019-09-01  2019-11-01 00:00:00  Month-to-month   \n",
       "\n",
       "  PaperlessBilling              PaymentMethod  MonthlyCharges TotalCharges  \n",
       "0              Yes           Electronic check           29.85        29.85  \n",
       "1               No               Mailed check           56.95       1889.5  \n",
       "2              Yes               Mailed check           53.85       108.15  \n",
       "3               No  Bank transfer (automatic)           42.30      1840.75  \n",
       "4              Yes           Electronic check           70.70       151.65  "
      ]
     },
     "execution_count": 5,
     "metadata": {},
     "output_type": "execute_result"
    }
   ],
   "source": [
    "contract = pd.read_csv(get_url(DATA_CONTRACT))\n",
    "contract.head()"
   ]
  },
  {
   "cell_type": "code",
   "execution_count": 6,
   "metadata": {
    "colab": {
     "base_uri": "https://localhost:8080/"
    },
    "id": "3AHQ5AqSTrbZ",
    "outputId": "f6c6d0a0-9316-406f-89af-dba80b25bbf3"
   },
   "outputs": [
    {
     "data": {
      "text/plain": [
       "array(['No', '2019-12-01 00:00:00', '2019-11-01 00:00:00',\n",
       "       '2019-10-01 00:00:00', '2020-01-01 00:00:00'], dtype=object)"
      ]
     },
     "execution_count": 6,
     "metadata": {},
     "output_type": "execute_result"
    }
   ],
   "source": [
    "contract.EndDate.unique()"
   ]
  },
  {
   "cell_type": "code",
   "execution_count": 7,
   "metadata": {
    "colab": {
     "base_uri": "https://localhost:8080/"
    },
    "id": "a9acAMTxGLQP",
    "outputId": "026800b7-25c2-484a-bb10-9a7c4cd4e09e"
   },
   "outputs": [
    {
     "name": "stdout",
     "output_type": "stream",
     "text": [
      "Количество данных: (7043, 8)\n",
      "Дубликаты:         0 \n",
      "====================================================================================================\n",
      "\n",
      "<class 'pandas.core.frame.DataFrame'>\n",
      "RangeIndex: 7043 entries, 0 to 7042\n",
      "Data columns (total 8 columns):\n",
      " #   Column            Non-Null Count  Dtype  \n",
      "---  ------            --------------  -----  \n",
      " 0   customerID        7043 non-null   object \n",
      " 1   BeginDate         7043 non-null   object \n",
      " 2   EndDate           7043 non-null   object \n",
      " 3   Type              7043 non-null   object \n",
      " 4   PaperlessBilling  7043 non-null   object \n",
      " 5   PaymentMethod     7043 non-null   object \n",
      " 6   MonthlyCharges    7043 non-null   float64\n",
      " 7   TotalCharges      7043 non-null   object \n",
      "dtypes: float64(1), object(7)\n",
      "memory usage: 440.3+ KB\n",
      "None \n",
      "====================================================================================================\n",
      "\n",
      "       MonthlyCharges\n",
      "count     7043.000000\n",
      "mean        64.761692\n",
      "std         30.090047\n",
      "min         18.250000\n",
      "25%         35.500000\n",
      "50%         70.350000\n",
      "75%         89.850000\n",
      "max        118.750000\n"
     ]
    }
   ],
   "source": [
    "get_data_info(contract)"
   ]
  },
  {
   "cell_type": "code",
   "execution_count": 8,
   "metadata": {
    "colab": {
     "base_uri": "https://localhost:8080/",
     "height": 390
    },
    "id": "eilpoxBJGLQQ",
    "outputId": "5cd31479-2344-4fde-9c5e-8522ffca019f"
   },
   "outputs": [
    {
     "data": {
      "text/html": [
       "<div>\n",
       "<style scoped>\n",
       "    .dataframe tbody tr th:only-of-type {\n",
       "        vertical-align: middle;\n",
       "    }\n",
       "\n",
       "    .dataframe tbody tr th {\n",
       "        vertical-align: top;\n",
       "    }\n",
       "\n",
       "    .dataframe thead th {\n",
       "        text-align: right;\n",
       "    }\n",
       "</style>\n",
       "<table border=\"1\" class=\"dataframe\">\n",
       "  <thead>\n",
       "    <tr style=\"text-align: right;\">\n",
       "      <th></th>\n",
       "      <th>customerID</th>\n",
       "      <th>BeginDate</th>\n",
       "      <th>EndDate</th>\n",
       "      <th>Type</th>\n",
       "      <th>PaperlessBilling</th>\n",
       "      <th>PaymentMethod</th>\n",
       "      <th>MonthlyCharges</th>\n",
       "      <th>TotalCharges</th>\n",
       "    </tr>\n",
       "  </thead>\n",
       "  <tbody>\n",
       "    <tr>\n",
       "      <th>488</th>\n",
       "      <td>4472-LVYGI</td>\n",
       "      <td>2020-02-01</td>\n",
       "      <td>No</td>\n",
       "      <td>Two year</td>\n",
       "      <td>Yes</td>\n",
       "      <td>Bank transfer (automatic)</td>\n",
       "      <td>52.55</td>\n",
       "      <td></td>\n",
       "    </tr>\n",
       "    <tr>\n",
       "      <th>753</th>\n",
       "      <td>3115-CZMZD</td>\n",
       "      <td>2020-02-01</td>\n",
       "      <td>No</td>\n",
       "      <td>Two year</td>\n",
       "      <td>No</td>\n",
       "      <td>Mailed check</td>\n",
       "      <td>20.25</td>\n",
       "      <td></td>\n",
       "    </tr>\n",
       "    <tr>\n",
       "      <th>936</th>\n",
       "      <td>5709-LVOEQ</td>\n",
       "      <td>2020-02-01</td>\n",
       "      <td>No</td>\n",
       "      <td>Two year</td>\n",
       "      <td>No</td>\n",
       "      <td>Mailed check</td>\n",
       "      <td>80.85</td>\n",
       "      <td></td>\n",
       "    </tr>\n",
       "    <tr>\n",
       "      <th>1082</th>\n",
       "      <td>4367-NUYAO</td>\n",
       "      <td>2020-02-01</td>\n",
       "      <td>No</td>\n",
       "      <td>Two year</td>\n",
       "      <td>No</td>\n",
       "      <td>Mailed check</td>\n",
       "      <td>25.75</td>\n",
       "      <td></td>\n",
       "    </tr>\n",
       "    <tr>\n",
       "      <th>1340</th>\n",
       "      <td>1371-DWPAZ</td>\n",
       "      <td>2020-02-01</td>\n",
       "      <td>No</td>\n",
       "      <td>Two year</td>\n",
       "      <td>No</td>\n",
       "      <td>Credit card (automatic)</td>\n",
       "      <td>56.05</td>\n",
       "      <td></td>\n",
       "    </tr>\n",
       "    <tr>\n",
       "      <th>3331</th>\n",
       "      <td>7644-OMVMY</td>\n",
       "      <td>2020-02-01</td>\n",
       "      <td>No</td>\n",
       "      <td>Two year</td>\n",
       "      <td>No</td>\n",
       "      <td>Mailed check</td>\n",
       "      <td>19.85</td>\n",
       "      <td></td>\n",
       "    </tr>\n",
       "    <tr>\n",
       "      <th>3826</th>\n",
       "      <td>3213-VVOLG</td>\n",
       "      <td>2020-02-01</td>\n",
       "      <td>No</td>\n",
       "      <td>Two year</td>\n",
       "      <td>No</td>\n",
       "      <td>Mailed check</td>\n",
       "      <td>25.35</td>\n",
       "      <td></td>\n",
       "    </tr>\n",
       "    <tr>\n",
       "      <th>4380</th>\n",
       "      <td>2520-SGTTA</td>\n",
       "      <td>2020-02-01</td>\n",
       "      <td>No</td>\n",
       "      <td>Two year</td>\n",
       "      <td>No</td>\n",
       "      <td>Mailed check</td>\n",
       "      <td>20.00</td>\n",
       "      <td></td>\n",
       "    </tr>\n",
       "    <tr>\n",
       "      <th>5218</th>\n",
       "      <td>2923-ARZLG</td>\n",
       "      <td>2020-02-01</td>\n",
       "      <td>No</td>\n",
       "      <td>One year</td>\n",
       "      <td>Yes</td>\n",
       "      <td>Mailed check</td>\n",
       "      <td>19.70</td>\n",
       "      <td></td>\n",
       "    </tr>\n",
       "    <tr>\n",
       "      <th>6670</th>\n",
       "      <td>4075-WKNIU</td>\n",
       "      <td>2020-02-01</td>\n",
       "      <td>No</td>\n",
       "      <td>Two year</td>\n",
       "      <td>No</td>\n",
       "      <td>Mailed check</td>\n",
       "      <td>73.35</td>\n",
       "      <td></td>\n",
       "    </tr>\n",
       "    <tr>\n",
       "      <th>6754</th>\n",
       "      <td>2775-SEFEE</td>\n",
       "      <td>2020-02-01</td>\n",
       "      <td>No</td>\n",
       "      <td>Two year</td>\n",
       "      <td>Yes</td>\n",
       "      <td>Bank transfer (automatic)</td>\n",
       "      <td>61.90</td>\n",
       "      <td></td>\n",
       "    </tr>\n",
       "  </tbody>\n",
       "</table>\n",
       "</div>"
      ],
      "text/plain": [
       "      customerID   BeginDate EndDate      Type PaperlessBilling  \\\n",
       "488   4472-LVYGI  2020-02-01      No  Two year              Yes   \n",
       "753   3115-CZMZD  2020-02-01      No  Two year               No   \n",
       "936   5709-LVOEQ  2020-02-01      No  Two year               No   \n",
       "1082  4367-NUYAO  2020-02-01      No  Two year               No   \n",
       "1340  1371-DWPAZ  2020-02-01      No  Two year               No   \n",
       "3331  7644-OMVMY  2020-02-01      No  Two year               No   \n",
       "3826  3213-VVOLG  2020-02-01      No  Two year               No   \n",
       "4380  2520-SGTTA  2020-02-01      No  Two year               No   \n",
       "5218  2923-ARZLG  2020-02-01      No  One year              Yes   \n",
       "6670  4075-WKNIU  2020-02-01      No  Two year               No   \n",
       "6754  2775-SEFEE  2020-02-01      No  Two year              Yes   \n",
       "\n",
       "                  PaymentMethod  MonthlyCharges TotalCharges  \n",
       "488   Bank transfer (automatic)           52.55               \n",
       "753                Mailed check           20.25               \n",
       "936                Mailed check           80.85               \n",
       "1082               Mailed check           25.75               \n",
       "1340    Credit card (automatic)           56.05               \n",
       "3331               Mailed check           19.85               \n",
       "3826               Mailed check           25.35               \n",
       "4380               Mailed check           20.00               \n",
       "5218               Mailed check           19.70               \n",
       "6670               Mailed check           73.35               \n",
       "6754  Bank transfer (automatic)           61.90               "
      ]
     },
     "execution_count": 8,
     "metadata": {},
     "output_type": "execute_result"
    }
   ],
   "source": [
    "# проверяем TotalCharges на неявные пропуски\n",
    "nan_index = contract[contract.TotalCharges.str.contains('[a-zA-Z\\s]', regex=True)].index\n",
    "contract.loc[nan_index, :]"
   ]
  },
  {
   "cell_type": "markdown",
   "metadata": {},
   "source": [
    "Обнаружены неявные пропуски в признаке *TotalCharges*. Заменим их на 0, исправим тип данных на float."
   ]
  },
  {
   "cell_type": "code",
   "execution_count": 9,
   "metadata": {
    "colab": {
     "base_uri": "https://localhost:8080/",
     "height": 390
    },
    "id": "mLi72fOSSZNE",
    "outputId": "1a4ad52a-11ab-493a-c7b2-af1c077d389d"
   },
   "outputs": [
    {
     "data": {
      "text/html": [
       "<div>\n",
       "<style scoped>\n",
       "    .dataframe tbody tr th:only-of-type {\n",
       "        vertical-align: middle;\n",
       "    }\n",
       "\n",
       "    .dataframe tbody tr th {\n",
       "        vertical-align: top;\n",
       "    }\n",
       "\n",
       "    .dataframe thead th {\n",
       "        text-align: right;\n",
       "    }\n",
       "</style>\n",
       "<table border=\"1\" class=\"dataframe\">\n",
       "  <thead>\n",
       "    <tr style=\"text-align: right;\">\n",
       "      <th></th>\n",
       "      <th>BeginDate</th>\n",
       "      <th>EndDate</th>\n",
       "    </tr>\n",
       "  </thead>\n",
       "  <tbody>\n",
       "  </tbody>\n",
       "</table>\n",
       "</div>"
      ],
      "text/plain": [
       "Empty DataFrame\n",
       "Columns: [BeginDate, EndDate]\n",
       "Index: []"
      ]
     },
     "execution_count": 9,
     "metadata": {},
     "output_type": "execute_result"
    }
   ],
   "source": [
    "# Посмотрим на продолжительность работы с клиентами, у которых пропуски в TotalCharges\n",
    "index = contract[contract.TotalCharges == 0].index\n",
    "contract.loc[index, ['BeginDate', 'EndDate']]"
   ]
  },
  {
   "cell_type": "markdown",
   "metadata": {
    "id": "BkOLRVKTS5CH"
   },
   "source": [
    "Данные предоставлены на момент 01.02.2020. Соответственно 11 клиентов с пропусками - новые клиенты.\n",
    "\n"
   ]
  },
  {
   "cell_type": "code",
   "execution_count": 10,
   "metadata": {
    "colab": {
     "base_uri": "https://localhost:8080/"
    },
    "id": "o6KWBlM9GLQR",
    "outputId": "b0b87b29-cd09-4059-c73f-6a9c599d88ae"
   },
   "outputs": [
    {
     "name": "stdout",
     "output_type": "stream",
     "text": [
      "Пропуски в TotalCharges: 0\n"
     ]
    }
   ],
   "source": [
    "contract.loc[nan_index, 'TotalCharges'] = 0\n",
    "contract['TotalCharges'] = contract.TotalCharges.astype('float')\n",
    "print('Пропуски в TotalCharges:', contract.TotalCharges.isna().sum())"
   ]
  },
  {
   "cell_type": "code",
   "execution_count": 11,
   "metadata": {
    "id": "jRnILaB-GLQR"
   },
   "outputs": [],
   "source": [
    "# Исправим типы данных для других признаков.\n",
    "contract['BeginDate'] = contract.BeginDate.astype('datetime64')"
   ]
  },
  {
   "cell_type": "code",
   "execution_count": 12,
   "metadata": {
    "colab": {
     "base_uri": "https://localhost:8080/",
     "height": 369
    },
    "id": "YBRO1aRUGLQU",
    "outputId": "1bf60cc3-908b-4e38-bb02-bb9e06827a7b"
   },
   "outputs": [
    {
     "data": {
      "image/png": "[encoded data removed]",
      "text/plain": [
       "<Figure size 1440x360 with 4 Axes>"
      ]
     },
     "metadata": {
      "needs_background": "light"
     },
     "output_type": "display_data"
    }
   ],
   "source": [
    "# Информация о значениях других категориальных признаках\n",
    "features_info(contract, ['EndDate', 'Type', 'PaperlessBilling', 'PaymentMethod'], rot=45, kind='hist', cols=4)"
   ]
  },
  {
   "cell_type": "code",
   "execution_count": 13,
   "metadata": {
    "colab": {
     "base_uri": "https://localhost:8080/",
     "height": 369
    },
    "id": "CBiAczdfGLQU",
    "outputId": "d85db6cf-c505-4bdf-bfa3-3186bc670a72"
   },
   "outputs": [
    {
     "data": {
      "image/png": "[encoded data removed]",
      "text/plain": [
       "<Figure size 720x360 with 2 Axes>"
      ]
     },
     "metadata": {
      "needs_background": "light"
     },
     "output_type": "display_data"
    }
   ],
   "source": [
    "# распределение числовых признаков\n",
    "features_info(contract, ['MonthlyCharges', 'TotalCharges'], cols=2, kind='dist')"
   ]
  },
  {
   "cell_type": "code",
   "execution_count": 14,
   "metadata": {
    "colab": {
     "base_uri": "https://localhost:8080/",
     "height": 261
    },
    "id": "iXCHiCQOGLQV",
    "outputId": "e5c833fe-32e7-4fc7-86ee-b662ce68b1d3"
   },
   "outputs": [
    {
     "data": {
      "image/png": "[encoded data removed]",
      "text/plain": [
       "<Figure size 1008x252 with 2 Axes>"
      ]
     },
     "metadata": {
      "needs_background": "light"
     },
     "output_type": "display_data"
    }
   ],
   "source": [
    "features_info(contract, ['MonthlyCharges', 'TotalCharges'], cols=2, kind='box', y_delta=0.7, x_delta=1.4)"
   ]
  },
  {
   "cell_type": "markdown",
   "metadata": {
    "id": "al0VQ_8dGLQW"
   },
   "source": [
    "**Вывод**\n",
    "\n",
    "* В данных о ежемесячных платежах есть пропуски (заполнены)\n",
    "* Дубликаты отсутствуют\n",
    "* Исправлены типы данных для признаков\n",
    "* Признаки *MonthlyCharges, TotalCharges* - числовые; BeginDate - дата; остальные - категориальные\n",
    "* *EndDate* - в неверном формате, будущая целевая переменная\n",
    "\n",
    "Распределение признаков *MonthlyCharges,TotalCharges* не нормальное - не симметрично и не унимодально. Наблюдается большой пик около минимальных значений. Из диаграммы рассеяния следует, что в этих данных нет выбросов."
   ]
  },
  {
   "cell_type": "markdown",
   "metadata": {
    "id": "4e4YWVaFGLQW"
   },
   "source": [
    "### internet"
   ]
  },
  {
   "cell_type": "code",
   "execution_count": 15,
   "metadata": {
    "colab": {
     "base_uri": "https://localhost:8080/",
     "height": 204
    },
    "id": "WKSZ-pT6GLQW",
    "outputId": "f9d8f882-48ec-4db7-850a-8f557369e1e9"
   },
   "outputs": [
    {
     "name": "stdout",
     "output_type": "stream",
     "text": [
      "Run https://yadi.sk/d/_seiIhzeBbcoDQ\n"
     ]
    },
    {
     "data": {
      "text/html": [
       "<div>\n",
       "<style scoped>\n",
       "    .dataframe tbody tr th:only-of-type {\n",
       "        vertical-align: middle;\n",
       "    }\n",
       "\n",
       "    .dataframe tbody tr th {\n",
       "        vertical-align: top;\n",
       "    }\n",
       "\n",
       "    .dataframe thead th {\n",
       "        text-align: right;\n",
       "    }\n",
       "</style>\n",
       "<table border=\"1\" class=\"dataframe\">\n",
       "  <thead>\n",
       "    <tr style=\"text-align: right;\">\n",
       "      <th></th>\n",
       "      <th>customerID</th>\n",
       "      <th>InternetService</th>\n",
       "      <th>OnlineSecurity</th>\n",
       "      <th>OnlineBackup</th>\n",
       "      <th>DeviceProtection</th>\n",
       "      <th>TechSupport</th>\n",
       "      <th>StreamingTV</th>\n",
       "      <th>StreamingMovies</th>\n",
       "    </tr>\n",
       "  </thead>\n",
       "  <tbody>\n",
       "    <tr>\n",
       "      <th>0</th>\n",
       "      <td>7590-VHVEG</td>\n",
       "      <td>DSL</td>\n",
       "      <td>No</td>\n",
       "      <td>Yes</td>\n",
       "      <td>No</td>\n",
       "      <td>No</td>\n",
       "      <td>No</td>\n",
       "      <td>No</td>\n",
       "    </tr>\n",
       "    <tr>\n",
       "      <th>1</th>\n",
       "      <td>5575-GNVDE</td>\n",
       "      <td>DSL</td>\n",
       "      <td>Yes</td>\n",
       "      <td>No</td>\n",
       "      <td>Yes</td>\n",
       "      <td>No</td>\n",
       "      <td>No</td>\n",
       "      <td>No</td>\n",
       "    </tr>\n",
       "    <tr>\n",
       "      <th>2</th>\n",
       "      <td>3668-QPYBK</td>\n",
       "      <td>DSL</td>\n",
       "      <td>Yes</td>\n",
       "      <td>Yes</td>\n",
       "      <td>No</td>\n",
       "      <td>No</td>\n",
       "      <td>No</td>\n",
       "      <td>No</td>\n",
       "    </tr>\n",
       "    <tr>\n",
       "      <th>3</th>\n",
       "      <td>7795-CFOCW</td>\n",
       "      <td>DSL</td>\n",
       "      <td>Yes</td>\n",
       "      <td>No</td>\n",
       "      <td>Yes</td>\n",
       "      <td>Yes</td>\n",
       "      <td>No</td>\n",
       "      <td>No</td>\n",
       "    </tr>\n",
       "    <tr>\n",
       "      <th>4</th>\n",
       "      <td>9237-HQITU</td>\n",
       "      <td>Fiber optic</td>\n",
       "      <td>No</td>\n",
       "      <td>No</td>\n",
       "      <td>No</td>\n",
       "      <td>No</td>\n",
       "      <td>No</td>\n",
       "      <td>No</td>\n",
       "    </tr>\n",
       "  </tbody>\n",
       "</table>\n",
       "</div>"
      ],
      "text/plain": [
       "   customerID InternetService OnlineSecurity OnlineBackup DeviceProtection  \\\n",
       "0  7590-VHVEG             DSL             No          Yes               No   \n",
       "1  5575-GNVDE             DSL            Yes           No              Yes   \n",
       "2  3668-QPYBK             DSL            Yes          Yes               No   \n",
       "3  7795-CFOCW             DSL            Yes           No              Yes   \n",
       "4  9237-HQITU     Fiber optic             No           No               No   \n",
       "\n",
       "  TechSupport StreamingTV StreamingMovies  \n",
       "0          No          No              No  \n",
       "1          No          No              No  \n",
       "2          No          No              No  \n",
       "3         Yes          No              No  \n",
       "4          No          No              No  "
      ]
     },
     "execution_count": 15,
     "metadata": {},
     "output_type": "execute_result"
    }
   ],
   "source": [
    "internet = pd.read_csv(get_url(DATA_INTERNET))\n",
    "internet.head()"
   ]
  },
  {
   "cell_type": "code",
   "execution_count": 16,
   "metadata": {
    "colab": {
     "base_uri": "https://localhost:8080/"
    },
    "id": "3gSJD5YUuyTR",
    "outputId": "7f035f63-1d28-4691-dd1a-deec30c64f12"
   },
   "outputs": [
    {
     "name": "stdout",
     "output_type": "stream",
     "text": [
      "Количество данных: (5517, 8)\n",
      "Дубликаты:         0 \n",
      "====================================================================================================\n",
      "\n",
      "<class 'pandas.core.frame.DataFrame'>\n",
      "RangeIndex: 5517 entries, 0 to 5516\n",
      "Data columns (total 8 columns):\n",
      " #   Column            Non-Null Count  Dtype \n",
      "---  ------            --------------  ----- \n",
      " 0   customerID        5517 non-null   object\n",
      " 1   InternetService   5517 non-null   object\n",
      " 2   OnlineSecurity    5517 non-null   object\n",
      " 3   OnlineBackup      5517 non-null   object\n",
      " 4   DeviceProtection  5517 non-null   object\n",
      " 5   TechSupport       5517 non-null   object\n",
      " 6   StreamingTV       5517 non-null   object\n",
      " 7   StreamingMovies   5517 non-null   object\n",
      "dtypes: object(8)\n",
      "memory usage: 344.9+ KB\n",
      "None \n",
      "====================================================================================================\n",
      "\n",
      "        customerID InternetService OnlineSecurity OnlineBackup  \\\n",
      "count         5517            5517           5517         5517   \n",
      "unique        5517               2              2            2   \n",
      "top     5168-MSWXT     Fiber optic             No           No   \n",
      "freq             1            3096           3498         3088   \n",
      "\n",
      "       DeviceProtection TechSupport StreamingTV StreamingMovies  \n",
      "count              5517        5517        5517            5517  \n",
      "unique                2           2           2               2  \n",
      "top                  No          No          No              No  \n",
      "freq               3095        3473        2810            2785  \n"
     ]
    }
   ],
   "source": [
    "get_data_info(internet)"
   ]
  },
  {
   "cell_type": "code",
   "execution_count": 17,
   "metadata": {
    "colab": {
     "base_uri": "https://localhost:8080/",
     "height": 513
    },
    "id": "gny2UIPCopPT",
    "outputId": "a54fdfb5-d8a1-4d56-ea16-ca89f26afc4b"
   },
   "outputs": [
    {
     "data": {
      "image/png": "[encoded data removed]",
      "text/plain": [
       "<Figure size 1008x504 with 8 Axes>"
      ]
     },
     "metadata": {
      "needs_background": "light"
     },
     "output_type": "display_data"
    }
   ],
   "source": [
    "# гистограммы категориальных признаков\n",
    "features_info(internet, internet.columns[1:], kind='hist', cols=4, y_delta=0.7, x_delta=0.7)"
   ]
  },
  {
   "cell_type": "markdown",
   "metadata": {
    "id": "P4V5loo0GLQX"
   },
   "source": [
    "**Вывод**\n",
    "* Все признаки категориальные\n",
    "* В данных о предоставлении интернет-услуг нет пропусков\n",
    "* В большинстве категориальных признаков присутствует значительный дисбаланс классов"
   ]
  },
  {
   "cell_type": "markdown",
   "metadata": {
    "id": "NN0PSejzq19l"
   },
   "source": [
    "### personal"
   ]
  },
  {
   "cell_type": "code",
   "execution_count": 18,
   "metadata": {
    "colab": {
     "base_uri": "https://localhost:8080/",
     "height": 204
    },
    "id": "smoUIT-MGLQY",
    "outputId": "ad59baf3-d31b-4b7b-84a7-43805ccc347e"
   },
   "outputs": [
    {
     "name": "stdout",
     "output_type": "stream",
     "text": [
      "Run https://yadi.sk/d/wbi8YswJZm64WA\n"
     ]
    },
    {
     "data": {
      "text/html": [
       "<div>\n",
       "<style scoped>\n",
       "    .dataframe tbody tr th:only-of-type {\n",
       "        vertical-align: middle;\n",
       "    }\n",
       "\n",
       "    .dataframe tbody tr th {\n",
       "        vertical-align: top;\n",
       "    }\n",
       "\n",
       "    .dataframe thead th {\n",
       "        text-align: right;\n",
       "    }\n",
       "</style>\n",
       "<table border=\"1\" class=\"dataframe\">\n",
       "  <thead>\n",
       "    <tr style=\"text-align: right;\">\n",
       "      <th></th>\n",
       "      <th>customerID</th>\n",
       "      <th>gender</th>\n",
       "      <th>SeniorCitizen</th>\n",
       "      <th>Partner</th>\n",
       "      <th>Dependents</th>\n",
       "    </tr>\n",
       "  </thead>\n",
       "  <tbody>\n",
       "    <tr>\n",
       "      <th>0</th>\n",
       "      <td>7590-VHVEG</td>\n",
       "      <td>Female</td>\n",
       "      <td>0</td>\n",
       "      <td>Yes</td>\n",
       "      <td>No</td>\n",
       "    </tr>\n",
       "    <tr>\n",
       "      <th>1</th>\n",
       "      <td>5575-GNVDE</td>\n",
       "      <td>Male</td>\n",
       "      <td>0</td>\n",
       "      <td>No</td>\n",
       "      <td>No</td>\n",
       "    </tr>\n",
       "    <tr>\n",
       "      <th>2</th>\n",
       "      <td>3668-QPYBK</td>\n",
       "      <td>Male</td>\n",
       "      <td>0</td>\n",
       "      <td>No</td>\n",
       "      <td>No</td>\n",
       "    </tr>\n",
       "    <tr>\n",
       "      <th>3</th>\n",
       "      <td>7795-CFOCW</td>\n",
       "      <td>Male</td>\n",
       "      <td>0</td>\n",
       "      <td>No</td>\n",
       "      <td>No</td>\n",
       "    </tr>\n",
       "    <tr>\n",
       "      <th>4</th>\n",
       "      <td>9237-HQITU</td>\n",
       "      <td>Female</td>\n",
       "      <td>0</td>\n",
       "      <td>No</td>\n",
       "      <td>No</td>\n",
       "    </tr>\n",
       "  </tbody>\n",
       "</table>\n",
       "</div>"
      ],
      "text/plain": [
       "   customerID  gender  SeniorCitizen Partner Dependents\n",
       "0  7590-VHVEG  Female              0     Yes         No\n",
       "1  5575-GNVDE    Male              0      No         No\n",
       "2  3668-QPYBK    Male              0      No         No\n",
       "3  7795-CFOCW    Male              0      No         No\n",
       "4  9237-HQITU  Female              0      No         No"
      ]
     },
     "execution_count": 18,
     "metadata": {},
     "output_type": "execute_result"
    }
   ],
   "source": [
    "personal = pd.read_csv(get_url(DATA_PERSONAL))\n",
    "personal.head()"
   ]
  },
  {
   "cell_type": "code",
   "execution_count": 19,
   "metadata": {
    "colab": {
     "base_uri": "https://localhost:8080/"
    },
    "id": "GSCouox_vKg3",
    "outputId": "02dcf2d0-cd3a-47f2-9e1e-0f394ab62b87"
   },
   "outputs": [
    {
     "name": "stdout",
     "output_type": "stream",
     "text": [
      "Количество данных: (7043, 5)\n",
      "Дубликаты:         0 \n",
      "====================================================================================================\n",
      "\n",
      "<class 'pandas.core.frame.DataFrame'>\n",
      "RangeIndex: 7043 entries, 0 to 7042\n",
      "Data columns (total 5 columns):\n",
      " #   Column         Non-Null Count  Dtype \n",
      "---  ------         --------------  ----- \n",
      " 0   customerID     7043 non-null   object\n",
      " 1   gender         7043 non-null   object\n",
      " 2   SeniorCitizen  7043 non-null   int64 \n",
      " 3   Partner        7043 non-null   object\n",
      " 4   Dependents     7043 non-null   object\n",
      "dtypes: int64(1), object(4)\n",
      "memory usage: 275.2+ KB\n",
      "None \n",
      "====================================================================================================\n",
      "\n",
      "       SeniorCitizen\n",
      "count    7043.000000\n",
      "mean        0.162147\n",
      "std         0.368612\n",
      "min         0.000000\n",
      "25%         0.000000\n",
      "50%         0.000000\n",
      "75%         0.000000\n",
      "max         1.000000\n"
     ]
    }
   ],
   "source": [
    "get_data_info(personal)"
   ]
  },
  {
   "cell_type": "code",
   "execution_count": 20,
   "metadata": {
    "colab": {
     "base_uri": "https://localhost:8080/"
    },
    "id": "nIFAXnA2rsA6",
    "outputId": "f4891307-8b30-4458-e471-2d60c1e25767"
   },
   "outputs": [
    {
     "data": {
      "text/plain": [
       "array([0, 1])"
      ]
     },
     "execution_count": 20,
     "metadata": {},
     "output_type": "execute_result"
    }
   ],
   "source": [
    "personal.SeniorCitizen.unique()"
   ]
  },
  {
   "cell_type": "code",
   "execution_count": 21,
   "metadata": {
    "colab": {
     "base_uri": "https://localhost:8080/",
     "height": 369
    },
    "id": "rcOqju5Aq6YW",
    "outputId": "5de5b63a-5436-4ec2-8317-fe6a058ce5e7"
   },
   "outputs": [
    {
     "data": {
      "image/png": "[encoded data removed]",
      "text/plain": [
       "<Figure size 1440x360 with 4 Axes>"
      ]
     },
     "metadata": {
      "needs_background": "light"
     },
     "output_type": "display_data"
    }
   ],
   "source": [
    "features_info(personal, personal.columns[1:], kind='hist', cols=4)"
   ]
  },
  {
   "cell_type": "markdown",
   "metadata": {
    "id": "s_F1Po8hrCpi"
   },
   "source": [
    "**Вывод**\n",
    "* Все признаки категориальные\n",
    "* В данных о клиентах нет пропусков и дубликатов\n",
    "* В признаках присутствует значительный дисбаланс классов (*Dependents, SeniorCitizen*)"
   ]
  },
  {
   "cell_type": "markdown",
   "metadata": {
    "id": "uAn9BuCFxhQI"
   },
   "source": [
    "### phone"
   ]
  },
  {
   "cell_type": "code",
   "execution_count": 22,
   "metadata": {
    "colab": {
     "base_uri": "https://localhost:8080/",
     "height": 204
    },
    "id": "tS0EmFjTGLQZ",
    "outputId": "c310a172-586a-4da4-f93c-8b617b15f593"
   },
   "outputs": [
    {
     "name": "stdout",
     "output_type": "stream",
     "text": [
      "Run https://yadi.sk/d/DxUji4OeUyAtwg\n"
     ]
    },
    {
     "data": {
      "text/html": [
       "<div>\n",
       "<style scoped>\n",
       "    .dataframe tbody tr th:only-of-type {\n",
       "        vertical-align: middle;\n",
       "    }\n",
       "\n",
       "    .dataframe tbody tr th {\n",
       "        vertical-align: top;\n",
       "    }\n",
       "\n",
       "    .dataframe thead th {\n",
       "        text-align: right;\n",
       "    }\n",
       "</style>\n",
       "<table border=\"1\" class=\"dataframe\">\n",
       "  <thead>\n",
       "    <tr style=\"text-align: right;\">\n",
       "      <th></th>\n",
       "      <th>customerID</th>\n",
       "      <th>MultipleLines</th>\n",
       "    </tr>\n",
       "  </thead>\n",
       "  <tbody>\n",
       "    <tr>\n",
       "      <th>0</th>\n",
       "      <td>5575-GNVDE</td>\n",
       "      <td>No</td>\n",
       "    </tr>\n",
       "    <tr>\n",
       "      <th>1</th>\n",
       "      <td>3668-QPYBK</td>\n",
       "      <td>No</td>\n",
       "    </tr>\n",
       "    <tr>\n",
       "      <th>2</th>\n",
       "      <td>9237-HQITU</td>\n",
       "      <td>No</td>\n",
       "    </tr>\n",
       "    <tr>\n",
       "      <th>3</th>\n",
       "      <td>9305-CDSKC</td>\n",
       "      <td>Yes</td>\n",
       "    </tr>\n",
       "    <tr>\n",
       "      <th>4</th>\n",
       "      <td>1452-KIOVK</td>\n",
       "      <td>Yes</td>\n",
       "    </tr>\n",
       "  </tbody>\n",
       "</table>\n",
       "</div>"
      ],
      "text/plain": [
       "   customerID MultipleLines\n",
       "0  5575-GNVDE            No\n",
       "1  3668-QPYBK            No\n",
       "2  9237-HQITU            No\n",
       "3  9305-CDSKC           Yes\n",
       "4  1452-KIOVK           Yes"
      ]
     },
     "execution_count": 22,
     "metadata": {},
     "output_type": "execute_result"
    }
   ],
   "source": [
    "phone = pd.read_csv(get_url(DATA_PHONE))\n",
    "phone.head()"
   ]
  },
  {
   "cell_type": "code",
   "execution_count": 23,
   "metadata": {
    "colab": {
     "base_uri": "https://localhost:8080/"
    },
    "id": "TdzPEefivc2x",
    "outputId": "e9bd7f77-4c12-420e-9b02-a96c4019c5bb"
   },
   "outputs": [
    {
     "name": "stdout",
     "output_type": "stream",
     "text": [
      "Количество данных: (6361, 2)\n",
      "Дубликаты:         0 \n",
      "====================================================================================================\n",
      "\n",
      "<class 'pandas.core.frame.DataFrame'>\n",
      "RangeIndex: 6361 entries, 0 to 6360\n",
      "Data columns (total 2 columns):\n",
      " #   Column         Non-Null Count  Dtype \n",
      "---  ------         --------------  ----- \n",
      " 0   customerID     6361 non-null   object\n",
      " 1   MultipleLines  6361 non-null   object\n",
      "dtypes: object(2)\n",
      "memory usage: 99.5+ KB\n",
      "None \n",
      "====================================================================================================\n",
      "\n",
      "        customerID MultipleLines\n",
      "count         6361          6361\n",
      "unique        6361             2\n",
      "top     5168-MSWXT            No\n",
      "freq             1          3390\n"
     ]
    }
   ],
   "source": [
    "get_data_info(phone)"
   ]
  },
  {
   "cell_type": "code",
   "execution_count": 24,
   "metadata": {
    "colab": {
     "base_uri": "https://localhost:8080/",
     "height": 295
    },
    "id": "YyUmBQrRyVRj",
    "outputId": "3ff88130-fea1-45b6-f11f-ae75bbbdb72f"
   },
   "outputs": [
    {
     "data": {
      "image/png": "[encoded data removed]",
      "text/plain": [
       "<Figure size 432x288 with 1 Axes>"
      ]
     },
     "metadata": {
      "needs_background": "light"
     },
     "output_type": "display_data"
    }
   ],
   "source": [
    "sns.histplot(phone.MultipleLines);\n",
    "plt.title('MultipleLines histplot');"
   ]
  },
  {
   "cell_type": "markdown",
   "metadata": {
    "id": "zATvNyPTyFdC"
   },
   "source": [
    "**Вывод**\n",
    "* Все признаки категориальные\n",
    "* В данных о звонках нет пропусков и дубликатов"
   ]
  },
  {
   "cell_type": "markdown",
   "metadata": {
    "id": "_bYfD-ZZrUCK"
   },
   "source": [
    "### Объединение данных"
   ]
  },
  {
   "cell_type": "code",
   "execution_count": 25,
   "metadata": {
    "colab": {
     "base_uri": "https://localhost:8080/",
     "height": 204
    },
    "id": "0A6nca5Tw4pI",
    "outputId": "7e348c94-d998-40e2-9fcf-9c7fa6136510"
   },
   "outputs": [
    {
     "data": {
      "text/html": [
       "<div>\n",
       "<style scoped>\n",
       "    .dataframe tbody tr th:only-of-type {\n",
       "        vertical-align: middle;\n",
       "    }\n",
       "\n",
       "    .dataframe tbody tr th {\n",
       "        vertical-align: top;\n",
       "    }\n",
       "\n",
       "    .dataframe thead th {\n",
       "        text-align: right;\n",
       "    }\n",
       "</style>\n",
       "<table border=\"1\" class=\"dataframe\">\n",
       "  <thead>\n",
       "    <tr style=\"text-align: right;\">\n",
       "      <th></th>\n",
       "      <th>customerID</th>\n",
       "      <th>BeginDate</th>\n",
       "      <th>EndDate</th>\n",
       "      <th>Type</th>\n",
       "      <th>PaperlessBilling</th>\n",
       "      <th>PaymentMethod</th>\n",
       "      <th>MonthlyCharges</th>\n",
       "      <th>TotalCharges</th>\n",
       "    </tr>\n",
       "  </thead>\n",
       "  <tbody>\n",
       "    <tr>\n",
       "      <th>0</th>\n",
       "      <td>7590-VHVEG</td>\n",
       "      <td>2020-01-01</td>\n",
       "      <td>No</td>\n",
       "      <td>Month-to-month</td>\n",
       "      <td>Yes</td>\n",
       "      <td>Electronic check</td>\n",
       "      <td>29.85</td>\n",
       "      <td>29.85</td>\n",
       "    </tr>\n",
       "    <tr>\n",
       "      <th>1</th>\n",
       "      <td>5575-GNVDE</td>\n",
       "      <td>2017-04-01</td>\n",
       "      <td>No</td>\n",
       "      <td>One year</td>\n",
       "      <td>No</td>\n",
       "      <td>Mailed check</td>\n",
       "      <td>56.95</td>\n",
       "      <td>1889.50</td>\n",
       "    </tr>\n",
       "    <tr>\n",
       "      <th>2</th>\n",
       "      <td>3668-QPYBK</td>\n",
       "      <td>2019-10-01</td>\n",
       "      <td>2019-12-01 00:00:00</td>\n",
       "      <td>Month-to-month</td>\n",
       "      <td>Yes</td>\n",
       "      <td>Mailed check</td>\n",
       "      <td>53.85</td>\n",
       "      <td>108.15</td>\n",
       "    </tr>\n",
       "    <tr>\n",
       "      <th>3</th>\n",
       "      <td>7795-CFOCW</td>\n",
       "      <td>2016-05-01</td>\n",
       "      <td>No</td>\n",
       "      <td>One year</td>\n",
       "      <td>No</td>\n",
       "      <td>Bank transfer (automatic)</td>\n",
       "      <td>42.30</td>\n",
       "      <td>1840.75</td>\n",
       "    </tr>\n",
       "    <tr>\n",
       "      <th>4</th>\n",
       "      <td>9237-HQITU</td>\n",
       "      <td>2019-09-01</td>\n",
       "      <td>2019-11-01 00:00:00</td>\n",
       "      <td>Month-to-month</td>\n",
       "      <td>Yes</td>\n",
       "      <td>Electronic check</td>\n",
       "      <td>70.70</td>\n",
       "      <td>151.65</td>\n",
       "    </tr>\n",
       "  </tbody>\n",
       "</table>\n",
       "</div>"
      ],
      "text/plain": [
       "   customerID  BeginDate              EndDate            Type  \\\n",
       "0  7590-VHVEG 2020-01-01                   No  Month-to-month   \n",
       "1  5575-GNVDE 2017-04-01                   No        One year   \n",
       "2  3668-QPYBK 2019-10-01  2019-12-01 00:00:00  Month-to-month   \n",
       "3  7795-CFOCW 2016-05-01                   No        One year   \n",
       "4  9237-HQITU 2019-09-01  2019-11-01 00:00:00  Month-to-month   \n",
       "\n",
       "  PaperlessBilling              PaymentMethod  MonthlyCharges  TotalCharges  \n",
       "0              Yes           Electronic check           29.85         29.85  \n",
       "1               No               Mailed check           56.95       1889.50  \n",
       "2              Yes               Mailed check           53.85        108.15  \n",
       "3               No  Bank transfer (automatic)           42.30       1840.75  \n",
       "4              Yes           Electronic check           70.70        151.65  "
      ]
     },
     "execution_count": 25,
     "metadata": {},
     "output_type": "execute_result"
    }
   ],
   "source": [
    "contract.head()"
   ]
  },
  {
   "cell_type": "code",
   "execution_count": 26,
   "metadata": {
    "colab": {
     "base_uri": "https://localhost:8080/"
    },
    "id": "R_0eSqZyGLQc",
    "outputId": "01dd9c22-d40b-4112-86b9-83b582332e2a"
   },
   "outputs": [
    {
     "name": "stdout",
     "output_type": "stream",
     "text": [
      "<class 'pandas.core.frame.DataFrame'>\n",
      "Int64Index: 7043 entries, 0 to 7042\n",
      "Data columns (total 20 columns):\n",
      " #   Column            Non-Null Count  Dtype         \n",
      "---  ------            --------------  -----         \n",
      " 0   customerID        7043 non-null   object        \n",
      " 1   BeginDate         7043 non-null   datetime64[ns]\n",
      " 2   EndDate           7043 non-null   object        \n",
      " 3   Type              7043 non-null   object        \n",
      " 4   PaperlessBilling  7043 non-null   object        \n",
      " 5   PaymentMethod     7043 non-null   object        \n",
      " 6   MonthlyCharges    7043 non-null   float64       \n",
      " 7   TotalCharges      7043 non-null   float64       \n",
      " 8   gender            7043 non-null   object        \n",
      " 9   SeniorCitizen     7043 non-null   int64         \n",
      " 10  Partner           7043 non-null   object        \n",
      " 11  Dependents        7043 non-null   object        \n",
      " 12  MultipleLines     6361 non-null   object        \n",
      " 13  InternetService   5517 non-null   object        \n",
      " 14  OnlineSecurity    5517 non-null   object        \n",
      " 15  OnlineBackup      5517 non-null   object        \n",
      " 16  DeviceProtection  5517 non-null   object        \n",
      " 17  TechSupport       5517 non-null   object        \n",
      " 18  StreamingTV       5517 non-null   object        \n",
      " 19  StreamingMovies   5517 non-null   object        \n",
      "dtypes: datetime64[ns](1), float64(2), int64(1), object(16)\n",
      "memory usage: 1.1+ MB\n"
     ]
    }
   ],
   "source": [
    "# объединим данные из разных таблиц\n",
    "telecom = contract.copy()\n",
    "for df in [personal, phone, internet]:\n",
    "  telecom = telecom.merge(df, how='outer', on='customerID')\n",
    "\n",
    "telecom.info()"
   ]
  },
  {
   "cell_type": "code",
   "execution_count": 27,
   "metadata": {
    "colab": {
     "base_uri": "https://localhost:8080/",
     "height": 297
    },
    "id": "y3SACtvMFnFV",
    "outputId": "f357cdd7-2d9a-44d7-dd2f-77980465e600"
   },
   "outputs": [
    {
     "data": {
      "text/html": [
       "<div>\n",
       "<style scoped>\n",
       "    .dataframe tbody tr th:only-of-type {\n",
       "        vertical-align: middle;\n",
       "    }\n",
       "\n",
       "    .dataframe tbody tr th {\n",
       "        vertical-align: top;\n",
       "    }\n",
       "\n",
       "    .dataframe thead th {\n",
       "        text-align: right;\n",
       "    }\n",
       "</style>\n",
       "<table border=\"1\" class=\"dataframe\">\n",
       "  <thead>\n",
       "    <tr style=\"text-align: right;\">\n",
       "      <th></th>\n",
       "      <th>percentage</th>\n",
       "      <th>data_type</th>\n",
       "    </tr>\n",
       "  </thead>\n",
       "  <tbody>\n",
       "    <tr>\n",
       "      <th>InternetService</th>\n",
       "      <td>21.7</td>\n",
       "      <td>object</td>\n",
       "    </tr>\n",
       "    <tr>\n",
       "      <th>OnlineSecurity</th>\n",
       "      <td>21.7</td>\n",
       "      <td>object</td>\n",
       "    </tr>\n",
       "    <tr>\n",
       "      <th>OnlineBackup</th>\n",
       "      <td>21.7</td>\n",
       "      <td>object</td>\n",
       "    </tr>\n",
       "    <tr>\n",
       "      <th>DeviceProtection</th>\n",
       "      <td>21.7</td>\n",
       "      <td>object</td>\n",
       "    </tr>\n",
       "    <tr>\n",
       "      <th>TechSupport</th>\n",
       "      <td>21.7</td>\n",
       "      <td>object</td>\n",
       "    </tr>\n",
       "    <tr>\n",
       "      <th>StreamingTV</th>\n",
       "      <td>21.7</td>\n",
       "      <td>object</td>\n",
       "    </tr>\n",
       "    <tr>\n",
       "      <th>StreamingMovies</th>\n",
       "      <td>21.7</td>\n",
       "      <td>object</td>\n",
       "    </tr>\n",
       "    <tr>\n",
       "      <th>MultipleLines</th>\n",
       "      <td>9.7</td>\n",
       "      <td>object</td>\n",
       "    </tr>\n",
       "  </tbody>\n",
       "</table>\n",
       "</div>"
      ],
      "text/plain": [
       "                  percentage data_type\n",
       "InternetService         21.7    object\n",
       "OnlineSecurity          21.7    object\n",
       "OnlineBackup            21.7    object\n",
       "DeviceProtection        21.7    object\n",
       "TechSupport             21.7    object\n",
       "StreamingTV             21.7    object\n",
       "StreamingMovies         21.7    object\n",
       "MultipleLines            9.7    object"
      ]
     },
     "execution_count": 27,
     "metadata": {},
     "output_type": "execute_result"
    }
   ],
   "source": [
    "# количество попусков после объединения данных\n",
    "check_df_nan(telecom)"
   ]
  },
  {
   "cell_type": "markdown",
   "metadata": {},
   "source": [
    "Пропуски в категориальных признаках, скорее всего, говорят о том, что клиенты не пользуются интернет-услугами. Заполним значением 'No'."
   ]
  },
  {
   "cell_type": "code",
   "execution_count": 28,
   "metadata": {
    "colab": {
     "base_uri": "https://localhost:8080/"
    },
    "id": "e07R2abdY8Ck",
    "outputId": "5fe4eb84-b6ee-412c-a84e-36f110e35d4d"
   },
   "outputs": [
    {
     "name": "stdout",
     "output_type": "stream",
     "text": [
      "<class 'pandas.core.frame.DataFrame'>\n",
      "Int64Index: 7043 entries, 0 to 7042\n",
      "Data columns (total 20 columns):\n",
      " #   Column            Non-Null Count  Dtype         \n",
      "---  ------            --------------  -----         \n",
      " 0   customerID        7043 non-null   object        \n",
      " 1   BeginDate         7043 non-null   datetime64[ns]\n",
      " 2   EndDate           7043 non-null   object        \n",
      " 3   Type              7043 non-null   object        \n",
      " 4   PaperlessBilling  7043 non-null   object        \n",
      " 5   PaymentMethod     7043 non-null   object        \n",
      " 6   MonthlyCharges    7043 non-null   float64       \n",
      " 7   TotalCharges      7043 non-null   float64       \n",
      " 8   gender            7043 non-null   object        \n",
      " 9   SeniorCitizen     7043 non-null   int64         \n",
      " 10  Partner           7043 non-null   object        \n",
      " 11  Dependents        7043 non-null   object        \n",
      " 12  MultipleLines     7043 non-null   object        \n",
      " 13  InternetService   7043 non-null   object        \n",
      " 14  OnlineSecurity    7043 non-null   object        \n",
      " 15  OnlineBackup      7043 non-null   object        \n",
      " 16  DeviceProtection  7043 non-null   object        \n",
      " 17  TechSupport       7043 non-null   object        \n",
      " 18  StreamingTV       7043 non-null   object        \n",
      " 19  StreamingMovies   7043 non-null   object        \n",
      "dtypes: datetime64[ns](1), float64(2), int64(1), object(16)\n",
      "memory usage: 1.1+ MB\n"
     ]
    }
   ],
   "source": [
    "telecom.fillna('No', inplace=True)\n",
    "telecom.info()"
   ]
  },
  {
   "cell_type": "code",
   "execution_count": 29,
   "metadata": {
    "id": "8dUMmLg12tqb"
   },
   "outputs": [],
   "source": [
    "# добавим столбец с целевой переменной\n",
    "telecom['Churn'] = telecom.EndDate.apply(lambda x: 0 if x=='No' else 1)"
   ]
  },
  {
   "cell_type": "code",
   "execution_count": 30,
   "metadata": {
    "colab": {
     "base_uri": "https://localhost:8080/",
     "height": 350
    },
    "id": "fmNJoMwjbndT",
    "outputId": "ef3c7947-a6ff-4054-95cb-c1ed5ca62be9"
   },
   "outputs": [
    {
     "data": {
      "image/png": "[encoded data removed]",
      "text/plain": [
       "<Figure size 720x360 with 1 Axes>"
      ]
     },
     "metadata": {
      "needs_background": "light"
     },
     "output_type": "display_data"
    }
   ],
   "source": [
    "telecom2 = telecom.copy()\n",
    "telecom2['Year'] = telecom2.BeginDate.dt.year\n",
    "year_churn = telecom2.groupby('Year')['Churn'].agg(['sum', 'count'])\n",
    "year_churn.columns = ['left', 'total']\n",
    "\n",
    "_, ax = plt.subplots(figsize=(10,5))\n",
    "year_churn.plot(ax=ax);\n",
    "plt.title('Количество всех и ушедших клиентов в зависимости от года начала контракта');"
   ]
  },
  {
   "cell_type": "markdown",
   "metadata": {
    "id": "BOb6Ut7cjvVs"
   },
   "source": [
    "Из графика видно, что резкое увеличение количества ушедших клиентов произошло в 2018-2019 году. Возможно, появился сильный конкурент с более выгодными условиями предоставления услуг."
   ]
  },
  {
   "cell_type": "code",
   "execution_count": 31,
   "metadata": {
    "colab": {
     "base_uri": "https://localhost:8080/",
     "height": 142
    },
    "id": "h16c0hJPB1UR",
    "outputId": "11b6ea5e-56b2-43ae-c235-29d8879f74f1"
   },
   "outputs": [
    {
     "data": {
      "text/html": [
       "<div>\n",
       "<style scoped>\n",
       "    .dataframe tbody tr th:only-of-type {\n",
       "        vertical-align: middle;\n",
       "    }\n",
       "\n",
       "    .dataframe tbody tr th {\n",
       "        vertical-align: top;\n",
       "    }\n",
       "\n",
       "    .dataframe thead th {\n",
       "        text-align: right;\n",
       "    }\n",
       "</style>\n",
       "<table border=\"1\" class=\"dataframe\">\n",
       "  <thead>\n",
       "    <tr style=\"text-align: right;\">\n",
       "      <th></th>\n",
       "      <th>sum</th>\n",
       "      <th>mean</th>\n",
       "      <th>median</th>\n",
       "    </tr>\n",
       "    <tr>\n",
       "      <th>Churn</th>\n",
       "      <th></th>\n",
       "      <th></th>\n",
       "      <th></th>\n",
       "    </tr>\n",
       "  </thead>\n",
       "  <tbody>\n",
       "    <tr>\n",
       "      <th>0</th>\n",
       "      <td>13193241.8</td>\n",
       "      <td>2549.911442</td>\n",
       "      <td>1679.525</td>\n",
       "    </tr>\n",
       "    <tr>\n",
       "      <th>1</th>\n",
       "      <td>2862926.9</td>\n",
       "      <td>1531.796094</td>\n",
       "      <td>703.550</td>\n",
       "    </tr>\n",
       "  </tbody>\n",
       "</table>\n",
       "</div>"
      ],
      "text/plain": [
       "              sum         mean    median\n",
       "Churn                                   \n",
       "0      13193241.8  2549.911442  1679.525\n",
       "1       2862926.9  1531.796094   703.550"
      ]
     },
     "execution_count": 31,
     "metadata": {},
     "output_type": "execute_result"
    }
   ],
   "source": [
    "telecom.groupby('Churn')['TotalCharges'].agg(['sum', 'mean', 'median'])"
   ]
  },
  {
   "cell_type": "markdown",
   "metadata": {
    "id": "JDuJ7MvdDaSz"
   },
   "source": [
    "Из сводных таблиц видно, что ушедшие клиенты в среднем платят за услуги в 2 раза меньше, чем действующие клиенты. Возможно, клиенты знают не обо всех услугах и тарифах."
   ]
  },
  {
   "cell_type": "code",
   "execution_count": 32,
   "metadata": {
    "colab": {
     "base_uri": "https://localhost:8080/",
     "height": 173
    },
    "id": "MW2_y4jZmCx-",
    "outputId": "5fd3c614-a366-4658-aab6-5d17a77fc43f"
   },
   "outputs": [
    {
     "data": {
      "text/html": [
       "<div>\n",
       "<style scoped>\n",
       "    .dataframe tbody tr th:only-of-type {\n",
       "        vertical-align: middle;\n",
       "    }\n",
       "\n",
       "    .dataframe tbody tr th {\n",
       "        vertical-align: top;\n",
       "    }\n",
       "\n",
       "    .dataframe thead th {\n",
       "        text-align: right;\n",
       "    }\n",
       "</style>\n",
       "<table border=\"1\" class=\"dataframe\">\n",
       "  <thead>\n",
       "    <tr style=\"text-align: right;\">\n",
       "      <th></th>\n",
       "      <th>Total</th>\n",
       "      <th>Churn</th>\n",
       "      <th>Part</th>\n",
       "      <th>Total part</th>\n",
       "    </tr>\n",
       "    <tr>\n",
       "      <th>Type</th>\n",
       "      <th></th>\n",
       "      <th></th>\n",
       "      <th></th>\n",
       "      <th></th>\n",
       "    </tr>\n",
       "  </thead>\n",
       "  <tbody>\n",
       "    <tr>\n",
       "      <th>Month-to-month</th>\n",
       "      <td>3875</td>\n",
       "      <td>1655</td>\n",
       "      <td>0.43</td>\n",
       "      <td>0.23</td>\n",
       "    </tr>\n",
       "    <tr>\n",
       "      <th>One year</th>\n",
       "      <td>1473</td>\n",
       "      <td>166</td>\n",
       "      <td>0.11</td>\n",
       "      <td>0.02</td>\n",
       "    </tr>\n",
       "    <tr>\n",
       "      <th>Two year</th>\n",
       "      <td>1695</td>\n",
       "      <td>48</td>\n",
       "      <td>0.03</td>\n",
       "      <td>0.01</td>\n",
       "    </tr>\n",
       "  </tbody>\n",
       "</table>\n",
       "</div>"
      ],
      "text/plain": [
       "                Total  Churn  Part  Total part\n",
       "Type                                          \n",
       "Month-to-month   3875   1655  0.43        0.23\n",
       "One year         1473    166  0.11        0.02\n",
       "Two year         1695     48  0.03        0.01"
      ]
     },
     "execution_count": 32,
     "metadata": {},
     "output_type": "execute_result"
    }
   ],
   "source": [
    "# статистика по частоте оплаты\n",
    "churn_stat(telecom, 'Type')"
   ]
  },
  {
   "cell_type": "markdown",
   "metadata": {},
   "source": [
    "Клиенты, у которых контракт на месяц, составляют бОльшую долю среди оттока."
   ]
  },
  {
   "cell_type": "code",
   "execution_count": 33,
   "metadata": {
    "colab": {
     "base_uri": "https://localhost:8080/",
     "height": 142
    },
    "id": "d67zafykmsyQ",
    "outputId": "a5e901e4-5fee-4528-8d12-6b3cceb3c5a0"
   },
   "outputs": [
    {
     "data": {
      "text/html": [
       "<div>\n",
       "<style scoped>\n",
       "    .dataframe tbody tr th:only-of-type {\n",
       "        vertical-align: middle;\n",
       "    }\n",
       "\n",
       "    .dataframe tbody tr th {\n",
       "        vertical-align: top;\n",
       "    }\n",
       "\n",
       "    .dataframe thead th {\n",
       "        text-align: right;\n",
       "    }\n",
       "</style>\n",
       "<table border=\"1\" class=\"dataframe\">\n",
       "  <thead>\n",
       "    <tr style=\"text-align: right;\">\n",
       "      <th></th>\n",
       "      <th>Total</th>\n",
       "      <th>Churn</th>\n",
       "      <th>Part</th>\n",
       "      <th>Total part</th>\n",
       "    </tr>\n",
       "    <tr>\n",
       "      <th>PaperlessBilling</th>\n",
       "      <th></th>\n",
       "      <th></th>\n",
       "      <th></th>\n",
       "      <th></th>\n",
       "    </tr>\n",
       "  </thead>\n",
       "  <tbody>\n",
       "    <tr>\n",
       "      <th>No</th>\n",
       "      <td>2872</td>\n",
       "      <td>469</td>\n",
       "      <td>0.16</td>\n",
       "      <td>0.07</td>\n",
       "    </tr>\n",
       "    <tr>\n",
       "      <th>Yes</th>\n",
       "      <td>4171</td>\n",
       "      <td>1400</td>\n",
       "      <td>0.34</td>\n",
       "      <td>0.20</td>\n",
       "    </tr>\n",
       "  </tbody>\n",
       "</table>\n",
       "</div>"
      ],
      "text/plain": [
       "                  Total  Churn  Part  Total part\n",
       "PaperlessBilling                                \n",
       "No                 2872    469  0.16        0.07\n",
       "Yes                4171   1400  0.34        0.20"
      ]
     },
     "execution_count": 33,
     "metadata": {},
     "output_type": "execute_result"
    }
   ],
   "source": [
    "# статистика типу счета (бумажный или нет)\n",
    "churn_stat(telecom, 'PaperlessBilling')"
   ]
  },
  {
   "cell_type": "markdown",
   "metadata": {},
   "source": [
    "БОльшую долю среди оттока составляют клинты, получающие бумажные счета."
   ]
  },
  {
   "cell_type": "code",
   "execution_count": 34,
   "metadata": {
    "colab": {
     "base_uri": "https://localhost:8080/",
     "height": 204
    },
    "id": "hY-fqkJiox47",
    "outputId": "f1b08bce-d1f2-4e6d-c27c-71df045b3987"
   },
   "outputs": [
    {
     "data": {
      "text/html": [
       "<div>\n",
       "<style scoped>\n",
       "    .dataframe tbody tr th:only-of-type {\n",
       "        vertical-align: middle;\n",
       "    }\n",
       "\n",
       "    .dataframe tbody tr th {\n",
       "        vertical-align: top;\n",
       "    }\n",
       "\n",
       "    .dataframe thead th {\n",
       "        text-align: right;\n",
       "    }\n",
       "</style>\n",
       "<table border=\"1\" class=\"dataframe\">\n",
       "  <thead>\n",
       "    <tr style=\"text-align: right;\">\n",
       "      <th></th>\n",
       "      <th>Total</th>\n",
       "      <th>Churn</th>\n",
       "      <th>Part</th>\n",
       "      <th>Total part</th>\n",
       "    </tr>\n",
       "    <tr>\n",
       "      <th>PaymentMethod</th>\n",
       "      <th></th>\n",
       "      <th></th>\n",
       "      <th></th>\n",
       "      <th></th>\n",
       "    </tr>\n",
       "  </thead>\n",
       "  <tbody>\n",
       "    <tr>\n",
       "      <th>Bank transfer (automatic)</th>\n",
       "      <td>1544</td>\n",
       "      <td>258</td>\n",
       "      <td>0.17</td>\n",
       "      <td>0.04</td>\n",
       "    </tr>\n",
       "    <tr>\n",
       "      <th>Credit card (automatic)</th>\n",
       "      <td>1522</td>\n",
       "      <td>232</td>\n",
       "      <td>0.15</td>\n",
       "      <td>0.03</td>\n",
       "    </tr>\n",
       "    <tr>\n",
       "      <th>Electronic check</th>\n",
       "      <td>2365</td>\n",
       "      <td>1071</td>\n",
       "      <td>0.45</td>\n",
       "      <td>0.15</td>\n",
       "    </tr>\n",
       "    <tr>\n",
       "      <th>Mailed check</th>\n",
       "      <td>1612</td>\n",
       "      <td>308</td>\n",
       "      <td>0.19</td>\n",
       "      <td>0.04</td>\n",
       "    </tr>\n",
       "  </tbody>\n",
       "</table>\n",
       "</div>"
      ],
      "text/plain": [
       "                           Total  Churn  Part  Total part\n",
       "PaymentMethod                                            \n",
       "Bank transfer (automatic)   1544    258  0.17        0.04\n",
       "Credit card (automatic)     1522    232  0.15        0.03\n",
       "Electronic check            2365   1071  0.45        0.15\n",
       "Mailed check                1612    308  0.19        0.04"
      ]
     },
     "execution_count": 34,
     "metadata": {},
     "output_type": "execute_result"
    }
   ],
   "source": [
    "# статистика по типу оплаты\n",
    "churn_stat(telecom, 'PaymentMethod')"
   ]
  },
  {
   "cell_type": "markdown",
   "metadata": {},
   "source": [
    "Большая часть оттока - клиенты, которые платят по электронному чеку."
   ]
  },
  {
   "cell_type": "code",
   "execution_count": 35,
   "metadata": {
    "colab": {
     "base_uri": "https://localhost:8080/",
     "height": 173
    },
    "id": "sHFrsHVBox9P",
    "outputId": "3de838e9-c431-49a3-d24c-c9142976d2f0"
   },
   "outputs": [
    {
     "data": {
      "text/html": [
       "<div>\n",
       "<style scoped>\n",
       "    .dataframe tbody tr th:only-of-type {\n",
       "        vertical-align: middle;\n",
       "    }\n",
       "\n",
       "    .dataframe tbody tr th {\n",
       "        vertical-align: top;\n",
       "    }\n",
       "\n",
       "    .dataframe thead th {\n",
       "        text-align: right;\n",
       "    }\n",
       "</style>\n",
       "<table border=\"1\" class=\"dataframe\">\n",
       "  <thead>\n",
       "    <tr style=\"text-align: right;\">\n",
       "      <th></th>\n",
       "      <th>Total</th>\n",
       "      <th>Churn</th>\n",
       "      <th>Part</th>\n",
       "      <th>Total part</th>\n",
       "    </tr>\n",
       "    <tr>\n",
       "      <th>InternetService</th>\n",
       "      <th></th>\n",
       "      <th></th>\n",
       "      <th></th>\n",
       "      <th></th>\n",
       "    </tr>\n",
       "  </thead>\n",
       "  <tbody>\n",
       "    <tr>\n",
       "      <th>DSL</th>\n",
       "      <td>2421</td>\n",
       "      <td>459</td>\n",
       "      <td>0.19</td>\n",
       "      <td>0.07</td>\n",
       "    </tr>\n",
       "    <tr>\n",
       "      <th>Fiber optic</th>\n",
       "      <td>3096</td>\n",
       "      <td>1297</td>\n",
       "      <td>0.42</td>\n",
       "      <td>0.18</td>\n",
       "    </tr>\n",
       "    <tr>\n",
       "      <th>No</th>\n",
       "      <td>1526</td>\n",
       "      <td>113</td>\n",
       "      <td>0.07</td>\n",
       "      <td>0.02</td>\n",
       "    </tr>\n",
       "  </tbody>\n",
       "</table>\n",
       "</div>"
      ],
      "text/plain": [
       "                 Total  Churn  Part  Total part\n",
       "InternetService                                \n",
       "DSL               2421    459  0.19        0.07\n",
       "Fiber optic       3096   1297  0.42        0.18\n",
       "No                1526    113  0.07        0.02"
      ]
     },
     "execution_count": 35,
     "metadata": {},
     "output_type": "execute_result"
    }
   ],
   "source": [
    "# статистика по типу интернет-услуг\n",
    "churn_stat(telecom, 'InternetService')"
   ]
  },
  {
   "cell_type": "markdown",
   "metadata": {},
   "source": [
    "18% клиентов - часть оттока, которая пользуется оптоволоконным интернетом."
   ]
  },
  {
   "cell_type": "markdown",
   "metadata": {
    "id": "EDIKLSgvpkWO"
   },
   "source": [
    "### Вывод\n",
    "\n",
    "Исходя из проведенного анализа данных можно сделать выводы:\n",
    "* резкое увеличение количества ушедших клиентов в 2018-2019 году\n",
    "* ушедшие клиенты в среднем платят за услуги в 2 раза больше, чем действующие\n",
    "* 23% оттока, у которых контракт на месяц\n",
    "* 20% оттока составляют клинты, получающие бумажные счета\n",
    "* 15% оттока - клиенты, которые платят по электронному чеку.\n",
    "* 18% клиентов - часть оттока, которая пользуется оптоволоконным интернетом."
   ]
  },
  {
   "cell_type": "markdown",
   "metadata": {},
   "source": [
    "## План\n",
    "1. Кодирование признаков *Type, PaymentMethod, InternetService*\n",
    "2. Исследование на важность признаков\n",
    "3. Исследование на необходимость балансировки классов\n",
    "4. Построение модели для задачи бинарной классификации (возможные варианты - CatBoost, LighGBM, XGBoost). Признак *Churn* - целевая переменная.\n",
    "5. Метрики для оценки модели - F1, AUC-ROC"
   ]
  },
  {
   "cell_type": "markdown",
   "metadata": {
    "id": "vc3yupPFaMu-"
   },
   "source": [
    "## Предобработка данных"
   ]
  },
  {
   "cell_type": "markdown",
   "metadata": {
    "id": "b9IdHsbfvd2Q"
   },
   "source": [
    "### Преобразование данных"
   ]
  },
  {
   "cell_type": "code",
   "execution_count": 36,
   "metadata": {
    "id": "NUsiZPfO230c"
   },
   "outputs": [],
   "source": [
    "# Проведем преобразование данных - заменим столбцы с Yes/No на 1/0\n",
    "columns = ['PaperlessBilling','Partner','Dependents', 'MultipleLines', \n",
    "           'OnlineSecurity', 'OnlineBackup', 'DeviceProtection', 'TechSupport',\n",
    "           'StreamingTV', 'StreamingMovies'\n",
    "           ]\n",
    "\n",
    "for column in columns:\n",
    "  telecom[column] = telecom[column].apply(lambda x: 1 if x=='Yes' else 0)"
   ]
  },
  {
   "cell_type": "code",
   "execution_count": 37,
   "metadata": {
    "id": "-whybfaCYAih"
   },
   "outputs": [],
   "source": [
    "# заменим данные в EndDate: No -> 2020-02-01\n",
    "telecom['EndDate'] = (telecom['EndDate'].str.replace('No', '2020-02-01').astype('datetime64'))\n",
    "\n",
    "# добавим признак - длительность контракта\n",
    "telecom['LifeTimeDay'] = (telecom['EndDate'].dt.to_period('D').astype(int) - \n",
    "                          telecom['BeginDate'].dt.to_period('D').astype(int))"
   ]
  },
  {
   "cell_type": "markdown",
   "metadata": {
    "id": "f3V7qsVUWWVh"
   },
   "source": [
    "### Кодирование"
   ]
  },
  {
   "cell_type": "code",
   "execution_count": 38,
   "metadata": {
    "colab": {
     "base_uri": "https://localhost:8080/"
    },
    "id": "vEvkPQ-uNrBm",
    "outputId": "d6ba43d5-393e-4ac8-da09-f4970ed4d884"
   },
   "outputs": [
    {
     "name": "stdout",
     "output_type": "stream",
     "text": [
      "<class 'pandas.core.frame.DataFrame'>\n",
      "Int64Index: 7043 entries, 0 to 7042\n",
      "Data columns (total 23 columns):\n",
      " #   Column                                 Non-Null Count  Dtype  \n",
      "---  ------                                 --------------  -----  \n",
      " 0   PaperlessBilling                       7043 non-null   int64  \n",
      " 1   MonthlyCharges                         7043 non-null   float64\n",
      " 2   TotalCharges                           7043 non-null   float64\n",
      " 3   SeniorCitizen                          7043 non-null   int64  \n",
      " 4   Partner                                7043 non-null   int64  \n",
      " 5   Dependents                             7043 non-null   int64  \n",
      " 6   MultipleLines                          7043 non-null   int64  \n",
      " 7   OnlineSecurity                         7043 non-null   int64  \n",
      " 8   OnlineBackup                           7043 non-null   int64  \n",
      " 9   DeviceProtection                       7043 non-null   int64  \n",
      " 10  TechSupport                            7043 non-null   int64  \n",
      " 11  StreamingTV                            7043 non-null   int64  \n",
      " 12  StreamingMovies                        7043 non-null   int64  \n",
      " 13  Churn                                  7043 non-null   int64  \n",
      " 14  LifeTimeDay                            7043 non-null   int64  \n",
      " 15  PaymentMethod_Credit card (automatic)  7043 non-null   uint8  \n",
      " 16  PaymentMethod_Electronic check         7043 non-null   uint8  \n",
      " 17  PaymentMethod_Mailed check             7043 non-null   uint8  \n",
      " 18  Type_One year                          7043 non-null   uint8  \n",
      " 19  Type_Two year                          7043 non-null   uint8  \n",
      " 20  InternetService_Fiber optic            7043 non-null   uint8  \n",
      " 21  InternetService_No                     7043 non-null   uint8  \n",
      " 22  gender_Male                            7043 non-null   uint8  \n",
      "dtypes: float64(2), int64(13), uint8(8)\n",
      "memory usage: 1.2 MB\n"
     ]
    }
   ],
   "source": [
    "# кодирование категориальных признаков\n",
    "object_features = ['PaymentMethod', 'Type', 'InternetService', 'gender']\n",
    "telecom = telecom.join(pd.get_dummies(telecom[object_features], drop_first=True))\n",
    "telecom.drop(object_features, axis=1, inplace=True)\n",
    "telecom.drop(['customerID',\t'BeginDate', 'EndDate'], axis=1, inplace=True)\n",
    "telecom.info()"
   ]
  },
  {
   "cell_type": "code",
   "execution_count": 39,
   "metadata": {
    "colab": {
     "base_uri": "https://localhost:8080/"
    },
    "id": "cD11Z7zDk0gX",
    "outputId": "49d0e442-d954-4cff-970f-8cee2c54a486"
   },
   "outputs": [
    {
     "data": {
      "text/plain": [
       "Index(['PaperlessBilling', 'MonthlyCharges', 'TotalCharges', 'SeniorCitizen',\n",
       "       'Partner', 'Dependents', 'MultipleLines', 'OnlineSecurity',\n",
       "       'OnlineBackup', 'DeviceProtection', 'TechSupport', 'StreamingTV',\n",
       "       'StreamingMovies', 'Churn', 'LifeTimeDay',\n",
       "       'PaymentMethod_Credit card (automatic)',\n",
       "       'PaymentMethod_Electronic check', 'PaymentMethod_Mailed check',\n",
       "       'Type_One year', 'Type_Two year', 'InternetService_Fiber optic',\n",
       "       'InternetService_No', 'gender_Male'],\n",
       "      dtype='object')"
      ]
     },
     "execution_count": 39,
     "metadata": {},
     "output_type": "execute_result"
    }
   ],
   "source": [
    "telecom.columns"
   ]
  },
  {
   "cell_type": "code",
   "execution_count": 40,
   "metadata": {},
   "outputs": [
    {
     "data": {
      "text/html": [
       "<div>\n",
       "<style scoped>\n",
       "    .dataframe tbody tr th:only-of-type {\n",
       "        vertical-align: middle;\n",
       "    }\n",
       "\n",
       "    .dataframe tbody tr th {\n",
       "        vertical-align: top;\n",
       "    }\n",
       "\n",
       "    .dataframe thead th {\n",
       "        text-align: right;\n",
       "    }\n",
       "</style>\n",
       "<table border=\"1\" class=\"dataframe\">\n",
       "  <thead>\n",
       "    <tr style=\"text-align: right;\">\n",
       "      <th></th>\n",
       "      <th>PaperlessBilling</th>\n",
       "      <th>MonthlyCharges</th>\n",
       "      <th>TotalCharges</th>\n",
       "      <th>SeniorCitizen</th>\n",
       "      <th>Partner</th>\n",
       "      <th>Dependents</th>\n",
       "      <th>MultipleLines</th>\n",
       "      <th>OnlineSecurity</th>\n",
       "      <th>OnlineBackup</th>\n",
       "      <th>DeviceProtection</th>\n",
       "      <th>...</th>\n",
       "      <th>Churn</th>\n",
       "      <th>LifeTimeDay</th>\n",
       "      <th>PaymentMethod_Credit card (automatic)</th>\n",
       "      <th>PaymentMethod_Electronic check</th>\n",
       "      <th>PaymentMethod_Mailed check</th>\n",
       "      <th>Type_One year</th>\n",
       "      <th>Type_Two year</th>\n",
       "      <th>InternetService_Fiber optic</th>\n",
       "      <th>InternetService_No</th>\n",
       "      <th>gender_Male</th>\n",
       "    </tr>\n",
       "  </thead>\n",
       "  <tbody>\n",
       "    <tr>\n",
       "      <th>0</th>\n",
       "      <td>1</td>\n",
       "      <td>29.85</td>\n",
       "      <td>29.85</td>\n",
       "      <td>0</td>\n",
       "      <td>1</td>\n",
       "      <td>0</td>\n",
       "      <td>0</td>\n",
       "      <td>0</td>\n",
       "      <td>1</td>\n",
       "      <td>0</td>\n",
       "      <td>...</td>\n",
       "      <td>0</td>\n",
       "      <td>31</td>\n",
       "      <td>0</td>\n",
       "      <td>1</td>\n",
       "      <td>0</td>\n",
       "      <td>0</td>\n",
       "      <td>0</td>\n",
       "      <td>0</td>\n",
       "      <td>0</td>\n",
       "      <td>0</td>\n",
       "    </tr>\n",
       "    <tr>\n",
       "      <th>1</th>\n",
       "      <td>0</td>\n",
       "      <td>56.95</td>\n",
       "      <td>1889.50</td>\n",
       "      <td>0</td>\n",
       "      <td>0</td>\n",
       "      <td>0</td>\n",
       "      <td>0</td>\n",
       "      <td>1</td>\n",
       "      <td>0</td>\n",
       "      <td>1</td>\n",
       "      <td>...</td>\n",
       "      <td>0</td>\n",
       "      <td>1036</td>\n",
       "      <td>0</td>\n",
       "      <td>0</td>\n",
       "      <td>1</td>\n",
       "      <td>1</td>\n",
       "      <td>0</td>\n",
       "      <td>0</td>\n",
       "      <td>0</td>\n",
       "      <td>1</td>\n",
       "    </tr>\n",
       "    <tr>\n",
       "      <th>2</th>\n",
       "      <td>1</td>\n",
       "      <td>53.85</td>\n",
       "      <td>108.15</td>\n",
       "      <td>0</td>\n",
       "      <td>0</td>\n",
       "      <td>0</td>\n",
       "      <td>0</td>\n",
       "      <td>1</td>\n",
       "      <td>1</td>\n",
       "      <td>0</td>\n",
       "      <td>...</td>\n",
       "      <td>1</td>\n",
       "      <td>61</td>\n",
       "      <td>0</td>\n",
       "      <td>0</td>\n",
       "      <td>1</td>\n",
       "      <td>0</td>\n",
       "      <td>0</td>\n",
       "      <td>0</td>\n",
       "      <td>0</td>\n",
       "      <td>1</td>\n",
       "    </tr>\n",
       "  </tbody>\n",
       "</table>\n",
       "<p>3 rows × 23 columns</p>\n",
       "</div>"
      ],
      "text/plain": [
       "   PaperlessBilling  MonthlyCharges  TotalCharges  SeniorCitizen  Partner  \\\n",
       "0                 1           29.85         29.85              0        1   \n",
       "1                 0           56.95       1889.50              0        0   \n",
       "2                 1           53.85        108.15              0        0   \n",
       "\n",
       "   Dependents  MultipleLines  OnlineSecurity  OnlineBackup  DeviceProtection  \\\n",
       "0           0              0               0             1                 0   \n",
       "1           0              0               1             0                 1   \n",
       "2           0              0               1             1                 0   \n",
       "\n",
       "   ...  Churn  LifeTimeDay  PaymentMethod_Credit card (automatic)  \\\n",
       "0  ...      0           31                                      0   \n",
       "1  ...      0         1036                                      0   \n",
       "2  ...      1           61                                      0   \n",
       "\n",
       "   PaymentMethod_Electronic check  PaymentMethod_Mailed check  Type_One year  \\\n",
       "0                               1                           0              0   \n",
       "1                               0                           1              1   \n",
       "2                               0                           1              0   \n",
       "\n",
       "   Type_Two year  InternetService_Fiber optic  InternetService_No  gender_Male  \n",
       "0              0                            0                   0            0  \n",
       "1              0                            0                   0            1  \n",
       "2              0                            0                   0            1  \n",
       "\n",
       "[3 rows x 23 columns]"
      ]
     },
     "execution_count": 40,
     "metadata": {},
     "output_type": "execute_result"
    }
   ],
   "source": [
    "telecom.head(3)"
   ]
  },
  {
   "cell_type": "markdown",
   "metadata": {
    "id": "h7pSGCR5Wetq"
   },
   "source": [
    "### Важность признаков"
   ]
  },
  {
   "cell_type": "code",
   "execution_count": 41,
   "metadata": {
    "colab": {
     "base_uri": "https://localhost:8080/",
     "height": 607
    },
    "id": "rAaxqvKe6KNj",
    "outputId": "e3ad5048-f342-4def-fbec-043f802861c2"
   },
   "outputs": [
    {
     "data": {
      "image/png": "[encoded data removed]",
      "text/plain": [
       "<Figure size 1080x720 with 2 Axes>"
      ]
     },
     "metadata": {
      "needs_background": "light"
     },
     "output_type": "display_data"
    }
   ],
   "source": [
    "# коллинеарность с целевым признаком\n",
    "corr = telecom.corr()\n",
    "corr_churn = corr[['Churn']]\n",
    "\n",
    "# получение важности признаков\n",
    "importance = get_importance(telecom.drop(['Churn'], axis=1), telecom['Churn'])\n",
    "\n",
    "# тепловая карта\n",
    "_, ax = plt.subplots(1, figsize=(15,10))\n",
    "corr_importance = corr_churn.join(importance)\n",
    "sns.heatmap(corr_importance.sort_values('avg', ascending=False), annot=True, ax=ax);\n",
    "plt.title('Корреляция и важность признаков');"
   ]
  },
  {
   "cell_type": "code",
   "execution_count": 42,
   "metadata": {},
   "outputs": [],
   "source": [
    "# удаляем \"неважные\" признаки (согласно тепловой карте + эксперименты)\n",
    "not_important = ['gender_Male', 'StreamingTV', 'StreamingMovies', \n",
    "                 'DeviceProtection', 'MultipleLines', 'OnlineSecurity',\n",
    "                 'TotalCharges', 'MonthlyCharges', 'OnlineBackup', 'TechSupport',\n",
    "                 'PaymentMethod_Mailed check', 'Dependents'\n",
    "                 ]\n",
    "\n",
    "telecom.drop(not_important, axis=1, inplace=True)"
   ]
  },
  {
   "cell_type": "markdown",
   "metadata": {
    "id": "S3VmzzLs4hxO"
   },
   "source": [
    "### Разделение на выборки"
   ]
  },
  {
   "cell_type": "code",
   "execution_count": 43,
   "metadata": {
    "colab": {
     "base_uri": "https://localhost:8080/"
    },
    "id": "7t9VR9SXktYM",
    "outputId": "8f10192e-7b47-49b3-def7-e5b8cc26d277"
   },
   "outputs": [
    {
     "name": "stdout",
     "output_type": "stream",
     "text": [
      "\n",
      "Before:\n",
      "0    4138\n",
      "1    1496\n",
      "Name: Churn, dtype: int64\n",
      "\n",
      "After:\n",
      "1    4488\n",
      "0    4138\n",
      "Name: Churn, dtype: int64\n"
     ]
    }
   ],
   "source": [
    "# разбиение на выборки\n",
    "train, test = train_test_split(telecom, test_size=0.2, random_state=42)\n",
    "\n",
    "# балансировка обучающей выборки\n",
    "train = get_balanced(train, 'Churn',  n=3)\n",
    "\n",
    "# отделяем целевой признак\n",
    "X_train, y_train = split_data(train, 'Churn')\n",
    "X_test, y_test = split_data(test, 'Churn')"
   ]
  },
  {
   "cell_type": "markdown",
   "metadata": {
    "id": "zG7zi2RTyG44"
   },
   "source": [
    "## Обучение моделей"
   ]
  },
  {
   "cell_type": "markdown",
   "metadata": {
    "id": "Z6Q6Q2eG195E"
   },
   "source": [
    "### LogisticRegression"
   ]
  },
  {
   "cell_type": "code",
   "execution_count": 44,
   "metadata": {
    "id": "qxMR5C2-IcKa"
   },
   "outputs": [],
   "source": [
    "TRAIN_RESULTS = {}"
   ]
  },
  {
   "cell_type": "code",
   "execution_count": 45,
   "metadata": {
    "colab": {
     "base_uri": "https://localhost:8080/"
    },
    "id": "VpPHTBvoJhDs",
    "outputId": "811835bf-a887-4328-970c-4305ee1e5544"
   },
   "outputs": [
    {
     "name": "stdout",
     "output_type": "stream",
     "text": [
      "Fitting 5 folds for each of 10 candidates, totalling 50 fits\n"
     ]
    },
    {
     "name": "stderr",
     "output_type": "stream",
     "text": [
      "[Parallel(n_jobs=-1)]: Using backend LokyBackend with 4 concurrent workers.\n",
      "[Parallel(n_jobs=-1)]: Done  42 tasks      | elapsed:    6.1s\n",
      "[Parallel(n_jobs=-1)]: Done  50 out of  50 | elapsed:    6.6s finished\n"
     ]
    },
    {
     "name": "stdout",
     "output_type": "stream",
     "text": [
      "The best params: {'tol': 1e-05, 'penalty': 'l2', 'n_jobs': -1, 'max_iter': 1000, 'l1_ratio': 14, 'class_weight': 'balanced', 'C': 100}\n",
      "{'C': 100,\n",
      " 'class_weight': 'balanced',\n",
      " 'dual': False,\n",
      " 'fit_intercept': True,\n",
      " 'intercept_scaling': 1,\n",
      " 'l1_ratio': 14,\n",
      " 'max_iter': 1000,\n",
      " 'multi_class': 'auto',\n",
      " 'n_jobs': -1,\n",
      " 'penalty': 'l2',\n",
      " 'random_state': None,\n",
      " 'solver': 'lbfgs',\n",
      " 'tol': 1e-05,\n",
      " 'verbose': 0,\n",
      " 'warm_start': False}\n",
      "CPU times: user 417 ms, sys: 78.2 ms, total: 496 ms\n",
      "Wall time: 7.07 s\n"
     ]
    }
   ],
   "source": [
    "%%time\n",
    "\n",
    "params = {\n",
    "  'C': range(10, 200, 10),\n",
    "  'class_weight': [None, 'balanced'],\n",
    "  'l1_ratio': range(1,15),\n",
    "  'max_iter': [1000],\n",
    "  'n_jobs': [-1],\n",
    "  'penalty': ['l2'],\n",
    "  'tol': [1e-2, 1e-3, 1e-4, 1e-5, 1e-6],\n",
    " }\n",
    "\n",
    "# lg = grid_search(LogisticRegression(), params, X_train, y_train)\n",
    "lg = random_search(LogisticRegression(), params, X_train, y_train, iter=10)\n",
    "\n",
    "pprint(lg.get_params())"
   ]
  },
  {
   "cell_type": "code",
   "execution_count": 46,
   "metadata": {
    "colab": {
     "base_uri": "https://localhost:8080/",
     "height": 204
    },
    "id": "GyP04zML5IlR",
    "outputId": "1bb4d269-89f5-4f94-caf3-faaaf10c5f51"
   },
   "outputs": [
    {
     "data": {
      "text/html": [
       "<div>\n",
       "<style scoped>\n",
       "    .dataframe tbody tr th:only-of-type {\n",
       "        vertical-align: middle;\n",
       "    }\n",
       "\n",
       "    .dataframe tbody tr th {\n",
       "        vertical-align: top;\n",
       "    }\n",
       "\n",
       "    .dataframe thead th {\n",
       "        text-align: right;\n",
       "    }\n",
       "</style>\n",
       "<table border=\"1\" class=\"dataframe\">\n",
       "  <thead>\n",
       "    <tr style=\"text-align: right;\">\n",
       "      <th></th>\n",
       "      <th>train</th>\n",
       "      <th>test</th>\n",
       "    </tr>\n",
       "  </thead>\n",
       "  <tbody>\n",
       "    <tr>\n",
       "      <th>Accuracy</th>\n",
       "      <td>0.755391</td>\n",
       "      <td>0.752307</td>\n",
       "    </tr>\n",
       "    <tr>\n",
       "      <th>ROC-AUC</th>\n",
       "      <td>0.753725</td>\n",
       "      <td>0.785239</td>\n",
       "    </tr>\n",
       "    <tr>\n",
       "      <th>Precision</th>\n",
       "      <td>0.750000</td>\n",
       "      <td>0.519544</td>\n",
       "    </tr>\n",
       "    <tr>\n",
       "      <th>Recall</th>\n",
       "      <td>0.794786</td>\n",
       "      <td>0.855228</td>\n",
       "    </tr>\n",
       "    <tr>\n",
       "      <th>F1</th>\n",
       "      <td>0.771744</td>\n",
       "      <td>0.646403</td>\n",
       "    </tr>\n",
       "  </tbody>\n",
       "</table>\n",
       "</div>"
      ],
      "text/plain": [
       "              train      test\n",
       "Accuracy   0.755391  0.752307\n",
       "ROC-AUC    0.753725  0.785239\n",
       "Precision  0.750000  0.519544\n",
       "Recall     0.794786  0.855228\n",
       "F1         0.771744  0.646403"
      ]
     },
     "execution_count": 46,
     "metadata": {},
     "output_type": "execute_result"
    }
   ],
   "source": [
    "score_stat(lg, X_train, y_train, X_test, y_test)"
   ]
  },
  {
   "cell_type": "code",
   "execution_count": 47,
   "metadata": {
    "colab": {
     "base_uri": "https://localhost:8080/"
    },
    "id": "AAgnY71Bf03y",
    "outputId": "48b0d2d3-fb7b-4ed3-8aa6-1f64deaa1331"
   },
   "outputs": [
    {
     "name": "stdout",
     "output_type": "stream",
     "text": [
      "CPU times: user 832 ms, sys: 610 ms, total: 1.44 s\n",
      "Wall time: 397 ms\n"
     ]
    }
   ],
   "source": [
    "%%time\n",
    "\n",
    "# обучение с лучшими найденными параметрами\n",
    "lg_best = LogisticRegression(\n",
    "    C=1.0, class_weight=None, dual=False, fit_intercept=True, \n",
    "    intercept_scaling=1, l1_ratio=None, max_iter=100, multi_class='auto', \n",
    "    n_jobs=None, penalty='l2', random_state=None, solver='lbfgs', tol=0.0001, \n",
    "    verbose=0, warm_start=False).fit(X_train, y_train)\n",
    "\n",
    "lg_results = score_stat(lg_best, X_train, y_train, X_test, y_test)\n",
    "TRAIN_RESULTS['LogisticRegression'] = lg_results.loc['ROC-AUC']"
   ]
  },
  {
   "cell_type": "code",
   "execution_count": 48,
   "metadata": {
    "colab": {
     "base_uri": "https://localhost:8080/",
     "height": 204
    },
    "id": "u7mXwq7C5FKV",
    "outputId": "a1a5e94d-bad4-4320-e049-bf6b2aba0926"
   },
   "outputs": [
    {
     "data": {
      "text/html": [
       "<div>\n",
       "<style scoped>\n",
       "    .dataframe tbody tr th:only-of-type {\n",
       "        vertical-align: middle;\n",
       "    }\n",
       "\n",
       "    .dataframe tbody tr th {\n",
       "        vertical-align: top;\n",
       "    }\n",
       "\n",
       "    .dataframe thead th {\n",
       "        text-align: right;\n",
       "    }\n",
       "</style>\n",
       "<table border=\"1\" class=\"dataframe\">\n",
       "  <thead>\n",
       "    <tr style=\"text-align: right;\">\n",
       "      <th></th>\n",
       "      <th>train</th>\n",
       "      <th>test</th>\n",
       "    </tr>\n",
       "  </thead>\n",
       "  <tbody>\n",
       "    <tr>\n",
       "      <th>Accuracy</th>\n",
       "      <td>0.755159</td>\n",
       "      <td>0.748048</td>\n",
       "    </tr>\n",
       "    <tr>\n",
       "      <th>ROC-AUC</th>\n",
       "      <td>0.753002</td>\n",
       "      <td>0.784059</td>\n",
       "    </tr>\n",
       "    <tr>\n",
       "      <th>Precision</th>\n",
       "      <td>0.744444</td>\n",
       "      <td>0.514423</td>\n",
       "    </tr>\n",
       "    <tr>\n",
       "      <th>Recall</th>\n",
       "      <td>0.806150</td>\n",
       "      <td>0.860590</td>\n",
       "    </tr>\n",
       "    <tr>\n",
       "      <th>F1</th>\n",
       "      <td>0.774069</td>\n",
       "      <td>0.643932</td>\n",
       "    </tr>\n",
       "  </tbody>\n",
       "</table>\n",
       "</div>"
      ],
      "text/plain": [
       "              train      test\n",
       "Accuracy   0.755159  0.748048\n",
       "ROC-AUC    0.753002  0.784059\n",
       "Precision  0.744444  0.514423\n",
       "Recall     0.806150  0.860590\n",
       "F1         0.774069  0.643932"
      ]
     },
     "execution_count": 48,
     "metadata": {},
     "output_type": "execute_result"
    }
   ],
   "source": [
    "lg_results"
   ]
  },
  {
   "cell_type": "markdown",
   "metadata": {
    "id": "Y-jRFIImJyid"
   },
   "source": [
    "### LightGBM"
   ]
  },
  {
   "cell_type": "code",
   "execution_count": 49,
   "metadata": {
    "colab": {
     "base_uri": "https://localhost:8080/"
    },
    "id": "Sf1zYGZUObKt",
    "outputId": "e721b93b-47f0-481c-f5e4-33a329b74e1d"
   },
   "outputs": [
    {
     "name": "stdout",
     "output_type": "stream",
     "text": [
      "Fitting 5 folds for each of 10 candidates, totalling 50 fits\n"
     ]
    },
    {
     "name": "stderr",
     "output_type": "stream",
     "text": [
      "[Parallel(n_jobs=-1)]: Using backend LokyBackend with 4 concurrent workers.\n",
      "[Parallel(n_jobs=-1)]: Done  42 tasks      | elapsed:    4.3s\n",
      "[Parallel(n_jobs=-1)]: Done  50 out of  50 | elapsed:    4.9s finished\n"
     ]
    },
    {
     "name": "stdout",
     "output_type": "stream",
     "text": [
      "The best params: {'subsample': 0.4, 'reg_lambda': 1, 'reg_alpha': 0.1, 'num_leaves': 43, 'num_iterations': 100, 'n_jobs': -1, 'min_child_weight': 0.01, 'min_child_samples': 10, 'max_depth': 18, 'learning_rate': 0.0015, 'colsample_bytree': 0.42857142857142855, 'class_weight': 'balanced', 'boosting_type': 'gbdt'}\n",
      "{'boosting_type': 'gbdt',\n",
      " 'class_weight': 'balanced',\n",
      " 'colsample_bytree': 0.42857142857142855,\n",
      " 'importance_type': 'split',\n",
      " 'learning_rate': 0.0015,\n",
      " 'max_depth': 18,\n",
      " 'min_child_samples': 10,\n",
      " 'min_child_weight': 0.01,\n",
      " 'min_split_gain': 0.0,\n",
      " 'n_estimators': 100,\n",
      " 'n_jobs': -1,\n",
      " 'num_iterations': 100,\n",
      " 'num_leaves': 43,\n",
      " 'objective': None,\n",
      " 'random_state': None,\n",
      " 'reg_alpha': 0.1,\n",
      " 'reg_lambda': 1,\n",
      " 'silent': True,\n",
      " 'subsample': 0.4,\n",
      " 'subsample_for_bin': 200000,\n",
      " 'subsample_freq': 0}\n",
      "CPU times: user 1.09 s, sys: 36.7 ms, total: 1.13 s\n",
      "Wall time: 5.11 s\n"
     ]
    }
   ],
   "source": [
    "%%time\n",
    "\n",
    "lgbm_params = {\n",
    "  'boosting_type': ['gbdt'],\n",
    "  'max_depth': [18],\n",
    "  'n_jobs': [-1],\n",
    "  'num_leaves': range(42, 44), \n",
    "  'min_child_samples': [10,15], \n",
    "  'min_child_weight': [1e-2, 1e-1],\n",
    "  'learning_rate': [0.0015],\n",
    "  'class_weight': [None, 'balanced'],\n",
    "  'subsample': [0.2, 0.4, 0.6, 0.8],\n",
    "  'colsample_bytree': np.linspace(0,1,8),\n",
    "  'reg_alpha': [0, 0.1],\n",
    "  'reg_lambda': [0, 1, 5],\n",
    "  'num_iterations': [100],\n",
    " }\n",
    " \n",
    "# lgbm = grid_search(LGBMClassifier(), lgbm_params, X_train, y_train)\n",
    "lgbm = random_search(LGBMClassifier(), lgbm_params, X_train, y_train, iter=10)\n",
    "\n",
    "pprint(lgbm.get_params())"
   ]
  },
  {
   "cell_type": "code",
   "execution_count": 50,
   "metadata": {
    "colab": {
     "base_uri": "https://localhost:8080/",
     "height": 204
    },
    "id": "SyRqK1mP5MDC",
    "outputId": "9daa2f88-05d0-4b84-e22b-0d907f777fd4"
   },
   "outputs": [
    {
     "data": {
      "text/html": [
       "<div>\n",
       "<style scoped>\n",
       "    .dataframe tbody tr th:only-of-type {\n",
       "        vertical-align: middle;\n",
       "    }\n",
       "\n",
       "    .dataframe tbody tr th {\n",
       "        vertical-align: top;\n",
       "    }\n",
       "\n",
       "    .dataframe thead th {\n",
       "        text-align: right;\n",
       "    }\n",
       "</style>\n",
       "<table border=\"1\" class=\"dataframe\">\n",
       "  <thead>\n",
       "    <tr style=\"text-align: right;\">\n",
       "      <th></th>\n",
       "      <th>train</th>\n",
       "      <th>test</th>\n",
       "    </tr>\n",
       "  </thead>\n",
       "  <tbody>\n",
       "    <tr>\n",
       "      <th>Accuracy</th>\n",
       "      <td>0.809993</td>\n",
       "      <td>0.805536</td>\n",
       "    </tr>\n",
       "    <tr>\n",
       "      <th>ROC-AUC</th>\n",
       "      <td>0.809138</td>\n",
       "      <td>0.821436</td>\n",
       "    </tr>\n",
       "    <tr>\n",
       "      <th>Precision</th>\n",
       "      <td>0.809472</td>\n",
       "      <td>0.591837</td>\n",
       "    </tr>\n",
       "    <tr>\n",
       "      <th>Recall</th>\n",
       "      <td>0.830214</td>\n",
       "      <td>0.855228</td>\n",
       "    </tr>\n",
       "    <tr>\n",
       "      <th>F1</th>\n",
       "      <td>0.819712</td>\n",
       "      <td>0.699561</td>\n",
       "    </tr>\n",
       "  </tbody>\n",
       "</table>\n",
       "</div>"
      ],
      "text/plain": [
       "              train      test\n",
       "Accuracy   0.809993  0.805536\n",
       "ROC-AUC    0.809138  0.821436\n",
       "Precision  0.809472  0.591837\n",
       "Recall     0.830214  0.855228\n",
       "F1         0.819712  0.699561"
      ]
     },
     "execution_count": 50,
     "metadata": {},
     "output_type": "execute_result"
    }
   ],
   "source": [
    "score_stat(lgbm, X_train, y_train, X_test, y_test)"
   ]
  },
  {
   "cell_type": "code",
   "execution_count": 51,
   "metadata": {
    "colab": {
     "base_uri": "https://localhost:8080/"
    },
    "id": "vzHsO7o_grii",
    "outputId": "3a2d9d12-e7ea-4cd3-bd59-c46133521cc5"
   },
   "outputs": [
    {
     "name": "stdout",
     "output_type": "stream",
     "text": [
      "CPU times: user 1.04 s, sys: 11.4 ms, total: 1.05 s\n",
      "Wall time: 326 ms\n"
     ]
    }
   ],
   "source": [
    "%%time\n",
    "\n",
    "# обучение с лучшими найденными параметрами\n",
    "lgbm_best = LGBMClassifier(\n",
    "    num_leaves=43, n_jobs=-1, min_child_weight=0.1, min_child_samples=10, \n",
    "    max_depth=18, boosting_type='gbdt').fit(X_train, y_train)\n",
    "\n",
    "lgbm_results = score_stat(lgbm_best, X_train, y_train, X_test, y_test)\n",
    "TRAIN_RESULTS['LGBMClassifier'] = lgbm_results.loc['ROC-AUC']"
   ]
  },
  {
   "cell_type": "code",
   "execution_count": 52,
   "metadata": {
    "colab": {
     "base_uri": "https://localhost:8080/",
     "height": 204
    },
    "id": "72L1ZAfv5OvO",
    "outputId": "5c5437f9-3672-4e7b-a82f-c4aeb7831aaa"
   },
   "outputs": [
    {
     "data": {
      "text/html": [
       "<div>\n",
       "<style scoped>\n",
       "    .dataframe tbody tr th:only-of-type {\n",
       "        vertical-align: middle;\n",
       "    }\n",
       "\n",
       "    .dataframe tbody tr th {\n",
       "        vertical-align: top;\n",
       "    }\n",
       "\n",
       "    .dataframe thead th {\n",
       "        text-align: right;\n",
       "    }\n",
       "</style>\n",
       "<table border=\"1\" class=\"dataframe\">\n",
       "  <thead>\n",
       "    <tr style=\"text-align: right;\">\n",
       "      <th></th>\n",
       "      <th>train</th>\n",
       "      <th>test</th>\n",
       "    </tr>\n",
       "  </thead>\n",
       "  <tbody>\n",
       "    <tr>\n",
       "      <th>Accuracy</th>\n",
       "      <td>0.907141</td>\n",
       "      <td>0.865862</td>\n",
       "    </tr>\n",
       "    <tr>\n",
       "      <th>ROC-AUC</th>\n",
       "      <td>0.906126</td>\n",
       "      <td>0.867607</td>\n",
       "    </tr>\n",
       "    <tr>\n",
       "      <th>Precision</th>\n",
       "      <td>0.894669</td>\n",
       "      <td>0.697425</td>\n",
       "    </tr>\n",
       "    <tr>\n",
       "      <th>Recall</th>\n",
       "      <td>0.931150</td>\n",
       "      <td>0.871314</td>\n",
       "    </tr>\n",
       "    <tr>\n",
       "      <th>F1</th>\n",
       "      <td>0.912545</td>\n",
       "      <td>0.774732</td>\n",
       "    </tr>\n",
       "  </tbody>\n",
       "</table>\n",
       "</div>"
      ],
      "text/plain": [
       "              train      test\n",
       "Accuracy   0.907141  0.865862\n",
       "ROC-AUC    0.906126  0.867607\n",
       "Precision  0.894669  0.697425\n",
       "Recall     0.931150  0.871314\n",
       "F1         0.912545  0.774732"
      ]
     },
     "execution_count": 52,
     "metadata": {},
     "output_type": "execute_result"
    }
   ],
   "source": [
    "lgbm_results"
   ]
  },
  {
   "cell_type": "markdown",
   "metadata": {
    "id": "1A4_KpKXjukc"
   },
   "source": [
    "### CatBoost"
   ]
  },
  {
   "cell_type": "code",
   "execution_count": 53,
   "metadata": {
    "colab": {
     "base_uri": "https://localhost:8080/"
    },
    "id": "nQpuswhM363d",
    "outputId": "7005b72a-2882-48d5-8ad3-1d5e9eafff07"
   },
   "outputs": [
    {
     "name": "stdout",
     "output_type": "stream",
     "text": [
      "Fitting 5 folds for each of 10 candidates, totalling 50 fits\n"
     ]
    },
    {
     "name": "stderr",
     "output_type": "stream",
     "text": [
      "[Parallel(n_jobs=-1)]: Using backend LokyBackend with 4 concurrent workers.\n",
      "[Parallel(n_jobs=-1)]: Done  42 tasks      | elapsed:  5.0min\n",
      "[Parallel(n_jobs=-1)]: Done  50 out of  50 | elapsed:  5.5min finished\n"
     ]
    },
    {
     "name": "stdout",
     "output_type": "stream",
     "text": [
      "The best params: {'min_data_in_leaf': 2, 'learning_rate': 0.001, 'l2_leaf_reg': 1, 'depth': 3, 'class_weights': {1: 0.58, 0: 1.1}}\n",
      "{'class_weights': {0: 1.1, 1: 0.58},\n",
      " 'depth': 3,\n",
      " 'l2_leaf_reg': 1,\n",
      " 'learning_rate': 0.001,\n",
      " 'min_data_in_leaf': 2,\n",
      " 'verbose': False}\n",
      "CPU times: user 6.94 s, sys: 564 ms, total: 7.51 s\n",
      "Wall time: 5min 32s\n"
     ]
    }
   ],
   "source": [
    "%%time\n",
    "\n",
    "cb_params = {\n",
    "  # 'iterations': [1000],\n",
    "  'l2_leaf_reg': range(1,5),\n",
    "  'min_data_in_leaf': [1,2,3],\n",
    "  'depth': [3,6,10],\n",
    "  'class_weights': [{1: 0.58, 0: 1.1}],\n",
    "  'learning_rate': [0.05, 0.001],\n",
    " }\n",
    "\n",
    "m = CatBoostClassifier(verbose=False)\n",
    "# cb = grid_search(m, cb_params, X_train, y_train)\n",
    "cb = random_search(m, cb_params, X_train, y_train, iter=10)\n",
    "pprint(cb.get_params())"
   ]
  },
  {
   "cell_type": "code",
   "execution_count": 54,
   "metadata": {
    "colab": {
     "base_uri": "https://localhost:8080/",
     "height": 204
    },
    "id": "CFYYE_V0TWge",
    "outputId": "daeae201-2ce0-4bc3-f1ab-fbd70ddeace3"
   },
   "outputs": [
    {
     "data": {
      "text/html": [
       "<div>\n",
       "<style scoped>\n",
       "    .dataframe tbody tr th:only-of-type {\n",
       "        vertical-align: middle;\n",
       "    }\n",
       "\n",
       "    .dataframe tbody tr th {\n",
       "        vertical-align: top;\n",
       "    }\n",
       "\n",
       "    .dataframe thead th {\n",
       "        text-align: right;\n",
       "    }\n",
       "</style>\n",
       "<table border=\"1\" class=\"dataframe\">\n",
       "  <thead>\n",
       "    <tr style=\"text-align: right;\">\n",
       "      <th></th>\n",
       "      <th>train</th>\n",
       "      <th>test</th>\n",
       "    </tr>\n",
       "  </thead>\n",
       "  <tbody>\n",
       "    <tr>\n",
       "      <th>Accuracy</th>\n",
       "      <td>0.734524</td>\n",
       "      <td>0.822569</td>\n",
       "    </tr>\n",
       "    <tr>\n",
       "      <th>ROC-AUC</th>\n",
       "      <td>0.740201</td>\n",
       "      <td>0.767822</td>\n",
       "    </tr>\n",
       "    <tr>\n",
       "      <th>Precision</th>\n",
       "      <td>0.844514</td>\n",
       "      <td>0.669421</td>\n",
       "    </tr>\n",
       "    <tr>\n",
       "      <th>Recall</th>\n",
       "      <td>0.600267</td>\n",
       "      <td>0.651475</td>\n",
       "    </tr>\n",
       "    <tr>\n",
       "      <th>F1</th>\n",
       "      <td>0.701745</td>\n",
       "      <td>0.660326</td>\n",
       "    </tr>\n",
       "  </tbody>\n",
       "</table>\n",
       "</div>"
      ],
      "text/plain": [
       "              train      test\n",
       "Accuracy   0.734524  0.822569\n",
       "ROC-AUC    0.740201  0.767822\n",
       "Precision  0.844514  0.669421\n",
       "Recall     0.600267  0.651475\n",
       "F1         0.701745  0.660326"
      ]
     },
     "execution_count": 54,
     "metadata": {},
     "output_type": "execute_result"
    }
   ],
   "source": [
    "score_stat(cb, X_train, y_train, X_test, y_test)"
   ]
  },
  {
   "cell_type": "code",
   "execution_count": 55,
   "metadata": {
    "colab": {
     "base_uri": "https://localhost:8080/"
    },
    "id": "EKMhJ6-CdNLF",
    "outputId": "91ad67c4-e74c-4b2d-85c3-aa0f9b399343"
   },
   "outputs": [
    {
     "name": "stdout",
     "output_type": "stream",
     "text": [
      "CPU times: user 10.3 s, sys: 1.18 s, total: 11.5 s\n",
      "Wall time: 8.05 s\n"
     ]
    }
   ],
   "source": [
    "%%time\n",
    "\n",
    "# обучение с лучшими найденными параметрами\n",
    "cb_best = CatBoostClassifier(\n",
    "    class_weights={1: 0.58, 0: 1.1}, depth=6, iterations=1000, l2_leaf_reg=2, \n",
    "    min_data_in_leaf=1, verbose=False).fit(X_train, y_train)\n",
    "\n",
    "cb_results = score_stat(cb_best, X_train, y_train, X_test, y_test)\n",
    "TRAIN_RESULTS['CatBoostClassifier'] = cb_results.loc['ROC-AUC']"
   ]
  },
  {
   "cell_type": "code",
   "execution_count": 56,
   "metadata": {
    "colab": {
     "base_uri": "https://localhost:8080/",
     "height": 204
    },
    "id": "tLx6HSpt5XVl",
    "outputId": "8533c3d3-ffb1-41e0-cd2e-5f6d3e9d8256"
   },
   "outputs": [
    {
     "data": {
      "text/html": [
       "<div>\n",
       "<style scoped>\n",
       "    .dataframe tbody tr th:only-of-type {\n",
       "        vertical-align: middle;\n",
       "    }\n",
       "\n",
       "    .dataframe tbody tr th {\n",
       "        vertical-align: top;\n",
       "    }\n",
       "\n",
       "    .dataframe thead th {\n",
       "        text-align: right;\n",
       "    }\n",
       "</style>\n",
       "<table border=\"1\" class=\"dataframe\">\n",
       "  <thead>\n",
       "    <tr style=\"text-align: right;\">\n",
       "      <th></th>\n",
       "      <th>train</th>\n",
       "      <th>test</th>\n",
       "    </tr>\n",
       "  </thead>\n",
       "  <tbody>\n",
       "    <tr>\n",
       "      <th>Accuracy</th>\n",
       "      <td>0.879550</td>\n",
       "      <td>0.911285</td>\n",
       "    </tr>\n",
       "    <tr>\n",
       "      <th>ROC-AUC</th>\n",
       "      <td>0.881863</td>\n",
       "      <td>0.887343</td>\n",
       "    </tr>\n",
       "    <tr>\n",
       "      <th>Precision</th>\n",
       "      <td>0.936030</td>\n",
       "      <td>0.829787</td>\n",
       "    </tr>\n",
       "    <tr>\n",
       "      <th>Recall</th>\n",
       "      <td>0.824866</td>\n",
       "      <td>0.836461</td>\n",
       "    </tr>\n",
       "    <tr>\n",
       "      <th>F1</th>\n",
       "      <td>0.876939</td>\n",
       "      <td>0.833111</td>\n",
       "    </tr>\n",
       "  </tbody>\n",
       "</table>\n",
       "</div>"
      ],
      "text/plain": [
       "              train      test\n",
       "Accuracy   0.879550  0.911285\n",
       "ROC-AUC    0.881863  0.887343\n",
       "Precision  0.936030  0.829787\n",
       "Recall     0.824866  0.836461\n",
       "F1         0.876939  0.833111"
      ]
     },
     "execution_count": 56,
     "metadata": {},
     "output_type": "execute_result"
    }
   ],
   "source": [
    "cb_results"
   ]
  },
  {
   "cell_type": "markdown",
   "metadata": {
    "id": "ep9ro9z7PJ_A"
   },
   "source": [
    "### XGBClassifier"
   ]
  },
  {
   "cell_type": "code",
   "execution_count": 57,
   "metadata": {
    "colab": {
     "base_uri": "https://localhost:8080/"
    },
    "id": "SOq6rEFh3dIe",
    "outputId": "55667778-7eb8-497f-b4ff-1c966ab08de5"
   },
   "outputs": [
    {
     "name": "stdout",
     "output_type": "stream",
     "text": [
      "Fitting 5 folds for each of 10 candidates, totalling 50 fits\n"
     ]
    },
    {
     "name": "stderr",
     "output_type": "stream",
     "text": [
      "[Parallel(n_jobs=-1)]: Using backend LokyBackend with 4 concurrent workers.\n",
      "[Parallel(n_jobs=-1)]: Done  42 tasks      | elapsed:   18.8s\n",
      "[Parallel(n_jobs=-1)]: Done  50 out of  50 | elapsed:   19.6s finished\n"
     ]
    },
    {
     "name": "stdout",
     "output_type": "stream",
     "text": [
      "The best params: {'max_depth': 15, 'learning_rate': 0.1, 'colsample_bytree': 0.375, 'booster': 'gbtree', 'alpha': 9}\n",
      "{'alpha': 9,\n",
      " 'base_score': 0.5,\n",
      " 'booster': 'gbtree',\n",
      " 'colsample_bylevel': 1,\n",
      " 'colsample_bynode': 1,\n",
      " 'colsample_bytree': 0.375,\n",
      " 'gamma': 0,\n",
      " 'gpu_id': -1,\n",
      " 'importance_type': 'gain',\n",
      " 'interaction_constraints': '',\n",
      " 'learning_rate': 0.1,\n",
      " 'max_delta_step': 0,\n",
      " 'max_depth': 15,\n",
      " 'min_child_weight': 1,\n",
      " 'missing': nan,\n",
      " 'monotone_constraints': '()',\n",
      " 'n_estimators': 100,\n",
      " 'n_jobs': 0,\n",
      " 'num_parallel_tree': 1,\n",
      " 'objective': 'binary:logistic',\n",
      " 'random_state': 0,\n",
      " 'reg_alpha': 9,\n",
      " 'reg_lambda': 1,\n",
      " 'scale_pos_weight': 1,\n",
      " 'subsample': 1,\n",
      " 'tree_method': 'exact',\n",
      " 'validate_parameters': 1,\n",
      " 'verbosity': None}\n",
      "CPU times: user 1.54 s, sys: 110 ms, total: 1.65 s\n",
      "Wall time: 20.2 s\n"
     ]
    }
   ],
   "source": [
    "%%time\n",
    "\n",
    "xgb_params = {\n",
    "    \"booster\":['gbtree'],\n",
    "    'colsample_bytree': np.linspace(0,1,8, endpoint=False),\n",
    "    'learning_rate': [0.1, 0.01, 0.001],\n",
    "    'max_depth': range(3,20),\n",
    "    'alpha': range(1, 20)\n",
    " }\n",
    "\n",
    "# xgb = grid_search(XGBClassifier(), xgb_params, X_train, y_train)\n",
    "xgb = random_search(XGBClassifier(), xgb_params, X_train, y_train, iter=10)\n",
    "pprint(xgb.get_params())"
   ]
  },
  {
   "cell_type": "code",
   "execution_count": 58,
   "metadata": {
    "colab": {
     "base_uri": "https://localhost:8080/",
     "height": 204
    },
    "id": "xTFpv3lB6awc",
    "outputId": "d71eeaab-3fc1-45f9-9908-04fb4689a048"
   },
   "outputs": [
    {
     "data": {
      "text/html": [
       "<div>\n",
       "<style scoped>\n",
       "    .dataframe tbody tr th:only-of-type {\n",
       "        vertical-align: middle;\n",
       "    }\n",
       "\n",
       "    .dataframe tbody tr th {\n",
       "        vertical-align: top;\n",
       "    }\n",
       "\n",
       "    .dataframe thead th {\n",
       "        text-align: right;\n",
       "    }\n",
       "</style>\n",
       "<table border=\"1\" class=\"dataframe\">\n",
       "  <thead>\n",
       "    <tr style=\"text-align: right;\">\n",
       "      <th></th>\n",
       "      <th>train</th>\n",
       "      <th>test</th>\n",
       "    </tr>\n",
       "  </thead>\n",
       "  <tbody>\n",
       "    <tr>\n",
       "      <th>Accuracy</th>\n",
       "      <td>0.827035</td>\n",
       "      <td>0.825408</td>\n",
       "    </tr>\n",
       "    <tr>\n",
       "      <th>ROC-AUC</th>\n",
       "      <td>0.825600</td>\n",
       "      <td>0.846960</td>\n",
       "    </tr>\n",
       "    <tr>\n",
       "      <th>Precision</th>\n",
       "      <td>0.816568</td>\n",
       "      <td>0.617811</td>\n",
       "    </tr>\n",
       "    <tr>\n",
       "      <th>Recall</th>\n",
       "      <td>0.860963</td>\n",
       "      <td>0.892761</td>\n",
       "    </tr>\n",
       "    <tr>\n",
       "      <th>F1</th>\n",
       "      <td>0.838178</td>\n",
       "      <td>0.730263</td>\n",
       "    </tr>\n",
       "  </tbody>\n",
       "</table>\n",
       "</div>"
      ],
      "text/plain": [
       "              train      test\n",
       "Accuracy   0.827035  0.825408\n",
       "ROC-AUC    0.825600  0.846960\n",
       "Precision  0.816568  0.617811\n",
       "Recall     0.860963  0.892761\n",
       "F1         0.838178  0.730263"
      ]
     },
     "execution_count": 58,
     "metadata": {},
     "output_type": "execute_result"
    }
   ],
   "source": [
    "score_stat(xgb, X_train, y_train, X_test, y_test)"
   ]
  },
  {
   "cell_type": "code",
   "execution_count": 59,
   "metadata": {
    "colab": {
     "base_uri": "https://localhost:8080/"
    },
    "id": "A3gK8L4XRyGh",
    "outputId": "85fa34cb-8484-462c-a5f7-9411c563e4e2"
   },
   "outputs": [
    {
     "name": "stdout",
     "output_type": "stream",
     "text": [
      "CPU times: user 1.55 s, sys: 70.8 ms, total: 1.62 s\n",
      "Wall time: 452 ms\n"
     ]
    }
   ],
   "source": [
    "%%time\n",
    "\n",
    "# обучение с лучшими найденными параметрами\n",
    "xgb_best = XGBClassifier(max_depth=15, learning_rate=0.1, colsample_bytree=0.375, \n",
    "                         booster='gbtree', alpha=9).fit(X_train, y_train)\n",
    "\n",
    "xgb_results = score_stat(xgb_best, X_train, y_train, X_test, y_test)\n",
    "TRAIN_RESULTS['XGBClassifier'] = xgb_results.loc['ROC-AUC']"
   ]
  },
  {
   "cell_type": "code",
   "execution_count": 60,
   "metadata": {
    "colab": {
     "base_uri": "https://localhost:8080/",
     "height": 204
    },
    "id": "s4T5gMq_5Z1M",
    "outputId": "9494f6e2-d3fb-49e7-8c09-1eecf2b719ea"
   },
   "outputs": [
    {
     "data": {
      "text/html": [
       "<div>\n",
       "<style scoped>\n",
       "    .dataframe tbody tr th:only-of-type {\n",
       "        vertical-align: middle;\n",
       "    }\n",
       "\n",
       "    .dataframe tbody tr th {\n",
       "        vertical-align: top;\n",
       "    }\n",
       "\n",
       "    .dataframe thead th {\n",
       "        text-align: right;\n",
       "    }\n",
       "</style>\n",
       "<table border=\"1\" class=\"dataframe\">\n",
       "  <thead>\n",
       "    <tr style=\"text-align: right;\">\n",
       "      <th></th>\n",
       "      <th>train</th>\n",
       "      <th>test</th>\n",
       "    </tr>\n",
       "  </thead>\n",
       "  <tbody>\n",
       "    <tr>\n",
       "      <th>Accuracy</th>\n",
       "      <td>0.827035</td>\n",
       "      <td>0.825408</td>\n",
       "    </tr>\n",
       "    <tr>\n",
       "      <th>ROC-AUC</th>\n",
       "      <td>0.825600</td>\n",
       "      <td>0.846960</td>\n",
       "    </tr>\n",
       "    <tr>\n",
       "      <th>Precision</th>\n",
       "      <td>0.816568</td>\n",
       "      <td>0.617811</td>\n",
       "    </tr>\n",
       "    <tr>\n",
       "      <th>Recall</th>\n",
       "      <td>0.860963</td>\n",
       "      <td>0.892761</td>\n",
       "    </tr>\n",
       "    <tr>\n",
       "      <th>F1</th>\n",
       "      <td>0.838178</td>\n",
       "      <td>0.730263</td>\n",
       "    </tr>\n",
       "  </tbody>\n",
       "</table>\n",
       "</div>"
      ],
      "text/plain": [
       "              train      test\n",
       "Accuracy   0.827035  0.825408\n",
       "ROC-AUC    0.825600  0.846960\n",
       "Precision  0.816568  0.617811\n",
       "Recall     0.860963  0.892761\n",
       "F1         0.838178  0.730263"
      ]
     },
     "execution_count": 60,
     "metadata": {},
     "output_type": "execute_result"
    }
   ],
   "source": [
    "xgb_results"
   ]
  },
  {
   "cell_type": "markdown",
   "metadata": {
    "id": "RXNjt4FtRVWL"
   },
   "source": [
    "## Анализ результатов"
   ]
  },
  {
   "cell_type": "code",
   "execution_count": 61,
   "metadata": {
    "colab": {
     "base_uri": "https://localhost:8080/",
     "height": 173
    },
    "id": "g9ky-7yrRXuw",
    "outputId": "0e4e01a4-c437-49df-dd03-3d0d4c70b3cc"
   },
   "outputs": [
    {
     "data": {
      "text/html": [
       "<div>\n",
       "<style scoped>\n",
       "    .dataframe tbody tr th:only-of-type {\n",
       "        vertical-align: middle;\n",
       "    }\n",
       "\n",
       "    .dataframe tbody tr th {\n",
       "        vertical-align: top;\n",
       "    }\n",
       "\n",
       "    .dataframe thead th {\n",
       "        text-align: right;\n",
       "    }\n",
       "</style>\n",
       "<table border=\"1\" class=\"dataframe\">\n",
       "  <thead>\n",
       "    <tr style=\"text-align: right;\">\n",
       "      <th></th>\n",
       "      <th>train</th>\n",
       "      <th>test</th>\n",
       "    </tr>\n",
       "  </thead>\n",
       "  <tbody>\n",
       "    <tr>\n",
       "      <th>LogisticRegression</th>\n",
       "      <td>0.753002</td>\n",
       "      <td>0.784059</td>\n",
       "    </tr>\n",
       "    <tr>\n",
       "      <th>LGBMClassifier</th>\n",
       "      <td>0.906126</td>\n",
       "      <td>0.867607</td>\n",
       "    </tr>\n",
       "    <tr>\n",
       "      <th>CatBoostClassifier</th>\n",
       "      <td>0.881863</td>\n",
       "      <td>0.887343</td>\n",
       "    </tr>\n",
       "    <tr>\n",
       "      <th>XGBClassifier</th>\n",
       "      <td>0.825600</td>\n",
       "      <td>0.846960</td>\n",
       "    </tr>\n",
       "  </tbody>\n",
       "</table>\n",
       "</div>"
      ],
      "text/plain": [
       "                       train      test\n",
       "LogisticRegression  0.753002  0.784059\n",
       "LGBMClassifier      0.906126  0.867607\n",
       "CatBoostClassifier  0.881863  0.887343\n",
       "XGBClassifier       0.825600  0.846960"
      ]
     },
     "execution_count": 61,
     "metadata": {},
     "output_type": "execute_result"
    }
   ],
   "source": [
    "result = pd.DataFrame(TRAIN_RESULTS).transpose()\n",
    "result"
   ]
  },
  {
   "cell_type": "code",
   "execution_count": 62,
   "metadata": {
    "colab": {
     "base_uri": "https://localhost:8080/",
     "height": 459
    },
    "id": "Ow7AFSkKj5X0",
    "outputId": "f94fd5fb-db5c-498e-d35d-089c516e7112"
   },
   "outputs": [
    {
     "data": {
      "image/png": "[encoded data removed]",
      "text/plain": [
       "<Figure size 720x504 with 1 Axes>"
      ]
     },
     "metadata": {
      "needs_background": "light"
     },
     "output_type": "display_data"
    }
   ],
   "source": [
    "_, ax = plt.subplots(1, figsize=(10,7))\n",
    "result.train.plot(ax=ax)\n",
    "result.test.plot(ax=ax)\n",
    "plt.plot(np.array([0.88 for i in range(len(result))]), '--')\n",
    "legend = list(result.columns) + ['AUC ROC']\n",
    "ax.legend(legend)\n",
    "ax.set_ylabel('AUC ROC')\n",
    "ax.set_xlabel('Модели')\n",
    "ax.set_title('Результаты работы моделей');"
   ]
  },
  {
   "cell_type": "code",
   "execution_count": 63,
   "metadata": {},
   "outputs": [
    {
     "data": {
      "image/png": "[encoded data removed]",
      "text/plain": [
       "<Figure size 360x360 with 1 Axes>"
      ]
     },
     "metadata": {
      "needs_background": "light"
     },
     "output_type": "display_data"
    }
   ],
   "source": [
    "df = result.reset_index()\n",
    "df.columns = [\"Model\", \"train\", \"test\"]\n",
    "sns.catplot(data=df, kind=\"bar\", x=\"Model\", y=\"test\")\n",
    "plt.ylim(0.6)\n",
    "plt.title(\"Результаты тестирования моделей\")\n",
    "plt.xticks(rotation=20);\n",
    "plt.tight_layout()\n",
    "plt.savefig('tmp.png')"
   ]
  },
  {
   "cell_type": "markdown",
   "metadata": {
    "id": "P4i3apSGol0g"
   },
   "source": [
    "При решении задачи использовались 4 алгоритма:\n",
    "* LogisticRegression - при оптимизации параметров удалось добиться значения метрики AUC ROC, равным лишь ~0.78 на тестовой выборке\n",
    "* LightGBM - демонстрируется более высокие результаты - ~0.867\n",
    "* CatBoost - показал наилучшие результаты - ~0.887\n",
    "* XGBClassifier - результаты, сравнимые с LightGBM - ~0.85\n",
    "\n",
    "Медленнее всего обучается LightGBM, быстрее LogisticRegression и XGBClassifier. Модель CatBoost достаточно быстно учится (~25 c), демонстрируя наиболее точный результат."
   ]
  },
  {
   "cell_type": "markdown",
   "metadata": {},
   "source": [
    "# Вывод"
   ]
  },
  {
   "cell_type": "markdown",
   "metadata": {},
   "source": [
    "При выполнении задачи выполнены все пункты плана.\n",
    "\n",
    "**1. Выполнен исследовательский анализ данных**\n",
    "\n",
    "Выяснено, что основной отток приходится на пользователей интернета, причем перечень дополнительных услуг практически не влияет на факт ухода клиента. *18% оттока* пользуется оптоволоконным интернетом. \n",
    "Также, клиенты, которые уходят, переплачивают примерно в 2 раза по сравнению с оставшимися. Резкое увеличение количества ушедших клиентов в 2018-2019 году.\n",
    "\n",
    "**2. Кодирование признаков *Type, PaymentMethod, InternetService* ***\n",
    "\n",
    "Также выполнено кодирование признака *gender*. Также был добавлен новый признак - длительность контракты (в днях).\n",
    "\n",
    "**3. Исследование на важность признаков**\n",
    "\n",
    "С помощью алгоритма RandomizedSearchCV() выло выполнено исследование важности ризнаков в совокупности с корреляционным анализом. В результате для будущей модели были исключены такие признаки, как *пол, некоторые услуги ('StreamingTV', 'StreamingMovies', 'DeviceProtection', 'MultipleLines', 'OnlineSecurity', 'OnlineBackup', 'TechSupport'), оплаты ('TotalCharges', 'MonthlyCharges'), тип оплаты 'PaymentMethod_Mailed check' и наличие детей 'Dependents'.* В ходе экспериментов было выяснено, что выбранные признаки не влияют на качество моделей или местами его улучшают.\n",
    "\n",
    "**4. Исследование на необходимость балансировки классов**\n",
    "\n",
    "В ходе работы экспериментально было выяснено, что балансировка классов существенно улучшает качество модели. Поэтому было принято решение применить технику *upsampling*.\n",
    "\n",
    "**5. Построение модели для задачи бинарной классификации**\n",
    "\n",
    "Выполнено построение четырех моделей на основе алгоритмов LogisticRegression, CatBoost, LighGBM, XGBoost с применением интрументов перекрестной проверки. Для оценки качества использовались метрики *Accuracy, AUC-ROC*. Также для дополнительных оценок качества разрабатываемых моделей использовались метрики *Recall, Precision, F1*. Итоговое решение о качестве модели принималось по метрике AUC-ROC.\n",
    "\n",
    "В результате анализа результатов была выбрана модель на основе CatBoost. Достоинства модели:\n",
    "* достаточно быстрое обучение (~25 секунд)\n",
    "* работа с требуемым качеством (AUC-ROC 0.887)."
   ]
  },
  {
   "cell_type": "code",
   "execution_count": null,
   "metadata": {},
   "outputs": [],
   "source": []
  }
 ],
 "metadata": {
  "colab": {
   "collapsed_sections": [],
   "name": "p17_telecom-v2t.ipynb",
   "provenance": [],
   "toc_visible": true
  },
  "kernelspec": {
   "display_name": "Python 3",
   "language": "python",
   "name": "python3"
  },
  "language_info": {
   "codemirror_mode": {
    "name": "ipython",
    "version": 3
   },
   "file_extension": ".py",
   "mimetype": "text/x-python",
   "name": "python",
   "nbconvert_exporter": "python",
   "pygments_lexer": "ipython3",
   "version": "3.7.6"
  },
  "toc": {
   "base_numbering": 1,
   "nav_menu": {},
   "number_sections": false,
   "sideBar": true,
   "skip_h1_title": false,
   "title_cell": "Table of Contents",
   "title_sidebar": "Contents",
   "toc_cell": false,
   "toc_position": {
    "height": "calc(100% - 180px)",
    "left": "10px",
    "top": "150px",
    "width": "273.188px"
   },
   "toc_section_display": true,
   "toc_window_display": false
  }
 },
 "nbformat": 4,
 "nbformat_minor": 1
}
