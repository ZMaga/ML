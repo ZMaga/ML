{
 "cells": [
  {
   "cell_type": "markdown",
   "metadata": {},
   "source": [
    "# Данные клиентов страховой компании\n",
    "\n",
    "Нужно защитить данные клиентов страховой компании. Требуется:\n",
    "1. Разработать такой метод преобразования данных, чтобы по ним было сложно восстановить персональную информацию.\n",
    "2. Обосновать корректность работы метода.\n",
    "3. Обеспечить защиту данные, чтобы при преобразовании качество моделей машинного обучения не ухудшилось.\n",
    "\n",
    "*Подбирать наилучшую модель не требуется."
   ]
  },
  {
   "cell_type": "markdown",
   "metadata": {},
   "source": [
    "## 1. Загрузка данных"
   ]
  },
  {
   "cell_type": "markdown",
   "metadata": {},
   "source": [
    "###  1.1. Импорт модулей"
   ]
  },
  {
   "cell_type": "code",
   "execution_count": null,
   "metadata": {
    "ExecuteTime": {
     "end_time": "2020-09-20T11:47:34.292824Z",
     "start_time": "2020-09-20T11:47:31.745397Z"
    }
   },
   "outputs": [],
   "source": [
    "import requests\n",
    "import numpy as np\n",
    "import pandas as pd\n",
    "import seaborn as sns\n",
    "import matplotlib.pyplot as plt\n",
    "from sklearn.manifold import TSNE\n",
    "from urllib.parse import urlencode\n",
    "from sklearn.metrics import r2_score\n",
    "from mpl_toolkits.mplot3d import Axes3D\n",
    "from sklearn.linear_model import LinearRegression"
   ]
  },
  {
   "cell_type": "code",
   "execution_count": null,
   "metadata": {
    "ExecuteTime": {
     "end_time": "2020-09-20T11:47:34.305219Z",
     "start_time": "2020-09-20T11:47:34.298852Z"
    }
   },
   "outputs": [],
   "source": [
    "LINKS = [\"https://yadi.sk/d/opCKECxgXuV0SQ\"]\n",
    "PATHS = ['/datasets/insurance.csv']\n",
    "RANDOM = 12345"
   ]
  },
  {
   "cell_type": "markdown",
   "metadata": {},
   "source": [
    "###  1.2. Функции"
   ]
  },
  {
   "cell_type": "code",
   "execution_count": null,
   "metadata": {
    "ExecuteTime": {
     "end_time": "2020-09-20T11:47:34.394729Z",
     "start_time": "2020-09-20T11:47:34.307904Z"
    }
   },
   "outputs": [],
   "source": [
    "def load_data(paths, links=None):\n",
    "    \"\"\"\n",
    "    Функция принимает пути до локальных файлов с данными и (опционально) ссылки\n",
    "    для их скачивания.\n",
    "    \n",
    "    paths - локальные пути до файлов с данными\n",
    "    links - ссылки для скачивания (Яндекс.Диск)\n",
    "    \"\"\"\n",
    "    \n",
    "    data_list = []\n",
    "    base_url = 'https://cloud-api.yandex.net/v1/disk/public/resources/download?'\n",
    "    \n",
    "    if links != None and not links:\n",
    "        raise Exception(\"Error: wrong 'links' value (nmust be not empty list)\")\n",
    "    \n",
    "    if links:\n",
    "        if len(paths) != len(links):\n",
    "            raise Exception(\"Error: length of 'links' must be equal to length of 'paths'\")\n",
    "\n",
    "        if type(paths).__name__ != 'list' or type(links).__name__ != 'list':\n",
    "            raise Exception(\"Error: variables 'links' and 'paths' must be 'list' type\")\n",
    "\n",
    "    for i in range(len(paths)):\n",
    "        \n",
    "        try:\n",
    "            path = paths[i]\n",
    "            data_list.append(pd.read_csv(path))\n",
    "            \n",
    "        except FileNotFoundError:\n",
    "            # download from yandex disk\n",
    "            public_key = links[i]\n",
    "            print(\"Run load\", public_key)\n",
    "            \n",
    "            # get download link\n",
    "            final_url = base_url + urlencode(dict(public_key=public_key))\n",
    "            response = requests.get(final_url)\n",
    "            download_url = response.json()['href']\n",
    "            data = pd.read_csv(download_url)\n",
    "            data_list.append(pd.DataFrame(data))\n",
    "            print('Done.')\n",
    "            \n",
    "    return data_list"
   ]
  },
  {
   "cell_type": "code",
   "execution_count": null,
   "metadata": {
    "ExecuteTime": {
     "end_time": "2020-09-20T11:47:34.485974Z",
     "start_time": "2020-09-20T11:47:34.401044Z"
    }
   },
   "outputs": [],
   "source": [
    "def learn(X, y, show_matrix=True):\n",
    "    if show_matrix:\n",
    "        print(f'The matrix {X.shape}:')\n",
    "        print(X[:10])\n",
    "    m = LinearRegression()\n",
    "    m.fit(X, y)\n",
    "    p = m.predict(X)\n",
    "    print('\\nR2:', r2_score(y, p))"
   ]
  },
  {
   "cell_type": "code",
   "execution_count": null,
   "metadata": {
    "ExecuteTime": {
     "end_time": "2020-09-20T11:47:34.607267Z",
     "start_time": "2020-09-20T11:47:34.489310Z"
    }
   },
   "outputs": [],
   "source": [
    "def check_inverse(matrix):\n",
    "    try:\n",
    "        _ = np.linalg.inv(matrix)\n",
    "        print('OK: The matrix is invertible\\n')\n",
    "    except np.linalg.LinAlgError as e:\n",
    "        if 'Singular matrix' in str(e):\n",
    "            print('WARN: The matrix is not invertible\\n')\n",
    "        else:\n",
    "            raise"
   ]
  },
  {
   "cell_type": "code",
   "execution_count": null,
   "metadata": {
    "ExecuteTime": {
     "end_time": "2020-09-20T11:47:34.695687Z",
     "start_time": "2020-09-20T11:47:34.610523Z"
    }
   },
   "outputs": [],
   "source": [
    "def get_weight(X, y):\n",
    "    return np.linalg.inv(X.T.dot(X)).dot(X.T).dot(y)"
   ]
  },
  {
   "cell_type": "markdown",
   "metadata": {},
   "source": [
    "###  1.3. Данные"
   ]
  },
  {
   "cell_type": "code",
   "execution_count": null,
   "metadata": {
    "ExecuteTime": {
     "end_time": "2020-09-20T11:47:34.793871Z",
     "start_time": "2020-09-20T11:47:34.700891Z"
    }
   },
   "outputs": [],
   "source": [
    "insurance_data = load_data(PATHS, links=LINKS)[0]"
   ]
  },
  {
   "cell_type": "code",
   "execution_count": null,
   "metadata": {
    "ExecuteTime": {
     "end_time": "2020-09-20T11:47:34.895130Z",
     "start_time": "2020-09-20T11:47:34.797756Z"
    }
   },
   "outputs": [],
   "source": [
    "insurance_data.info()"
   ]
  },
  {
   "cell_type": "code",
   "execution_count": null,
   "metadata": {
    "ExecuteTime": {
     "end_time": "2020-09-20T11:47:35.012986Z",
     "start_time": "2020-09-20T11:47:34.899056Z"
    }
   },
   "outputs": [],
   "source": [
    "# insurance_data = insurance_data.set_axis(['sex', 'age', 'salary', 'family', 'payments'], axis=1)\n",
    "insurance_data.columns = ['sex', 'age', 'salary', 'family', 'payments']\n",
    "insurance_data"
   ]
  },
  {
   "cell_type": "code",
   "execution_count": null,
   "metadata": {
    "ExecuteTime": {
     "end_time": "2020-09-20T11:47:35.132254Z",
     "start_time": "2020-09-20T11:47:35.016415Z"
    }
   },
   "outputs": [],
   "source": [
    "# признаки и целевая переменная\n",
    "features = insurance_data.drop('payments', axis=1)\n",
    "target = insurance_data['payments']\n",
    "\n",
    "# матрица признаков и целевой признак\n",
    "feature_matrix = features.values\n",
    "target_matrix = target.values\n",
    "\n",
    "feature_matrix.shape"
   ]
  },
  {
   "cell_type": "markdown",
   "metadata": {},
   "source": [
    "## 2. Умножение матриц"
   ]
  },
  {
   "cell_type": "markdown",
   "metadata": {},
   "source": [
    "Обозначения:\n",
    "\n",
    "- $X$ — матрица признаков (нулевой столбец состоит из единиц)\n",
    "\n",
    "- $y$ — вектор целевого признака\n",
    "\n",
    "- $P$ — матрица, на которую умножаются признаки\n",
    "\n",
    "- $w$ — вектор весов линейной регрессии (нулевой элемент равен сдвигу)"
   ]
  },
  {
   "cell_type": "markdown",
   "metadata": {},
   "source": [
    "Предсказания:\n",
    "\n",
    "$$\n",
    "a = Xw\n",
    "$$\n",
    "\n",
    "Задача обучения:\n",
    "\n",
    "$$\n",
    "w = \\arg\\min_w MSE(Xw, y)\n",
    "$$\n",
    "\n",
    "Формула обучения:\n",
    "\n",
    "$$\n",
    "w = (X^T X)^{-1} X^T y\n",
    "$$"
   ]
  },
  {
   "cell_type": "markdown",
   "metadata": {},
   "source": [
    "Ответьте на вопрос и обоснуйте решение. Признаки умножают на обратимую матрицу. Изменится ли качество линейной регрессии?\n",
    "\n",
    "1. Изменится. Приведите примеры матриц.\n",
    "\n",
    "2. Не изменится. Укажите, как связаны параметры линейной регрессии в исходной задаче и в преобразованной."
   ]
  },
  {
   "cell_type": "markdown",
   "metadata": {},
   "source": [
    "**Ответ:** Не изменится.\n",
    "\n",
    "**Обоснование:**"
   ]
  },
  {
   "cell_type": "markdown",
   "metadata": {},
   "source": [
    "Распишем формулу обучения (получения весов) с учетом умножения на матрицу ***P***.\n",
    "\n",
    "$$\n",
    "((X P)^T (X P))^{-1} (X P)^T y = (X^T P^T X P)^{-1} X^T P^T y = (X^T)^{-1} (P^T)^{-1} (X)^{-1} (P)^{-1} X^T P^T y = (X^T X)^{-1} (P^T P)^{-1} X^T P^T y = ((P^T P)^{-1} P^T) ((X^T X)^{-1} X^T) y = ((P^T P)^{-1} P^T) w = (1)\n",
    "$$\n",
    "\n",
    "Полученное выражение (1) подставим в формулу предсказания (также с учетом умножения на матрицу **P**):\n",
    "\n",
    "$$\n",
    "a = X [ P ((P^T P)^{-1} P^T) ] w = X [ P (P^T)^{-1}P^{-1}P^T ] w = X [((P^T)^{-1} P^T) (P^{-1} P)] w = X [(P^{-1} P)^T E] w = X [ E^T E ] w = X E E w = X w\n",
    "$$"
   ]
  },
  {
   "cell_type": "markdown",
   "metadata": {},
   "source": [
    "Соответственно, для возможности вычислить веса в задаче линейной регрессии (1), необходимо, чтобы матрица ***P*** была обратимой.\n",
    "\n",
    "В задаче матрицы признаков имеет размер 5000 x 4 => для удовлетворения условию (умножение + обратимость искомой матрицы) нужна квадратная матрица 4 x 4.\n",
    "\n",
    "Рассмотрим 3 случая матриц, потенциально пригодных для использования в преобразовании:\n",
    "\n",
    "1. Матрица, у которой все элементы равны 1\n",
    "2. Единичная матрица (единицы на главной диагонали)\n",
    "3. Случайная обратимая матрица"
   ]
  },
  {
   "cell_type": "markdown",
   "metadata": {},
   "source": [
    "**1. Матрица из единиц *M*:**\n",
    "\n",
    "$$\n",
    "M = \\begin{pmatrix} 1& 1& 1& 1&\\\\ 1& 1& 1& 1&\\\\ 1& 1& 1& 1&\\\\ 1& 1& 1& 1&\\\\ \\end{pmatrix}\n",
    "$$\n",
    "\n",
    "$$\n",
    "M E = M\n",
    "$$\n",
    "\n",
    "Определитель такой матрицы равен 0 => матрица вырожденная и необратима, так как у нее нет определителя:\n",
    "\n",
    "$$\n",
    "det A^{-1} = (det A)^{-1}\n",
    "$$\n",
    "\n",
    "Соответственно, преобразование признаков путем умножения на такую матрицу если не приведет к ошибке кода, то окажет непредсказуемое влияние на точность модели."
   ]
  },
  {
   "cell_type": "markdown",
   "metadata": {},
   "source": [
    "**2. Единичная матрица *E*:**\n",
    "\n",
    "$$\n",
    "M = \\begin{pmatrix} 1& 0& 0& 0&\\\\ 0& 1& 0& 0&\\\\ 0& 0& 1& 0&\\\\ 0& 0& 0& 1&\\\\ \\end{pmatrix}\n",
    "$$\n",
    "\n",
    "По свойствам обратной матрицы к единичной:\n",
    "\n",
    "$$\n",
    "E^{-1} = E\n",
    "$$\n",
    "\n",
    "Преобразование признаков путем умножения на такую матрицу не окажет влияния на точность модели, но и не приведет к изменению признаков:\n",
    "\n",
    "$$\n",
    "A E = A\n",
    "$$"
   ]
  },
  {
   "cell_type": "markdown",
   "metadata": {},
   "source": [
    "**3. Случайная обратимая матрица**\n",
    "\n",
    "В случае использования преобразования признаков такой матрицей, будут выполняться все алгебраические свойства обратимости и транспонирования матриц, что позволит зашифровать значения признаков, тем самым не повлияв на точность модели."
   ]
  },
  {
   "cell_type": "markdown",
   "metadata": {},
   "source": [
    "Воспроизведем в коде описанное выше."
   ]
  },
  {
   "cell_type": "code",
   "execution_count": null,
   "metadata": {
    "ExecuteTime": {
     "end_time": "2020-09-20T11:47:35.314413Z",
     "start_time": "2020-09-20T11:47:35.135062Z"
    }
   },
   "outputs": [],
   "source": [
    "# 1. Исходная матрицы признаков\n",
    "\n",
    "learn(feature_matrix, target_matrix)"
   ]
  },
  {
   "cell_type": "code",
   "execution_count": null,
   "metadata": {
    "ExecuteTime": {
     "end_time": "2020-09-20T11:47:35.369489Z",
     "start_time": "2020-09-20T11:47:35.317582Z"
    }
   },
   "outputs": [],
   "source": [
    "# 2. Матрица из единиц\n",
    "\n",
    "ones_matrix = np.ones((4,4))\n",
    "check_inverse(ones_matrix)\n",
    "\n",
    "feature_matrix_ones = feature_matrix.dot(ones_matrix)\n",
    "learn(feature_matrix_ones, target_matrix)"
   ]
  },
  {
   "cell_type": "markdown",
   "metadata": {},
   "source": [
    "**Вывод**\n",
    "\n",
    "Признаки преобразованы. Ошибки в коде нет, однако качество модели заметно изменилось. Такая матрица не подходит."
   ]
  },
  {
   "cell_type": "code",
   "execution_count": null,
   "metadata": {
    "ExecuteTime": {
     "end_time": "2020-09-20T11:47:35.465561Z",
     "start_time": "2020-09-20T11:47:35.373211Z"
    }
   },
   "outputs": [],
   "source": [
    "# 3. Единичная матрица\n",
    "\n",
    "eye_matrix = np.eye(4, 4)\n",
    "check_inverse(eye_matrix)\n",
    "\n",
    "feature_matrix_eye = feature_matrix.dot(eye_matrix)\n",
    "learn(feature_matrix_eye, target_matrix)"
   ]
  },
  {
   "cell_type": "markdown",
   "metadata": {},
   "source": [
    "**Вывод**\n",
    "\n",
    "Признаки не изменились, качество модели не изменилось. Матрица не подходит."
   ]
  },
  {
   "cell_type": "code",
   "execution_count": null,
   "metadata": {
    "ExecuteTime": {
     "end_time": "2020-09-20T11:47:35.568645Z",
     "start_time": "2020-09-20T11:47:35.468039Z"
    }
   },
   "outputs": [],
   "source": [
    "# 3. Случайная обратимая матрица\n",
    "\n",
    "random_matrix = np.random.random((4,4))\n",
    "check_inverse(random_matrix)\n",
    "\n",
    "feature_matrix_rand = feature_matrix.dot(random_matrix)\n",
    "learn(feature_matrix_rand, target_matrix)"
   ]
  },
  {
   "cell_type": "markdown",
   "metadata": {},
   "source": [
    "**Вывод**\n",
    "\n",
    "Признаки изменились, качество модели не изменилось. Матрица подходит для преобразования."
   ]
  },
  {
   "cell_type": "code",
   "execution_count": null,
   "metadata": {
    "ExecuteTime": {
     "end_time": "2020-09-20T11:47:36.310326Z",
     "start_time": "2020-09-20T11:47:35.571820Z"
    }
   },
   "outputs": [],
   "source": [
    "# Веса, полученные в ходе экспериментов\n",
    "\n",
    "_, ax = plt.subplots(1, 3, figsize=(9,3))\n",
    "\n",
    "for axi, matrix, c, title in zip(ax, \n",
    "                                 [feature_matrix, feature_matrix_eye, feature_matrix_rand], \n",
    "                                 ['r', 'b', 'g'], \n",
    "                                 ['Original', 'E', 'Random']):\n",
    "    axi.scatter(\n",
    "        get_weight(matrix, target_matrix),\n",
    "        y=get_weight(feature_matrix, target_matrix),\n",
    "        color=c\n",
    "    )\n",
    "    axi.set_xlabel('target')\n",
    "    axi.set_ylabel('target')\n",
    "    axi.set_title(title)\n",
    "    \n",
    "plt.tight_layout()\n",
    "plt.show()"
   ]
  },
  {
   "cell_type": "code",
   "execution_count": null,
   "metadata": {
    "ExecuteTime": {
     "end_time": "2020-09-20T11:52:05.768101Z",
     "start_time": "2020-09-20T11:47:36.314261Z"
    }
   },
   "outputs": [],
   "source": [
    "X3 = TSNE(n_components=3).fit_transform(feature_matrix)\n",
    "X3_eye = TSNE(n_components=3).fit_transform(feature_matrix_eye)\n",
    "X3_rand = TSNE(n_components=3).fit_transform(feature_matrix_rand)\n",
    "\n",
    "print(X3.shape)\n",
    "print(X3_eye.shape)\n",
    "print(X3_rand.shape)"
   ]
  },
  {
   "cell_type": "code",
   "execution_count": null,
   "metadata": {
    "ExecuteTime": {
     "end_time": "2020-09-20T11:52:07.105221Z",
     "start_time": "2020-09-20T11:52:05.772161Z"
    }
   },
   "outputs": [],
   "source": [
    "fig = plt.figure(figsize=(12,10))\n",
    "ax = fig.add_subplot(111, projection='3d')\n",
    "ax.scatter(X3[:,0], X3[:,1], X3[:,2], color='#3498DB', alpha=0.3)\n",
    "ax.scatter(X3_eye[:,0], X3_eye[:,1], X3_eye[:,2], color='#F4D04F', alpha=0.3)\n",
    "ax.scatter(X3_rand[:,0], X3_rand[:,1], X3_rand[:,2], color='#EC7063', alpha=0.3)\n",
    "ax.set_xlabel('X')\n",
    "ax.set_ylabel('Y')\n",
    "ax.set_zlabel('Z')\n",
    "ax.legend(['feature_matrix', 'feature_matrix_eye', 'feature_matrix_rand'])\n",
    "plt.show()"
   ]
  },
  {
   "cell_type": "markdown",
   "metadata": {},
   "source": [
    "На графике видно, что после прообразования расположение признаков в пространстве совершенно изменилось."
   ]
  },
  {
   "cell_type": "markdown",
   "metadata": {},
   "source": [
    "## 3. Алгоритм преобразования"
   ]
  },
  {
   "cell_type": "markdown",
   "metadata": {},
   "source": [
    "**Алгоритм**\n",
    "\n",
    "В качестве алгоритма преобразования данных выбирается случайная матрица, которая является обратимой - *feature_matrix_rand*."
   ]
  },
  {
   "cell_type": "markdown",
   "metadata": {},
   "source": [
    "**Обоснование**\n",
    "\n",
    "Алгоритм выбран, так как:\n",
    "1. Данные меняются и их невозможно интепретировать и связать с реальными данными (цель задачи).\n",
    "2. Матрица обратимая, следовательно, данные возжно расшифровать с помощью обратной матрицы преобразования.\n",
    "3. Преобразование не влияет на качество модели, соответственно, не привносится искажение результатов работы модели."
   ]
  },
  {
   "cell_type": "markdown",
   "metadata": {},
   "source": [
    "## 4. Проверка алгоритма"
   ]
  },
  {
   "cell_type": "code",
   "execution_count": null,
   "metadata": {
    "ExecuteTime": {
     "end_time": "2020-09-20T11:52:07.130115Z",
     "start_time": "2020-09-20T11:52:07.110492Z"
    }
   },
   "outputs": [],
   "source": [
    "print('До преобразования')\n",
    "learn(feature_matrix, target_matrix, show_matrix=False)"
   ]
  },
  {
   "cell_type": "code",
   "execution_count": null,
   "metadata": {
    "ExecuteTime": {
     "end_time": "2020-09-20T11:52:07.218574Z",
     "start_time": "2020-09-20T11:52:07.133689Z"
    }
   },
   "outputs": [],
   "source": [
    "print('После преобразования')\n",
    "learn(feature_matrix_rand, target_matrix, show_matrix=False)"
   ]
  },
  {
   "cell_type": "markdown",
   "metadata": {},
   "source": [
    "## Вывод\n",
    "\n",
    "Метрики качества моделей до и после преобразования признаков отличаются после 12 знака после запятой, что является несущественным отличием. Соответственно, выбранный алгоритм преобразования данных пригоден для шифрования данных без последствий для модели машинного обучения."
   ]
  },
  {
   "cell_type": "markdown",
   "metadata": {},
   "source": [
    "## Чек-лист проверки"
   ]
  },
  {
   "cell_type": "markdown",
   "metadata": {},
   "source": [
    "Поставьте 'x' в выполненных пунктах. Далее нажмите Shift+Enter."
   ]
  },
  {
   "cell_type": "markdown",
   "metadata": {},
   "source": [
    "- [x]  Jupyter Notebook открыт\n",
    "- [x]  Весь код выполняется без ошибок\n",
    "- [x]  Ячейки с кодом расположены в порядке исполнения\n",
    "- [x]  Выполнен шаг 1: данные загружены\n",
    "- [x]  Выполнен шаг 2: получен ответ на вопрос об умножении матриц\n",
    "    - [x]  Указан правильный вариант ответа\n",
    "    - [x]  Вариант обоснован\n",
    "- [x]  Выполнен шаг 3: предложен алгоритм преобразования\n",
    "    - [x]  Алгоритм описан\n",
    "    - [x]  Алгоритм обоснован\n",
    "- [x]  Выполнен шаг 4: алгоритм проверен\n",
    "    - [x]  Алгоритм реализован\n",
    "    - [x]  Проведено сравнение качества моделей до и после преобразования"
   ]
  }
 ],
 "metadata": {
  "kernelspec": {
   "display_name": "Python 3",
   "language": "python",
   "name": "python3"
  },
  "language_info": {
   "codemirror_mode": {
    "name": "ipython",
    "version": 3
   },
   "file_extension": ".py",
   "mimetype": "text/x-python",
   "name": "python",
   "nbconvert_exporter": "python",
   "pygments_lexer": "ipython3",
   "version": "3.7.6"
  },
  "toc": {
   "base_numbering": 1,
   "nav_menu": {},
   "number_sections": false,
   "sideBar": true,
   "skip_h1_title": true,
   "title_cell": "Table of Contents",
   "title_sidebar": "Contents",
   "toc_cell": false,
   "toc_position": {
    "height": "calc(100% - 180px)",
    "left": "10px",
    "top": "150px",
    "width": "213px"
   },
   "toc_section_display": true,
   "toc_window_display": true
  }
 },
 "nbformat": 4,
 "nbformat_minor": 2
}
