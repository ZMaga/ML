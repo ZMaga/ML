{
 "cells": [
  {
   "cell_type": "code",
   "execution_count": 4,
   "metadata": {},
   "outputs": [
    {
     "name": "stdout",
     "output_type": "stream",
     "text": [
      "Male: 577\n",
      "Female: 314\n",
      "General: 891\n"
     ]
    }
   ],
   "source": [
    "# 1\n",
    "\n",
    "import pandas as pd\n",
    "\n",
    "data = pd.read_csv('titanic.csv', index_col=\"PassengerId\")\n",
    "df_sex = data[['Sex']]\n",
    "\n",
    "general = df_sex.count()['Sex']\n",
    "male_count = df_sex[df_sex.Sex == 'male'].count()['Sex']\n",
    "female_count = df_sex[df_sex.Sex == 'female'].count()['Sex']\n",
    "\n",
    "with open('w1_ex1_1.txt', 'w') as f:\n",
    "    f.write(f\"{male_count} {female_count}\")\n",
    "\n",
    "print(\"Male: {}\\nFemale: {}\\nGeneral: {}\".format(male_count, female_count, general))"
   ]
  },
  {
   "cell_type": "code",
   "execution_count": 5,
   "metadata": {},
   "outputs": [
    {
     "name": "stdout",
     "output_type": "stream",
     "text": [
      "General: 891\n",
      "Survived: 342 (38.38%)\n"
     ]
    }
   ],
   "source": [
    "# 2\n",
    "\n",
    "survived = data[data.Survived == 1].count()['Survived']\n",
    "general = len(data)\n",
    "percent = round(survived/general*100, 2)\n",
    "\n",
    "with open('w1_ex1_2.txt', 'w') as f:\n",
    "    f.write(f\"{percent}\")\n",
    "    \n",
    "print(\"General: {}\\nSurvived: {} ({}%)\".format(general, survived, percent))"
   ]
  },
  {
   "cell_type": "code",
   "execution_count": 8,
   "metadata": {},
   "outputs": [
    {
     "name": "stdout",
     "output_type": "stream",
     "text": [
      "General: 891\n",
      "First class: 216 (24.24%)\n"
     ]
    }
   ],
   "source": [
    "# 3\n",
    "\n",
    "first_class = data[data.Pclass == 1].count()['Pclass']\n",
    "general = len(data)\n",
    "percent = round(first_class/general*100, 2)\n",
    "\n",
    "with open('w1_ex1_3.txt', 'w') as f:\n",
    "    f.write(f\"{percent}\")\n",
    "    \n",
    "print(\"General: {}\\nFirst class: {} ({}%)\".format(general, first_class, percent))"
   ]
  },
  {
   "cell_type": "code",
   "execution_count": 27,
   "metadata": {},
   "outputs": [
    {
     "name": "stdout",
     "output_type": "stream",
     "text": [
      "General data count: 714\n",
      "Mean:   30.00\n",
      "Median: 28.00\n"
     ]
    }
   ],
   "source": [
    "# 4\n",
    "\n",
    "df = data[data['Age'].notna()]['Age'].sort_values()\n",
    "\n",
    "dl = list(df)\n",
    "dl_len = len(dl)\n",
    "half = int(dl_len/2)\n",
    "\n",
    "print(\"General data count: {}\".format(dl_len))\n",
    "# print(\"First  resolution: {}\".format(df.median()))\n",
    "\n",
    "if dl_len % 2:\n",
    "    med = dl[half]\n",
    "else:\n",
    "    med = (dl[half-1]+dl[half])/2\n",
    "    \n",
    "dmean = \"%.2f\" % round(df.mean())\n",
    "dmedian = \"%.2f\" % round(med)\n",
    "    \n",
    "print(\"Mean:   {}\\nMedian: {}\".format(dmean, dmedian))\n",
    "    \n",
    "with open('w1_ex1_4.txt', 'w') as f:\n",
    "    f.write(f\"{dmean} {dmedian}\")\n",
    "    "
   ]
  },
  {
   "cell_type": "code",
   "execution_count": 31,
   "metadata": {},
   "outputs": [
    {
     "name": "stdout",
     "output_type": "stream",
     "text": [
      "0.41\n"
     ]
    }
   ],
   "source": [
    "# 5\n",
    "\n",
    "data_len = len(data)\n",
    "r = \"%.2f\" %round(data['SibSp'].corr(data['Parch'], method='pearson'), 2)\n",
    "print(r)\n",
    "\n",
    "with open('w1_ex1_5.txt', 'w') as f:\n",
    "    f.write(f\"{r}\")\n",
    "    "
   ]
  },
  {
   "cell_type": "code",
   "execution_count": 120,
   "metadata": {},
   "outputs": [
    {
     "name": "stdout",
     "output_type": "stream",
     "text": [
      "315\n",
      "Mary\n"
     ]
    }
   ],
   "source": [
    "import re\n",
    "# df = data[data.Sex == 'female'][data['Age'].notna()][['Name']]\n",
    "\n",
    "fn_list = []\n",
    "df = data[data.Sex == 'female'][['Name']]\n",
    "# print(df)\n",
    "regex = r'Miss.|Mrs.| Mme.|Ms.|Dr.|Mlle.'\n",
    "\n",
    "# print(df[:20])\n",
    "# print(df['Name'].tolist())\n",
    "french_names = df[df.Name.str.contains(r'Mlle\\.')]['Name'].tolist()\n",
    "complicated_names = df[(df.Name.str.contains(r'\\(')) & \n",
    "                       (df.Name.str.contains(r'Mlle\\.') == False) ]['Name'].tolist()\n",
    "simple_names = df[df.Name.str.contains(r'\\(') == False]['Name'].tolist()\n",
    "# print(df[df.Name.str.contains(r'\\(') == False])\n",
    "\n",
    "# result = []\n",
    "# # 'Miss.'\n",
    "# for sign in ['Mrs.', 'Ms.','Mme.','Mlle.','Dr.', ]:\n",
    "    \n",
    "#     name_list = list(df[df.Name.str.contains(r'{}'.format(sign))]['Name'])\n",
    "\n",
    "for name in french_names:\n",
    "    fn_list.append(name.split('.')[1].split()[0])\n",
    "\n",
    "\n",
    "for name in complicated_names:\n",
    "#     print(name)\n",
    "    pre_name = re.sub(regex, '', name.split('(')[1]).split()[0]\n",
    "    first_name = re.sub(r'[\\)\\\"]', '', pre_name)\n",
    "    fn_list.append(first_name)\n",
    "        \n",
    "for name in simple_names:\n",
    "    fn_list.append(name.split('.')[1].split()[0])\n",
    "\n",
    "# print(fn_list)\n",
    "print(len(fn_list))\n",
    "\n",
    "sorted_list = sorted([(fn_list.count(name), name) for name in fn_list], reverse=True)[0]\n",
    "popular = list(sorted_list)[1]\n",
    "print(popular)\n",
    "\n",
    "with open('w1_ex1_6.txt', 'w') as f:\n",
    "    f.write(f\"{popular}\")"
   ]
  },
  {
   "cell_type": "code",
   "execution_count": null,
   "metadata": {},
   "outputs": [],
   "source": []
  }
 ],
 "metadata": {
  "kernelspec": {
   "display_name": "Python 3",
   "language": "python",
   "name": "python3"
  },
  "language_info": {
   "codemirror_mode": {
    "name": "ipython",
    "version": 3
   },
   "file_extension": ".py",
   "mimetype": "text/x-python",
   "name": "python",
   "nbconvert_exporter": "python",
   "pygments_lexer": "ipython3",
   "version": "3.6.7"
  }
 },
 "nbformat": 4,
 "nbformat_minor": 2
}
