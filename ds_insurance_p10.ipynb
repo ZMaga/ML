{
 "cells": [
  {
   "cell_type": "markdown",
   "metadata": {},
   "source": [
    "# Данные клиентов страховой компании\n",
    "\n",
    "Нужно защитить данные клиентов страховой компании. Требуется:\n",
    "1. Разработать такой метод преобразования данных, чтобы по ним было сложно восстановить персональную информацию.\n",
    "2. Обосновать корректность работы метода.\n",
    "3. Обеспечить защиту данные, чтобы при преобразовании качество моделей машинного обучения не ухудшилось.\n",
    "\n",
    "*Подбирать наилучшую модель не требуется."
   ]
  },
  {
   "cell_type": "markdown",
   "metadata": {},
   "source": [
    "## 1. Загрузка данных"
   ]
  },
  {
   "cell_type": "markdown",
   "metadata": {},
   "source": [
    "###  1.1. Импорт модулей"
   ]
  },
  {
   "cell_type": "code",
   "execution_count": null,
   "metadata": {
    "ExecuteTime": {
     "end_time": "2020-09-16T18:38:42.826501Z",
     "start_time": "2020-09-16T18:38:39.515418Z"
    }
   },
   "outputs": [],
   "source": [
    "import requests\n",
    "import pandas as pd\n",
    "import numpy as np\n",
    "from urllib.parse import urlencode\n",
    "from sklearn.linear_model import LinearRegression\n",
    "from sklearn.metrics import r2_score"
   ]
  },
  {
   "cell_type": "code",
   "execution_count": null,
   "metadata": {
    "ExecuteTime": {
     "end_time": "2020-09-16T18:38:42.841808Z",
     "start_time": "2020-09-16T18:38:42.830909Z"
    }
   },
   "outputs": [],
   "source": [
    "# global\n",
    "\n",
    "LINKS = [\"https://yadi.sk/d/opCKECxgXuV0SQ\"]\n",
    "PATHS = ['/datasets/insurance.csv']\n",
    "RANDOM = 12345"
   ]
  },
  {
   "cell_type": "markdown",
   "metadata": {},
   "source": [
    "###  1.2. Функции"
   ]
  },
  {
   "cell_type": "code",
   "execution_count": null,
   "metadata": {
    "ExecuteTime": {
     "end_time": "2020-09-16T18:38:42.940201Z",
     "start_time": "2020-09-16T18:38:42.845809Z"
    }
   },
   "outputs": [],
   "source": [
    "def load_data(paths, links=None):\n",
    "    \"\"\"\n",
    "    Функция принимает пути до локальных файлов с данными и (опционально) ссылки\n",
    "    для их скачивания.\n",
    "    \n",
    "    paths - локальные пути до файлов с данными\n",
    "    links - ссылки для скачивания (Яндекс.Диск)\n",
    "    \"\"\"\n",
    "    \n",
    "    data_list = []\n",
    "    base_url = 'https://cloud-api.yandex.net/v1/disk/public/resources/download?'\n",
    "    \n",
    "    if links != None and not links:\n",
    "        raise Exception(\"Error: wrong 'links' value (nmust be not empty list)\")\n",
    "    \n",
    "    if links:\n",
    "        if len(paths) != len(links):\n",
    "            raise Exception(\"Error: length of 'links' must be equal to length of 'paths'\")\n",
    "\n",
    "        if type(paths).__name__ != 'list' or type(links).__name__ != 'list':\n",
    "            raise Exception(\"Error: variables 'links' and 'paths' must be 'list' type\")\n",
    "\n",
    "    for i in range(len(paths)):\n",
    "        \n",
    "        try:\n",
    "            path = paths[i]\n",
    "            data_list.append(pd.read_csv(path))\n",
    "            \n",
    "        except FileNotFoundError:\n",
    "            # download from yandex disk\n",
    "            public_key = links[i]\n",
    "            print(\"Run load\", public_key)\n",
    "            \n",
    "            # get download link\n",
    "            final_url = base_url + urlencode(dict(public_key=public_key))\n",
    "            response = requests.get(final_url)\n",
    "            download_url = response.json()['href']\n",
    "            data = pd.read_csv(download_url)\n",
    "            data_list.append(pd.DataFrame(data))\n",
    "            print('Done.')\n",
    "            \n",
    "    return data_list"
   ]
  },
  {
   "cell_type": "code",
   "execution_count": null,
   "metadata": {},
   "outputs": [],
   "source": []
  },
  {
   "cell_type": "markdown",
   "metadata": {},
   "source": [
    "###  1.3. Данные"
   ]
  },
  {
   "cell_type": "code",
   "execution_count": null,
   "metadata": {
    "ExecuteTime": {
     "end_time": "2020-09-16T18:38:43.066734Z",
     "start_time": "2020-09-16T18:38:42.949994Z"
    }
   },
   "outputs": [],
   "source": [
    "insurance_data = load_data(PATHS, links=LINKS)[0]"
   ]
  },
  {
   "cell_type": "code",
   "execution_count": null,
   "metadata": {
    "ExecuteTime": {
     "end_time": "2020-09-16T18:38:43.237729Z",
     "start_time": "2020-09-16T18:38:43.070730Z"
    }
   },
   "outputs": [],
   "source": [
    "insurance_data"
   ]
  },
  {
   "cell_type": "code",
   "execution_count": null,
   "metadata": {
    "ExecuteTime": {
     "end_time": "2020-09-16T18:38:43.262393Z",
     "start_time": "2020-09-16T18:38:43.243009Z"
    }
   },
   "outputs": [],
   "source": [
    "insurance_data.info()"
   ]
  },
  {
   "cell_type": "markdown",
   "metadata": {},
   "source": [
    "## 2. Умножение матриц"
   ]
  },
  {
   "cell_type": "markdown",
   "metadata": {},
   "source": [
    "Обозначения:\n",
    "\n",
    "- $X$ — матрица признаков (нулевой столбец состоит из единиц)\n",
    "\n",
    "- $y$ — вектор целевого признака\n",
    "\n",
    "- $P$ — матрица, на которую умножаются признаки\n",
    "\n",
    "- $w$ — вектор весов линейной регрессии (нулевой элемент равен сдвигу)"
   ]
  },
  {
   "cell_type": "markdown",
   "metadata": {},
   "source": [
    "Предсказания:\n",
    "\n",
    "$$\n",
    "a = Xw\n",
    "$$\n",
    "\n",
    "Задача обучения:\n",
    "\n",
    "$$\n",
    "w = \\arg\\min_w MSE(Xw, y)\n",
    "$$\n",
    "\n",
    "Формула обучения:\n",
    "\n",
    "$$\n",
    "w = (X^T X)^{-1} X^T y\n",
    "$$"
   ]
  },
  {
   "cell_type": "markdown",
   "metadata": {},
   "source": [
    "**Ответ:** ...\n",
    "\n",
    "**Обоснование:** ..."
   ]
  },
  {
   "cell_type": "markdown",
   "metadata": {},
   "source": [
    "## 3. Алгоритм преобразования"
   ]
  },
  {
   "cell_type": "markdown",
   "metadata": {},
   "source": [
    "**Алгоритм**\n",
    "\n",
    "..."
   ]
  },
  {
   "cell_type": "markdown",
   "metadata": {},
   "source": [
    "**Обоснование**\n",
    "\n",
    "..."
   ]
  },
  {
   "cell_type": "markdown",
   "metadata": {},
   "source": [
    "## 4. Проверка алгоритма"
   ]
  },
  {
   "cell_type": "code",
   "execution_count": null,
   "metadata": {},
   "outputs": [],
   "source": []
  },
  {
   "cell_type": "markdown",
   "metadata": {},
   "source": [
    "## Чек-лист проверки"
   ]
  },
  {
   "cell_type": "markdown",
   "metadata": {},
   "source": [
    "Поставьте 'x' в выполненных пунктах. Далее нажмите Shift+Enter."
   ]
  },
  {
   "cell_type": "markdown",
   "metadata": {},
   "source": [
    "- [x]  Jupyter Notebook открыт\n",
    "- [ ]  Весь код выполняется без ошибок\n",
    "- [ ]  Ячейки с кодом расположены в порядке исполнения\n",
    "- [ ]  Выполнен шаг 1: данные загружены\n",
    "- [ ]  Выполнен шаг 2: получен ответ на вопрос об умножении матриц\n",
    "    - [ ]  Указан правильный вариант ответа\n",
    "    - [ ]  Вариант обоснован\n",
    "- [ ]  Выполнен шаг 3: предложен алгоритм преобразования\n",
    "    - [ ]  Алгоритм описан\n",
    "    - [ ]  Алгоритм обоснован\n",
    "- [ ]  Выполнен шаг 4: алгоритм проверен\n",
    "    - [ ]  Алгоритм реализован\n",
    "    - [ ]  Проведено сравнение качества моделей до и после преобразования"
   ]
  },
  {
   "cell_type": "code",
   "execution_count": null,
   "metadata": {},
   "outputs": [],
   "source": []
  }
 ],
 "metadata": {
  "kernelspec": {
   "display_name": "Python 3",
   "language": "python",
   "name": "python3"
  },
  "language_info": {
   "codemirror_mode": {
    "name": "ipython",
    "version": 3
   },
   "file_extension": ".py",
   "mimetype": "text/x-python",
   "name": "python",
   "nbconvert_exporter": "python",
   "pygments_lexer": "ipython3",
   "version": "3.7.6"
  },
  "toc": {
   "base_numbering": 1,
   "nav_menu": {},
   "number_sections": false,
   "sideBar": true,
   "skip_h1_title": true,
   "title_cell": "Table of Contents",
   "title_sidebar": "Contents",
   "toc_cell": false,
   "toc_position": {},
   "toc_section_display": true,
   "toc_window_display": true
  }
 },
 "nbformat": 4,
 "nbformat_minor": 2
}
