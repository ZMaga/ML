{
 "cells": [
  {
   "cell_type": "markdown",
   "metadata": {},
   "source": [
    "# Определение перспективного тарифа для телеком компании\n",
    "\n",
    "В компании оператора сотовой связи клиентам предлагается два тарифных плана: «Смарт» и «Ультра». Чтобы скорректировать рекламный бюджет, коммерческий департамент хочет понять, какой тариф приносит больше денег.\n",
    "\n",
    "Доступны данные 500 пользователей «Мегалайна» за 2018 год.\n",
    "\n",
    "Задачи:\n",
    "1. Предварительный анализ тарифов на небольшой выборке клиентов. \n",
    "2. Анализ поведения клиентов\n",
    "3. Сделать вывод — какой тариф лучше.\n",
    "\n",
    "## 1. Описание тарифов\n",
    "\n",
    "**Тариф «Смарт»**\n",
    "\n",
    "* Ежемесячная плата: 550 рублей\n",
    "* Включено 500 минут разговора, 50 сообщений и 15 Гб интернет-трафика\n",
    "* Стоимость услуг сверх тарифного пакета:\n",
    "* Минута разговора: 3 рубля\n",
    "* Сообщение: 3 рубля\n",
    "* 1 Гб интернет-трафика: 200 рублей\n",
    "\n",
    "**Тариф «Ультра»**\n",
    "\n",
    "* Ежемесячная плата: 1950 рублей\n",
    "* Включено 3000 минут разговора, 1000 сообщений и 30 Гб интернет-трафика\n",
    "* Стоимость услуг сверх тарифного пакета:\n",
    "* Минута разговора: 1 рубль\n",
    "* Сообщение: 1 рубль\n",
    "* 1 Гб интернет-трафика: 150 рублей\n",
    "\n",
    "*Замечаие.* «Мегалайн» всегда округляет вверх значения минут и мегабайтов. Если пользователь проговорил всего 1 секунду, в тарифе засчитывается целая минута.\n",
    "\n",
    "## 2. Описание данных\n",
    "\n",
    "**Информация о пользователях**\n",
    "\n",
    "* _user_id_ — уникальный идентификатор пользователя\n",
    "* _first_name_ — имя пользователя\n",
    "* _last_name_ — фамилия пользователя\n",
    "* _age_ — возраст пользователя (годы)\n",
    "* _reg_date_ — дата подключения тарифа (день, месяц, год)\n",
    "* _churn_date_ — дата прекращения пользования тарифом (если значение пропущено, то тариф ещё действовал на момент выгрузки данных)\n",
    "* _city_ — город проживания пользователя\n",
    "* _tariff_ — название тарифного плана\n",
    "\n",
    "**Информация о звонках**\n",
    "\n",
    "* _id_ — уникальный номер звонка\n",
    "* _call_date_ — дата звонка\n",
    "* _duration_ — длительность звонка в минутах\n",
    "* _user_id_ — идентификатор пользователя, сделавшего звонок\n",
    "\n",
    "**Информация о сообщениях**\n",
    "\n",
    "* _id_ — уникальный номер сообщения\n",
    "* _message_date_ — дата сообщения\n",
    "* _user_id_ — идентификатор пользователя, отправившего сообщение\n",
    "\n",
    "**Информация об интернет-сессиях**\n",
    "\n",
    "* _id_ — уникальный номер сессии\n",
    "* _mb_used_ — объём потраченного за сессию интернет-трафика (в мегабайтах)\n",
    "* _session_date_ — дата интернет-сессии\n",
    "* _user_id_ — идентификатор пользователя\n",
    "\n",
    "**Информация о тарифах**\n",
    "\n",
    "* _tariff_name_ — название тарифа\n",
    "* _rub_monthly_fee_ — ежемесячная абонентская плата в рублях\n",
    "* _minutes_included_ — количество минут разговора в месяц, включённых в абонентскую плату\n",
    "* _messages_included_ — количество сообщений в месяц, включённых в абонентскую плату\n",
    "* _mb_per_month_included_ — объём интернет-трафика, включённого в абонентскую плату (в мегабайтах)\n",
    "* _rub_per_minute_ — стоимость минуты разговора сверх тарифного пакета (например, если в тарифе 100 минут разговора в месяц, то со 101 минуты будет взиматься плата)\n",
    "* _rub_per_message_ — стоимость отправки сообщения сверх тарифного пакета\n",
    "* _rub_per_gb_ — стоимость дополнительного гигабайта интернет-трафика сверх тарифного пакета (1 гигабайт = 1024 мегабайта)"
   ]
  },
  {
   "cell_type": "markdown",
   "metadata": {},
   "source": [
    "## 3. Функции"
   ]
  },
  {
   "cell_type": "code",
   "execution_count": 1,
   "metadata": {
    "ExecuteTime": {
     "end_time": "2020-09-22T07:59:35.954366Z",
     "start_time": "2020-09-22T07:59:34.613310Z"
    }
   },
   "outputs": [],
   "source": [
    "import math\n",
    "import requests\n",
    "import numpy as np\n",
    "import pandas as pd\n",
    "import seaborn as sns\n",
    "import scipy.stats as st\n",
    "import matplotlib.pyplot as plt\n",
    "from urllib.parse import urlencode"
   ]
  },
  {
   "cell_type": "code",
   "execution_count": 2,
   "metadata": {
    "ExecuteTime": {
     "end_time": "2020-09-22T07:59:35.981349Z",
     "start_time": "2020-09-22T07:59:35.966526Z"
    }
   },
   "outputs": [],
   "source": [
    "LINKS = [\"https://yadi.sk/d/-yfOw4HHtN0vAw\", \"https://yadi.sk/d/FOhKnSHxJXPayg\", \n",
    "         \"https://yadi.sk/d/W4Q2ViomDMAjYA\", \"https://yadi.sk/d/ZANkXDZcnRG_bw\", \n",
    "         \"https://yadi.sk/d/pEYK_9PZgE2C_Q\"]\n",
    "PATHS = ['a/datasets/calls.csv', 'a/datasets/internet.csv', 'a/datasets/messages.csv', \n",
    "         'a/datasets/tariffs.csv', 'a/datasets/users.csv']"
   ]
  },
  {
   "cell_type": "code",
   "execution_count": 3,
   "metadata": {
    "ExecuteTime": {
     "end_time": "2020-09-22T07:59:36.081936Z",
     "start_time": "2020-09-22T07:59:35.988150Z"
    }
   },
   "outputs": [],
   "source": [
    "def load_data(paths, links=None):\n",
    "    \"\"\"\n",
    "    Функция принимает пути до локальных файлов с данными и (опционально) ссылки\n",
    "    для их скачивания.\n",
    "    \n",
    "    paths - локальные пути до файлов с данными\n",
    "    links - ссылки для скачивания (Яндекс.Диск)\n",
    "    \"\"\"\n",
    "    \n",
    "    data_list = []\n",
    "    base_url = 'https://cloud-api.yandex.net/v1/disk/public/resources/download?'\n",
    "    \n",
    "    if links != None and not links:\n",
    "        raise Exception(\"Error: wrong 'links' value (nmust be not empty list)\")\n",
    "    \n",
    "    if links:\n",
    "        if len(paths) != len(links):\n",
    "            raise Exception(\"Error: length of 'links' must be equal to length of 'paths'\")\n",
    "\n",
    "        if type(paths).__name__ != 'list' or type(links).__name__ != 'list':\n",
    "            raise Exception(\"Error: variables 'links' and 'paths' must be 'list' type\")\n",
    "\n",
    "    for i in range(len(paths)):\n",
    "        \n",
    "        try:\n",
    "            path = paths[i]\n",
    "            data_list.append(pd.read_csv(path))\n",
    "            \n",
    "        except FileNotFoundError:\n",
    "            # download from yandex disk\n",
    "            public_key = links[i]\n",
    "            print(\"Run load\", public_key)\n",
    "            \n",
    "            # get download link\n",
    "            final_url = base_url + urlencode(dict(public_key=public_key))\n",
    "            response = requests.get(final_url)\n",
    "            download_url = response.json()['href']\n",
    "            data = pd.read_csv(download_url)\n",
    "            data_list.append(pd.DataFrame(data))\n",
    "            print('Done.')\n",
    "            \n",
    "    return data_list"
   ]
  },
  {
   "cell_type": "code",
   "execution_count": 4,
   "metadata": {
    "ExecuteTime": {
     "end_time": "2020-09-22T07:59:36.212565Z",
     "start_time": "2020-09-22T07:59:36.086963Z"
    }
   },
   "outputs": [],
   "source": [
    "# ---------- UPDATE -----------\n",
    "# функция доп. вычислений\n",
    "def diff_values(row, per_month, included, rub,  proc=False):\n",
    "    # diff = math.ceil(row[per_month] - row[included])\n",
    "    diff = row[per_month] - row[included]\n",
    "    \n",
    "    if proc:\n",
    "        # update 2.0 :D\n",
    "        diff /= 1024\n",
    "        \n",
    "    # update 2.0\n",
    "    fee = int(math.ceil(diff)) * row[rub] if diff > 0 else 0\n",
    "    return fee"
   ]
  },
  {
   "cell_type": "code",
   "execution_count": 5,
   "metadata": {
    "ExecuteTime": {
     "end_time": "2020-09-22T07:59:36.313258Z",
     "start_time": "2020-09-22T07:59:36.215944Z"
    }
   },
   "outputs": [],
   "source": [
    "# ---------- UPDATE -----------\n",
    "# функция для подстчета прибыли из каждой строки\n",
    "def calculate_income(row):\n",
    "    minutes = diff_values(row, 'minutes_per_month', 'minutes_included', 'rub_per_minute')\n",
    "    messages = diff_values(row, 'message_per_month', 'messages_included', 'rub_per_message')\n",
    "    gb = diff_values(row, 'mb_per_month', 'mb_per_month_included', 'rub_per_gb', proc=True) \n",
    "    # update 2.0\n",
    "    result = minutes + messages + gb + row['rub_monthly_fee']\n",
    "    return result"
   ]
  },
  {
   "cell_type": "code",
   "execution_count": 6,
   "metadata": {
    "ExecuteTime": {
     "end_time": "2020-09-22T07:59:36.447782Z",
     "start_time": "2020-09-22T07:59:36.316279Z"
    }
   },
   "outputs": [],
   "source": [
    "# функция построения нескольких графиков\n",
    "\n",
    "def get_figure(df_list, labels, kind, title, ax, legend=False): \n",
    "    for i, df in enumerate(df_list):\n",
    "        df.plot(ax=ax, label=labels[i], kind=kind, title=title, grid=True);"
   ]
  },
  {
   "cell_type": "code",
   "execution_count": 7,
   "metadata": {
    "ExecuteTime": {
     "end_time": "2020-09-22T07:59:36.545681Z",
     "start_time": "2020-09-22T07:59:36.453249Z"
    }
   },
   "outputs": [],
   "source": [
    "# функция построения диаграмы размаха для параметров 'minutes_per_month', 'message_per_month', 'mb_per_month'\n",
    "\n",
    "def get_boxplot(df, tariff):\n",
    "    fig, axs = plt.subplots(1, 3, figsize=(15,10))\n",
    "\n",
    "    for i, point in enumerate(['minutes_per_month', 'message_per_month', 'mb_per_month']):\n",
    "        get_figure([df[[point]]], [tariff], 'box', point, axs[i])\n",
    "\n",
    "    fig.tight_layout();"
   ]
  },
  {
   "cell_type": "code",
   "execution_count": 8,
   "metadata": {
    "ExecuteTime": {
     "end_time": "2020-09-22T07:59:36.647498Z",
     "start_time": "2020-09-22T07:59:36.550295Z"
    }
   },
   "outputs": [],
   "source": [
    "# функция для получения границ дтапазона [-1.5*iqr, +1.5*iqr]\n",
    "\n",
    "def get_true_range(s):\n",
    "    iqr = st.iqr(s)\n",
    "    quantile = s.quantile([.25, .75])\n",
    "    first = round(quantile[0.25] - 1.5 * iqr, 2)\n",
    "    third = round(quantile[0.75] + 1.5 * iqr, 2)\n",
    "    return (first, third)   "
   ]
  },
  {
   "cell_type": "code",
   "execution_count": 9,
   "metadata": {
    "ExecuteTime": {
     "end_time": "2020-09-22T07:59:36.862458Z",
     "start_time": "2020-09-22T07:59:36.749096Z"
    }
   },
   "outputs": [],
   "source": [
    "# функция удаления выбросов\n",
    "def drop_values(df):\n",
    "    minutes_range = get_true_range(df['minutes_per_month'])\n",
    "    messages_range = get_true_range(df['message_per_month'])\n",
    "    mb_range = get_true_range(df['mb_per_month'])\n",
    "    \n",
    "    df.drop(df[(df['minutes_per_month'] < minutes_range[0])\n",
    "               | (df['minutes_per_month'] > minutes_range[1])\n",
    "               | (df['message_per_month'] < messages_range[0])\n",
    "               | (df['message_per_month'] > messages_range[1])\n",
    "               | (df['mb_per_month'] < mb_range[0])\n",
    "               | (df['mb_per_month'] > mb_range[1])].index,\n",
    "                axis=0,\n",
    "                inplace=True\n",
    "               )\n",
    "    \n",
    "    return df"
   ]
  },
  {
   "cell_type": "code",
   "execution_count": 10,
   "metadata": {
    "ExecuteTime": {
     "end_time": "2020-09-22T07:59:36.862458Z",
     "start_time": "2020-09-22T07:59:36.749096Z"
    }
   },
   "outputs": [],
   "source": [
    "# функция удаления выбросов\n",
    "def drop_values(df):\n",
    "    minutes_range = get_true_range(df['minutes_per_month'])\n",
    "    messages_range = get_true_range(df['message_per_month'])\n",
    "    mb_range = get_true_range(df['mb_per_month'])\n",
    "    \n",
    "    df.drop(df[(df['minutes_per_month'] < minutes_range[0])\n",
    "               | (df['minutes_per_month'] > minutes_range[1])\n",
    "               | (df['message_per_month'] < messages_range[0])\n",
    "               | (df['message_per_month'] > messages_range[1])\n",
    "               | (df['mb_per_month'] < mb_range[0])\n",
    "               | (df['mb_per_month'] > mb_range[1])].index,\n",
    "                axis=0,\n",
    "                inplace=True\n",
    "               )\n",
    "    \n",
    "    return df"
   ]
  },
  {
   "cell_type": "code",
   "execution_count": 11,
   "metadata": {
    "ExecuteTime": {
     "end_time": "2020-09-22T07:59:36.959460Z",
     "start_time": "2020-09-22T07:59:36.865072Z"
    }
   },
   "outputs": [],
   "source": [
    "# функция проверки нулевой гипотезы\n",
    "\n",
    "def check_null_hypothesis(sample_1, sample_2):\n",
    "    alpha = 0.05\n",
    "    results = st.ttest_ind(sample_1, sample_2, equal_var=True)\n",
    "    print('p-value:', results.pvalue)\n",
    "\n",
    "    if results.pvalue < alpha:\n",
    "        print('Отвергаем нулевую гипотезу')\n",
    "    else:\n",
    "        print('Не удалось отвергнуть нулевую гипотезу')"
   ]
  },
  {
   "cell_type": "markdown",
   "metadata": {},
   "source": [
    "## 4. Загрузка данных"
   ]
  },
  {
   "cell_type": "code",
   "execution_count": 12,
   "metadata": {
    "ExecuteTime": {
     "end_time": "2020-09-22T07:59:47.273153Z",
     "start_time": "2020-09-22T07:59:36.965302Z"
    }
   },
   "outputs": [
    {
     "name": "stdout",
     "output_type": "stream",
     "text": [
      "Run load https://yadi.sk/d/-yfOw4HHtN0vAw\n",
      "Done.\n",
      "Run load https://yadi.sk/d/FOhKnSHxJXPayg\n",
      "Done.\n",
      "Run load https://yadi.sk/d/W4Q2ViomDMAjYA\n",
      "Done.\n",
      "Run load https://yadi.sk/d/ZANkXDZcnRG_bw\n",
      "Done.\n",
      "Run load https://yadi.sk/d/pEYK_9PZgE2C_Q\n",
      "Done.\n"
     ]
    }
   ],
   "source": [
    "calls_data, internet_data, messages_data, tariffs_data, users_data = load_data(PATHS, links=LINKS)"
   ]
  },
  {
   "cell_type": "code",
   "execution_count": 13,
   "metadata": {
    "ExecuteTime": {
     "end_time": "2020-09-22T07:59:47.305393Z",
     "start_time": "2020-09-22T07:59:47.276667Z"
    }
   },
   "outputs": [
    {
     "data": {
      "text/html": [
       "<div>\n",
       "<style scoped>\n",
       "    .dataframe tbody tr th:only-of-type {\n",
       "        vertical-align: middle;\n",
       "    }\n",
       "\n",
       "    .dataframe tbody tr th {\n",
       "        vertical-align: top;\n",
       "    }\n",
       "\n",
       "    .dataframe thead th {\n",
       "        text-align: right;\n",
       "    }\n",
       "</style>\n",
       "<table border=\"1\" class=\"dataframe\">\n",
       "  <thead>\n",
       "    <tr style=\"text-align: right;\">\n",
       "      <th></th>\n",
       "      <th>id</th>\n",
       "      <th>call_date</th>\n",
       "      <th>duration</th>\n",
       "      <th>user_id</th>\n",
       "    </tr>\n",
       "  </thead>\n",
       "  <tbody>\n",
       "    <tr>\n",
       "      <th>190398</th>\n",
       "      <td>1469_17</td>\n",
       "      <td>2018-08-31</td>\n",
       "      <td>7.17</td>\n",
       "      <td>1469</td>\n",
       "    </tr>\n",
       "    <tr>\n",
       "      <th>38255</th>\n",
       "      <td>1096_19</td>\n",
       "      <td>2018-09-30</td>\n",
       "      <td>2.70</td>\n",
       "      <td>1096</td>\n",
       "    </tr>\n",
       "    <tr>\n",
       "      <th>61204</th>\n",
       "      <td>1155_12</td>\n",
       "      <td>2018-04-22</td>\n",
       "      <td>0.00</td>\n",
       "      <td>1155</td>\n",
       "    </tr>\n",
       "    <tr>\n",
       "      <th>94725</th>\n",
       "      <td>1240_253</td>\n",
       "      <td>2018-11-17</td>\n",
       "      <td>7.54</td>\n",
       "      <td>1240</td>\n",
       "    </tr>\n",
       "    <tr>\n",
       "      <th>69628</th>\n",
       "      <td>1174_668</td>\n",
       "      <td>2018-07-26</td>\n",
       "      <td>0.49</td>\n",
       "      <td>1174</td>\n",
       "    </tr>\n",
       "    <tr>\n",
       "      <th>180051</th>\n",
       "      <td>1450_69</td>\n",
       "      <td>2018-12-28</td>\n",
       "      <td>0.00</td>\n",
       "      <td>1450</td>\n",
       "    </tr>\n",
       "    <tr>\n",
       "      <th>70062</th>\n",
       "      <td>1175_211</td>\n",
       "      <td>2018-05-20</td>\n",
       "      <td>0.00</td>\n",
       "      <td>1175</td>\n",
       "    </tr>\n",
       "    <tr>\n",
       "      <th>176432</th>\n",
       "      <td>1435_350</td>\n",
       "      <td>2018-06-24</td>\n",
       "      <td>0.38</td>\n",
       "      <td>1435</td>\n",
       "    </tr>\n",
       "    <tr>\n",
       "      <th>21009</th>\n",
       "      <td>1055_502</td>\n",
       "      <td>2018-05-09</td>\n",
       "      <td>8.39</td>\n",
       "      <td>1055</td>\n",
       "    </tr>\n",
       "    <tr>\n",
       "      <th>18726</th>\n",
       "      <td>1051_115</td>\n",
       "      <td>2018-10-04</td>\n",
       "      <td>3.51</td>\n",
       "      <td>1051</td>\n",
       "    </tr>\n",
       "  </tbody>\n",
       "</table>\n",
       "</div>"
      ],
      "text/plain": [
       "              id   call_date  duration  user_id\n",
       "190398   1469_17  2018-08-31      7.17     1469\n",
       "38255    1096_19  2018-09-30      2.70     1096\n",
       "61204    1155_12  2018-04-22      0.00     1155\n",
       "94725   1240_253  2018-11-17      7.54     1240\n",
       "69628   1174_668  2018-07-26      0.49     1174\n",
       "180051   1450_69  2018-12-28      0.00     1450\n",
       "70062   1175_211  2018-05-20      0.00     1175\n",
       "176432  1435_350  2018-06-24      0.38     1435\n",
       "21009   1055_502  2018-05-09      8.39     1055\n",
       "18726   1051_115  2018-10-04      3.51     1051"
      ]
     },
     "execution_count": 13,
     "metadata": {},
     "output_type": "execute_result"
    }
   ],
   "source": [
    "# calls_data = pd.read_csv('/datasets/calls.csv')\n",
    "calls_data.sample(10)"
   ]
  },
  {
   "cell_type": "code",
   "execution_count": 14,
   "metadata": {
    "ExecuteTime": {
     "end_time": "2020-09-22T07:59:47.414515Z",
     "start_time": "2020-09-22T07:59:47.308645Z"
    }
   },
   "outputs": [
    {
     "name": "stdout",
     "output_type": "stream",
     "text": [
      "<class 'pandas.core.frame.DataFrame'>\n",
      "RangeIndex: 202607 entries, 0 to 202606\n",
      "Data columns (total 4 columns):\n",
      " #   Column     Non-Null Count   Dtype  \n",
      "---  ------     --------------   -----  \n",
      " 0   id         202607 non-null  object \n",
      " 1   call_date  202607 non-null  object \n",
      " 2   duration   202607 non-null  float64\n",
      " 3   user_id    202607 non-null  int64  \n",
      "dtypes: float64(1), int64(1), object(2)\n",
      "memory usage: 6.2+ MB\n"
     ]
    }
   ],
   "source": [
    "calls_data.info()"
   ]
  },
  {
   "cell_type": "code",
   "execution_count": 15,
   "metadata": {
    "ExecuteTime": {
     "end_time": "2020-09-22T07:59:47.552708Z",
     "start_time": "2020-09-22T07:59:47.417520Z"
    }
   },
   "outputs": [
    {
     "data": {
      "text/plain": [
       "(39613, 4)"
      ]
     },
     "execution_count": 15,
     "metadata": {},
     "output_type": "execute_result"
    }
   ],
   "source": [
    "calls_data[calls_data.duration == 0.0].shape"
   ]
  },
  {
   "cell_type": "code",
   "execution_count": 16,
   "metadata": {
    "ExecuteTime": {
     "end_time": "2020-09-22T07:59:47.684181Z",
     "start_time": "2020-09-22T07:59:47.556266Z"
    }
   },
   "outputs": [
    {
     "data": {
      "text/html": [
       "<div>\n",
       "<style scoped>\n",
       "    .dataframe tbody tr th:only-of-type {\n",
       "        vertical-align: middle;\n",
       "    }\n",
       "\n",
       "    .dataframe tbody tr th {\n",
       "        vertical-align: top;\n",
       "    }\n",
       "\n",
       "    .dataframe thead th {\n",
       "        text-align: right;\n",
       "    }\n",
       "</style>\n",
       "<table border=\"1\" class=\"dataframe\">\n",
       "  <thead>\n",
       "    <tr style=\"text-align: right;\">\n",
       "      <th></th>\n",
       "      <th>Unnamed: 0</th>\n",
       "      <th>id</th>\n",
       "      <th>mb_used</th>\n",
       "      <th>session_date</th>\n",
       "      <th>user_id</th>\n",
       "    </tr>\n",
       "  </thead>\n",
       "  <tbody>\n",
       "    <tr>\n",
       "      <th>24015</th>\n",
       "      <td>24015</td>\n",
       "      <td>1082_2</td>\n",
       "      <td>488.53</td>\n",
       "      <td>2018-10-15</td>\n",
       "      <td>1082</td>\n",
       "    </tr>\n",
       "    <tr>\n",
       "      <th>77677</th>\n",
       "      <td>77677</td>\n",
       "      <td>1262_329</td>\n",
       "      <td>0.00</td>\n",
       "      <td>2018-06-13</td>\n",
       "      <td>1262</td>\n",
       "    </tr>\n",
       "    <tr>\n",
       "      <th>76408</th>\n",
       "      <td>76408</td>\n",
       "      <td>1256_113</td>\n",
       "      <td>288.48</td>\n",
       "      <td>2018-11-24</td>\n",
       "      <td>1256</td>\n",
       "    </tr>\n",
       "    <tr>\n",
       "      <th>145722</th>\n",
       "      <td>145722</td>\n",
       "      <td>1487_65</td>\n",
       "      <td>732.64</td>\n",
       "      <td>2018-12-27</td>\n",
       "      <td>1487</td>\n",
       "    </tr>\n",
       "    <tr>\n",
       "      <th>33871</th>\n",
       "      <td>33871</td>\n",
       "      <td>1119_25</td>\n",
       "      <td>224.38</td>\n",
       "      <td>2018-07-09</td>\n",
       "      <td>1119</td>\n",
       "    </tr>\n",
       "    <tr>\n",
       "      <th>65628</th>\n",
       "      <td>65628</td>\n",
       "      <td>1224_274</td>\n",
       "      <td>741.58</td>\n",
       "      <td>2018-12-28</td>\n",
       "      <td>1224</td>\n",
       "    </tr>\n",
       "    <tr>\n",
       "      <th>122808</th>\n",
       "      <td>122808</td>\n",
       "      <td>1413_213</td>\n",
       "      <td>274.78</td>\n",
       "      <td>2018-12-30</td>\n",
       "      <td>1413</td>\n",
       "    </tr>\n",
       "    <tr>\n",
       "      <th>97468</th>\n",
       "      <td>97468</td>\n",
       "      <td>1328_25</td>\n",
       "      <td>500.48</td>\n",
       "      <td>2018-12-27</td>\n",
       "      <td>1328</td>\n",
       "    </tr>\n",
       "    <tr>\n",
       "      <th>113742</th>\n",
       "      <td>113742</td>\n",
       "      <td>1384_452</td>\n",
       "      <td>282.36</td>\n",
       "      <td>2018-05-18</td>\n",
       "      <td>1384</td>\n",
       "    </tr>\n",
       "    <tr>\n",
       "      <th>109593</th>\n",
       "      <td>109593</td>\n",
       "      <td>1373_515</td>\n",
       "      <td>306.01</td>\n",
       "      <td>2018-10-08</td>\n",
       "      <td>1373</td>\n",
       "    </tr>\n",
       "  </tbody>\n",
       "</table>\n",
       "</div>"
      ],
      "text/plain": [
       "        Unnamed: 0        id  mb_used session_date  user_id\n",
       "24015        24015    1082_2   488.53   2018-10-15     1082\n",
       "77677        77677  1262_329     0.00   2018-06-13     1262\n",
       "76408        76408  1256_113   288.48   2018-11-24     1256\n",
       "145722      145722   1487_65   732.64   2018-12-27     1487\n",
       "33871        33871   1119_25   224.38   2018-07-09     1119\n",
       "65628        65628  1224_274   741.58   2018-12-28     1224\n",
       "122808      122808  1413_213   274.78   2018-12-30     1413\n",
       "97468        97468   1328_25   500.48   2018-12-27     1328\n",
       "113742      113742  1384_452   282.36   2018-05-18     1384\n",
       "109593      109593  1373_515   306.01   2018-10-08     1373"
      ]
     },
     "execution_count": 16,
     "metadata": {},
     "output_type": "execute_result"
    }
   ],
   "source": [
    "# internet_data = pd.read_csv('/datasets/internet.csv')\n",
    "internet_data.sample(10)"
   ]
  },
  {
   "cell_type": "code",
   "execution_count": 17,
   "metadata": {
    "ExecuteTime": {
     "end_time": "2020-09-22T07:59:47.791551Z",
     "start_time": "2020-09-22T07:59:47.687652Z"
    }
   },
   "outputs": [
    {
     "name": "stdout",
     "output_type": "stream",
     "text": [
      "<class 'pandas.core.frame.DataFrame'>\n",
      "RangeIndex: 149396 entries, 0 to 149395\n",
      "Data columns (total 5 columns):\n",
      " #   Column        Non-Null Count   Dtype  \n",
      "---  ------        --------------   -----  \n",
      " 0   Unnamed: 0    149396 non-null  int64  \n",
      " 1   id            149396 non-null  object \n",
      " 2   mb_used       149396 non-null  float64\n",
      " 3   session_date  149396 non-null  object \n",
      " 4   user_id       149396 non-null  int64  \n",
      "dtypes: float64(1), int64(2), object(2)\n",
      "memory usage: 5.7+ MB\n"
     ]
    }
   ],
   "source": [
    "internet_data.info()"
   ]
  },
  {
   "cell_type": "code",
   "execution_count": 18,
   "metadata": {
    "ExecuteTime": {
     "end_time": "2020-09-22T07:59:47.903052Z",
     "start_time": "2020-09-22T07:59:47.794155Z"
    }
   },
   "outputs": [
    {
     "data": {
      "text/html": [
       "<div>\n",
       "<style scoped>\n",
       "    .dataframe tbody tr th:only-of-type {\n",
       "        vertical-align: middle;\n",
       "    }\n",
       "\n",
       "    .dataframe tbody tr th {\n",
       "        vertical-align: top;\n",
       "    }\n",
       "\n",
       "    .dataframe thead th {\n",
       "        text-align: right;\n",
       "    }\n",
       "</style>\n",
       "<table border=\"1\" class=\"dataframe\">\n",
       "  <thead>\n",
       "    <tr style=\"text-align: right;\">\n",
       "      <th></th>\n",
       "      <th>id</th>\n",
       "      <th>message_date</th>\n",
       "      <th>user_id</th>\n",
       "    </tr>\n",
       "  </thead>\n",
       "  <tbody>\n",
       "    <tr>\n",
       "      <th>110365</th>\n",
       "      <td>1447_50</td>\n",
       "      <td>2018-11-09</td>\n",
       "      <td>1447</td>\n",
       "    </tr>\n",
       "    <tr>\n",
       "      <th>66459</th>\n",
       "      <td>1284_47</td>\n",
       "      <td>2018-08-21</td>\n",
       "      <td>1284</td>\n",
       "    </tr>\n",
       "    <tr>\n",
       "      <th>104104</th>\n",
       "      <td>1423_437</td>\n",
       "      <td>2018-06-27</td>\n",
       "      <td>1423</td>\n",
       "    </tr>\n",
       "    <tr>\n",
       "      <th>63110</th>\n",
       "      <td>1275_72</td>\n",
       "      <td>2018-11-28</td>\n",
       "      <td>1275</td>\n",
       "    </tr>\n",
       "    <tr>\n",
       "      <th>66690</th>\n",
       "      <td>1284_278</td>\n",
       "      <td>2018-07-11</td>\n",
       "      <td>1284</td>\n",
       "    </tr>\n",
       "    <tr>\n",
       "      <th>98126</th>\n",
       "      <td>1401_458</td>\n",
       "      <td>2018-03-13</td>\n",
       "      <td>1401</td>\n",
       "    </tr>\n",
       "    <tr>\n",
       "      <th>9587</th>\n",
       "      <td>1039_243</td>\n",
       "      <td>2018-11-23</td>\n",
       "      <td>1039</td>\n",
       "    </tr>\n",
       "    <tr>\n",
       "      <th>29951</th>\n",
       "      <td>1130_326</td>\n",
       "      <td>2018-12-30</td>\n",
       "      <td>1130</td>\n",
       "    </tr>\n",
       "    <tr>\n",
       "      <th>69811</th>\n",
       "      <td>1299_91</td>\n",
       "      <td>2018-12-06</td>\n",
       "      <td>1299</td>\n",
       "    </tr>\n",
       "    <tr>\n",
       "      <th>14924</th>\n",
       "      <td>1065_260</td>\n",
       "      <td>2018-05-28</td>\n",
       "      <td>1065</td>\n",
       "    </tr>\n",
       "  </tbody>\n",
       "</table>\n",
       "</div>"
      ],
      "text/plain": [
       "              id message_date  user_id\n",
       "110365   1447_50   2018-11-09     1447\n",
       "66459    1284_47   2018-08-21     1284\n",
       "104104  1423_437   2018-06-27     1423\n",
       "63110    1275_72   2018-11-28     1275\n",
       "66690   1284_278   2018-07-11     1284\n",
       "98126   1401_458   2018-03-13     1401\n",
       "9587    1039_243   2018-11-23     1039\n",
       "29951   1130_326   2018-12-30     1130\n",
       "69811    1299_91   2018-12-06     1299\n",
       "14924   1065_260   2018-05-28     1065"
      ]
     },
     "execution_count": 18,
     "metadata": {},
     "output_type": "execute_result"
    }
   ],
   "source": [
    "# messages_data = pd.read_csv('/datasets/messages.csv')\n",
    "messages_data.sample(10)"
   ]
  },
  {
   "cell_type": "code",
   "execution_count": 19,
   "metadata": {
    "ExecuteTime": {
     "end_time": "2020-09-22T07:59:48.013916Z",
     "start_time": "2020-09-22T07:59:47.905770Z"
    }
   },
   "outputs": [
    {
     "name": "stdout",
     "output_type": "stream",
     "text": [
      "<class 'pandas.core.frame.DataFrame'>\n",
      "RangeIndex: 123036 entries, 0 to 123035\n",
      "Data columns (total 3 columns):\n",
      " #   Column        Non-Null Count   Dtype \n",
      "---  ------        --------------   ----- \n",
      " 0   id            123036 non-null  object\n",
      " 1   message_date  123036 non-null  object\n",
      " 2   user_id       123036 non-null  int64 \n",
      "dtypes: int64(1), object(2)\n",
      "memory usage: 2.8+ MB\n"
     ]
    }
   ],
   "source": [
    "messages_data.info()"
   ]
  },
  {
   "cell_type": "code",
   "execution_count": 20,
   "metadata": {
    "ExecuteTime": {
     "end_time": "2020-09-22T07:59:48.126124Z",
     "start_time": "2020-09-22T07:59:48.018726Z"
    }
   },
   "outputs": [
    {
     "data": {
      "text/html": [
       "<div>\n",
       "<style scoped>\n",
       "    .dataframe tbody tr th:only-of-type {\n",
       "        vertical-align: middle;\n",
       "    }\n",
       "\n",
       "    .dataframe tbody tr th {\n",
       "        vertical-align: top;\n",
       "    }\n",
       "\n",
       "    .dataframe thead th {\n",
       "        text-align: right;\n",
       "    }\n",
       "</style>\n",
       "<table border=\"1\" class=\"dataframe\">\n",
       "  <thead>\n",
       "    <tr style=\"text-align: right;\">\n",
       "      <th></th>\n",
       "      <th>messages_included</th>\n",
       "      <th>mb_per_month_included</th>\n",
       "      <th>minutes_included</th>\n",
       "      <th>rub_monthly_fee</th>\n",
       "      <th>rub_per_gb</th>\n",
       "      <th>rub_per_message</th>\n",
       "      <th>rub_per_minute</th>\n",
       "      <th>tariff_name</th>\n",
       "    </tr>\n",
       "  </thead>\n",
       "  <tbody>\n",
       "    <tr>\n",
       "      <th>0</th>\n",
       "      <td>50</td>\n",
       "      <td>15360</td>\n",
       "      <td>500</td>\n",
       "      <td>550</td>\n",
       "      <td>200</td>\n",
       "      <td>3</td>\n",
       "      <td>3</td>\n",
       "      <td>smart</td>\n",
       "    </tr>\n",
       "    <tr>\n",
       "      <th>1</th>\n",
       "      <td>1000</td>\n",
       "      <td>30720</td>\n",
       "      <td>3000</td>\n",
       "      <td>1950</td>\n",
       "      <td>150</td>\n",
       "      <td>1</td>\n",
       "      <td>1</td>\n",
       "      <td>ultra</td>\n",
       "    </tr>\n",
       "  </tbody>\n",
       "</table>\n",
       "</div>"
      ],
      "text/plain": [
       "   messages_included  mb_per_month_included  minutes_included  \\\n",
       "0                 50                  15360               500   \n",
       "1               1000                  30720              3000   \n",
       "\n",
       "   rub_monthly_fee  rub_per_gb  rub_per_message  rub_per_minute tariff_name  \n",
       "0              550         200                3               3       smart  \n",
       "1             1950         150                1               1       ultra  "
      ]
     },
     "execution_count": 20,
     "metadata": {},
     "output_type": "execute_result"
    }
   ],
   "source": [
    "# tariffs_data = pd.read_csv('/datasets/tariffs.csv')\n",
    "tariffs_data"
   ]
  },
  {
   "cell_type": "code",
   "execution_count": 21,
   "metadata": {
    "ExecuteTime": {
     "end_time": "2020-09-22T07:59:48.405908Z",
     "start_time": "2020-09-22T07:59:48.129293Z"
    }
   },
   "outputs": [
    {
     "name": "stdout",
     "output_type": "stream",
     "text": [
      "<class 'pandas.core.frame.DataFrame'>\n",
      "RangeIndex: 2 entries, 0 to 1\n",
      "Data columns (total 8 columns):\n",
      " #   Column                 Non-Null Count  Dtype \n",
      "---  ------                 --------------  ----- \n",
      " 0   messages_included      2 non-null      int64 \n",
      " 1   mb_per_month_included  2 non-null      int64 \n",
      " 2   minutes_included       2 non-null      int64 \n",
      " 3   rub_monthly_fee        2 non-null      int64 \n",
      " 4   rub_per_gb             2 non-null      int64 \n",
      " 5   rub_per_message        2 non-null      int64 \n",
      " 6   rub_per_minute         2 non-null      int64 \n",
      " 7   tariff_name            2 non-null      object\n",
      "dtypes: int64(7), object(1)\n",
      "memory usage: 256.0+ bytes\n"
     ]
    }
   ],
   "source": [
    "tariffs_data.info()"
   ]
  },
  {
   "cell_type": "code",
   "execution_count": 22,
   "metadata": {
    "ExecuteTime": {
     "end_time": "2020-09-22T07:59:48.623598Z",
     "start_time": "2020-09-22T07:59:48.414561Z"
    }
   },
   "outputs": [
    {
     "data": {
      "text/html": [
       "<div>\n",
       "<style scoped>\n",
       "    .dataframe tbody tr th:only-of-type {\n",
       "        vertical-align: middle;\n",
       "    }\n",
       "\n",
       "    .dataframe tbody tr th {\n",
       "        vertical-align: top;\n",
       "    }\n",
       "\n",
       "    .dataframe thead th {\n",
       "        text-align: right;\n",
       "    }\n",
       "</style>\n",
       "<table border=\"1\" class=\"dataframe\">\n",
       "  <thead>\n",
       "    <tr style=\"text-align: right;\">\n",
       "      <th></th>\n",
       "      <th>user_id</th>\n",
       "      <th>age</th>\n",
       "      <th>churn_date</th>\n",
       "      <th>city</th>\n",
       "      <th>first_name</th>\n",
       "      <th>last_name</th>\n",
       "      <th>reg_date</th>\n",
       "      <th>tariff</th>\n",
       "    </tr>\n",
       "  </thead>\n",
       "  <tbody>\n",
       "    <tr>\n",
       "      <th>221</th>\n",
       "      <td>1221</td>\n",
       "      <td>40</td>\n",
       "      <td>NaN</td>\n",
       "      <td>Белгород</td>\n",
       "      <td>Джемма</td>\n",
       "      <td>Сафонова</td>\n",
       "      <td>2018-06-03</td>\n",
       "      <td>smart</td>\n",
       "    </tr>\n",
       "    <tr>\n",
       "      <th>187</th>\n",
       "      <td>1187</td>\n",
       "      <td>60</td>\n",
       "      <td>NaN</td>\n",
       "      <td>Рязань</td>\n",
       "      <td>Виталий</td>\n",
       "      <td>Овчинников</td>\n",
       "      <td>2018-08-22</td>\n",
       "      <td>smart</td>\n",
       "    </tr>\n",
       "    <tr>\n",
       "      <th>258</th>\n",
       "      <td>1258</td>\n",
       "      <td>52</td>\n",
       "      <td>NaN</td>\n",
       "      <td>Санкт-Петербург</td>\n",
       "      <td>Валерий</td>\n",
       "      <td>Беляев</td>\n",
       "      <td>2018-12-31</td>\n",
       "      <td>smart</td>\n",
       "    </tr>\n",
       "    <tr>\n",
       "      <th>47</th>\n",
       "      <td>1047</td>\n",
       "      <td>67</td>\n",
       "      <td>NaN</td>\n",
       "      <td>Саратов</td>\n",
       "      <td>Милица</td>\n",
       "      <td>Меркулова</td>\n",
       "      <td>2018-10-29</td>\n",
       "      <td>smart</td>\n",
       "    </tr>\n",
       "    <tr>\n",
       "      <th>359</th>\n",
       "      <td>1359</td>\n",
       "      <td>52</td>\n",
       "      <td>NaN</td>\n",
       "      <td>Москва</td>\n",
       "      <td>Константин</td>\n",
       "      <td>Абашкин</td>\n",
       "      <td>2018-07-27</td>\n",
       "      <td>smart</td>\n",
       "    </tr>\n",
       "    <tr>\n",
       "      <th>444</th>\n",
       "      <td>1444</td>\n",
       "      <td>35</td>\n",
       "      <td>NaN</td>\n",
       "      <td>Нижний Новгород</td>\n",
       "      <td>Иулиан</td>\n",
       "      <td>Воронин</td>\n",
       "      <td>2018-11-07</td>\n",
       "      <td>smart</td>\n",
       "    </tr>\n",
       "    <tr>\n",
       "      <th>51</th>\n",
       "      <td>1051</td>\n",
       "      <td>37</td>\n",
       "      <td>2018-10-14</td>\n",
       "      <td>Москва</td>\n",
       "      <td>Кристина</td>\n",
       "      <td>Сомова</td>\n",
       "      <td>2018-05-28</td>\n",
       "      <td>smart</td>\n",
       "    </tr>\n",
       "    <tr>\n",
       "      <th>440</th>\n",
       "      <td>1440</td>\n",
       "      <td>51</td>\n",
       "      <td>NaN</td>\n",
       "      <td>Москва</td>\n",
       "      <td>Арсений</td>\n",
       "      <td>Матвеев</td>\n",
       "      <td>2018-05-28</td>\n",
       "      <td>ultra</td>\n",
       "    </tr>\n",
       "    <tr>\n",
       "      <th>77</th>\n",
       "      <td>1077</td>\n",
       "      <td>18</td>\n",
       "      <td>NaN</td>\n",
       "      <td>Москва</td>\n",
       "      <td>Марица</td>\n",
       "      <td>Кольцова</td>\n",
       "      <td>2018-10-23</td>\n",
       "      <td>smart</td>\n",
       "    </tr>\n",
       "    <tr>\n",
       "      <th>368</th>\n",
       "      <td>1368</td>\n",
       "      <td>50</td>\n",
       "      <td>NaN</td>\n",
       "      <td>Омск</td>\n",
       "      <td>Розалия</td>\n",
       "      <td>Гришина</td>\n",
       "      <td>2018-12-14</td>\n",
       "      <td>smart</td>\n",
       "    </tr>\n",
       "  </tbody>\n",
       "</table>\n",
       "</div>"
      ],
      "text/plain": [
       "     user_id  age  churn_date             city  first_name   last_name  \\\n",
       "221     1221   40         NaN         Белгород      Джемма    Сафонова   \n",
       "187     1187   60         NaN           Рязань     Виталий  Овчинников   \n",
       "258     1258   52         NaN  Санкт-Петербург     Валерий      Беляев   \n",
       "47      1047   67         NaN          Саратов      Милица   Меркулова   \n",
       "359     1359   52         NaN           Москва  Константин     Абашкин   \n",
       "444     1444   35         NaN  Нижний Новгород      Иулиан     Воронин   \n",
       "51      1051   37  2018-10-14           Москва    Кристина      Сомова   \n",
       "440     1440   51         NaN           Москва     Арсений     Матвеев   \n",
       "77      1077   18         NaN           Москва      Марица    Кольцова   \n",
       "368     1368   50         NaN             Омск     Розалия     Гришина   \n",
       "\n",
       "       reg_date tariff  \n",
       "221  2018-06-03  smart  \n",
       "187  2018-08-22  smart  \n",
       "258  2018-12-31  smart  \n",
       "47   2018-10-29  smart  \n",
       "359  2018-07-27  smart  \n",
       "444  2018-11-07  smart  \n",
       "51   2018-05-28  smart  \n",
       "440  2018-05-28  ultra  \n",
       "77   2018-10-23  smart  \n",
       "368  2018-12-14  smart  "
      ]
     },
     "execution_count": 22,
     "metadata": {},
     "output_type": "execute_result"
    }
   ],
   "source": [
    "# users_data = pd.read_csv('/datasets/users.csv')\n",
    "users_data.sample(10)"
   ]
  },
  {
   "cell_type": "code",
   "execution_count": 23,
   "metadata": {
    "ExecuteTime": {
     "end_time": "2020-09-22T07:59:48.727358Z",
     "start_time": "2020-09-22T07:59:48.627939Z"
    }
   },
   "outputs": [
    {
     "name": "stdout",
     "output_type": "stream",
     "text": [
      "<class 'pandas.core.frame.DataFrame'>\n",
      "RangeIndex: 500 entries, 0 to 499\n",
      "Data columns (total 8 columns):\n",
      " #   Column      Non-Null Count  Dtype \n",
      "---  ------      --------------  ----- \n",
      " 0   user_id     500 non-null    int64 \n",
      " 1   age         500 non-null    int64 \n",
      " 2   churn_date  38 non-null     object\n",
      " 3   city        500 non-null    object\n",
      " 4   first_name  500 non-null    object\n",
      " 5   last_name   500 non-null    object\n",
      " 6   reg_date    500 non-null    object\n",
      " 7   tariff      500 non-null    object\n",
      "dtypes: int64(2), object(6)\n",
      "memory usage: 31.4+ KB\n"
     ]
    }
   ],
   "source": [
    "users_data.info()"
   ]
  },
  {
   "cell_type": "markdown",
   "metadata": {},
   "source": [
    "### Вывод"
   ]
  },
  {
   "cell_type": "markdown",
   "metadata": {},
   "source": [
    "Только в одной таблице обнаружены пропуски - таблица _users_data_, столбец _churn_date_ (дата окончания действия тарифа). В поставленной задаче данные этого столбца учитываться не будут, поэтому обработка пропусков не требуется.\n",
    "\n",
    "В таблице calls_data множество звонков (39613) с длительностью 0.0 минут. Предположительно, это пропущенные звонки.\n",
    "\n",
    "Неверно интерпретируется тип столбцов с датой  - потребуется приведение типов (формат _таблица-столбец_ ):\n",
    "* _users_data_ - _churn_date, reg_date_\n",
    "* _messages_data_ - _message_date_\n",
    "* _calls_data_ - _call_date_\n",
    "* _internet_data_ - _session_date_\n",
    "\n",
    "В таблице _internet_data_ присутствует столбец без названия _\"Unnamed: 0\"_."
   ]
  },
  {
   "cell_type": "markdown",
   "metadata": {},
   "source": [
    "## 5. Подготовка данных"
   ]
  },
  {
   "cell_type": "markdown",
   "metadata": {},
   "source": [
    "### 5.1. Преобразование типов данных"
   ]
  },
  {
   "cell_type": "markdown",
   "metadata": {},
   "source": [
    "В каждой таблице тип данных столбцов с датами - строки. Преобразуем тип в _datetime_."
   ]
  },
  {
   "cell_type": "code",
   "execution_count": 24,
   "metadata": {
    "ExecuteTime": {
     "end_time": "2020-09-22T07:59:48.946657Z",
     "start_time": "2020-09-22T07:59:48.729912Z"
    }
   },
   "outputs": [
    {
     "name": "stdout",
     "output_type": "stream",
     "text": [
      "datetime64[ns]\n",
      "datetime64[ns]\n",
      "datetime64[ns]\n",
      "datetime64[ns]\n",
      "datetime64[ns]\n"
     ]
    }
   ],
   "source": [
    "# В цикле осуществляем преобразование типов столбцов с датами\n",
    "\n",
    "# users_data - churn_date, reg_date\n",
    "# messages_data - message_date\n",
    "# calls_data - call_date\n",
    "# internet_data - session_date\n",
    "\n",
    "columns = ['churn_date', 'reg_date', 'message_date', 'call_date', 'session_date']\n",
    "tables =  [users_data, users_data, messages_data, calls_data, internet_data]\n",
    "table_names =  ['users_data', 'users_data', 'messages_data', 'calls_data', 'internet_data']\n",
    "\n",
    "for name, table, column in zip(table_names, tables, columns):\n",
    "    table[column] = pd.to_datetime(table[column], format=\"%Y-%m-%d\")\n",
    "    # проверка\n",
    "    print(table[[column]].dtypes[0])"
   ]
  },
  {
   "cell_type": "markdown",
   "metadata": {},
   "source": [
    "### 5.2. Исправление ошибок"
   ]
  },
  {
   "cell_type": "markdown",
   "metadata": {},
   "source": [
    "В таблице _internet_data_ присутствует столбец без названия _\"Unnamed: 0\"_ , который совпадает с индексом. Предположительно, при сохранении в данных в текстовом формате, индекс был сохранен как столбец. Удалим столбец _\"Unnamed: 0\"_, так как он не понадобится при анализе."
   ]
  },
  {
   "cell_type": "code",
   "execution_count": 25,
   "metadata": {
    "ExecuteTime": {
     "end_time": "2020-09-22T07:59:49.002632Z",
     "start_time": "2020-09-22T07:59:48.951914Z"
    }
   },
   "outputs": [
    {
     "data": {
      "text/html": [
       "<div>\n",
       "<style scoped>\n",
       "    .dataframe tbody tr th:only-of-type {\n",
       "        vertical-align: middle;\n",
       "    }\n",
       "\n",
       "    .dataframe tbody tr th {\n",
       "        vertical-align: top;\n",
       "    }\n",
       "\n",
       "    .dataframe thead th {\n",
       "        text-align: right;\n",
       "    }\n",
       "</style>\n",
       "<table border=\"1\" class=\"dataframe\">\n",
       "  <thead>\n",
       "    <tr style=\"text-align: right;\">\n",
       "      <th></th>\n",
       "      <th>id</th>\n",
       "      <th>mb_used</th>\n",
       "      <th>session_date</th>\n",
       "      <th>user_id</th>\n",
       "    </tr>\n",
       "  </thead>\n",
       "  <tbody>\n",
       "    <tr>\n",
       "      <th>109546</th>\n",
       "      <td>1373_468</td>\n",
       "      <td>400.27</td>\n",
       "      <td>2018-05-13</td>\n",
       "      <td>1373</td>\n",
       "    </tr>\n",
       "    <tr>\n",
       "      <th>31824</th>\n",
       "      <td>1110_418</td>\n",
       "      <td>701.78</td>\n",
       "      <td>2018-12-26</td>\n",
       "      <td>1110</td>\n",
       "    </tr>\n",
       "    <tr>\n",
       "      <th>47197</th>\n",
       "      <td>1161_217</td>\n",
       "      <td>54.78</td>\n",
       "      <td>2018-09-19</td>\n",
       "      <td>1161</td>\n",
       "    </tr>\n",
       "    <tr>\n",
       "      <th>141933</th>\n",
       "      <td>1476_135</td>\n",
       "      <td>786.95</td>\n",
       "      <td>2018-12-30</td>\n",
       "      <td>1476</td>\n",
       "    </tr>\n",
       "    <tr>\n",
       "      <th>13180</th>\n",
       "      <td>1045_356</td>\n",
       "      <td>394.74</td>\n",
       "      <td>2018-04-18</td>\n",
       "      <td>1045</td>\n",
       "    </tr>\n",
       "  </tbody>\n",
       "</table>\n",
       "</div>"
      ],
      "text/plain": [
       "              id  mb_used session_date  user_id\n",
       "109546  1373_468   400.27   2018-05-13     1373\n",
       "31824   1110_418   701.78   2018-12-26     1110\n",
       "47197   1161_217    54.78   2018-09-19     1161\n",
       "141933  1476_135   786.95   2018-12-30     1476\n",
       "13180   1045_356   394.74   2018-04-18     1045"
      ]
     },
     "execution_count": 25,
     "metadata": {},
     "output_type": "execute_result"
    }
   ],
   "source": [
    "internet_data.drop(['Unnamed: 0'], axis=1, inplace=True)\n",
    "\n",
    "# проверка\n",
    "internet_data.sample(5)"
   ]
  },
  {
   "cell_type": "markdown",
   "metadata": {},
   "source": [
    "В таблицах _users_data, calls_data, messages_data, internet_data_ строковые данные столбцов _city, first_name, last_name, id, tariff_ приведем к одному регистру (нижнему)."
   ]
  },
  {
   "cell_type": "code",
   "execution_count": 26,
   "metadata": {
    "ExecuteTime": {
     "end_time": "2020-09-22T07:59:49.500580Z",
     "start_time": "2020-09-22T07:59:49.006106Z"
    }
   },
   "outputs": [
    {
     "name": "stdout",
     "output_type": "stream",
     "text": [
      "\n",
      "Table users_data, column city:\n",
      "        city\n",
      "55    казань\n",
      "346  саратов\n",
      "219    киров\n",
      "\n",
      "Table users_data, column first_name:\n",
      "    first_name\n",
      "464   антонина\n",
      "277    валерия\n",
      "434     карина\n",
      "\n",
      "Table users_data, column last_name:\n",
      "    last_name\n",
      "12   соловьев\n",
      "353  анищенко\n",
      "414  лобанова\n",
      "\n",
      "Table users_data, column tariff:\n",
      "    tariff\n",
      "464  smart\n",
      "481  smart\n",
      "305  smart\n",
      "\n",
      "Table calls_data, column id:\n",
      "              id\n",
      "166177  1409_802\n",
      "117386   1302_26\n",
      "32123   1079_494\n",
      "\n",
      "Table messages_data, column id:\n",
      "              id\n",
      "28212    1122_35\n",
      "88195   1369_120\n",
      "115142  1471_370\n",
      "\n",
      "Table internet_data, column id:\n",
      "              id\n",
      "107859   1367_34\n",
      "60115   1204_200\n",
      "51285   1174_493\n"
     ]
    }
   ],
   "source": [
    "str_columns = [\n",
    "    ('users_data', users_data, 'city'),\n",
    "    ('users_data', users_data, 'first_name'),\n",
    "    ('users_data', users_data, 'last_name'),\n",
    "    ('users_data', users_data, 'tariff'),\n",
    "    ('calls_data', calls_data, 'id'),\n",
    "    ('messages_data', messages_data, 'id'),\n",
    "    ('internet_data', internet_data, 'id')\n",
    "]\n",
    "\n",
    "for name, table, column in str_columns:\n",
    "    table[column] = table[column].str.lower()\n",
    "    \n",
    "    # проверка\n",
    "    print('\\nTable {}, column {}:'.format(name, column))\n",
    "    print(table[[column]].sample(3))"
   ]
  },
  {
   "cell_type": "markdown",
   "metadata": {},
   "source": [
    "### 5.3. Дубликаты"
   ]
  },
  {
   "cell_type": "code",
   "execution_count": 27,
   "metadata": {
    "ExecuteTime": {
     "end_time": "2020-09-22T07:59:49.810712Z",
     "start_time": "2020-09-22T07:59:49.503210Z"
    },
    "scrolled": true
   },
   "outputs": [
    {
     "name": "stdout",
     "output_type": "stream",
     "text": [
      "\n",
      "Дубликаты в таблице users_data:\n",
      "False    500\n",
      "dtype: int64\n",
      "\n",
      "Дубликаты в таблице calls_data:\n",
      "False    202607\n",
      "dtype: int64\n",
      "\n",
      "Дубликаты в таблице messages_data:\n",
      "False    123036\n",
      "dtype: int64\n",
      "\n",
      "Дубликаты в таблице internet_data:\n",
      "False    149396\n",
      "dtype: int64\n",
      "\n",
      "Дубликаты в таблице tariffs_data:\n",
      "False    2\n",
      "dtype: int64\n"
     ]
    }
   ],
   "source": [
    "items = [\n",
    "    ('users_data', users_data),\n",
    "    ('calls_data', calls_data),\n",
    "    ('messages_data', messages_data),\n",
    "    ('internet_data', internet_data),\n",
    "    ('tariffs_data', tariffs_data)\n",
    "]\n",
    "\n",
    "for name, df in items:\n",
    "    print(\"\\nДубликаты в таблице {}:\".format(name))\n",
    "    print(df.duplicated().value_counts())"
   ]
  },
  {
   "cell_type": "markdown",
   "metadata": {},
   "source": [
    "Дублирование данных в таблицах отсутствует."
   ]
  },
  {
   "cell_type": "code",
   "execution_count": 28,
   "metadata": {
    "ExecuteTime": {
     "end_time": "2020-09-22T07:59:49.833706Z",
     "start_time": "2020-09-22T07:59:49.814024Z"
    },
    "scrolled": true
   },
   "outputs": [
    {
     "data": {
      "text/plain": [
       "0.00    39613\n",
       "0.01      101\n",
       "0.02       84\n",
       "0.03       80\n",
       "0.04       85\n",
       "Name: duration, dtype: int64"
      ]
     },
     "execution_count": 28,
     "metadata": {},
     "output_type": "execute_result"
    }
   ],
   "source": [
    "# посмотрим количество самых минимальных значений\n",
    "calls_data['duration'].value_counts().sort_index().head(5)"
   ]
  },
  {
   "cell_type": "code",
   "execution_count": 29,
   "metadata": {
    "ExecuteTime": {
     "end_time": "2020-09-22T07:59:49.949218Z",
     "start_time": "2020-09-22T07:59:49.837067Z"
    }
   },
   "outputs": [
    {
     "data": {
      "text/plain": [
       "0.00    19598\n",
       "0.03        1\n",
       "0.04        1\n",
       "0.06        1\n",
       "0.07        2\n",
       "Name: mb_used, dtype: int64"
      ]
     },
     "execution_count": 29,
     "metadata": {},
     "output_type": "execute_result"
    }
   ],
   "source": [
    "# посмотрим количество самых минимальных значений для трафика\n",
    "internet_data['mb_used'].value_counts().sort_index().head(5)"
   ]
  },
  {
   "cell_type": "markdown",
   "metadata": {},
   "source": [
    "В данных присуствуют нулевые значения, а также значения до 1 минуты и до 1 мегабайта. Учитывая специфику работы ПО мобильных операторов:\n",
    "\n",
    "_подсчет минут осуществляется по принципу N+1_\n",
    "\n",
    "а также замечание при постановке задачи:\n",
    "\n",
    "_«Мегалайн» всегда округляет вверх значения минут и мегабайтов. Если пользователь проговорил всего 1 секунду, в тарифе засчитывается целая минута._\n",
    "\n",
    "а также замечания ревьюера, выполним округление значений N+1 в бОльшую сторону для длительности вызовов и использованного траффика."
   ]
  },
  {
   "cell_type": "code",
   "execution_count": 30,
   "metadata": {
    "ExecuteTime": {
     "end_time": "2020-09-22T07:59:50.304467Z",
     "start_time": "2020-09-22T07:59:49.952611Z"
    }
   },
   "outputs": [
    {
     "name": "stdout",
     "output_type": "stream",
     "text": [
      "1    39613\n",
      "2     8402\n",
      "3     9194\n",
      "4    10362\n",
      "5    10918\n",
      "Name: duration, dtype: int64\n",
      "1    19598\n",
      "2      102\n",
      "3       98\n",
      "4       96\n",
      "5      100\n",
      "Name: mb_used, dtype: int64\n"
     ]
    }
   ],
   "source": [
    "# ----- UPDATE ------\n",
    "calls_data['duration'] = calls_data['duration'].apply(lambda x: math.ceil(x + 1))\n",
    "internet_data['mb_used'] = internet_data['mb_used'].apply(lambda x: math.ceil(x + 1))\n",
    "\n",
    "# проверка\n",
    "print(calls_data['duration'].value_counts().sort_index().head(5))\n",
    "print(internet_data['mb_used'].value_counts().sort_index().head(5))"
   ]
  },
  {
   "cell_type": "markdown",
   "metadata": {},
   "source": [
    "### 5.4. Насыщение данных"
   ]
  },
  {
   "cell_type": "markdown",
   "metadata": {},
   "source": [
    "Для удобства рассчетов для каждой даты каждой таблицы добавим отдельную колонку с месяцем."
   ]
  },
  {
   "cell_type": "code",
   "execution_count": 31,
   "metadata": {
    "ExecuteTime": {
     "end_time": "2020-09-22T07:59:50.420335Z",
     "start_time": "2020-09-22T07:59:50.307979Z"
    }
   },
   "outputs": [
    {
     "name": "stdout",
     "output_type": "stream",
     "text": [
      "month\tint64\n",
      "month\tint64\n",
      "month\tint64\n",
      "month\tint64\n",
      "month\tint64\n"
     ]
    }
   ],
   "source": [
    "tables = [users_data, calls_data, messages_data, internet_data, tariffs_data]\n",
    "\n",
    "for tab in tables:\n",
    "    for col in tab.columns.to_list():\n",
    "        if 'date' in col:\n",
    "            tab['month'] = tab[col].dt.month\n",
    "            \n",
    "            # для пропущенных значений заполним 0 и переведем в тип int\n",
    "            if tab['month'].isna().count():\n",
    "                tab['month'].fillna(0, inplace=True)\n",
    "                tab['month'] = tab['month'].astype('int')\n",
    "                \n",
    "            # проверка\n",
    "            print(\"{}\\t{}\".format('month', tab['month'].dtypes))"
   ]
  },
  {
   "cell_type": "markdown",
   "metadata": {},
   "source": [
    "**Количество сделанных звонков и израсходованных минут разговора по месяцам для каждого пользователя**"
   ]
  },
  {
   "cell_type": "code",
   "execution_count": 32,
   "metadata": {
    "ExecuteTime": {
     "end_time": "2020-09-22T07:59:50.541998Z",
     "start_time": "2020-09-22T07:59:50.423442Z"
    }
   },
   "outputs": [
    {
     "data": {
      "text/html": [
       "<div>\n",
       "<style scoped>\n",
       "    .dataframe tbody tr th:only-of-type {\n",
       "        vertical-align: middle;\n",
       "    }\n",
       "\n",
       "    .dataframe tbody tr th {\n",
       "        vertical-align: top;\n",
       "    }\n",
       "\n",
       "    .dataframe thead th {\n",
       "        text-align: right;\n",
       "    }\n",
       "</style>\n",
       "<table border=\"1\" class=\"dataframe\">\n",
       "  <thead>\n",
       "    <tr style=\"text-align: right;\">\n",
       "      <th></th>\n",
       "      <th>id</th>\n",
       "      <th>call_date</th>\n",
       "      <th>duration</th>\n",
       "      <th>user_id</th>\n",
       "      <th>month</th>\n",
       "      <th>minutes_per_month</th>\n",
       "    </tr>\n",
       "  </thead>\n",
       "  <tbody>\n",
       "    <tr>\n",
       "      <th>122715</th>\n",
       "      <td>1317_224</td>\n",
       "      <td>2018-07-10</td>\n",
       "      <td>8</td>\n",
       "      <td>1317</td>\n",
       "      <td>7</td>\n",
       "      <td>518</td>\n",
       "    </tr>\n",
       "    <tr>\n",
       "      <th>64022</th>\n",
       "      <td>1164_175</td>\n",
       "      <td>2018-10-17</td>\n",
       "      <td>21</td>\n",
       "      <td>1164</td>\n",
       "      <td>10</td>\n",
       "      <td>399</td>\n",
       "    </tr>\n",
       "    <tr>\n",
       "      <th>41314</th>\n",
       "      <td>1101_357</td>\n",
       "      <td>2018-06-04</td>\n",
       "      <td>1</td>\n",
       "      <td>1101</td>\n",
       "      <td>6</td>\n",
       "      <td>619</td>\n",
       "    </tr>\n",
       "    <tr>\n",
       "      <th>55513</th>\n",
       "      <td>1142_157</td>\n",
       "      <td>2018-07-22</td>\n",
       "      <td>1</td>\n",
       "      <td>1142</td>\n",
       "      <td>7</td>\n",
       "      <td>586</td>\n",
       "    </tr>\n",
       "    <tr>\n",
       "      <th>13891</th>\n",
       "      <td>1036_65</td>\n",
       "      <td>2018-10-27</td>\n",
       "      <td>12</td>\n",
       "      <td>1036</td>\n",
       "      <td>10</td>\n",
       "      <td>602</td>\n",
       "    </tr>\n",
       "    <tr>\n",
       "      <th>51994</th>\n",
       "      <td>1130_282</td>\n",
       "      <td>2018-12-20</td>\n",
       "      <td>2</td>\n",
       "      <td>1130</td>\n",
       "      <td>12</td>\n",
       "      <td>670</td>\n",
       "    </tr>\n",
       "    <tr>\n",
       "      <th>34672</th>\n",
       "      <td>1086_221</td>\n",
       "      <td>2018-06-11</td>\n",
       "      <td>10</td>\n",
       "      <td>1086</td>\n",
       "      <td>6</td>\n",
       "      <td>529</td>\n",
       "    </tr>\n",
       "    <tr>\n",
       "      <th>102087</th>\n",
       "      <td>1262_444</td>\n",
       "      <td>2018-06-08</td>\n",
       "      <td>11</td>\n",
       "      <td>1262</td>\n",
       "      <td>6</td>\n",
       "      <td>375</td>\n",
       "    </tr>\n",
       "    <tr>\n",
       "      <th>114114</th>\n",
       "      <td>1291_740</td>\n",
       "      <td>2018-11-09</td>\n",
       "      <td>10</td>\n",
       "      <td>1291</td>\n",
       "      <td>11</td>\n",
       "      <td>641</td>\n",
       "    </tr>\n",
       "    <tr>\n",
       "      <th>41120</th>\n",
       "      <td>1101_163</td>\n",
       "      <td>2018-11-26</td>\n",
       "      <td>11</td>\n",
       "      <td>1101</td>\n",
       "      <td>11</td>\n",
       "      <td>703</td>\n",
       "    </tr>\n",
       "  </tbody>\n",
       "</table>\n",
       "</div>"
      ],
      "text/plain": [
       "              id  call_date  duration  user_id  month  minutes_per_month\n",
       "122715  1317_224 2018-07-10         8     1317      7                518\n",
       "64022   1164_175 2018-10-17        21     1164     10                399\n",
       "41314   1101_357 2018-06-04         1     1101      6                619\n",
       "55513   1142_157 2018-07-22         1     1142      7                586\n",
       "13891    1036_65 2018-10-27        12     1036     10                602\n",
       "51994   1130_282 2018-12-20         2     1130     12                670\n",
       "34672   1086_221 2018-06-11        10     1086      6                529\n",
       "102087  1262_444 2018-06-08        11     1262      6                375\n",
       "114114  1291_740 2018-11-09        10     1291     11                641\n",
       "41120   1101_163 2018-11-26        11     1101     11                703"
      ]
     },
     "execution_count": 32,
     "metadata": {},
     "output_type": "execute_result"
    }
   ],
   "source": [
    "calls_data['minutes_per_month'] = calls_data.groupby(['user_id','month'])['duration'].transform('sum')\n",
    "calls_data.sort_values(by=['user_id','call_date']).sample(10)"
   ]
  },
  {
   "cell_type": "markdown",
   "metadata": {},
   "source": [
    "**Количество отправленных сообщений по месяцам для каждого пользователя**"
   ]
  },
  {
   "cell_type": "code",
   "execution_count": 33,
   "metadata": {
    "ExecuteTime": {
     "end_time": "2020-09-22T07:59:50.632658Z",
     "start_time": "2020-09-22T07:59:50.545365Z"
    }
   },
   "outputs": [
    {
     "data": {
      "text/html": [
       "<div>\n",
       "<style scoped>\n",
       "    .dataframe tbody tr th:only-of-type {\n",
       "        vertical-align: middle;\n",
       "    }\n",
       "\n",
       "    .dataframe tbody tr th {\n",
       "        vertical-align: top;\n",
       "    }\n",
       "\n",
       "    .dataframe thead th {\n",
       "        text-align: right;\n",
       "    }\n",
       "</style>\n",
       "<table border=\"1\" class=\"dataframe\">\n",
       "  <thead>\n",
       "    <tr style=\"text-align: right;\">\n",
       "      <th></th>\n",
       "      <th>id</th>\n",
       "      <th>message_date</th>\n",
       "      <th>user_id</th>\n",
       "      <th>month</th>\n",
       "      <th>message_per_month</th>\n",
       "    </tr>\n",
       "  </thead>\n",
       "  <tbody>\n",
       "    <tr>\n",
       "      <th>119252</th>\n",
       "      <td>1483_187</td>\n",
       "      <td>2018-04-11</td>\n",
       "      <td>1483</td>\n",
       "      <td>4</td>\n",
       "      <td>30</td>\n",
       "    </tr>\n",
       "    <tr>\n",
       "      <th>13779</th>\n",
       "      <td>1057_121</td>\n",
       "      <td>2018-08-14</td>\n",
       "      <td>1057</td>\n",
       "      <td>8</td>\n",
       "      <td>19</td>\n",
       "    </tr>\n",
       "    <tr>\n",
       "      <th>69350</th>\n",
       "      <td>1296_92</td>\n",
       "      <td>2018-12-13</td>\n",
       "      <td>1296</td>\n",
       "      <td>12</td>\n",
       "      <td>50</td>\n",
       "    </tr>\n",
       "    <tr>\n",
       "      <th>89209</th>\n",
       "      <td>1373_221</td>\n",
       "      <td>2018-08-25</td>\n",
       "      <td>1373</td>\n",
       "      <td>8</td>\n",
       "      <td>56</td>\n",
       "    </tr>\n",
       "    <tr>\n",
       "      <th>106994</th>\n",
       "      <td>1431_736</td>\n",
       "      <td>2018-08-28</td>\n",
       "      <td>1431</td>\n",
       "      <td>8</td>\n",
       "      <td>91</td>\n",
       "    </tr>\n",
       "    <tr>\n",
       "      <th>72729</th>\n",
       "      <td>1308_189</td>\n",
       "      <td>2018-03-05</td>\n",
       "      <td>1308</td>\n",
       "      <td>3</td>\n",
       "      <td>23</td>\n",
       "    </tr>\n",
       "    <tr>\n",
       "      <th>32468</th>\n",
       "      <td>1145_121</td>\n",
       "      <td>2018-05-10</td>\n",
       "      <td>1145</td>\n",
       "      <td>5</td>\n",
       "      <td>103</td>\n",
       "    </tr>\n",
       "    <tr>\n",
       "      <th>81995</th>\n",
       "      <td>1344_59</td>\n",
       "      <td>2018-08-29</td>\n",
       "      <td>1344</td>\n",
       "      <td>8</td>\n",
       "      <td>132</td>\n",
       "    </tr>\n",
       "    <tr>\n",
       "      <th>80078</th>\n",
       "      <td>1333_434</td>\n",
       "      <td>2018-12-23</td>\n",
       "      <td>1333</td>\n",
       "      <td>12</td>\n",
       "      <td>145</td>\n",
       "    </tr>\n",
       "    <tr>\n",
       "      <th>88199</th>\n",
       "      <td>1369_124</td>\n",
       "      <td>2018-12-19</td>\n",
       "      <td>1369</td>\n",
       "      <td>12</td>\n",
       "      <td>115</td>\n",
       "    </tr>\n",
       "  </tbody>\n",
       "</table>\n",
       "</div>"
      ],
      "text/plain": [
       "              id message_date  user_id  month  message_per_month\n",
       "119252  1483_187   2018-04-11     1483      4                 30\n",
       "13779   1057_121   2018-08-14     1057      8                 19\n",
       "69350    1296_92   2018-12-13     1296     12                 50\n",
       "89209   1373_221   2018-08-25     1373      8                 56\n",
       "106994  1431_736   2018-08-28     1431      8                 91\n",
       "72729   1308_189   2018-03-05     1308      3                 23\n",
       "32468   1145_121   2018-05-10     1145      5                103\n",
       "81995    1344_59   2018-08-29     1344      8                132\n",
       "80078   1333_434   2018-12-23     1333     12                145\n",
       "88199   1369_124   2018-12-19     1369     12                115"
      ]
     },
     "execution_count": 33,
     "metadata": {},
     "output_type": "execute_result"
    }
   ],
   "source": [
    "messages_data['message_per_month'] = messages_data.groupby(['user_id', 'month'])['id'].transform('count')\n",
    "messages_data.sort_values(by=['user_id','message_date']).sample(10)"
   ]
  },
  {
   "cell_type": "markdown",
   "metadata": {},
   "source": [
    "**Объем израсходованного интернет-трафика по месяцам для каждого пользователя**"
   ]
  },
  {
   "cell_type": "code",
   "execution_count": 34,
   "metadata": {
    "ExecuteTime": {
     "end_time": "2020-09-22T07:59:50.720136Z",
     "start_time": "2020-09-22T07:59:50.636018Z"
    }
   },
   "outputs": [
    {
     "data": {
      "text/html": [
       "<div>\n",
       "<style scoped>\n",
       "    .dataframe tbody tr th:only-of-type {\n",
       "        vertical-align: middle;\n",
       "    }\n",
       "\n",
       "    .dataframe tbody tr th {\n",
       "        vertical-align: top;\n",
       "    }\n",
       "\n",
       "    .dataframe thead th {\n",
       "        text-align: right;\n",
       "    }\n",
       "</style>\n",
       "<table border=\"1\" class=\"dataframe\">\n",
       "  <thead>\n",
       "    <tr style=\"text-align: right;\">\n",
       "      <th></th>\n",
       "      <th>id</th>\n",
       "      <th>mb_used</th>\n",
       "      <th>session_date</th>\n",
       "      <th>user_id</th>\n",
       "      <th>month</th>\n",
       "      <th>mb_per_month</th>\n",
       "    </tr>\n",
       "  </thead>\n",
       "  <tbody>\n",
       "    <tr>\n",
       "      <th>85086</th>\n",
       "      <td>1290_116</td>\n",
       "      <td>919</td>\n",
       "      <td>2018-12-06</td>\n",
       "      <td>1290</td>\n",
       "      <td>12</td>\n",
       "      <td>29828</td>\n",
       "    </tr>\n",
       "    <tr>\n",
       "      <th>105582</th>\n",
       "      <td>1357_9</td>\n",
       "      <td>183</td>\n",
       "      <td>2018-12-28</td>\n",
       "      <td>1357</td>\n",
       "      <td>12</td>\n",
       "      <td>18026</td>\n",
       "    </tr>\n",
       "    <tr>\n",
       "      <th>60628</th>\n",
       "      <td>1204_713</td>\n",
       "      <td>216</td>\n",
       "      <td>2018-05-29</td>\n",
       "      <td>1204</td>\n",
       "      <td>5</td>\n",
       "      <td>17530</td>\n",
       "    </tr>\n",
       "    <tr>\n",
       "      <th>54258</th>\n",
       "      <td>1181_70</td>\n",
       "      <td>18</td>\n",
       "      <td>2018-12-30</td>\n",
       "      <td>1181</td>\n",
       "      <td>12</td>\n",
       "      <td>28337</td>\n",
       "    </tr>\n",
       "    <tr>\n",
       "      <th>19756</th>\n",
       "      <td>1066_237</td>\n",
       "      <td>571</td>\n",
       "      <td>2018-08-15</td>\n",
       "      <td>1066</td>\n",
       "      <td>8</td>\n",
       "      <td>31091</td>\n",
       "    </tr>\n",
       "    <tr>\n",
       "      <th>73460</th>\n",
       "      <td>1248_29</td>\n",
       "      <td>391</td>\n",
       "      <td>2018-10-08</td>\n",
       "      <td>1248</td>\n",
       "      <td>10</td>\n",
       "      <td>21094</td>\n",
       "    </tr>\n",
       "    <tr>\n",
       "      <th>148338</th>\n",
       "      <td>1496_286</td>\n",
       "      <td>757</td>\n",
       "      <td>2018-07-18</td>\n",
       "      <td>1496</td>\n",
       "      <td>7</td>\n",
       "      <td>24463</td>\n",
       "    </tr>\n",
       "    <tr>\n",
       "      <th>73271</th>\n",
       "      <td>1247_309</td>\n",
       "      <td>410</td>\n",
       "      <td>2018-09-07</td>\n",
       "      <td>1247</td>\n",
       "      <td>9</td>\n",
       "      <td>20440</td>\n",
       "    </tr>\n",
       "    <tr>\n",
       "      <th>86055</th>\n",
       "      <td>1292_171</td>\n",
       "      <td>364</td>\n",
       "      <td>2018-11-30</td>\n",
       "      <td>1292</td>\n",
       "      <td>11</td>\n",
       "      <td>29646</td>\n",
       "    </tr>\n",
       "    <tr>\n",
       "      <th>16349</th>\n",
       "      <td>1056_153</td>\n",
       "      <td>225</td>\n",
       "      <td>2018-07-01</td>\n",
       "      <td>1056</td>\n",
       "      <td>7</td>\n",
       "      <td>14424</td>\n",
       "    </tr>\n",
       "  </tbody>\n",
       "</table>\n",
       "</div>"
      ],
      "text/plain": [
       "              id  mb_used session_date  user_id  month  mb_per_month\n",
       "85086   1290_116      919   2018-12-06     1290     12         29828\n",
       "105582    1357_9      183   2018-12-28     1357     12         18026\n",
       "60628   1204_713      216   2018-05-29     1204      5         17530\n",
       "54258    1181_70       18   2018-12-30     1181     12         28337\n",
       "19756   1066_237      571   2018-08-15     1066      8         31091\n",
       "73460    1248_29      391   2018-10-08     1248     10         21094\n",
       "148338  1496_286      757   2018-07-18     1496      7         24463\n",
       "73271   1247_309      410   2018-09-07     1247      9         20440\n",
       "86055   1292_171      364   2018-11-30     1292     11         29646\n",
       "16349   1056_153      225   2018-07-01     1056      7         14424"
      ]
     },
     "execution_count": 34,
     "metadata": {},
     "output_type": "execute_result"
    }
   ],
   "source": [
    "internet_data['mb_per_month'] = internet_data.groupby(['user_id', 'month'])['mb_used'].transform('sum')\n",
    "internet_data.sort_values(by=['user_id', 'session_date']).sample(10)"
   ]
  },
  {
   "cell_type": "markdown",
   "metadata": {
    "ExecuteTime": {
     "end_time": "2020-06-24T21:09:32.334044Z",
     "start_time": "2020-06-24T21:09:32.190715Z"
    }
   },
   "source": [
    "**Помесячная выручка с каждого пользователя**"
   ]
  },
  {
   "cell_type": "code",
   "execution_count": 35,
   "metadata": {
    "ExecuteTime": {
     "end_time": "2020-09-22T07:59:50.842017Z",
     "start_time": "2020-09-22T07:59:50.723414Z"
    }
   },
   "outputs": [],
   "source": [
    "# подготавливаем необходимые данные, чтобы соединить в одну таблицу\n",
    "\n",
    "# выделение нужных столбцов\n",
    "data_list = [\n",
    "    calls_data[['user_id','month','minutes_per_month']],\n",
    "    messages_data[['user_id', 'month', 'message_per_month']],\n",
    "    internet_data[['user_id', 'month', 'mb_per_month']]\n",
    "]\n",
    "\n",
    "# будем использовать join(), поэтому для корректного объединения будем \n",
    "# использовать мульти-индекс 'пользователь-месяц'\n",
    "data_for_join = [ df.drop_duplicates().set_index(['user_id','month']) for df in data_list ]"
   ]
  },
  {
   "cell_type": "code",
   "execution_count": 36,
   "metadata": {
    "ExecuteTime": {
     "end_time": "2020-09-22T07:59:50.949621Z",
     "start_time": "2020-09-22T07:59:50.844725Z"
    }
   },
   "outputs": [
    {
     "data": {
      "text/html": [
       "<div>\n",
       "<style scoped>\n",
       "    .dataframe tbody tr th:only-of-type {\n",
       "        vertical-align: middle;\n",
       "    }\n",
       "\n",
       "    .dataframe tbody tr th {\n",
       "        vertical-align: top;\n",
       "    }\n",
       "\n",
       "    .dataframe thead th {\n",
       "        text-align: right;\n",
       "    }\n",
       "</style>\n",
       "<table border=\"1\" class=\"dataframe\">\n",
       "  <thead>\n",
       "    <tr style=\"text-align: right;\">\n",
       "      <th></th>\n",
       "      <th>user_id</th>\n",
       "      <th>month</th>\n",
       "      <th>minutes_per_month</th>\n",
       "      <th>message_per_month</th>\n",
       "      <th>mb_per_month</th>\n",
       "    </tr>\n",
       "  </thead>\n",
       "  <tbody>\n",
       "    <tr>\n",
       "      <th>97</th>\n",
       "      <td>1012</td>\n",
       "      <td>3</td>\n",
       "      <td>18.0</td>\n",
       "      <td>2.0</td>\n",
       "      <td>2422.0</td>\n",
       "    </tr>\n",
       "    <tr>\n",
       "      <th>1685</th>\n",
       "      <td>1270</td>\n",
       "      <td>9</td>\n",
       "      <td>327.0</td>\n",
       "      <td>46.0</td>\n",
       "      <td>11038.0</td>\n",
       "    </tr>\n",
       "    <tr>\n",
       "      <th>3082</th>\n",
       "      <td>1482</td>\n",
       "      <td>5</td>\n",
       "      <td>419.0</td>\n",
       "      <td>61.0</td>\n",
       "      <td>12501.0</td>\n",
       "    </tr>\n",
       "    <tr>\n",
       "      <th>1496</th>\n",
       "      <td>1240</td>\n",
       "      <td>8</td>\n",
       "      <td>511.0</td>\n",
       "      <td>NaN</td>\n",
       "      <td>48488.0</td>\n",
       "    </tr>\n",
       "    <tr>\n",
       "      <th>1816</th>\n",
       "      <td>1291</td>\n",
       "      <td>7</td>\n",
       "      <td>621.0</td>\n",
       "      <td>NaN</td>\n",
       "      <td>16688.0</td>\n",
       "    </tr>\n",
       "  </tbody>\n",
       "</table>\n",
       "</div>"
      ],
      "text/plain": [
       "      user_id  month  minutes_per_month  message_per_month  mb_per_month\n",
       "97       1012      3               18.0                2.0        2422.0\n",
       "1685     1270      9              327.0               46.0       11038.0\n",
       "3082     1482      5              419.0               61.0       12501.0\n",
       "1496     1240      8              511.0                NaN       48488.0\n",
       "1816     1291      7              621.0                NaN       16688.0"
      ]
     },
     "execution_count": 36,
     "metadata": {},
     "output_type": "execute_result"
    }
   ],
   "source": [
    "# создаем новую таблицу\n",
    "general_data = data_for_join[0].join(data_for_join[1:]).reset_index()\n",
    "general_data.sample(5)"
   ]
  },
  {
   "cell_type": "code",
   "execution_count": 37,
   "metadata": {
    "ExecuteTime": {
     "end_time": "2020-09-22T07:59:50.980933Z",
     "start_time": "2020-09-22T07:59:50.953150Z"
    }
   },
   "outputs": [],
   "source": [
    "# изменим имя столбца для возможности дальнейшего объединения\n",
    "tariffs_data.rename(columns={'tariff_name':'tariff'}, inplace=True)"
   ]
  },
  {
   "cell_type": "code",
   "execution_count": 38,
   "metadata": {
    "ExecuteTime": {
     "end_time": "2020-09-22T07:59:51.098200Z",
     "start_time": "2020-09-22T07:59:50.984121Z"
    }
   },
   "outputs": [],
   "source": [
    "# сразу объединяем с данными о пользователе и тарифном плане\n",
    "# здесь меньше данных, удобнее использовать merge()\n",
    "general_data = (\n",
    "    general_data\n",
    "    .merge(users_data[['user_id','tariff','city']],on='user_id')\n",
    "    .merge(tariffs_data, on='tariff')\n",
    ")"
   ]
  },
  {
   "cell_type": "code",
   "execution_count": 39,
   "metadata": {
    "ExecuteTime": {
     "end_time": "2020-09-22T07:59:51.213549Z",
     "start_time": "2020-09-22T07:59:51.101248Z"
    }
   },
   "outputs": [
    {
     "data": {
      "text/html": [
       "<div>\n",
       "<style scoped>\n",
       "    .dataframe tbody tr th:only-of-type {\n",
       "        vertical-align: middle;\n",
       "    }\n",
       "\n",
       "    .dataframe tbody tr th {\n",
       "        vertical-align: top;\n",
       "    }\n",
       "\n",
       "    .dataframe thead th {\n",
       "        text-align: right;\n",
       "    }\n",
       "</style>\n",
       "<table border=\"1\" class=\"dataframe\">\n",
       "  <thead>\n",
       "    <tr style=\"text-align: right;\">\n",
       "      <th></th>\n",
       "      <th>user_id</th>\n",
       "      <th>month</th>\n",
       "      <th>minutes_per_month</th>\n",
       "      <th>message_per_month</th>\n",
       "      <th>mb_per_month</th>\n",
       "      <th>tariff</th>\n",
       "      <th>city</th>\n",
       "      <th>messages_included</th>\n",
       "      <th>mb_per_month_included</th>\n",
       "      <th>minutes_included</th>\n",
       "      <th>rub_monthly_fee</th>\n",
       "      <th>rub_per_gb</th>\n",
       "      <th>rub_per_message</th>\n",
       "      <th>rub_per_minute</th>\n",
       "    </tr>\n",
       "  </thead>\n",
       "  <tbody>\n",
       "    <tr>\n",
       "      <th>1963</th>\n",
       "      <td>1217</td>\n",
       "      <td>4</td>\n",
       "      <td>522.0</td>\n",
       "      <td>62.0</td>\n",
       "      <td>17235.0</td>\n",
       "      <td>smart</td>\n",
       "      <td>ульяновск</td>\n",
       "      <td>50</td>\n",
       "      <td>15360</td>\n",
       "      <td>500</td>\n",
       "      <td>550</td>\n",
       "      <td>200</td>\n",
       "      <td>3</td>\n",
       "      <td>3</td>\n",
       "    </tr>\n",
       "    <tr>\n",
       "      <th>1080</th>\n",
       "      <td>1027</td>\n",
       "      <td>6</td>\n",
       "      <td>505.0</td>\n",
       "      <td>14.0</td>\n",
       "      <td>14749.0</td>\n",
       "      <td>smart</td>\n",
       "      <td>петрозаводск</td>\n",
       "      <td>50</td>\n",
       "      <td>15360</td>\n",
       "      <td>500</td>\n",
       "      <td>550</td>\n",
       "      <td>200</td>\n",
       "      <td>3</td>\n",
       "      <td>3</td>\n",
       "    </tr>\n",
       "    <tr>\n",
       "      <th>1487</th>\n",
       "      <td>1118</td>\n",
       "      <td>6</td>\n",
       "      <td>770.0</td>\n",
       "      <td>NaN</td>\n",
       "      <td>14244.0</td>\n",
       "      <td>smart</td>\n",
       "      <td>казань</td>\n",
       "      <td>50</td>\n",
       "      <td>15360</td>\n",
       "      <td>500</td>\n",
       "      <td>550</td>\n",
       "      <td>200</td>\n",
       "      <td>3</td>\n",
       "      <td>3</td>\n",
       "    </tr>\n",
       "    <tr>\n",
       "      <th>427</th>\n",
       "      <td>1257</td>\n",
       "      <td>9</td>\n",
       "      <td>1.0</td>\n",
       "      <td>153.0</td>\n",
       "      <td>22820.0</td>\n",
       "      <td>ultra</td>\n",
       "      <td>санкт-петербург</td>\n",
       "      <td>1000</td>\n",
       "      <td>30720</td>\n",
       "      <td>3000</td>\n",
       "      <td>1950</td>\n",
       "      <td>150</td>\n",
       "      <td>1</td>\n",
       "      <td>1</td>\n",
       "    </tr>\n",
       "    <tr>\n",
       "      <th>834</th>\n",
       "      <td>1436</td>\n",
       "      <td>9</td>\n",
       "      <td>465.0</td>\n",
       "      <td>24.0</td>\n",
       "      <td>22632.0</td>\n",
       "      <td>ultra</td>\n",
       "      <td>москва</td>\n",
       "      <td>1000</td>\n",
       "      <td>30720</td>\n",
       "      <td>3000</td>\n",
       "      <td>1950</td>\n",
       "      <td>150</td>\n",
       "      <td>1</td>\n",
       "      <td>1</td>\n",
       "    </tr>\n",
       "  </tbody>\n",
       "</table>\n",
       "</div>"
      ],
      "text/plain": [
       "      user_id  month  minutes_per_month  message_per_month  mb_per_month  \\\n",
       "1963     1217      4              522.0               62.0       17235.0   \n",
       "1080     1027      6              505.0               14.0       14749.0   \n",
       "1487     1118      6              770.0                NaN       14244.0   \n",
       "427      1257      9                1.0              153.0       22820.0   \n",
       "834      1436      9              465.0               24.0       22632.0   \n",
       "\n",
       "     tariff             city  messages_included  mb_per_month_included  \\\n",
       "1963  smart        ульяновск                 50                  15360   \n",
       "1080  smart     петрозаводск                 50                  15360   \n",
       "1487  smart           казань                 50                  15360   \n",
       "427   ultra  санкт-петербург               1000                  30720   \n",
       "834   ultra           москва               1000                  30720   \n",
       "\n",
       "      minutes_included  rub_monthly_fee  rub_per_gb  rub_per_message  \\\n",
       "1963               500              550         200                3   \n",
       "1080               500              550         200                3   \n",
       "1487               500              550         200                3   \n",
       "427               3000             1950         150                1   \n",
       "834               3000             1950         150                1   \n",
       "\n",
       "      rub_per_minute  \n",
       "1963               3  \n",
       "1080               3  \n",
       "1487               3  \n",
       "427                1  \n",
       "834                1  "
      ]
     },
     "execution_count": 39,
     "metadata": {},
     "output_type": "execute_result"
    }
   ],
   "source": [
    "general_data.sample(5)"
   ]
  },
  {
   "cell_type": "code",
   "execution_count": 40,
   "metadata": {
    "ExecuteTime": {
     "end_time": "2020-09-22T07:59:51.286287Z",
     "start_time": "2020-09-22T07:59:51.217025Z"
    }
   },
   "outputs": [
    {
     "name": "stdout",
     "output_type": "stream",
     "text": [
      "<class 'pandas.core.frame.DataFrame'>\n",
      "Int64Index: 3174 entries, 0 to 3173\n",
      "Data columns (total 14 columns):\n",
      " #   Column                 Non-Null Count  Dtype  \n",
      "---  ------                 --------------  -----  \n",
      " 0   user_id                3174 non-null   int64  \n",
      " 1   month                  3174 non-null   int64  \n",
      " 2   minutes_per_month      3174 non-null   float64\n",
      " 3   message_per_month      2678 non-null   float64\n",
      " 4   mb_per_month           3163 non-null   float64\n",
      " 5   tariff                 3174 non-null   object \n",
      " 6   city                   3174 non-null   object \n",
      " 7   messages_included      3174 non-null   int64  \n",
      " 8   mb_per_month_included  3174 non-null   int64  \n",
      " 9   minutes_included       3174 non-null   int64  \n",
      " 10  rub_monthly_fee        3174 non-null   int64  \n",
      " 11  rub_per_gb             3174 non-null   int64  \n",
      " 12  rub_per_message        3174 non-null   int64  \n",
      " 13  rub_per_minute         3174 non-null   int64  \n",
      "dtypes: float64(3), int64(9), object(2)\n",
      "memory usage: 372.0+ KB\n"
     ]
    }
   ],
   "source": [
    "# проверка - нет ли пропущенных значений\n",
    "general_data.info()"
   ]
  },
  {
   "cell_type": "markdown",
   "metadata": {},
   "source": [
    "Полученная таблица показывает, что одна часть пользователей не пользовалась мобильным интернетом в течение некоторых месяцев, другая - не отправляла сообщения. Заполним пропуски 0."
   ]
  },
  {
   "cell_type": "code",
   "execution_count": 41,
   "metadata": {
    "ExecuteTime": {
     "end_time": "2020-09-22T07:59:51.381965Z",
     "start_time": "2020-09-22T07:59:51.289368Z"
    }
   },
   "outputs": [
    {
     "name": "stdout",
     "output_type": "stream",
     "text": [
      "<class 'pandas.core.frame.DataFrame'>\n",
      "Int64Index: 3174 entries, 0 to 3173\n",
      "Data columns (total 14 columns):\n",
      " #   Column                 Non-Null Count  Dtype  \n",
      "---  ------                 --------------  -----  \n",
      " 0   user_id                3174 non-null   int64  \n",
      " 1   month                  3174 non-null   int64  \n",
      " 2   minutes_per_month      3174 non-null   float64\n",
      " 3   message_per_month      3174 non-null   float64\n",
      " 4   mb_per_month           3174 non-null   float64\n",
      " 5   tariff                 3174 non-null   object \n",
      " 6   city                   3174 non-null   object \n",
      " 7   messages_included      3174 non-null   int64  \n",
      " 8   mb_per_month_included  3174 non-null   int64  \n",
      " 9   minutes_included       3174 non-null   int64  \n",
      " 10  rub_monthly_fee        3174 non-null   int64  \n",
      " 11  rub_per_gb             3174 non-null   int64  \n",
      " 12  rub_per_message        3174 non-null   int64  \n",
      " 13  rub_per_minute         3174 non-null   int64  \n",
      "dtypes: float64(3), int64(9), object(2)\n",
      "memory usage: 372.0+ KB\n"
     ]
    }
   ],
   "source": [
    "general_data[['message_per_month', 'mb_per_month']] = general_data[['message_per_month', 'mb_per_month']].fillna(0)\n",
    "general_data.info()"
   ]
  },
  {
   "cell_type": "code",
   "execution_count": 42,
   "metadata": {
    "ExecuteTime": {
     "end_time": "2020-09-22T07:59:51.467654Z",
     "start_time": "2020-09-22T07:59:51.388403Z"
    }
   },
   "outputs": [],
   "source": [
    "# # функция для подстчета прибыли из каждой строки\n",
    "# def calculate_income(row):\n",
    "#     minutes = 0\n",
    "#     messages = 0\n",
    "#     gb = 0\n",
    "    \n",
    "#     # TODO - to reduce it!\n",
    "#     diff = math.ceil(row['minutes_per_month'] - row['minutes_included'])\n",
    "#     minutes = diff * row['rub_per_minute'] if diff > 0 else 0\n",
    "    \n",
    "#     diff = math.ceil(row['message_per_month'] - row['messages_included'])\n",
    "#     messages = diff * row['rub_per_message'] if diff > 0 else 0\n",
    "    \n",
    "#     diff = math.ceil(math.ceil(row['mb_per_month'] - row['mb_per_month_included']))/1000\n",
    "#     gb = diff * row['rub_per_gb'] if diff > 0 else 0\n",
    "    \n",
    "#     result = round(float(minutes + messages + gb + row['rub_monthly_fee']), 1)\n",
    "#     return result"
   ]
  },
  {
   "cell_type": "code",
   "execution_count": 43,
   "metadata": {
    "ExecuteTime": {
     "end_time": "2020-09-22T07:59:52.215987Z",
     "start_time": "2020-09-22T07:59:51.470675Z"
    }
   },
   "outputs": [
    {
     "data": {
      "text/html": [
       "<div>\n",
       "<style scoped>\n",
       "    .dataframe tbody tr th:only-of-type {\n",
       "        vertical-align: middle;\n",
       "    }\n",
       "\n",
       "    .dataframe tbody tr th {\n",
       "        vertical-align: top;\n",
       "    }\n",
       "\n",
       "    .dataframe thead th {\n",
       "        text-align: right;\n",
       "    }\n",
       "</style>\n",
       "<table border=\"1\" class=\"dataframe\">\n",
       "  <thead>\n",
       "    <tr style=\"text-align: right;\">\n",
       "      <th></th>\n",
       "      <th>user_id</th>\n",
       "      <th>month</th>\n",
       "      <th>minutes_per_month</th>\n",
       "      <th>message_per_month</th>\n",
       "      <th>mb_per_month</th>\n",
       "      <th>tariff</th>\n",
       "      <th>city</th>\n",
       "      <th>messages_included</th>\n",
       "      <th>mb_per_month_included</th>\n",
       "      <th>minutes_included</th>\n",
       "      <th>rub_monthly_fee</th>\n",
       "      <th>rub_per_gb</th>\n",
       "      <th>rub_per_message</th>\n",
       "      <th>rub_per_minute</th>\n",
       "      <th>income</th>\n",
       "    </tr>\n",
       "  </thead>\n",
       "  <tbody>\n",
       "    <tr>\n",
       "      <th>2988</th>\n",
       "      <td>1460</td>\n",
       "      <td>7</td>\n",
       "      <td>695.0</td>\n",
       "      <td>42.0</td>\n",
       "      <td>11493.0</td>\n",
       "      <td>smart</td>\n",
       "      <td>ижевск</td>\n",
       "      <td>50</td>\n",
       "      <td>15360</td>\n",
       "      <td>500</td>\n",
       "      <td>550</td>\n",
       "      <td>200</td>\n",
       "      <td>3</td>\n",
       "      <td>3</td>\n",
       "      <td>1135</td>\n",
       "    </tr>\n",
       "    <tr>\n",
       "      <th>778</th>\n",
       "      <td>1402</td>\n",
       "      <td>7</td>\n",
       "      <td>639.0</td>\n",
       "      <td>27.0</td>\n",
       "      <td>25791.0</td>\n",
       "      <td>ultra</td>\n",
       "      <td>пенза</td>\n",
       "      <td>1000</td>\n",
       "      <td>30720</td>\n",
       "      <td>3000</td>\n",
       "      <td>1950</td>\n",
       "      <td>150</td>\n",
       "      <td>1</td>\n",
       "      <td>1</td>\n",
       "      <td>1950</td>\n",
       "    </tr>\n",
       "    <tr>\n",
       "      <th>1660</th>\n",
       "      <td>1155</td>\n",
       "      <td>11</td>\n",
       "      <td>623.0</td>\n",
       "      <td>47.0</td>\n",
       "      <td>16062.0</td>\n",
       "      <td>smart</td>\n",
       "      <td>ставрополь</td>\n",
       "      <td>50</td>\n",
       "      <td>15360</td>\n",
       "      <td>500</td>\n",
       "      <td>550</td>\n",
       "      <td>200</td>\n",
       "      <td>3</td>\n",
       "      <td>3</td>\n",
       "      <td>1119</td>\n",
       "    </tr>\n",
       "    <tr>\n",
       "      <th>164</th>\n",
       "      <td>1096</td>\n",
       "      <td>9</td>\n",
       "      <td>417.0</td>\n",
       "      <td>79.0</td>\n",
       "      <td>12285.0</td>\n",
       "      <td>ultra</td>\n",
       "      <td>брянск</td>\n",
       "      <td>1000</td>\n",
       "      <td>30720</td>\n",
       "      <td>3000</td>\n",
       "      <td>1950</td>\n",
       "      <td>150</td>\n",
       "      <td>1</td>\n",
       "      <td>1</td>\n",
       "      <td>1950</td>\n",
       "    </tr>\n",
       "    <tr>\n",
       "      <th>2264</th>\n",
       "      <td>1286</td>\n",
       "      <td>11</td>\n",
       "      <td>56.0</td>\n",
       "      <td>12.0</td>\n",
       "      <td>4853.0</td>\n",
       "      <td>smart</td>\n",
       "      <td>москва</td>\n",
       "      <td>50</td>\n",
       "      <td>15360</td>\n",
       "      <td>500</td>\n",
       "      <td>550</td>\n",
       "      <td>200</td>\n",
       "      <td>3</td>\n",
       "      <td>3</td>\n",
       "      <td>550</td>\n",
       "    </tr>\n",
       "  </tbody>\n",
       "</table>\n",
       "</div>"
      ],
      "text/plain": [
       "      user_id  month  minutes_per_month  message_per_month  mb_per_month  \\\n",
       "2988     1460      7              695.0               42.0       11493.0   \n",
       "778      1402      7              639.0               27.0       25791.0   \n",
       "1660     1155     11              623.0               47.0       16062.0   \n",
       "164      1096      9              417.0               79.0       12285.0   \n",
       "2264     1286     11               56.0               12.0        4853.0   \n",
       "\n",
       "     tariff        city  messages_included  mb_per_month_included  \\\n",
       "2988  smart      ижевск                 50                  15360   \n",
       "778   ultra       пенза               1000                  30720   \n",
       "1660  smart  ставрополь                 50                  15360   \n",
       "164   ultra      брянск               1000                  30720   \n",
       "2264  smart      москва                 50                  15360   \n",
       "\n",
       "      minutes_included  rub_monthly_fee  rub_per_gb  rub_per_message  \\\n",
       "2988               500              550         200                3   \n",
       "778               3000             1950         150                1   \n",
       "1660               500              550         200                3   \n",
       "164               3000             1950         150                1   \n",
       "2264               500              550         200                3   \n",
       "\n",
       "      rub_per_minute  income  \n",
       "2988               3    1135  \n",
       "778                1    1950  \n",
       "1660               3    1119  \n",
       "164                1    1950  \n",
       "2264               3     550  "
      ]
     },
     "execution_count": 43,
     "metadata": {},
     "output_type": "execute_result"
    }
   ],
   "source": [
    "general_data['income'] = general_data.apply(calculate_income, axis=1)\n",
    "general_data.sample(5)"
   ]
  },
  {
   "cell_type": "markdown",
   "metadata": {},
   "source": [
    "Из  таблицы _general_data_ выделим 2 отдельные таблицы с разными тарифами."
   ]
  },
  {
   "cell_type": "code",
   "execution_count": 44,
   "metadata": {
    "ExecuteTime": {
     "end_time": "2020-09-22T07:59:52.245613Z",
     "start_time": "2020-09-22T07:59:52.219569Z"
    }
   },
   "outputs": [
    {
     "data": {
      "text/html": [
       "<div>\n",
       "<style scoped>\n",
       "    .dataframe tbody tr th:only-of-type {\n",
       "        vertical-align: middle;\n",
       "    }\n",
       "\n",
       "    .dataframe tbody tr th {\n",
       "        vertical-align: top;\n",
       "    }\n",
       "\n",
       "    .dataframe thead th {\n",
       "        text-align: right;\n",
       "    }\n",
       "</style>\n",
       "<table border=\"1\" class=\"dataframe\">\n",
       "  <thead>\n",
       "    <tr style=\"text-align: right;\">\n",
       "      <th></th>\n",
       "      <th>user_id</th>\n",
       "      <th>month</th>\n",
       "      <th>minutes_per_month</th>\n",
       "      <th>message_per_month</th>\n",
       "      <th>mb_per_month</th>\n",
       "      <th>tariff</th>\n",
       "      <th>city</th>\n",
       "      <th>messages_included</th>\n",
       "      <th>mb_per_month_included</th>\n",
       "      <th>minutes_included</th>\n",
       "      <th>rub_monthly_fee</th>\n",
       "      <th>rub_per_gb</th>\n",
       "      <th>rub_per_message</th>\n",
       "      <th>rub_per_minute</th>\n",
       "      <th>income</th>\n",
       "    </tr>\n",
       "  </thead>\n",
       "  <tbody>\n",
       "    <tr>\n",
       "      <th>0</th>\n",
       "      <td>1000</td>\n",
       "      <td>7</td>\n",
       "      <td>387.0</td>\n",
       "      <td>75.0</td>\n",
       "      <td>14045.0</td>\n",
       "      <td>ultra</td>\n",
       "      <td>краснодар</td>\n",
       "      <td>1000</td>\n",
       "      <td>30720</td>\n",
       "      <td>3000</td>\n",
       "      <td>1950</td>\n",
       "      <td>150</td>\n",
       "      <td>1</td>\n",
       "      <td>1</td>\n",
       "      <td>1950</td>\n",
       "    </tr>\n",
       "    <tr>\n",
       "      <th>1</th>\n",
       "      <td>1000</td>\n",
       "      <td>8</td>\n",
       "      <td>460.0</td>\n",
       "      <td>81.0</td>\n",
       "      <td>14099.0</td>\n",
       "      <td>ultra</td>\n",
       "      <td>краснодар</td>\n",
       "      <td>1000</td>\n",
       "      <td>30720</td>\n",
       "      <td>3000</td>\n",
       "      <td>1950</td>\n",
       "      <td>150</td>\n",
       "      <td>1</td>\n",
       "      <td>1</td>\n",
       "      <td>1950</td>\n",
       "    </tr>\n",
       "    <tr>\n",
       "      <th>2</th>\n",
       "      <td>1000</td>\n",
       "      <td>6</td>\n",
       "      <td>215.0</td>\n",
       "      <td>60.0</td>\n",
       "      <td>23306.0</td>\n",
       "      <td>ultra</td>\n",
       "      <td>краснодар</td>\n",
       "      <td>1000</td>\n",
       "      <td>30720</td>\n",
       "      <td>3000</td>\n",
       "      <td>1950</td>\n",
       "      <td>150</td>\n",
       "      <td>1</td>\n",
       "      <td>1</td>\n",
       "      <td>1950</td>\n",
       "    </tr>\n",
       "    <tr>\n",
       "      <th>3</th>\n",
       "      <td>1000</td>\n",
       "      <td>9</td>\n",
       "      <td>524.0</td>\n",
       "      <td>57.0</td>\n",
       "      <td>14608.0</td>\n",
       "      <td>ultra</td>\n",
       "      <td>краснодар</td>\n",
       "      <td>1000</td>\n",
       "      <td>30720</td>\n",
       "      <td>3000</td>\n",
       "      <td>1950</td>\n",
       "      <td>150</td>\n",
       "      <td>1</td>\n",
       "      <td>1</td>\n",
       "      <td>1950</td>\n",
       "    </tr>\n",
       "    <tr>\n",
       "      <th>4</th>\n",
       "      <td>1000</td>\n",
       "      <td>12</td>\n",
       "      <td>379.0</td>\n",
       "      <td>70.0</td>\n",
       "      <td>9848.0</td>\n",
       "      <td>ultra</td>\n",
       "      <td>краснодар</td>\n",
       "      <td>1000</td>\n",
       "      <td>30720</td>\n",
       "      <td>3000</td>\n",
       "      <td>1950</td>\n",
       "      <td>150</td>\n",
       "      <td>1</td>\n",
       "      <td>1</td>\n",
       "      <td>1950</td>\n",
       "    </tr>\n",
       "  </tbody>\n",
       "</table>\n",
       "</div>"
      ],
      "text/plain": [
       "   user_id  month  minutes_per_month  message_per_month  mb_per_month tariff  \\\n",
       "0     1000      7              387.0               75.0       14045.0  ultra   \n",
       "1     1000      8              460.0               81.0       14099.0  ultra   \n",
       "2     1000      6              215.0               60.0       23306.0  ultra   \n",
       "3     1000      9              524.0               57.0       14608.0  ultra   \n",
       "4     1000     12              379.0               70.0        9848.0  ultra   \n",
       "\n",
       "        city  messages_included  mb_per_month_included  minutes_included  \\\n",
       "0  краснодар               1000                  30720              3000   \n",
       "1  краснодар               1000                  30720              3000   \n",
       "2  краснодар               1000                  30720              3000   \n",
       "3  краснодар               1000                  30720              3000   \n",
       "4  краснодар               1000                  30720              3000   \n",
       "\n",
       "   rub_monthly_fee  rub_per_gb  rub_per_message  rub_per_minute  income  \n",
       "0             1950         150                1               1    1950  \n",
       "1             1950         150                1               1    1950  \n",
       "2             1950         150                1               1    1950  \n",
       "3             1950         150                1               1    1950  \n",
       "4             1950         150                1               1    1950  "
      ]
     },
     "execution_count": 44,
     "metadata": {},
     "output_type": "execute_result"
    }
   ],
   "source": [
    "# отдельно сохраним данные по тарифу ultra\n",
    "ultra_data = general_data[general_data.tariff == 'ultra']\n",
    "ultra_data.head()"
   ]
  },
  {
   "cell_type": "code",
   "execution_count": 45,
   "metadata": {
    "ExecuteTime": {
     "end_time": "2020-09-22T07:59:52.450988Z",
     "start_time": "2020-09-22T07:59:52.248935Z"
    },
    "scrolled": true
   },
   "outputs": [
    {
     "data": {
      "text/html": [
       "<div>\n",
       "<style scoped>\n",
       "    .dataframe tbody tr th:only-of-type {\n",
       "        vertical-align: middle;\n",
       "    }\n",
       "\n",
       "    .dataframe tbody tr th {\n",
       "        vertical-align: top;\n",
       "    }\n",
       "\n",
       "    .dataframe thead th {\n",
       "        text-align: right;\n",
       "    }\n",
       "</style>\n",
       "<table border=\"1\" class=\"dataframe\">\n",
       "  <thead>\n",
       "    <tr style=\"text-align: right;\">\n",
       "      <th></th>\n",
       "      <th>user_id</th>\n",
       "      <th>month</th>\n",
       "      <th>minutes_per_month</th>\n",
       "      <th>message_per_month</th>\n",
       "      <th>mb_per_month</th>\n",
       "      <th>tariff</th>\n",
       "      <th>city</th>\n",
       "      <th>messages_included</th>\n",
       "      <th>mb_per_month_included</th>\n",
       "      <th>minutes_included</th>\n",
       "      <th>rub_monthly_fee</th>\n",
       "      <th>rub_per_gb</th>\n",
       "      <th>rub_per_message</th>\n",
       "      <th>rub_per_minute</th>\n",
       "      <th>income</th>\n",
       "    </tr>\n",
       "  </thead>\n",
       "  <tbody>\n",
       "    <tr>\n",
       "      <th>951</th>\n",
       "      <td>1001</td>\n",
       "      <td>11</td>\n",
       "      <td>489.0</td>\n",
       "      <td>0.0</td>\n",
       "      <td>18507.0</td>\n",
       "      <td>smart</td>\n",
       "      <td>москва</td>\n",
       "      <td>50</td>\n",
       "      <td>15360</td>\n",
       "      <td>500</td>\n",
       "      <td>550</td>\n",
       "      <td>200</td>\n",
       "      <td>3</td>\n",
       "      <td>3</td>\n",
       "      <td>1350</td>\n",
       "    </tr>\n",
       "    <tr>\n",
       "      <th>952</th>\n",
       "      <td>1001</td>\n",
       "      <td>12</td>\n",
       "      <td>477.0</td>\n",
       "      <td>0.0</td>\n",
       "      <td>14094.0</td>\n",
       "      <td>smart</td>\n",
       "      <td>москва</td>\n",
       "      <td>50</td>\n",
       "      <td>15360</td>\n",
       "      <td>500</td>\n",
       "      <td>550</td>\n",
       "      <td>200</td>\n",
       "      <td>3</td>\n",
       "      <td>3</td>\n",
       "      <td>550</td>\n",
       "    </tr>\n",
       "    <tr>\n",
       "      <th>953</th>\n",
       "      <td>1002</td>\n",
       "      <td>9</td>\n",
       "      <td>242.0</td>\n",
       "      <td>4.0</td>\n",
       "      <td>16768.0</td>\n",
       "      <td>smart</td>\n",
       "      <td>стерлитамак</td>\n",
       "      <td>50</td>\n",
       "      <td>15360</td>\n",
       "      <td>500</td>\n",
       "      <td>550</td>\n",
       "      <td>200</td>\n",
       "      <td>3</td>\n",
       "      <td>3</td>\n",
       "      <td>950</td>\n",
       "    </tr>\n",
       "    <tr>\n",
       "      <th>954</th>\n",
       "      <td>1002</td>\n",
       "      <td>8</td>\n",
       "      <td>331.0</td>\n",
       "      <td>13.0</td>\n",
       "      <td>20407.0</td>\n",
       "      <td>smart</td>\n",
       "      <td>стерлитамак</td>\n",
       "      <td>50</td>\n",
       "      <td>15360</td>\n",
       "      <td>500</td>\n",
       "      <td>550</td>\n",
       "      <td>200</td>\n",
       "      <td>3</td>\n",
       "      <td>3</td>\n",
       "      <td>1550</td>\n",
       "    </tr>\n",
       "    <tr>\n",
       "      <th>955</th>\n",
       "      <td>1002</td>\n",
       "      <td>12</td>\n",
       "      <td>269.0</td>\n",
       "      <td>12.0</td>\n",
       "      <td>18199.0</td>\n",
       "      <td>smart</td>\n",
       "      <td>стерлитамак</td>\n",
       "      <td>50</td>\n",
       "      <td>15360</td>\n",
       "      <td>500</td>\n",
       "      <td>550</td>\n",
       "      <td>200</td>\n",
       "      <td>3</td>\n",
       "      <td>3</td>\n",
       "      <td>1150</td>\n",
       "    </tr>\n",
       "  </tbody>\n",
       "</table>\n",
       "</div>"
      ],
      "text/plain": [
       "     user_id  month  minutes_per_month  message_per_month  mb_per_month  \\\n",
       "951     1001     11              489.0                0.0       18507.0   \n",
       "952     1001     12              477.0                0.0       14094.0   \n",
       "953     1002      9              242.0                4.0       16768.0   \n",
       "954     1002      8              331.0               13.0       20407.0   \n",
       "955     1002     12              269.0               12.0       18199.0   \n",
       "\n",
       "    tariff         city  messages_included  mb_per_month_included  \\\n",
       "951  smart       москва                 50                  15360   \n",
       "952  smart       москва                 50                  15360   \n",
       "953  smart  стерлитамак                 50                  15360   \n",
       "954  smart  стерлитамак                 50                  15360   \n",
       "955  smart  стерлитамак                 50                  15360   \n",
       "\n",
       "     minutes_included  rub_monthly_fee  rub_per_gb  rub_per_message  \\\n",
       "951               500              550         200                3   \n",
       "952               500              550         200                3   \n",
       "953               500              550         200                3   \n",
       "954               500              550         200                3   \n",
       "955               500              550         200                3   \n",
       "\n",
       "     rub_per_minute  income  \n",
       "951               3    1350  \n",
       "952               3     550  \n",
       "953               3     950  \n",
       "954               3    1550  \n",
       "955               3    1150  "
      ]
     },
     "execution_count": 45,
     "metadata": {},
     "output_type": "execute_result"
    }
   ],
   "source": [
    "# отдельно сохраним данные по тарифу smart\n",
    "smart_data = general_data[general_data.tariff == 'smart']\n",
    "smart_data.head()"
   ]
  },
  {
   "cell_type": "markdown",
   "metadata": {},
   "source": [
    "### 5.5. Выбросы"
   ]
  },
  {
   "cell_type": "code",
   "execution_count": 46,
   "metadata": {
    "ExecuteTime": {
     "end_time": "2020-09-22T07:59:53.336161Z",
     "start_time": "2020-09-22T07:59:52.454780Z"
    }
   },
   "outputs": [
    {
     "data": {
      "image/png": "[encoded data removed]",
      "text/plain": [
       "<Figure size 1080x720 with 3 Axes>"
      ]
     },
     "metadata": {
      "needs_background": "light"
     },
     "output_type": "display_data"
    }
   ],
   "source": [
    "# посмотрим на гистограмму размаха расхода минут, сообщений и трафика в месяц для тарифа ultra\n",
    "get_boxplot(ultra_data, 'ultra')"
   ]
  },
  {
   "cell_type": "markdown",
   "metadata": {},
   "source": [
    "В данных количества израсходованных минут, сообщений и трафика присутствуют выбросы. Посмотрим на их количество."
   ]
  },
  {
   "cell_type": "code",
   "execution_count": 47,
   "metadata": {
    "ExecuteTime": {
     "end_time": "2020-09-22T07:59:53.345170Z",
     "start_time": "2020-09-22T07:59:53.341459Z"
    }
   },
   "outputs": [],
   "source": [
    "before_ultra = ultra_data.shape"
   ]
  },
  {
   "cell_type": "code",
   "execution_count": 48,
   "metadata": {
    "ExecuteTime": {
     "end_time": "2020-09-22T07:59:53.428903Z",
     "start_time": "2020-09-22T07:59:53.347725Z"
    }
   },
   "outputs": [
    {
     "data": {
      "text/plain": [
       "1618.25"
      ]
     },
     "execution_count": 48,
     "metadata": {},
     "output_type": "execute_result"
    }
   ],
   "source": [
    "get_true_range(ultra_data.minutes_per_month)[1]"
   ]
  },
  {
   "cell_type": "markdown",
   "metadata": {},
   "source": [
    "Удалим выбросы из данных."
   ]
  },
  {
   "cell_type": "code",
   "execution_count": 49,
   "metadata": {
    "ExecuteTime": {
     "end_time": "2020-09-22T07:59:53.538830Z",
     "start_time": "2020-09-22T07:59:53.431558Z"
    }
   },
   "outputs": [
    {
     "name": "stderr",
     "output_type": "stream",
     "text": [
      "/opt/anaconda3/lib/python3.7/site-packages/pandas/core/frame.py:3997: SettingWithCopyWarning: \n",
      "A value is trying to be set on a copy of a slice from a DataFrame\n",
      "\n",
      "See the caveats in the documentation: https://pandas.pydata.org/pandas-docs/stable/user_guide/indexing.html#returning-a-view-versus-a-copy\n",
      "  errors=errors,\n"
     ]
    }
   ],
   "source": [
    "# удаление выбросов\n",
    "ultra_data = drop_values(ultra_data)"
   ]
  },
  {
   "cell_type": "code",
   "execution_count": 50,
   "metadata": {
    "ExecuteTime": {
     "end_time": "2020-09-22T07:59:53.612470Z",
     "start_time": "2020-09-22T07:59:53.541569Z"
    }
   },
   "outputs": [],
   "source": [
    "# # верхнюю границу доверительного интервала для разных показателей\n",
    "# minutes_range = get_true_range(ultra_data.minutes_per_month)[1]\n",
    "# messages_range = get_true_range(ultra_data.message_per_month)[1]\n",
    "# mb_range = get_true_range(ultra_data.mb_per_month)[1]\n",
    "\n",
    "# ultra_data.drop(ultra_data[(ultra_data.minutes_per_month > minutes_range)\n",
    "#                            | (ultra_data.message_per_month > messages_range)\n",
    "#                            | (ultra_data.mb_per_month > mb_range)].index,\n",
    "#                 axis=0,\n",
    "#                 inplace=True\n",
    "#                )"
   ]
  },
  {
   "cell_type": "code",
   "execution_count": 51,
   "metadata": {
    "ExecuteTime": {
     "end_time": "2020-09-22T07:59:53.732227Z",
     "start_time": "2020-09-22T07:59:53.617465Z"
    }
   },
   "outputs": [
    {
     "name": "stdout",
     "output_type": "stream",
     "text": [
      "(951, 15)\n",
      "(944, 15)\n"
     ]
    }
   ],
   "source": [
    "# посмотрим, сколько данных выбросили\n",
    "print(before_ultra)\n",
    "print(ultra_data.shape)"
   ]
  },
  {
   "cell_type": "markdown",
   "metadata": {
    "ExecuteTime": {
     "end_time": "2020-06-25T18:24:44.779120Z",
     "start_time": "2020-06-25T18:24:44.773107Z"
    }
   },
   "source": [
    "Потряли 22 записи. От общего количества - 2.3%.\n",
    "\n",
    "**UPD:** Удалили 7 записей"
   ]
  },
  {
   "cell_type": "code",
   "execution_count": 52,
   "metadata": {
    "ExecuteTime": {
     "end_time": "2020-09-22T07:59:54.466864Z",
     "start_time": "2020-09-22T07:59:53.735630Z"
    }
   },
   "outputs": [
    {
     "data": {
      "image/png": "[encoded data removed]",
      "text/plain": [
       "<Figure size 1080x720 with 3 Axes>"
      ]
     },
     "metadata": {
      "needs_background": "light"
     },
     "output_type": "display_data"
    }
   ],
   "source": [
    "# посмотрим на гистограмму размаха расхода минут, сообщений и трафика в месяц для тарифа ultra\n",
    "# после удаления выбросов\n",
    "get_boxplot(ultra_data, 'ultra')"
   ]
  },
  {
   "cell_type": "code",
   "execution_count": 53,
   "metadata": {
    "ExecuteTime": {
     "end_time": "2020-09-22T07:59:55.179337Z",
     "start_time": "2020-09-22T07:59:54.469628Z"
    }
   },
   "outputs": [
    {
     "data": {
      "image/png": "[encoded data removed]",
      "text/plain": [
       "<Figure size 1080x720 with 3 Axes>"
      ]
     },
     "metadata": {
      "needs_background": "light"
     },
     "output_type": "display_data"
    }
   ],
   "source": [
    "# посмотрим на гистограмму размаха расхода минут, сообщений и трафика в месяц для тарифа smart\n",
    "get_boxplot(smart_data, 'smart')"
   ]
  },
  {
   "cell_type": "markdown",
   "metadata": {},
   "source": [
    "Для тарифа _smart_ намного больше выбросов."
   ]
  },
  {
   "cell_type": "code",
   "execution_count": 54,
   "metadata": {
    "ExecuteTime": {
     "end_time": "2020-09-22T07:59:55.187875Z",
     "start_time": "2020-09-22T07:59:55.182413Z"
    }
   },
   "outputs": [],
   "source": [
    "# размер данных до обработки выбросов\n",
    "before_smart = smart_data.shape"
   ]
  },
  {
   "cell_type": "code",
   "execution_count": 55,
   "metadata": {
    "ExecuteTime": {
     "end_time": "2020-09-22T07:59:55.309337Z",
     "start_time": "2020-09-22T07:59:55.191389Z"
    }
   },
   "outputs": [
    {
     "name": "stderr",
     "output_type": "stream",
     "text": [
      "/opt/anaconda3/lib/python3.7/site-packages/pandas/core/frame.py:3997: SettingWithCopyWarning: \n",
      "A value is trying to be set on a copy of a slice from a DataFrame\n",
      "\n",
      "See the caveats in the documentation: https://pandas.pydata.org/pandas-docs/stable/user_guide/indexing.html#returning-a-view-versus-a-copy\n",
      "  errors=errors,\n"
     ]
    }
   ],
   "source": [
    "# удаление выбросов\n",
    "smart_data = drop_values(smart_data)"
   ]
  },
  {
   "cell_type": "code",
   "execution_count": 56,
   "metadata": {
    "ExecuteTime": {
     "end_time": "2020-09-22T07:59:55.395801Z",
     "start_time": "2020-09-22T07:59:55.312750Z"
    }
   },
   "outputs": [],
   "source": [
    "# # получаем доверительный интервал для минут\n",
    "# min_range = get_true_range(smart_data.minutes_per_month)\n",
    "\n",
    "# # размер данных внутри доверительного интервала\n",
    "# smart_data[(smart_data.minutes_per_month >= min_range[0]) & (smart_data.minutes_per_month <= min_range[1])].shape"
   ]
  },
  {
   "cell_type": "code",
   "execution_count": 57,
   "metadata": {
    "ExecuteTime": {
     "end_time": "2020-09-22T07:59:55.496862Z",
     "start_time": "2020-09-22T07:59:55.400440Z"
    }
   },
   "outputs": [],
   "source": [
    "# # получаем доверительный интервал для сообщений\n",
    "# mes_range = get_true_range(smart_data.message_per_month)\n",
    "\n",
    "# # размер данных внутри доверительного интервала\n",
    "# smart_data[(smart_data.message_per_month >= mes_range[0]) & (smart_data.message_per_month <= mes_range[1])].shape"
   ]
  },
  {
   "cell_type": "code",
   "execution_count": 58,
   "metadata": {
    "ExecuteTime": {
     "end_time": "2020-09-22T07:59:55.631913Z",
     "start_time": "2020-09-22T07:59:55.506578Z"
    }
   },
   "outputs": [],
   "source": [
    "# # получаем доверительный интервал для трафика\n",
    "# mb_range = get_true_range(smart_data.mb_per_month)\n",
    "\n",
    "# # размер данных внутри доверительного интервала\n",
    "# smart_data[(smart_data.mb_per_month >= mb_range[0]) & (smart_data.mb_per_month <= mb_range[1])].shape"
   ]
  },
  {
   "cell_type": "code",
   "execution_count": 59,
   "metadata": {
    "ExecuteTime": {
     "end_time": "2020-09-22T07:59:55.734217Z",
     "start_time": "2020-09-22T07:59:55.635033Z"
    }
   },
   "outputs": [],
   "source": [
    "# # for r, c in [(min_range, 'minutes_per_month'), (mes_range,'message_per_month'), (mb_range,'mb_per_month')];\n",
    "# # удалим выбросы\n",
    "\n",
    "# smart_data.drop(smart_data[(smart_data.minutes_per_month < min_range[0])\n",
    "#                            | (smart_data.minutes_per_month > min_range[1])\n",
    "#                            | (smart_data.message_per_month < mes_range[0])\n",
    "#                            | (smart_data.message_per_month > mes_range[1])\n",
    "#                            | (smart_data.mb_per_month < mb_range[0])\n",
    "#                            | (smart_data.mb_per_month > mb_range[1])].index,\n",
    "#                 axis=0,\n",
    "#                 inplace=True\n",
    "#                )"
   ]
  },
  {
   "cell_type": "code",
   "execution_count": 60,
   "metadata": {
    "ExecuteTime": {
     "end_time": "2020-09-22T07:59:55.835394Z",
     "start_time": "2020-09-22T07:59:55.736551Z"
    }
   },
   "outputs": [
    {
     "name": "stdout",
     "output_type": "stream",
     "text": [
      "(2223, 15)\n",
      "(2164, 15)\n"
     ]
    }
   ],
   "source": [
    "print(before_smart)\n",
    "print(smart_data.shape)"
   ]
  },
  {
   "cell_type": "markdown",
   "metadata": {
    "ExecuteTime": {
     "end_time": "2020-06-25T17:32:49.034663Z",
     "start_time": "2020-06-25T17:32:49.020097Z"
    }
   },
   "source": [
    "Удалены 59 записей - 2.7%."
   ]
  },
  {
   "cell_type": "code",
   "execution_count": 61,
   "metadata": {
    "ExecuteTime": {
     "end_time": "2020-09-22T07:59:56.575896Z",
     "start_time": "2020-09-22T07:59:55.838573Z"
    }
   },
   "outputs": [
    {
     "data": {
      "image/png": "[encoded data removed]",
      "text/plain": [
       "<Figure size 1080x720 with 3 Axes>"
      ]
     },
     "metadata": {
      "needs_background": "light"
     },
     "output_type": "display_data"
    }
   ],
   "source": [
    "# посмотрим на гистограмму размаха расхода минут, сообщений и трафика в месяц для тарифа smart\n",
    "# после удаления выбросов\n",
    "get_boxplot(smart_data, 'smart')"
   ]
  },
  {
   "cell_type": "markdown",
   "metadata": {
    "ExecuteTime": {
     "end_time": "2020-06-24T21:13:23.781301Z",
     "start_time": "2020-06-24T21:13:23.762073Z"
    }
   },
   "source": [
    "### Вывод"
   ]
  },
  {
   "cell_type": "markdown",
   "metadata": {},
   "source": [
    "* Изменены типы данных\n",
    "* Удалены лишние столбцы\n",
    "* Проведен поиск пропусков - обнаруженные пропуски нет смсла заменять\n",
    "* Проведен поиск дубликатов - отсутствуют\n",
    "* Строковые данные приведены к согласованному виду\n",
    "* Выполнено добавление данных по месяцам для каждого пользователя:\n",
    "    * расход минут\n",
    "    * расход сообщений\n",
    "    * расход трафика\n",
    "    * общий доход\n",
    "* Данные разделены на 2 отдельные талицы для каждого тарифа\n",
    "* Для каждого тарифа удалены выбросы для количества израсходованных минут, сообщений и трафика."
   ]
  },
  {
   "cell_type": "markdown",
   "metadata": {},
   "source": [
    "## 5. Анализ"
   ]
  },
  {
   "cell_type": "code",
   "execution_count": 62,
   "metadata": {
    "ExecuteTime": {
     "end_time": "2020-09-22T07:59:56.582893Z",
     "start_time": "2020-09-22T07:59:56.578907Z"
    }
   },
   "outputs": [],
   "source": [
    "# # посторим графики для каждого тарифа по месяцам для демонстрации расхода минут, сообщений и трафика\n",
    "# fig, axs = plt.subplots(1, 3, figsize=(15,6))\n",
    "\n",
    "# for ax, point in zip(axs, ['minutes_per_month', 'message_per_month', 'mb_per_month']):\n",
    "#     udata = ultra_data.groupby('month')[[point]].sum()\n",
    "#     sdata = smart_data.groupby('month')[[point]].sum()\n",
    "    \n",
    "#     for df, lb in zip([udata, sdata], ['ultra', 'smart']):\n",
    "#         ax.plot(df, label=lb)\n",
    "#         ax.set_ylabel(point)\n",
    "#         ax.set_xlabel('month')\n",
    "#         ax.legend(loc=\"upper left\")\n",
    "        \n",
    "# fig.tight_layout()"
   ]
  },
  {
   "cell_type": "markdown",
   "metadata": {},
   "source": [
    "Для оценки расхода минут, сообщений и траффика посмотрим на график _среднего_ по месяцам"
   ]
  },
  {
   "cell_type": "code",
   "execution_count": 63,
   "metadata": {
    "ExecuteTime": {
     "end_time": "2020-09-22T07:59:57.455827Z",
     "start_time": "2020-09-22T07:59:56.585528Z"
    }
   },
   "outputs": [
    {
     "data": {
      "image/png": "[encoded data removed]",
      "text/plain": [
       "<Figure size 1080x432 with 3 Axes>"
      ]
     },
     "metadata": {
      "needs_background": "light"
     },
     "output_type": "display_data"
    }
   ],
   "source": [
    "# -------- UPDATE ---------\n",
    "\n",
    "# посторим графики для каждого тарифа по месяцам для демонстрации расхода минут, сообщений и трафика\n",
    "fig, axs = plt.subplots(1, 3, figsize=(15,6))\n",
    "\n",
    "for ax, point in zip(axs, ['minutes_per_month', 'message_per_month', 'mb_per_month']):\n",
    "    udata = ultra_data.groupby('month')[[point]].mean()\n",
    "    sdata = smart_data.groupby('month')[[point]].mean()\n",
    "    \n",
    "    for df, lb in zip([udata, sdata], ['ultra', 'smart']):\n",
    "        ax.plot(df, label=lb)\n",
    "        ax.set_ylabel(point)\n",
    "        ax.set_xlabel('month')\n",
    "        ax.legend(loc=\"upper left\")\n",
    "        \n",
    "fig.tight_layout()"
   ]
  },
  {
   "cell_type": "markdown",
   "metadata": {},
   "source": [
    "Из графиков видно:\n",
    "* для каждого тарифа в течение года расход минут, сообщений и трафика возрастает\n",
    "* для тарифа _ultra_ расход услуг возрастает стремительнее, сем для _smart_\n",
    "\n",
    "Посмотрим, сколько минут разговора, сообщений и какой объём интернет-трафика требуется пользователям каждого тарифа в месяц."
   ]
  },
  {
   "cell_type": "code",
   "execution_count": 64,
   "metadata": {
    "ExecuteTime": {
     "end_time": "2020-09-22T07:59:57.491673Z",
     "start_time": "2020-09-22T07:59:57.458394Z"
    }
   },
   "outputs": [
    {
     "data": {
      "text/html": [
       "<div>\n",
       "<style scoped>\n",
       "    .dataframe tbody tr th:only-of-type {\n",
       "        vertical-align: middle;\n",
       "    }\n",
       "\n",
       "    .dataframe tbody tr th {\n",
       "        vertical-align: top;\n",
       "    }\n",
       "\n",
       "    .dataframe thead th {\n",
       "        text-align: right;\n",
       "    }\n",
       "</style>\n",
       "<table border=\"1\" class=\"dataframe\">\n",
       "  <thead>\n",
       "    <tr style=\"text-align: right;\">\n",
       "      <th></th>\n",
       "      <th>minutes_per_month</th>\n",
       "      <th>message_per_month</th>\n",
       "      <th>mb_per_month</th>\n",
       "    </tr>\n",
       "  </thead>\n",
       "  <tbody>\n",
       "    <tr>\n",
       "      <th>count</th>\n",
       "      <td>944.000000</td>\n",
       "      <td>944.000000</td>\n",
       "      <td>944.000000</td>\n",
       "    </tr>\n",
       "    <tr>\n",
       "      <th>mean</th>\n",
       "      <td>618.003178</td>\n",
       "      <td>48.322034</td>\n",
       "      <td>19453.939619</td>\n",
       "    </tr>\n",
       "    <tr>\n",
       "      <th>std</th>\n",
       "      <td>343.737136</td>\n",
       "      <td>45.813839</td>\n",
       "      <td>10070.955049</td>\n",
       "    </tr>\n",
       "    <tr>\n",
       "      <th>min</th>\n",
       "      <td>1.000000</td>\n",
       "      <td>0.000000</td>\n",
       "      <td>0.000000</td>\n",
       "    </tr>\n",
       "    <tr>\n",
       "      <th>25%</th>\n",
       "      <td>354.750000</td>\n",
       "      <td>5.000000</td>\n",
       "      <td>11674.750000</td>\n",
       "    </tr>\n",
       "    <tr>\n",
       "      <th>50%</th>\n",
       "      <td>603.000000</td>\n",
       "      <td>39.000000</td>\n",
       "      <td>19367.000000</td>\n",
       "    </tr>\n",
       "    <tr>\n",
       "      <th>75%</th>\n",
       "      <td>859.250000</td>\n",
       "      <td>78.000000</td>\n",
       "      <td>26861.500000</td>\n",
       "    </tr>\n",
       "    <tr>\n",
       "      <th>max</th>\n",
       "      <td>1586.000000</td>\n",
       "      <td>190.000000</td>\n",
       "      <td>48488.000000</td>\n",
       "    </tr>\n",
       "  </tbody>\n",
       "</table>\n",
       "</div>"
      ],
      "text/plain": [
       "       minutes_per_month  message_per_month  mb_per_month\n",
       "count         944.000000         944.000000    944.000000\n",
       "mean          618.003178          48.322034  19453.939619\n",
       "std           343.737136          45.813839  10070.955049\n",
       "min             1.000000           0.000000      0.000000\n",
       "25%           354.750000           5.000000  11674.750000\n",
       "50%           603.000000          39.000000  19367.000000\n",
       "75%           859.250000          78.000000  26861.500000\n",
       "max          1586.000000         190.000000  48488.000000"
      ]
     },
     "execution_count": 64,
     "metadata": {},
     "output_type": "execute_result"
    }
   ],
   "source": [
    "# описательная статистика тарифа ultra\n",
    "ultra_data[['minutes_per_month', 'message_per_month', 'mb_per_month']].describe()"
   ]
  },
  {
   "cell_type": "code",
   "execution_count": 65,
   "metadata": {
    "ExecuteTime": {
     "end_time": "2020-09-22T07:59:57.669836Z",
     "start_time": "2020-09-22T07:59:57.494869Z"
    }
   },
   "outputs": [
    {
     "data": {
      "text/html": [
       "<div>\n",
       "<style scoped>\n",
       "    .dataframe tbody tr th:only-of-type {\n",
       "        vertical-align: middle;\n",
       "    }\n",
       "\n",
       "    .dataframe tbody tr th {\n",
       "        vertical-align: top;\n",
       "    }\n",
       "\n",
       "    .dataframe thead th {\n",
       "        text-align: right;\n",
       "    }\n",
       "</style>\n",
       "<table border=\"1\" class=\"dataframe\">\n",
       "  <thead>\n",
       "    <tr style=\"text-align: right;\">\n",
       "      <th></th>\n",
       "      <th>minutes_per_month</th>\n",
       "      <th>message_per_month</th>\n",
       "      <th>mb_per_month</th>\n",
       "    </tr>\n",
       "  </thead>\n",
       "  <tbody>\n",
       "    <tr>\n",
       "      <th>count</th>\n",
       "      <td>2164.000000</td>\n",
       "      <td>2164.000000</td>\n",
       "      <td>2164.00000</td>\n",
       "    </tr>\n",
       "    <tr>\n",
       "      <th>mean</th>\n",
       "      <td>476.688540</td>\n",
       "      <td>33.064233</td>\n",
       "      <td>16300.75647</td>\n",
       "    </tr>\n",
       "    <tr>\n",
       "      <th>std</th>\n",
       "      <td>204.949464</td>\n",
       "      <td>27.252353</td>\n",
       "      <td>5534.04260</td>\n",
       "    </tr>\n",
       "    <tr>\n",
       "      <th>min</th>\n",
       "      <td>1.000000</td>\n",
       "      <td>0.000000</td>\n",
       "      <td>1605.00000</td>\n",
       "    </tr>\n",
       "    <tr>\n",
       "      <th>25%</th>\n",
       "      <td>327.000000</td>\n",
       "      <td>10.000000</td>\n",
       "      <td>12802.50000</td>\n",
       "    </tr>\n",
       "    <tr>\n",
       "      <th>50%</th>\n",
       "      <td>484.000000</td>\n",
       "      <td>28.000000</td>\n",
       "      <td>16552.50000</td>\n",
       "    </tr>\n",
       "    <tr>\n",
       "      <th>75%</th>\n",
       "      <td>620.000000</td>\n",
       "      <td>51.000000</td>\n",
       "      <td>20069.00000</td>\n",
       "    </tr>\n",
       "    <tr>\n",
       "      <th>max</th>\n",
       "      <td>1059.000000</td>\n",
       "      <td>112.000000</td>\n",
       "      <td>31209.00000</td>\n",
       "    </tr>\n",
       "  </tbody>\n",
       "</table>\n",
       "</div>"
      ],
      "text/plain": [
       "       minutes_per_month  message_per_month  mb_per_month\n",
       "count        2164.000000        2164.000000    2164.00000\n",
       "mean          476.688540          33.064233   16300.75647\n",
       "std           204.949464          27.252353    5534.04260\n",
       "min             1.000000           0.000000    1605.00000\n",
       "25%           327.000000          10.000000   12802.50000\n",
       "50%           484.000000          28.000000   16552.50000\n",
       "75%           620.000000          51.000000   20069.00000\n",
       "max          1059.000000         112.000000   31209.00000"
      ]
     },
     "execution_count": 65,
     "metadata": {},
     "output_type": "execute_result"
    }
   ],
   "source": [
    "# описательная статистика тарифа smart\n",
    "smart_data[['minutes_per_month', 'message_per_month', 'mb_per_month']].describe()"
   ]
  },
  {
   "cell_type": "markdown",
   "metadata": {},
   "source": [
    "**UPDATE**\n",
    "\n",
    "\n",
    "Из описания данных следует:\n",
    "* для _ultra_ абоненты используют:\n",
    "    * от 1 до 1586 минут, в среднем - 618 мин.\n",
    "    * от 0 до 190 сообщений, в среднем - 48 сообщений\n",
    "    * от 0 до 48488 МБ, в среднем - 19454 МБ трафика\n",
    "    \n",
    "    \n",
    "* для _smart_ пользователи расходуют:\n",
    "    * от 1 до 1059 минуты, в среднем - 477 мин.\n",
    "    * от 0 до 112 сообщений, в среднем - 33 сообщений\n",
    "    * от 0 до 31209 МБ, в среднем - 16300 МБ трафика"
   ]
  },
  {
   "cell_type": "markdown",
   "metadata": {},
   "source": [
    "Посчитаем среднее количество, дисперсию и стандартное отклонение для каждой услуги каждого тарифа."
   ]
  },
  {
   "cell_type": "code",
   "execution_count": 66,
   "metadata": {
    "ExecuteTime": {
     "end_time": "2020-09-22T07:59:57.763886Z",
     "start_time": "2020-09-22T07:59:57.672838Z"
    }
   },
   "outputs": [
    {
     "data": {
      "text/html": [
       "<div>\n",
       "<style scoped>\n",
       "    .dataframe tbody tr th:only-of-type {\n",
       "        vertical-align: middle;\n",
       "    }\n",
       "\n",
       "    .dataframe tbody tr th {\n",
       "        vertical-align: top;\n",
       "    }\n",
       "\n",
       "    .dataframe thead th {\n",
       "        text-align: right;\n",
       "    }\n",
       "</style>\n",
       "<table border=\"1\" class=\"dataframe\">\n",
       "  <thead>\n",
       "    <tr style=\"text-align: right;\">\n",
       "      <th></th>\n",
       "      <th>minutes_per_month</th>\n",
       "      <th>message_per_month</th>\n",
       "      <th>mb_per_month</th>\n",
       "    </tr>\n",
       "  </thead>\n",
       "  <tbody>\n",
       "    <tr>\n",
       "      <th>mean</th>\n",
       "      <td>618.003178</td>\n",
       "      <td>48.322034</td>\n",
       "      <td>1.945394e+04</td>\n",
       "    </tr>\n",
       "    <tr>\n",
       "      <th>var</th>\n",
       "      <td>118155.218442</td>\n",
       "      <td>2098.907849</td>\n",
       "      <td>1.014241e+08</td>\n",
       "    </tr>\n",
       "    <tr>\n",
       "      <th>std</th>\n",
       "      <td>343.737136</td>\n",
       "      <td>45.813839</td>\n",
       "      <td>1.007096e+04</td>\n",
       "    </tr>\n",
       "  </tbody>\n",
       "</table>\n",
       "</div>"
      ],
      "text/plain": [
       "      minutes_per_month  message_per_month  mb_per_month\n",
       "mean         618.003178          48.322034  1.945394e+04\n",
       "var       118155.218442        2098.907849  1.014241e+08\n",
       "std          343.737136          45.813839  1.007096e+04"
      ]
     },
     "execution_count": 66,
     "metadata": {},
     "output_type": "execute_result"
    }
   ],
   "source": [
    "ultra_data[['minutes_per_month', 'message_per_month', 'mb_per_month']].apply([np.mean, np.var, np.std])"
   ]
  },
  {
   "cell_type": "code",
   "execution_count": 67,
   "metadata": {
    "ExecuteTime": {
     "end_time": "2020-09-22T07:59:57.880309Z",
     "start_time": "2020-09-22T07:59:57.773777Z"
    }
   },
   "outputs": [
    {
     "data": {
      "text/html": [
       "<div>\n",
       "<style scoped>\n",
       "    .dataframe tbody tr th:only-of-type {\n",
       "        vertical-align: middle;\n",
       "    }\n",
       "\n",
       "    .dataframe tbody tr th {\n",
       "        vertical-align: top;\n",
       "    }\n",
       "\n",
       "    .dataframe thead th {\n",
       "        text-align: right;\n",
       "    }\n",
       "</style>\n",
       "<table border=\"1\" class=\"dataframe\">\n",
       "  <thead>\n",
       "    <tr style=\"text-align: right;\">\n",
       "      <th></th>\n",
       "      <th>minutes_per_month</th>\n",
       "      <th>message_per_month</th>\n",
       "      <th>mb_per_month</th>\n",
       "    </tr>\n",
       "  </thead>\n",
       "  <tbody>\n",
       "    <tr>\n",
       "      <th>mean</th>\n",
       "      <td>476.688540</td>\n",
       "      <td>33.064233</td>\n",
       "      <td>1.630076e+04</td>\n",
       "    </tr>\n",
       "    <tr>\n",
       "      <th>var</th>\n",
       "      <td>42004.282975</td>\n",
       "      <td>742.690740</td>\n",
       "      <td>3.062563e+07</td>\n",
       "    </tr>\n",
       "    <tr>\n",
       "      <th>std</th>\n",
       "      <td>204.949464</td>\n",
       "      <td>27.252353</td>\n",
       "      <td>5.534043e+03</td>\n",
       "    </tr>\n",
       "  </tbody>\n",
       "</table>\n",
       "</div>"
      ],
      "text/plain": [
       "      minutes_per_month  message_per_month  mb_per_month\n",
       "mean         476.688540          33.064233  1.630076e+04\n",
       "var        42004.282975         742.690740  3.062563e+07\n",
       "std          204.949464          27.252353  5.534043e+03"
      ]
     },
     "execution_count": 67,
     "metadata": {},
     "output_type": "execute_result"
    }
   ],
   "source": [
    "smart_data[['minutes_per_month', 'message_per_month', 'mb_per_month']].apply([np.mean, np.var, np.std])"
   ]
  },
  {
   "cell_type": "markdown",
   "metadata": {},
   "source": [
    " Посмотрим гистограммы для каждой услуги каждого тарифа."
   ]
  },
  {
   "cell_type": "code",
   "execution_count": 68,
   "metadata": {
    "ExecuteTime": {
     "end_time": "2020-09-22T07:59:59.826306Z",
     "start_time": "2020-09-22T07:59:57.885473Z"
    }
   },
   "outputs": [
    {
     "data": {
      "image/png": "[encoded data removed]",
      "text/plain": [
       "<Figure size 1224x720 with 6 Axes>"
      ]
     },
     "metadata": {
      "needs_background": "light"
     },
     "output_type": "display_data"
    }
   ],
   "source": [
    "# посмотрим на гистограмму распределения расхода минут, сообщений и трафика в месяц для двух тарифов\n",
    "fig, axs = plt.subplots(2, 3, figsize=(17,10))\n",
    "i = 0\n",
    "\n",
    "for tariff, df in zip(['ultra', 'smart'], [ultra_data, smart_data]):\n",
    "    for j, point in enumerate(['minutes_per_month', 'message_per_month', 'mb_per_month']):\n",
    "        data = df[[point]]\n",
    "        get_figure([data], [tariff], 'hist', tariff, axs[i,j], legend=True)\n",
    "    i += 1\n",
    "\n",
    "fig.tight_layout()"
   ]
  },
  {
   "cell_type": "markdown",
   "metadata": {},
   "source": [
    "### Вывод"
   ]
  },
  {
   "cell_type": "markdown",
   "metadata": {
    "ExecuteTime": {
     "end_time": "2020-06-25T19:15:17.748168Z",
     "start_time": "2020-06-25T19:15:17.627908Z"
    }
   },
   "source": [
    "Видно, что поведение при использовании каждой услуги поведение пользователей примерно одинаковое:\n",
    "* использование пакета минут стремится к нормальному распределению, однако медиана у тарифа _ultra_ больше\n",
    "* использование интренет-трафика также стремится к нормальному распределению аналогично использованию минут\n",
    "* расход сообщений чаще всего приходится на количество от 0 до 15 сообщений - наименее активно используемая услуга"
   ]
  },
  {
   "cell_type": "markdown",
   "metadata": {},
   "source": [
    "## 6. Проверка гипотез"
   ]
  },
  {
   "cell_type": "markdown",
   "metadata": {},
   "source": [
    "### 6.1. Средняя выручка пользователей тарифов «Ультра» и «Смарт» различается"
   ]
  },
  {
   "cell_type": "markdown",
   "metadata": {},
   "source": [
    "Сформулируем _нулевую_ гипотезу: \"Средняя выручка пользователей тарифов «Ультра» и «Смарт» равна\". Тест будет осуществляться как сравнение двух средних, так как сравниваем две выборки по средним.\n",
    "\n",
    "Сформулируем _альтернативную_ гипотезу: \"Средняя выручка пользователей тарифов «Ультра» и «Смарт» различается\". "
   ]
  },
  {
   "cell_type": "code",
   "execution_count": 69,
   "metadata": {
    "ExecuteTime": {
     "end_time": "2020-09-22T07:59:59.845110Z",
     "start_time": "2020-09-22T07:59:59.829563Z"
    }
   },
   "outputs": [
    {
     "data": {
      "text/html": [
       "<div>\n",
       "<style scoped>\n",
       "    .dataframe tbody tr th:only-of-type {\n",
       "        vertical-align: middle;\n",
       "    }\n",
       "\n",
       "    .dataframe tbody tr th {\n",
       "        vertical-align: top;\n",
       "    }\n",
       "\n",
       "    .dataframe thead th {\n",
       "        text-align: right;\n",
       "    }\n",
       "</style>\n",
       "<table border=\"1\" class=\"dataframe\">\n",
       "  <thead>\n",
       "    <tr style=\"text-align: right;\">\n",
       "      <th></th>\n",
       "      <th>income</th>\n",
       "    </tr>\n",
       "  </thead>\n",
       "  <tbody>\n",
       "    <tr>\n",
       "      <th>mean</th>\n",
       "      <td>2067.584746</td>\n",
       "    </tr>\n",
       "    <tr>\n",
       "      <th>var</th>\n",
       "      <td>136334.139152</td>\n",
       "    </tr>\n",
       "    <tr>\n",
       "      <th>std</th>\n",
       "      <td>369.234531</td>\n",
       "    </tr>\n",
       "  </tbody>\n",
       "</table>\n",
       "</div>"
      ],
      "text/plain": [
       "             income\n",
       "mean    2067.584746\n",
       "var   136334.139152\n",
       "std      369.234531"
      ]
     },
     "execution_count": 69,
     "metadata": {},
     "output_type": "execute_result"
    }
   ],
   "source": [
    "ultra_data[['income']].apply([np.mean, np.var, np.std])"
   ]
  },
  {
   "cell_type": "code",
   "execution_count": 70,
   "metadata": {
    "ExecuteTime": {
     "end_time": "2020-09-22T07:59:59.944879Z",
     "start_time": "2020-09-22T07:59:59.848042Z"
    }
   },
   "outputs": [
    {
     "data": {
      "text/html": [
       "<div>\n",
       "<style scoped>\n",
       "    .dataframe tbody tr th:only-of-type {\n",
       "        vertical-align: middle;\n",
       "    }\n",
       "\n",
       "    .dataframe tbody tr th {\n",
       "        vertical-align: top;\n",
       "    }\n",
       "\n",
       "    .dataframe thead th {\n",
       "        text-align: right;\n",
       "    }\n",
       "</style>\n",
       "<table border=\"1\" class=\"dataframe\">\n",
       "  <thead>\n",
       "    <tr style=\"text-align: right;\">\n",
       "      <th></th>\n",
       "      <th>income</th>\n",
       "    </tr>\n",
       "  </thead>\n",
       "  <tbody>\n",
       "    <tr>\n",
       "      <th>mean</th>\n",
       "      <td>1373.035582</td>\n",
       "    </tr>\n",
       "    <tr>\n",
       "      <th>var</th>\n",
       "      <td>649039.681119</td>\n",
       "    </tr>\n",
       "    <tr>\n",
       "      <th>std</th>\n",
       "      <td>805.629990</td>\n",
       "    </tr>\n",
       "  </tbody>\n",
       "</table>\n",
       "</div>"
      ],
      "text/plain": [
       "             income\n",
       "mean    1373.035582\n",
       "var   649039.681119\n",
       "std      805.629990"
      ]
     },
     "execution_count": 70,
     "metadata": {},
     "output_type": "execute_result"
    }
   ],
   "source": [
    "smart_data[['income']].apply([np.mean, np.var, np.std])"
   ]
  },
  {
   "cell_type": "markdown",
   "metadata": {
    "ExecuteTime": {
     "end_time": "2020-06-29T07:39:02.593697Z",
     "start_time": "2020-06-29T07:39:02.588206Z"
    }
   },
   "source": [
    "Посмотрим на распределение выручки для тарифов \"Ультра\" и \"Смарт\"."
   ]
  },
  {
   "cell_type": "code",
   "execution_count": 71,
   "metadata": {
    "ExecuteTime": {
     "end_time": "2020-09-22T08:00:00.659839Z",
     "start_time": "2020-09-22T07:59:59.947966Z"
    }
   },
   "outputs": [
    {
     "data": {
      "text/plain": [
       "<matplotlib.legend.Legend at 0x7fc3912cd450>"
      ]
     },
     "execution_count": 71,
     "metadata": {},
     "output_type": "execute_result"
    },
    {
     "data": {
      "image/png": "[encoded data removed]",
      "text/plain": [
       "<Figure size 1080x432 with 1 Axes>"
      ]
     },
     "metadata": {
      "needs_background": "light"
     },
     "output_type": "display_data"
    }
   ],
   "source": [
    "ax = ultra_data.income.plot.kde(figsize=(15,6))\n",
    "smart_data.income.plot.kde(ax=ax)\n",
    "ax.legend(['ultra income', 'smart income'])"
   ]
  },
  {
   "cell_type": "markdown",
   "metadata": {},
   "source": [
    "Для обоих тарифов распределение нормальное, данные количественные и значения друг от друга не зависят, нулевая гипотеза - двухсторонняя, поэтому можем применить t-критерий Стьюдента."
   ]
  },
  {
   "cell_type": "code",
   "execution_count": 72,
   "metadata": {
    "ExecuteTime": {
     "end_time": "2020-09-22T08:00:00.670754Z",
     "start_time": "2020-09-22T08:00:00.662883Z"
    }
   },
   "outputs": [
    {
     "name": "stdout",
     "output_type": "stream",
     "text": [
      "p-value: 5.006510641928002e-129\n",
      "Отвергаем нулевую гипотезу\n"
     ]
    }
   ],
   "source": [
    "# проверим нулевую гипотезу\n",
    "check_null_hypothesis(ultra_data.income, smart_data.income)"
   ]
  },
  {
   "cell_type": "markdown",
   "metadata": {},
   "source": [
    "Нулевую гипотезу отвергли,соответственно имеет место альтернативная - \"Средняя выручка пользователей тарифов «Ультра» и «Смарт» различается\" ( по значениям средних видно, что у \"Ультра\" больше)."
   ]
  },
  {
   "cell_type": "markdown",
   "metadata": {},
   "source": [
    "### 6.2.  Средняя выручка пользователей из Москвы отличается от выручки пользователей из других регионов"
   ]
  },
  {
   "cell_type": "markdown",
   "metadata": {},
   "source": [
    "Сформулируем _нулевую_ гипотезу: \"Средняя выручка пользователей из Москвы равна выручке пользователей из других регионов\". Тест будет осуществляться как сравнение двух средних, так как сравниваем две выборки по средним.\n",
    "\n",
    "Сформулируем _альтернативную_ гипотезу: \"Средняя выручка пользователей из Москвы отличается от выручки пользователей из других регионов\". "
   ]
  },
  {
   "cell_type": "code",
   "execution_count": 73,
   "metadata": {
    "ExecuteTime": {
     "end_time": "2020-09-22T08:00:00.837236Z",
     "start_time": "2020-09-22T08:00:00.673437Z"
    }
   },
   "outputs": [
    {
     "data": {
      "text/html": [
       "<div>\n",
       "<style scoped>\n",
       "    .dataframe tbody tr th:only-of-type {\n",
       "        vertical-align: middle;\n",
       "    }\n",
       "\n",
       "    .dataframe tbody tr th {\n",
       "        vertical-align: top;\n",
       "    }\n",
       "\n",
       "    .dataframe thead th {\n",
       "        text-align: right;\n",
       "    }\n",
       "</style>\n",
       "<table border=\"1\" class=\"dataframe\">\n",
       "  <thead>\n",
       "    <tr style=\"text-align: right;\">\n",
       "      <th></th>\n",
       "      <th>city</th>\n",
       "      <th>income</th>\n",
       "    </tr>\n",
       "  </thead>\n",
       "  <tbody>\n",
       "    <tr>\n",
       "      <th>2425</th>\n",
       "      <td>балашиха</td>\n",
       "      <td>1063</td>\n",
       "    </tr>\n",
       "    <tr>\n",
       "      <th>3086</th>\n",
       "      <td>москва</td>\n",
       "      <td>1550</td>\n",
       "    </tr>\n",
       "    <tr>\n",
       "      <th>892</th>\n",
       "      <td>санкт-петербург</td>\n",
       "      <td>1950</td>\n",
       "    </tr>\n",
       "    <tr>\n",
       "      <th>2335</th>\n",
       "      <td>уфа</td>\n",
       "      <td>1646</td>\n",
       "    </tr>\n",
       "    <tr>\n",
       "      <th>2125</th>\n",
       "      <td>пермь</td>\n",
       "      <td>2951</td>\n",
       "    </tr>\n",
       "  </tbody>\n",
       "</table>\n",
       "</div>"
      ],
      "text/plain": [
       "                 city  income\n",
       "2425         балашиха    1063\n",
       "3086           москва    1550\n",
       "892   санкт-петербург    1950\n",
       "2335              уфа    1646\n",
       "2125            пермь    2951"
      ]
     },
     "execution_count": 73,
     "metadata": {},
     "output_type": "execute_result"
    }
   ],
   "source": [
    "# из 2 таблиц выбираем данные о доходе и городе, соединяем в одну талицу\n",
    "ultra_income = ultra_data[['city', 'income']]\n",
    "smart_income = smart_data[['city', 'income']]\n",
    "city_income = pd.concat([ultra_income, smart_income])\n",
    "city_income.sample(5)"
   ]
  },
  {
   "cell_type": "code",
   "execution_count": 74,
   "metadata": {
    "ExecuteTime": {
     "end_time": "2020-09-22T08:00:00.953548Z",
     "start_time": "2020-09-22T08:00:00.840577Z"
    }
   },
   "outputs": [],
   "source": [
    "# разделим данные на москву и не москву\n",
    "moscow_income = city_income[city_income.city == 'москва']\n",
    "other_income = city_income[city_income.city != 'москва']"
   ]
  },
  {
   "cell_type": "code",
   "execution_count": 75,
   "metadata": {
    "ExecuteTime": {
     "end_time": "2020-09-22T08:00:01.059713Z",
     "start_time": "2020-09-22T08:00:00.956424Z"
    }
   },
   "outputs": [
    {
     "name": "stdout",
     "output_type": "stream",
     "text": [
      "p-value: 0.5068419593471337\n",
      "Не удалось отвергнуть нулевую гипотезу\n"
     ]
    }
   ],
   "source": [
    "# проверка нулевой гипотезы\n",
    "check_null_hypothesis(moscow_income.income, other_income.income)"
   ]
  },
  {
   "cell_type": "code",
   "execution_count": 76,
   "metadata": {
    "ExecuteTime": {
     "end_time": "2020-09-22T08:00:01.151241Z",
     "start_time": "2020-09-22T08:00:01.065690Z"
    }
   },
   "outputs": [
    {
     "name": "stdout",
     "output_type": "stream",
     "text": [
      "1602.6809917355372 1579.4754294846184\n"
     ]
    }
   ],
   "source": [
    "# посмотрим на  средние\n",
    "print(moscow_income.income.mean(), other_income.income.mean())"
   ]
  },
  {
   "cell_type": "markdown",
   "metadata": {},
   "source": [
    "**Вывод**\n",
    "\n",
    "Согласно посавленной задаче сфомулированы 2 нулевые гипотезы:\n",
    "1. \"Средняя выручка пользователей тарифов «Ультра» и «Смарт» равны\" - гипотеза отвергнута. Соответственно, можно предположить, что верна альтернативная гипотеза \"Средняя выручка пользователей тарифов «Ультра» и «Смарт» различается\" - больше или меньше.\n",
    "\n",
    "\n",
    "2. \"Средняя выручка пользователей из Москвы равна выручке пользователей из других регионов\" - не получилось отвергнуть гипотезу. Соответственно, средний доход по Москве и другим города примерно одинаковый - 1482 и  1440 (при стандартное отклонение 718)."
   ]
  },
  {
   "cell_type": "markdown",
   "metadata": {},
   "source": [
    "## 7. Общий вывод\n",
    "\n",
    "При подготовке данных выполнено:\n",
    "* преобразование типов данных;\n",
    "* удаление лишних столбцов;\n",
    "* поиск пропусков (обнаруженные пропуски нет смсла заменять);\n",
    "* поиск дубликатов;\n",
    "* приведение строковых данных к согласованному виду;\n",
    "* добавление расхода услуг по месяцам для каждого пользователя;\n",
    "* разделение данных на 2 отдельные талицы для каждого тарифа;\n",
    "* удалены выбросы.\n",
    "\n",
    "Из анализа выяснено:\n",
    "* использование пакета минут, интренет-трафика стремится к нормальному распределению;\n",
    "* расход сообщений чаще всего приходится на количество от 0 до 15 сообщений - наименее активно используемая услуга.\n",
    "\n",
    "Согласно поставленной задаче сформулированы и проверены 2 нулевые гипотезы:\n",
    "1. \"Средняя выручка пользователей тарифов «Ультра» и «Смарт» равны\" - гипотеза отвергнута.\n",
    "2. \"Средняя выручка пользователей из Москвы равна выручке пользователей из других регионов\" - не удалось отвергнуть гипотезу.\n",
    "\n",
    "Согласно результатам, средняя выручка ultra,больше средней выручки smart. Поэтому предолагаем, что тариф _ultra_ выгоднее с точки зрения прибыли."
   ]
  }
 ],
 "metadata": {
  "kernelspec": {
   "display_name": "Python 3",
   "language": "python",
   "name": "python3"
  },
  "language_info": {
   "codemirror_mode": {
    "name": "ipython",
    "version": 3
   },
   "file_extension": ".py",
   "mimetype": "text/x-python",
   "name": "python",
   "nbconvert_exporter": "python",
   "pygments_lexer": "ipython3",
   "version": "3.7.6"
  },
  "toc": {
   "base_numbering": 1,
   "nav_menu": {},
   "number_sections": false,
   "sideBar": true,
   "skip_h1_title": false,
   "title_cell": "Table of Contents",
   "title_sidebar": "Contents",
   "toc_cell": false,
   "toc_position": {
    "height": "calc(100% - 180px)",
    "left": "10px",
    "top": "150px",
    "width": "384px"
   },
   "toc_section_display": true,
   "toc_window_display": true
  }
 },
 "nbformat": 4,
 "nbformat_minor": 2
}
