{
 "cells": [
  {
   "cell_type": "markdown",
   "metadata": {},
   "source": [
    "# Определение перспективного тарифа для телеком компании"
   ]
  },
  {
   "cell_type": "markdown",
   "metadata": {},
   "source": [
    "## 1. Функции"
   ]
  },
  {
   "cell_type": "code",
   "execution_count": 1,
   "metadata": {},
   "outputs": [],
   "source": [
    "import warnings\n",
    "warnings.filterwarnings('ignore')"
   ]
  },
  {
   "cell_type": "code",
   "execution_count": 2,
   "metadata": {
    "ExecuteTime": {
     "end_time": "2020-09-22T07:59:35.954366Z",
     "start_time": "2020-09-22T07:59:34.613310Z"
    }
   },
   "outputs": [],
   "source": [
    "import math\n",
    "import requests\n",
    "import numpy as np\n",
    "import pandas as pd\n",
    "import seaborn as sns\n",
    "import scipy.stats as st\n",
    "import matplotlib.pyplot as plt\n",
    "from urllib.parse import urlencode"
   ]
  },
  {
   "cell_type": "code",
   "execution_count": 3,
   "metadata": {
    "ExecuteTime": {
     "end_time": "2020-09-22T07:59:35.981349Z",
     "start_time": "2020-09-22T07:59:35.966526Z"
    }
   },
   "outputs": [],
   "source": [
    "LINK_CALLS = \"https://yadi.sk/d/-yfOw4HHtN0vAw\"\n",
    "LINK_INTERNET = \"https://yadi.sk/d/FOhKnSHxJXPayg\"\n",
    "LINK_MESSAGES = \"https://yadi.sk/d/W4Q2ViomDMAjYA\"\n",
    "LINK_TARIFFS = \"https://yadi.sk/d/ZANkXDZcnRG_bw\"\n",
    "LINK_USERS = \"https://yadi.sk/d/pEYK_9PZgE2C_Q\""
   ]
  },
  {
   "cell_type": "code",
   "execution_count": 4,
   "metadata": {},
   "outputs": [],
   "source": [
    "!rm requirements.txt && touch requirements.txt\n",
    "!pip freeze | grep \"math\\|requests\\|numpy\\|pandas\" >> requirements.txt\n",
    "!pip freeze | grep \"seaborn\\|matplotlib\\|urllib\\|scipy\" >> requirements.txt"
   ]
  },
  {
   "cell_type": "code",
   "execution_count": 5,
   "metadata": {},
   "outputs": [],
   "source": [
    "def get_url(link):\n",
    "    \"\"\"\n",
    "    Получение адреса для скачивания с Яндекс.Диск\n",
    "    link - ссылка на Яндекс.Диск\n",
    "    \"\"\"\n",
    "    print(\"Run\", link)\n",
    "    base_url = 'https://cloud-api.yandex.net/v1/disk/public/resources/download?'\n",
    "    final_url = base_url + urlencode(dict(public_key=link))\n",
    "    response = requests.get(final_url)\n",
    "    url = response.json()['href']\n",
    "    return url"
   ]
  },
  {
   "cell_type": "code",
   "execution_count": 6,
   "metadata": {
    "ExecuteTime": {
     "end_time": "2020-09-22T07:59:36.212565Z",
     "start_time": "2020-09-22T07:59:36.086963Z"
    }
   },
   "outputs": [],
   "source": [
    "def diff_values(row, per_month, included, rub,  proc=False):\n",
    "    diff = row[per_month] - row[included]\n",
    "    if proc:\n",
    "        diff /= 1024\n",
    "    fee = int(math.ceil(diff)) * row[rub] if diff > 0 else 0\n",
    "    return fee"
   ]
  },
  {
   "cell_type": "code",
   "execution_count": 7,
   "metadata": {
    "ExecuteTime": {
     "end_time": "2020-09-22T07:59:36.313258Z",
     "start_time": "2020-09-22T07:59:36.215944Z"
    }
   },
   "outputs": [],
   "source": [
    "def calculate_income(row):\n",
    "    \"\"\"\n",
    "    Функция для подстчета прибыли из каждой строки\n",
    "    \"\"\"\n",
    "    keys = ['minutes_per_month', 'minutes_included', 'rub_per_minute']\n",
    "    minutes = diff_values(\n",
    "        row, *keys)\n",
    "#         'minutes_per_month', 'minutes_included', 'rub_per_minute')\n",
    "    messages = diff_values(\n",
    "        row, *keys)\n",
    "#         'message_per_month', 'messages_included', 'rub_per_message')\n",
    "    gb = diff_values(\n",
    "        row, 'mb_per_month', 'mb_per_month_included', 'rub_per_gb', proc=True) \n",
    "    \n",
    "    result = minutes + messages + gb + row['rub_monthly_fee']\n",
    "    return result"
   ]
  },
  {
   "cell_type": "code",
   "execution_count": 8,
   "metadata": {
    "ExecuteTime": {
     "end_time": "2020-09-22T07:59:36.447782Z",
     "start_time": "2020-09-22T07:59:36.316279Z"
    }
   },
   "outputs": [],
   "source": [
    "def get_figure(df_list, labels, kind, title, ax, legend=False):\n",
    "    \"\"\"\n",
    "    Функция построения нескольких графиков\n",
    "    \"\"\"\n",
    "    for i, df in enumerate(df_list):\n",
    "        df.plot(ax=ax, label=labels[i], kind=kind, title=title, grid=True);"
   ]
  },
  {
   "cell_type": "code",
   "execution_count": 9,
   "metadata": {
    "ExecuteTime": {
     "end_time": "2020-09-22T07:59:36.545681Z",
     "start_time": "2020-09-22T07:59:36.453249Z"
    }
   },
   "outputs": [],
   "source": [
    "def get_boxplot(df, tariff):\n",
    "    \"\"\"\n",
    "    Функция построения диаграмы размаха для параметров:\n",
    "        - minutes_per_month\n",
    "        - message_per_month\n",
    "        - mb_per_month\n",
    "    \"\"\"\n",
    "    fig, axs = plt.subplots(1, 3, figsize=(15,10))\n",
    "\n",
    "    for i, point in enumerate(['minutes_per_month', 'message_per_month', 'mb_per_month']):\n",
    "        get_figure([df[[point]]], [tariff], 'box', point, axs[i])\n",
    "\n",
    "    fig.tight_layout();"
   ]
  },
  {
   "cell_type": "code",
   "execution_count": 10,
   "metadata": {
    "ExecuteTime": {
     "end_time": "2020-09-22T07:59:36.647498Z",
     "start_time": "2020-09-22T07:59:36.550295Z"
    }
   },
   "outputs": [],
   "source": [
    "def get_true_range(s, k=1.5):\n",
    "    \"\"\"\n",
    "    Функция для получения границ дтапазона [-k*iqr, +k*iqr]\n",
    "    \"\"\"\n",
    "    iqr = st.iqr(s)\n",
    "    quantile = s.quantile([.25, .75])\n",
    "    first = round(quantile[0.25] - k * iqr, 2)\n",
    "    third = round(quantile[0.75] + k * iqr, 2)\n",
    "    return (first, third)   "
   ]
  },
  {
   "cell_type": "code",
   "execution_count": 11,
   "metadata": {
    "ExecuteTime": {
     "end_time": "2020-09-22T07:59:36.862458Z",
     "start_time": "2020-09-22T07:59:36.749096Z"
    }
   },
   "outputs": [],
   "source": [
    "# def drop_values(df):\n",
    "#     \"\"\"\n",
    "#     Функция удаления выбросов\n",
    "#     \"\"\"\n",
    "#     minutes_range = get_true_range(df['minutes_per_month'])\n",
    "#     messages_range = get_true_range(df['message_per_month'])\n",
    "#     mb_range = get_true_range(df['mb_per_month'])\n",
    "    \n",
    "#     df.drop(df[(df['minutes_per_month'] < minutes_range[0])\n",
    "#                | (df['minutes_per_month'] > minutes_range[1])\n",
    "#                | (df['message_per_month'] < messages_range[0])\n",
    "#                | (df['message_per_month'] > messages_range[1])\n",
    "#                | (df['mb_per_month'] < mb_range[0])\n",
    "#                | (df['mb_per_month'] > mb_range[1])].index,\n",
    "#                 axis=0,\n",
    "#                 inplace=True\n",
    "#                )\n",
    "    \n",
    "#     return df"
   ]
  },
  {
   "cell_type": "code",
   "execution_count": 12,
   "metadata": {
    "ExecuteTime": {
     "end_time": "2020-09-22T07:59:36.862458Z",
     "start_time": "2020-09-22T07:59:36.749096Z"
    }
   },
   "outputs": [],
   "source": [
    "# функция удаления выбросов\n",
    "def drop_values(df):\n",
    "    \"\"\"\n",
    "    Функция удаления выбросов\n",
    "    \"\"\"\n",
    "    minutes_range = get_true_range(df['minutes_per_month'])\n",
    "    messages_range = get_true_range(df['message_per_month'])\n",
    "    mb_range = get_true_range(df['mb_per_month'])\n",
    "    \n",
    "    df.drop(df[(df['minutes_per_month'] < minutes_range[0])\n",
    "               | (df['minutes_per_month'] > minutes_range[1])\n",
    "               | (df['message_per_month'] < messages_range[0])\n",
    "               | (df['message_per_month'] > messages_range[1])\n",
    "               | (df['mb_per_month'] < mb_range[0])\n",
    "               | (df['mb_per_month'] > mb_range[1])].index,\n",
    "                axis=0,\n",
    "                inplace=True\n",
    "               )\n",
    "    \n",
    "    return df"
   ]
  },
  {
   "cell_type": "code",
   "execution_count": 13,
   "metadata": {
    "ExecuteTime": {
     "end_time": "2020-09-22T07:59:36.959460Z",
     "start_time": "2020-09-22T07:59:36.865072Z"
    }
   },
   "outputs": [],
   "source": [
    "def check_null_hypothesis(sample_1, sample_2):\n",
    "    \"\"\"\n",
    "    Функция проверки нулевой гипотезы\n",
    "    \"\"\"\n",
    "    alpha = 0.05\n",
    "    results = st.ttest_ind(sample_1, sample_2, equal_var=True)\n",
    "    print('p-value:', results.pvalue)\n",
    "\n",
    "    if results.pvalue < alpha:\n",
    "        print('Отвергаем нулевую гипотезу')\n",
    "    else:\n",
    "        print('Не удалось отвергнуть нулевую гипотезу')"
   ]
  },
  {
   "cell_type": "markdown",
   "metadata": {},
   "source": [
    "## 2. Загрузка данных"
   ]
  },
  {
   "cell_type": "code",
   "execution_count": 14,
   "metadata": {
    "ExecuteTime": {
     "end_time": "2020-09-22T07:59:47.273153Z",
     "start_time": "2020-09-22T07:59:36.965302Z"
    }
   },
   "outputs": [
    {
     "name": "stdout",
     "output_type": "stream",
     "text": [
      "Run https://yadi.sk/d/-yfOw4HHtN0vAw\n"
     ]
    },
    {
     "data": {
      "text/html": [
       "<div>\n",
       "<style scoped>\n",
       "    .dataframe tbody tr th:only-of-type {\n",
       "        vertical-align: middle;\n",
       "    }\n",
       "\n",
       "    .dataframe tbody tr th {\n",
       "        vertical-align: top;\n",
       "    }\n",
       "\n",
       "    .dataframe thead th {\n",
       "        text-align: right;\n",
       "    }\n",
       "</style>\n",
       "<table border=\"1\" class=\"dataframe\">\n",
       "  <thead>\n",
       "    <tr style=\"text-align: right;\">\n",
       "      <th></th>\n",
       "      <th>id</th>\n",
       "      <th>call_date</th>\n",
       "      <th>duration</th>\n",
       "      <th>user_id</th>\n",
       "    </tr>\n",
       "  </thead>\n",
       "  <tbody>\n",
       "    <tr>\n",
       "      <th>0</th>\n",
       "      <td>1000_0</td>\n",
       "      <td>2018-07-25</td>\n",
       "      <td>0.00</td>\n",
       "      <td>1000</td>\n",
       "    </tr>\n",
       "    <tr>\n",
       "      <th>1</th>\n",
       "      <td>1000_1</td>\n",
       "      <td>2018-08-17</td>\n",
       "      <td>0.00</td>\n",
       "      <td>1000</td>\n",
       "    </tr>\n",
       "    <tr>\n",
       "      <th>2</th>\n",
       "      <td>1000_2</td>\n",
       "      <td>2018-06-11</td>\n",
       "      <td>2.85</td>\n",
       "      <td>1000</td>\n",
       "    </tr>\n",
       "    <tr>\n",
       "      <th>3</th>\n",
       "      <td>1000_3</td>\n",
       "      <td>2018-09-21</td>\n",
       "      <td>13.80</td>\n",
       "      <td>1000</td>\n",
       "    </tr>\n",
       "    <tr>\n",
       "      <th>4</th>\n",
       "      <td>1000_4</td>\n",
       "      <td>2018-12-15</td>\n",
       "      <td>5.18</td>\n",
       "      <td>1000</td>\n",
       "    </tr>\n",
       "  </tbody>\n",
       "</table>\n",
       "</div>"
      ],
      "text/plain": [
       "       id   call_date  duration  user_id\n",
       "0  1000_0  2018-07-25      0.00     1000\n",
       "1  1000_1  2018-08-17      0.00     1000\n",
       "2  1000_2  2018-06-11      2.85     1000\n",
       "3  1000_3  2018-09-21     13.80     1000\n",
       "4  1000_4  2018-12-15      5.18     1000"
      ]
     },
     "execution_count": 14,
     "metadata": {},
     "output_type": "execute_result"
    }
   ],
   "source": [
    "calls_data = pd.read_csv(get_url(LINK_CALLS))\n",
    "calls_data.head()"
   ]
  },
  {
   "cell_type": "code",
   "execution_count": 15,
   "metadata": {},
   "outputs": [
    {
     "name": "stdout",
     "output_type": "stream",
     "text": [
      "<class 'pandas.core.frame.DataFrame'>\n",
      "RangeIndex: 202607 entries, 0 to 202606\n",
      "Data columns (total 4 columns):\n",
      " #   Column     Non-Null Count   Dtype  \n",
      "---  ------     --------------   -----  \n",
      " 0   id         202607 non-null  object \n",
      " 1   call_date  202607 non-null  object \n",
      " 2   duration   202607 non-null  float64\n",
      " 3   user_id    202607 non-null  int64  \n",
      "dtypes: float64(1), int64(1), object(2)\n",
      "memory usage: 6.2+ MB\n"
     ]
    }
   ],
   "source": [
    "calls_data.info()"
   ]
  },
  {
   "cell_type": "code",
   "execution_count": 16,
   "metadata": {},
   "outputs": [
    {
     "name": "stdout",
     "output_type": "stream",
     "text": [
      "Run https://yadi.sk/d/FOhKnSHxJXPayg\n"
     ]
    },
    {
     "data": {
      "text/html": [
       "<div>\n",
       "<style scoped>\n",
       "    .dataframe tbody tr th:only-of-type {\n",
       "        vertical-align: middle;\n",
       "    }\n",
       "\n",
       "    .dataframe tbody tr th {\n",
       "        vertical-align: top;\n",
       "    }\n",
       "\n",
       "    .dataframe thead th {\n",
       "        text-align: right;\n",
       "    }\n",
       "</style>\n",
       "<table border=\"1\" class=\"dataframe\">\n",
       "  <thead>\n",
       "    <tr style=\"text-align: right;\">\n",
       "      <th></th>\n",
       "      <th>Unnamed: 0</th>\n",
       "      <th>id</th>\n",
       "      <th>mb_used</th>\n",
       "      <th>session_date</th>\n",
       "      <th>user_id</th>\n",
       "    </tr>\n",
       "  </thead>\n",
       "  <tbody>\n",
       "    <tr>\n",
       "      <th>0</th>\n",
       "      <td>0</td>\n",
       "      <td>1000_0</td>\n",
       "      <td>112.95</td>\n",
       "      <td>2018-11-25</td>\n",
       "      <td>1000</td>\n",
       "    </tr>\n",
       "    <tr>\n",
       "      <th>1</th>\n",
       "      <td>1</td>\n",
       "      <td>1000_1</td>\n",
       "      <td>1052.81</td>\n",
       "      <td>2018-09-07</td>\n",
       "      <td>1000</td>\n",
       "    </tr>\n",
       "    <tr>\n",
       "      <th>2</th>\n",
       "      <td>2</td>\n",
       "      <td>1000_2</td>\n",
       "      <td>1197.26</td>\n",
       "      <td>2018-06-25</td>\n",
       "      <td>1000</td>\n",
       "    </tr>\n",
       "    <tr>\n",
       "      <th>3</th>\n",
       "      <td>3</td>\n",
       "      <td>1000_3</td>\n",
       "      <td>550.27</td>\n",
       "      <td>2018-08-22</td>\n",
       "      <td>1000</td>\n",
       "    </tr>\n",
       "    <tr>\n",
       "      <th>4</th>\n",
       "      <td>4</td>\n",
       "      <td>1000_4</td>\n",
       "      <td>302.56</td>\n",
       "      <td>2018-09-24</td>\n",
       "      <td>1000</td>\n",
       "    </tr>\n",
       "  </tbody>\n",
       "</table>\n",
       "</div>"
      ],
      "text/plain": [
       "   Unnamed: 0      id  mb_used session_date  user_id\n",
       "0           0  1000_0   112.95   2018-11-25     1000\n",
       "1           1  1000_1  1052.81   2018-09-07     1000\n",
       "2           2  1000_2  1197.26   2018-06-25     1000\n",
       "3           3  1000_3   550.27   2018-08-22     1000\n",
       "4           4  1000_4   302.56   2018-09-24     1000"
      ]
     },
     "execution_count": 16,
     "metadata": {},
     "output_type": "execute_result"
    }
   ],
   "source": [
    "internet_data = pd.read_csv(get_url(LINK_INTERNET))\n",
    "internet_data.head()"
   ]
  },
  {
   "cell_type": "code",
   "execution_count": 17,
   "metadata": {},
   "outputs": [
    {
     "name": "stdout",
     "output_type": "stream",
     "text": [
      "<class 'pandas.core.frame.DataFrame'>\n",
      "RangeIndex: 149396 entries, 0 to 149395\n",
      "Data columns (total 5 columns):\n",
      " #   Column        Non-Null Count   Dtype  \n",
      "---  ------        --------------   -----  \n",
      " 0   Unnamed: 0    149396 non-null  int64  \n",
      " 1   id            149396 non-null  object \n",
      " 2   mb_used       149396 non-null  float64\n",
      " 3   session_date  149396 non-null  object \n",
      " 4   user_id       149396 non-null  int64  \n",
      "dtypes: float64(1), int64(2), object(2)\n",
      "memory usage: 5.7+ MB\n"
     ]
    }
   ],
   "source": [
    "internet_data.info()"
   ]
  },
  {
   "cell_type": "code",
   "execution_count": 18,
   "metadata": {},
   "outputs": [
    {
     "name": "stdout",
     "output_type": "stream",
     "text": [
      "Run https://yadi.sk/d/W4Q2ViomDMAjYA\n"
     ]
    },
    {
     "data": {
      "text/html": [
       "<div>\n",
       "<style scoped>\n",
       "    .dataframe tbody tr th:only-of-type {\n",
       "        vertical-align: middle;\n",
       "    }\n",
       "\n",
       "    .dataframe tbody tr th {\n",
       "        vertical-align: top;\n",
       "    }\n",
       "\n",
       "    .dataframe thead th {\n",
       "        text-align: right;\n",
       "    }\n",
       "</style>\n",
       "<table border=\"1\" class=\"dataframe\">\n",
       "  <thead>\n",
       "    <tr style=\"text-align: right;\">\n",
       "      <th></th>\n",
       "      <th>id</th>\n",
       "      <th>message_date</th>\n",
       "      <th>user_id</th>\n",
       "    </tr>\n",
       "  </thead>\n",
       "  <tbody>\n",
       "    <tr>\n",
       "      <th>0</th>\n",
       "      <td>1000_0</td>\n",
       "      <td>2018-06-27</td>\n",
       "      <td>1000</td>\n",
       "    </tr>\n",
       "    <tr>\n",
       "      <th>1</th>\n",
       "      <td>1000_1</td>\n",
       "      <td>2018-10-08</td>\n",
       "      <td>1000</td>\n",
       "    </tr>\n",
       "    <tr>\n",
       "      <th>2</th>\n",
       "      <td>1000_2</td>\n",
       "      <td>2018-08-04</td>\n",
       "      <td>1000</td>\n",
       "    </tr>\n",
       "    <tr>\n",
       "      <th>3</th>\n",
       "      <td>1000_3</td>\n",
       "      <td>2018-06-16</td>\n",
       "      <td>1000</td>\n",
       "    </tr>\n",
       "    <tr>\n",
       "      <th>4</th>\n",
       "      <td>1000_4</td>\n",
       "      <td>2018-12-05</td>\n",
       "      <td>1000</td>\n",
       "    </tr>\n",
       "  </tbody>\n",
       "</table>\n",
       "</div>"
      ],
      "text/plain": [
       "       id message_date  user_id\n",
       "0  1000_0   2018-06-27     1000\n",
       "1  1000_1   2018-10-08     1000\n",
       "2  1000_2   2018-08-04     1000\n",
       "3  1000_3   2018-06-16     1000\n",
       "4  1000_4   2018-12-05     1000"
      ]
     },
     "execution_count": 18,
     "metadata": {},
     "output_type": "execute_result"
    }
   ],
   "source": [
    "messages_data = pd.read_csv(get_url(LINK_MESSAGES))\n",
    "messages_data.head()"
   ]
  },
  {
   "cell_type": "code",
   "execution_count": 19,
   "metadata": {},
   "outputs": [
    {
     "name": "stdout",
     "output_type": "stream",
     "text": [
      "<class 'pandas.core.frame.DataFrame'>\n",
      "RangeIndex: 123036 entries, 0 to 123035\n",
      "Data columns (total 3 columns):\n",
      " #   Column        Non-Null Count   Dtype \n",
      "---  ------        --------------   ----- \n",
      " 0   id            123036 non-null  object\n",
      " 1   message_date  123036 non-null  object\n",
      " 2   user_id       123036 non-null  int64 \n",
      "dtypes: int64(1), object(2)\n",
      "memory usage: 2.8+ MB\n"
     ]
    }
   ],
   "source": [
    "messages_data.info()"
   ]
  },
  {
   "cell_type": "code",
   "execution_count": 20,
   "metadata": {},
   "outputs": [
    {
     "name": "stdout",
     "output_type": "stream",
     "text": [
      "Run https://yadi.sk/d/ZANkXDZcnRG_bw\n"
     ]
    },
    {
     "data": {
      "text/html": [
       "<div>\n",
       "<style scoped>\n",
       "    .dataframe tbody tr th:only-of-type {\n",
       "        vertical-align: middle;\n",
       "    }\n",
       "\n",
       "    .dataframe tbody tr th {\n",
       "        vertical-align: top;\n",
       "    }\n",
       "\n",
       "    .dataframe thead th {\n",
       "        text-align: right;\n",
       "    }\n",
       "</style>\n",
       "<table border=\"1\" class=\"dataframe\">\n",
       "  <thead>\n",
       "    <tr style=\"text-align: right;\">\n",
       "      <th></th>\n",
       "      <th>messages_included</th>\n",
       "      <th>mb_per_month_included</th>\n",
       "      <th>minutes_included</th>\n",
       "      <th>rub_monthly_fee</th>\n",
       "      <th>rub_per_gb</th>\n",
       "      <th>rub_per_message</th>\n",
       "      <th>rub_per_minute</th>\n",
       "      <th>tariff_name</th>\n",
       "    </tr>\n",
       "  </thead>\n",
       "  <tbody>\n",
       "    <tr>\n",
       "      <th>0</th>\n",
       "      <td>50</td>\n",
       "      <td>15360</td>\n",
       "      <td>500</td>\n",
       "      <td>550</td>\n",
       "      <td>200</td>\n",
       "      <td>3</td>\n",
       "      <td>3</td>\n",
       "      <td>smart</td>\n",
       "    </tr>\n",
       "    <tr>\n",
       "      <th>1</th>\n",
       "      <td>1000</td>\n",
       "      <td>30720</td>\n",
       "      <td>3000</td>\n",
       "      <td>1950</td>\n",
       "      <td>150</td>\n",
       "      <td>1</td>\n",
       "      <td>1</td>\n",
       "      <td>ultra</td>\n",
       "    </tr>\n",
       "  </tbody>\n",
       "</table>\n",
       "</div>"
      ],
      "text/plain": [
       "   messages_included  mb_per_month_included  minutes_included  \\\n",
       "0                 50                  15360               500   \n",
       "1               1000                  30720              3000   \n",
       "\n",
       "   rub_monthly_fee  rub_per_gb  rub_per_message  rub_per_minute tariff_name  \n",
       "0              550         200                3               3       smart  \n",
       "1             1950         150                1               1       ultra  "
      ]
     },
     "execution_count": 20,
     "metadata": {},
     "output_type": "execute_result"
    }
   ],
   "source": [
    "tariffs_data = pd.read_csv(get_url(LINK_TARIFFS))\n",
    "tariffs_data.head()"
   ]
  },
  {
   "cell_type": "code",
   "execution_count": 21,
   "metadata": {},
   "outputs": [
    {
     "name": "stdout",
     "output_type": "stream",
     "text": [
      "<class 'pandas.core.frame.DataFrame'>\n",
      "RangeIndex: 2 entries, 0 to 1\n",
      "Data columns (total 8 columns):\n",
      " #   Column                 Non-Null Count  Dtype \n",
      "---  ------                 --------------  ----- \n",
      " 0   messages_included      2 non-null      int64 \n",
      " 1   mb_per_month_included  2 non-null      int64 \n",
      " 2   minutes_included       2 non-null      int64 \n",
      " 3   rub_monthly_fee        2 non-null      int64 \n",
      " 4   rub_per_gb             2 non-null      int64 \n",
      " 5   rub_per_message        2 non-null      int64 \n",
      " 6   rub_per_minute         2 non-null      int64 \n",
      " 7   tariff_name            2 non-null      object\n",
      "dtypes: int64(7), object(1)\n",
      "memory usage: 256.0+ bytes\n"
     ]
    }
   ],
   "source": [
    "tariffs_data.info()"
   ]
  },
  {
   "cell_type": "code",
   "execution_count": 22,
   "metadata": {},
   "outputs": [
    {
     "name": "stdout",
     "output_type": "stream",
     "text": [
      "Run https://yadi.sk/d/pEYK_9PZgE2C_Q\n"
     ]
    },
    {
     "data": {
      "text/html": [
       "<div>\n",
       "<style scoped>\n",
       "    .dataframe tbody tr th:only-of-type {\n",
       "        vertical-align: middle;\n",
       "    }\n",
       "\n",
       "    .dataframe tbody tr th {\n",
       "        vertical-align: top;\n",
       "    }\n",
       "\n",
       "    .dataframe thead th {\n",
       "        text-align: right;\n",
       "    }\n",
       "</style>\n",
       "<table border=\"1\" class=\"dataframe\">\n",
       "  <thead>\n",
       "    <tr style=\"text-align: right;\">\n",
       "      <th></th>\n",
       "      <th>user_id</th>\n",
       "      <th>age</th>\n",
       "      <th>churn_date</th>\n",
       "      <th>city</th>\n",
       "      <th>first_name</th>\n",
       "      <th>last_name</th>\n",
       "      <th>reg_date</th>\n",
       "      <th>tariff</th>\n",
       "    </tr>\n",
       "  </thead>\n",
       "  <tbody>\n",
       "    <tr>\n",
       "      <th>0</th>\n",
       "      <td>1000</td>\n",
       "      <td>52</td>\n",
       "      <td>NaN</td>\n",
       "      <td>Краснодар</td>\n",
       "      <td>Рафаил</td>\n",
       "      <td>Верещагин</td>\n",
       "      <td>2018-05-25</td>\n",
       "      <td>ultra</td>\n",
       "    </tr>\n",
       "    <tr>\n",
       "      <th>1</th>\n",
       "      <td>1001</td>\n",
       "      <td>41</td>\n",
       "      <td>NaN</td>\n",
       "      <td>Москва</td>\n",
       "      <td>Иван</td>\n",
       "      <td>Ежов</td>\n",
       "      <td>2018-11-01</td>\n",
       "      <td>smart</td>\n",
       "    </tr>\n",
       "    <tr>\n",
       "      <th>2</th>\n",
       "      <td>1002</td>\n",
       "      <td>59</td>\n",
       "      <td>NaN</td>\n",
       "      <td>Стерлитамак</td>\n",
       "      <td>Евгений</td>\n",
       "      <td>Абрамович</td>\n",
       "      <td>2018-06-17</td>\n",
       "      <td>smart</td>\n",
       "    </tr>\n",
       "    <tr>\n",
       "      <th>3</th>\n",
       "      <td>1003</td>\n",
       "      <td>23</td>\n",
       "      <td>NaN</td>\n",
       "      <td>Москва</td>\n",
       "      <td>Белла</td>\n",
       "      <td>Белякова</td>\n",
       "      <td>2018-08-17</td>\n",
       "      <td>ultra</td>\n",
       "    </tr>\n",
       "    <tr>\n",
       "      <th>4</th>\n",
       "      <td>1004</td>\n",
       "      <td>68</td>\n",
       "      <td>NaN</td>\n",
       "      <td>Новокузнецк</td>\n",
       "      <td>Татьяна</td>\n",
       "      <td>Авдеенко</td>\n",
       "      <td>2018-05-14</td>\n",
       "      <td>ultra</td>\n",
       "    </tr>\n",
       "  </tbody>\n",
       "</table>\n",
       "</div>"
      ],
      "text/plain": [
       "   user_id  age churn_date         city first_name  last_name    reg_date  \\\n",
       "0     1000   52        NaN    Краснодар     Рафаил  Верещагин  2018-05-25   \n",
       "1     1001   41        NaN       Москва       Иван       Ежов  2018-11-01   \n",
       "2     1002   59        NaN  Стерлитамак    Евгений  Абрамович  2018-06-17   \n",
       "3     1003   23        NaN       Москва      Белла   Белякова  2018-08-17   \n",
       "4     1004   68        NaN  Новокузнецк    Татьяна   Авдеенко  2018-05-14   \n",
       "\n",
       "  tariff  \n",
       "0  ultra  \n",
       "1  smart  \n",
       "2  smart  \n",
       "3  ultra  \n",
       "4  ultra  "
      ]
     },
     "execution_count": 22,
     "metadata": {},
     "output_type": "execute_result"
    }
   ],
   "source": [
    "users_data = pd.read_csv(get_url(LINK_USERS))\n",
    "users_data.head()"
   ]
  },
  {
   "cell_type": "code",
   "execution_count": 23,
   "metadata": {},
   "outputs": [
    {
     "name": "stdout",
     "output_type": "stream",
     "text": [
      "<class 'pandas.core.frame.DataFrame'>\n",
      "RangeIndex: 500 entries, 0 to 499\n",
      "Data columns (total 8 columns):\n",
      " #   Column      Non-Null Count  Dtype \n",
      "---  ------      --------------  ----- \n",
      " 0   user_id     500 non-null    int64 \n",
      " 1   age         500 non-null    int64 \n",
      " 2   churn_date  38 non-null     object\n",
      " 3   city        500 non-null    object\n",
      " 4   first_name  500 non-null    object\n",
      " 5   last_name   500 non-null    object\n",
      " 6   reg_date    500 non-null    object\n",
      " 7   tariff      500 non-null    object\n",
      "dtypes: int64(2), object(6)\n",
      "memory usage: 31.4+ KB\n"
     ]
    }
   ],
   "source": [
    "users_data.info()"
   ]
  },
  {
   "cell_type": "code",
   "execution_count": 24,
   "metadata": {
    "ExecuteTime": {
     "end_time": "2020-09-22T07:59:47.552708Z",
     "start_time": "2020-09-22T07:59:47.417520Z"
    }
   },
   "outputs": [
    {
     "data": {
      "text/plain": [
       "(39613, 4)"
      ]
     },
     "execution_count": 24,
     "metadata": {},
     "output_type": "execute_result"
    }
   ],
   "source": [
    "calls_data[calls_data.duration == 0.0].shape"
   ]
  },
  {
   "cell_type": "markdown",
   "metadata": {},
   "source": [
    "### Вывод"
   ]
  },
  {
   "cell_type": "markdown",
   "metadata": {},
   "source": [
    "Только в одной таблице обнаружены пропуски - таблица _users_data_, столбец _churn_date_ (дата окончания действия тарифа). В поставленной задаче данные этого столбца учитываться не будут, поэтому обработка пропусков не требуется.\n",
    "\n",
    "В таблице calls_data множество звонков (39613) с длительностью 0.0 минут. Предположительно, это пропущенные звонки.\n",
    "\n",
    "Неверно интерпретируется тип столбцов с датой  - потребуется приведение типов (формат _таблица-столбец_ ):\n",
    "* _users_data_ - _churn_date, reg_date_\n",
    "* _messages_data_ - _message_date_\n",
    "* _calls_data_ - _call_date_\n",
    "* _internet_data_ - _session_date_\n",
    "\n",
    "В таблице _internet_data_ присутствует столбец без названия _\"Unnamed: 0\"_."
   ]
  },
  {
   "cell_type": "markdown",
   "metadata": {},
   "source": [
    "## 3. Подготовка данных"
   ]
  },
  {
   "cell_type": "markdown",
   "metadata": {},
   "source": [
    "### 3.1. Преобразование типов данных"
   ]
  },
  {
   "cell_type": "markdown",
   "metadata": {},
   "source": [
    "В каждой таблице тип данных столбцов с датами - строки. Преобразуем тип в _datetime_."
   ]
  },
  {
   "cell_type": "code",
   "execution_count": 25,
   "metadata": {
    "ExecuteTime": {
     "end_time": "2020-09-22T07:59:48.946657Z",
     "start_time": "2020-09-22T07:59:48.729912Z"
    }
   },
   "outputs": [
    {
     "name": "stdout",
     "output_type": "stream",
     "text": [
      "datetime64[ns]\n",
      "datetime64[ns]\n",
      "datetime64[ns]\n",
      "datetime64[ns]\n",
      "datetime64[ns]\n"
     ]
    }
   ],
   "source": [
    "# В цикле осуществляем преобразование типов столбцов с датами\n",
    "\n",
    "columns = ['churn_date', 'reg_date', 'message_date', 'call_date', 'session_date']\n",
    "tables =  [users_data, users_data, messages_data, calls_data, internet_data]\n",
    "table_names =  ['users_data', 'users_data', 'messages_data', 'calls_data', 'internet_data']\n",
    "\n",
    "for name, table, column in zip(table_names, tables, columns):\n",
    "    table[column] = pd.to_datetime(table[column], format=\"%Y-%m-%d\")\n",
    "    print(table[[column]].dtypes[0])"
   ]
  },
  {
   "cell_type": "markdown",
   "metadata": {},
   "source": [
    "### 3.2. Исправление ошибок"
   ]
  },
  {
   "cell_type": "markdown",
   "metadata": {},
   "source": [
    "В таблице _internet_data_ присутствует столбец без названия _\"Unnamed: 0\"_ , который совпадает с индексом. Предположительно, при сохранении в данных в текстовом формате, индекс был сохранен как столбец. Удалим столбец _\"Unnamed: 0\"_, так как он не понадобится при анализе."
   ]
  },
  {
   "cell_type": "code",
   "execution_count": 26,
   "metadata": {
    "ExecuteTime": {
     "end_time": "2020-09-22T07:59:49.002632Z",
     "start_time": "2020-09-22T07:59:48.951914Z"
    }
   },
   "outputs": [
    {
     "data": {
      "text/html": [
       "<div>\n",
       "<style scoped>\n",
       "    .dataframe tbody tr th:only-of-type {\n",
       "        vertical-align: middle;\n",
       "    }\n",
       "\n",
       "    .dataframe tbody tr th {\n",
       "        vertical-align: top;\n",
       "    }\n",
       "\n",
       "    .dataframe thead th {\n",
       "        text-align: right;\n",
       "    }\n",
       "</style>\n",
       "<table border=\"1\" class=\"dataframe\">\n",
       "  <thead>\n",
       "    <tr style=\"text-align: right;\">\n",
       "      <th></th>\n",
       "      <th>id</th>\n",
       "      <th>mb_used</th>\n",
       "      <th>session_date</th>\n",
       "      <th>user_id</th>\n",
       "    </tr>\n",
       "  </thead>\n",
       "  <tbody>\n",
       "    <tr>\n",
       "      <th>112284</th>\n",
       "      <td>1380_413</td>\n",
       "      <td>75.76</td>\n",
       "      <td>2018-09-14</td>\n",
       "      <td>1380</td>\n",
       "    </tr>\n",
       "    <tr>\n",
       "      <th>127598</th>\n",
       "      <td>1428_36</td>\n",
       "      <td>80.93</td>\n",
       "      <td>2018-10-13</td>\n",
       "      <td>1428</td>\n",
       "    </tr>\n",
       "    <tr>\n",
       "      <th>114989</th>\n",
       "      <td>1388_6</td>\n",
       "      <td>368.34</td>\n",
       "      <td>2018-11-12</td>\n",
       "      <td>1388</td>\n",
       "    </tr>\n",
       "    <tr>\n",
       "      <th>22737</th>\n",
       "      <td>1076_377</td>\n",
       "      <td>0.00</td>\n",
       "      <td>2018-10-05</td>\n",
       "      <td>1076</td>\n",
       "    </tr>\n",
       "    <tr>\n",
       "      <th>131471</th>\n",
       "      <td>1436_437</td>\n",
       "      <td>577.84</td>\n",
       "      <td>2018-12-15</td>\n",
       "      <td>1436</td>\n",
       "    </tr>\n",
       "  </tbody>\n",
       "</table>\n",
       "</div>"
      ],
      "text/plain": [
       "              id  mb_used session_date  user_id\n",
       "112284  1380_413    75.76   2018-09-14     1380\n",
       "127598   1428_36    80.93   2018-10-13     1428\n",
       "114989    1388_6   368.34   2018-11-12     1388\n",
       "22737   1076_377     0.00   2018-10-05     1076\n",
       "131471  1436_437   577.84   2018-12-15     1436"
      ]
     },
     "execution_count": 26,
     "metadata": {},
     "output_type": "execute_result"
    }
   ],
   "source": [
    "internet_data.drop(['Unnamed: 0'], axis=1, inplace=True)\n",
    "\n",
    "# проверка\n",
    "internet_data.sample(5)"
   ]
  },
  {
   "cell_type": "markdown",
   "metadata": {},
   "source": [
    "В таблицах _users_data, calls_data, messages_data, internet_data_ строковые данные столбцов _city, first_name, last_name, id, tariff_ приведем к одному регистру (нижнему)."
   ]
  },
  {
   "cell_type": "code",
   "execution_count": 27,
   "metadata": {
    "ExecuteTime": {
     "end_time": "2020-09-22T07:59:49.500580Z",
     "start_time": "2020-09-22T07:59:49.006106Z"
    }
   },
   "outputs": [
    {
     "name": "stdout",
     "output_type": "stream",
     "text": [
      "\n",
      "Table users_data, column city:\n",
      "           city\n",
      "292  красноярск\n",
      "260      москва\n",
      "400      москва\n",
      "\n",
      "Table users_data, column first_name:\n",
      "    first_name\n",
      "176      радим\n",
      "289     таисия\n",
      "339   григорий\n",
      "\n",
      "Table users_data, column last_name:\n",
      "    last_name\n",
      "135  воронина\n",
      "184  тарасова\n",
      "489  гончаров\n",
      "\n",
      "Table users_data, column tariff:\n",
      "    tariff\n",
      "379  ultra\n",
      "480  smart\n",
      "341  ultra\n",
      "\n",
      "Table calls_data, column id:\n",
      "              id\n",
      "143770  1363_682\n",
      "15644    1043_68\n",
      "69518   1174_558\n",
      "\n",
      "Table messages_data, column id:\n",
      "              id\n",
      "105666   1426_96\n",
      "29062    1127_85\n",
      "11007   1045_586\n",
      "\n",
      "Table internet_data, column id:\n",
      "              id\n",
      "136467  1457_309\n",
      "64901    1221_14\n",
      "76352    1256_57\n"
     ]
    }
   ],
   "source": [
    "str_columns = [\n",
    "    ('users_data', users_data, 'city'),\n",
    "    ('users_data', users_data, 'first_name'),\n",
    "    ('users_data', users_data, 'last_name'),\n",
    "    ('users_data', users_data, 'tariff'),\n",
    "    ('calls_data', calls_data, 'id'),\n",
    "    ('messages_data', messages_data, 'id'),\n",
    "    ('internet_data', internet_data, 'id')\n",
    "]\n",
    "\n",
    "for name, table, column in str_columns:\n",
    "    table[column] = table[column].str.lower()\n",
    "    \n",
    "    # проверка\n",
    "    print('\\nTable {}, column {}:'.format(name, column))\n",
    "    print(table[[column]].sample(3))"
   ]
  },
  {
   "cell_type": "markdown",
   "metadata": {},
   "source": [
    "### 3.3. Дубликаты"
   ]
  },
  {
   "cell_type": "code",
   "execution_count": 28,
   "metadata": {
    "ExecuteTime": {
     "end_time": "2020-09-22T07:59:49.810712Z",
     "start_time": "2020-09-22T07:59:49.503210Z"
    },
    "scrolled": true
   },
   "outputs": [
    {
     "name": "stdout",
     "output_type": "stream",
     "text": [
      "\n",
      "Дубликаты в таблице users_data:\n",
      "False    500\n",
      "dtype: int64\n",
      "\n",
      "Дубликаты в таблице calls_data:\n",
      "False    202607\n",
      "dtype: int64\n",
      "\n",
      "Дубликаты в таблице messages_data:\n",
      "False    123036\n",
      "dtype: int64\n",
      "\n",
      "Дубликаты в таблице internet_data:\n",
      "False    149396\n",
      "dtype: int64\n",
      "\n",
      "Дубликаты в таблице tariffs_data:\n",
      "False    2\n",
      "dtype: int64\n"
     ]
    }
   ],
   "source": [
    "items = [\n",
    "    ('users_data', users_data),\n",
    "    ('calls_data', calls_data),\n",
    "    ('messages_data', messages_data),\n",
    "    ('internet_data', internet_data),\n",
    "    ('tariffs_data', tariffs_data)\n",
    "]\n",
    "\n",
    "for name, df in items:\n",
    "    print(\"\\nДубликаты в таблице {}:\".format(name))\n",
    "    print(df.duplicated().value_counts())"
   ]
  },
  {
   "cell_type": "markdown",
   "metadata": {},
   "source": [
    "Дублирование данных в таблицах отсутствует."
   ]
  },
  {
   "cell_type": "code",
   "execution_count": 29,
   "metadata": {
    "ExecuteTime": {
     "end_time": "2020-09-22T07:59:49.833706Z",
     "start_time": "2020-09-22T07:59:49.814024Z"
    },
    "scrolled": true
   },
   "outputs": [
    {
     "data": {
      "text/plain": [
       "0.00    39613\n",
       "0.01      101\n",
       "0.02       84\n",
       "0.03       80\n",
       "0.04       85\n",
       "Name: duration, dtype: int64"
      ]
     },
     "execution_count": 29,
     "metadata": {},
     "output_type": "execute_result"
    }
   ],
   "source": [
    "# посмотрим количество самых минимальных значений\n",
    "calls_data['duration'].value_counts().sort_index().head(5)"
   ]
  },
  {
   "cell_type": "code",
   "execution_count": 30,
   "metadata": {
    "ExecuteTime": {
     "end_time": "2020-09-22T07:59:49.949218Z",
     "start_time": "2020-09-22T07:59:49.837067Z"
    }
   },
   "outputs": [
    {
     "data": {
      "text/plain": [
       "0.00    19598\n",
       "0.03        1\n",
       "0.04        1\n",
       "0.06        1\n",
       "0.07        2\n",
       "Name: mb_used, dtype: int64"
      ]
     },
     "execution_count": 30,
     "metadata": {},
     "output_type": "execute_result"
    }
   ],
   "source": [
    "# посмотрим количество самых минимальных значений для трафика\n",
    "internet_data['mb_used'].value_counts().sort_index().head(5)"
   ]
  },
  {
   "cell_type": "markdown",
   "metadata": {},
   "source": [
    "В данных присуствуют нулевые значения, а также значения до 1 минуты и до 1 мегабайта. Учитывая специфику работы ПО мобильных операторов:\n",
    "\n",
    "_подсчет минут осуществляется по принципу N+1_\n",
    "\n",
    "а также замечание при постановке задачи:\n",
    "\n",
    "_оператор всегда округляет вверх значения минут и мегабайтов. Если пользователь проговорил всего 1 секунду, в тарифе засчитывается целая минута._\n",
    "\n",
    "а также замечания ревьюера, выполним округление значений N+1 в бОльшую сторону для длительности вызовов и использованного траффика."
   ]
  },
  {
   "cell_type": "code",
   "execution_count": 31,
   "metadata": {
    "ExecuteTime": {
     "end_time": "2020-09-22T07:59:50.304467Z",
     "start_time": "2020-09-22T07:59:49.952611Z"
    }
   },
   "outputs": [
    {
     "name": "stdout",
     "output_type": "stream",
     "text": [
      "1    39613\n",
      "2     8402\n",
      "3     9194\n",
      "4    10362\n",
      "5    10918\n",
      "Name: duration, dtype: int64\n",
      "1    19598\n",
      "2      102\n",
      "3       98\n",
      "4       96\n",
      "5      100\n",
      "Name: mb_used, dtype: int64\n"
     ]
    }
   ],
   "source": [
    "calls_data['duration'] = calls_data['duration'].apply(lambda x: math.ceil(x + 1))\n",
    "internet_data['mb_used'] = internet_data['mb_used'].apply(lambda x: math.ceil(x + 1))\n",
    "\n",
    "print(calls_data['duration'].value_counts().sort_index().head(5))\n",
    "print(internet_data['mb_used'].value_counts().sort_index().head(5))"
   ]
  },
  {
   "cell_type": "markdown",
   "metadata": {},
   "source": [
    "### 3.4. Насыщение данных"
   ]
  },
  {
   "cell_type": "markdown",
   "metadata": {},
   "source": [
    "Для удобства рассчетов для каждой даты каждой таблицы добавим отдельную колонку с месяцем."
   ]
  },
  {
   "cell_type": "code",
   "execution_count": 32,
   "metadata": {
    "ExecuteTime": {
     "end_time": "2020-09-22T07:59:50.420335Z",
     "start_time": "2020-09-22T07:59:50.307979Z"
    }
   },
   "outputs": [
    {
     "name": "stdout",
     "output_type": "stream",
     "text": [
      "month\tint64\n",
      "month\tint64\n",
      "month\tint64\n",
      "month\tint64\n",
      "month\tint64\n"
     ]
    }
   ],
   "source": [
    "tables = [users_data, calls_data, messages_data, internet_data, tariffs_data]\n",
    "\n",
    "for tab in tables:\n",
    "    for col in tab.columns.to_list():\n",
    "        if 'date' in col:\n",
    "            tab['month'] = tab[col].dt.month\n",
    "            \n",
    "            # для пропущенных значений заполним 0 и переведем в тип int\n",
    "            if tab['month'].isna().count():\n",
    "                tab['month'].fillna(0, inplace=True)\n",
    "                tab['month'] = tab['month'].astype('int')\n",
    "                \n",
    "            # проверка\n",
    "            print(\"{}\\t{}\".format('month', tab['month'].dtypes))"
   ]
  },
  {
   "cell_type": "markdown",
   "metadata": {},
   "source": [
    "**Количество сделанных звонков и израсходованных минут разговора по месяцам для каждого пользователя**"
   ]
  },
  {
   "cell_type": "code",
   "execution_count": 33,
   "metadata": {
    "ExecuteTime": {
     "end_time": "2020-09-22T07:59:50.541998Z",
     "start_time": "2020-09-22T07:59:50.423442Z"
    }
   },
   "outputs": [
    {
     "data": {
      "text/html": [
       "<div>\n",
       "<style scoped>\n",
       "    .dataframe tbody tr th:only-of-type {\n",
       "        vertical-align: middle;\n",
       "    }\n",
       "\n",
       "    .dataframe tbody tr th {\n",
       "        vertical-align: top;\n",
       "    }\n",
       "\n",
       "    .dataframe thead th {\n",
       "        text-align: right;\n",
       "    }\n",
       "</style>\n",
       "<table border=\"1\" class=\"dataframe\">\n",
       "  <thead>\n",
       "    <tr style=\"text-align: right;\">\n",
       "      <th></th>\n",
       "      <th>id</th>\n",
       "      <th>call_date</th>\n",
       "      <th>duration</th>\n",
       "      <th>user_id</th>\n",
       "      <th>month</th>\n",
       "      <th>minutes_per_month</th>\n",
       "    </tr>\n",
       "  </thead>\n",
       "  <tbody>\n",
       "    <tr>\n",
       "      <th>42509</th>\n",
       "      <td>1104_411</td>\n",
       "      <td>2018-07-10</td>\n",
       "      <td>18</td>\n",
       "      <td>1104</td>\n",
       "      <td>7</td>\n",
       "      <td>434</td>\n",
       "    </tr>\n",
       "    <tr>\n",
       "      <th>186319</th>\n",
       "      <td>1460_237</td>\n",
       "      <td>2018-12-02</td>\n",
       "      <td>7</td>\n",
       "      <td>1460</td>\n",
       "      <td>12</td>\n",
       "      <td>770</td>\n",
       "    </tr>\n",
       "    <tr>\n",
       "      <th>11347</th>\n",
       "      <td>1029_236</td>\n",
       "      <td>2018-11-25</td>\n",
       "      <td>7</td>\n",
       "      <td>1029</td>\n",
       "      <td>11</td>\n",
       "      <td>772</td>\n",
       "    </tr>\n",
       "    <tr>\n",
       "      <th>26221</th>\n",
       "      <td>1065_308</td>\n",
       "      <td>2018-05-26</td>\n",
       "      <td>2</td>\n",
       "      <td>1065</td>\n",
       "      <td>5</td>\n",
       "      <td>630</td>\n",
       "    </tr>\n",
       "    <tr>\n",
       "      <th>58511</th>\n",
       "      <td>1147_226</td>\n",
       "      <td>2018-07-14</td>\n",
       "      <td>7</td>\n",
       "      <td>1147</td>\n",
       "      <td>7</td>\n",
       "      <td>280</td>\n",
       "    </tr>\n",
       "    <tr>\n",
       "      <th>200199</th>\n",
       "      <td>1492_510</td>\n",
       "      <td>2018-10-13</td>\n",
       "      <td>7</td>\n",
       "      <td>1492</td>\n",
       "      <td>10</td>\n",
       "      <td>707</td>\n",
       "    </tr>\n",
       "    <tr>\n",
       "      <th>102470</th>\n",
       "      <td>1263_347</td>\n",
       "      <td>2018-06-30</td>\n",
       "      <td>1</td>\n",
       "      <td>1263</td>\n",
       "      <td>6</td>\n",
       "      <td>692</td>\n",
       "    </tr>\n",
       "    <tr>\n",
       "      <th>184979</th>\n",
       "      <td>1458_271</td>\n",
       "      <td>2018-12-25</td>\n",
       "      <td>2</td>\n",
       "      <td>1458</td>\n",
       "      <td>12</td>\n",
       "      <td>970</td>\n",
       "    </tr>\n",
       "    <tr>\n",
       "      <th>98393</th>\n",
       "      <td>1250_313</td>\n",
       "      <td>2018-08-28</td>\n",
       "      <td>19</td>\n",
       "      <td>1250</td>\n",
       "      <td>8</td>\n",
       "      <td>467</td>\n",
       "    </tr>\n",
       "    <tr>\n",
       "      <th>78787</th>\n",
       "      <td>1196_1019</td>\n",
       "      <td>2018-09-07</td>\n",
       "      <td>6</td>\n",
       "      <td>1196</td>\n",
       "      <td>9</td>\n",
       "      <td>1313</td>\n",
       "    </tr>\n",
       "  </tbody>\n",
       "</table>\n",
       "</div>"
      ],
      "text/plain": [
       "               id  call_date  duration  user_id  month  minutes_per_month\n",
       "42509    1104_411 2018-07-10        18     1104      7                434\n",
       "186319   1460_237 2018-12-02         7     1460     12                770\n",
       "11347    1029_236 2018-11-25         7     1029     11                772\n",
       "26221    1065_308 2018-05-26         2     1065      5                630\n",
       "58511    1147_226 2018-07-14         7     1147      7                280\n",
       "200199   1492_510 2018-10-13         7     1492     10                707\n",
       "102470   1263_347 2018-06-30         1     1263      6                692\n",
       "184979   1458_271 2018-12-25         2     1458     12                970\n",
       "98393    1250_313 2018-08-28        19     1250      8                467\n",
       "78787   1196_1019 2018-09-07         6     1196      9               1313"
      ]
     },
     "execution_count": 33,
     "metadata": {},
     "output_type": "execute_result"
    }
   ],
   "source": [
    "calls_data['minutes_per_month'] = calls_data.groupby(['user_id','month'])['duration'].transform('sum')\n",
    "calls_data.sort_values(by=['user_id','call_date']).sample(10)"
   ]
  },
  {
   "cell_type": "markdown",
   "metadata": {},
   "source": [
    "**Количество отправленных сообщений по месяцам для каждого пользователя**"
   ]
  },
  {
   "cell_type": "code",
   "execution_count": 34,
   "metadata": {
    "ExecuteTime": {
     "end_time": "2020-09-22T07:59:50.632658Z",
     "start_time": "2020-09-22T07:59:50.545365Z"
    }
   },
   "outputs": [
    {
     "data": {
      "text/html": [
       "<div>\n",
       "<style scoped>\n",
       "    .dataframe tbody tr th:only-of-type {\n",
       "        vertical-align: middle;\n",
       "    }\n",
       "\n",
       "    .dataframe tbody tr th {\n",
       "        vertical-align: top;\n",
       "    }\n",
       "\n",
       "    .dataframe thead th {\n",
       "        text-align: right;\n",
       "    }\n",
       "</style>\n",
       "<table border=\"1\" class=\"dataframe\">\n",
       "  <thead>\n",
       "    <tr style=\"text-align: right;\">\n",
       "      <th></th>\n",
       "      <th>id</th>\n",
       "      <th>message_date</th>\n",
       "      <th>user_id</th>\n",
       "      <th>month</th>\n",
       "      <th>message_per_month</th>\n",
       "    </tr>\n",
       "  </thead>\n",
       "  <tbody>\n",
       "    <tr>\n",
       "      <th>9666</th>\n",
       "      <td>1039_322</td>\n",
       "      <td>2018-08-22</td>\n",
       "      <td>1039</td>\n",
       "      <td>8</td>\n",
       "      <td>119</td>\n",
       "    </tr>\n",
       "    <tr>\n",
       "      <th>51670</th>\n",
       "      <td>1231_291</td>\n",
       "      <td>2018-06-19</td>\n",
       "      <td>1231</td>\n",
       "      <td>6</td>\n",
       "      <td>201</td>\n",
       "    </tr>\n",
       "    <tr>\n",
       "      <th>99230</th>\n",
       "      <td>1404_370</td>\n",
       "      <td>2018-06-11</td>\n",
       "      <td>1404</td>\n",
       "      <td>6</td>\n",
       "      <td>57</td>\n",
       "    </tr>\n",
       "    <tr>\n",
       "      <th>31589</th>\n",
       "      <td>1142_108</td>\n",
       "      <td>2018-10-04</td>\n",
       "      <td>1142</td>\n",
       "      <td>10</td>\n",
       "      <td>44</td>\n",
       "    </tr>\n",
       "    <tr>\n",
       "      <th>25778</th>\n",
       "      <td>1105_167</td>\n",
       "      <td>2018-10-27</td>\n",
       "      <td>1105</td>\n",
       "      <td>10</td>\n",
       "      <td>70</td>\n",
       "    </tr>\n",
       "    <tr>\n",
       "      <th>115065</th>\n",
       "      <td>1471_293</td>\n",
       "      <td>2018-08-27</td>\n",
       "      <td>1471</td>\n",
       "      <td>8</td>\n",
       "      <td>107</td>\n",
       "    </tr>\n",
       "    <tr>\n",
       "      <th>101734</th>\n",
       "      <td>1416_51</td>\n",
       "      <td>2018-11-22</td>\n",
       "      <td>1416</td>\n",
       "      <td>11</td>\n",
       "      <td>89</td>\n",
       "    </tr>\n",
       "    <tr>\n",
       "      <th>47752</th>\n",
       "      <td>1212_63</td>\n",
       "      <td>2018-11-11</td>\n",
       "      <td>1212</td>\n",
       "      <td>11</td>\n",
       "      <td>103</td>\n",
       "    </tr>\n",
       "    <tr>\n",
       "      <th>112318</th>\n",
       "      <td>1453_343</td>\n",
       "      <td>2018-12-13</td>\n",
       "      <td>1453</td>\n",
       "      <td>12</td>\n",
       "      <td>53</td>\n",
       "    </tr>\n",
       "    <tr>\n",
       "      <th>22463</th>\n",
       "      <td>1093_345</td>\n",
       "      <td>2018-07-28</td>\n",
       "      <td>1093</td>\n",
       "      <td>7</td>\n",
       "      <td>85</td>\n",
       "    </tr>\n",
       "  </tbody>\n",
       "</table>\n",
       "</div>"
      ],
      "text/plain": [
       "              id message_date  user_id  month  message_per_month\n",
       "9666    1039_322   2018-08-22     1039      8                119\n",
       "51670   1231_291   2018-06-19     1231      6                201\n",
       "99230   1404_370   2018-06-11     1404      6                 57\n",
       "31589   1142_108   2018-10-04     1142     10                 44\n",
       "25778   1105_167   2018-10-27     1105     10                 70\n",
       "115065  1471_293   2018-08-27     1471      8                107\n",
       "101734   1416_51   2018-11-22     1416     11                 89\n",
       "47752    1212_63   2018-11-11     1212     11                103\n",
       "112318  1453_343   2018-12-13     1453     12                 53\n",
       "22463   1093_345   2018-07-28     1093      7                 85"
      ]
     },
     "execution_count": 34,
     "metadata": {},
     "output_type": "execute_result"
    }
   ],
   "source": [
    "messages_data['message_per_month'] = messages_data.groupby(['user_id', 'month'])['id'].transform('count')\n",
    "messages_data.sort_values(by=['user_id','message_date']).sample(10)"
   ]
  },
  {
   "cell_type": "markdown",
   "metadata": {},
   "source": [
    "**Объем израсходованного интернет-трафика по месяцам для каждого пользователя**"
   ]
  },
  {
   "cell_type": "code",
   "execution_count": 35,
   "metadata": {
    "ExecuteTime": {
     "end_time": "2020-09-22T07:59:50.720136Z",
     "start_time": "2020-09-22T07:59:50.636018Z"
    }
   },
   "outputs": [
    {
     "data": {
      "text/html": [
       "<div>\n",
       "<style scoped>\n",
       "    .dataframe tbody tr th:only-of-type {\n",
       "        vertical-align: middle;\n",
       "    }\n",
       "\n",
       "    .dataframe tbody tr th {\n",
       "        vertical-align: top;\n",
       "    }\n",
       "\n",
       "    .dataframe thead th {\n",
       "        text-align: right;\n",
       "    }\n",
       "</style>\n",
       "<table border=\"1\" class=\"dataframe\">\n",
       "  <thead>\n",
       "    <tr style=\"text-align: right;\">\n",
       "      <th></th>\n",
       "      <th>id</th>\n",
       "      <th>mb_used</th>\n",
       "      <th>session_date</th>\n",
       "      <th>user_id</th>\n",
       "      <th>month</th>\n",
       "      <th>mb_per_month</th>\n",
       "    </tr>\n",
       "  </thead>\n",
       "  <tbody>\n",
       "    <tr>\n",
       "      <th>113058</th>\n",
       "      <td>1382_51</td>\n",
       "      <td>547</td>\n",
       "      <td>2018-12-17</td>\n",
       "      <td>1382</td>\n",
       "      <td>12</td>\n",
       "      <td>9235</td>\n",
       "    </tr>\n",
       "    <tr>\n",
       "      <th>57201</th>\n",
       "      <td>1190_43</td>\n",
       "      <td>641</td>\n",
       "      <td>2018-12-07</td>\n",
       "      <td>1190</td>\n",
       "      <td>12</td>\n",
       "      <td>12113</td>\n",
       "    </tr>\n",
       "    <tr>\n",
       "      <th>122219</th>\n",
       "      <td>1412_93</td>\n",
       "      <td>1</td>\n",
       "      <td>2018-07-08</td>\n",
       "      <td>1412</td>\n",
       "      <td>7</td>\n",
       "      <td>40906</td>\n",
       "    </tr>\n",
       "    <tr>\n",
       "      <th>23765</th>\n",
       "      <td>1081_60</td>\n",
       "      <td>446</td>\n",
       "      <td>2018-12-02</td>\n",
       "      <td>1081</td>\n",
       "      <td>12</td>\n",
       "      <td>19498</td>\n",
       "    </tr>\n",
       "    <tr>\n",
       "      <th>18342</th>\n",
       "      <td>1064_61</td>\n",
       "      <td>182</td>\n",
       "      <td>2018-08-13</td>\n",
       "      <td>1064</td>\n",
       "      <td>8</td>\n",
       "      <td>24188</td>\n",
       "    </tr>\n",
       "    <tr>\n",
       "      <th>74425</th>\n",
       "      <td>1250_385</td>\n",
       "      <td>216</td>\n",
       "      <td>2018-05-30</td>\n",
       "      <td>1250</td>\n",
       "      <td>5</td>\n",
       "      <td>15208</td>\n",
       "    </tr>\n",
       "    <tr>\n",
       "      <th>97052</th>\n",
       "      <td>1326_415</td>\n",
       "      <td>147</td>\n",
       "      <td>2018-09-23</td>\n",
       "      <td>1326</td>\n",
       "      <td>9</td>\n",
       "      <td>20312</td>\n",
       "    </tr>\n",
       "    <tr>\n",
       "      <th>35996</th>\n",
       "      <td>1125_119</td>\n",
       "      <td>921</td>\n",
       "      <td>2018-12-15</td>\n",
       "      <td>1125</td>\n",
       "      <td>12</td>\n",
       "      <td>16094</td>\n",
       "    </tr>\n",
       "    <tr>\n",
       "      <th>115296</th>\n",
       "      <td>1389_14</td>\n",
       "      <td>419</td>\n",
       "      <td>2018-08-26</td>\n",
       "      <td>1389</td>\n",
       "      <td>8</td>\n",
       "      <td>21703</td>\n",
       "    </tr>\n",
       "    <tr>\n",
       "      <th>220</th>\n",
       "      <td>1001_9</td>\n",
       "      <td>413</td>\n",
       "      <td>2018-12-16</td>\n",
       "      <td>1001</td>\n",
       "      <td>12</td>\n",
       "      <td>14094</td>\n",
       "    </tr>\n",
       "  </tbody>\n",
       "</table>\n",
       "</div>"
      ],
      "text/plain": [
       "              id  mb_used session_date  user_id  month  mb_per_month\n",
       "113058   1382_51      547   2018-12-17     1382     12          9235\n",
       "57201    1190_43      641   2018-12-07     1190     12         12113\n",
       "122219   1412_93        1   2018-07-08     1412      7         40906\n",
       "23765    1081_60      446   2018-12-02     1081     12         19498\n",
       "18342    1064_61      182   2018-08-13     1064      8         24188\n",
       "74425   1250_385      216   2018-05-30     1250      5         15208\n",
       "97052   1326_415      147   2018-09-23     1326      9         20312\n",
       "35996   1125_119      921   2018-12-15     1125     12         16094\n",
       "115296   1389_14      419   2018-08-26     1389      8         21703\n",
       "220       1001_9      413   2018-12-16     1001     12         14094"
      ]
     },
     "execution_count": 35,
     "metadata": {},
     "output_type": "execute_result"
    }
   ],
   "source": [
    "internet_data['mb_per_month'] = internet_data.groupby(['user_id', 'month'])['mb_used'].transform('sum')\n",
    "internet_data.sort_values(by=['user_id', 'session_date']).sample(10)"
   ]
  },
  {
   "cell_type": "markdown",
   "metadata": {
    "ExecuteTime": {
     "end_time": "2020-06-24T21:09:32.334044Z",
     "start_time": "2020-06-24T21:09:32.190715Z"
    }
   },
   "source": [
    "**Помесячная выручка с каждого пользователя**"
   ]
  },
  {
   "cell_type": "code",
   "execution_count": 36,
   "metadata": {
    "ExecuteTime": {
     "end_time": "2020-09-22T07:59:50.842017Z",
     "start_time": "2020-09-22T07:59:50.723414Z"
    }
   },
   "outputs": [],
   "source": [
    "# подготавливаем необходимые данные, чтобы соединить в одну таблицу\n",
    "\n",
    "# выделение нужных столбцов\n",
    "data_list = [\n",
    "    calls_data[['user_id','month','minutes_per_month']],\n",
    "    messages_data[['user_id', 'month', 'message_per_month']],\n",
    "    internet_data[['user_id', 'month', 'mb_per_month']]\n",
    "]\n",
    "\n",
    "# будем использовать join(), поэтому для корректного объединения будем \n",
    "# использовать мульти-индекс 'пользователь-месяц'\n",
    "data_for_join = [ df.drop_duplicates().set_index(['user_id','month']) for df in data_list ]"
   ]
  },
  {
   "cell_type": "code",
   "execution_count": 37,
   "metadata": {
    "ExecuteTime": {
     "end_time": "2020-09-22T07:59:50.949621Z",
     "start_time": "2020-09-22T07:59:50.844725Z"
    }
   },
   "outputs": [
    {
     "data": {
      "text/html": [
       "<div>\n",
       "<style scoped>\n",
       "    .dataframe tbody tr th:only-of-type {\n",
       "        vertical-align: middle;\n",
       "    }\n",
       "\n",
       "    .dataframe tbody tr th {\n",
       "        vertical-align: top;\n",
       "    }\n",
       "\n",
       "    .dataframe thead th {\n",
       "        text-align: right;\n",
       "    }\n",
       "</style>\n",
       "<table border=\"1\" class=\"dataframe\">\n",
       "  <thead>\n",
       "    <tr style=\"text-align: right;\">\n",
       "      <th></th>\n",
       "      <th>user_id</th>\n",
       "      <th>month</th>\n",
       "      <th>minutes_per_month</th>\n",
       "      <th>message_per_month</th>\n",
       "      <th>mb_per_month</th>\n",
       "    </tr>\n",
       "  </thead>\n",
       "  <tbody>\n",
       "    <tr>\n",
       "      <th>2904</th>\n",
       "      <td>1457</td>\n",
       "      <td>5</td>\n",
       "      <td>560.0</td>\n",
       "      <td>28.0</td>\n",
       "      <td>22665.0</td>\n",
       "    </tr>\n",
       "    <tr>\n",
       "      <th>178</th>\n",
       "      <td>1027</td>\n",
       "      <td>10</td>\n",
       "      <td>438.0</td>\n",
       "      <td>13.0</td>\n",
       "      <td>22381.0</td>\n",
       "    </tr>\n",
       "    <tr>\n",
       "      <th>984</th>\n",
       "      <td>1157</td>\n",
       "      <td>3</td>\n",
       "      <td>367.0</td>\n",
       "      <td>NaN</td>\n",
       "      <td>15976.0</td>\n",
       "    </tr>\n",
       "    <tr>\n",
       "      <th>1594</th>\n",
       "      <td>1255</td>\n",
       "      <td>2</td>\n",
       "      <td>98.0</td>\n",
       "      <td>NaN</td>\n",
       "      <td>14605.0</td>\n",
       "    </tr>\n",
       "    <tr>\n",
       "      <th>1562</th>\n",
       "      <td>1250</td>\n",
       "      <td>5</td>\n",
       "      <td>444.0</td>\n",
       "      <td>44.0</td>\n",
       "      <td>15208.0</td>\n",
       "    </tr>\n",
       "  </tbody>\n",
       "</table>\n",
       "</div>"
      ],
      "text/plain": [
       "      user_id  month  minutes_per_month  message_per_month  mb_per_month\n",
       "2904     1457      5              560.0               28.0       22665.0\n",
       "178      1027     10              438.0               13.0       22381.0\n",
       "984      1157      3              367.0                NaN       15976.0\n",
       "1594     1255      2               98.0                NaN       14605.0\n",
       "1562     1250      5              444.0               44.0       15208.0"
      ]
     },
     "execution_count": 37,
     "metadata": {},
     "output_type": "execute_result"
    }
   ],
   "source": [
    "# создаем новую таблицу\n",
    "general_data = data_for_join[0].join(data_for_join[1:]).reset_index()\n",
    "general_data.sample(5)"
   ]
  },
  {
   "cell_type": "code",
   "execution_count": 38,
   "metadata": {
    "ExecuteTime": {
     "end_time": "2020-09-22T07:59:50.980933Z",
     "start_time": "2020-09-22T07:59:50.953150Z"
    }
   },
   "outputs": [],
   "source": [
    "# изменим имя столбца для возможности дальнейшего объединения\n",
    "tariffs_data.rename(columns={'tariff_name':'tariff'}, inplace=True)"
   ]
  },
  {
   "cell_type": "code",
   "execution_count": 39,
   "metadata": {
    "ExecuteTime": {
     "end_time": "2020-09-22T07:59:51.098200Z",
     "start_time": "2020-09-22T07:59:50.984121Z"
    }
   },
   "outputs": [],
   "source": [
    "# сразу объединяем с данными о пользователе и тарифном плане\n",
    "# здесь меньше данных, удобнее использовать merge()\n",
    "general_data = (\n",
    "    general_data\n",
    "    .merge(users_data[['user_id','tariff','city']],on='user_id')\n",
    "    .merge(tariffs_data, on='tariff')\n",
    ")"
   ]
  },
  {
   "cell_type": "code",
   "execution_count": 40,
   "metadata": {
    "ExecuteTime": {
     "end_time": "2020-09-22T07:59:51.213549Z",
     "start_time": "2020-09-22T07:59:51.101248Z"
    }
   },
   "outputs": [
    {
     "data": {
      "text/html": [
       "<div>\n",
       "<style scoped>\n",
       "    .dataframe tbody tr th:only-of-type {\n",
       "        vertical-align: middle;\n",
       "    }\n",
       "\n",
       "    .dataframe tbody tr th {\n",
       "        vertical-align: top;\n",
       "    }\n",
       "\n",
       "    .dataframe thead th {\n",
       "        text-align: right;\n",
       "    }\n",
       "</style>\n",
       "<table border=\"1\" class=\"dataframe\">\n",
       "  <thead>\n",
       "    <tr style=\"text-align: right;\">\n",
       "      <th></th>\n",
       "      <th>user_id</th>\n",
       "      <th>month</th>\n",
       "      <th>minutes_per_month</th>\n",
       "      <th>message_per_month</th>\n",
       "      <th>mb_per_month</th>\n",
       "      <th>tariff</th>\n",
       "      <th>city</th>\n",
       "      <th>messages_included</th>\n",
       "      <th>mb_per_month_included</th>\n",
       "      <th>minutes_included</th>\n",
       "      <th>rub_monthly_fee</th>\n",
       "      <th>rub_per_gb</th>\n",
       "      <th>rub_per_message</th>\n",
       "      <th>rub_per_minute</th>\n",
       "    </tr>\n",
       "  </thead>\n",
       "  <tbody>\n",
       "    <tr>\n",
       "      <th>2609</th>\n",
       "      <td>1374</td>\n",
       "      <td>4</td>\n",
       "      <td>635.0</td>\n",
       "      <td>69.0</td>\n",
       "      <td>17828.0</td>\n",
       "      <td>smart</td>\n",
       "      <td>махачкала</td>\n",
       "      <td>50</td>\n",
       "      <td>15360</td>\n",
       "      <td>500</td>\n",
       "      <td>550</td>\n",
       "      <td>200</td>\n",
       "      <td>3</td>\n",
       "      <td>3</td>\n",
       "    </tr>\n",
       "    <tr>\n",
       "      <th>2681</th>\n",
       "      <td>1393</td>\n",
       "      <td>11</td>\n",
       "      <td>695.0</td>\n",
       "      <td>47.0</td>\n",
       "      <td>16227.0</td>\n",
       "      <td>smart</td>\n",
       "      <td>краснодар</td>\n",
       "      <td>50</td>\n",
       "      <td>15360</td>\n",
       "      <td>500</td>\n",
       "      <td>550</td>\n",
       "      <td>200</td>\n",
       "      <td>3</td>\n",
       "      <td>3</td>\n",
       "    </tr>\n",
       "    <tr>\n",
       "      <th>2898</th>\n",
       "      <td>1435</td>\n",
       "      <td>4</td>\n",
       "      <td>352.0</td>\n",
       "      <td>NaN</td>\n",
       "      <td>17504.0</td>\n",
       "      <td>smart</td>\n",
       "      <td>москва</td>\n",
       "      <td>50</td>\n",
       "      <td>15360</td>\n",
       "      <td>500</td>\n",
       "      <td>550</td>\n",
       "      <td>200</td>\n",
       "      <td>3</td>\n",
       "      <td>3</td>\n",
       "    </tr>\n",
       "    <tr>\n",
       "      <th>2200</th>\n",
       "      <td>1274</td>\n",
       "      <td>10</td>\n",
       "      <td>811.0</td>\n",
       "      <td>84.0</td>\n",
       "      <td>16152.0</td>\n",
       "      <td>smart</td>\n",
       "      <td>волгоград</td>\n",
       "      <td>50</td>\n",
       "      <td>15360</td>\n",
       "      <td>500</td>\n",
       "      <td>550</td>\n",
       "      <td>200</td>\n",
       "      <td>3</td>\n",
       "      <td>3</td>\n",
       "    </tr>\n",
       "    <tr>\n",
       "      <th>375</th>\n",
       "      <td>1226</td>\n",
       "      <td>10</td>\n",
       "      <td>195.0</td>\n",
       "      <td>94.0</td>\n",
       "      <td>9538.0</td>\n",
       "      <td>ultra</td>\n",
       "      <td>новосибирск</td>\n",
       "      <td>1000</td>\n",
       "      <td>30720</td>\n",
       "      <td>3000</td>\n",
       "      <td>1950</td>\n",
       "      <td>150</td>\n",
       "      <td>1</td>\n",
       "      <td>1</td>\n",
       "    </tr>\n",
       "  </tbody>\n",
       "</table>\n",
       "</div>"
      ],
      "text/plain": [
       "      user_id  month  minutes_per_month  message_per_month  mb_per_month  \\\n",
       "2609     1374      4              635.0               69.0       17828.0   \n",
       "2681     1393     11              695.0               47.0       16227.0   \n",
       "2898     1435      4              352.0                NaN       17504.0   \n",
       "2200     1274     10              811.0               84.0       16152.0   \n",
       "375      1226     10              195.0               94.0        9538.0   \n",
       "\n",
       "     tariff         city  messages_included  mb_per_month_included  \\\n",
       "2609  smart    махачкала                 50                  15360   \n",
       "2681  smart    краснодар                 50                  15360   \n",
       "2898  smart       москва                 50                  15360   \n",
       "2200  smart    волгоград                 50                  15360   \n",
       "375   ultra  новосибирск               1000                  30720   \n",
       "\n",
       "      minutes_included  rub_monthly_fee  rub_per_gb  rub_per_message  \\\n",
       "2609               500              550         200                3   \n",
       "2681               500              550         200                3   \n",
       "2898               500              550         200                3   \n",
       "2200               500              550         200                3   \n",
       "375               3000             1950         150                1   \n",
       "\n",
       "      rub_per_minute  \n",
       "2609               3  \n",
       "2681               3  \n",
       "2898               3  \n",
       "2200               3  \n",
       "375                1  "
      ]
     },
     "execution_count": 40,
     "metadata": {},
     "output_type": "execute_result"
    }
   ],
   "source": [
    "general_data.sample(5)"
   ]
  },
  {
   "cell_type": "code",
   "execution_count": 41,
   "metadata": {
    "ExecuteTime": {
     "end_time": "2020-09-22T07:59:51.286287Z",
     "start_time": "2020-09-22T07:59:51.217025Z"
    }
   },
   "outputs": [
    {
     "name": "stdout",
     "output_type": "stream",
     "text": [
      "<class 'pandas.core.frame.DataFrame'>\n",
      "Int64Index: 3174 entries, 0 to 3173\n",
      "Data columns (total 14 columns):\n",
      " #   Column                 Non-Null Count  Dtype  \n",
      "---  ------                 --------------  -----  \n",
      " 0   user_id                3174 non-null   int64  \n",
      " 1   month                  3174 non-null   int64  \n",
      " 2   minutes_per_month      3174 non-null   float64\n",
      " 3   message_per_month      2678 non-null   float64\n",
      " 4   mb_per_month           3163 non-null   float64\n",
      " 5   tariff                 3174 non-null   object \n",
      " 6   city                   3174 non-null   object \n",
      " 7   messages_included      3174 non-null   int64  \n",
      " 8   mb_per_month_included  3174 non-null   int64  \n",
      " 9   minutes_included       3174 non-null   int64  \n",
      " 10  rub_monthly_fee        3174 non-null   int64  \n",
      " 11  rub_per_gb             3174 non-null   int64  \n",
      " 12  rub_per_message        3174 non-null   int64  \n",
      " 13  rub_per_minute         3174 non-null   int64  \n",
      "dtypes: float64(3), int64(9), object(2)\n",
      "memory usage: 372.0+ KB\n"
     ]
    }
   ],
   "source": [
    "# проверка - нет ли пропущенных значений\n",
    "general_data.info()"
   ]
  },
  {
   "cell_type": "markdown",
   "metadata": {},
   "source": [
    "Полученная таблица показывает, что одна часть пользователей не пользовалась мобильным интернетом в течение некоторых месяцев, другая - не отправляла сообщения. Заполним пропуски 0."
   ]
  },
  {
   "cell_type": "code",
   "execution_count": 42,
   "metadata": {
    "ExecuteTime": {
     "end_time": "2020-09-22T07:59:51.381965Z",
     "start_time": "2020-09-22T07:59:51.289368Z"
    }
   },
   "outputs": [
    {
     "name": "stdout",
     "output_type": "stream",
     "text": [
      "<class 'pandas.core.frame.DataFrame'>\n",
      "Int64Index: 3174 entries, 0 to 3173\n",
      "Data columns (total 14 columns):\n",
      " #   Column                 Non-Null Count  Dtype  \n",
      "---  ------                 --------------  -----  \n",
      " 0   user_id                3174 non-null   int64  \n",
      " 1   month                  3174 non-null   int64  \n",
      " 2   minutes_per_month      3174 non-null   float64\n",
      " 3   message_per_month      3174 non-null   float64\n",
      " 4   mb_per_month           3174 non-null   float64\n",
      " 5   tariff                 3174 non-null   object \n",
      " 6   city                   3174 non-null   object \n",
      " 7   messages_included      3174 non-null   int64  \n",
      " 8   mb_per_month_included  3174 non-null   int64  \n",
      " 9   minutes_included       3174 non-null   int64  \n",
      " 10  rub_monthly_fee        3174 non-null   int64  \n",
      " 11  rub_per_gb             3174 non-null   int64  \n",
      " 12  rub_per_message        3174 non-null   int64  \n",
      " 13  rub_per_minute         3174 non-null   int64  \n",
      "dtypes: float64(3), int64(9), object(2)\n",
      "memory usage: 372.0+ KB\n"
     ]
    }
   ],
   "source": [
    "general_data[['message_per_month', 'mb_per_month']] = general_data[['message_per_month', 'mb_per_month']].fillna(0)\n",
    "general_data.info()"
   ]
  },
  {
   "cell_type": "code",
   "execution_count": 43,
   "metadata": {
    "ExecuteTime": {
     "end_time": "2020-09-22T07:59:52.215987Z",
     "start_time": "2020-09-22T07:59:51.470675Z"
    }
   },
   "outputs": [
    {
     "data": {
      "text/html": [
       "<div>\n",
       "<style scoped>\n",
       "    .dataframe tbody tr th:only-of-type {\n",
       "        vertical-align: middle;\n",
       "    }\n",
       "\n",
       "    .dataframe tbody tr th {\n",
       "        vertical-align: top;\n",
       "    }\n",
       "\n",
       "    .dataframe thead th {\n",
       "        text-align: right;\n",
       "    }\n",
       "</style>\n",
       "<table border=\"1\" class=\"dataframe\">\n",
       "  <thead>\n",
       "    <tr style=\"text-align: right;\">\n",
       "      <th></th>\n",
       "      <th>user_id</th>\n",
       "      <th>month</th>\n",
       "      <th>minutes_per_month</th>\n",
       "      <th>message_per_month</th>\n",
       "      <th>mb_per_month</th>\n",
       "      <th>tariff</th>\n",
       "      <th>city</th>\n",
       "      <th>messages_included</th>\n",
       "      <th>mb_per_month_included</th>\n",
       "      <th>minutes_included</th>\n",
       "      <th>rub_monthly_fee</th>\n",
       "      <th>rub_per_gb</th>\n",
       "      <th>rub_per_message</th>\n",
       "      <th>rub_per_minute</th>\n",
       "      <th>income</th>\n",
       "    </tr>\n",
       "  </thead>\n",
       "  <tbody>\n",
       "    <tr>\n",
       "      <th>2430</th>\n",
       "      <td>1323</td>\n",
       "      <td>9</td>\n",
       "      <td>566.0</td>\n",
       "      <td>60.0</td>\n",
       "      <td>22951.0</td>\n",
       "      <td>smart</td>\n",
       "      <td>челябинск</td>\n",
       "      <td>50</td>\n",
       "      <td>15360</td>\n",
       "      <td>500</td>\n",
       "      <td>550</td>\n",
       "      <td>200</td>\n",
       "      <td>3</td>\n",
       "      <td>3</td>\n",
       "      <td>2546</td>\n",
       "    </tr>\n",
       "    <tr>\n",
       "      <th>2337</th>\n",
       "      <td>1302</td>\n",
       "      <td>12</td>\n",
       "      <td>221.0</td>\n",
       "      <td>101.0</td>\n",
       "      <td>14413.0</td>\n",
       "      <td>smart</td>\n",
       "      <td>уфа</td>\n",
       "      <td>50</td>\n",
       "      <td>15360</td>\n",
       "      <td>500</td>\n",
       "      <td>550</td>\n",
       "      <td>200</td>\n",
       "      <td>3</td>\n",
       "      <td>3</td>\n",
       "      <td>550</td>\n",
       "    </tr>\n",
       "    <tr>\n",
       "      <th>2746</th>\n",
       "      <td>1408</td>\n",
       "      <td>12</td>\n",
       "      <td>626.0</td>\n",
       "      <td>4.0</td>\n",
       "      <td>14445.0</td>\n",
       "      <td>smart</td>\n",
       "      <td>самара</td>\n",
       "      <td>50</td>\n",
       "      <td>15360</td>\n",
       "      <td>500</td>\n",
       "      <td>550</td>\n",
       "      <td>200</td>\n",
       "      <td>3</td>\n",
       "      <td>3</td>\n",
       "      <td>1306</td>\n",
       "    </tr>\n",
       "    <tr>\n",
       "      <th>549</th>\n",
       "      <td>1325</td>\n",
       "      <td>9</td>\n",
       "      <td>560.0</td>\n",
       "      <td>7.0</td>\n",
       "      <td>23133.0</td>\n",
       "      <td>ultra</td>\n",
       "      <td>новосибирск</td>\n",
       "      <td>1000</td>\n",
       "      <td>30720</td>\n",
       "      <td>3000</td>\n",
       "      <td>1950</td>\n",
       "      <td>150</td>\n",
       "      <td>1</td>\n",
       "      <td>1</td>\n",
       "      <td>1950</td>\n",
       "    </tr>\n",
       "    <tr>\n",
       "      <th>1954</th>\n",
       "      <td>1216</td>\n",
       "      <td>12</td>\n",
       "      <td>1633.0</td>\n",
       "      <td>64.0</td>\n",
       "      <td>20165.0</td>\n",
       "      <td>smart</td>\n",
       "      <td>волгоград</td>\n",
       "      <td>50</td>\n",
       "      <td>15360</td>\n",
       "      <td>500</td>\n",
       "      <td>550</td>\n",
       "      <td>200</td>\n",
       "      <td>3</td>\n",
       "      <td>3</td>\n",
       "      <td>8348</td>\n",
       "    </tr>\n",
       "  </tbody>\n",
       "</table>\n",
       "</div>"
      ],
      "text/plain": [
       "      user_id  month  minutes_per_month  message_per_month  mb_per_month  \\\n",
       "2430     1323      9              566.0               60.0       22951.0   \n",
       "2337     1302     12              221.0              101.0       14413.0   \n",
       "2746     1408     12              626.0                4.0       14445.0   \n",
       "549      1325      9              560.0                7.0       23133.0   \n",
       "1954     1216     12             1633.0               64.0       20165.0   \n",
       "\n",
       "     tariff         city  messages_included  mb_per_month_included  \\\n",
       "2430  smart    челябинск                 50                  15360   \n",
       "2337  smart          уфа                 50                  15360   \n",
       "2746  smart       самара                 50                  15360   \n",
       "549   ultra  новосибирск               1000                  30720   \n",
       "1954  smart    волгоград                 50                  15360   \n",
       "\n",
       "      minutes_included  rub_monthly_fee  rub_per_gb  rub_per_message  \\\n",
       "2430               500              550         200                3   \n",
       "2337               500              550         200                3   \n",
       "2746               500              550         200                3   \n",
       "549               3000             1950         150                1   \n",
       "1954               500              550         200                3   \n",
       "\n",
       "      rub_per_minute  income  \n",
       "2430               3    2546  \n",
       "2337               3     550  \n",
       "2746               3    1306  \n",
       "549                1    1950  \n",
       "1954               3    8348  "
      ]
     },
     "execution_count": 43,
     "metadata": {},
     "output_type": "execute_result"
    }
   ],
   "source": [
    "general_data['income'] = general_data.apply(calculate_income, axis=1)\n",
    "general_data.sample(5)"
   ]
  },
  {
   "cell_type": "markdown",
   "metadata": {},
   "source": [
    "Из  таблицы _general_data_ выделим 2 отдельные таблицы с разными тарифами."
   ]
  },
  {
   "cell_type": "code",
   "execution_count": 44,
   "metadata": {
    "ExecuteTime": {
     "end_time": "2020-09-22T07:59:52.245613Z",
     "start_time": "2020-09-22T07:59:52.219569Z"
    }
   },
   "outputs": [
    {
     "data": {
      "text/html": [
       "<div>\n",
       "<style scoped>\n",
       "    .dataframe tbody tr th:only-of-type {\n",
       "        vertical-align: middle;\n",
       "    }\n",
       "\n",
       "    .dataframe tbody tr th {\n",
       "        vertical-align: top;\n",
       "    }\n",
       "\n",
       "    .dataframe thead th {\n",
       "        text-align: right;\n",
       "    }\n",
       "</style>\n",
       "<table border=\"1\" class=\"dataframe\">\n",
       "  <thead>\n",
       "    <tr style=\"text-align: right;\">\n",
       "      <th></th>\n",
       "      <th>user_id</th>\n",
       "      <th>month</th>\n",
       "      <th>minutes_per_month</th>\n",
       "      <th>message_per_month</th>\n",
       "      <th>mb_per_month</th>\n",
       "      <th>tariff</th>\n",
       "      <th>city</th>\n",
       "      <th>messages_included</th>\n",
       "      <th>mb_per_month_included</th>\n",
       "      <th>minutes_included</th>\n",
       "      <th>rub_monthly_fee</th>\n",
       "      <th>rub_per_gb</th>\n",
       "      <th>rub_per_message</th>\n",
       "      <th>rub_per_minute</th>\n",
       "      <th>income</th>\n",
       "    </tr>\n",
       "  </thead>\n",
       "  <tbody>\n",
       "    <tr>\n",
       "      <th>0</th>\n",
       "      <td>1000</td>\n",
       "      <td>7</td>\n",
       "      <td>387.0</td>\n",
       "      <td>75.0</td>\n",
       "      <td>14045.0</td>\n",
       "      <td>ultra</td>\n",
       "      <td>краснодар</td>\n",
       "      <td>1000</td>\n",
       "      <td>30720</td>\n",
       "      <td>3000</td>\n",
       "      <td>1950</td>\n",
       "      <td>150</td>\n",
       "      <td>1</td>\n",
       "      <td>1</td>\n",
       "      <td>1950</td>\n",
       "    </tr>\n",
       "    <tr>\n",
       "      <th>1</th>\n",
       "      <td>1000</td>\n",
       "      <td>8</td>\n",
       "      <td>460.0</td>\n",
       "      <td>81.0</td>\n",
       "      <td>14099.0</td>\n",
       "      <td>ultra</td>\n",
       "      <td>краснодар</td>\n",
       "      <td>1000</td>\n",
       "      <td>30720</td>\n",
       "      <td>3000</td>\n",
       "      <td>1950</td>\n",
       "      <td>150</td>\n",
       "      <td>1</td>\n",
       "      <td>1</td>\n",
       "      <td>1950</td>\n",
       "    </tr>\n",
       "    <tr>\n",
       "      <th>2</th>\n",
       "      <td>1000</td>\n",
       "      <td>6</td>\n",
       "      <td>215.0</td>\n",
       "      <td>60.0</td>\n",
       "      <td>23306.0</td>\n",
       "      <td>ultra</td>\n",
       "      <td>краснодар</td>\n",
       "      <td>1000</td>\n",
       "      <td>30720</td>\n",
       "      <td>3000</td>\n",
       "      <td>1950</td>\n",
       "      <td>150</td>\n",
       "      <td>1</td>\n",
       "      <td>1</td>\n",
       "      <td>1950</td>\n",
       "    </tr>\n",
       "    <tr>\n",
       "      <th>3</th>\n",
       "      <td>1000</td>\n",
       "      <td>9</td>\n",
       "      <td>524.0</td>\n",
       "      <td>57.0</td>\n",
       "      <td>14608.0</td>\n",
       "      <td>ultra</td>\n",
       "      <td>краснодар</td>\n",
       "      <td>1000</td>\n",
       "      <td>30720</td>\n",
       "      <td>3000</td>\n",
       "      <td>1950</td>\n",
       "      <td>150</td>\n",
       "      <td>1</td>\n",
       "      <td>1</td>\n",
       "      <td>1950</td>\n",
       "    </tr>\n",
       "    <tr>\n",
       "      <th>4</th>\n",
       "      <td>1000</td>\n",
       "      <td>12</td>\n",
       "      <td>379.0</td>\n",
       "      <td>70.0</td>\n",
       "      <td>9848.0</td>\n",
       "      <td>ultra</td>\n",
       "      <td>краснодар</td>\n",
       "      <td>1000</td>\n",
       "      <td>30720</td>\n",
       "      <td>3000</td>\n",
       "      <td>1950</td>\n",
       "      <td>150</td>\n",
       "      <td>1</td>\n",
       "      <td>1</td>\n",
       "      <td>1950</td>\n",
       "    </tr>\n",
       "  </tbody>\n",
       "</table>\n",
       "</div>"
      ],
      "text/plain": [
       "   user_id  month  minutes_per_month  message_per_month  mb_per_month tariff  \\\n",
       "0     1000      7              387.0               75.0       14045.0  ultra   \n",
       "1     1000      8              460.0               81.0       14099.0  ultra   \n",
       "2     1000      6              215.0               60.0       23306.0  ultra   \n",
       "3     1000      9              524.0               57.0       14608.0  ultra   \n",
       "4     1000     12              379.0               70.0        9848.0  ultra   \n",
       "\n",
       "        city  messages_included  mb_per_month_included  minutes_included  \\\n",
       "0  краснодар               1000                  30720              3000   \n",
       "1  краснодар               1000                  30720              3000   \n",
       "2  краснодар               1000                  30720              3000   \n",
       "3  краснодар               1000                  30720              3000   \n",
       "4  краснодар               1000                  30720              3000   \n",
       "\n",
       "   rub_monthly_fee  rub_per_gb  rub_per_message  rub_per_minute  income  \n",
       "0             1950         150                1               1    1950  \n",
       "1             1950         150                1               1    1950  \n",
       "2             1950         150                1               1    1950  \n",
       "3             1950         150                1               1    1950  \n",
       "4             1950         150                1               1    1950  "
      ]
     },
     "execution_count": 44,
     "metadata": {},
     "output_type": "execute_result"
    }
   ],
   "source": [
    "# отдельно сохраним данные по тарифу ultra\n",
    "ultra_data = general_data[general_data.tariff == 'ultra']\n",
    "ultra_data.head()"
   ]
  },
  {
   "cell_type": "code",
   "execution_count": 45,
   "metadata": {
    "ExecuteTime": {
     "end_time": "2020-09-22T07:59:52.450988Z",
     "start_time": "2020-09-22T07:59:52.248935Z"
    },
    "scrolled": true
   },
   "outputs": [
    {
     "data": {
      "text/html": [
       "<div>\n",
       "<style scoped>\n",
       "    .dataframe tbody tr th:only-of-type {\n",
       "        vertical-align: middle;\n",
       "    }\n",
       "\n",
       "    .dataframe tbody tr th {\n",
       "        vertical-align: top;\n",
       "    }\n",
       "\n",
       "    .dataframe thead th {\n",
       "        text-align: right;\n",
       "    }\n",
       "</style>\n",
       "<table border=\"1\" class=\"dataframe\">\n",
       "  <thead>\n",
       "    <tr style=\"text-align: right;\">\n",
       "      <th></th>\n",
       "      <th>user_id</th>\n",
       "      <th>month</th>\n",
       "      <th>minutes_per_month</th>\n",
       "      <th>message_per_month</th>\n",
       "      <th>mb_per_month</th>\n",
       "      <th>tariff</th>\n",
       "      <th>city</th>\n",
       "      <th>messages_included</th>\n",
       "      <th>mb_per_month_included</th>\n",
       "      <th>minutes_included</th>\n",
       "      <th>rub_monthly_fee</th>\n",
       "      <th>rub_per_gb</th>\n",
       "      <th>rub_per_message</th>\n",
       "      <th>rub_per_minute</th>\n",
       "      <th>income</th>\n",
       "    </tr>\n",
       "  </thead>\n",
       "  <tbody>\n",
       "    <tr>\n",
       "      <th>951</th>\n",
       "      <td>1001</td>\n",
       "      <td>11</td>\n",
       "      <td>489.0</td>\n",
       "      <td>0.0</td>\n",
       "      <td>18507.0</td>\n",
       "      <td>smart</td>\n",
       "      <td>москва</td>\n",
       "      <td>50</td>\n",
       "      <td>15360</td>\n",
       "      <td>500</td>\n",
       "      <td>550</td>\n",
       "      <td>200</td>\n",
       "      <td>3</td>\n",
       "      <td>3</td>\n",
       "      <td>1350</td>\n",
       "    </tr>\n",
       "    <tr>\n",
       "      <th>952</th>\n",
       "      <td>1001</td>\n",
       "      <td>12</td>\n",
       "      <td>477.0</td>\n",
       "      <td>0.0</td>\n",
       "      <td>14094.0</td>\n",
       "      <td>smart</td>\n",
       "      <td>москва</td>\n",
       "      <td>50</td>\n",
       "      <td>15360</td>\n",
       "      <td>500</td>\n",
       "      <td>550</td>\n",
       "      <td>200</td>\n",
       "      <td>3</td>\n",
       "      <td>3</td>\n",
       "      <td>550</td>\n",
       "    </tr>\n",
       "    <tr>\n",
       "      <th>953</th>\n",
       "      <td>1002</td>\n",
       "      <td>9</td>\n",
       "      <td>242.0</td>\n",
       "      <td>4.0</td>\n",
       "      <td>16768.0</td>\n",
       "      <td>smart</td>\n",
       "      <td>стерлитамак</td>\n",
       "      <td>50</td>\n",
       "      <td>15360</td>\n",
       "      <td>500</td>\n",
       "      <td>550</td>\n",
       "      <td>200</td>\n",
       "      <td>3</td>\n",
       "      <td>3</td>\n",
       "      <td>950</td>\n",
       "    </tr>\n",
       "    <tr>\n",
       "      <th>954</th>\n",
       "      <td>1002</td>\n",
       "      <td>8</td>\n",
       "      <td>331.0</td>\n",
       "      <td>13.0</td>\n",
       "      <td>20407.0</td>\n",
       "      <td>smart</td>\n",
       "      <td>стерлитамак</td>\n",
       "      <td>50</td>\n",
       "      <td>15360</td>\n",
       "      <td>500</td>\n",
       "      <td>550</td>\n",
       "      <td>200</td>\n",
       "      <td>3</td>\n",
       "      <td>3</td>\n",
       "      <td>1550</td>\n",
       "    </tr>\n",
       "    <tr>\n",
       "      <th>955</th>\n",
       "      <td>1002</td>\n",
       "      <td>12</td>\n",
       "      <td>269.0</td>\n",
       "      <td>12.0</td>\n",
       "      <td>18199.0</td>\n",
       "      <td>smart</td>\n",
       "      <td>стерлитамак</td>\n",
       "      <td>50</td>\n",
       "      <td>15360</td>\n",
       "      <td>500</td>\n",
       "      <td>550</td>\n",
       "      <td>200</td>\n",
       "      <td>3</td>\n",
       "      <td>3</td>\n",
       "      <td>1150</td>\n",
       "    </tr>\n",
       "  </tbody>\n",
       "</table>\n",
       "</div>"
      ],
      "text/plain": [
       "     user_id  month  minutes_per_month  message_per_month  mb_per_month  \\\n",
       "951     1001     11              489.0                0.0       18507.0   \n",
       "952     1001     12              477.0                0.0       14094.0   \n",
       "953     1002      9              242.0                4.0       16768.0   \n",
       "954     1002      8              331.0               13.0       20407.0   \n",
       "955     1002     12              269.0               12.0       18199.0   \n",
       "\n",
       "    tariff         city  messages_included  mb_per_month_included  \\\n",
       "951  smart       москва                 50                  15360   \n",
       "952  smart       москва                 50                  15360   \n",
       "953  smart  стерлитамак                 50                  15360   \n",
       "954  smart  стерлитамак                 50                  15360   \n",
       "955  smart  стерлитамак                 50                  15360   \n",
       "\n",
       "     minutes_included  rub_monthly_fee  rub_per_gb  rub_per_message  \\\n",
       "951               500              550         200                3   \n",
       "952               500              550         200                3   \n",
       "953               500              550         200                3   \n",
       "954               500              550         200                3   \n",
       "955               500              550         200                3   \n",
       "\n",
       "     rub_per_minute  income  \n",
       "951               3    1350  \n",
       "952               3     550  \n",
       "953               3     950  \n",
       "954               3    1550  \n",
       "955               3    1150  "
      ]
     },
     "execution_count": 45,
     "metadata": {},
     "output_type": "execute_result"
    }
   ],
   "source": [
    "# отдельно сохраним данные по тарифу smart\n",
    "smart_data = general_data[general_data.tariff == 'smart']\n",
    "smart_data.head()"
   ]
  },
  {
   "cell_type": "markdown",
   "metadata": {},
   "source": [
    "### 3.5. Выбросы"
   ]
  },
  {
   "cell_type": "code",
   "execution_count": 46,
   "metadata": {
    "ExecuteTime": {
     "end_time": "2020-09-22T07:59:53.336161Z",
     "start_time": "2020-09-22T07:59:52.454780Z"
    }
   },
   "outputs": [
    {
     "data": {
      "image/png": "[encoded data removed]",
      "text/plain": [
       "<Figure size 1080x720 with 3 Axes>"
      ]
     },
     "metadata": {
      "needs_background": "light"
     },
     "output_type": "display_data"
    }
   ],
   "source": [
    "# посмотрим на гистограмму размаха расхода минут, сообщений и трафика в \n",
    "# месяц для тарифа ultra\n",
    "get_boxplot(ultra_data, 'ultra')"
   ]
  },
  {
   "cell_type": "markdown",
   "metadata": {},
   "source": [
    "В данных количества израсходованных минут, сообщений и трафика присутствуют выбросы. Посмотрим на их количество."
   ]
  },
  {
   "cell_type": "code",
   "execution_count": 47,
   "metadata": {
    "ExecuteTime": {
     "end_time": "2020-09-22T07:59:53.345170Z",
     "start_time": "2020-09-22T07:59:53.341459Z"
    }
   },
   "outputs": [],
   "source": [
    "before_ultra = ultra_data.shape"
   ]
  },
  {
   "cell_type": "code",
   "execution_count": 48,
   "metadata": {
    "ExecuteTime": {
     "end_time": "2020-09-22T07:59:53.428903Z",
     "start_time": "2020-09-22T07:59:53.347725Z"
    }
   },
   "outputs": [
    {
     "data": {
      "text/plain": [
       "1618.25"
      ]
     },
     "execution_count": 48,
     "metadata": {},
     "output_type": "execute_result"
    }
   ],
   "source": [
    "get_true_range(ultra_data.minutes_per_month)[1]"
   ]
  },
  {
   "cell_type": "markdown",
   "metadata": {},
   "source": [
    "Удалим выбросы из данных."
   ]
  },
  {
   "cell_type": "code",
   "execution_count": 49,
   "metadata": {
    "ExecuteTime": {
     "end_time": "2020-09-22T07:59:53.538830Z",
     "start_time": "2020-09-22T07:59:53.431558Z"
    }
   },
   "outputs": [],
   "source": [
    "# удаление выбросов\n",
    "ultra_data = drop_values(ultra_data)"
   ]
  },
  {
   "cell_type": "code",
   "execution_count": 50,
   "metadata": {
    "ExecuteTime": {
     "end_time": "2020-09-22T07:59:53.732227Z",
     "start_time": "2020-09-22T07:59:53.617465Z"
    }
   },
   "outputs": [
    {
     "name": "stdout",
     "output_type": "stream",
     "text": [
      "(951, 15)\n",
      "(944, 15)\n"
     ]
    }
   ],
   "source": [
    "# посмотрим, сколько данных выбросили\n",
    "print(before_ultra)\n",
    "print(ultra_data.shape)"
   ]
  },
  {
   "cell_type": "code",
   "execution_count": 51,
   "metadata": {
    "ExecuteTime": {
     "end_time": "2020-09-22T07:59:54.466864Z",
     "start_time": "2020-09-22T07:59:53.735630Z"
    }
   },
   "outputs": [
    {
     "data": {
      "image/png": "[encoded data removed]",
      "text/plain": [
       "<Figure size 1080x720 with 3 Axes>"
      ]
     },
     "metadata": {
      "needs_background": "light"
     },
     "output_type": "display_data"
    }
   ],
   "source": [
    "# посмотрим на гистограмму размаха расхода минут, сообщений и трафика в месяц \n",
    "# для тарифа ultra после удаления выбросов\n",
    "get_boxplot(ultra_data, 'ultra')"
   ]
  },
  {
   "cell_type": "code",
   "execution_count": 52,
   "metadata": {
    "ExecuteTime": {
     "end_time": "2020-09-22T07:59:55.179337Z",
     "start_time": "2020-09-22T07:59:54.469628Z"
    }
   },
   "outputs": [
    {
     "data": {
      "image/png": "[encoded data removed]",
      "text/plain": [
       "<Figure size 1080x720 with 3 Axes>"
      ]
     },
     "metadata": {
      "needs_background": "light"
     },
     "output_type": "display_data"
    }
   ],
   "source": [
    "# посмотрим на гистограмму размаха расхода минут, сообщений и трафика в \n",
    "# месяц для тарифа smart\n",
    "get_boxplot(smart_data, 'smart')"
   ]
  },
  {
   "cell_type": "markdown",
   "metadata": {},
   "source": [
    "Для тарифа _smart_ намного больше выбросов."
   ]
  },
  {
   "cell_type": "code",
   "execution_count": 53,
   "metadata": {
    "ExecuteTime": {
     "end_time": "2020-09-22T07:59:55.187875Z",
     "start_time": "2020-09-22T07:59:55.182413Z"
    }
   },
   "outputs": [],
   "source": [
    "# размер данных до обработки выбросов\n",
    "before_smart = smart_data.shape"
   ]
  },
  {
   "cell_type": "code",
   "execution_count": 54,
   "metadata": {
    "ExecuteTime": {
     "end_time": "2020-09-22T07:59:55.309337Z",
     "start_time": "2020-09-22T07:59:55.191389Z"
    }
   },
   "outputs": [],
   "source": [
    "# удаление выбросов\n",
    "smart_data = drop_values(smart_data)"
   ]
  },
  {
   "cell_type": "code",
   "execution_count": 55,
   "metadata": {
    "ExecuteTime": {
     "end_time": "2020-09-22T07:59:55.835394Z",
     "start_time": "2020-09-22T07:59:55.736551Z"
    }
   },
   "outputs": [
    {
     "name": "stdout",
     "output_type": "stream",
     "text": [
      "(2223, 15)\n",
      "(2164, 15)\n"
     ]
    }
   ],
   "source": [
    "print(before_smart)\n",
    "print(smart_data.shape)"
   ]
  },
  {
   "cell_type": "code",
   "execution_count": 56,
   "metadata": {
    "ExecuteTime": {
     "end_time": "2020-09-22T07:59:56.575896Z",
     "start_time": "2020-09-22T07:59:55.838573Z"
    }
   },
   "outputs": [
    {
     "data": {
      "image/png": "[encoded data removed]",
      "text/plain": [
       "<Figure size 1080x720 with 3 Axes>"
      ]
     },
     "metadata": {
      "needs_background": "light"
     },
     "output_type": "display_data"
    }
   ],
   "source": [
    "# посмотрим на гистограмму размаха расхода минут, сообщений и трафика в месяц \n",
    "# для тарифа smart после удаления выбросов\n",
    "get_boxplot(smart_data, 'smart')"
   ]
  },
  {
   "cell_type": "markdown",
   "metadata": {
    "ExecuteTime": {
     "end_time": "2020-06-24T21:13:23.781301Z",
     "start_time": "2020-06-24T21:13:23.762073Z"
    }
   },
   "source": [
    "### Вывод"
   ]
  },
  {
   "cell_type": "markdown",
   "metadata": {},
   "source": [
    "* Изменены типы данных\n",
    "* Удалены лишние столбцы\n",
    "* Проведен поиск пропусков - обнаруженные пропуски нет смсла заменять\n",
    "* Проведен поиск дубликатов - отсутствуют\n",
    "* Строковые данные приведены к согласованному виду\n",
    "* Выполнено добавление данных по месяцам для каждого пользователя:\n",
    "    * расход минут\n",
    "    * расход сообщений\n",
    "    * расход трафика\n",
    "    * общий доход\n",
    "* Данные разделены на 2 отдельные талицы для каждого тарифа\n",
    "* Для каждого тарифа удалены выбросы для количества израсходованных минут, сообщений и трафика."
   ]
  },
  {
   "cell_type": "markdown",
   "metadata": {},
   "source": [
    "## 4. Анализ"
   ]
  },
  {
   "cell_type": "markdown",
   "metadata": {},
   "source": [
    "Для оценки расхода минут, сообщений и траффика посмотрим на график _среднего_ по месяцам"
   ]
  },
  {
   "cell_type": "code",
   "execution_count": 57,
   "metadata": {
    "ExecuteTime": {
     "end_time": "2020-09-22T07:59:57.455827Z",
     "start_time": "2020-09-22T07:59:56.585528Z"
    }
   },
   "outputs": [
    {
     "data": {
      "image/png": "[encoded data removed]",
      "text/plain": [
       "<Figure size 1080x432 with 3 Axes>"
      ]
     },
     "metadata": {
      "needs_background": "light"
     },
     "output_type": "display_data"
    }
   ],
   "source": [
    "# посторим графики для каждого тарифа по месяцам для демонстрации расхода \n",
    "# минут, сообщений и трафика\n",
    "\n",
    "fig, axs = plt.subplots(1, 3, figsize=(15,6))\n",
    "\n",
    "for ax, point in zip(axs, ['minutes_per_month', 'message_per_month', 'mb_per_month']):\n",
    "    udata = ultra_data.groupby('month')[[point]].mean()\n",
    "    sdata = smart_data.groupby('month')[[point]].mean()\n",
    "    \n",
    "    for df, lb in zip([udata, sdata], ['ultra', 'smart']):\n",
    "        ax.plot(df, label=lb)\n",
    "        ax.set_ylabel(point)\n",
    "        ax.set_xlabel('month')\n",
    "        ax.legend(loc=\"upper left\")\n",
    "        \n",
    "fig.tight_layout()"
   ]
  },
  {
   "cell_type": "markdown",
   "metadata": {},
   "source": [
    "Из графиков видно:\n",
    "* для каждого тарифа в течение года расход минут, сообщений и трафика возрастает\n",
    "* для тарифа _ultra_ расход услуг возрастает стремительнее, сем для _smart_\n",
    "\n",
    "Посмотрим, сколько минут разговора, сообщений и какой объём интернет-трафика требуется пользователям каждого тарифа в месяц."
   ]
  },
  {
   "cell_type": "code",
   "execution_count": 58,
   "metadata": {
    "ExecuteTime": {
     "end_time": "2020-09-22T07:59:57.491673Z",
     "start_time": "2020-09-22T07:59:57.458394Z"
    }
   },
   "outputs": [
    {
     "data": {
      "text/html": [
       "<div>\n",
       "<style scoped>\n",
       "    .dataframe tbody tr th:only-of-type {\n",
       "        vertical-align: middle;\n",
       "    }\n",
       "\n",
       "    .dataframe tbody tr th {\n",
       "        vertical-align: top;\n",
       "    }\n",
       "\n",
       "    .dataframe thead th {\n",
       "        text-align: right;\n",
       "    }\n",
       "</style>\n",
       "<table border=\"1\" class=\"dataframe\">\n",
       "  <thead>\n",
       "    <tr style=\"text-align: right;\">\n",
       "      <th></th>\n",
       "      <th>minutes_per_month</th>\n",
       "      <th>message_per_month</th>\n",
       "      <th>mb_per_month</th>\n",
       "    </tr>\n",
       "  </thead>\n",
       "  <tbody>\n",
       "    <tr>\n",
       "      <th>count</th>\n",
       "      <td>944.000000</td>\n",
       "      <td>944.000000</td>\n",
       "      <td>944.000000</td>\n",
       "    </tr>\n",
       "    <tr>\n",
       "      <th>mean</th>\n",
       "      <td>618.003178</td>\n",
       "      <td>48.322034</td>\n",
       "      <td>19453.939619</td>\n",
       "    </tr>\n",
       "    <tr>\n",
       "      <th>std</th>\n",
       "      <td>343.737136</td>\n",
       "      <td>45.813839</td>\n",
       "      <td>10070.955049</td>\n",
       "    </tr>\n",
       "    <tr>\n",
       "      <th>min</th>\n",
       "      <td>1.000000</td>\n",
       "      <td>0.000000</td>\n",
       "      <td>0.000000</td>\n",
       "    </tr>\n",
       "    <tr>\n",
       "      <th>25%</th>\n",
       "      <td>354.750000</td>\n",
       "      <td>5.000000</td>\n",
       "      <td>11674.750000</td>\n",
       "    </tr>\n",
       "    <tr>\n",
       "      <th>50%</th>\n",
       "      <td>603.000000</td>\n",
       "      <td>39.000000</td>\n",
       "      <td>19367.000000</td>\n",
       "    </tr>\n",
       "    <tr>\n",
       "      <th>75%</th>\n",
       "      <td>859.250000</td>\n",
       "      <td>78.000000</td>\n",
       "      <td>26861.500000</td>\n",
       "    </tr>\n",
       "    <tr>\n",
       "      <th>max</th>\n",
       "      <td>1586.000000</td>\n",
       "      <td>190.000000</td>\n",
       "      <td>48488.000000</td>\n",
       "    </tr>\n",
       "  </tbody>\n",
       "</table>\n",
       "</div>"
      ],
      "text/plain": [
       "       minutes_per_month  message_per_month  mb_per_month\n",
       "count         944.000000         944.000000    944.000000\n",
       "mean          618.003178          48.322034  19453.939619\n",
       "std           343.737136          45.813839  10070.955049\n",
       "min             1.000000           0.000000      0.000000\n",
       "25%           354.750000           5.000000  11674.750000\n",
       "50%           603.000000          39.000000  19367.000000\n",
       "75%           859.250000          78.000000  26861.500000\n",
       "max          1586.000000         190.000000  48488.000000"
      ]
     },
     "execution_count": 58,
     "metadata": {},
     "output_type": "execute_result"
    }
   ],
   "source": [
    "# описательная статистика тарифа ultra\n",
    "ultra_data[['minutes_per_month', 'message_per_month', 'mb_per_month']].describe()"
   ]
  },
  {
   "cell_type": "code",
   "execution_count": 59,
   "metadata": {
    "ExecuteTime": {
     "end_time": "2020-09-22T07:59:57.669836Z",
     "start_time": "2020-09-22T07:59:57.494869Z"
    }
   },
   "outputs": [
    {
     "data": {
      "text/html": [
       "<div>\n",
       "<style scoped>\n",
       "    .dataframe tbody tr th:only-of-type {\n",
       "        vertical-align: middle;\n",
       "    }\n",
       "\n",
       "    .dataframe tbody tr th {\n",
       "        vertical-align: top;\n",
       "    }\n",
       "\n",
       "    .dataframe thead th {\n",
       "        text-align: right;\n",
       "    }\n",
       "</style>\n",
       "<table border=\"1\" class=\"dataframe\">\n",
       "  <thead>\n",
       "    <tr style=\"text-align: right;\">\n",
       "      <th></th>\n",
       "      <th>minutes_per_month</th>\n",
       "      <th>message_per_month</th>\n",
       "      <th>mb_per_month</th>\n",
       "    </tr>\n",
       "  </thead>\n",
       "  <tbody>\n",
       "    <tr>\n",
       "      <th>count</th>\n",
       "      <td>2164.000000</td>\n",
       "      <td>2164.000000</td>\n",
       "      <td>2164.00000</td>\n",
       "    </tr>\n",
       "    <tr>\n",
       "      <th>mean</th>\n",
       "      <td>476.688540</td>\n",
       "      <td>33.064233</td>\n",
       "      <td>16300.75647</td>\n",
       "    </tr>\n",
       "    <tr>\n",
       "      <th>std</th>\n",
       "      <td>204.949464</td>\n",
       "      <td>27.252353</td>\n",
       "      <td>5534.04260</td>\n",
       "    </tr>\n",
       "    <tr>\n",
       "      <th>min</th>\n",
       "      <td>1.000000</td>\n",
       "      <td>0.000000</td>\n",
       "      <td>1605.00000</td>\n",
       "    </tr>\n",
       "    <tr>\n",
       "      <th>25%</th>\n",
       "      <td>327.000000</td>\n",
       "      <td>10.000000</td>\n",
       "      <td>12802.50000</td>\n",
       "    </tr>\n",
       "    <tr>\n",
       "      <th>50%</th>\n",
       "      <td>484.000000</td>\n",
       "      <td>28.000000</td>\n",
       "      <td>16552.50000</td>\n",
       "    </tr>\n",
       "    <tr>\n",
       "      <th>75%</th>\n",
       "      <td>620.000000</td>\n",
       "      <td>51.000000</td>\n",
       "      <td>20069.00000</td>\n",
       "    </tr>\n",
       "    <tr>\n",
       "      <th>max</th>\n",
       "      <td>1059.000000</td>\n",
       "      <td>112.000000</td>\n",
       "      <td>31209.00000</td>\n",
       "    </tr>\n",
       "  </tbody>\n",
       "</table>\n",
       "</div>"
      ],
      "text/plain": [
       "       minutes_per_month  message_per_month  mb_per_month\n",
       "count        2164.000000        2164.000000    2164.00000\n",
       "mean          476.688540          33.064233   16300.75647\n",
       "std           204.949464          27.252353    5534.04260\n",
       "min             1.000000           0.000000    1605.00000\n",
       "25%           327.000000          10.000000   12802.50000\n",
       "50%           484.000000          28.000000   16552.50000\n",
       "75%           620.000000          51.000000   20069.00000\n",
       "max          1059.000000         112.000000   31209.00000"
      ]
     },
     "execution_count": 59,
     "metadata": {},
     "output_type": "execute_result"
    }
   ],
   "source": [
    "# описательная статистика тарифа smart\n",
    "smart_data[['minutes_per_month', 'message_per_month', 'mb_per_month']].describe()"
   ]
  },
  {
   "cell_type": "markdown",
   "metadata": {},
   "source": [
    "Из описания данных следует:\n",
    "* для _ultra_ абоненты используют:\n",
    "    * от 1 до 1586 минут, в среднем - 618 мин.\n",
    "    * от 0 до 190 сообщений, в среднем - 48 сообщений\n",
    "    * от 0 до 48488 МБ, в среднем - 19454 МБ трафика\n",
    "    \n",
    "    \n",
    "* для _smart_ пользователи расходуют:\n",
    "    * от 1 до 1059 минуты, в среднем - 477 мин.\n",
    "    * от 0 до 112 сообщений, в среднем - 33 сообщений\n",
    "    * от 0 до 31209 МБ, в среднем - 16300 МБ трафика"
   ]
  },
  {
   "cell_type": "markdown",
   "metadata": {},
   "source": [
    "Посчитаем среднее количество, дисперсию и стандартное отклонение для каждой услуги каждого тарифа."
   ]
  },
  {
   "cell_type": "code",
   "execution_count": 60,
   "metadata": {
    "ExecuteTime": {
     "end_time": "2020-09-22T07:59:57.763886Z",
     "start_time": "2020-09-22T07:59:57.672838Z"
    }
   },
   "outputs": [
    {
     "data": {
      "text/html": [
       "<div>\n",
       "<style scoped>\n",
       "    .dataframe tbody tr th:only-of-type {\n",
       "        vertical-align: middle;\n",
       "    }\n",
       "\n",
       "    .dataframe tbody tr th {\n",
       "        vertical-align: top;\n",
       "    }\n",
       "\n",
       "    .dataframe thead th {\n",
       "        text-align: right;\n",
       "    }\n",
       "</style>\n",
       "<table border=\"1\" class=\"dataframe\">\n",
       "  <thead>\n",
       "    <tr style=\"text-align: right;\">\n",
       "      <th></th>\n",
       "      <th>minutes_per_month</th>\n",
       "      <th>message_per_month</th>\n",
       "      <th>mb_per_month</th>\n",
       "    </tr>\n",
       "  </thead>\n",
       "  <tbody>\n",
       "    <tr>\n",
       "      <th>mean</th>\n",
       "      <td>618.003178</td>\n",
       "      <td>48.322034</td>\n",
       "      <td>1.945394e+04</td>\n",
       "    </tr>\n",
       "    <tr>\n",
       "      <th>var</th>\n",
       "      <td>118155.218442</td>\n",
       "      <td>2098.907849</td>\n",
       "      <td>1.014241e+08</td>\n",
       "    </tr>\n",
       "    <tr>\n",
       "      <th>std</th>\n",
       "      <td>343.737136</td>\n",
       "      <td>45.813839</td>\n",
       "      <td>1.007096e+04</td>\n",
       "    </tr>\n",
       "  </tbody>\n",
       "</table>\n",
       "</div>"
      ],
      "text/plain": [
       "      minutes_per_month  message_per_month  mb_per_month\n",
       "mean         618.003178          48.322034  1.945394e+04\n",
       "var       118155.218442        2098.907849  1.014241e+08\n",
       "std          343.737136          45.813839  1.007096e+04"
      ]
     },
     "execution_count": 60,
     "metadata": {},
     "output_type": "execute_result"
    }
   ],
   "source": [
    "ultra_data[['minutes_per_month', 'message_per_month', 'mb_per_month']].apply(\n",
    "    [np.mean, np.var, np.std])"
   ]
  },
  {
   "cell_type": "code",
   "execution_count": 61,
   "metadata": {
    "ExecuteTime": {
     "end_time": "2020-09-22T07:59:57.880309Z",
     "start_time": "2020-09-22T07:59:57.773777Z"
    }
   },
   "outputs": [
    {
     "data": {
      "text/html": [
       "<div>\n",
       "<style scoped>\n",
       "    .dataframe tbody tr th:only-of-type {\n",
       "        vertical-align: middle;\n",
       "    }\n",
       "\n",
       "    .dataframe tbody tr th {\n",
       "        vertical-align: top;\n",
       "    }\n",
       "\n",
       "    .dataframe thead th {\n",
       "        text-align: right;\n",
       "    }\n",
       "</style>\n",
       "<table border=\"1\" class=\"dataframe\">\n",
       "  <thead>\n",
       "    <tr style=\"text-align: right;\">\n",
       "      <th></th>\n",
       "      <th>minutes_per_month</th>\n",
       "      <th>message_per_month</th>\n",
       "      <th>mb_per_month</th>\n",
       "    </tr>\n",
       "  </thead>\n",
       "  <tbody>\n",
       "    <tr>\n",
       "      <th>mean</th>\n",
       "      <td>476.688540</td>\n",
       "      <td>33.064233</td>\n",
       "      <td>1.630076e+04</td>\n",
       "    </tr>\n",
       "    <tr>\n",
       "      <th>var</th>\n",
       "      <td>42004.282975</td>\n",
       "      <td>742.690740</td>\n",
       "      <td>3.062563e+07</td>\n",
       "    </tr>\n",
       "    <tr>\n",
       "      <th>std</th>\n",
       "      <td>204.949464</td>\n",
       "      <td>27.252353</td>\n",
       "      <td>5.534043e+03</td>\n",
       "    </tr>\n",
       "  </tbody>\n",
       "</table>\n",
       "</div>"
      ],
      "text/plain": [
       "      minutes_per_month  message_per_month  mb_per_month\n",
       "mean         476.688540          33.064233  1.630076e+04\n",
       "var        42004.282975         742.690740  3.062563e+07\n",
       "std          204.949464          27.252353  5.534043e+03"
      ]
     },
     "execution_count": 61,
     "metadata": {},
     "output_type": "execute_result"
    }
   ],
   "source": [
    "smart_data[['minutes_per_month', 'message_per_month', 'mb_per_month']].apply(\n",
    "    [np.mean, np.var, np.std])"
   ]
  },
  {
   "cell_type": "markdown",
   "metadata": {},
   "source": [
    " Посмотрим гистограммы для каждой услуги каждого тарифа."
   ]
  },
  {
   "cell_type": "code",
   "execution_count": 62,
   "metadata": {
    "ExecuteTime": {
     "end_time": "2020-09-22T07:59:59.826306Z",
     "start_time": "2020-09-22T07:59:57.885473Z"
    }
   },
   "outputs": [
    {
     "data": {
      "image/png": "[encoded data removed]",
      "text/plain": [
       "<Figure size 1224x720 with 6 Axes>"
      ]
     },
     "metadata": {
      "needs_background": "light"
     },
     "output_type": "display_data"
    }
   ],
   "source": [
    "# посмотрим на гистограмму распределения расхода минут, сообщений и трафика \n",
    "# в месяц для двух тарифов\n",
    "\n",
    "fig, axs = plt.subplots(2, 3, figsize=(17,10))\n",
    "i = 0\n",
    "\n",
    "for tariff, df in zip(['ultra', 'smart'], [ultra_data, smart_data]):\n",
    "    for j, point in enumerate(['minutes_per_month', 'message_per_month', 'mb_per_month']):\n",
    "        data = df[[point]]\n",
    "        get_figure([data], [tariff], 'hist', tariff, axs[i,j], legend=True)\n",
    "    i += 1\n",
    "\n",
    "fig.tight_layout()"
   ]
  },
  {
   "cell_type": "markdown",
   "metadata": {},
   "source": [
    "### Вывод"
   ]
  },
  {
   "cell_type": "markdown",
   "metadata": {
    "ExecuteTime": {
     "end_time": "2020-06-25T19:15:17.748168Z",
     "start_time": "2020-06-25T19:15:17.627908Z"
    }
   },
   "source": [
    "Видно, что поведение при использовании каждой услуги поведение пользователей примерно одинаковое:\n",
    "* использование пакета минут стремится к нормальному распределению, однако медиана у тарифа _ultra_ больше\n",
    "* использование интренет-трафика также стремится к нормальному распределению аналогично использованию минут\n",
    "* расход сообщений чаще всего приходится на количество от 0 до 15 сообщений - наименее активно используемая услуга"
   ]
  },
  {
   "cell_type": "markdown",
   "metadata": {},
   "source": [
    "## 5. Проверка гипотез"
   ]
  },
  {
   "cell_type": "markdown",
   "metadata": {},
   "source": [
    "### 5.1. Средняя выручка пользователей тарифов «Ультра» и «Смарт» различается"
   ]
  },
  {
   "cell_type": "markdown",
   "metadata": {},
   "source": [
    "Сформулируем _нулевую_ гипотезу: \"Средняя выручка пользователей тарифов «Ультра» и «Смарт» равна\". Тест будет осуществляться как сравнение двух средних, так как сравниваем две выборки по средним.\n",
    "\n",
    "Сформулируем _альтернативную_ гипотезу: \"Средняя выручка пользователей тарифов «Ультра» и «Смарт» различается\". "
   ]
  },
  {
   "cell_type": "code",
   "execution_count": 63,
   "metadata": {
    "ExecuteTime": {
     "end_time": "2020-09-22T07:59:59.845110Z",
     "start_time": "2020-09-22T07:59:59.829563Z"
    }
   },
   "outputs": [
    {
     "data": {
      "text/html": [
       "<div>\n",
       "<style scoped>\n",
       "    .dataframe tbody tr th:only-of-type {\n",
       "        vertical-align: middle;\n",
       "    }\n",
       "\n",
       "    .dataframe tbody tr th {\n",
       "        vertical-align: top;\n",
       "    }\n",
       "\n",
       "    .dataframe thead th {\n",
       "        text-align: right;\n",
       "    }\n",
       "</style>\n",
       "<table border=\"1\" class=\"dataframe\">\n",
       "  <thead>\n",
       "    <tr style=\"text-align: right;\">\n",
       "      <th></th>\n",
       "      <th>income</th>\n",
       "    </tr>\n",
       "  </thead>\n",
       "  <tbody>\n",
       "    <tr>\n",
       "      <th>mean</th>\n",
       "      <td>2067.584746</td>\n",
       "    </tr>\n",
       "    <tr>\n",
       "      <th>var</th>\n",
       "      <td>136334.139152</td>\n",
       "    </tr>\n",
       "    <tr>\n",
       "      <th>std</th>\n",
       "      <td>369.234531</td>\n",
       "    </tr>\n",
       "  </tbody>\n",
       "</table>\n",
       "</div>"
      ],
      "text/plain": [
       "             income\n",
       "mean    2067.584746\n",
       "var   136334.139152\n",
       "std      369.234531"
      ]
     },
     "execution_count": 63,
     "metadata": {},
     "output_type": "execute_result"
    }
   ],
   "source": [
    "ultra_data[['income']].apply([np.mean, np.var, np.std])"
   ]
  },
  {
   "cell_type": "code",
   "execution_count": 64,
   "metadata": {
    "ExecuteTime": {
     "end_time": "2020-09-22T07:59:59.944879Z",
     "start_time": "2020-09-22T07:59:59.848042Z"
    }
   },
   "outputs": [
    {
     "data": {
      "text/html": [
       "<div>\n",
       "<style scoped>\n",
       "    .dataframe tbody tr th:only-of-type {\n",
       "        vertical-align: middle;\n",
       "    }\n",
       "\n",
       "    .dataframe tbody tr th {\n",
       "        vertical-align: top;\n",
       "    }\n",
       "\n",
       "    .dataframe thead th {\n",
       "        text-align: right;\n",
       "    }\n",
       "</style>\n",
       "<table border=\"1\" class=\"dataframe\">\n",
       "  <thead>\n",
       "    <tr style=\"text-align: right;\">\n",
       "      <th></th>\n",
       "      <th>income</th>\n",
       "    </tr>\n",
       "  </thead>\n",
       "  <tbody>\n",
       "    <tr>\n",
       "      <th>mean</th>\n",
       "      <td>1.572623e+03</td>\n",
       "    </tr>\n",
       "    <tr>\n",
       "      <th>var</th>\n",
       "      <td>1.015233e+06</td>\n",
       "    </tr>\n",
       "    <tr>\n",
       "      <th>std</th>\n",
       "      <td>1.007588e+03</td>\n",
       "    </tr>\n",
       "  </tbody>\n",
       "</table>\n",
       "</div>"
      ],
      "text/plain": [
       "            income\n",
       "mean  1.572623e+03\n",
       "var   1.015233e+06\n",
       "std   1.007588e+03"
      ]
     },
     "execution_count": 64,
     "metadata": {},
     "output_type": "execute_result"
    }
   ],
   "source": [
    "smart_data[['income']].apply([np.mean, np.var, np.std])"
   ]
  },
  {
   "cell_type": "markdown",
   "metadata": {
    "ExecuteTime": {
     "end_time": "2020-06-29T07:39:02.593697Z",
     "start_time": "2020-06-29T07:39:02.588206Z"
    }
   },
   "source": [
    "Посмотрим на распределение выручки для тарифов \"Ультра\" и \"Смарт\"."
   ]
  },
  {
   "cell_type": "code",
   "execution_count": 65,
   "metadata": {
    "ExecuteTime": {
     "end_time": "2020-09-22T08:00:00.659839Z",
     "start_time": "2020-09-22T07:59:59.947966Z"
    }
   },
   "outputs": [
    {
     "data": {
      "image/png": "[encoded data removed]",
      "text/plain": [
       "<Figure size 1080x432 with 1 Axes>"
      ]
     },
     "metadata": {
      "needs_background": "light"
     },
     "output_type": "display_data"
    }
   ],
   "source": [
    "ax = ultra_data.income.plot.kde(figsize=(15,6));\n",
    "smart_data.income.plot.kde(ax=ax);\n",
    "ax.legend(['ultra income', 'smart income'])\n",
    "ax.set_title('Распределение выручки для тарифов \"Ультра\" и \"Смарт\"');"
   ]
  },
  {
   "cell_type": "markdown",
   "metadata": {},
   "source": [
    "Для обоих тарифов распределение нормальное, данные количественные и значения друг от друга не зависят, нулевая гипотеза - двухсторонняя, поэтому можем применить t-критерий Стьюдента."
   ]
  },
  {
   "cell_type": "code",
   "execution_count": 66,
   "metadata": {
    "ExecuteTime": {
     "end_time": "2020-09-22T08:00:00.670754Z",
     "start_time": "2020-09-22T08:00:00.662883Z"
    }
   },
   "outputs": [
    {
     "name": "stdout",
     "output_type": "stream",
     "text": [
      "p-value: 3.7488761397524414e-47\n",
      "Отвергаем нулевую гипотезу\n"
     ]
    }
   ],
   "source": [
    "# проверим нулевую гипотезу\n",
    "check_null_hypothesis(ultra_data.income, smart_data.income)"
   ]
  },
  {
   "cell_type": "markdown",
   "metadata": {},
   "source": [
    "Нулевую гипотезу отвергли,соответственно имеет место альтернативная - \"Средняя выручка пользователей тарифов «Ультра» и «Смарт» различается\" ( по значениям средних видно, что у \"Ультра\" больше)."
   ]
  },
  {
   "cell_type": "markdown",
   "metadata": {},
   "source": [
    "### 5.2.  Средняя выручка пользователей из Москвы отличается от выручки пользователей из других регионов"
   ]
  },
  {
   "cell_type": "markdown",
   "metadata": {},
   "source": [
    "Сформулируем _нулевую_ гипотезу: \"Средняя выручка пользователей из Москвы равна выручке пользователей из других регионов\". Тест будет осуществляться как сравнение двух средних, так как сравниваем две выборки по средним.\n",
    "\n",
    "Сформулируем _альтернативную_ гипотезу: \"Средняя выручка пользователей из Москвы отличается от выручки пользователей из других регионов\". "
   ]
  },
  {
   "cell_type": "code",
   "execution_count": 67,
   "metadata": {
    "ExecuteTime": {
     "end_time": "2020-09-22T08:00:00.837236Z",
     "start_time": "2020-09-22T08:00:00.673437Z"
    }
   },
   "outputs": [
    {
     "data": {
      "text/html": [
       "<div>\n",
       "<style scoped>\n",
       "    .dataframe tbody tr th:only-of-type {\n",
       "        vertical-align: middle;\n",
       "    }\n",
       "\n",
       "    .dataframe tbody tr th {\n",
       "        vertical-align: top;\n",
       "    }\n",
       "\n",
       "    .dataframe thead th {\n",
       "        text-align: right;\n",
       "    }\n",
       "</style>\n",
       "<table border=\"1\" class=\"dataframe\">\n",
       "  <thead>\n",
       "    <tr style=\"text-align: right;\">\n",
       "      <th></th>\n",
       "      <th>city</th>\n",
       "      <th>income</th>\n",
       "    </tr>\n",
       "  </thead>\n",
       "  <tbody>\n",
       "    <tr>\n",
       "      <th>1759</th>\n",
       "      <td>москва</td>\n",
       "      <td>1750</td>\n",
       "    </tr>\n",
       "    <tr>\n",
       "      <th>1571</th>\n",
       "      <td>архангельск</td>\n",
       "      <td>1380</td>\n",
       "    </tr>\n",
       "    <tr>\n",
       "      <th>2955</th>\n",
       "      <td>набережные челны</td>\n",
       "      <td>3090</td>\n",
       "    </tr>\n",
       "    <tr>\n",
       "      <th>62</th>\n",
       "      <td>новокузнецк</td>\n",
       "      <td>1950</td>\n",
       "    </tr>\n",
       "    <tr>\n",
       "      <th>2686</th>\n",
       "      <td>орёл</td>\n",
       "      <td>550</td>\n",
       "    </tr>\n",
       "  </tbody>\n",
       "</table>\n",
       "</div>"
      ],
      "text/plain": [
       "                  city  income\n",
       "1759            москва    1750\n",
       "1571       архангельск    1380\n",
       "2955  набережные челны    3090\n",
       "62         новокузнецк    1950\n",
       "2686              орёл     550"
      ]
     },
     "execution_count": 67,
     "metadata": {},
     "output_type": "execute_result"
    }
   ],
   "source": [
    "# из 2 таблиц выбираем данные о доходе и городе, соединяем в одну талицу\n",
    "ultra_income = ultra_data[['city', 'income']]\n",
    "smart_income = smart_data[['city', 'income']]\n",
    "city_income = pd.concat([ultra_income, smart_income])\n",
    "city_income.sample(5)"
   ]
  },
  {
   "cell_type": "code",
   "execution_count": 68,
   "metadata": {
    "ExecuteTime": {
     "end_time": "2020-09-22T08:00:00.953548Z",
     "start_time": "2020-09-22T08:00:00.840577Z"
    }
   },
   "outputs": [],
   "source": [
    "# разделим данные на москву и не москву\n",
    "moscow_income = city_income[city_income.city == 'москва']\n",
    "other_income = city_income[city_income.city != 'москва']"
   ]
  },
  {
   "cell_type": "code",
   "execution_count": 69,
   "metadata": {
    "ExecuteTime": {
     "end_time": "2020-09-22T08:00:01.059713Z",
     "start_time": "2020-09-22T08:00:00.956424Z"
    }
   },
   "outputs": [
    {
     "name": "stdout",
     "output_type": "stream",
     "text": [
      "p-value: 0.923272886397166\n",
      "Не удалось отвергнуть нулевую гипотезу\n"
     ]
    }
   ],
   "source": [
    "# проверка нулевой гипотезы\n",
    "check_null_hypothesis(moscow_income.income, other_income.income)"
   ]
  },
  {
   "cell_type": "code",
   "execution_count": 70,
   "metadata": {
    "ExecuteTime": {
     "end_time": "2020-09-22T08:00:01.151241Z",
     "start_time": "2020-09-22T08:00:01.065690Z"
    }
   },
   "outputs": [
    {
     "name": "stdout",
     "output_type": "stream",
     "text": [
      "1726.102479338843 1722.1989612465043\n"
     ]
    }
   ],
   "source": [
    "# посмотрим на  средние\n",
    "print(moscow_income.income.mean(), other_income.income.mean())"
   ]
  },
  {
   "cell_type": "markdown",
   "metadata": {},
   "source": [
    "**Вывод**\n",
    "\n",
    "Согласно посавленной задаче сфомулированы 2 нулевые гипотезы:\n",
    "1. \"Средняя выручка пользователей тарифов «Ультра» и «Смарт» равны\" - гипотеза отвергнута. Соответственно, можно предположить, что верна альтернативная гипотеза \"Средняя выручка пользователей тарифов «Ультра» и «Смарт» различается\" - больше или меньше.\n",
    "\n",
    "\n",
    "2. \"Средняя выручка пользователей из Москвы равна выручке пользователей из других регионов\" - не получилось отвергнуть гипотезу. Соответственно, средний доход по Москве и другим города примерно одинаковый - 1482 и  1440 (при стандартное отклонение 718)."
   ]
  },
  {
   "cell_type": "markdown",
   "metadata": {},
   "source": [
    "## 6. Общий вывод\n",
    "\n",
    "При подготовке данных выполнено:\n",
    "* преобразование типов данных;\n",
    "* удаление лишних столбцов;\n",
    "* поиск пропусков (обнаруженные пропуски нет смсла заменять);\n",
    "* поиск дубликатов;\n",
    "* приведение строковых данных к согласованному виду;\n",
    "* добавление расхода услуг по месяцам для каждого пользователя;\n",
    "* разделение данных на 2 отдельные талицы для каждого тарифа;\n",
    "* удалены выбросы.\n",
    "\n",
    "Из анализа выяснено:\n",
    "* использование пакета минут, интренет-трафика стремится к нормальному распределению;\n",
    "* расход сообщений чаще всего приходится на количество от 0 до 15 сообщений - наименее активно используемая услуга.\n",
    "\n",
    "Согласно поставленной задаче сформулированы и проверены 2 нулевые гипотезы:\n",
    "1. \"Средняя выручка пользователей тарифов «Ультра» и «Смарт» равны\" - гипотеза отвергнута.\n",
    "2. \"Средняя выручка пользователей из Москвы равна выручке пользователей из других регионов\" - не удалось отвергнуть гипотезу.\n",
    "\n",
    "Согласно результатам, средняя выручка ultra,больше средней выручки smart. Поэтому предолагаем, что тариф _ultra_ выгоднее с точки зрения прибыли."
   ]
  }
 ],
 "metadata": {
  "kernelspec": {
   "display_name": "Python 3",
   "language": "python",
   "name": "python3"
  },
  "language_info": {
   "codemirror_mode": {
    "name": "ipython",
    "version": 3
   },
   "file_extension": ".py",
   "mimetype": "text/x-python",
   "name": "python",
   "nbconvert_exporter": "python",
   "pygments_lexer": "ipython3",
   "version": "3.7.6"
  },
  "toc": {
   "base_numbering": 1,
   "nav_menu": {},
   "number_sections": false,
   "sideBar": true,
   "skip_h1_title": false,
   "title_cell": "Table of Contents",
   "title_sidebar": "Contents",
   "toc_cell": false,
   "toc_position": {
    "height": "calc(100% - 180px)",
    "left": "10px",
    "top": "150px",
    "width": "384px"
   },
   "toc_section_display": true,
   "toc_window_display": false
  }
 },
 "nbformat": 4,
 "nbformat_minor": 2
}
